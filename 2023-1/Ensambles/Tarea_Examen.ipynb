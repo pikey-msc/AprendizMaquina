{
  "nbformat": 4,
  "nbformat_minor": 0,
  "metadata": {
    "colab": {
      "provenance": [],
      "authorship_tag": "ABX9TyMJ+zVl36FCYlGOPkU72L85",
      "include_colab_link": true
    },
    "kernelspec": {
      "name": "python3",
      "display_name": "Python 3"
    },
    "language_info": {
      "name": "python"
    }
  },
  "cells": [
    {
      "cell_type": "markdown",
      "metadata": {
        "id": "view-in-github",
        "colab_type": "text"
      },
      "source": [
        "<a href=\"https://colab.research.google.com/github/pikey-msc/AprendizMaquina/blob/main/2023-1/Ensambles/Tarea_Examen.ipynb\" target=\"_parent\"><img src=\"https://colab.research.google.com/assets/colab-badge.svg\" alt=\"Open In Colab\"/></a>"
      ]
    },
    {
      "cell_type": "markdown",
      "source": [
        "#Tarea Examen: Ensambles\n",
        "\n",
        "Usar la información del recurso compartido: \n",
        "[tabla](https://drive.google.com/file/d/1d_6NAH5NRkZYz80gxUakRvFYEcCt77rM/view?usp=sharing) con nombre Tabla_integrada-cliente.csv (que es la tabla principal)\n",
        "tomar en cuenta que el conjunto de entrenamiento y pruebas es el conjunto Omega_SC, y el conjunto de validación es Omega_SC_delta\n",
        "\n",
        "Este archivo es una construcción de una entidad financiera, se agregan datos a nivel crédito y a nivel cliente, alguans variables están agregadas y tienen un sufijo de suma, mínimo, máximo, desviación, etc.\n",
        "\n",
        "La variable respuesta es IM.\n",
        "\n",
        "Utilizar las variables propuestas como reducción:"
      ],
      "metadata": {
        "id": "VFPVnCNhan0g"
      }
    },
    {
      "cell_type": "code",
      "source": [
        "VarMod=['cliente',\n",
        "'creditocount',\n",
        "'Amo_Vencidaslastmean',\n",
        "'Amo_Vencidasmaxmax',\n",
        "'Saldo_Insolutolastsum',\n",
        "'Bucket_Ajustado_Prelastlast',\n",
        "'Flag_Carteramaxmean',\n",
        "'Capital_Dispersadolastsum',\n",
        "'Tasa_Intereslastweighted_mean',\n",
        "'Plazolastweighted_mean',\n",
        "'Frecuencia_de_cobromean',\n",
        "'Antiguedad_en_Trabajolastlast',\n",
        "'Antiguedad_en_Viviendalastlast',\n",
        "'Estado_civillastlast',\n",
        "'Generolastlast',\n",
        "'Cliente_Edadlastlast',\n",
        "'Banco_Actuallastlast',\n",
        "'Girolastlast',\n",
        "'EntidadFederativalastlast',\n",
        "'EntidadPagadoralastlast',\n",
        "'Afiliadolastlast',\n",
        "'Periodo_Politicameanlast',\n",
        "'Ingreso_bruto_mlastlast',\n",
        "'Ingreso_neto_mlastlast',\n",
        "'Erogacion_mlastsum',\n",
        "'Cesionsumsum',\n",
        "'Defuncionsumsum',\n",
        "'Fraudesumsum',\n",
        "'Morosidadsumsum',\n",
        "'Reversosumsum',\n",
        "'Flag_Renovadomaxsum',\n",
        "'Saldo_Capital_Liquidadosumsum',\n",
        "'DOMIsumsum',\n",
        "'INTENsumsum',\n",
        "'OTROSsumsum',\n",
        "'REVERSOSsumsum',\n",
        "'Total_QVmeansum',\n",
        "'Total_QVmaxsum',\n",
        "'Nivel_Relacionlastlast',\n",
        "'Flag_Promesasumsum',\n",
        "'Flag_Visitasumsum',\n",
        "'Flag_Contactosumsum',\n",
        "'Flag_ContactoClientesumsum',\n",
        "'Clasificacioncountsumsum',\n",
        "'BC SCORElastlast',\n",
        "'ICClastlast',\n",
        "'CBamaxmaxmax',\n",
        "'NPDsumlastlast',\n",
        "'MOP_12amaxlastlast',\n",
        "'MOP_6amaxlastlast',\n",
        "'MOP_3amaxlastlast',\n",
        "'HCamaxlastlast',\n",
        "'POSTED_DATEcountmeanmean',\n",
        "'PCDCsumlastlast',\n",
        "'PCDTSDsumlastlast',\n",
        "'MNClastlast',\n",
        "'MNCSMlastlast',\n",
        "'MNCSMmeanlast',\n",
        "'MontoIncobsum',\n",
        "'idpago_inmean',\n",
        "'idpago_mpmean',\n",
        "'pct_po_mpmean',\n",
        "'idpago_mpdmean',\n",
        "'pct_po_mpdmean',\n",
        "'idpago_remean',\n",
        "'idpago_limean',\n",
        "'idpago_dimean',\n",
        "'Flag_Saldadosum',\n",
        "'PlaReallastweighted_mean',\n",
        "'TPPlastweighted_mean',\n",
        "'Banco_de_cobrolast<lambda>',\n",
        "'creditoElectronico',\n",
        "'creditoIMSS',\n",
        "'creditoNomina',\n",
        "'creditoPemex',\n",
        "'creditoConsolidacion',\n",
        "'creditoNuevo',\n",
        "'creditoPaga Deuda',\n",
        "'creditoRenovacion',\n",
        "'creditoSubsecuente',\n",
        "'IM',\n",
        "'FPD',\n",
        "'SPD',\n",
        "'TPD',\n",
        "'ViC',\n",
        "'ProdChainNom',\n",
        "'TipoChainNom',\n",
        "'Subcaregorialast<lambda>',\n",
        "'Tipo_de_credito_por_Segmentolast<lambda>',\n",
        "'Importe_Condsumsum',\n",
        "'Resultado_Generalfirstfirstlast',\n",
        "'Clasificacionmodelastlast',\n",
        "'ENRlastsum',\n",
        "'GNRlastsum',\n",
        "'GastoCobsumsum',\n",
        "'Banco_de_cobrolastlast',\n",
        "'ViCpi',\n",
        "'Flag_Activosum',\n",
        "'Flag_Incobrablesum',\n",
        "'Flag_Canceladosum',\n",
        "'MesPromPag']"
      ],
      "metadata": {
        "id": "xIRmcBl0l_sO"
      },
      "execution_count": null,
      "outputs": []
    },
    {
      "cell_type": "markdown",
      "source": [
        "Antes de hacer el ajuste hay que tomar en cuenta si les conviene más aplicar ingeniería de variables (estandarizar, escalar, pasar a numérica).\n"
      ],
      "metadata": {
        "id": "yLnlAMZqnLt6"
      }
    },
    {
      "cell_type": "markdown",
      "source": [
        "#1 Discretiza la respuesta en positiva y negativa.\n",
        "Utiliza al menos dos método Adaboost, Gradient Boosting o XGBoost para ajustar el modelo."
      ],
      "metadata": {
        "id": "3I4Kk8j9mcdQ"
      }
    },
    {
      "cell_type": "code",
      "source": [],
      "metadata": {
        "id": "HpJ53gXxm8BV"
      },
      "execution_count": null,
      "outputs": []
    },
    {
      "cell_type": "markdown",
      "source": [
        "##1.1 Usa gridsearchCV() e itera al menos dos parámetros para encontrar el mejor modelo."
      ],
      "metadata": {
        "id": "FU6AJ9A0y0QN"
      }
    },
    {
      "cell_type": "code",
      "source": [],
      "metadata": {
        "id": "xr8ifPfT1vux"
      },
      "execution_count": null,
      "outputs": []
    },
    {
      "cell_type": "markdown",
      "source": [
        "Compara los resultados obtenidos en entrenamiento, prueba y validación, y todo el conjunto total (Tabla_Integrada_Cliente). ¿Cuál es mejor y por qué?"
      ],
      "metadata": {
        "id": "V8jnbdDc1wCB"
      }
    },
    {
      "cell_type": "code",
      "source": [],
      "metadata": {
        "id": "bhxQ8XhK34cj"
      },
      "execution_count": null,
      "outputs": []
    },
    {
      "cell_type": "markdown",
      "source": [
        "# 2. Discretiza la respuesta en 5 niveles, 2, negativos y 3 positivos. Justifica los puntos de corte."
      ],
      "metadata": {
        "id": "EsbFMnk353wM"
      }
    },
    {
      "cell_type": "code",
      "source": [],
      "metadata": {
        "id": "W-RI5ZSu6EGL"
      },
      "execution_count": null,
      "outputs": []
    },
    {
      "cell_type": "markdown",
      "source": [
        "Utiliza al menos dos método Adaboost, Gradient Boosting o XGBoost para ajustar el modelo."
      ],
      "metadata": {
        "id": "PYZyymGO6Elr"
      }
    },
    {
      "cell_type": "markdown",
      "source": [
        "##2.1 Usa gridsearchCV() e itera al menos dos parámetros para encontrar el mejor modelo."
      ],
      "metadata": {
        "id": "OD8ihxNc6Z2T"
      }
    },
    {
      "cell_type": "code",
      "source": [],
      "metadata": {
        "id": "DW2u1ciS6Z2T"
      },
      "execution_count": null,
      "outputs": []
    },
    {
      "cell_type": "markdown",
      "source": [
        "Compara los resultados obtenidos en entrenamiento, prueba y validación y todo el conjunto total (Tabla_Integrada_Cliente). ¿Cuál es mejor y por qué?"
      ],
      "metadata": {
        "id": "neDNzvWm6Z2U"
      }
    },
    {
      "cell_type": "code",
      "source": [],
      "metadata": {
        "id": "81iWP0oP6Z2V"
      },
      "execution_count": null,
      "outputs": []
    },
    {
      "cell_type": "markdown",
      "source": [
        "# 3. Usa las respuesta como está y utiliza al menos dos método Adaboost, Gradient Boosting o XGBoost para ajustar el modelo."
      ],
      "metadata": {
        "id": "UL-MxxAb6-Yc"
      }
    },
    {
      "cell_type": "code",
      "source": [],
      "metadata": {
        "id": "slIeIwO-6-Yd"
      },
      "execution_count": null,
      "outputs": []
    },
    {
      "cell_type": "markdown",
      "source": [
        "##3.1 Usa gridsearchCV() e itera al menos dos parámetros para encontrar el mejor modelo."
      ],
      "metadata": {
        "id": "Q5DSwQ076-Ye"
      }
    },
    {
      "cell_type": "code",
      "source": [],
      "metadata": {
        "id": "fQe0ckzx6-Ye"
      },
      "execution_count": null,
      "outputs": []
    },
    {
      "cell_type": "markdown",
      "source": [
        "Compara los resultados obtenidos en entrenamiento, prueba y validación y todo el conjunto total (Tabla_Integrada_Cliente). ¿Cuál es mejor y por qué?"
      ],
      "metadata": {
        "id": "mHC6pnxE6-Yf"
      }
    },
    {
      "cell_type": "code",
      "source": [],
      "metadata": {
        "id": "Yy5CMj-J6-Yf"
      },
      "execution_count": null,
      "outputs": []
    },
    {
      "cell_type": "markdown",
      "source": [
        "#4. Derivando los pesos de Adaboost\n",
        "\n",
        "El clasificdor de AdaBoost puede ser escrito como\n",
        "$\\hat{y}_{\\textrm{boost}}(x)=sign(C^B(x))$ \n",
        "\n",
        "donde la función $C^1(x),\\ldots,C^B(x)$ están construidos secuencialmente como \n",
        "\n",
        "$$C^b(x)=C^{b-1}(x)+\\alpha_b\\hat{y}^b(x) ,$$\n",
        "\n",
        "inicializado con $C^0(x)=0$. El miembro  $b$-ésimo del ensmable $\\hat{y}^b(x)$ puede ser encontrado al aplicar el clasificador a una versíon pesada del conjunto de entrenamiento. Una vez que se encuentre, se tiene que calcular la correspondiente coeficiente de \"confianza\" $\\alpha_b$. Esto se hace minimizando la pérdida exponencial pesada por los datos de entrenamiento,\n",
        "\n",
        "$$\\alpha_b=\\textrm{argmin}_{\\alpha} \\{\\sum_{i=1}^N w_i^b\\exp(-\\alpha y_i\\hat{y}^b(x_i)\\}$$\n",
        "\n",
        "donde $w_i^b=\\exp(-y_iC^{b-1}(x_i))$.\n",
        "\n",
        "\n",
        "Demuestra que la solución óptima está dada por:\n",
        "$$\\alpha_b=\\frac{1}{2}\\log(\\frac{1-\\overline{\\textrm{err}_b}}{\\overline{\\textrm{err}_b}})$$\n",
        "\n",
        "donde \n",
        "$\\overline{err}=\\sum_{i=1}^{N} \\frac{w_i^b}{ \\sum_{j=1}^{N}w_j^b } \\mathbb{I} (y_i\\neq \\hat{y}^b(x_i))$.\n",
        "\n",
        "\n",
        "\n",
        "*Ayuda 1: Se usan las etiquetas de clase -1 y 1, es decir, $y_i\\in \\{-1,1\\}$ y $\\hat{y}^b(x_i)\\in\\{-1,1\\}$. Usando este hecho, divide la suma entre el objetivo de la función $\\alpha_b$ entre una suma que va en todos los clasificadores correctamente predecidos y una suma que va de todos los datos incorrectamente predecidos.*\n",
        "\n",
        "*Ayuda 2: Se pued eutilizar el hecho de que la función objetivo $\\alpha_b$ tiene un sólo punto estacionario que corresponde al mínimo global.*\n"
      ],
      "metadata": {
        "id": "g5-yllR6R-aP"
      }
    },
    {
      "cell_type": "markdown",
      "source": [
        "Demostración:\n"
      ],
      "metadata": {
        "id": "QW1EFDODcaEa"
      }
    }
  ]
}
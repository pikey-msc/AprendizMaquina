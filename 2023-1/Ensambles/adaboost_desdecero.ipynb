{
  "cells": [
    {
      "cell_type": "markdown",
      "metadata": {
        "toc": true,
        "id": "La_p6QoBuwml"
      },
      "source": [
        "<h1>Table of Contents<span class=\"tocSkip\"></span></h1>\n",
        "<div class=\"toc\"><ul class=\"toc-item\"><li><span><a href=\"#MODEL\" data-toc-modified-id=\"MODEL-1\"><span class=\"toc-item-num\">1&nbsp;&nbsp;</span>MODEL</a></span></li><li><span><a href=\"#Training-and-Testing-on-Diabetes-dataset\" data-toc-modified-id=\"Training-and-Testing-on-Diabetes-dataset-2\"><span class=\"toc-item-num\">2&nbsp;&nbsp;</span>Training and Testing on Diabetes dataset</a></span></li><li><span><a href=\"#Metrics\" data-toc-modified-id=\"Metrics-3\"><span class=\"toc-item-num\">3&nbsp;&nbsp;</span>Metrics</a></span></li></ul></div>"
      ]
    },
    {
      "cell_type": "code",
      "execution_count": 1,
      "metadata": {
        "ExecuteTime": {
          "end_time": "2020-04-20T21:49:20.851769Z",
          "start_time": "2020-04-20T21:49:20.849726Z"
        },
        "id": "Mlm5OVGRuwmp"
      },
      "outputs": [],
      "source": [
        "# https://stats.stackexchange.com/questions/299688/logistic-regression-adaboost\n",
        "# https://towardsdatascience.com/boosting-algorithm-adaboost-b6737a9ee60c"
      ]
    },
    {
      "cell_type": "code",
      "execution_count": 8,
      "metadata": {
        "ExecuteTime": {
          "end_time": "2020-04-20T21:49:22.480683Z",
          "start_time": "2020-04-20T21:49:20.853714Z"
        },
        "id": "iy2iCRtyuwmr"
      },
      "outputs": [],
      "source": [
        "from sklearn.datasets import make_classification\n",
        "\n",
        "from sklearn.metrics import accuracy_score\n",
        "from sklearn.model_selection import train_test_split\n",
        "import numpy as np\n",
        "import pandas as pd\n",
        "import matplotlib.pyplot as plt\n",
        "from sklearn.base import clone\n",
        "from sklearn.base import BaseEstimator\n",
        "from sklearn.metrics import accuracy_score\n",
        "from sklearn.datasets import load_breast_cancer\n",
        "from sklearn.decomposition import PCA\n",
        "from sklearn import datasets\n",
        "# from logistic import Logistic_Regression"
      ]
    },
    {
      "cell_type": "code",
      "execution_count": 3,
      "metadata": {
        "ExecuteTime": {
          "end_time": "2020-04-20T21:49:22.494253Z",
          "start_time": "2020-04-20T21:49:22.480683Z"
        },
        "id": "xw6AqYJOuwms"
      },
      "outputs": [],
      "source": [
        "def accuracy(y_true, y_pred):\n",
        "    accuracy = np.sum(y_true == y_pred) / len(y_true)\n",
        "    return accuracy"
      ]
    },
    {
      "cell_type": "code",
      "execution_count": 4,
      "metadata": {
        "ExecuteTime": {
          "end_time": "2020-04-20T21:49:22.626326Z",
          "start_time": "2020-04-20T21:49:22.498240Z"
        },
        "hide_input": false,
        "id": "TLbffPRauwms"
      },
      "outputs": [],
      "source": [
        "# X, y = make_classification(n_samples=500, n_features=5, n_informative=3, n_classes=2, flip_y=0.4, random_state=42)\n",
        "# data = np.c_[X, y.ravel()]\n",
        "# data = pd.DataFrame(data, columns=[\"f1\", \"f2\", \"f3\", \"f4\", \"f5\", \"output\"])\n",
        "# data.head()\n",
        "\n",
        "# X = data[data.columns[:-1]].values\n",
        "# y = data[data.columns[-1]].values\n",
        "\n",
        "# x_train, x_val, y_train, y_val = train_test_split(X, y, test_size=0.2, shuffle=True, stratify=y, random_state=47)\n",
        "# len(x_train), len(x_val), len(y_train), len(y_val)\n",
        "\n",
        "# np.save(\"x_train\", x_train)\n",
        "# np.save(\"y_train\", y_train)\n",
        "# np.save(\"x_val\", x_val)\n",
        "# np.save(\"y_val\", y_val)\n",
        "\n",
        "# x_train = np.load(\"x_train.npy\")\n",
        "# y_train = np.load(\"y_train.npy\")\n",
        "# x_val = np.load(\"x_val.npy\")\n",
        "# y_val = np.load(\"y_val.npy\")"
      ]
    },
    {
      "cell_type": "markdown",
      "metadata": {
        "id": "dEWpWMT6uwms"
      },
      "source": [
        "# MODEL "
      ]
    },
    {
      "cell_type": "code",
      "execution_count": 5,
      "metadata": {
        "ExecuteTime": {
          "end_time": "2020-04-20T21:49:22.756649Z",
          "start_time": "2020-04-20T21:49:22.628321Z"
        },
        "id": "AE-pifXluwmt"
      },
      "outputs": [],
      "source": [
        "from sklearn.base import BaseEstimator\n",
        "\n",
        "\n",
        "class Logistic_Regression(BaseEstimator):\n",
        "    \n",
        "    def __init__(self, learning_rate=0.01, epochs=1000):\n",
        "        self.learning_rate = learning_rate\n",
        "        self.epochs = epochs\n",
        "        self.weights = None\n",
        "        self.bias = None\n",
        "        self.cost_per_iteration = []\n",
        "        \n",
        "    \n",
        "    def _sigmoid(self, x):\n",
        "        EPS = 1e-7\n",
        "        return 1 / (1 + np.exp(-x + EPS))\n",
        "    \n",
        "    \n",
        "    def fit(self, X, y):\n",
        "        m, n = X.shape\n",
        "        self.weights = np.zeros(n)\n",
        "        self.bias = 0\n",
        "        \n",
        "        # gradient descent\n",
        "\n",
        "        for _ in range(self.epochs):\n",
        "            # forward propagation\n",
        "            Z = np.dot(X, self.weights) + self.bias\n",
        "            A = self._sigmoid(Z)\n",
        "            \n",
        "            # backward propagation\n",
        "            dw = (1 / m) * np.dot(X.T, A - y)\n",
        "            db = (1 / m) * np.sum(A - y)\n",
        "            \n",
        "            self.weights -= self.learning_rate * dw\n",
        "            self.bias -= self.learning_rate * db\n",
        "            \n",
        "    def predict(self, X):\n",
        "        Z = np.dot(X, self.weights) + self.bias\n",
        "        A = self._sigmoid(Z)\n",
        "    \n",
        "        if not isinstance(A, float):\n",
        "            y_predicted_cls = [1 if i >= 0.5 else 0 for i in A]\n",
        "        else:\n",
        "            y_predicted_cls = 1 if A >= 0.5 else 0\n",
        "        return y_predicted_cls\n",
        "    \n",
        "    \n",
        "    def __str__(self):\n",
        "        return f\"Logistic_Regression(learning_rate={self.learning_rate}, epochs={self.epochs})\""
      ]
    },
    {
      "cell_type": "code",
      "execution_count": 6,
      "metadata": {
        "ExecuteTime": {
          "end_time": "2020-04-20T21:49:22.888720Z",
          "start_time": "2020-04-20T21:49:22.759680Z"
        },
        "id": "0Fjs-ePUuwmu"
      },
      "outputs": [],
      "source": [
        "class AdaBoost(object):\n",
        "    \n",
        "    def __init__(self, base_estimator, n_estimators, learning_rate):\n",
        "        self.base_estimator = base_estimator\n",
        "        self.n_estimators = n_estimators\n",
        "        self.learning_rate = learning_rate\n",
        "        self.predictor_weightages = []\n",
        "        \n",
        "        \n",
        "    def fit(self, X, y):\n",
        "        n_samples, n_features = X.shape\n",
        "        \n",
        "        for i in range(self.n_estimators):\n",
        "\n",
        "            # initially all instances have the same weight\n",
        "            instance_weights = self._initial_instance_weights(n_samples)\n",
        "            \n",
        "            # Use predictor to make classification error\n",
        "            clone_clf = clone(self.base_estimator)\n",
        "            clone_clf.fit(X, y)\n",
        "            predicted = clone_clf.predict(X)\n",
        "            \n",
        "            # getting misclassified instances\n",
        "            mis_classified_instances, acc = self._getAccuracy(y, predicted)\n",
        "            \n",
        "            # total error made by the predictor\n",
        "            total_err = self._total_error(mis_classified_instances, instance_weights)\n",
        "            \n",
        "            # weightage of predictor based on its error\n",
        "            predictor_weightage = self._get_predictor_weightage(total_err)\n",
        "            self.predictor_weightages.append((i, clone_clf, predictor_weightage))\n",
        "            \n",
        "            # updating instance weights\n",
        "            instance_weights = self._update_instance_weights(mis_classified_instances, \n",
        "                                                             instance_weights, predictor_weightage)\n",
        "\n",
        "            \n",
        "            # sampling data with replacement focusing on instances that were misclassified\n",
        "            X, y = self._new_sample_set(X, y, instance_weights)\n",
        "\n",
        "    \n",
        "\n",
        "    def _initial_instance_weights(self, shape):\n",
        "        instance_weights = np.full(shape=shape, fill_value=1/shape)\n",
        "        return instance_weights\n",
        "    \n",
        "    \n",
        "    def _getAccuracy(self, true, predicted):\n",
        "        assert len(true) == len(predicted)\n",
        "        error_instance = np.equal(true, predicted).astype(int)\n",
        "        miss_classified = []\n",
        "\n",
        "        for i, j in enumerate(error_instance):\n",
        "            if j == 0:\n",
        "                miss_classified.append(i)\n",
        "                \n",
        "        accuracy = np.sum(true == predicted)\n",
        "        return miss_classified, (accuracy/len(true)) * 100.0\n",
        "    \n",
        "    \n",
        "    def _total_error(self, mis_classified, instance_weights):\n",
        "        error = 0\n",
        "        for i in mis_classified:\n",
        "            error += instance_weights[i]\n",
        "\n",
        "        return error\n",
        "    \n",
        "    def _get_predictor_weightage(self, error):\n",
        "        EPS = 1e-5\n",
        "        weightage = 0.5 * np.log((1.0 - error + EPS) / (error + EPS))\n",
        "        return weightage\n",
        "\n",
        "    \n",
        "    def _update_instance_weights(self, mis_classified_instances, instance_weights, predictor_weightage):\n",
        "        weights = instance_weights[:]\n",
        "        EPS = 1e-10\n",
        "        for idx in range(len(instance_weights)):\n",
        "            if idx in mis_classified_instances:\n",
        "                weights[idx] = weights[idx] * np.exp(predictor_weightage + EPS)\n",
        "            else:\n",
        "                weights[idx] = weights[idx] * np.exp(-predictor_weightage + EPS)\n",
        "\n",
        "\n",
        "        # Normalizing weights\n",
        "        summed_weights = np.sum(weights)\n",
        "        weights /= summed_weights\n",
        "        return np.array(weights)\n",
        "    \n",
        "    def _new_sample_set(self, X, y, instance_weights):\n",
        "        intervals = []\n",
        "        intervals.append(instance_weights[0])\n",
        "\n",
        "        for i, j in enumerate(instance_weights[1:], 1):\n",
        "            intervals.append(j + intervals[i-1])\n",
        "\n",
        "        idxs = []\n",
        "\n",
        "        for i in range(X.shape[0]):\n",
        "            samp = np.random.sample()\n",
        "            try:\n",
        "                idx = np.searchsorted(intervals, samp, side='right')\n",
        "                _ = X[idx] # check if exists\n",
        "            except:\n",
        "                idx = idx - 1\n",
        "\n",
        "            finally:\n",
        "                idxs.append(idx)\n",
        "\n",
        "        X = X[idxs]\n",
        "        y = y[idxs]\n",
        "        return X, y\n",
        "    \n",
        "    def predict(self, X):\n",
        "        clf_predictions = np.array([clf.predict(X) for idx, clf, weightage in self.predictor_weightages])\n",
        "        predictions = []\n",
        "        \n",
        "        for sample_predictions in clf_predictions.T:\n",
        "            class_0 = 0\n",
        "            class_1 = 0\n",
        "            \n",
        "            for predictor, predictor_op in enumerate(sample_predictions):\n",
        "                if predictor_op == 0:\n",
        "                    class_0 += self.predictor_weightages[predictor][2]\n",
        "                else:\n",
        "                    class_1 += self.predictor_weightages[predictor][2]\n",
        "            \n",
        "            if class_0 > class_1:\n",
        "                predictions.append(0)\n",
        "            else:\n",
        "                predictions.append(1)\n",
        "        \n",
        "        return np.array(predictions)"
      ]
    },
    {
      "cell_type": "markdown",
      "metadata": {
        "id": "HH-H0KC3uwmv"
      },
      "source": [
        "# Training and Testing on Diabetes dataset"
      ]
    },
    {
      "cell_type": "code",
      "execution_count": 23,
      "metadata": {
        "ExecuteTime": {
          "end_time": "2020-04-20T21:49:23.035131Z",
          "start_time": "2020-04-20T21:49:22.893705Z"
        },
        "id": "d8paqxzfuwmv",
        "outputId": "fd3842fd-ef70-4dc5-d868-25d78af2fe7d",
        "colab": {
          "base_uri": "https://localhost:8080/"
        }
      },
      "outputs": [
        {
          "output_type": "stream",
          "name": "stdout",
          "text": [
            "[0 0 0 0 0 0 0 0 0 0 0 0 0 0 0 0 0 0 0 1 1 1 0 0 0 0 0 0 0 0 0 0 0 0 0 0 0\n",
            " 1 0 0 0 0 0 0 0 0 1 0 1 1 1 1 1 0 0 1 0 0 1 1 1 1 0 1 0 0 1 1 1 1 0 1 0 0\n",
            " 1 0 1 0 0 1 1 1 0 0 1 0 0 0 1 1 1 0 1 1 0 0 1 1 1 0 0 1 1 1 1 0 1 1 0 1 1\n",
            " 1 1 1 1 1 1 0 0 0 1 0 0 1 1 1 0 0 1 0 1 0 0 1 0 0 1 1 0 1 1 0 1 1 1 1 0 1\n",
            " 1 1 1 1 1 1 1 1 0 1 1 1 1 0 0 1 0 1 1 0 0 1 1 0 0 1 1 1 1 0 1 1 0 0 0 1 0\n",
            " 1 0 1 1 1 0 1 1 0 0 1 0 0 0 0 1 0 0 0 1 0 1 0 1 1 0 1 0 0 0 0 1 1 0 0 1 1\n",
            " 1 0 1 1 1 1 1 0 0 1 1 0 1 1 0 0 1 0 1 1 1 1 0 1 1 1 1 1 0 1 0 0 0 0 0 0 0\n",
            " 0 0 0 0 0 0 0 1 1 1 1 1 1 0 1 0 1 1 0 1 1 0 1 0 0 1 1 1 1 1 1 1 1 1 1 1 1\n",
            " 1 0 1 1 0 1 0 1 1 1 1 1 1 1 1 1 1 1 1 1 1 0 1 1 1 0 1 0 1 1 1 1 0 0 0 1 1\n",
            " 1 1 0 1 0 1 0 1 1 1 0 1 1 1 1 1 1 1 0 0 0 1 1 1 1 1 1 1 1 1 1 1 0 0 1 0 0\n",
            " 0 1 0 0 1 1 1 1 1 0 1 1 1 1 1 0 1 1 1 0 1 1 0 0 1 1 1 1 1 1 0 1 1 1 1 1 1\n",
            " 1 0 1 1 1 1 1 0 1 1 0 1 1 1 1 1 1 1 1 1 1 1 1 0 1 0 0 1 0 1 1 1 1 1 0 1 1\n",
            " 0 1 0 1 1 0 1 0 1 1 1 1 1 1 1 1 0 0 1 1 1 1 1 1 0 1 1 1 1 1 1 1 1 1 1 0 1\n",
            " 1 1 1 1 1 1 0 1 0 1 1 0 1 1 1 1 1 0 0 1 0 1 0 1 1 1 1 1 0 1 1 0 1 0 1 0 0\n",
            " 1 1 1 0 1 1 1 1 1 1 1 1 1 1 1 0 1 0 0 1 1 1 1 1 1 1 1 1 1 1 1 1 1 1 1 1 1\n",
            " 1 1 1 1 1 1 1 0 0 0 0 0 0 1]\n"
          ]
        }
      ],
      "source": [
        "X, y = datasets.load_breast_cancer(return_X_y=True)\n",
        "# diabetes_data.head()\n",
        "print(y)"
      ]
    },
    {
      "cell_type": "code",
      "execution_count": 24,
      "metadata": {
        "ExecuteTime": {
          "end_time": "2020-04-20T21:49:23.164183Z",
          "start_time": "2020-04-20T21:49:23.037126Z"
        },
        "id": "Q6XVal8nuwmw"
      },
      "outputs": [],
      "source": [
        "# X = diabetes_data[diabetes_data.columns[:-1]].values\n",
        "# y = diabetes_data[diabetes_data.columns[-1]].values\n",
        "\n",
        "\n",
        "X_train, X_test, y_train, y_test = train_test_split(X, y, test_size=0.2, stratify=y, random_state=42)"
      ]
    },
    {
      "cell_type": "code",
      "execution_count": 25,
      "metadata": {
        "ExecuteTime": {
          "end_time": "2020-04-20T21:49:23.280115Z",
          "start_time": "2020-04-20T21:49:23.165971Z"
        },
        "id": "YSJR6y0Yuwmw"
      },
      "outputs": [],
      "source": [
        "ada_clf = AdaBoost(base_estimator=Logistic_Regression(learning_rate=0.001, epochs=500),\n",
        "                  n_estimators=10, learning_rate=0.5)"
      ]
    },
    {
      "cell_type": "code",
      "execution_count": 26,
      "metadata": {
        "ExecuteTime": {
          "end_time": "2020-04-20T21:49:24.024679Z",
          "start_time": "2020-04-20T21:49:23.283107Z"
        },
        "id": "pmkzNEaRuwmx",
        "outputId": "54c9c633-9adb-48ff-8b44-3d266a41c54f",
        "colab": {
          "base_uri": "https://localhost:8080/"
        }
      },
      "outputs": [
        {
          "output_type": "stream",
          "name": "stderr",
          "text": [
            "/usr/local/lib/python3.7/dist-packages/ipykernel_launcher.py:16: RuntimeWarning: overflow encountered in exp\n",
            "  app.launch_new_instance()\n"
          ]
        },
        {
          "output_type": "stream",
          "name": "stdout",
          "text": [
            "Training Accuracy: 0.92\n",
            "Validation Accuracy: 0.92\n"
          ]
        }
      ],
      "source": [
        "ada_clf.fit(X_train, y_train)\n",
        "y_pred = ada_clf.predict(X_train)\n",
        "print(f\"Training Accuracy: {round(accuracy(y_train, y_pred), 2)}\")\n",
        "\n",
        "y_pred = ada_clf.predict(X_test)\n",
        "print(f\"Validation Accuracy: {round(accuracy(y_test, y_pred), 2)}\")"
      ]
    },
    {
      "cell_type": "markdown",
      "metadata": {
        "ExecuteTime": {
          "end_time": "2020-04-17T16:09:02.009602Z",
          "start_time": "2020-04-17T16:09:00.761505Z"
        },
        "id": "kRCifLQpuwmx"
      },
      "source": [
        "# Metrics"
      ]
    },
    {
      "cell_type": "code",
      "execution_count": 27,
      "metadata": {
        "ExecuteTime": {
          "end_time": "2020-04-20T21:49:24.030660Z",
          "start_time": "2020-04-20T21:49:24.026672Z"
        },
        "id": "q_e6-ZPRuwmx"
      },
      "outputs": [],
      "source": [
        "from sklearn.metrics import precision_score, recall_score, f1_score"
      ]
    },
    {
      "cell_type": "code",
      "execution_count": 28,
      "metadata": {
        "ExecuteTime": {
          "end_time": "2020-04-20T21:49:24.139410Z",
          "start_time": "2020-04-20T21:49:24.031658Z"
        },
        "id": "yH9FzQQpuwmy",
        "outputId": "cf742b1e-4360-4bcb-ad1d-2e286ec67365",
        "colab": {
          "base_uri": "https://localhost:8080/"
        }
      },
      "outputs": [
        {
          "output_type": "stream",
          "name": "stdout",
          "text": [
            "Model Precision: 0.92\n",
            "Model Recall: 0.9583333333333334\n",
            "Model F1-score: 0.9387755102040817\n"
          ]
        }
      ],
      "source": [
        "print(f\"Model Precision: {precision_score(y_test, y_pred)}\")\n",
        "print(f\"Model Recall: {recall_score(y_test, y_pred)}\")\n",
        "print(f\"Model F1-score: {f1_score(y_test, y_pred)}\")"
      ]
    },
    {
      "cell_type": "code",
      "execution_count": 29,
      "metadata": {
        "ExecuteTime": {
          "end_time": "2020-04-20T21:49:24.268518Z",
          "start_time": "2020-04-20T21:49:24.140367Z"
        },
        "id": "enolmteeuwmy"
      },
      "outputs": [],
      "source": [
        "# roc curve \n",
        "from sklearn.metrics import roc_curve\n",
        "\n",
        "fpr, tpr, thresholdsh = roc_curve(y_test, y_pred)"
      ]
    },
    {
      "cell_type": "code",
      "execution_count": 30,
      "metadata": {
        "ExecuteTime": {
          "end_time": "2020-04-20T21:49:24.550950Z",
          "start_time": "2020-04-20T21:49:24.275501Z"
        },
        "id": "quDMoMkZuwmz",
        "outputId": "7d7b172e-e8a8-464c-c3f5-875af688f6d3",
        "colab": {
          "base_uri": "https://localhost:8080/",
          "height": 397
        }
      },
      "outputs": [
        {
          "output_type": "display_data",
          "data": {
            "text/plain": [
              "<Figure size 576x432 with 1 Axes>"
            ],
            "image/png": "[encoded data removed]"
          },
          "metadata": {
            "needs_background": "light"
          }
        }
      ],
      "source": [
        "def plot_roc_curve(fpr, tpr, label=None):\n",
        "    plt.plot(fpr, tpr, linewidth=2, label=label)\n",
        "    plt.plot([0, 1], [0, 1], 'k--')\n",
        "    plt.axis([0, 1, 0, 1])\n",
        "    plt.xlabel('False Positive Rate (Fall-Out)', fontsize=16)\n",
        "    plt.ylabel('True Positive Rate (Recall)', fontsize=16)\n",
        "    plt.grid(True)\n",
        "\n",
        "plt.figure(figsize=(8, 6))\n",
        "plot_roc_curve(fpr, tpr)"
      ]
    },
    {
      "cell_type": "code",
      "execution_count": 31,
      "metadata": {
        "ExecuteTime": {
          "end_time": "2020-04-20T21:49:24.557936Z",
          "start_time": "2020-04-20T21:49:24.552948Z"
        },
        "id": "nVNcve_zuwmz",
        "outputId": "e15e7469-6329-4d1c-b132-7e0bc6085ebe",
        "colab": {
          "base_uri": "https://localhost:8080/"
        }
      },
      "outputs": [
        {
          "output_type": "execute_result",
          "data": {
            "text/plain": [
              "0.9077380952380953"
            ]
          },
          "metadata": {},
          "execution_count": 31
        }
      ],
      "source": [
        "from sklearn.metrics import roc_auc_score\n",
        "\n",
        "roc_auc_score(y_test, y_pred)"
      ]
    }
  ],
  "metadata": {
    "kernelspec": {
      "display_name": "Python 3",
      "language": "python",
      "name": "python3"
    },
    "language_info": {
      "codemirror_mode": {
        "name": "ipython",
        "version": 3
      },
      "file_extension": ".py",
      "mimetype": "text/x-python",
      "name": "python",
      "nbconvert_exporter": "python",
      "pygments_lexer": "ipython3",
      "version": "3.7.6"
    },
    "toc": {
      "base_numbering": 1,
      "nav_menu": {},
      "number_sections": true,
      "sideBar": true,
      "skip_h1_title": false,
      "title_cell": "Table of Contents",
      "title_sidebar": "Contents",
      "toc_cell": true,
      "toc_position": {},
      "toc_section_display": true,
      "toc_window_display": false
    },
    "varInspector": {
      "cols": {
        "lenName": 16,
        "lenType": 16,
        "lenVar": 40
      },
      "kernels_config": {
        "python": {
          "delete_cmd_postfix": "",
          "delete_cmd_prefix": "del ",
          "library": "var_list.py",
          "varRefreshCmd": "print(var_dic_list())"
        },
        "r": {
          "delete_cmd_postfix": ") ",
          "delete_cmd_prefix": "rm(",
          "library": "var_list.r",
          "varRefreshCmd": "cat(var_dic_list()) "
        }
      },
      "position": {
        "height": "463.534px",
        "left": "1077.82px",
        "right": "20px",
        "top": "138px",
        "width": "305.523px"
      },
      "types_to_exclude": [
        "module",
        "function",
        "builtin_function_or_method",
        "instance",
        "_Feature"
      ],
      "window_display": false
    },
    "colab": {
      "provenance": []
    }
  },
  "nbformat": 4,
  "nbformat_minor": 0
}
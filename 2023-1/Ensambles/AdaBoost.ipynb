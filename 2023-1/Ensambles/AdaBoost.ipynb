{
  "nbformat": 4,
  "nbformat_minor": 0,
  "metadata": {
    "colab": {
      "provenance": [],
      "authorship_tag": "ABX9TyPAYTVaU8rMElL/+/ACONGL",
      "include_colab_link": true
    },
    "kernelspec": {
      "name": "python3",
      "display_name": "Python 3"
    },
    "language_info": {
      "name": "python"
    }
  },
  "cells": [
    {
      "cell_type": "markdown",
      "metadata": {
        "id": "view-in-github",
        "colab_type": "text"
      },
      "source": [
        "<a href=\"https://colab.research.google.com/github/pikey-msc/AprendizMaquina/blob/main/2023-1/Ensambles/AdaBoost.ipynb\" target=\"_parent\"><img src=\"https://colab.research.google.com/assets/colab-badge.svg\" alt=\"Open In Colab\"/></a>"
      ]
    },
    {
      "cell_type": "markdown",
      "source": [
        "#Adaboost\n",
        "Boosting is a class of ensemble machine learning algorithms that involve combining the predictions from many weak learners.\n",
        "\n",
        "Boosting es una clase de algoritmos de aprendizaje de máquina de ensamble que combina las predicciones de varios aprendiz débiles.\n",
        "\n",
        "Un aprendiz débil es un modelo que es muy simple. Boosting era un concepto teórico largo antes de que algún algoritmo fuera desarroolado, y el algoritmo AdaBoost (adaptive boosting) fue la primera aproximación exitosa.\n",
        "\n",
        "El algoritmo AdaBoost usa árboles de decisión muy cortos (un nivel) como aprendices débiles que son añadidos secuencialmente al ensamble.\n",
        "\n",
        "Cada modelo subsecuente intenta corregir las predicciones hechas por el modelo anterior en la sucesión. Esto es alcanzado al pesar el conjunto de entrenamiento enfocándose más en los ejemplos donde los modelso anteriores tuvieron errores de predicción.\n",
        "\n",
        "Veamos como desarrollar ejemplos de clasificación y regresión usando scikit-learn.\n"
      ],
      "metadata": {
        "id": "VdITQpo_punV"
      }
    },
    {
      "cell_type": "code",
      "source": [
        "import sklearn\n",
        "print(sklearn.__version__)\n",
        "\n",
        "import matplotlib.pyplot as plt\n",
        "import numpy as np"
      ],
      "metadata": {
        "colab": {
          "base_uri": "https://localhost:8080/"
        },
        "id": "kb3Ve59QsebI",
        "outputId": "16998dde-6db3-451c-de05-c4fd388e3d2d"
      },
      "execution_count": 12,
      "outputs": [
        {
          "output_type": "stream",
          "name": "stdout",
          "text": [
            "1.0.2\n"
          ]
        }
      ]
    },
    {
      "cell_type": "markdown",
      "source": [
        "Se tienen dos tipos de AdaBoost de regresión y clasificación"
      ],
      "metadata": {
        "id": "KPq4sKwGs-vR"
      }
    },
    {
      "cell_type": "markdown",
      "source": [],
      "metadata": {
        "id": "rFa5hqSitWUE"
      }
    },
    {
      "cell_type": "markdown",
      "source": [
        "## AdaBoost para Clasificación"
      ],
      "metadata": {
        "id": "-rigW5wTtWcH"
      }
    },
    {
      "cell_type": "markdown",
      "source": [
        "Se creará una clasificación sintética binaria con 1000 ejemplos y 20 variables,se usará ``make_clasification()``"
      ],
      "metadata": {
        "id": "uRnun6PdtkWV"
      }
    },
    {
      "cell_type": "code",
      "source": [
        "\n",
        "# test classification dataset\n",
        "from sklearn.datasets import make_classification\n",
        "# define dataset\n",
        "X, y = make_classification(n_samples=1000, n_features=20, n_informative=15, n_redundant=5, random_state=6)\n",
        "# summarize the dataset\n",
        "print(X.shape, y.shape)\n",
        "print(X[1:4,],y[1:4,])"
      ],
      "metadata": {
        "colab": {
          "base_uri": "https://localhost:8080/"
        },
        "id": "JWWocuMrt2Li",
        "outputId": "24213f66-ddaa-4953-c78d-5d202113a653"
      },
      "execution_count": 2,
      "outputs": [
        {
          "output_type": "stream",
          "name": "stdout",
          "text": [
            "(1000, 20) (1000,)\n",
            "[[-2.42264447e+00  1.49687583e+00 -8.01106833e-01  2.06453050e+00\n",
            "  -8.76754500e+00 -2.51286558e+00  1.40156770e+00  4.79941043e+00\n",
            "   1.39750172e+00 -5.62485856e-01 -6.03669967e-01 -3.12565915e+00\n",
            "  -3.18175570e+00 -2.94187480e+00 -6.81902846e-03 -4.65861153e+00\n",
            "  -6.38341467e+00  1.14726175e+00 -2.86306705e+00 -2.75750181e-01]\n",
            " [-4.01744369e+00 -2.26537329e+00  2.72577799e+00  1.00600643e+00\n",
            "  -2.16411293e+00  2.47987226e+00  3.76854908e+00  4.58568054e+00\n",
            "   7.56015419e-01  5.59196209e-01 -4.93262512e+00 -9.07008896e-01\n",
            "  -5.64508291e-01 -1.94700078e+00  8.97175132e+00  4.31027440e+00\n",
            "  -4.28351097e+00  1.34014025e+00 -7.86344977e-01 -1.17749558e+00]\n",
            " [ 1.07582588e+00 -2.02984426e+00 -2.93650126e-01 -2.19362003e-01\n",
            "  -2.62251509e+00 -5.53700653e-01  1.88927640e+00  2.90514390e+00\n",
            "   1.25815380e+00  6.66546737e-01 -1.07470309e+00  6.10393634e-01\n",
            "  -1.12460578e+00 -2.28623522e+00  4.58723680e+00  3.80914738e+00\n",
            "  -7.78648467e-01  3.64361034e-01  2.31922924e-02  3.09490437e+00]] [1 1 1]\n"
          ]
        }
      ]
    },
    {
      "cell_type": "markdown",
      "source": [
        "Se evaluaraán los modelos utilizando una validación cruzada estratificada repetida con tres repeticiones y diez cortes, usando la función  ``repeatedStratifiedKFold()``"
      ],
      "metadata": {
        "id": "ik1CZAyhuGHI"
      }
    },
    {
      "cell_type": "code",
      "source": [
        "\n",
        "# evaluate adaboost algorithm for classification\n",
        "from numpy import mean\n",
        "from numpy import std\n",
        "from sklearn.datasets import make_classification\n",
        "from sklearn.model_selection import cross_val_score\n",
        "from sklearn.model_selection import RepeatedStratifiedKFold\n",
        "from sklearn.ensemble import AdaBoostClassifier\n",
        "\n",
        "# define the model\n",
        "model = AdaBoostClassifier()\n",
        "# evaluate the model\n",
        "cv = RepeatedStratifiedKFold(n_splits=10, n_repeats=3, random_state=1)\n",
        "\n",
        "n_scores = cross_val_score(model, X, y, scoring='accuracy', cv=cv, n_jobs=-1, error_score='raise')\n",
        "# report performance\n",
        "print('Accuracy: %.3f (%.3f)' % (mean(n_scores), std(n_scores)))\n",
        "print(len(n_scores),n_scores)"
      ],
      "metadata": {
        "colab": {
          "base_uri": "https://localhost:8080/"
        },
        "id": "8j1ylzzctbTq",
        "outputId": "1729eda9-4090-463e-a620-502e6a3292e7"
      },
      "execution_count": 3,
      "outputs": [
        {
          "output_type": "stream",
          "name": "stdout",
          "text": [
            "Accuracy: 0.806 (0.041)\n",
            "30 [0.79 0.82 0.84 0.75 0.88 0.79 0.77 0.84 0.83 0.84 0.83 0.84 0.81 0.79\n",
            " 0.72 0.76 0.84 0.76 0.79 0.82 0.84 0.8  0.78 0.82 0.8  0.84 0.81 0.89\n",
            " 0.71 0.79]\n"
          ]
        }
      ]
    },
    {
      "cell_type": "markdown",
      "source": [
        "Predicción en los nuevos datos"
      ],
      "metadata": {
        "id": "GuDj1ew60MkO"
      }
    },
    {
      "cell_type": "code",
      "source": [
        "# fit the model on the whole dataset\n",
        "model.fit(X, y)\n",
        "# make a single prediction\n",
        "row = [[-3.47224758,1.95378146,0.04875169,-0.91592588,-3.54022468,1.96405547,-7.72564954,-2.64787168,-1.81726906,-1.67104974,2.33762043,-4.30273117,0.4839841,-1.28253034,-10.6704077,-0.7641103,-3.58493721,2.07283886,0.08385173,0.91461126]]\n",
        "yhat = model.predict(row)\n",
        "print('Predicted Class: %d' % yhat[0])"
      ],
      "metadata": {
        "colab": {
          "base_uri": "https://localhost:8080/"
        },
        "id": "HSyvtzCMyzJn",
        "outputId": "60746f15-5110-4f30-ba35-9ee1668561f5"
      },
      "execution_count": 4,
      "outputs": [
        {
          "output_type": "stream",
          "name": "stdout",
          "text": [
            "Predicted Class: 0\n"
          ]
        }
      ]
    },
    {
      "cell_type": "markdown",
      "source": [
        "## AdaBoost para Regresión\n",
        "\n",
        "Crearemos datos sintéticos con ``make_regression`` para regresión para ilustrar el método."
      ],
      "metadata": {
        "id": "3a-0zlth1dA3"
      }
    },
    {
      "cell_type": "code",
      "source": [
        "\n",
        "# test regression dataset\n",
        "from sklearn.datasets import make_regression\n",
        "# define dataset\n",
        "X, y = make_regression(n_samples=1000, n_features=20, n_informative=15, noise=0.1, random_state=6)\n",
        "# summarize the dataset\n",
        "print(X.shape, y.shape)\n"
      ],
      "metadata": {
        "colab": {
          "base_uri": "https://localhost:8080/"
        },
        "id": "Y7dXEq7I2UO8",
        "outputId": "0b0c1cb7-2bb3-4769-f815-dfb3e7304041"
      },
      "execution_count": 5,
      "outputs": [
        {
          "output_type": "stream",
          "name": "stdout",
          "text": [
            "(1000, 20) (1000,)\n"
          ]
        }
      ]
    },
    {
      "cell_type": "markdown",
      "source": [
        "Usaremos de nuevo validación cruzada con 3 repeticiones en 10 cortes de los datos, y se calcualará el error medio cuadrático."
      ],
      "metadata": {
        "id": "Y_t_DZbQ2X77"
      }
    },
    {
      "cell_type": "code",
      "source": [
        "\n",
        "# evaluate adaboost ensemble for regression\n",
        "from numpy import mean\n",
        "from numpy import std\n",
        "from sklearn.datasets import make_regression\n",
        "from sklearn.model_selection import cross_val_score\n",
        "from sklearn.model_selection import RepeatedKFold\n",
        "from sklearn.ensemble import AdaBoostRegressor\n",
        "# define dataset\n",
        "X, y = make_regression(n_samples=1000, n_features=20, n_informative=15, noise=0.1, random_state=6)\n",
        "# define the model\n",
        "model = AdaBoostRegressor()\n",
        "# evaluate the model\n",
        "cv = RepeatedKFold(n_splits=10, n_repeats=3, random_state=1)\n",
        "n_scores = cross_val_score(model, X, y, scoring='neg_mean_absolute_error', cv=cv, n_jobs=-1, error_score='raise')\n",
        "# report performance\n",
        "print('MAE: %.3f (%.3f)' % (mean(n_scores), std(n_scores)))"
      ],
      "metadata": {
        "colab": {
          "base_uri": "https://localhost:8080/"
        },
        "id": "f_kka_yy2w7Q",
        "outputId": "372a09eb-00f6-455e-e7e7-6c176e46d7c7"
      },
      "execution_count": 6,
      "outputs": [
        {
          "output_type": "stream",
          "name": "stdout",
          "text": [
            "MAE: -73.045 (4.776)\n"
          ]
        }
      ]
    },
    {
      "cell_type": "markdown",
      "source": [],
      "metadata": {
        "id": "gukt3JXS3Kgz"
      }
    },
    {
      "cell_type": "code",
      "source": [
        "model.fit(X, y)\n",
        "# make a single prediction\n",
        "row = [[1.20871625,0.88440466,-0.9030013,-0.22687731,-0.82940077,-1.14410988,1.26554256,-0.2842871,1.43929072,0.74250241,0.34035501,0.45363034,0.1778756,-1.75252881,-1.33337384,-1.50337215,-0.45099008,0.46160133,0.58385557,-1.79936198]]\n",
        "yhat = model.predict(row)\n",
        "print('Prediction: %d' % yhat[0])"
      ],
      "metadata": {
        "colab": {
          "base_uri": "https://localhost:8080/"
        },
        "id": "BGxFQtaa3JVj",
        "outputId": "4480674c-09c9-46f2-e414-cc16c2cf3f70"
      },
      "execution_count": 7,
      "outputs": [
        {
          "output_type": "stream",
          "name": "stdout",
          "text": [
            "Prediction: -55\n"
          ]
        }
      ]
    },
    {
      "cell_type": "markdown",
      "source": [
        "## AdaBoost Hiperparámetros"
      ],
      "metadata": {
        "id": "XH25cKDr4KAS"
      }
    },
    {
      "cell_type": "markdown",
      "source": [
        "###Explorar el número de árboles de decisión\n",
        "\n",
        "Uno de los hiperparámetrso para el algoritmo AdaBoost es el número de árboles de decisión usados en el ensamble.\n",
        "El número de árboles se puede definir con el parámetro \"n_estimators\", donde el valor por defecto es 50.\n",
        "\n",
        "Vamos a iterar de 10 a 5000 en el ejemplo siguiente."
      ],
      "metadata": {
        "id": "IOWCbIRR4Oem"
      }
    },
    {
      "cell_type": "code",
      "source": [
        "# explore adaboost ensemble number of trees effect on performance\n",
        "from numpy import mean\n",
        "from numpy import std\n",
        "from sklearn.datasets import make_classification\n",
        "from sklearn.model_selection import cross_val_score\n",
        "from sklearn.model_selection import RepeatedStratifiedKFold\n",
        "from sklearn.ensemble import AdaBoostClassifier\n",
        "from matplotlib import pyplot\n",
        " \n",
        "# get the dataset\n",
        "def get_dataset():\n",
        "\tX, y = make_classification(n_samples=1000, n_features=20, n_informative=15, n_redundant=5, random_state=6)\n",
        "\treturn X, y\n",
        " \n",
        "# get a list of models to evaluate\n",
        "def get_models():\n",
        "\tmodels = dict()\n",
        "\t# define number of trees to consider\n",
        "\tn_trees = [10, 50, 100, 500]\n",
        "\tfor n in n_trees:\n",
        "\t\tmodels[str(n)] = AdaBoostClassifier(n_estimators=n)\n",
        "\treturn models\n",
        " \n",
        "# evaluate a given model using cross-validation\n",
        "def evaluate_model(model, X, y):\n",
        "\t# define the evaluation procedure\n",
        "\tcv = RepeatedStratifiedKFold(n_splits=10, n_repeats=3, random_state=1)\n",
        "\t# evaluate the model and collect the results\n",
        "\tscores = cross_val_score(model, X, y, scoring='accuracy', cv=cv, n_jobs=-1)\n",
        "\treturn scores\n",
        " \n",
        "# define dataset\n",
        "X, y = get_dataset()\n",
        "# get the models to evaluate\n",
        "models = get_models()\n",
        "# evaluate the models and store results\n",
        "results, names = list(), list()\n",
        "for name, model in models.items():\n",
        "\t# evaluate the model\n",
        "\tscores = evaluate_model(model, X, y)\n",
        "\t# store the results\n",
        "\tresults.append(scores)\n",
        "\tnames.append(name)\n",
        "\t# summarize the performance along the way\n",
        "\tprint('>%s %.3f (%.3f)' % (name, mean(scores), std(scores)))\n",
        "# plot model performance for comparison\n",
        "pyplot.boxplot(results, labels=names, showmeans=True)\n",
        "pyplot.show()"
      ],
      "metadata": {
        "colab": {
          "base_uri": "https://localhost:8080/",
          "height": 337
        },
        "id": "nmoYt-mt4Nby",
        "outputId": "029503dc-7c63-472e-bb03-a2a343419191"
      },
      "execution_count": 8,
      "outputs": [
        {
          "output_type": "stream",
          "name": "stdout",
          "text": [
            ">10 0.773 (0.039)\n",
            ">50 0.806 (0.041)\n",
            ">100 0.801 (0.032)\n",
            ">500 0.793 (0.028)\n"
          ]
        },
        {
          "output_type": "display_data",
          "data": {
            "text/plain": [
              "<Figure size 432x288 with 1 Axes>"
            ],
            "image/png": "[encoded data removed]"
          },
          "metadata": {
            "needs_background": "light"
          }
        }
      ]
    },
    {
      "cell_type": "code",
      "source": [
        "abc=AdaBoostClassifier()\n",
        "n_trees = [10, 50, 100, 500]\n",
        "n_folds=10\n",
        "tuned_parameters = [{\"n_estimators\": n_trees}]\n",
        "from sklearn.model_selection import GridSearchCV\n",
        "clf=GridSearchCV(abc, tuned_parameters, cv=n_folds, refit=False)\n",
        "clf.fit(X,y)"
      ],
      "metadata": {
        "colab": {
          "base_uri": "https://localhost:8080/"
        },
        "id": "a_yIPv-852ER",
        "outputId": "18f81aa4-24f9-4bd3-b10b-5ef08f486059"
      },
      "execution_count": 14,
      "outputs": [
        {
          "output_type": "execute_result",
          "data": {
            "text/plain": [
              "GridSearchCV(cv=10, estimator=AdaBoostClassifier(),\n",
              "             param_grid=[{'n_estimators': [10, 50, 100, 500]}], refit=False)"
            ]
          },
          "metadata": {},
          "execution_count": 14
        }
      ]
    },
    {
      "cell_type": "code",
      "source": [
        "scores = clf.cv_results_[\"mean_test_score\"]\n",
        "scores_std = clf.cv_results_[\"std_test_score\"]\n"
      ],
      "metadata": {
        "id": "Ok4Awy9Q4jGd"
      },
      "execution_count": 15,
      "outputs": []
    },
    {
      "cell_type": "code",
      "source": [
        "plt.figure().set_size_inches(8, 6)\n",
        "plt.semilogx(n_trees, scores)\n",
        "\n",
        "std_error = scores_std / np.sqrt(n_folds)\n",
        "\n",
        "plt.semilogx(n_trees, scores + std_error, \"b--\")\n",
        "plt.semilogx(n_trees, scores - std_error, \"b--\")\n",
        "\n",
        "# alpha=0.2 controls the translucency of the fill color\n",
        "plt.fill_between(n_trees, scores + std_error, scores - std_error, alpha=0.2)\n",
        "\n",
        "plt.ylabel(\"CV score +/- std error\")\n",
        "plt.xlabel(\"árboles\")\n",
        "plt.axhline(np.max(scores), linestyle=\"--\", color=\".5\")\n",
        "plt.xlim([n_trees[0], n_trees[-1]])"
      ],
      "metadata": {
        "colab": {
          "base_uri": "https://localhost:8080/",
          "height": 409
        },
        "id": "YhKzrmuX4rJI",
        "outputId": "f07c016e-c0db-4891-d917-32375e89abaf"
      },
      "execution_count": 16,
      "outputs": [
        {
          "output_type": "execute_result",
          "data": {
            "text/plain": [
              "(10, 500)"
            ]
          },
          "metadata": {},
          "execution_count": 16
        },
        {
          "output_type": "display_data",
          "data": {
            "text/plain": [
              "<Figure size 576x432 with 1 Axes>"
            ],
            "image/png": "[encoded data removed]"
          },
          "metadata": {
            "needs_background": "light"
          }
        }
      ]
    },
    {
      "cell_type": "code",
      "source": [
        "from sklearn.linear_model import LassoCV\n",
        "from sklearn.model_selection import KFold\n",
        "\n",
        "k_fold = KFold(10)\n",
        "\n",
        "\n",
        "print(\"¿Qué tanto se puede confiar en la selección del árbol?\")\n",
        "print()\n",
        "print(\"¿La selección de # de árboles maximiza el score en distintos subconjuntos?\")\n",
        "for k, (train, test) in enumerate(k_fold.split(X, y)):\n",
        "  for i in n_trees:\n",
        "    model=AdaBoostClassifier(n_estimators=i)\n",
        "    model.fit(X[train], y[train])\n",
        "    print(\n",
        "        \"[fold {0}] i: [tamaño test {0}]: {2:.5f}, score: {3:.5f}\".format(\n",
        "            k, i, len(test), model.score(X[test], y[test])\n",
        "        )\n",
        "    )\n",
        "print()\n",
        "print(\"Respuesta: Los scores en el conjunto de prueba varían entre 10 puntos porcentuales por lo que hay que tomarlo con cautela\")\n",
        "\n",
        "plt.show()"
      ],
      "metadata": {
        "colab": {
          "base_uri": "https://localhost:8080/"
        },
        "id": "ipWt94tr86cv",
        "outputId": "8b7516b4-0e82-418a-e9ab-d1590518ba2e"
      },
      "execution_count": 25,
      "outputs": [
        {
          "output_type": "stream",
          "name": "stdout",
          "text": [
            "¿Qué tanto se puede confiar en la selección del árbol?\n",
            "\n",
            "¿La selección de # de árboles maximiza el score en distintos subconjuntos?\n",
            "[fold 0] i: [tamaño test 0]: 100.00000, score: 0.74000\n",
            "[fold 0] i: [tamaño test 0]: 100.00000, score: 0.83000\n",
            "[fold 0] i: [tamaño test 0]: 100.00000, score: 0.81000\n",
            "[fold 0] i: [tamaño test 0]: 100.00000, score: 0.78000\n",
            "[fold 1] i: [tamaño test 1]: 100.00000, score: 0.80000\n",
            "[fold 1] i: [tamaño test 1]: 100.00000, score: 0.82000\n",
            "[fold 1] i: [tamaño test 1]: 100.00000, score: 0.88000\n",
            "[fold 1] i: [tamaño test 1]: 100.00000, score: 0.87000\n",
            "[fold 2] i: [tamaño test 2]: 100.00000, score: 0.75000\n",
            "[fold 2] i: [tamaño test 2]: 100.00000, score: 0.78000\n",
            "[fold 2] i: [tamaño test 2]: 100.00000, score: 0.80000\n",
            "[fold 2] i: [tamaño test 2]: 100.00000, score: 0.81000\n",
            "[fold 3] i: [tamaño test 3]: 100.00000, score: 0.78000\n",
            "[fold 3] i: [tamaño test 3]: 100.00000, score: 0.83000\n",
            "[fold 3] i: [tamaño test 3]: 100.00000, score: 0.83000\n",
            "[fold 3] i: [tamaño test 3]: 100.00000, score: 0.82000\n",
            "[fold 4] i: [tamaño test 4]: 100.00000, score: 0.72000\n",
            "[fold 4] i: [tamaño test 4]: 100.00000, score: 0.81000\n",
            "[fold 4] i: [tamaño test 4]: 100.00000, score: 0.81000\n",
            "[fold 4] i: [tamaño test 4]: 100.00000, score: 0.78000\n",
            "[fold 5] i: [tamaño test 5]: 100.00000, score: 0.75000\n",
            "[fold 5] i: [tamaño test 5]: 100.00000, score: 0.77000\n",
            "[fold 5] i: [tamaño test 5]: 100.00000, score: 0.74000\n",
            "[fold 5] i: [tamaño test 5]: 100.00000, score: 0.76000\n",
            "[fold 6] i: [tamaño test 6]: 100.00000, score: 0.81000\n",
            "[fold 6] i: [tamaño test 6]: 100.00000, score: 0.82000\n",
            "[fold 6] i: [tamaño test 6]: 100.00000, score: 0.82000\n",
            "[fold 6] i: [tamaño test 6]: 100.00000, score: 0.82000\n",
            "[fold 7] i: [tamaño test 7]: 100.00000, score: 0.82000\n",
            "[fold 7] i: [tamaño test 7]: 100.00000, score: 0.82000\n",
            "[fold 7] i: [tamaño test 7]: 100.00000, score: 0.83000\n",
            "[fold 7] i: [tamaño test 7]: 100.00000, score: 0.84000\n",
            "[fold 8] i: [tamaño test 8]: 100.00000, score: 0.76000\n",
            "[fold 8] i: [tamaño test 8]: 100.00000, score: 0.79000\n",
            "[fold 8] i: [tamaño test 8]: 100.00000, score: 0.78000\n",
            "[fold 8] i: [tamaño test 8]: 100.00000, score: 0.77000\n",
            "[fold 9] i: [tamaño test 9]: 100.00000, score: 0.77000\n",
            "[fold 9] i: [tamaño test 9]: 100.00000, score: 0.82000\n",
            "[fold 9] i: [tamaño test 9]: 100.00000, score: 0.85000\n",
            "[fold 9] i: [tamaño test 9]: 100.00000, score: 0.87000\n",
            "\n",
            "Respuesta: Los scores en el conjunto de prueba varían entre 10 puntos porcentuales por lo que hay que tomarlo con cautela\n"
          ]
        }
      ]
    }
  ]
}
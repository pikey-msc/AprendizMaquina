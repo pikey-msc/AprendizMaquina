{
  "cells": [
    {
      "cell_type": "markdown",
      "metadata": {
        "id": "view-in-github",
        "colab_type": "text"
      },
      "source": [
        "<a href=\"https://colab.research.google.com/github/pikey-msc/AprendizMaquina/blob/main/2023-1/KNN/KNN_Regressor.ipynb\" target=\"_parent\"><img src=\"https://colab.research.google.com/assets/colab-badge.svg\" alt=\"Open In Colab\"/></a>"
      ]
    },
    {
      "cell_type": "code",
      "execution_count": 2,
      "metadata": {
        "ExecuteTime": {
          "end_time": "2022-03-11T00:35:41.287318Z",
          "start_time": "2022-03-11T00:35:40.939939Z"
        },
        "id": "nbmrxopx-iye"
      },
      "outputs": [],
      "source": [
        "import pandas as pd\n",
        "import numpy as np\n",
        "pd.set_option('display.max_columns',200)"
      ]
    },
    {
      "cell_type": "code",
      "source": [
        "try:\n",
        "    !rm -rf AprendizMaquina\n",
        "except:\n",
        "    print(\"No existe la ruta aún\")\n",
        "\n",
        "\n",
        "\n",
        "!git clone 'https://github.com/pikey-msc/AprendizMaquina'"
      ],
      "metadata": {
        "colab": {
          "base_uri": "https://localhost:8080/"
        },
        "id": "70u5HlIX_Q-4",
        "outputId": "35307dc0-59b4-44c2-92b5-bd7e4d760bad"
      },
      "execution_count": 1,
      "outputs": [
        {
          "output_type": "stream",
          "name": "stdout",
          "text": [
            "Cloning into 'AprendizMaquina'...\n",
            "remote: Enumerating objects: 211, done.\u001b[K\n",
            "remote: Counting objects: 100% (145/145), done.\u001b[K\n",
            "remote: Compressing objects: 100% (111/111), done.\u001b[K\n",
            "remote: Total 211 (delta 31), reused 130 (delta 28), pack-reused 66\u001b[K\n",
            "Receiving objects: 100% (211/211), 11.88 MiB | 14.28 MiB/s, done.\n",
            "Resolving deltas: 100% (48/48), done.\n"
          ]
        }
      ]
    },
    {
      "cell_type": "code",
      "execution_count": null,
      "metadata": {
        "ExecuteTime": {
          "end_time": "2022-03-11T00:35:42.588722Z",
          "start_time": "2022-03-11T00:35:42.035081Z"
        },
        "id": "zylo0J_K-iyn"
      },
      "outputs": [],
      "source": [
        "import missingno as msno"
      ]
    },
    {
      "cell_type": "code",
      "execution_count": null,
      "metadata": {
        "ExecuteTime": {
          "end_time": "2022-03-11T00:35:43.902377Z",
          "start_time": "2022-03-11T00:35:43.716142Z"
        },
        "id": "cEJ4z-g_-iyo"
      },
      "outputs": [],
      "source": [
        "from sklearn.model_selection import train_test_split"
      ]
    },
    {
      "cell_type": "code",
      "execution_count": 3,
      "metadata": {
        "ExecuteTime": {
          "end_time": "2022-03-11T00:35:44.617332Z",
          "start_time": "2022-03-11T00:35:44.590344Z"
        },
        "id": "XGjS3Vkq-iyq"
      },
      "outputs": [],
      "source": [
        "insurance=pd.read_csv('/content/AprendizMaquina/2023-1/KNN/Datos/insurance.csv')"
      ]
    },
    {
      "cell_type": "code",
      "execution_count": null,
      "metadata": {
        "ExecuteTime": {
          "end_time": "2022-03-11T00:35:49.125167Z",
          "start_time": "2022-03-11T00:35:48.691437Z"
        },
        "id": "vZNouHeJ-iyr",
        "outputId": "5b1880cf-a308-4b1c-e354-698d504aa07c"
      },
      "outputs": [
        {
          "data": {
            "text/plain": [
              "<AxesSubplot:>"
            ]
          },
          "execution_count": 5,
          "metadata": {},
          "output_type": "execute_result"
        },
        {
          "data": {
            "image/png": "[encoded data removed]",
            "text/plain": [
              "<Figure size 1800x720 with 2 Axes>"
            ]
          },
          "metadata": {
            "needs_background": "light"
          },
          "output_type": "display_data"
        }
      ],
      "source": [
        "msno.matrix(insurance)"
      ]
    },
    {
      "cell_type": "code",
      "execution_count": null,
      "metadata": {
        "ExecuteTime": {
          "end_time": "2022-03-11T00:35:55.065049Z",
          "start_time": "2022-03-11T00:35:55.049519Z"
        },
        "id": "fuKXUmqw-iyu",
        "outputId": "7ac82f7a-03c3-4dd3-a0ff-f45cef3ee4c4"
      },
      "outputs": [
        {
          "data": {
            "text/html": [
              "<div>\n",
              "<style scoped>\n",
              "    .dataframe tbody tr th:only-of-type {\n",
              "        vertical-align: middle;\n",
              "    }\n",
              "\n",
              "    .dataframe tbody tr th {\n",
              "        vertical-align: top;\n",
              "    }\n",
              "\n",
              "    .dataframe thead th {\n",
              "        text-align: right;\n",
              "    }\n",
              "</style>\n",
              "<table border=\"1\" class=\"dataframe\">\n",
              "  <thead>\n",
              "    <tr style=\"text-align: right;\">\n",
              "      <th></th>\n",
              "      <th>age</th>\n",
              "      <th>sex</th>\n",
              "      <th>bmi</th>\n",
              "      <th>children</th>\n",
              "      <th>smoker</th>\n",
              "      <th>region</th>\n",
              "      <th>charges</th>\n",
              "    </tr>\n",
              "  </thead>\n",
              "  <tbody>\n",
              "    <tr>\n",
              "      <th>0</th>\n",
              "      <td>19</td>\n",
              "      <td>female</td>\n",
              "      <td>27.900</td>\n",
              "      <td>0</td>\n",
              "      <td>yes</td>\n",
              "      <td>southwest</td>\n",
              "      <td>16884.92400</td>\n",
              "    </tr>\n",
              "    <tr>\n",
              "      <th>1</th>\n",
              "      <td>18</td>\n",
              "      <td>male</td>\n",
              "      <td>33.770</td>\n",
              "      <td>1</td>\n",
              "      <td>no</td>\n",
              "      <td>southeast</td>\n",
              "      <td>1725.55230</td>\n",
              "    </tr>\n",
              "    <tr>\n",
              "      <th>2</th>\n",
              "      <td>28</td>\n",
              "      <td>male</td>\n",
              "      <td>33.000</td>\n",
              "      <td>3</td>\n",
              "      <td>no</td>\n",
              "      <td>southeast</td>\n",
              "      <td>4449.46200</td>\n",
              "    </tr>\n",
              "    <tr>\n",
              "      <th>3</th>\n",
              "      <td>33</td>\n",
              "      <td>male</td>\n",
              "      <td>22.705</td>\n",
              "      <td>0</td>\n",
              "      <td>no</td>\n",
              "      <td>northwest</td>\n",
              "      <td>21984.47061</td>\n",
              "    </tr>\n",
              "    <tr>\n",
              "      <th>4</th>\n",
              "      <td>32</td>\n",
              "      <td>male</td>\n",
              "      <td>28.880</td>\n",
              "      <td>0</td>\n",
              "      <td>no</td>\n",
              "      <td>northwest</td>\n",
              "      <td>3866.85520</td>\n",
              "    </tr>\n",
              "  </tbody>\n",
              "</table>\n",
              "</div>"
            ],
            "text/plain": [
              "   age     sex     bmi  children smoker     region      charges\n",
              "0   19  female  27.900         0    yes  southwest  16884.92400\n",
              "1   18    male  33.770         1     no  southeast   1725.55230\n",
              "2   28    male  33.000         3     no  southeast   4449.46200\n",
              "3   33    male  22.705         0     no  northwest  21984.47061\n",
              "4   32    male  28.880         0     no  northwest   3866.85520"
            ]
          },
          "execution_count": 6,
          "metadata": {},
          "output_type": "execute_result"
        }
      ],
      "source": [
        "insurance.head()"
      ]
    },
    {
      "cell_type": "code",
      "execution_count": null,
      "metadata": {
        "ExecuteTime": {
          "end_time": "2022-03-11T00:36:00.358352Z",
          "start_time": "2022-03-11T00:36:00.274492Z"
        },
        "id": "VNb90auh-iyv"
      },
      "outputs": [],
      "source": [
        "dumm_insurance=pd.get_dummies(insurance['region'])\n",
        "\n",
        "insurance['sex']=insurance['sex'].map(lambda x: 1 if x=='female' else 0)\n",
        "\n",
        "insurance['smoker']=insurance['smoker'].map(lambda x: 1 if x=='yes' else 0)\n",
        "\n",
        "\n",
        "df_insurance= pd.concat([insurance,dumm_insurance],axis=1)"
      ]
    },
    {
      "cell_type": "code",
      "execution_count": null,
      "metadata": {
        "ExecuteTime": {
          "end_time": "2022-03-11T00:36:03.213124Z",
          "start_time": "2022-03-11T00:36:03.187165Z"
        },
        "id": "KF1L5Ynt-iyx",
        "outputId": "cb4c2171-b0b3-421f-d574-ea9a839baa72"
      },
      "outputs": [
        {
          "data": {
            "text/html": [
              "<div>\n",
              "<style scoped>\n",
              "    .dataframe tbody tr th:only-of-type {\n",
              "        vertical-align: middle;\n",
              "    }\n",
              "\n",
              "    .dataframe tbody tr th {\n",
              "        vertical-align: top;\n",
              "    }\n",
              "\n",
              "    .dataframe thead th {\n",
              "        text-align: right;\n",
              "    }\n",
              "</style>\n",
              "<table border=\"1\" class=\"dataframe\">\n",
              "  <thead>\n",
              "    <tr style=\"text-align: right;\">\n",
              "      <th></th>\n",
              "      <th>age</th>\n",
              "      <th>sex</th>\n",
              "      <th>bmi</th>\n",
              "      <th>children</th>\n",
              "      <th>smoker</th>\n",
              "      <th>region</th>\n",
              "      <th>charges</th>\n",
              "      <th>northeast</th>\n",
              "      <th>northwest</th>\n",
              "      <th>southeast</th>\n",
              "      <th>southwest</th>\n",
              "    </tr>\n",
              "  </thead>\n",
              "  <tbody>\n",
              "    <tr>\n",
              "      <th>0</th>\n",
              "      <td>19</td>\n",
              "      <td>1</td>\n",
              "      <td>27.900</td>\n",
              "      <td>0</td>\n",
              "      <td>1</td>\n",
              "      <td>southwest</td>\n",
              "      <td>16884.92400</td>\n",
              "      <td>0</td>\n",
              "      <td>0</td>\n",
              "      <td>0</td>\n",
              "      <td>1</td>\n",
              "    </tr>\n",
              "    <tr>\n",
              "      <th>1</th>\n",
              "      <td>18</td>\n",
              "      <td>0</td>\n",
              "      <td>33.770</td>\n",
              "      <td>1</td>\n",
              "      <td>0</td>\n",
              "      <td>southeast</td>\n",
              "      <td>1725.55230</td>\n",
              "      <td>0</td>\n",
              "      <td>0</td>\n",
              "      <td>1</td>\n",
              "      <td>0</td>\n",
              "    </tr>\n",
              "    <tr>\n",
              "      <th>2</th>\n",
              "      <td>28</td>\n",
              "      <td>0</td>\n",
              "      <td>33.000</td>\n",
              "      <td>3</td>\n",
              "      <td>0</td>\n",
              "      <td>southeast</td>\n",
              "      <td>4449.46200</td>\n",
              "      <td>0</td>\n",
              "      <td>0</td>\n",
              "      <td>1</td>\n",
              "      <td>0</td>\n",
              "    </tr>\n",
              "    <tr>\n",
              "      <th>3</th>\n",
              "      <td>33</td>\n",
              "      <td>0</td>\n",
              "      <td>22.705</td>\n",
              "      <td>0</td>\n",
              "      <td>0</td>\n",
              "      <td>northwest</td>\n",
              "      <td>21984.47061</td>\n",
              "      <td>0</td>\n",
              "      <td>1</td>\n",
              "      <td>0</td>\n",
              "      <td>0</td>\n",
              "    </tr>\n",
              "    <tr>\n",
              "      <th>4</th>\n",
              "      <td>32</td>\n",
              "      <td>0</td>\n",
              "      <td>28.880</td>\n",
              "      <td>0</td>\n",
              "      <td>0</td>\n",
              "      <td>northwest</td>\n",
              "      <td>3866.85520</td>\n",
              "      <td>0</td>\n",
              "      <td>1</td>\n",
              "      <td>0</td>\n",
              "      <td>0</td>\n",
              "    </tr>\n",
              "  </tbody>\n",
              "</table>\n",
              "</div>"
            ],
            "text/plain": [
              "   age  sex     bmi  children  smoker     region      charges  northeast  \\\n",
              "0   19    1  27.900         0       1  southwest  16884.92400          0   \n",
              "1   18    0  33.770         1       0  southeast   1725.55230          0   \n",
              "2   28    0  33.000         3       0  southeast   4449.46200          0   \n",
              "3   33    0  22.705         0       0  northwest  21984.47061          0   \n",
              "4   32    0  28.880         0       0  northwest   3866.85520          0   \n",
              "\n",
              "   northwest  southeast  southwest  \n",
              "0          0          0          1  \n",
              "1          0          1          0  \n",
              "2          0          1          0  \n",
              "3          1          0          0  \n",
              "4          1          0          0  "
            ]
          },
          "execution_count": 8,
          "metadata": {},
          "output_type": "execute_result"
        }
      ],
      "source": [
        "df_insurance.head()"
      ]
    },
    {
      "cell_type": "code",
      "execution_count": null,
      "metadata": {
        "ExecuteTime": {
          "end_time": "2022-03-11T00:38:02.691513Z",
          "start_time": "2022-03-11T00:38:02.681508Z"
        },
        "id": "SrqKxcSH-iyz"
      },
      "outputs": [],
      "source": [
        "target='charges'\n",
        "\n",
        "cont=[col for col in df_insurance.columns if col not in [target,'region','southwest']]"
      ]
    },
    {
      "cell_type": "code",
      "execution_count": null,
      "metadata": {
        "ExecuteTime": {
          "end_time": "2022-03-11T00:38:17.747547Z",
          "start_time": "2022-03-11T00:38:17.732766Z"
        },
        "id": "Zf3vUV72-iy1"
      },
      "outputs": [],
      "source": [
        "df_insurance=df_insurance[cont+[target]].copy()"
      ]
    },
    {
      "cell_type": "code",
      "execution_count": null,
      "metadata": {
        "ExecuteTime": {
          "end_time": "2022-03-11T00:38:26.888020Z",
          "start_time": "2022-03-11T00:38:26.868023Z"
        },
        "id": "aSlpaEZg-iy2"
      },
      "outputs": [],
      "source": [
        "X_insurance=df_insurance[cont]\n",
        "y_insurance=df_insurance[[target]]"
      ]
    },
    {
      "cell_type": "code",
      "execution_count": null,
      "metadata": {
        "ExecuteTime": {
          "end_time": "2022-03-11T00:38:36.215056Z",
          "start_time": "2022-03-11T00:38:36.189421Z"
        },
        "id": "KgbcxwIk-iy3"
      },
      "outputs": [],
      "source": [
        "X_train_insurance, X_test_insurance, y_train_insurance, y_test_insurance = train_test_split(X_insurance, y_insurance, test_size = 0.1, random_state = 0)"
      ]
    },
    {
      "cell_type": "code",
      "execution_count": null,
      "metadata": {
        "ExecuteTime": {
          "end_time": "2022-03-11T00:38:38.098506Z",
          "start_time": "2022-03-11T00:38:38.090792Z"
        },
        "id": "xWc_RkOi-iy4"
      },
      "outputs": [],
      "source": [
        "from sklearn.preprocessing import StandardScaler,MinMaxScaler"
      ]
    },
    {
      "cell_type": "code",
      "execution_count": null,
      "metadata": {
        "ExecuteTime": {
          "end_time": "2022-03-11T00:38:59.426025Z",
          "start_time": "2022-03-11T00:38:59.402916Z"
        },
        "id": "aGEfzqeH-iy5"
      },
      "outputs": [],
      "source": [
        "sc_X=StandardScaler()\n",
        "\n",
        "X_train_std=sc_X.fit_transform(X_train_insurance)\n",
        "\n",
        "X_test_std=sc_X.transform(X_test_insurance)"
      ]
    },
    {
      "cell_type": "code",
      "execution_count": null,
      "metadata": {
        "ExecuteTime": {
          "end_time": "2022-03-11T00:39:10.267249Z",
          "start_time": "2022-03-11T00:39:10.209016Z"
        },
        "id": "lZ7JQnRD-iy6"
      },
      "outputs": [],
      "source": [
        "from sklearn.svm import SVR"
      ]
    },
    {
      "cell_type": "code",
      "execution_count": null,
      "metadata": {
        "ExecuteTime": {
          "end_time": "2022-03-11T00:39:25.610665Z",
          "start_time": "2022-03-11T00:39:25.604503Z"
        },
        "id": "Vl_iO9GB-iy7"
      },
      "outputs": [],
      "source": [
        "svm=SVR(kernel='poly',degree=4)"
      ]
    },
    {
      "cell_type": "code",
      "execution_count": null,
      "metadata": {
        "ExecuteTime": {
          "end_time": "2022-03-11T00:39:28.803704Z",
          "start_time": "2022-03-11T00:39:28.699326Z"
        },
        "id": "OAsGgU40-iy7",
        "outputId": "72bd0de2-d790-4d3f-dab5-e285d6b6da08"
      },
      "outputs": [
        {
          "name": "stderr",
          "output_type": "stream",
          "text": [
            "/home/jorge/Documents/Diplomado/ambientes/diplo_env/lib/python3.6/site-packages/sklearn/utils/validation.py:72: DataConversionWarning: A column-vector y was passed when a 1d array was expected. Please change the shape of y to (n_samples, ), for example using ravel().\n",
            "  return f(**kwargs)\n"
          ]
        },
        {
          "data": {
            "text/plain": [
              "SVR(degree=4, kernel='poly')"
            ]
          },
          "execution_count": 18,
          "metadata": {},
          "output_type": "execute_result"
        }
      ],
      "source": [
        "svm.fit(X_train_std,y_train_insurance)"
      ]
    },
    {
      "cell_type": "code",
      "execution_count": null,
      "metadata": {
        "ExecuteTime": {
          "end_time": "2022-03-11T00:39:41.015946Z",
          "start_time": "2022-03-11T00:39:41.002495Z"
        },
        "scrolled": true,
        "id": "mB_U8G1k-iy8",
        "outputId": "d64935e0-7cf9-40b5-9912-811f00fc80f6"
      },
      "outputs": [
        {
          "data": {
            "text/plain": [
              "array([9268.53274326, 9270.15638052, 9319.87785086, 9299.26427669,\n",
              "       9285.35383377, 9263.47969433, 9255.88335018, 9288.86161964,\n",
              "       9271.09002762, 9264.71761967, 9262.84203131, 9278.53589479,\n",
              "       9267.44462107, 9265.39971839, 9337.57050778, 9277.15213021,\n",
              "       9290.12442098, 9263.54157719, 9263.49035058, 9368.61678152,\n",
              "       9324.96383104, 9286.92687249, 9288.71254723, 9329.21730669,\n",
              "       9256.65575848, 9269.99421991, 9262.3273502 , 9271.57106928,\n",
              "       9263.91979139, 9269.3896057 , 9272.01067815, 9384.23203411,\n",
              "       9282.95838204, 9275.92699778, 9390.68836874, 9262.5681442 ,\n",
              "       9271.0447105 , 9306.88928225, 9321.44946429, 9266.62765159,\n",
              "       9268.20587084, 9262.76158724, 9347.45729372, 9318.80752126,\n",
              "       9370.89934145, 9261.96411654, 9276.98331434, 9263.03578018,\n",
              "       9263.23930573, 9279.26293873, 9261.12921195, 9266.86908384,\n",
              "       9289.37981945, 9326.81780925, 9295.62693121, 9266.77252742,\n",
              "       9256.5939842 , 9273.62990212, 9260.76059267, 9284.27472248,\n",
              "       9267.29383513, 9334.96213725, 9286.9549498 , 9268.40482375,\n",
              "       9272.80156166, 9272.53480562, 9377.80172956, 9352.73699939,\n",
              "       9268.98226215, 9272.5739103 , 9276.16412241, 9276.6927367 ,\n",
              "       9324.15609925, 9297.89212215, 9302.75647067, 9305.16225365,\n",
              "       9269.72511881, 9268.7471416 , 9337.36262543, 9297.07853923,\n",
              "       9296.00322839, 9377.74878212, 9254.30556291, 9267.40356318,\n",
              "       9328.1448892 , 9344.75368155, 9266.29023947, 9255.18689378,\n",
              "       9270.39053032, 9304.84547632, 9275.10178211, 9270.90311146,\n",
              "       9267.03490002, 9269.83049763, 9269.39231212, 9266.00259556,\n",
              "       9339.69308903, 9293.37256746, 9264.10025726, 9281.35125517,\n",
              "       9258.18360393, 9263.57623219, 9263.38804965, 9356.88404832,\n",
              "       9342.64479513, 9253.47104613, 9273.35327512, 9256.29630504,\n",
              "       9300.13106817, 9296.26253009, 9285.08572497, 9250.69243807,\n",
              "       9275.42938319, 9372.64132143, 9388.20533796, 9262.75388345,\n",
              "       9267.33473616, 9269.2665372 , 9275.50616709, 9269.11580015,\n",
              "       9366.54090551, 9287.49027476, 9287.40433961, 9270.06118818,\n",
              "       9267.67599838, 9260.9160838 , 9331.25101734, 9329.46651969,\n",
              "       9304.24322132, 9258.04778213, 9269.52955289, 9259.3559189 ,\n",
              "       9264.8719396 , 9284.89110523])"
            ]
          },
          "execution_count": 19,
          "metadata": {},
          "output_type": "execute_result"
        }
      ],
      "source": [
        "svm.predict(X_test_std)\n"
      ]
    },
    {
      "cell_type": "code",
      "execution_count": null,
      "metadata": {
        "ExecuteTime": {
          "end_time": "2022-03-11T00:39:56.559779Z",
          "start_time": "2022-03-11T00:39:56.553076Z"
        },
        "id": "EIWYGCvY-iy9"
      },
      "outputs": [],
      "source": [
        "from sklearn.metrics import r2_score,mean_absolute_error,mean_squared_error"
      ]
    },
    {
      "cell_type": "code",
      "execution_count": null,
      "metadata": {
        "ExecuteTime": {
          "end_time": "2022-03-11T00:40:05.142180Z",
          "start_time": "2022-03-11T00:40:05.128405Z"
        },
        "id": "lrRm6PcN-iy9"
      },
      "outputs": [],
      "source": [
        "def metricas_regresion(y_true,y_pred):\n",
        "    r2=r2_score(y_true,y_pred)\n",
        "    mae=mean_absolute_error(y_true,y_pred)\n",
        "    mse=mean_squared_error(y_true,y_pred)\n",
        "    print(f'El r2 score es {r2}')\n",
        "    print(f'El error cuadrático medio es {mse}')\n",
        "    print(f'El error medio absoluto es {mae}')"
      ]
    },
    {
      "cell_type": "code",
      "execution_count": null,
      "metadata": {
        "ExecuteTime": {
          "end_time": "2022-03-11T00:40:28.869985Z",
          "start_time": "2022-03-11T00:40:28.865448Z"
        },
        "id": "71dbLKMs-iy_"
      },
      "outputs": [],
      "source": [
        "from sklearn.neighbors import KNeighborsRegressor"
      ]
    },
    {
      "cell_type": "code",
      "execution_count": null,
      "metadata": {
        "ExecuteTime": {
          "end_time": "2022-03-11T00:40:30.103010Z",
          "start_time": "2022-03-11T00:40:30.096581Z"
        },
        "id": "92_zVgTf-izA"
      },
      "outputs": [],
      "source": [
        "Knn=KNeighborsRegressor()"
      ]
    },
    {
      "cell_type": "code",
      "execution_count": null,
      "metadata": {
        "ExecuteTime": {
          "end_time": "2022-03-11T00:40:30.980736Z",
          "start_time": "2022-03-11T00:40:30.848155Z"
        },
        "id": "XG-r8BqD-izA"
      },
      "outputs": [],
      "source": [
        "KNeighborsRegressor?"
      ]
    },
    {
      "cell_type": "code",
      "execution_count": null,
      "metadata": {
        "ExecuteTime": {
          "end_time": "2022-03-11T00:40:52.688620Z",
          "start_time": "2022-03-11T00:40:52.673316Z"
        },
        "id": "NwP-fHYV-izB",
        "outputId": "8f8909ed-c1e8-4a3b-9711-cdd14e38bb7a"
      },
      "outputs": [
        {
          "data": {
            "text/plain": [
              "KNeighborsRegressor()"
            ]
          },
          "execution_count": 26,
          "metadata": {},
          "output_type": "execute_result"
        }
      ],
      "source": [
        "Knn.fit(X_train_std,y_train_insurance)"
      ]
    },
    {
      "cell_type": "code",
      "execution_count": null,
      "metadata": {
        "ExecuteTime": {
          "end_time": "2022-03-11T00:41:22.477077Z",
          "start_time": "2022-03-11T00:41:22.452487Z"
        },
        "id": "K3KyENTU-izC",
        "outputId": "e2b3bace-0b24-4780-c1f0-2caac0033a92"
      },
      "outputs": [
        {
          "data": {
            "text/plain": [
              "array([[ 8299.452   ],\n",
              "       [ 7721.46328 ],\n",
              "       [46710.832484],\n",
              "       [11777.80179 ],\n",
              "       [11441.75795 ],\n",
              "       [ 3668.90685 ],\n",
              "       [ 2588.9581  ],\n",
              "       [16508.519848],\n",
              "       [ 9907.91122 ],\n",
              "       [ 6124.48175 ],\n",
              "       [ 7717.33854 ],\n",
              "       [ 8954.39423 ],\n",
              "       [ 7022.6268  ],\n",
              "       [10970.78713 ],\n",
              "       [20898.19424 ],\n",
              "       [15144.790592],\n",
              "       [11617.78854 ],\n",
              "       [ 6707.536822],\n",
              "       [ 6432.93079 ],\n",
              "       [27637.204886],\n",
              "       [28884.20109 ],\n",
              "       [16009.216758],\n",
              "       [10859.95526 ],\n",
              "       [32173.00028 ],\n",
              "       [ 1266.6699  ],\n",
              "       [ 8007.555   ],\n",
              "       [ 3247.18897 ],\n",
              "       [11207.758272],\n",
              "       [ 7938.462988],\n",
              "       [ 7215.45852 ],\n",
              "       [ 8001.68597 ],\n",
              "       [47039.02148 ],\n",
              "       [13789.98448 ],\n",
              "       [12493.77308 ],\n",
              "       [16476.06643 ],\n",
              "       [ 4068.41571 ],\n",
              "       [10282.274994],\n",
              "       [38864.234574],\n",
              "       [34013.86773 ],\n",
              "       [ 3980.727666],\n",
              "       [ 6364.529808],\n",
              "       [ 2744.52292 ],\n",
              "       [22469.667024],\n",
              "       [43700.328524],\n",
              "       [33822.73938 ],\n",
              "       [ 7949.665188],\n",
              "       [15144.790592],\n",
              "       [ 6617.85228 ],\n",
              "       [10326.446748],\n",
              "       [14292.213452],\n",
              "       [ 2365.29542 ],\n",
              "       [11396.759088],\n",
              "       [28818.01544 ],\n",
              "       [45623.27171 ],\n",
              "       [12032.052   ],\n",
              "       [ 6826.97756 ],\n",
              "       [ 2048.32348 ],\n",
              "       [13385.850892],\n",
              "       [12407.431948],\n",
              "       [16088.520654],\n",
              "       [ 1597.1566  ],\n",
              "       [39118.987594],\n",
              "       [12717.42816 ],\n",
              "       [ 7694.7708  ],\n",
              "       [12151.132154],\n",
              "       [10090.384   ],\n",
              "       [24823.76414 ],\n",
              "       [32632.97298 ],\n",
              "       [ 6342.328642],\n",
              "       [ 8328.97917 ],\n",
              "       [11848.5842  ],\n",
              "       [13375.022286],\n",
              "       [28016.5636  ],\n",
              "       [13313.01782 ],\n",
              "       [16143.713324],\n",
              "       [12292.25886 ],\n",
              "       [ 8661.4952  ],\n",
              "       [12290.37465 ],\n",
              "       [20064.0365  ],\n",
              "       [36649.5696  ],\n",
              "       [14614.878572],\n",
              "       [48735.194844],\n",
              "       [ 2004.13871 ],\n",
              "       [ 7077.1486  ],\n",
              "       [39884.49701 ],\n",
              "       [22751.633734],\n",
              "       [ 3347.9914  ],\n",
              "       [ 5664.252266],\n",
              "       [11448.0802  ],\n",
              "       [35172.877   ],\n",
              "       [11164.596782],\n",
              "       [12462.342252],\n",
              "       [ 2321.7839  ],\n",
              "       [ 8157.8436  ],\n",
              "       [ 6333.98218 ],\n",
              "       [10598.13194 ],\n",
              "       [37076.31157 ],\n",
              "       [33998.4476  ],\n",
              "       [ 5890.18329 ],\n",
              "       [13027.40128 ],\n",
              "       [ 4991.012202],\n",
              "       [ 5050.24493 ],\n",
              "       [ 4125.18056 ],\n",
              "       [34271.60598 ],\n",
              "       [26332.29608 ],\n",
              "       [ 3171.55309 ],\n",
              "       [10967.2792  ],\n",
              "       [ 2510.75285 ],\n",
              "       [12689.05691 ],\n",
              "       [32728.07364 ],\n",
              "       [11459.7253  ],\n",
              "       [ 6084.125534],\n",
              "       [13128.19434 ],\n",
              "       [27637.204886],\n",
              "       [45964.01972 ],\n",
              "       [13143.117244],\n",
              "       [ 1651.4974  ],\n",
              "       [14310.573726],\n",
              "       [12618.13928 ],\n",
              "       [13025.531528],\n",
              "       [43824.8405  ],\n",
              "       [11441.75795 ],\n",
              "       [11905.5028  ],\n",
              "       [10340.50492 ],\n",
              "       [10871.60346 ],\n",
              "       [ 7691.78289 ],\n",
              "       [24272.86837 ],\n",
              "       [22440.63805 ],\n",
              "       [40445.29856 ],\n",
              "       [ 6016.819496],\n",
              "       [ 8170.62054 ],\n",
              "       [ 6805.60363 ],\n",
              "       [ 5857.1384  ],\n",
              "       [10906.45088 ]])"
            ]
          },
          "execution_count": 27,
          "metadata": {},
          "output_type": "execute_result"
        }
      ],
      "source": [
        "Knn.predict(X_test_std)"
      ]
    },
    {
      "cell_type": "code",
      "execution_count": null,
      "metadata": {
        "ExecuteTime": {
          "end_time": "2022-03-11T00:41:32.573243Z",
          "start_time": "2022-03-11T00:41:32.545703Z"
        },
        "id": "sF7-VG8m-izD",
        "outputId": "f40db26d-2c8d-4183-b9ae-013618f7257c"
      },
      "outputs": [
        {
          "name": "stdout",
          "output_type": "stream",
          "text": [
            "El r2 score es 0.8797629981711873\n",
            "El error cuadrático medio es 23314368.977161992\n",
            "El error medio absoluto es 3257.934568238806\n"
          ]
        }
      ],
      "source": [
        "metricas_regresion(y_test_insurance,Knn.predict(X_test_std))"
      ]
    },
    {
      "cell_type": "code",
      "execution_count": null,
      "metadata": {
        "ExecuteTime": {
          "end_time": "2022-03-11T00:42:00.973788Z",
          "start_time": "2022-03-11T00:42:00.948856Z"
        },
        "id": "6cLlwhuQ-izD",
        "outputId": "f292d055-430c-4a2f-d4b6-b86ff1b1d277"
      },
      "outputs": [
        {
          "name": "stdout",
          "output_type": "stream",
          "text": [
            "El r2 score es -0.20214245605565395\n",
            "El error cuadrático medio es 233099564.67059076\n",
            "El error medio absoluto es 9925.755074106157\n"
          ]
        }
      ],
      "source": [
        "metricas_regresion(y_test_insurance,svm.predict(X_test_std))"
      ]
    },
    {
      "cell_type": "code",
      "execution_count": null,
      "metadata": {
        "id": "NjccWpCC-izE"
      },
      "outputs": [],
      "source": []
    }
  ],
  "metadata": {
    "kernelspec": {
      "display_name": "diplo_env",
      "language": "python",
      "name": "diplo_env"
    },
    "varInspector": {
      "cols": {
        "lenName": 16,
        "lenType": 16,
        "lenVar": 40
      },
      "kernels_config": {
        "python": {
          "delete_cmd_postfix": "",
          "delete_cmd_prefix": "del ",
          "library": "var_list.py",
          "varRefreshCmd": "print(var_dic_list())"
        },
        "r": {
          "delete_cmd_postfix": ") ",
          "delete_cmd_prefix": "rm(",
          "library": "var_list.r",
          "varRefreshCmd": "cat(var_dic_list()) "
        }
      },
      "types_to_exclude": [
        "module",
        "function",
        "builtin_function_or_method",
        "instance",
        "_Feature"
      ],
      "window_display": false
    },
    "colab": {
      "provenance": [],
      "include_colab_link": true
    }
  },
  "nbformat": 4,
  "nbformat_minor": 0
}
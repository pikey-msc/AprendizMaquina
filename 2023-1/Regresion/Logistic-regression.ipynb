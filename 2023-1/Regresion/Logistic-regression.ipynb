{
  "cells": [
    {
      "cell_type": "markdown",
      "metadata": {
        "id": "i_JFB7d256Ba"
      },
      "source": [
        "# Logistic regression\n",
        "> In this chapter you will delve into the details of logistic regression. You'll learn all about regularization and how to interpret model output. This is the Summary of lecture \"Linear Classifiers in Python\", via datacamp.\n",
        "\n",
        "- toc: true \n",
        "- badges: true\n",
        "- comments: true\n",
        "- author: Chanseok Kang\n",
        "- categories: [Python, Datacamp, Machine_Learning]\n",
        "- image: images/svm_classification.png"
      ]
    },
    {
      "cell_type": "code",
      "execution_count": 1,
      "metadata": {
        "id": "u-JK2HcS56Bg"
      },
      "outputs": [],
      "source": [
        "import pandas as pd\n",
        "import numpy as np\n",
        "import matplotlib.pyplot as plt\n",
        "\n",
        "plt.rcParams['figure.figsize'] = (10, 5)"
      ]
    },
    {
      "cell_type": "code",
      "execution_count": 2,
      "metadata": {
        "id": "IIlFl1nl56Bi"
      },
      "outputs": [],
      "source": [
        "def make_meshgrid(x, y, h=.02, lims=None):\n",
        "    \"\"\"Create a mesh of points to plot in\n",
        "    \n",
        "    Parameters\n",
        "    ----------\n",
        "        x: data to base x-axis meshgrid on\n",
        "        y: data to base y-axis meshgrid on\n",
        "        h: stepsize for meshgrid, optional\n",
        "        \n",
        "    Returns\n",
        "    -------\n",
        "        xx, yy : ndarray\n",
        "    \"\"\"\n",
        "    \n",
        "    if lims is None:\n",
        "        x_min, x_max = x.min() - 1, x.max() + 1\n",
        "        y_min, y_max = y.min() - 1, y.max() + 1\n",
        "    else:\n",
        "        x_min, x_max, y_min, y_max = lims\n",
        "    xx, yy = np.meshgrid(np.arange(x_min, x_max, h),\n",
        "                         np.arange(y_min, y_max, h))\n",
        "    return xx, yy\n",
        "\n",
        "def plot_contours(ax, clf, xx, yy, proba=False, **params):\n",
        "    \"\"\"Plot the decision boundaries for a classifier.\n",
        "    \n",
        "    Parameters\n",
        "    ----------\n",
        "        ax: matplotlib axes object\n",
        "        clf: a classifier\n",
        "        xx: meshgrid ndarray\n",
        "        yy: meshgrid ndarray\n",
        "        params: dictionary of params to pass to contourf, optional\n",
        "    \"\"\"\n",
        "    if proba:\n",
        "        Z = clf.predict_proba(np.c_[xx.ravel(), yy.ravel()])[:,-1]\n",
        "        Z = Z.reshape(xx.shape)\n",
        "        out = ax.imshow(Z,extent=(np.min(xx), np.max(xx), np.min(yy), np.max(yy)), \n",
        "                        origin='lower', vmin=0, vmax=1, **params)\n",
        "        ax.contour(xx, yy, Z, levels=[0.5])\n",
        "    else:\n",
        "        Z = clf.predict(np.c_[xx.ravel(), yy.ravel()])\n",
        "        Z = Z.reshape(xx.shape)\n",
        "        out = ax.contourf(xx, yy, Z, **params)\n",
        "    return out\n",
        "\n",
        "def plot_classifier(X, y, clf, ax=None, ticks=False, proba=False, lims=None): \n",
        "    # assumes classifier \"clf\" is already fit\n",
        "    X0, X1 = X[:, 0], X[:, 1]\n",
        "    xx, yy = make_meshgrid(X0, X1, lims=lims)\n",
        "    \n",
        "    if ax is None:\n",
        "        plt.figure()\n",
        "        ax = plt.gca()\n",
        "        show = True\n",
        "    else:\n",
        "        show = False\n",
        "        \n",
        "    # can abstract some of this into a higher-level function for learners to call\n",
        "    cs = plot_contours(ax, clf, xx, yy, cmap=plt.cm.coolwarm, alpha=0.8, proba=proba)\n",
        "    if proba:\n",
        "        cbar = plt.colorbar(cs)\n",
        "        cbar.ax.set_ylabel('probability of red $\\Delta$ class', fontsize=20, rotation=270, labelpad=30)\n",
        "        cbar.ax.tick_params(labelsize=14)\n",
        "        #ax.scatter(X0, X1, c=y, cmap=plt.cm.coolwarm, s=30, edgecolors=\\'k\\', linewidth=1)\n",
        "    labels = np.unique(y)\n",
        "    if len(labels) == 2:\n",
        "        ax.scatter(X0[y==labels[0]], X1[y==labels[0]], cmap=plt.cm.coolwarm, \n",
        "                   s=60, c='b', marker='o', edgecolors='k')\n",
        "        ax.scatter(X0[y==labels[1]], X1[y==labels[1]], cmap=plt.cm.coolwarm, \n",
        "                   s=60, c='r', marker='^', edgecolors='k')\n",
        "    else:\n",
        "        ax.scatter(X0, X1, c=y, cmap=plt.cm.coolwarm, s=50, edgecolors='k', linewidth=1)\n",
        "\n",
        "    ax.set_xlim(xx.min(), xx.max())\n",
        "    ax.set_ylim(yy.min(), yy.max())\n",
        "    #     ax.set_xlabel(data.feature_names[0])\n",
        "    #     ax.set_ylabel(data.feature_names[1])\n",
        "    if ticks:\n",
        "        ax.set_xticks(())\n",
        "        ax.set_yticks(())\n",
        "        #     ax.set_title(title)\n",
        "    if show:\n",
        "        plt.show()\n",
        "    else:\n",
        "        return ax"
      ]
    },
    {
      "cell_type": "markdown",
      "metadata": {
        "id": "OqVZyaTL56Bk"
      },
      "source": [
        "## Logistic regression and regularization\n",
        "- Regularized logistic regression\n",
        "    - Hyperparameter \"C\" is the inverse of the regularization strength\n",
        "        - Larger \"C\": less regularization\n",
        "        - Smaller \"C\": more regularization\n",
        "    - regularized loss = original loss + large coefficient penalty\n",
        "        - more regularization: lower training accuracy\n",
        "        - more regularization: (almost always) higher test accuracy\n",
        "- L1 vs. L2 regularization\n",
        "    - Lasso = linear regression with L1 regularization\n",
        "    - Ridge = linear regression with L2 regularization\n",
        "   "
      ]
    },
    {
      "cell_type": "markdown",
      "metadata": {
        "id": "7bKvLQyL56Bl"
      },
      "source": [
        "### Regularized logistic regression\n",
        "In Chapter 1, you used logistic regression on the handwritten digits data set. Here, we'll explore the effect of L2 regularization. The handwritten digits dataset is already loaded, split, and stored in the variables X_train, y_train, X_valid, and y_valid. The variables train_errs and valid_errs are already initialized as empty lists.\n",
        "\n"
      ]
    },
    {
      "cell_type": "code",
      "execution_count": 3,
      "metadata": {
        "id": "qh9PQhjg56Bm"
      },
      "outputs": [],
      "source": [
        "from sklearn.datasets import load_digits\n",
        "from sklearn.linear_model import LogisticRegression\n",
        "from sklearn.model_selection import train_test_split\n",
        "\n",
        "digits = load_digits()\n",
        "\n",
        "X_train, X_valid, y_train, y_valid = train_test_split(digits.data, digits.target)"
      ]
    },
    {
      "cell_type": "code",
      "execution_count": 4,
      "metadata": {
        "colab": {
          "base_uri": "https://localhost:8080/",
          "height": 342
        },
        "id": "lTAKntoS56Bn",
        "outputId": "2393059b-60c2-46f1-c2c8-b6d39786881b"
      },
      "outputs": [
        {
          "output_type": "display_data",
          "data": {
            "text/plain": [
              "<Figure size 720x360 with 1 Axes>"
            ],
            "image/png": "[encoded data removed]"
          },
          "metadata": {
            "needs_background": "light"
          }
        }
      ],
      "source": [
        "# Train and validation errors initialized as empty list\n",
        "train_errs = list()\n",
        "valid_errs = list()\n",
        "\n",
        "# Loop over values of C_value\n",
        "C_values = [0.001, 0.01, 0.1, 1, 10, 100, 1000]\n",
        "for C_value in C_values:\n",
        "    # Create LogisticRegression object and fit\n",
        "    lr = LogisticRegression(C=C_value, max_iter=10000)\n",
        "    lr.fit(X_train, y_train)\n",
        "    \n",
        "    # Evalueate error rates and append to lists\n",
        "    train_errs.append(1.0 - lr.score(X_train, y_train))\n",
        "    valid_errs.append(1.0 - lr.score(X_valid, y_valid))\n",
        "    \n",
        "# Plot results\n",
        "plt.semilogx(C_values, train_errs, C_values, valid_errs);\n",
        "plt.ylabel('classification error')\n",
        "plt.xlabel('C (Inverse regularization strength)')\n",
        "plt.legend((\"train\", \"validation\"));"
      ]
    },
    {
      "cell_type": "markdown",
      "metadata": {
        "id": "BwCkHcHY56Bo"
      },
      "source": [
        "### Logistic regression and feature selection\n",
        "In this exercise we'll perform feature selection on the movie review sentiment data set using L1 regularization. The features and targets are already loaded for you in `X_train` and `y_train`.\n",
        "\n",
        "We'll search for the best value of C using scikit-learn's `GridSearchCV()`, which was covered in the prerequisite course."
      ]
    },
    {
      "cell_type": "code",
      "source": [
        "!rm -rf large-movie-reviews-dataset\n",
        "!git clone 'https://github.com/jalbertbowden/large-movie-reviews-dataset'\n"
      ],
      "metadata": {
        "colab": {
          "base_uri": "https://localhost:8080/"
        },
        "id": "DOaFFy6E6q6q",
        "outputId": "84464d67-db60-4bf7-9dd0-027dc02e8333"
      },
      "execution_count": 9,
      "outputs": [
        {
          "output_type": "stream",
          "name": "stdout",
          "text": [
            "Cloning into 'large-movie-reviews-dataset'...\n",
            "remote: Enumerating objects: 98494, done.\u001b[K\n",
            "remote: Counting objects: 100% (98494/98494), done.\u001b[K\n",
            "remote: Compressing objects: 100% (98485/98485), done.\u001b[K\n",
            "remote: Total 98494 (delta 3), reused 98494 (delta 3), pack-reused 0\n",
            "Receiving objects: 100% (98494/98494), 95.80 MiB | 8.72 MiB/s, done.\n",
            "Resolving deltas: 100% (3/3), done.\n",
            "Checking out files: 100% (100013/100013), done.\n"
          ]
        }
      ]
    },
    {
      "cell_type": "code",
      "execution_count": 12,
      "metadata": {
        "id": "A0W7A-cJ56Bp"
      },
      "outputs": [],
      "source": [
        "from sklearn.datasets import load_svmlight_file\n",
        "\n",
        "X_train, y_train = load_svmlight_file('/content/large-movie-reviews-dataset/acl-imdb-v1/train/labeledBow.feat')\n",
        "y_train[y_train < 5] = -1.0\n",
        "y_train[y_train >= 5] = 1.0"
      ]
    },
    {
      "cell_type": "code",
      "execution_count": 13,
      "metadata": {
        "colab": {
          "base_uri": "https://localhost:8080/"
        },
        "id": "i9d7A1IN56Bp",
        "outputId": "28e5f2c9-ab0e-4b65-b447-f132a97435b1"
      },
      "outputs": [
        {
          "output_type": "stream",
          "name": "stdout",
          "text": [
            "Best CV params {'C': 0.1}\n",
            "Total number of features: 89527\n",
            "Number of selected features: 1106\n"
          ]
        }
      ],
      "source": [
        "from sklearn.model_selection import GridSearchCV\n",
        "\n",
        "# Specify L1 regularization\n",
        "lr = LogisticRegression(penalty='l1', solver='liblinear')\n",
        "\n",
        "# Instantiate the GridSearchCV object and run the search\n",
        "searcher = GridSearchCV(lr, {'C':[0.001, 0.01, 0.1, 1, 10]})\n",
        "searcher.fit(X_train, y_train)\n",
        "\n",
        "# Report the best parameters\n",
        "print(\"Best CV params\", searcher.best_params_)\n",
        "\n",
        "# Find the number of nonzero coefficients (select features)\n",
        "best_lr = searcher.best_estimator_\n",
        "coefs = best_lr.coef_\n",
        "print(\"Total number of features:\", coefs.size)\n",
        "print(\"Number of selected features:\", np.count_nonzero(coefs))"
      ]
    },
    {
      "cell_type": "markdown",
      "metadata": {
        "id": "XyE63-FD56Bt"
      },
      "source": [
        "### Visualizing easy and difficult examples\n",
        "In this exercise, you'll visualize the examples that the logistic regression model is most and least confident about by looking at the largest and smallest predicted probabilities."
      ]
    },
    {
      "cell_type": "code",
      "execution_count": 14,
      "metadata": {
        "id": "Euz-CexB56Bt"
      },
      "outputs": [],
      "source": [
        "def show_digit(i, lr=None):\n",
        "    plt.imshow(np.reshape(X[i], (8,8)), cmap='gray', \n",
        "               vmin = 0, vmax = 16, interpolation=None)\n",
        "    plt.xticks(())\n",
        "    plt.yticks(())\n",
        "    if lr is None:\n",
        "        plt.title(\"class label = %d\" % y[i])\n",
        "    else:\n",
        "        pred = lr.predict(X[i][None])\n",
        "        pred_prob = lr.predict_proba(X[i][None])[0,pred]\n",
        "        plt.title(\"label=%d, prediction=%d, proba=%.2f\" % (y[i], pred, pred_prob))\n",
        "        plt.show()"
      ]
    },
    {
      "cell_type": "code",
      "execution_count": 15,
      "metadata": {
        "id": "g70P7-9V56Bu"
      },
      "outputs": [],
      "source": [
        "X, y = digits.data, digits.target"
      ]
    },
    {
      "cell_type": "code",
      "execution_count": 16,
      "metadata": {
        "colab": {
          "base_uri": "https://localhost:8080/",
          "height": 627
        },
        "id": "SHyFOSHA56Bu",
        "outputId": "5d3c543c-16db-44a5-e512-d6b05efb8e20"
      },
      "outputs": [
        {
          "output_type": "display_data",
          "data": {
            "text/plain": [
              "<Figure size 720x360 with 1 Axes>"
            ],
            "image/png": "[encoded data removed]"
          },
          "metadata": {}
        },
        {
          "output_type": "display_data",
          "data": {
            "text/plain": [
              "<Figure size 720x360 with 1 Axes>"
            ],
            "image/png": "[encoded data removed]"
          },
          "metadata": {}
        }
      ],
      "source": [
        "lr = LogisticRegression(max_iter=10000)\n",
        "lr.fit(X, y)\n",
        "\n",
        "# Get predicted probabilties\n",
        "proba = lr.predict_proba(X)\n",
        "\n",
        "# Sort the example indices by their maximum probabilty\n",
        "proba_inds = np.argsort(np.max(proba, axis=1))\n",
        "\n",
        "# Show the most confident (least ambiguous) digit\n",
        "show_digit(proba_inds[-1], lr)\n",
        "\n",
        "# Show the least confident (most ambiguous) digit\n",
        "show_digit(proba_inds[0], lr)"
      ]
    }
  ],
  "metadata": {
    "kernelspec": {
      "display_name": "Python 3",
      "language": "python",
      "name": "python3"
    },
    "language_info": {
      "codemirror_mode": {
        "name": "ipython",
        "version": 3
      },
      "file_extension": ".py",
      "mimetype": "text/x-python",
      "name": "python",
      "nbconvert_exporter": "python",
      "pygments_lexer": "ipython3",
      "version": "3.7.6"
    },
    "colab": {
      "provenance": []
    }
  },
  "nbformat": 4,
  "nbformat_minor": 0
}
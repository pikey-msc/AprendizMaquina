{
  "nbformat": 4,
  "nbformat_minor": 0,
  "metadata": {
    "colab": {
      "provenance": [],
      "private_outputs": true,
      "toc_visible": true,
      "authorship_tag": "ABX9TyNafSWO1z7vOe60iWG4VzH1",
      "include_colab_link": true
    },
    "kernelspec": {
      "name": "python3",
      "display_name": "Python 3"
    }
  },
  "cells": [
    {
      "cell_type": "markdown",
      "metadata": {
        "id": "view-in-github",
        "colab_type": "text"
      },
      "source": [
        "<a href=\"https://colab.research.google.com/github/pikey-msc/AprendizMaquina/blob/main/2023-1/Redes%20Neuronales/M%C3%A9todos_de_aprendizaje.ipynb\" target=\"_parent\"><img src=\"https://colab.research.google.com/assets/colab-badge.svg\" alt=\"Open In Colab\"/></a>"
      ]
    },
    {
      "cell_type": "markdown",
      "metadata": {
        "id": "5UzPIdtlfdhW"
      },
      "source": [
        "#Métodos de aprendizaje"
      ]
    },
    {
      "cell_type": "markdown",
      "metadata": {
        "id": "tdXp2T1lfmE8"
      },
      "source": [
        "##Gradiente descendiente\n",
        "\n",
        "Sea el problema de optimización\n",
        "$$\\underset{x}{\\arg\\min} \\;\\; f(x)$$\n",
        "\n",
        "para $f$ suave (2 veces continuamente diferenciable).\n",
        "\n",
        "Luego, sea $x^t$ el punto actual. Entonces el vector\n",
        "$$p^t = - \\nabla\\,f(x^t)$$ es una dirección de descenso (esto es, satisface $p^\\top \\nabla\\,f(x^t) \\lt0 $)\n",
        "\n",
        "Notación. Para simplificar nuestra notación definimos:\n",
        "$\\nabla\\,f^t \\overset{def}{=} \\nabla\\,f(x^t)$\n",
        "\n",
        "Por lo que el punto $x^{t+1}$   obtenido mediante la formula de actualización\n",
        "$$\\boxed{ x^{t+1} = x^{t} - \\alpha \\, \\nabla\\,f^t }$$\n",
        "\n",
        "donde $\\alpha$ es el tamaño de paso y para una $\\alpha$ sufientemente pequeña se garantiza:\n",
        "$$f(x^{t} - \\alpha \\, \\nabla\\,f^t) \\lt f^{t}$$\n",
        " \n",
        "\n",
        "si $\\nabla\\,f^t = 0$\n",
        "\n",
        "\n",
        "**Ejemplo GD**\n",
        "\n",
        "Calcular la raiz cuadrada de 2.\n",
        "\n",
        "Notémos que $x=\\sqrt{2}$  es solución de la ecuación no lineal:\n",
        "$$f(x) \\overset{def}{=} x^2 -2 = 0$$\n",
        "\n",
        "Luego"
      ]
    },
    {
      "cell_type": "code",
      "metadata": {
        "id": "xeFUGnLpwCpr"
      },
      "source": [
        "# solo por usar sympy\n",
        "\n",
        "import sympy as sym\n",
        "from sympy.abc import x\n",
        "sym.init_printing()\n",
        "sym.integrate(x**2-2, x)"
      ],
      "execution_count": null,
      "outputs": []
    },
    {
      "cell_type": "markdown",
      "metadata": {
        "id": "JR9oZ3nuwGcj"
      },
      "source": [
        "\n",
        "$$\\frac{x^{3}}{3} - 2 x$$\n",
        "\n",
        "entonces definimos la función $g$ tal que $f= g^\\prime$.\n",
        "Y resolvemos:\n",
        "$$\\underset{x}{\\arg\\min} \\;\\; g(x) = \\frac{x^3}{3} -2 x$$"
      ]
    },
    {
      "cell_type": "code",
      "metadata": {
        "id": "P68-Jxt6wqyS"
      },
      "source": [
        "import matplotlib.pyplot as plt\n",
        "import numpy as np\n",
        "\n",
        "x = np.arange(-3,3,.1)  # from -3 to 3 in steps of .1\n",
        "plt.plot(x,x**3/3-2*x)"
      ],
      "execution_count": null,
      "outputs": []
    },
    {
      "cell_type": "markdown",
      "metadata": {
        "id": "X8qkk5bQw5Ow"
      },
      "source": [
        "Note que el mínimo esta precisamente en $\\sqrt{2}$  (y la otra raiz está en el máximo, en $-\\sqrt{2}$ ).\n",
        "\n",
        "Usamos descenso de gradiente para culcular el mínimo."
      ]
    },
    {
      "cell_type": "code",
      "metadata": {
        "id": "hcW9TSUPxOPT"
      },
      "source": [
        "x = 0        # valor inicial de x\n",
        "alpha = 0.2   # tamaño (pequeño) de paso\n",
        "\n",
        "for t in range(40):\n",
        "    x = x - alpha*(x**2-2)\n",
        "    print('x1({0}) = {1}'.format(t,x))"
      ],
      "execution_count": null,
      "outputs": []
    },
    {
      "cell_type": "markdown",
      "metadata": {
        "id": "gDyttHrSxXsM"
      },
      "source": [
        "que es muy cercano a $\\sqrt{2}$."
      ]
    },
    {
      "cell_type": "code",
      "metadata": {
        "id": "_sVp-fYyxguR"
      },
      "source": [
        "np.sqrt(2)"
      ],
      "execution_count": null,
      "outputs": []
    },
    {
      "cell_type": "markdown",
      "metadata": {
        "id": "WWkONoodxq1-"
      },
      "source": [
        "### Ejemplo de regresión\n",
        "\n"
      ]
    },
    {
      "cell_type": "code",
      "metadata": {
        "id": "IlhejpUTx0Zo"
      },
      "source": [
        "from sklearn import linear_model, datasets\n",
        "\n",
        "n_samples = 500\n",
        "X, y = datasets.make_regression(n_samples=n_samples,\n",
        "                                n_features=1,\n",
        "                                n_informative=2, \n",
        "                                noise=5,\n",
        "                                random_state=0) #2)\n",
        "n_outliers=100\n",
        "X[:n_outliers], y[:n_outliers] = datasets.make_regression(n_samples=n_outliers,\n",
        "                                n_features=1,\n",
        "                                n_informative=2, \n",
        "                                noise=2,\n",
        "                                random_state=61)\n",
        "y=np.expand_dims(y,axis=1)\n",
        "plt.scatter(X[:],y[:], marker='.')"
      ],
      "execution_count": null,
      "outputs": []
    },
    {
      "cell_type": "markdown",
      "metadata": {
        "id": "Nj_2SRhjx5fj"
      },
      "source": [
        "Agregamos en 1 a los datos de tal forma que nos queden en coordenadas homogéneas:\n",
        "$$\\hat{x}_i = [x_i, 1]$$\n",
        "y el vector de coeficientes para regresión lineal esta dado por\n",
        "$$\\theta = [\\theta_1, \\theta_0]^\\top$$\n",
        "\n",
        "Luego, la función objetivo la definimos como\n",
        "\n",
        "$$f(\\theta) = \\frac{1}{2 \\kappa \\, N} \\sum_{i=0}^{N-1} 1- \\exp\\left( - \\kappa [\\theta^\\top \\hat x_i -y_i ]^2\\right)$$\n",
        "con derivadas parciales:\n",
        "$$\\frac{\\partial}{\\partial \\theta_1}f(\\theta) = - \\frac{1}{N} \\sum_{i=0}^{N-1} x_i [\\theta^\\top \\hat x_i -y_i ] \\exp\\left( - \\kappa [ \\theta^\\top \\hat x_i -y_i]^2\\right)$$\n",
        "\n",
        "y\n",
        "$$\\frac{\\partial}{\\partial \\theta_0}f(\\theta) = - \\frac{1}{N} \\sum_{i=0}^{N-1} [\\theta^\\top \\hat x_i -y_i] \\exp\\left( - \\kappa [\\theta^\\top \\hat x_i -y_i ]^2\\right)$$\n",
        "\n",
        "Entonces el gradiente de la función objetivo es"
      ]
    },
    {
      "cell_type": "code",
      "metadata": {
        "id": "8w1LFgR2z_lq"
      },
      "source": [
        "#-------------------------------------------------------------\n",
        "def grad_quadratic(theta, f_params):\n",
        "    '''\n",
        "    Gradiente de la funcion de costo \n",
        "           sum_i (theta@x[i]-y[i])**2\n",
        "    '''    \n",
        "    X = f_params['X']\n",
        "    y = f_params['y']\n",
        "\n",
        "    err=theta[0]*X+theta[1]-y\n",
        "    partial0=err\n",
        "    partial1=X*partial0\n",
        "    gradient= np.concatenate((partial1, partial0), axis=1)\n",
        "    return np.sum(gradient, axis=1)\n",
        "#-------------------------------------------------------------\n",
        "def grad_exp(theta, f_params):\n",
        "    '''\n",
        "    Gradiente de la funcion de costo \n",
        "           sum_i 1-exp(-k(theta@x[i]-y[i])**2)\n",
        "    '''\n",
        "    kappa= f_params['kappa']\n",
        "    X    = f_params['X']\n",
        "    y    = f_params['y']\n",
        "    err=theta[0]*X+theta[1]-y\n",
        "    partial0=err*np.exp(-kappa*err**2)\n",
        "    partial1=X*partial0\n",
        "    gradient= np.concatenate((partial1, partial0), axis=1)\n",
        "    return np.mean(gradient, axis=0)\n",
        "#-----------------------------------------"
      ],
      "execution_count": null,
      "outputs": []
    },
    {
      "cell_type": "markdown",
      "metadata": {
        "id": "c50dzlU70w76"
      },
      "source": [
        "### Implementación descenso de gradiente simple (GD)\n"
      ]
    },
    {
      "cell_type": "code",
      "metadata": {
        "id": "EnQoIdHk1MqL"
      },
      "source": [
        "\n",
        "def GD(theta=[], grad=None, gd_params={}, f_params={}):\n",
        "    '''\n",
        "    Descenso de gradiente\n",
        "    \n",
        "    Parámetros\n",
        "    -----------\n",
        "    theta     :   condicion inicial\n",
        "    grad      :   función que calcula el gradiente\n",
        "    gd_params :   lista de parametros para el algoritmo de descenso, \n",
        "                     nIter = gd_params[0] número de iteraciones\n",
        "                     alpha = gd_params[1] tamaño de paso alpha\n",
        "\n",
        "    f_params  :   lista de parametros para la funcion objetivo\n",
        "                     kappa = f_params['kappa'] parametro de escala (rechazo de outliers)\n",
        "                     X     = f_params['X'] Variable independiente\n",
        "                     y     = f_params['y'] Variable dependiente                   \n",
        "                  \n",
        "    Regresa\n",
        "    -----------\n",
        "    Theta     :   trayectoria de los parametros\n",
        "                     Theta[-1] es el valor alcanzado en la ultima iteracion\n",
        "    '''\n",
        "    \n",
        "    nIter = gd_params['nIter'] \n",
        "    alpha = gd_params['alpha']\n",
        "    Theta=[]\n",
        "    for t in range(nIter):\n",
        "        p = grad(theta,f_params=f_params)\n",
        "        theta = theta - alpha*p\n",
        "        Theta.append(theta)\n",
        "    return np.array(Theta)"
      ],
      "execution_count": null,
      "outputs": []
    },
    {
      "cell_type": "markdown",
      "metadata": {
        "id": "KJOsWzUO4Mui"
      },
      "source": [
        "## Descenso de Gradiente Estocástico (SGD)\n",
        "Ahora considermos una variante del problema general, uno cuya función objetivo, o costo, se pueda denotar como la suma de muchos (si, muchos) pequeños costos. Esto es\n",
        "\n",
        "$$\\underset{x}{\\arg\\min} \\;\\; f(x) \\overset{def}{=} \\frac{1}{\\sharp \\Omega} \\sum_{i \\in \\Omega} f_i(x)$$\n",
        "\n",
        "En este caso, la dirección de descenso de gradiente esta dado por\n",
        "$$p^t = - \\nabla\\,f^t \\\\ \\;\\;\\;\\;\\;\\; = - \\frac{1}{\\sharp \\Omega} \\sum_{i \\in \\Omega} \\nabla f_i^t$$ \n",
        "\n",
        "Note que, $p^t$ puede ser interpretado como un valor esperado (promedio sobre toda la población). Esto es:\n",
        "\n",
        "$$p^t = - \\mathbb{E} \\{\\nabla f_i^t \\} \\;\\;\\; \\text{para} \\;\\; i=1,2,\\ldots, \\sharp \\Omega$$\n",
        "\n",
        "donde $\\sharp \\Omega$ denota la cardinalidad (número de elementos) en el conjunto $\\Omega$.\n",
        "\n",
        "El término estocástico viene por el hecho de que, si en cada iteración, en vez de tomar la suma sobre toda la población, solo lo hacemnos sobre una muestra\n",
        "$S^t \\subset \\Omega$\n",
        "\n",
        "Luego\n",
        "\n",
        "$$\\tilde p^t = - \\frac{1} {\\sharp S^t} \\sum_{i \\in S^t} \\nabla f_i^t$$\n",
        "\n",
        "Esto equivale a calcular el gradiente como el promedio de los gradientes de la muestra.\n",
        "\n",
        "**Ventajas del SGD:**\n",
        "\n",
        "* Si la función objetivo es la suma de de costos individuales (errores) sobre un conjunto muy grande de datos. La muestra suele ser representativa y producir un valor muy cercano al de la población.\n",
        "\n",
        "* Se reduce el número de cálculos en cada iteración.\n",
        "\n",
        "* Cuando hay datos atípicos (outliers), las muestras pueden ser robustas a esas “pocas” grandes desviaciones (salvo en aquellas muestras que sean incluidos, que se esperan sean pocas).\n",
        "\n",
        "* Si la función objetivo es (ruidosa, tiene muchos mínimos locales pequeños). El gradiente estocástico permite suavizar la función objetivo y reduce el riesgo de tener una convergencia temprana.\n",
        "\n",
        "**Desventajas del SGD:**\n",
        "\n",
        "* El efecto de los outliers en el gradiente de una muestra puede afectar mas fuertemente y desviar al algoritmo de su trayectoria de convergencia.\n",
        "\n",
        "**Implementación descenso de gradiente estocástico (SGD)**"
      ]
    },
    {
      "cell_type": "code",
      "metadata": {
        "id": "FDL5TRVC54Qj"
      },
      "source": [
        "def SGD(theta=[], grad=None, gd_params=[], f_params=[]):\n",
        "    '''\n",
        "    Descenso de gradiente estocástico\n",
        "    \n",
        "    Parámetros\n",
        "    -----------\n",
        "    theta     :   condicion inicial\n",
        "    grad      :   funcion que calcula el gradiente\n",
        "    \n",
        "    gd_params :   lista de parametros para el algoritmo de descenso, \n",
        "                      nIter = gd_params['nIter'] número de iteraciones\n",
        "                      alpha = gd_params['alpha'] tamaño de paso alpha\n",
        "                      batch_size = gd_params['batch_size'] tamaño de la muestra\n",
        "                      \n",
        "    f_params  :   lista de parametros para la funcion objetivo, \n",
        "                      kappa = f_params['kappa'] parametro de escala (rechazo de outliers)\n",
        "                      X     = f_params['X'] Variable independiente\n",
        "                      y     = f_params['y'] Variable dependiente                   \n",
        "                  \n",
        "    Regresa\n",
        "    -----------\n",
        "    Theta     :   trayectoria de los parametros\n",
        "                     Theta[-1] es el valor alcanzado en la ultima iteracion\n",
        "    '''\n",
        "    (high,dim) = f_params['X'].shape\n",
        "    batch_size = gd_params['batch_size']\n",
        "    \n",
        "    nIter      = gd_params['nIter']\n",
        "    alpha      = gd_params['alpha']\n",
        "        \n",
        "    Theta=[]\n",
        "    for t in range(nIter):\n",
        "        # Set of sampled indices\n",
        "        smpIdx = np.random.randint(low=0, high=high, size=batch_size, dtype='int32')\n",
        "        # sample \n",
        "        smpX = f_params['X'][smpIdx]\n",
        "        smpy = f_params['y'][smpIdx]\n",
        "        # parametros de la funcion objetivo\n",
        "        smpf_params ={'kappa' : f_params['kappa'], \n",
        "                      'X'     : smpX , \n",
        "                      'y'     : smpy}\n",
        "        \n",
        "        p = grad(theta,f_params=smpf_params)\n",
        "        theta = theta - alpha*p\n",
        "        Theta.append(theta)\n",
        "        \n",
        "    return np.array(Theta)"
      ],
      "execution_count": null,
      "outputs": []
    },
    {
      "cell_type": "markdown",
      "metadata": {
        "id": "FYgUWex_6V0N"
      },
      "source": [
        "##Descenso de Gradiente con Momento (Inercia)\n",
        "\n",
        "Descenso de gradiente es un método muy robusto y se mantiene aproximandose constantemente hacia un mínimo local. Este puede ser a su vez un problema:\n",
        "\n",
        "En caso de tener funciones de costo con muchas pequeñas oscilaciones, GD es propenso a ser atrapado en “malos minímos locales”.\n",
        "\n",
        "Si se esta muy lejos del óptimo y el tamaño de paso es pequeño, entonces GD tendrá una convergencia muy lenta\n",
        "\n",
        "Para reducir el efecto de los problemas mencionados, se ha propuesto incluir inercia. Esto es, mientras GD puede comprenderse con la analogía de un caminante que siempre dá un paso cosntante en la dirección que localmente tienen el mayor descenso. Descenso de Gardiente con Momento (MGD) sería el equivalente a una partícula masiva bajo el efecto de la gravedad. En tal caso, la partícula se acelera conforme acumule varios pasos en descenso. En el caso de la partícula, la acelaración puede incrementarse hasta alcanzar su velocidad límite: aquella en la que la fuerza de gravedad se equipare con la fuerza que ejerce la fricción de la superficie y del aire. La velocidad límite es la explicación al porqué un proyectil lanzado por un arma de fuego verticalmente no regresa con la misma velocidad con que salió del fusil, o el porqué la caida de los paracaidistas no se acelera durante todo el descenso; de hecho los paracaidistas maniobran para modificar su arrastre y así incrementar o decrementar la velocidad de caida; y así poder mantenerse acercarse y permanecer junto a otros miembros del grupo. Igualmente, podemos imponer a nuestra partícula en su descenso por la superficie de la función costo que además de momento (momentum), tenga una velocidad límite. Esto lo dejaremos para después, por lo pronto nos centraremos en el momento o inercia.\n",
        "\n",
        "La modificación para incluir momento en GD consiste en lo siguiente:\n",
        "\n",
        "1. Sea $g^t = \\nabla f^tg $  el gradiente en el punto actual; luego \n",
        "2. Calcular la dirección de descenso con $p^t = g^t + \\eta p^{t-1}p $; y\n",
        "3. actualizar el punto con $x^{t+1} = x^t - \\alpha p^t$ .\n",
        "\n",
        "La siguiente figura muestra gráficamente la actualización mediante MGD"
      ]
    },
    {
      "cell_type": "markdown",
      "metadata": {
        "id": "6E-0fHIl6zAf"
      },
      "source": [
        "![image.png](data:image/png;base64,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)"
      ]
    },
    {
      "cell_type": "markdown",
      "metadata": {
        "id": "GzJOHf9f7PWq"
      },
      "source": [
        "Analizando el cálculo de la dirección de descenso observamos que:\n",
        "$$p^t = g^t + \\eta p^{t-1} \\\\ \\;\\;\\;\\;\\;\\;\\;\\; = g^t + \\eta g^{t-1} + \\eta p^{t-2}] \\\\ \\;\\;\\;\\;\\;\\;\\;\\;\\;\\;\\;\\; = g^t + \\eta g^{t-1} + \\eta^2 g^{t-2} + \\eta^3 p^{t-3} \\\\ \\;\\; = \\sum_{i=0}^{t} \\eta^{i} g^{t-i}$$\n",
        "\n",
        "donde asumimos que $p^{(-1)}=0$\n",
        "\n",
        "Notamos que se están integrando todos los gradientes de la trayectoria, pesando mas los gradientes mas recientes.\n",
        "\n",
        "Para conservar el efecto de los gradientes recientes y suavizar la trayectoria, se recomienda $\\eta$ cercana y menor que 1 , de hecho $\\eta=0.9$ es un valor comúnmente utilizado."
      ]
    },
    {
      "cell_type": "code",
      "metadata": {
        "id": "SoxhnxxY7he_"
      },
      "source": [
        "eta =0.9\n",
        "t=10\n",
        "etapow = [eta**i for i in range(t)]\n",
        "print('Efecto de t (peso) en gradientes pasados')\n",
        "print('\\n'.join('{0} : {1:2.2E}'.format(*k) for k in enumerate(etapow)))\n",
        "\n",
        "plt.plot(etapow)\n",
        "plt.show()"
      ],
      "execution_count": null,
      "outputs": []
    },
    {
      "cell_type": "markdown",
      "metadata": {
        "id": "YHCHk_uz7p1o"
      },
      "source": [
        "La integración de los gradientes pasados permite accumular la componente de los gradientes que apuntan en la misma dirección y cancelar las componentes normales a dicha trayectoria.\n",
        "\n",
        "**Implementación descenso de gradiente con momento (MGD)**"
      ]
    },
    {
      "cell_type": "code",
      "metadata": {
        "id": "GoiIzaGI7xlj"
      },
      "source": [
        "def MGD(theta=[], grad=None, gd_params={}, f_params={}):\n",
        "    '''\n",
        "    Descenso de gradiente con momento (inercia)\n",
        "    \n",
        "    Parámetros\n",
        "    -----------\n",
        "    theta     :   condicion inicial\n",
        "    grad      :   funcion que calcula el gradiente\n",
        "    gd_params :   lista de parametros para el algoritmo de descenso, \n",
        "                      nIter = gd_params['nIter'] número de iteraciones\n",
        "                      alpha = gd_params['alpha'] tamaño de paso alpha\n",
        "                      eta   = gd_params['eta']  parametro de inercia (0,1]\n",
        "    f_params  :   lista de parametros para la funcion objetivo, \n",
        "                      kappa = f_params['kappa'] parametro de escala (rechazo de outliers)\n",
        "                      X     = f_params['X'] Variable independiente\n",
        "                      y     = f_params['y'] Variable dependiente                   \n",
        "\n",
        "    Regresa\n",
        "    -----------\n",
        "    Theta     :   trayectoria de los parametros\n",
        "                     Theta[-1] es el valor alcanzado en la ultima iteracion\n",
        "    '''\n",
        "    nIter = gd_params['nIter']\n",
        "    alpha = gd_params['alpha'] \n",
        "    eta   = gd_params['eta']\n",
        "    p_old = np.zeros(theta.shape)\n",
        "    Theta=[]\n",
        "    for t in range(nIter):\n",
        "        g = grad(theta, f_params=f_params)\n",
        "        p = g + eta*p_old\n",
        "        theta = theta - alpha*p\n",
        "        p_old=p\n",
        "        Theta.append(theta)\n",
        "    return np.array(Theta)"
      ],
      "execution_count": null,
      "outputs": []
    },
    {
      "cell_type": "markdown",
      "metadata": {
        "id": "A9T6wqyU89Ke"
      },
      "source": [
        "## Descenso acelerado de Nesterov (NAG)\n",
        "El algoritmo de descenso con momento no ha demostrado que si bien el momento ayuda a accelerar la convergencia y reducir el riesgo de quedar atrapado en mínimos locales, también tienen una tendencia a sobrepasar los valles. Por ello, mediante una pequeña modificación se reducirá el effecto de sobrepaso (overshooting). Esta modificación es el algoritmo de Descenso Acelerado de Neasterov (NAG).\n",
        "\n",
        "El algoritmo NAG puede considerarse del tipo de dos pasos Predictor-Corrector. En el paso predictor se extrapola linealmente la trayectoria actual. Luego, en el punto predicho, se evalua el gradiente y se hace la correción de la trayectoria. Con ello se logra un aproximación de segundo orden de la trayectoria con un costo computacional similar al de Descenso de Gardiente con Momento (MGD). Al mantener el efecto de inercia pero reducir los sobrepasos, NAG también se incrementa la razón de convergencia\n",
        "\n",
        "Las fórmulas de actualización del algoritmo NAG estan dadas por los siguientes puntos\n",
        "\n",
        "1. Sea $\\tilde x^{t} = x^t - \\alpha p^{t-1} $  el punto predicho en primer orden (usando la dirección anterior); luego\n",
        "2. Calcular el gradiente en el punto predicho: $g^t = \\nabla f(\\tilde x^{t})$; entonces\n",
        "3. Calcular la dirección de descenso con $p^t = g^t + \\eta p^{t-1} $ ; y\n",
        "4. Actualizar el punto con $x^{t+1} = x^t - \\alpha p^t$\n",
        "\n",
        "La siguiente figura muestra gráficamente la actualización mediante NAG:"
      ]
    },
    {
      "cell_type": "markdown",
      "metadata": {
        "id": "izmmzTon9RvM"
      },
      "source": [
        "![image.png](data:image/png;base64,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)"
      ]
    },
    {
      "cell_type": "markdown",
      "metadata": {
        "id": "5sTIAguh9qUV"
      },
      "source": [
        "**Implementación del algoritmo NAG**"
      ]
    },
    {
      "cell_type": "code",
      "metadata": {
        "id": "MNrcZafS9vSV"
      },
      "source": [
        "def NAG(theta=[], grad=None, gd_params={}, f_params={}):\n",
        "    '''\n",
        "    Descenso acelerado de Nesterov\n",
        "    \n",
        "    Parámetros\n",
        "    -----------\n",
        "    theta     :   condicion inicial\n",
        "    grad      :   funcion que calcula el gradiente\n",
        "    gd_params :   lista de parametros para el algoritmo de descenso, \n",
        "                      nIter = gd_params['nIter'] número de iteraciones\n",
        "                      alpha = gd_params['alpha'] tamaño de paso alpha\n",
        "                      eta   = gd_params['eta']  parametro de inercia (0,1]\n",
        "    f_params  :   lista de parametros para la funcion objetivo, \n",
        "                      kappa = f_params['kappa'] parametro de escala (rechazo de outliers)\n",
        "                      X     = f_params['X'] Variable independiente\n",
        "                      y     = f_params['y'] Variable dependiente                   \n",
        "\n",
        "    Regresa\n",
        "    -----------\n",
        "    Theta     :   trayectoria de los parametros\n",
        "                     Theta[-1] es el valor alcanzado en la ultima iteracion\n",
        "    '''\n",
        "    nIter = gd_params['nIter']\n",
        "    alpha = gd_params['alpha'] \n",
        "    eta   = gd_params['eta']\n",
        "    p     = np.zeros(theta.shape)\n",
        "    Theta=[]\n",
        "    \n",
        "    for t in range(nIter):\n",
        "        pre_theta = theta - 2.0*alpha*p\n",
        "        g = grad(pre_theta, f_params=f_params)\n",
        "        p = g + eta*p\n",
        "        theta = theta - alpha*p\n",
        "        Theta.append(theta)\n",
        "    return np.array(Theta)"
      ],
      "execution_count": null,
      "outputs": []
    },
    {
      "cell_type": "markdown",
      "metadata": {
        "id": "MR7VWbpL9yl0"
      },
      "source": [
        "## Descenso de Gradiente Adaptable (ADAGRAD)\n",
        "Considere el caso en que la magnitud del gradiente de la función es relativamente grande (aun estamos lejos del óptimo). Dado que la magitud del gradiente es una cantidad a la que contribuyen todas las derivadas parciales, es posible que a pesar de tener una magnitud grande, existan coordenadas donde la función cambia poco (derivadas parciales de norma pequeña). Lo que convienen hacer es que se den pasos grandes en las componentes del gradiente que son grandes (en valor absoluto) y pasos cortos en las componentes pequeñas.\n",
        "\n",
        "Los algortimos MGD como NAG se enfocan en estimar mejor la dirección de descenso. Sin embargo, el desempeño de dichos algoritmos se ve comprometido por la correcta selección del tamaño de paso $\\alpha$. Para ello, el algoritmo ADAGRAD busca estimar el correcto tamaño de paso en cada iteración estimando un tamaño de paso para cada una de las variables en forma independiente.\n",
        "\n",
        "Las fórmulas de actualización del algoritmo NAG estan dadas por los siguientes puntos:\n",
        "\n",
        "1. Sea\n",
        "$$g^t_i \\overset{def}{=} \\frac{\\partial }{\\partial x_i}f^t$$\n",
        "la $i$-ésima derivada parcial de la función en el punto actual $x^{t}$; esto es $g^t_i = [\\nabla f^t]_i$, entonces\n",
        "\n",
        "2. Calcular la suma de los cuadrados de las parciales hasta la iteración actual:\n",
        "$$G^t_i \\overset{def}{=} \\sum_{k=0}^t (g^k_i)^2$$;\n",
        "y\n",
        "\n",
        "3. Actualiza el punto con\n",
        "$$x^{t+1} = x^t - \\frac{\\alpha}{\\sqrt{G_i^t + \\epsilon}} p^t$$\n",
        "donde $\\epsilon$ es una constante pequeña que evita la división por cero."
      ]
    },
    {
      "cell_type": "markdown",
      "metadata": {
        "id": "2KNzNLgLCK9c"
      },
      "source": [
        "## Descenso de Gradiente Adaptable (ADADELTA)\n",
        "Note que el término $G^t_i$ en ADAGRAD se mantienen acumulando las derivadas parciales desde el inicio de las iteraciones. Esto puede reducir en forma temprana el tamaño de paso para algunos parámetros. Por ello, es mejor ir reduciendo paulatinamente la contribución de términos pasados.\n",
        "\n",
        "Para ello, es conveniente realizar ajuste similar a la intergación de las direcciones pasadas:\n",
        "\n",
        "1. Sea $$g^t_i \\overset{def}{=} \\frac{\\partial }{\\partial x_i}f^t$$\n",
        "la $i$-ésima derivada parcial de la función en el punto actual $x^{t}$; esto es $g^t_i = [\\nabla f^t]_i$, entonces\n",
        "2. integrar los cuadrados de las parciales hasta la iteración actual:\n",
        "$$G^t_i = \\eta (g^t_i)^2 + (1-\\eta) G^{t-1}_i$$\n",
        "con $\\eta$ grandes (típicamente $\\eta =0.9$ $η=0.9$); y\n",
        "3. actualizar el punto, donde cada elemento tienen su propio paso\n",
        "$$x^{t+1}_i = x^t_i - \\frac{\\alpha}{\\sqrt{G_i^t} + \\epsilon} p^t_i$$\n",
        "\n",
        "**Implementación del algoritmo ADADELTA**"
      ]
    },
    {
      "cell_type": "code",
      "metadata": {
        "id": "vBMlj3XZCodu"
      },
      "source": [
        "def ADADELTA(theta=[], grad=None, gd_params={}, f_params={}):\n",
        "    '''\n",
        "    Descenso de Gradiente Adaptable (ADADELTA) \n",
        "    \n",
        "    Parámetros\n",
        "    -----------\n",
        "    theta     :   condicion inicial\n",
        "    grad      :   funcion que calcula el gradiente\n",
        "    gd_params :   lista de parametros para el algoritmo de descenso, \n",
        "                      nIter    = gd_params['nIter'] número de iteraciones\n",
        "                      alphaADA = gd_params['alphaADADELTA'] tamaño de paso alpha\n",
        "                      eta      = gd_params['eta']  parametro adaptación del alpha\n",
        "    f_params  :   lista de parametros para la funcion objetivo, \n",
        "                      kappa = f_params['kappa'] parametro de escala (rechazo de outliers)\n",
        "                      X     = f_params['X'] Variable independiente\n",
        "                      y     = f_params['y'] Variable dependiente                   \n",
        "\n",
        "    Regresa\n",
        "    -----------\n",
        "    Theta     :   trayectoria de los parametros\n",
        "                     Theta[-1] es el valor alcanzado en la ultima iteracion\n",
        "    '''\n",
        "    epsilon= 1e-8\n",
        "    nIter    = gd_params['nIter']\n",
        "    alpha    = gd_params['alphaADADELTA'] \n",
        "    eta      = gd_params['eta']\n",
        "    G        = np.zeros(theta.shape)\n",
        "    g        = np.zeros(theta.shape) \n",
        "    Theta=[]\n",
        "    for t in range(nIter):\n",
        "        g = grad(theta, f_params=f_params)\n",
        "        G = eta*g**2 + (1-eta)*G\n",
        "        p = 1.0/(np.sqrt(G)+epsilon)*g\n",
        "        theta = theta - alpha * p\n",
        "        Theta.append(theta)\n",
        "    return np.array(Theta)"
      ],
      "execution_count": null,
      "outputs": []
    },
    {
      "cell_type": "markdown",
      "metadata": {
        "id": "eZH3IzCM_Klj"
      },
      "source": [
        "##Momentum Adaptable (ADAM)\n",
        "El algoritmo ADAM calcula la dirección de descenso usando momentum (similar a MGD) y utiliza una estrategia similar para calcular adaptar el tamaño de paso. Es decir, utiliza momuntum para actualizar el paso, lo que evita cambios bruscos en el paso. Esto lo hace muy estable para su uso en estrategia tipo Gradiente Estocástico (SGD) donde las muestras pueden provocar cambios grandes en la magnitud del gradiente, además calcula un paso global en vez de usar un paso para cada variable. También adecuado en estrategias de entrenamiento tipo estocásticas o por lotes, como en el caso de Redes Neuronales Profundas (Deep Learning)\n",
        "\n",
        "Una mejora importante es la correción del sezgo (bias) en la estimación de los momentos.\n",
        "\n",
        "Generalmente las razones de aprendizaje (momentum) son cercanas a 1, típicamente: $\\eta_1=0.94$ y $\\eta_2=0.999$ \n",
        "\n",
        "Una iteración del algoritmo ADAM se resume en los siguientes pasos:\n",
        "\n",
        "Sea $g_t \\overset{def}{=} \\nabla f_t$\n",
        "la $i$-ésima derivada parcial de la función en el punto actual $x^{t}$. Entonces\n",
        "\n",
        "1. Calcular la dirección de descenso con momentum\n",
        "$$p_t = \\eta_1 p_{t-1} + (1-\\eta_1) g_t$$\n",
        " donde $p_t$  conserva la escala de $p_{t+1}$ y el gradiente $g^t$.\n",
        "\n",
        "2. Luego, actualizar, a la vez con momentum, el factor adaptativo del descenso $v^{t}$:\n",
        "$$v_t = \\eta_2 v_{t-1} + (1-\\eta_2) G_t.$$\n",
        "donde $\\overline G = [g_i^2, g_2^2, \\ldots, g_n^2]^\\top $ es el vector de elementos a cuadrado del gradiente.\n",
        "\n",
        "3. Escalar la dirección de descenso y el momentum (reducción del sezgo):\n",
        "$$\\hat p_t = \\frac{1}{1- (\\eta_1)^t} p_t \\\\ \\hat v_t = \\frac{1}{1- (\\eta_2)^t} v_t$$\n",
        "\n",
        "4. Actualizar el punto con la fórmula de paso adaptable\n",
        "$$x_{t+1} = x_t - \\frac{\\alpha}{\\sqrt{\\hat v_t} + \\epsilon} \\hat p_t$$\n",
        "\n",
        "**Importancia de la reducción del sesgo**\n",
        "\n",
        "El paso 1 del algoritmo ADAM pretende mejorar el cálculo del gradiente, calculado general mente sobre solo una muestra, promediandolo con los gradientes recientemente calculados:\n",
        "\n",
        "$$p_t = \\eta_1 p_{t-1} + (1-\\eta_1) g_t \\\\ = \\eta_1^2 p_{t-2} + \\eta_1 (1-\\eta_1) g_{t-1} + (1-\\eta_1) g_t \\\\ = \\eta_1^3 p_{t-3} + \\eta_1^2 (1-\\eta_1) g_{t-2} + \\eta_1 (1-\\eta_1) g_{t-1} + (1-\\eta_1) g_t \\\\ \\ldots$$\n",
        "\n",
        "Si asumimos $p_0=0$ como condicion inicial de las iteraciones, nos lleva a\n",
        "$$p_t = (1-\\eta_1) \\sum_{i=0}^{t} \\eta_1^{t-i} g_{i}$$\n",
        "\n",
        "Tomando valores esperados, y usando $\\mathbb{E}\\{xy\\} = \\mathbb{E}\\{x\\} \\mathbb{E}\\{y\\}$, si $x$ y $y$ son independientes:\n",
        "\n",
        "$$\\mathbb{E}\\{p_t\\} = \\mathbb{E}\\{g_t\\} (1-\\eta_1) \\sum_{i=0}^{t} \\eta_1^{t-i}$$\n",
        " \n",
        "Luego usamos la propiedad de la serie geométrica\n",
        "$$\\sum_{k=0}^{n-1} x^k = \\frac{1-x^n}{1-x}$$\n",
        "lo que resulta en\n",
        "$$\\mathbb{E}\\{p_t\\} = \\mathbb{E}\\{g_t\\} (1-\\eta_1^{t})$$\n",
        "por lo que para corregur este factor se hace\n",
        "$$\\hat p_t = \\frac{p_t}{1-\\eta^t}$$​\t\n",
        " \n",
        "\n",
        "**Implementación del algoritmo ADAM**"
      ]
    },
    {
      "cell_type": "code",
      "metadata": {
        "id": "3pg37NzEBjUR"
      },
      "source": [
        "def ADAM(theta=[], grad=None, gd_params={}, f_params={}):\n",
        "    '''\n",
        "    Descenso de Gradiente Adaptable con Momentum(A DAM) \n",
        "    \n",
        "    Parámetros\n",
        "    -----------\n",
        "    theta     :   condicion inicial\n",
        "    grad      :   funcion que calcula el gradiente\n",
        "    gd_params :   lista de parametros para el algoritmo de descenso, \n",
        "                      nIter    = gd_params['nIter'] número de iteraciones\n",
        "                      alphaADA = gd_params['alphaADAM'] tamaño de paso alpha\n",
        "                      eta1     = gd_params['eta1'] factor de momentum para la direccion \n",
        "                                 de descenso (0,1)\n",
        "                      eta2     = gd_params['eta2'] factor de momentum para la el \n",
        "                                 tamaño de paso (0,1)\n",
        "    f_params  :   lista de parametros para la funcion objetivo, \n",
        "                      kappa = f_params['kappa'] parametro de escala (rechazo de outliers)\n",
        "                      X     = f_params['X'] Variable independiente\n",
        "                      y     = f_params['y'] Variable dependiente                   \n",
        "\n",
        "    Regresa\n",
        "    -----------\n",
        "    Theta     :   trayectoria de los parametros\n",
        "                     Theta[-1] es el valor alcanzado en la ultima iteracion\n",
        "    '''\n",
        "    epsilon= 1e-8\n",
        "    nIter    = gd_params['nIter']\n",
        "    alpha    = gd_params['alphaADAM'] \n",
        "    eta1     = gd_params['eta1']\n",
        "    eta2     = gd_params['eta2']\n",
        "    p        = np.zeros(theta.shape)\n",
        "    v        = 0.0\n",
        "    Theta    = []\n",
        "    eta1_t = eta1\n",
        "    eta2_t = eta2\n",
        "    for t in range(nIter):\n",
        "        g  = grad(theta, f_params=f_params)\n",
        "        p  = eta1*p + (1.0-eta1)*g\n",
        "        v  = eta2*v + (1.0-eta2)*(g**2)\n",
        "        #p = p/(1.-eta1_t)\n",
        "        #v = v/(1.-eta2_t)\n",
        "        theta = theta - alpha * p / (np.sqrt(v)+epsilon)\n",
        "        eta1_t *= eta1\n",
        "        eta2_t *= eta2\n",
        "        Theta.append(theta)\n",
        "    return np.array(Theta)"
      ],
      "execution_count": null,
      "outputs": []
    },
    {
      "cell_type": "markdown",
      "metadata": {
        "id": "sAlUhbzBDAUx"
      },
      "source": [
        "## Evaluación del los algoritmos de descenso de gradiente"
      ]
    },
    {
      "cell_type": "code",
      "metadata": {
        "id": "d0i15D0SDFy3"
      },
      "source": [
        "# condición inicial\n",
        "theta=10*np.random.normal(size=2)\n",
        "#theta= [-0.61752689 -0.76804482]\n",
        "# parámetros del algoritmo\n",
        "gd_params = {'alpha'          : 0.95, \n",
        "             'alphaADADELTA'  : 0.7,\n",
        "             'alphaADAM'      : 0.95,\n",
        "             'nIter'          : 300,\n",
        "             'batch_size'     : 100,\n",
        "             'eta'            : 0.9,\n",
        "             'eta1'           : 0.9,\n",
        "             'eta2'           : 0.999}\n",
        "\n",
        "# parámetros de la función objetivo\n",
        "f_params={'kappa' : 0.01, \n",
        "          'X'     : X , \n",
        "          'y'     : y}\n"
      ],
      "execution_count": null,
      "outputs": []
    },
    {
      "cell_type": "markdown",
      "metadata": {
        "id": "W82ZJ1RADKN-"
      },
      "source": [
        "Descenso de Gradiente"
      ]
    },
    {
      "cell_type": "code",
      "metadata": {
        "id": "A-S3UNvODLgq"
      },
      "source": [
        "ThetaGD = GD(theta=theta, grad=grad_exp, \n",
        "             gd_params=gd_params, f_params=f_params)\n",
        "print('Inicio:', theta,'-> Fin:', ThetaGD[-1,:])"
      ],
      "execution_count": null,
      "outputs": []
    },
    {
      "cell_type": "markdown",
      "metadata": {
        "id": "Sou4IA2ADNKQ"
      },
      "source": [
        "Descenso de Gradiente estocástico"
      ]
    },
    {
      "cell_type": "code",
      "metadata": {
        "id": "fp4VInaFDSgL"
      },
      "source": [
        "ThetaSGD = SGD(theta=theta, grad=grad_exp, \n",
        "               gd_params=gd_params, f_params=f_params)\n",
        "print('Inicio:', theta,'-> Fin:', ThetaSGD[-1,:])"
      ],
      "execution_count": null,
      "outputs": []
    },
    {
      "cell_type": "markdown",
      "metadata": {
        "id": "OOQ4DB-LDUHI"
      },
      "source": [
        "Descenso de Gradiente con Inercia"
      ]
    },
    {
      "cell_type": "code",
      "metadata": {
        "id": "cvT7YDVCDWpM"
      },
      "source": [
        "ThetaMGD = MGD(theta=theta, grad=grad_exp, \n",
        "               gd_params=gd_params, f_params=f_params)\n",
        "print('Inicio:', theta,'-> Fin:', ThetaMGD[-1,:])"
      ],
      "execution_count": null,
      "outputs": []
    },
    {
      "cell_type": "markdown",
      "metadata": {
        "id": "jh9itxAQDdTa"
      },
      "source": [
        "Nesterov"
      ]
    },
    {
      "cell_type": "code",
      "metadata": {
        "id": "tJtr4ckhDfE7"
      },
      "source": [
        "ThetaNAG = NAG(theta=theta, grad=grad_exp, \n",
        "               gd_params=gd_params, f_params=f_params)\n",
        "print('Inicio:', theta,'-> Fin:', ThetaMGD[-1,:])"
      ],
      "execution_count": null,
      "outputs": []
    },
    {
      "cell_type": "markdown",
      "metadata": {
        "id": "gm4kL6ooDigY"
      },
      "source": [
        "ADADELTA"
      ]
    },
    {
      "cell_type": "code",
      "metadata": {
        "id": "dtAmCFNoDkjH"
      },
      "source": [
        "ThetaADADELTA = ADADELTA(theta=theta, grad=grad_exp, \n",
        "                         gd_params=gd_params, f_params=f_params)\n",
        "print('Inicio:', theta,'-> Fin:', ThetaADADELTA[-1,:])"
      ],
      "execution_count": null,
      "outputs": []
    },
    {
      "cell_type": "markdown",
      "metadata": {
        "id": "EK3UjCAHDmfP"
      },
      "source": [
        "ADAM"
      ]
    },
    {
      "cell_type": "code",
      "metadata": {
        "id": "D94_UrHgDoil"
      },
      "source": [
        "ThetaADAM = ADAM(theta=theta, grad=grad_exp, \n",
        "                 gd_params=gd_params, f_params=f_params)\n",
        "print('Inicio:', theta,'-> Fin:', ThetaADAM[-1,:])"
      ],
      "execution_count": null,
      "outputs": []
    },
    {
      "cell_type": "code",
      "metadata": {
        "id": "cmHN1d4NDtVz"
      },
      "source": [
        "Tmax=100\n",
        "plt.figure(figsize=(10,10))\n",
        "\n",
        "plt.subplot(211)\n",
        "plt.plot(ThetaNAG[:Tmax], '.')\n",
        "plt.title('NAG')\n",
        "\n",
        "plt.subplot(212)\n",
        "plt.plot(ThetaADAM[:Tmax], '.')\n",
        "plt.title('ADAM')\n",
        "\n",
        "plt.show()\n"
      ],
      "execution_count": null,
      "outputs": []
    },
    {
      "cell_type": "markdown",
      "metadata": {
        "id": "xH5AzwOoD1Oh"
      },
      "source": [
        "Gráfico de trayectorias de integración"
      ]
    },
    {
      "cell_type": "code",
      "metadata": {
        "id": "b3n-Us36DxnV"
      },
      "source": [
        "import matplotlib as mpl\n",
        "from mpl_toolkits.mplot3d import Axes3D\n",
        "import numpy as np\n",
        "import matplotlib.pyplot as plt\n",
        "\n",
        "mpl.rcParams['legend.fontsize'] = 14\n",
        "\n",
        "fig = plt.figure(figsize=(15,15))\n",
        "ax = fig.gca(projection='3d')\n",
        "nIter=np.expand_dims(np.arange(ThetaGD.shape[0]),1) \n",
        "Tmax=200\n",
        "ax.plot(ThetaGD[:Tmax,0],  ThetaGD [:Tmax,1], nIter[:Tmax,0], label='GD')\n",
        "ax.plot(ThetaSGD[:Tmax,0], ThetaSGD[:Tmax,1], nIter[:Tmax,0], label='SGD')\n",
        "ax.plot(ThetaMGD[:Tmax,0], ThetaMGD[:Tmax,1], nIter[:Tmax,0], label='MGD')\n",
        "ax.plot(ThetaNAG[:Tmax,0], ThetaNAG[:Tmax,1], nIter[:Tmax,0], label='NAG')\n",
        "ax.plot(ThetaADADELTA[:Tmax,0], ThetaADADELTA[:Tmax,1], nIter[:Tmax,0], label='ADADELTA')\n",
        "ax.plot(ThetaADAM[:Tmax,0], ThetaADAM[:Tmax,1], nIter[:Tmax,0], label='ADAM')\n",
        "ax.legend()\n",
        "ax.set_title(r'Trayectorias los parámetros calculados con distintos algoritmos')\n",
        "ax.set_xlabel(r'$\\theta_1$')\n",
        "ax.set_ylabel(r'$\\theta_0$')\n",
        "ax.set_zlabel('Iteración')\n",
        "plt.show()"
      ],
      "execution_count": null,
      "outputs": []
    },
    {
      "cell_type": "markdown",
      "metadata": {
        "id": "5HT6xKrqZ-3z"
      },
      "source": [
        "## Ejemplo Sintético \n"
      ]
    },
    {
      "cell_type": "code",
      "metadata": {
        "id": "M6S1KJzJaD5N"
      },
      "source": [
        "import numpy as np\n",
        "import matplotlib.pyplot as plt\n",
        "import sklearn\n",
        "import sklearn.datasets\n",
        "import sklearn.linear_model\n",
        "import sys \n",
        "\n",
        "def load_extra_datasets():  \n",
        "    N = 200\n",
        "    gaussian_quantiles = sklearn.datasets.make_gaussian_quantiles(mean=None, cov=0.7, n_samples=N, n_features=2, n_classes=2, shuffle=True, random_state=None)\n",
        "    return  gaussian_quantiles\n",
        "\n",
        "\n",
        "gaussian_quantiles= load_extra_datasets()\n",
        "X, Y = gaussian_quantiles\n",
        "X, Y = X.T, Y.reshape(1, Y.shape[0])\n",
        "#print(\"VT\",X[0,:],\"tel\",X[1,:])\n",
        "print(\"HS\",Y[0,:])\n",
        "# Visualize the data\n",
        "plt.scatter(X[0, :], X[1, :], c=Y[0,:], s=40, cmap=plt.cm.Spectral);\n",
        "\n",
        "print(X[:,1:5])\n"
      ],
      "execution_count": null,
      "outputs": []
    },
    {
      "cell_type": "code",
      "metadata": {
        "id": "BLDBz8JpaIAZ"
      },
      "source": [
        "import tensorflow as tf\n",
        "hidden_layer_size=8\n",
        "output_size = 1\n",
        "#We build the model, necessary when using tensorflow\n",
        "\n",
        "model = tf.keras.Sequential([\n",
        "\n",
        "    tf.keras.layers.Dense(hidden_layer_size, activation='tanh'),\n",
        "    #Output layer\n",
        "    tf.keras.layers.Dense(output_size, activation='sigmoid') \n",
        "    #calculates the dot productof the inputsand he weights and add bias\n",
        "])\n",
        "\n",
        "\n",
        "model.compile(optimizer = 'SGD', loss = 'binary_crossentropy', metrics = ['accuracy'])\n",
        "#model.compile(optimizer,loss) configures the model for training\n",
        "\n",
        "#Which deta tensorflow has to fit?\n",
        "#model.fit(inputs,targets) fits (trains) the model\n",
        "\n",
        "model.fit(X.T, Y[0,:], epochs = 1000,   verbose = 0) # verbose = 0 is for not showing progress bar\n",
        "\n",
        "print((X.T).shape, Y[0,:].shape)\n",
        "\n",
        "test_loss, test_acc = model.evaluate(X.T, Y[0,:],  verbose=2)\n",
        "print(test_loss, test_acc)\n",
        "\n",
        "history = model.fit(X.T, Y[0,:], epochs = 1000,   verbose = 0)\n",
        "\n",
        "# list all data in history\n",
        "print(history.history.keys())\n",
        "# summarize history for accuracy\n",
        "plt.plot(history.history['accuracy'])\n",
        "plt.title('model accuracy')\n",
        "plt.ylabel('accuracy')\n",
        "plt.xlabel('epoch')\n",
        "plt.legend(['train'], loc='upper left')\n",
        "plt.show()"
      ],
      "execution_count": null,
      "outputs": []
    },
    {
      "cell_type": "code",
      "metadata": {
        "id": "y3SDrFG3jLcZ"
      },
      "source": [
        "#Descenso de gradiente con Momento (Momentum)\n",
        "model.compile(optimizer = 'RMSprop', loss = 'binary_crossentropy', metrics = ['accuracy'])\n",
        "#model.compile(optimizer,loss) configures the model for training\n",
        "\n",
        "model.fit(X.T, Y[0,:], epochs = 1000,   verbose = 0) # verbose = 0 is for not showing progress bar\n",
        "\n",
        "test_loss, test_acc = model.evaluate(X.T, Y[0,:],  verbose=2)\n",
        "print(test_loss, test_acc)\n",
        "\n",
        "history = model.fit(X.T, Y[0,:], epochs = 1000,   verbose = 0)\n",
        "\n",
        "# list all data in history\n",
        "print(history.history.keys())\n",
        "# summarize history for accuracy\n",
        "plt.plot(history.history['accuracy'])\n",
        "plt.title('model accuracy')\n",
        "plt.ylabel('accuracy')\n",
        "plt.xlabel('epoch')\n",
        "plt.legend(['train'], loc='upper left')\n",
        "plt.show()"
      ],
      "execution_count": null,
      "outputs": []
    },
    {
      "cell_type": "code",
      "metadata": {
        "id": "mrRhrbYThieK"
      },
      "source": [
        "#Nadam\n",
        "model.compile(optimizer = 'Nadam', loss = 'binary_crossentropy', metrics = ['accuracy'])\n",
        "#model.compile(optimizer,loss) configures the model for training\n",
        "\n",
        "model.fit(X.T, Y[0,:], epochs = 1000,   verbose = 0) # verbose = 0 is for not showing progress bar\n",
        "\n",
        "test_loss, test_acc = model.evaluate(X.T, Y[0,:],  verbose=2)\n",
        "\n",
        "print(test_loss, test_acc)\n",
        "\n",
        "history = model.fit(X.T, Y[0,:], epochs = 1000,   verbose = 0)\n",
        "\n",
        "# list all data in history\n",
        "print(history.history.keys())\n",
        "# summarize history for accuracy\n",
        "plt.plot(history.history['accuracy'])\n",
        "plt.title('model accuracy')\n",
        "plt.ylabel('accuracy')\n",
        "plt.xlabel('epoch')\n",
        "plt.legend(['train'], loc='upper left')\n",
        "plt.show()"
      ],
      "execution_count": null,
      "outputs": []
    },
    {
      "cell_type": "code",
      "metadata": {
        "id": "SIiw0NtilWk8"
      },
      "source": [
        "#Adagrad\n",
        "model.compile(optimizer = 'Adagrad', loss = 'binary_crossentropy', metrics = ['accuracy'])\n",
        "#model.compile(optimizer,loss) configures the model for training\n",
        "\n",
        "model.fit(X.T, Y[0,:], epochs = 1000,   verbose = 0) # verbose = 0 is for not showing progress bar\n",
        "\n",
        "test_loss, test_acc = model.evaluate(X.T, Y[0,:],  verbose=2)\n",
        "print(test_loss, test_acc)\n",
        "\n",
        "history = model.fit(X.T, Y[0,:], epochs = 1000,   verbose = 0)\n",
        "\n",
        "# list all data in history\n",
        "print(history.history.keys())\n",
        "# summarize history for accuracy\n",
        "plt.plot(history.history['accuracy'])\n",
        "plt.title('model accuracy')\n",
        "plt.ylabel('accuracy')\n",
        "plt.xlabel('epoch')\n",
        "plt.legend(['train'], loc='upper left')\n",
        "plt.show()"
      ],
      "execution_count": null,
      "outputs": []
    },
    {
      "cell_type": "code",
      "metadata": {
        "id": "KE5soboUlN2g"
      },
      "source": [
        "#Adadelta\n",
        "model.compile(optimizer = 'Adadelta', loss = 'binary_crossentropy', metrics = ['accuracy'])\n",
        "#model.compile(optimizer,loss) configures the model for training\n",
        "\n",
        "model.fit(X.T, Y[0,:], epochs = 1000,   verbose = 0) # verbose = 0 is for not showing progress bar\n",
        "\n",
        "test_loss, test_acc = model.evaluate(X.T, Y[0,:],  verbose=2)\n",
        "\n",
        "print(test_loss, test_acc)\n",
        "\n",
        "history = model.fit(X.T, Y[0,:], epochs = 1000,   verbose = 0)\n",
        "\n",
        "# list all data in history\n",
        "print(history.history.keys())\n",
        "# summarize history for accuracy\n",
        "plt.plot(history.history['accuracy'])\n",
        "plt.title('model accuracy')\n",
        "plt.ylabel('accuracy')\n",
        "plt.xlabel('epoch')\n",
        "plt.legend(['train'], loc='upper left')\n",
        "plt.show()"
      ],
      "execution_count": null,
      "outputs": []
    },
    {
      "cell_type": "code",
      "metadata": {
        "id": "RVDqL1TSlzxj"
      },
      "source": [
        "#Adam\n",
        "model.compile(optimizer = 'Adam', loss = 'binary_crossentropy', metrics = ['accuracy'])\n",
        "#model.compile(optimizer,loss) configures the model for training\n",
        "\n",
        "model.fit(X.T, Y[0,:], epochs = 1000,   verbose = 0) # verbose = 0 is for not showing progress bar\n",
        "\n",
        "test_loss, test_acc = model.evaluate(X.T, Y[0,:],  verbose=2)\n",
        "\n",
        "print(test_loss, test_acc)\n",
        "\n",
        "history = model.fit(X.T, Y[0,:], epochs = 1000,   verbose = 0)\n",
        "\n",
        "# list all data in history\n",
        "print(history.history.keys())\n",
        "# summarize history for accuracy\n",
        "plt.plot(history.history['accuracy'])\n",
        "plt.title('model accuracy')\n",
        "plt.ylabel('accuracy')\n",
        "plt.xlabel('epoch')\n",
        "plt.legend(['train'], loc='upper left')\n",
        "plt.show()"
      ],
      "execution_count": null,
      "outputs": []
    }
  ]
}
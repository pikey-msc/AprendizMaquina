{
 "cells": [
  {
   "cell_type": "code",
   "execution_count": 22,
   "metadata": {
    "ExecuteTime": {
     "end_time": "2022-02-25T01:05:18.241449Z",
     "start_time": "2022-02-25T01:05:18.233635Z"
    }
   },
   "outputs": [],
   "source": [
    "import numpy as np\n",
    "import pandas as pd\n",
    "from sklearn.datasets import load_boston\n",
    "pd.set_option(\"max_columns\", 500)"
   ]
  },
  {
   "cell_type": "code",
   "execution_count": 23,
   "metadata": {
    "ExecuteTime": {
     "end_time": "2022-02-25T01:05:34.384374Z",
     "start_time": "2022-02-25T01:05:34.375973Z"
    }
   },
   "outputs": [],
   "source": [
    "from sklearn.linear_model import Ridge, Lasso, ElasticNet, BayesianRidge, Lars"
   ]
  },
  {
   "cell_type": "code",
   "execution_count": 24,
   "metadata": {
    "ExecuteTime": {
     "end_time": "2022-02-25T01:05:39.804334Z",
     "start_time": "2022-02-25T01:05:39.780545Z"
    }
   },
   "outputs": [],
   "source": [
    "boston = load_boston() "
   ]
  },
  {
   "cell_type": "code",
   "execution_count": 25,
   "metadata": {
    "ExecuteTime": {
     "end_time": "2022-02-25T01:05:48.607736Z",
     "start_time": "2022-02-25T01:05:48.593903Z"
    },
    "scrolled": true
   },
   "outputs": [
    {
     "data": {
      "text/plain": [
       "{'data': array([[6.3200e-03, 1.8000e+01, 2.3100e+00, ..., 1.5300e+01, 3.9690e+02,\n",
       "         4.9800e+00],\n",
       "        [2.7310e-02, 0.0000e+00, 7.0700e+00, ..., 1.7800e+01, 3.9690e+02,\n",
       "         9.1400e+00],\n",
       "        [2.7290e-02, 0.0000e+00, 7.0700e+00, ..., 1.7800e+01, 3.9283e+02,\n",
       "         4.0300e+00],\n",
       "        ...,\n",
       "        [6.0760e-02, 0.0000e+00, 1.1930e+01, ..., 2.1000e+01, 3.9690e+02,\n",
       "         5.6400e+00],\n",
       "        [1.0959e-01, 0.0000e+00, 1.1930e+01, ..., 2.1000e+01, 3.9345e+02,\n",
       "         6.4800e+00],\n",
       "        [4.7410e-02, 0.0000e+00, 1.1930e+01, ..., 2.1000e+01, 3.9690e+02,\n",
       "         7.8800e+00]]),\n",
       " 'target': array([24. , 21.6, 34.7, 33.4, 36.2, 28.7, 22.9, 27.1, 16.5, 18.9, 15. ,\n",
       "        18.9, 21.7, 20.4, 18.2, 19.9, 23.1, 17.5, 20.2, 18.2, 13.6, 19.6,\n",
       "        15.2, 14.5, 15.6, 13.9, 16.6, 14.8, 18.4, 21. , 12.7, 14.5, 13.2,\n",
       "        13.1, 13.5, 18.9, 20. , 21. , 24.7, 30.8, 34.9, 26.6, 25.3, 24.7,\n",
       "        21.2, 19.3, 20. , 16.6, 14.4, 19.4, 19.7, 20.5, 25. , 23.4, 18.9,\n",
       "        35.4, 24.7, 31.6, 23.3, 19.6, 18.7, 16. , 22.2, 25. , 33. , 23.5,\n",
       "        19.4, 22. , 17.4, 20.9, 24.2, 21.7, 22.8, 23.4, 24.1, 21.4, 20. ,\n",
       "        20.8, 21.2, 20.3, 28. , 23.9, 24.8, 22.9, 23.9, 26.6, 22.5, 22.2,\n",
       "        23.6, 28.7, 22.6, 22. , 22.9, 25. , 20.6, 28.4, 21.4, 38.7, 43.8,\n",
       "        33.2, 27.5, 26.5, 18.6, 19.3, 20.1, 19.5, 19.5, 20.4, 19.8, 19.4,\n",
       "        21.7, 22.8, 18.8, 18.7, 18.5, 18.3, 21.2, 19.2, 20.4, 19.3, 22. ,\n",
       "        20.3, 20.5, 17.3, 18.8, 21.4, 15.7, 16.2, 18. , 14.3, 19.2, 19.6,\n",
       "        23. , 18.4, 15.6, 18.1, 17.4, 17.1, 13.3, 17.8, 14. , 14.4, 13.4,\n",
       "        15.6, 11.8, 13.8, 15.6, 14.6, 17.8, 15.4, 21.5, 19.6, 15.3, 19.4,\n",
       "        17. , 15.6, 13.1, 41.3, 24.3, 23.3, 27. , 50. , 50. , 50. , 22.7,\n",
       "        25. , 50. , 23.8, 23.8, 22.3, 17.4, 19.1, 23.1, 23.6, 22.6, 29.4,\n",
       "        23.2, 24.6, 29.9, 37.2, 39.8, 36.2, 37.9, 32.5, 26.4, 29.6, 50. ,\n",
       "        32. , 29.8, 34.9, 37. , 30.5, 36.4, 31.1, 29.1, 50. , 33.3, 30.3,\n",
       "        34.6, 34.9, 32.9, 24.1, 42.3, 48.5, 50. , 22.6, 24.4, 22.5, 24.4,\n",
       "        20. , 21.7, 19.3, 22.4, 28.1, 23.7, 25. , 23.3, 28.7, 21.5, 23. ,\n",
       "        26.7, 21.7, 27.5, 30.1, 44.8, 50. , 37.6, 31.6, 46.7, 31.5, 24.3,\n",
       "        31.7, 41.7, 48.3, 29. , 24. , 25.1, 31.5, 23.7, 23.3, 22. , 20.1,\n",
       "        22.2, 23.7, 17.6, 18.5, 24.3, 20.5, 24.5, 26.2, 24.4, 24.8, 29.6,\n",
       "        42.8, 21.9, 20.9, 44. , 50. , 36. , 30.1, 33.8, 43.1, 48.8, 31. ,\n",
       "        36.5, 22.8, 30.7, 50. , 43.5, 20.7, 21.1, 25.2, 24.4, 35.2, 32.4,\n",
       "        32. , 33.2, 33.1, 29.1, 35.1, 45.4, 35.4, 46. , 50. , 32.2, 22. ,\n",
       "        20.1, 23.2, 22.3, 24.8, 28.5, 37.3, 27.9, 23.9, 21.7, 28.6, 27.1,\n",
       "        20.3, 22.5, 29. , 24.8, 22. , 26.4, 33.1, 36.1, 28.4, 33.4, 28.2,\n",
       "        22.8, 20.3, 16.1, 22.1, 19.4, 21.6, 23.8, 16.2, 17.8, 19.8, 23.1,\n",
       "        21. , 23.8, 23.1, 20.4, 18.5, 25. , 24.6, 23. , 22.2, 19.3, 22.6,\n",
       "        19.8, 17.1, 19.4, 22.2, 20.7, 21.1, 19.5, 18.5, 20.6, 19. , 18.7,\n",
       "        32.7, 16.5, 23.9, 31.2, 17.5, 17.2, 23.1, 24.5, 26.6, 22.9, 24.1,\n",
       "        18.6, 30.1, 18.2, 20.6, 17.8, 21.7, 22.7, 22.6, 25. , 19.9, 20.8,\n",
       "        16.8, 21.9, 27.5, 21.9, 23.1, 50. , 50. , 50. , 50. , 50. , 13.8,\n",
       "        13.8, 15. , 13.9, 13.3, 13.1, 10.2, 10.4, 10.9, 11.3, 12.3,  8.8,\n",
       "         7.2, 10.5,  7.4, 10.2, 11.5, 15.1, 23.2,  9.7, 13.8, 12.7, 13.1,\n",
       "        12.5,  8.5,  5. ,  6.3,  5.6,  7.2, 12.1,  8.3,  8.5,  5. , 11.9,\n",
       "        27.9, 17.2, 27.5, 15. , 17.2, 17.9, 16.3,  7. ,  7.2,  7.5, 10.4,\n",
       "         8.8,  8.4, 16.7, 14.2, 20.8, 13.4, 11.7,  8.3, 10.2, 10.9, 11. ,\n",
       "         9.5, 14.5, 14.1, 16.1, 14.3, 11.7, 13.4,  9.6,  8.7,  8.4, 12.8,\n",
       "        10.5, 17.1, 18.4, 15.4, 10.8, 11.8, 14.9, 12.6, 14.1, 13. , 13.4,\n",
       "        15.2, 16.1, 17.8, 14.9, 14.1, 12.7, 13.5, 14.9, 20. , 16.4, 17.7,\n",
       "        19.5, 20.2, 21.4, 19.9, 19. , 19.1, 19.1, 20.1, 19.9, 19.6, 23.2,\n",
       "        29.8, 13.8, 13.3, 16.7, 12. , 14.6, 21.4, 23. , 23.7, 25. , 21.8,\n",
       "        20.6, 21.2, 19.1, 20.6, 15.2,  7. ,  8.1, 13.6, 20.1, 21.8, 24.5,\n",
       "        23.1, 19.7, 18.3, 21.2, 17.5, 16.8, 22.4, 20.6, 23.9, 22. , 11.9]),\n",
       " 'feature_names': array(['CRIM', 'ZN', 'INDUS', 'CHAS', 'NOX', 'RM', 'AGE', 'DIS', 'RAD',\n",
       "        'TAX', 'PTRATIO', 'B', 'LSTAT'], dtype='<U7'),\n",
       " 'DESCR': \".. _boston_dataset:\\n\\nBoston house prices dataset\\n---------------------------\\n\\n**Data Set Characteristics:**  \\n\\n    :Number of Instances: 506 \\n\\n    :Number of Attributes: 13 numeric/categorical predictive. Median Value (attribute 14) is usually the target.\\n\\n    :Attribute Information (in order):\\n        - CRIM     per capita crime rate by town\\n        - ZN       proportion of residential land zoned for lots over 25,000 sq.ft.\\n        - INDUS    proportion of non-retail business acres per town\\n        - CHAS     Charles River dummy variable (= 1 if tract bounds river; 0 otherwise)\\n        - NOX      nitric oxides concentration (parts per 10 million)\\n        - RM       average number of rooms per dwelling\\n        - AGE      proportion of owner-occupied units built prior to 1940\\n        - DIS      weighted distances to five Boston employment centres\\n        - RAD      index of accessibility to radial highways\\n        - TAX      full-value property-tax rate per $10,000\\n        - PTRATIO  pupil-teacher ratio by town\\n        - B        1000(Bk - 0.63)^2 where Bk is the proportion of blacks by town\\n        - LSTAT    % lower status of the population\\n        - MEDV     Median value of owner-occupied homes in $1000's\\n\\n    :Missing Attribute Values: None\\n\\n    :Creator: Harrison, D. and Rubinfeld, D.L.\\n\\nThis is a copy of UCI ML housing dataset.\\nhttps://archive.ics.uci.edu/ml/machine-learning-databases/housing/\\n\\n\\nThis dataset was taken from the StatLib library which is maintained at Carnegie Mellon University.\\n\\nThe Boston house-price data of Harrison, D. and Rubinfeld, D.L. 'Hedonic\\nprices and the demand for clean air', J. Environ. Economics & Management,\\nvol.5, 81-102, 1978.   Used in Belsley, Kuh & Welsch, 'Regression diagnostics\\n...', Wiley, 1980.   N.B. Various transformations are used in the table on\\npages 244-261 of the latter.\\n\\nThe Boston house-price data has been used in many machine learning papers that address regression\\nproblems.   \\n     \\n.. topic:: References\\n\\n   - Belsley, Kuh & Welsch, 'Regression diagnostics: Identifying Influential Data and Sources of Collinearity', Wiley, 1980. 244-261.\\n   - Quinlan,R. (1993). Combining Instance-Based and Model-Based Learning. In Proceedings on the Tenth International Conference of Machine Learning, 236-243, University of Massachusetts, Amherst. Morgan Kaufmann.\\n\",\n",
       " 'filename': '/home/jorge/Documents/Diplomado/ambientes/diplo_env/lib/python3.6/site-packages/sklearn/datasets/data/boston_house_prices.csv'}"
      ]
     },
     "execution_count": 25,
     "metadata": {},
     "output_type": "execute_result"
    }
   ],
   "source": [
    "boston"
   ]
  },
  {
   "cell_type": "code",
   "execution_count": 26,
   "metadata": {
    "ExecuteTime": {
     "end_time": "2022-02-25T01:05:59.086464Z",
     "start_time": "2022-02-25T01:05:59.074087Z"
    }
   },
   "outputs": [
    {
     "data": {
      "text/plain": [
       "dict_keys(['data', 'target', 'feature_names', 'DESCR', 'filename'])"
      ]
     },
     "execution_count": 26,
     "metadata": {},
     "output_type": "execute_result"
    }
   ],
   "source": [
    "boston.keys()"
   ]
  },
  {
   "cell_type": "code",
   "execution_count": 27,
   "metadata": {
    "ExecuteTime": {
     "end_time": "2022-02-25T01:06:18.810581Z",
     "start_time": "2022-02-25T01:06:18.801968Z"
    }
   },
   "outputs": [
    {
     "name": "stdout",
     "output_type": "stream",
     "text": [
      ".. _boston_dataset:\n",
      "\n",
      "Boston house prices dataset\n",
      "---------------------------\n",
      "\n",
      "**Data Set Characteristics:**  \n",
      "\n",
      "    :Number of Instances: 506 \n",
      "\n",
      "    :Number of Attributes: 13 numeric/categorical predictive. Median Value (attribute 14) is usually the target.\n",
      "\n",
      "    :Attribute Information (in order):\n",
      "        - CRIM     per capita crime rate by town\n",
      "        - ZN       proportion of residential land zoned for lots over 25,000 sq.ft.\n",
      "        - INDUS    proportion of non-retail business acres per town\n",
      "        - CHAS     Charles River dummy variable (= 1 if tract bounds river; 0 otherwise)\n",
      "        - NOX      nitric oxides concentration (parts per 10 million)\n",
      "        - RM       average number of rooms per dwelling\n",
      "        - AGE      proportion of owner-occupied units built prior to 1940\n",
      "        - DIS      weighted distances to five Boston employment centres\n",
      "        - RAD      index of accessibility to radial highways\n",
      "        - TAX      full-value property-tax rate per $10,000\n",
      "        - PTRATIO  pupil-teacher ratio by town\n",
      "        - B        1000(Bk - 0.63)^2 where Bk is the proportion of blacks by town\n",
      "        - LSTAT    % lower status of the population\n",
      "        - MEDV     Median value of owner-occupied homes in $1000's\n",
      "\n",
      "    :Missing Attribute Values: None\n",
      "\n",
      "    :Creator: Harrison, D. and Rubinfeld, D.L.\n",
      "\n",
      "This is a copy of UCI ML housing dataset.\n",
      "https://archive.ics.uci.edu/ml/machine-learning-databases/housing/\n",
      "\n",
      "\n",
      "This dataset was taken from the StatLib library which is maintained at Carnegie Mellon University.\n",
      "\n",
      "The Boston house-price data of Harrison, D. and Rubinfeld, D.L. 'Hedonic\n",
      "prices and the demand for clean air', J. Environ. Economics & Management,\n",
      "vol.5, 81-102, 1978.   Used in Belsley, Kuh & Welsch, 'Regression diagnostics\n",
      "...', Wiley, 1980.   N.B. Various transformations are used in the table on\n",
      "pages 244-261 of the latter.\n",
      "\n",
      "The Boston house-price data has been used in many machine learning papers that address regression\n",
      "problems.   \n",
      "     \n",
      ".. topic:: References\n",
      "\n",
      "   - Belsley, Kuh & Welsch, 'Regression diagnostics: Identifying Influential Data and Sources of Collinearity', Wiley, 1980. 244-261.\n",
      "   - Quinlan,R. (1993). Combining Instance-Based and Model-Based Learning. In Proceedings on the Tenth International Conference of Machine Learning, 236-243, University of Massachusetts, Amherst. Morgan Kaufmann.\n",
      "\n"
     ]
    }
   ],
   "source": [
    "print(boston['DESCR'])"
   ]
  },
  {
   "cell_type": "code",
   "execution_count": 28,
   "metadata": {
    "ExecuteTime": {
     "end_time": "2022-02-25T01:07:02.902515Z",
     "start_time": "2022-02-25T01:07:02.895238Z"
    }
   },
   "outputs": [],
   "source": [
    "df = pd.DataFrame(data = boston[\"data\"], columns=boston[\"feature_names\"])"
   ]
  },
  {
   "cell_type": "code",
   "execution_count": 29,
   "metadata": {
    "ExecuteTime": {
     "end_time": "2022-02-25T01:07:05.980509Z",
     "start_time": "2022-02-25T01:07:05.964857Z"
    }
   },
   "outputs": [],
   "source": [
    "df[\"target\"] = boston[\"target\"]\n",
    "tgt = \"target\"\n"
   ]
  },
  {
   "cell_type": "code",
   "execution_count": 30,
   "metadata": {
    "ExecuteTime": {
     "end_time": "2022-02-25T01:07:06.698323Z",
     "start_time": "2022-02-25T01:07:06.618165Z"
    }
   },
   "outputs": [
    {
     "data": {
      "text/html": [
       "<div>\n",
       "<style scoped>\n",
       "    .dataframe tbody tr th:only-of-type {\n",
       "        vertical-align: middle;\n",
       "    }\n",
       "\n",
       "    .dataframe tbody tr th {\n",
       "        vertical-align: top;\n",
       "    }\n",
       "\n",
       "    .dataframe thead th {\n",
       "        text-align: right;\n",
       "    }\n",
       "</style>\n",
       "<table border=\"1\" class=\"dataframe\">\n",
       "  <thead>\n",
       "    <tr style=\"text-align: right;\">\n",
       "      <th></th>\n",
       "      <th>CRIM</th>\n",
       "      <th>ZN</th>\n",
       "      <th>INDUS</th>\n",
       "      <th>CHAS</th>\n",
       "      <th>NOX</th>\n",
       "      <th>RM</th>\n",
       "      <th>AGE</th>\n",
       "      <th>DIS</th>\n",
       "      <th>RAD</th>\n",
       "      <th>TAX</th>\n",
       "      <th>PTRATIO</th>\n",
       "      <th>B</th>\n",
       "      <th>LSTAT</th>\n",
       "      <th>target</th>\n",
       "    </tr>\n",
       "  </thead>\n",
       "  <tbody>\n",
       "    <tr>\n",
       "      <th>0</th>\n",
       "      <td>0.00632</td>\n",
       "      <td>18.0</td>\n",
       "      <td>2.31</td>\n",
       "      <td>0.0</td>\n",
       "      <td>0.538</td>\n",
       "      <td>6.575</td>\n",
       "      <td>65.2</td>\n",
       "      <td>4.0900</td>\n",
       "      <td>1.0</td>\n",
       "      <td>296.0</td>\n",
       "      <td>15.3</td>\n",
       "      <td>396.90</td>\n",
       "      <td>4.98</td>\n",
       "      <td>24.0</td>\n",
       "    </tr>\n",
       "    <tr>\n",
       "      <th>1</th>\n",
       "      <td>0.02731</td>\n",
       "      <td>0.0</td>\n",
       "      <td>7.07</td>\n",
       "      <td>0.0</td>\n",
       "      <td>0.469</td>\n",
       "      <td>6.421</td>\n",
       "      <td>78.9</td>\n",
       "      <td>4.9671</td>\n",
       "      <td>2.0</td>\n",
       "      <td>242.0</td>\n",
       "      <td>17.8</td>\n",
       "      <td>396.90</td>\n",
       "      <td>9.14</td>\n",
       "      <td>21.6</td>\n",
       "    </tr>\n",
       "    <tr>\n",
       "      <th>2</th>\n",
       "      <td>0.02729</td>\n",
       "      <td>0.0</td>\n",
       "      <td>7.07</td>\n",
       "      <td>0.0</td>\n",
       "      <td>0.469</td>\n",
       "      <td>7.185</td>\n",
       "      <td>61.1</td>\n",
       "      <td>4.9671</td>\n",
       "      <td>2.0</td>\n",
       "      <td>242.0</td>\n",
       "      <td>17.8</td>\n",
       "      <td>392.83</td>\n",
       "      <td>4.03</td>\n",
       "      <td>34.7</td>\n",
       "    </tr>\n",
       "    <tr>\n",
       "      <th>3</th>\n",
       "      <td>0.03237</td>\n",
       "      <td>0.0</td>\n",
       "      <td>2.18</td>\n",
       "      <td>0.0</td>\n",
       "      <td>0.458</td>\n",
       "      <td>6.998</td>\n",
       "      <td>45.8</td>\n",
       "      <td>6.0622</td>\n",
       "      <td>3.0</td>\n",
       "      <td>222.0</td>\n",
       "      <td>18.7</td>\n",
       "      <td>394.63</td>\n",
       "      <td>2.94</td>\n",
       "      <td>33.4</td>\n",
       "    </tr>\n",
       "    <tr>\n",
       "      <th>4</th>\n",
       "      <td>0.06905</td>\n",
       "      <td>0.0</td>\n",
       "      <td>2.18</td>\n",
       "      <td>0.0</td>\n",
       "      <td>0.458</td>\n",
       "      <td>7.147</td>\n",
       "      <td>54.2</td>\n",
       "      <td>6.0622</td>\n",
       "      <td>3.0</td>\n",
       "      <td>222.0</td>\n",
       "      <td>18.7</td>\n",
       "      <td>396.90</td>\n",
       "      <td>5.33</td>\n",
       "      <td>36.2</td>\n",
       "    </tr>\n",
       "  </tbody>\n",
       "</table>\n",
       "</div>"
      ],
      "text/plain": [
       "      CRIM    ZN  INDUS  CHAS    NOX     RM   AGE     DIS  RAD    TAX  \\\n",
       "0  0.00632  18.0   2.31   0.0  0.538  6.575  65.2  4.0900  1.0  296.0   \n",
       "1  0.02731   0.0   7.07   0.0  0.469  6.421  78.9  4.9671  2.0  242.0   \n",
       "2  0.02729   0.0   7.07   0.0  0.469  7.185  61.1  4.9671  2.0  242.0   \n",
       "3  0.03237   0.0   2.18   0.0  0.458  6.998  45.8  6.0622  3.0  222.0   \n",
       "4  0.06905   0.0   2.18   0.0  0.458  7.147  54.2  6.0622  3.0  222.0   \n",
       "\n",
       "   PTRATIO       B  LSTAT  target  \n",
       "0     15.3  396.90   4.98    24.0  \n",
       "1     17.8  396.90   9.14    21.6  \n",
       "2     17.8  392.83   4.03    34.7  \n",
       "3     18.7  394.63   2.94    33.4  \n",
       "4     18.7  396.90   5.33    36.2  "
      ]
     },
     "execution_count": 30,
     "metadata": {},
     "output_type": "execute_result"
    }
   ],
   "source": [
    "df.head()"
   ]
  },
  {
   "cell_type": "code",
   "execution_count": 31,
   "metadata": {
    "ExecuteTime": {
     "end_time": "2022-02-25T01:07:28.843719Z",
     "start_time": "2022-02-25T01:07:28.835505Z"
    }
   },
   "outputs": [],
   "source": [
    "ls_pred = [x for x in df.columns if x not in [tgt]]"
   ]
  },
  {
   "cell_type": "code",
   "execution_count": 32,
   "metadata": {
    "ExecuteTime": {
     "end_time": "2022-02-25T01:07:50.310265Z",
     "start_time": "2022-02-25T01:07:50.300844Z"
    }
   },
   "outputs": [],
   "source": [
    "X = df[ls_pred]\n",
    "y = df[tgt]"
   ]
  },
  {
   "cell_type": "code",
   "execution_count": 33,
   "metadata": {
    "ExecuteTime": {
     "end_time": "2022-02-25T01:07:56.085384Z",
     "start_time": "2022-02-25T01:07:56.076560Z"
    }
   },
   "outputs": [],
   "source": [
    "from sklearn.model_selection import train_test_split"
   ]
  },
  {
   "cell_type": "code",
   "execution_count": 34,
   "metadata": {
    "ExecuteTime": {
     "end_time": "2022-02-25T01:07:57.446808Z",
     "start_time": "2022-02-25T01:07:57.435767Z"
    }
   },
   "outputs": [],
   "source": [
    "X_train, X_test, y_train, y_test = train_test_split(X, y, test_size=0.3)"
   ]
  },
  {
   "cell_type": "markdown",
   "metadata": {},
   "source": [
    "# Modelado"
   ]
  },
  {
   "cell_type": "markdown",
   "metadata": {},
   "source": [
    "## LASSO"
   ]
  },
  {
   "cell_type": "code",
   "execution_count": 36,
   "metadata": {
    "ExecuteTime": {
     "end_time": "2022-02-25T01:08:18.223239Z",
     "start_time": "2022-02-25T01:08:18.219821Z"
    }
   },
   "outputs": [],
   "source": [
    "from sklearn.model_selection import cross_val_score"
   ]
  },
  {
   "cell_type": "code",
   "execution_count": 37,
   "metadata": {
    "ExecuteTime": {
     "end_time": "2022-02-25T01:08:20.821640Z",
     "start_time": "2022-02-25T01:08:20.818199Z"
    }
   },
   "outputs": [],
   "source": [
    "model_lasso = Lasso()"
   ]
  },
  {
   "cell_type": "code",
   "execution_count": 38,
   "metadata": {
    "ExecuteTime": {
     "end_time": "2022-02-25T01:08:35.271347Z",
     "start_time": "2022-02-25T01:08:35.263174Z"
    }
   },
   "outputs": [
    {
     "data": {
      "text/plain": [
       "{'alpha': 1.0,\n",
       " 'copy_X': True,\n",
       " 'fit_intercept': True,\n",
       " 'max_iter': 1000,\n",
       " 'normalize': False,\n",
       " 'positive': False,\n",
       " 'precompute': False,\n",
       " 'random_state': None,\n",
       " 'selection': 'cyclic',\n",
       " 'tol': 0.0001,\n",
       " 'warm_start': False}"
      ]
     },
     "execution_count": 38,
     "metadata": {},
     "output_type": "execute_result"
    }
   ],
   "source": [
    "model_lasso.get_params()"
   ]
  },
  {
   "cell_type": "code",
   "execution_count": 39,
   "metadata": {
    "ExecuteTime": {
     "end_time": "2022-02-25T01:10:29.497240Z",
     "start_time": "2022-02-25T01:10:29.486623Z"
    }
   },
   "outputs": [
    {
     "data": {
      "text/plain": [
       "Lasso()"
      ]
     },
     "execution_count": 39,
     "metadata": {},
     "output_type": "execute_result"
    }
   ],
   "source": [
    "model_lasso.fit(X_train, y_train)"
   ]
  },
  {
   "cell_type": "code",
   "execution_count": 40,
   "metadata": {
    "ExecuteTime": {
     "end_time": "2022-02-25T01:12:23.725548Z",
     "start_time": "2022-02-25T01:12:22.404565Z"
    }
   },
   "outputs": [],
   "source": [
    "ls_medias = cross_val_score(estimator=model_lasso, X=X_train, y = y_train, cv = 4, n_jobs=-1, scoring=\"r2\")"
   ]
  },
  {
   "cell_type": "code",
   "execution_count": 41,
   "metadata": {
    "ExecuteTime": {
     "end_time": "2022-02-25T01:12:25.249105Z",
     "start_time": "2022-02-25T01:12:25.239291Z"
    }
   },
   "outputs": [
    {
     "data": {
      "text/plain": [
       "array([0.63805061, 0.68234712, 0.69431002, 0.59734902])"
      ]
     },
     "execution_count": 41,
     "metadata": {},
     "output_type": "execute_result"
    }
   ],
   "source": [
    "ls_medias"
   ]
  },
  {
   "cell_type": "code",
   "execution_count": 42,
   "metadata": {
    "ExecuteTime": {
     "end_time": "2022-02-25T01:13:16.822303Z",
     "start_time": "2022-02-25T01:13:16.808493Z"
    }
   },
   "outputs": [
    {
     "data": {
      "text/plain": [
       "(0.6530141909888982, 0.038367585031444724)"
      ]
     },
     "execution_count": 42,
     "metadata": {},
     "output_type": "execute_result"
    }
   ],
   "source": [
    "\n",
    "np.mean(ls_medias), np.std(ls_medias)"
   ]
  },
  {
   "cell_type": "code",
   "execution_count": 43,
   "metadata": {
    "ExecuteTime": {
     "end_time": "2022-02-25T01:17:57.500096Z",
     "start_time": "2022-02-25T01:17:57.496299Z"
    }
   },
   "outputs": [],
   "source": [
    "param_grid = {\n",
    "    \"alpha\": [x for x in range(1, 100)] + [y/10 for y in range(10)],\n",
    "    \"tol\": [0.00001, 0.0000001, 0.01],\n",
    "}"
   ]
  },
  {
   "cell_type": "code",
   "execution_count": 44,
   "metadata": {
    "ExecuteTime": {
     "end_time": "2022-02-25T01:18:25.913864Z",
     "start_time": "2022-02-25T01:18:25.908047Z"
    }
   },
   "outputs": [
    {
     "data": {
      "text/plain": [
       "327"
      ]
     },
     "execution_count": 44,
     "metadata": {},
     "output_type": "execute_result"
    }
   ],
   "source": [
    "np.prod(list(map(len, param_grid.values())))"
   ]
  },
  {
   "cell_type": "code",
   "execution_count": 46,
   "metadata": {
    "ExecuteTime": {
     "end_time": "2022-02-25T01:23:19.122768Z",
     "start_time": "2022-02-25T01:23:19.107671Z"
    }
   },
   "outputs": [],
   "source": [
    "from sklearn.model_selection import GridSearchCV, RandomizedSearchCV"
   ]
  },
  {
   "cell_type": "code",
   "execution_count": 47,
   "metadata": {
    "ExecuteTime": {
     "end_time": "2022-02-25T01:23:25.264443Z",
     "start_time": "2022-02-25T01:23:19.657835Z"
    }
   },
   "outputs": [
    {
     "name": "stdout",
     "output_type": "stream",
     "text": [
      "Fitting 4 folds for each of 327 candidates, totalling 1308 fits\n"
     ]
    },
    {
     "name": "stderr",
     "output_type": "stream",
     "text": [
      "[Parallel(n_jobs=-1)]: Using backend LokyBackend with 8 concurrent workers.\n",
      "[Parallel(n_jobs=-1)]: Done   2 tasks      | elapsed:    1.8s\n",
      "[Parallel(n_jobs=-1)]: Done  56 tasks      | elapsed:    2.4s\n",
      "[Parallel(n_jobs=-1)]: Done 832 tasks      | elapsed:    4.3s\n",
      "[Parallel(n_jobs=-1)]: Done 1288 tasks      | elapsed:    5.4s\n",
      "[Parallel(n_jobs=-1)]: Done 1308 out of 1308 | elapsed:    5.6s finished\n"
     ]
    },
    {
     "name": "stdout",
     "output_type": "stream",
     "text": [
      "Best score: 0.7162544957452255\n"
     ]
    },
    {
     "name": "stderr",
     "output_type": "stream",
     "text": [
      "/home/jorge/Documents/Diplomado/ambientes/diplo_env/lib/python3.6/site-packages/sklearn/model_selection/_search.py:765: UserWarning: With alpha=0, this algorithm does not converge well. You are advised to use the LinearRegression estimator\n",
      "  self.best_estimator_.fit(X, y, **fit_params)\n",
      "/home/jorge/Documents/Diplomado/ambientes/diplo_env/lib/python3.6/site-packages/sklearn/linear_model/_coordinate_descent.py:531: UserWarning: Coordinate descent with no regularization may lead to unexpected results and is discouraged.\n",
      "  positive)\n",
      "/home/jorge/Documents/Diplomado/ambientes/diplo_env/lib/python3.6/site-packages/sklearn/linear_model/_coordinate_descent.py:531: ConvergenceWarning: Objective did not converge. You might want to increase the number of iterations. Duality gap: 3818.6204256385076, tolerance: 0.2891386124293785\n",
      "  positive)\n"
     ]
    }
   ],
   "source": [
    "clf = GridSearchCV(model_lasso, param_grid, cv=4, error_score=-1000, n_jobs=-1, scoring=\"r2\", verbose=5)\n",
    "clf.fit(X_train, y_train)\n",
    "print(\"Best score: \" + str(clf.best_score_))"
   ]
  },
  {
   "cell_type": "code",
   "execution_count": 48,
   "metadata": {
    "ExecuteTime": {
     "end_time": "2022-02-25T01:24:28.507120Z",
     "start_time": "2022-02-25T01:24:28.492587Z"
    }
   },
   "outputs": [],
   "source": [
    "summary = pd.DataFrame(clf.cv_results_)"
   ]
  },
  {
   "cell_type": "code",
   "execution_count": 49,
   "metadata": {
    "ExecuteTime": {
     "end_time": "2022-02-25T01:24:30.921214Z",
     "start_time": "2022-02-25T01:24:30.885370Z"
    },
    "scrolled": true
   },
   "outputs": [
    {
     "data": {
      "text/html": [
       "<div>\n",
       "<style scoped>\n",
       "    .dataframe tbody tr th:only-of-type {\n",
       "        vertical-align: middle;\n",
       "    }\n",
       "\n",
       "    .dataframe tbody tr th {\n",
       "        vertical-align: top;\n",
       "    }\n",
       "\n",
       "    .dataframe thead th {\n",
       "        text-align: right;\n",
       "    }\n",
       "</style>\n",
       "<table border=\"1\" class=\"dataframe\">\n",
       "  <thead>\n",
       "    <tr style=\"text-align: right;\">\n",
       "      <th></th>\n",
       "      <th>mean_fit_time</th>\n",
       "      <th>std_fit_time</th>\n",
       "      <th>mean_score_time</th>\n",
       "      <th>std_score_time</th>\n",
       "      <th>param_alpha</th>\n",
       "      <th>param_tol</th>\n",
       "      <th>params</th>\n",
       "      <th>split0_test_score</th>\n",
       "      <th>split1_test_score</th>\n",
       "      <th>split2_test_score</th>\n",
       "      <th>split3_test_score</th>\n",
       "      <th>mean_test_score</th>\n",
       "      <th>std_test_score</th>\n",
       "      <th>rank_test_score</th>\n",
       "    </tr>\n",
       "  </thead>\n",
       "  <tbody>\n",
       "    <tr>\n",
       "      <th>0</th>\n",
       "      <td>0.009826</td>\n",
       "      <td>0.003359</td>\n",
       "      <td>0.007702</td>\n",
       "      <td>0.001812</td>\n",
       "      <td>1</td>\n",
       "      <td>1e-05</td>\n",
       "      <td>{'alpha': 1, 'tol': 1e-05}</td>\n",
       "      <td>0.638055</td>\n",
       "      <td>0.682349</td>\n",
       "      <td>0.694319</td>\n",
       "      <td>0.597350</td>\n",
       "      <td>0.653018</td>\n",
       "      <td>0.038370</td>\n",
       "      <td>32</td>\n",
       "    </tr>\n",
       "    <tr>\n",
       "      <th>1</th>\n",
       "      <td>0.007781</td>\n",
       "      <td>0.003319</td>\n",
       "      <td>0.009069</td>\n",
       "      <td>0.005749</td>\n",
       "      <td>1</td>\n",
       "      <td>1e-07</td>\n",
       "      <td>{'alpha': 1, 'tol': 1e-07}</td>\n",
       "      <td>0.638056</td>\n",
       "      <td>0.682349</td>\n",
       "      <td>0.694318</td>\n",
       "      <td>0.597350</td>\n",
       "      <td>0.653018</td>\n",
       "      <td>0.038370</td>\n",
       "      <td>31</td>\n",
       "    </tr>\n",
       "    <tr>\n",
       "      <th>2</th>\n",
       "      <td>0.009153</td>\n",
       "      <td>0.003035</td>\n",
       "      <td>0.008366</td>\n",
       "      <td>0.001371</td>\n",
       "      <td>1</td>\n",
       "      <td>0.01</td>\n",
       "      <td>{'alpha': 1, 'tol': 0.01}</td>\n",
       "      <td>0.637678</td>\n",
       "      <td>0.682118</td>\n",
       "      <td>0.694385</td>\n",
       "      <td>0.597257</td>\n",
       "      <td>0.652860</td>\n",
       "      <td>0.038414</td>\n",
       "      <td>33</td>\n",
       "    </tr>\n",
       "    <tr>\n",
       "      <th>3</th>\n",
       "      <td>0.015219</td>\n",
       "      <td>0.011472</td>\n",
       "      <td>0.007855</td>\n",
       "      <td>0.004035</td>\n",
       "      <td>2</td>\n",
       "      <td>1e-05</td>\n",
       "      <td>{'alpha': 2, 'tol': 1e-05}</td>\n",
       "      <td>0.585342</td>\n",
       "      <td>0.616167</td>\n",
       "      <td>0.605753</td>\n",
       "      <td>0.562067</td>\n",
       "      <td>0.592332</td>\n",
       "      <td>0.020695</td>\n",
       "      <td>35</td>\n",
       "    </tr>\n",
       "    <tr>\n",
       "      <th>4</th>\n",
       "      <td>0.011433</td>\n",
       "      <td>0.002483</td>\n",
       "      <td>0.009827</td>\n",
       "      <td>0.005895</td>\n",
       "      <td>2</td>\n",
       "      <td>1e-07</td>\n",
       "      <td>{'alpha': 2, 'tol': 1e-07}</td>\n",
       "      <td>0.585345</td>\n",
       "      <td>0.616168</td>\n",
       "      <td>0.605756</td>\n",
       "      <td>0.562068</td>\n",
       "      <td>0.592335</td>\n",
       "      <td>0.020695</td>\n",
       "      <td>34</td>\n",
       "    </tr>\n",
       "    <tr>\n",
       "      <th>...</th>\n",
       "      <td>...</td>\n",
       "      <td>...</td>\n",
       "      <td>...</td>\n",
       "      <td>...</td>\n",
       "      <td>...</td>\n",
       "      <td>...</td>\n",
       "      <td>...</td>\n",
       "      <td>...</td>\n",
       "      <td>...</td>\n",
       "      <td>...</td>\n",
       "      <td>...</td>\n",
       "      <td>...</td>\n",
       "      <td>...</td>\n",
       "      <td>...</td>\n",
       "    </tr>\n",
       "    <tr>\n",
       "      <th>322</th>\n",
       "      <td>0.007568</td>\n",
       "      <td>0.001161</td>\n",
       "      <td>0.007158</td>\n",
       "      <td>0.003156</td>\n",
       "      <td>0.8</td>\n",
       "      <td>1e-07</td>\n",
       "      <td>{'alpha': 0.8, 'tol': 1e-07}</td>\n",
       "      <td>0.663291</td>\n",
       "      <td>0.701771</td>\n",
       "      <td>0.720087</td>\n",
       "      <td>0.600119</td>\n",
       "      <td>0.671317</td>\n",
       "      <td>0.045933</td>\n",
       "      <td>25</td>\n",
       "    </tr>\n",
       "    <tr>\n",
       "      <th>323</th>\n",
       "      <td>0.008588</td>\n",
       "      <td>0.001855</td>\n",
       "      <td>0.006714</td>\n",
       "      <td>0.002373</td>\n",
       "      <td>0.8</td>\n",
       "      <td>0.01</td>\n",
       "      <td>{'alpha': 0.8, 'tol': 0.01}</td>\n",
       "      <td>0.663208</td>\n",
       "      <td>0.701679</td>\n",
       "      <td>0.720145</td>\n",
       "      <td>0.600073</td>\n",
       "      <td>0.671276</td>\n",
       "      <td>0.045955</td>\n",
       "      <td>27</td>\n",
       "    </tr>\n",
       "    <tr>\n",
       "      <th>324</th>\n",
       "      <td>0.009950</td>\n",
       "      <td>0.001955</td>\n",
       "      <td>0.012215</td>\n",
       "      <td>0.006181</td>\n",
       "      <td>0.9</td>\n",
       "      <td>1e-05</td>\n",
       "      <td>{'alpha': 0.9, 'tol': 1e-05}</td>\n",
       "      <td>0.651357</td>\n",
       "      <td>0.692520</td>\n",
       "      <td>0.707732</td>\n",
       "      <td>0.599135</td>\n",
       "      <td>0.662686</td>\n",
       "      <td>0.042090</td>\n",
       "      <td>29</td>\n",
       "    </tr>\n",
       "    <tr>\n",
       "      <th>325</th>\n",
       "      <td>0.009210</td>\n",
       "      <td>0.002890</td>\n",
       "      <td>0.007857</td>\n",
       "      <td>0.002801</td>\n",
       "      <td>0.9</td>\n",
       "      <td>1e-07</td>\n",
       "      <td>{'alpha': 0.9, 'tol': 1e-07}</td>\n",
       "      <td>0.651358</td>\n",
       "      <td>0.692520</td>\n",
       "      <td>0.707732</td>\n",
       "      <td>0.599135</td>\n",
       "      <td>0.662686</td>\n",
       "      <td>0.042090</td>\n",
       "      <td>28</td>\n",
       "    </tr>\n",
       "    <tr>\n",
       "      <th>326</th>\n",
       "      <td>0.020722</td>\n",
       "      <td>0.008426</td>\n",
       "      <td>0.008558</td>\n",
       "      <td>0.003186</td>\n",
       "      <td>0.9</td>\n",
       "      <td>0.01</td>\n",
       "      <td>{'alpha': 0.9, 'tol': 0.01}</td>\n",
       "      <td>0.651059</td>\n",
       "      <td>0.692334</td>\n",
       "      <td>0.707789</td>\n",
       "      <td>0.599072</td>\n",
       "      <td>0.662563</td>\n",
       "      <td>0.042116</td>\n",
       "      <td>30</td>\n",
       "    </tr>\n",
       "  </tbody>\n",
       "</table>\n",
       "<p>327 rows × 14 columns</p>\n",
       "</div>"
      ],
      "text/plain": [
       "     mean_fit_time  std_fit_time  mean_score_time  std_score_time param_alpha  \\\n",
       "0         0.009826      0.003359         0.007702        0.001812           1   \n",
       "1         0.007781      0.003319         0.009069        0.005749           1   \n",
       "2         0.009153      0.003035         0.008366        0.001371           1   \n",
       "3         0.015219      0.011472         0.007855        0.004035           2   \n",
       "4         0.011433      0.002483         0.009827        0.005895           2   \n",
       "..             ...           ...              ...             ...         ...   \n",
       "322       0.007568      0.001161         0.007158        0.003156         0.8   \n",
       "323       0.008588      0.001855         0.006714        0.002373         0.8   \n",
       "324       0.009950      0.001955         0.012215        0.006181         0.9   \n",
       "325       0.009210      0.002890         0.007857        0.002801         0.9   \n",
       "326       0.020722      0.008426         0.008558        0.003186         0.9   \n",
       "\n",
       "    param_tol                        params  split0_test_score  \\\n",
       "0       1e-05    {'alpha': 1, 'tol': 1e-05}           0.638055   \n",
       "1       1e-07    {'alpha': 1, 'tol': 1e-07}           0.638056   \n",
       "2        0.01     {'alpha': 1, 'tol': 0.01}           0.637678   \n",
       "3       1e-05    {'alpha': 2, 'tol': 1e-05}           0.585342   \n",
       "4       1e-07    {'alpha': 2, 'tol': 1e-07}           0.585345   \n",
       "..        ...                           ...                ...   \n",
       "322     1e-07  {'alpha': 0.8, 'tol': 1e-07}           0.663291   \n",
       "323      0.01   {'alpha': 0.8, 'tol': 0.01}           0.663208   \n",
       "324     1e-05  {'alpha': 0.9, 'tol': 1e-05}           0.651357   \n",
       "325     1e-07  {'alpha': 0.9, 'tol': 1e-07}           0.651358   \n",
       "326      0.01   {'alpha': 0.9, 'tol': 0.01}           0.651059   \n",
       "\n",
       "     split1_test_score  split2_test_score  split3_test_score  mean_test_score  \\\n",
       "0             0.682349           0.694319           0.597350         0.653018   \n",
       "1             0.682349           0.694318           0.597350         0.653018   \n",
       "2             0.682118           0.694385           0.597257         0.652860   \n",
       "3             0.616167           0.605753           0.562067         0.592332   \n",
       "4             0.616168           0.605756           0.562068         0.592335   \n",
       "..                 ...                ...                ...              ...   \n",
       "322           0.701771           0.720087           0.600119         0.671317   \n",
       "323           0.701679           0.720145           0.600073         0.671276   \n",
       "324           0.692520           0.707732           0.599135         0.662686   \n",
       "325           0.692520           0.707732           0.599135         0.662686   \n",
       "326           0.692334           0.707789           0.599072         0.662563   \n",
       "\n",
       "     std_test_score  rank_test_score  \n",
       "0          0.038370               32  \n",
       "1          0.038370               31  \n",
       "2          0.038414               33  \n",
       "3          0.020695               35  \n",
       "4          0.020695               34  \n",
       "..              ...              ...  \n",
       "322        0.045933               25  \n",
       "323        0.045955               27  \n",
       "324        0.042090               29  \n",
       "325        0.042090               28  \n",
       "326        0.042116               30  \n",
       "\n",
       "[327 rows x 14 columns]"
      ]
     },
     "execution_count": 49,
     "metadata": {},
     "output_type": "execute_result"
    }
   ],
   "source": [
    "summary"
   ]
  },
  {
   "cell_type": "code",
   "execution_count": 50,
   "metadata": {
    "ExecuteTime": {
     "end_time": "2022-02-25T01:25:17.611358Z",
     "start_time": "2022-02-25T01:25:17.529049Z"
    },
    "scrolled": true
   },
   "outputs": [
    {
     "data": {
      "text/html": [
       "<div>\n",
       "<style scoped>\n",
       "    .dataframe tbody tr th:only-of-type {\n",
       "        vertical-align: middle;\n",
       "    }\n",
       "\n",
       "    .dataframe tbody tr th {\n",
       "        vertical-align: top;\n",
       "    }\n",
       "\n",
       "    .dataframe thead th {\n",
       "        text-align: right;\n",
       "    }\n",
       "</style>\n",
       "<table border=\"1\" class=\"dataframe\">\n",
       "  <thead>\n",
       "    <tr style=\"text-align: right;\">\n",
       "      <th></th>\n",
       "      <th>mean_fit_time</th>\n",
       "      <th>std_fit_time</th>\n",
       "      <th>mean_score_time</th>\n",
       "      <th>std_score_time</th>\n",
       "      <th>param_alpha</th>\n",
       "      <th>param_tol</th>\n",
       "      <th>params</th>\n",
       "      <th>split0_test_score</th>\n",
       "      <th>split1_test_score</th>\n",
       "      <th>split2_test_score</th>\n",
       "      <th>split3_test_score</th>\n",
       "      <th>mean_test_score</th>\n",
       "      <th>std_test_score</th>\n",
       "      <th>rank_test_score</th>\n",
       "    </tr>\n",
       "  </thead>\n",
       "  <tbody>\n",
       "    <tr>\n",
       "      <th>298</th>\n",
       "      <td>0.015950</td>\n",
       "      <td>0.003600</td>\n",
       "      <td>0.004277</td>\n",
       "      <td>0.000616</td>\n",
       "      <td>0</td>\n",
       "      <td>1e-07</td>\n",
       "      <td>{'alpha': 0.0, 'tol': 1e-07}</td>\n",
       "      <td>0.722374</td>\n",
       "      <td>0.748016</td>\n",
       "      <td>0.796943</td>\n",
       "      <td>0.597686</td>\n",
       "      <td>0.716254</td>\n",
       "      <td>0.073511</td>\n",
       "      <td>1</td>\n",
       "    </tr>\n",
       "    <tr>\n",
       "      <th>299</th>\n",
       "      <td>0.014438</td>\n",
       "      <td>0.005808</td>\n",
       "      <td>0.003353</td>\n",
       "      <td>0.000340</td>\n",
       "      <td>0</td>\n",
       "      <td>0.01</td>\n",
       "      <td>{'alpha': 0.0, 'tol': 0.01}</td>\n",
       "      <td>0.722374</td>\n",
       "      <td>0.748016</td>\n",
       "      <td>0.796943</td>\n",
       "      <td>0.597686</td>\n",
       "      <td>0.716254</td>\n",
       "      <td>0.073511</td>\n",
       "      <td>1</td>\n",
       "    </tr>\n",
       "    <tr>\n",
       "      <th>297</th>\n",
       "      <td>0.030489</td>\n",
       "      <td>0.011830</td>\n",
       "      <td>0.008318</td>\n",
       "      <td>0.003448</td>\n",
       "      <td>0</td>\n",
       "      <td>1e-05</td>\n",
       "      <td>{'alpha': 0.0, 'tol': 1e-05}</td>\n",
       "      <td>0.722374</td>\n",
       "      <td>0.748016</td>\n",
       "      <td>0.796943</td>\n",
       "      <td>0.597686</td>\n",
       "      <td>0.716254</td>\n",
       "      <td>0.073511</td>\n",
       "      <td>1</td>\n",
       "    </tr>\n",
       "    <tr>\n",
       "      <th>302</th>\n",
       "      <td>0.004148</td>\n",
       "      <td>0.000465</td>\n",
       "      <td>0.002856</td>\n",
       "      <td>0.000932</td>\n",
       "      <td>0.1</td>\n",
       "      <td>0.01</td>\n",
       "      <td>{'alpha': 0.1, 'tol': 0.01}</td>\n",
       "      <td>0.710248</td>\n",
       "      <td>0.740037</td>\n",
       "      <td>0.777060</td>\n",
       "      <td>0.585224</td>\n",
       "      <td>0.703142</td>\n",
       "      <td>0.072077</td>\n",
       "      <td>4</td>\n",
       "    </tr>\n",
       "    <tr>\n",
       "      <th>300</th>\n",
       "      <td>0.004293</td>\n",
       "      <td>0.000946</td>\n",
       "      <td>0.002671</td>\n",
       "      <td>0.000541</td>\n",
       "      <td>0.1</td>\n",
       "      <td>1e-05</td>\n",
       "      <td>{'alpha': 0.1, 'tol': 1e-05}</td>\n",
       "      <td>0.710252</td>\n",
       "      <td>0.739962</td>\n",
       "      <td>0.776999</td>\n",
       "      <td>0.585270</td>\n",
       "      <td>0.703121</td>\n",
       "      <td>0.072033</td>\n",
       "      <td>5</td>\n",
       "    </tr>\n",
       "    <tr>\n",
       "      <th>...</th>\n",
       "      <td>...</td>\n",
       "      <td>...</td>\n",
       "      <td>...</td>\n",
       "      <td>...</td>\n",
       "      <td>...</td>\n",
       "      <td>...</td>\n",
       "      <td>...</td>\n",
       "      <td>...</td>\n",
       "      <td>...</td>\n",
       "      <td>...</td>\n",
       "      <td>...</td>\n",
       "      <td>...</td>\n",
       "      <td>...</td>\n",
       "      <td>...</td>\n",
       "    </tr>\n",
       "    <tr>\n",
       "      <th>292</th>\n",
       "      <td>0.004192</td>\n",
       "      <td>0.000419</td>\n",
       "      <td>0.002902</td>\n",
       "      <td>0.000210</td>\n",
       "      <td>98</td>\n",
       "      <td>1e-07</td>\n",
       "      <td>{'alpha': 98, 'tol': 1e-07}</td>\n",
       "      <td>0.159753</td>\n",
       "      <td>0.266739</td>\n",
       "      <td>0.256590</td>\n",
       "      <td>0.118553</td>\n",
       "      <td>0.200409</td>\n",
       "      <td>0.063066</td>\n",
       "      <td>323</td>\n",
       "    </tr>\n",
       "    <tr>\n",
       "      <th>293</th>\n",
       "      <td>0.005178</td>\n",
       "      <td>0.000971</td>\n",
       "      <td>0.003461</td>\n",
       "      <td>0.000528</td>\n",
       "      <td>98</td>\n",
       "      <td>0.01</td>\n",
       "      <td>{'alpha': 98, 'tol': 0.01}</td>\n",
       "      <td>0.159766</td>\n",
       "      <td>0.266772</td>\n",
       "      <td>0.256613</td>\n",
       "      <td>0.118463</td>\n",
       "      <td>0.200404</td>\n",
       "      <td>0.063107</td>\n",
       "      <td>324</td>\n",
       "    </tr>\n",
       "    <tr>\n",
       "      <th>294</th>\n",
       "      <td>0.005085</td>\n",
       "      <td>0.000949</td>\n",
       "      <td>0.003590</td>\n",
       "      <td>0.000979</td>\n",
       "      <td>99</td>\n",
       "      <td>1e-05</td>\n",
       "      <td>{'alpha': 99, 'tol': 1e-05}</td>\n",
       "      <td>0.159503</td>\n",
       "      <td>0.266389</td>\n",
       "      <td>0.255958</td>\n",
       "      <td>0.118440</td>\n",
       "      <td>0.200072</td>\n",
       "      <td>0.062911</td>\n",
       "      <td>325</td>\n",
       "    </tr>\n",
       "    <tr>\n",
       "      <th>295</th>\n",
       "      <td>0.011457</td>\n",
       "      <td>0.005408</td>\n",
       "      <td>0.007234</td>\n",
       "      <td>0.003897</td>\n",
       "      <td>99</td>\n",
       "      <td>1e-07</td>\n",
       "      <td>{'alpha': 99, 'tol': 1e-07}</td>\n",
       "      <td>0.159502</td>\n",
       "      <td>0.266389</td>\n",
       "      <td>0.255958</td>\n",
       "      <td>0.118440</td>\n",
       "      <td>0.200072</td>\n",
       "      <td>0.062911</td>\n",
       "      <td>326</td>\n",
       "    </tr>\n",
       "    <tr>\n",
       "      <th>296</th>\n",
       "      <td>0.008748</td>\n",
       "      <td>0.003146</td>\n",
       "      <td>0.009121</td>\n",
       "      <td>0.008717</td>\n",
       "      <td>99</td>\n",
       "      <td>0.01</td>\n",
       "      <td>{'alpha': 99, 'tol': 0.01}</td>\n",
       "      <td>0.159515</td>\n",
       "      <td>0.266423</td>\n",
       "      <td>0.255981</td>\n",
       "      <td>0.118352</td>\n",
       "      <td>0.200068</td>\n",
       "      <td>0.062951</td>\n",
       "      <td>327</td>\n",
       "    </tr>\n",
       "  </tbody>\n",
       "</table>\n",
       "<p>327 rows × 14 columns</p>\n",
       "</div>"
      ],
      "text/plain": [
       "     mean_fit_time  std_fit_time  mean_score_time  std_score_time param_alpha  \\\n",
       "298       0.015950      0.003600         0.004277        0.000616           0   \n",
       "299       0.014438      0.005808         0.003353        0.000340           0   \n",
       "297       0.030489      0.011830         0.008318        0.003448           0   \n",
       "302       0.004148      0.000465         0.002856        0.000932         0.1   \n",
       "300       0.004293      0.000946         0.002671        0.000541         0.1   \n",
       "..             ...           ...              ...             ...         ...   \n",
       "292       0.004192      0.000419         0.002902        0.000210          98   \n",
       "293       0.005178      0.000971         0.003461        0.000528          98   \n",
       "294       0.005085      0.000949         0.003590        0.000979          99   \n",
       "295       0.011457      0.005408         0.007234        0.003897          99   \n",
       "296       0.008748      0.003146         0.009121        0.008717          99   \n",
       "\n",
       "    param_tol                        params  split0_test_score  \\\n",
       "298     1e-07  {'alpha': 0.0, 'tol': 1e-07}           0.722374   \n",
       "299      0.01   {'alpha': 0.0, 'tol': 0.01}           0.722374   \n",
       "297     1e-05  {'alpha': 0.0, 'tol': 1e-05}           0.722374   \n",
       "302      0.01   {'alpha': 0.1, 'tol': 0.01}           0.710248   \n",
       "300     1e-05  {'alpha': 0.1, 'tol': 1e-05}           0.710252   \n",
       "..        ...                           ...                ...   \n",
       "292     1e-07   {'alpha': 98, 'tol': 1e-07}           0.159753   \n",
       "293      0.01    {'alpha': 98, 'tol': 0.01}           0.159766   \n",
       "294     1e-05   {'alpha': 99, 'tol': 1e-05}           0.159503   \n",
       "295     1e-07   {'alpha': 99, 'tol': 1e-07}           0.159502   \n",
       "296      0.01    {'alpha': 99, 'tol': 0.01}           0.159515   \n",
       "\n",
       "     split1_test_score  split2_test_score  split3_test_score  mean_test_score  \\\n",
       "298           0.748016           0.796943           0.597686         0.716254   \n",
       "299           0.748016           0.796943           0.597686         0.716254   \n",
       "297           0.748016           0.796943           0.597686         0.716254   \n",
       "302           0.740037           0.777060           0.585224         0.703142   \n",
       "300           0.739962           0.776999           0.585270         0.703121   \n",
       "..                 ...                ...                ...              ...   \n",
       "292           0.266739           0.256590           0.118553         0.200409   \n",
       "293           0.266772           0.256613           0.118463         0.200404   \n",
       "294           0.266389           0.255958           0.118440         0.200072   \n",
       "295           0.266389           0.255958           0.118440         0.200072   \n",
       "296           0.266423           0.255981           0.118352         0.200068   \n",
       "\n",
       "     std_test_score  rank_test_score  \n",
       "298        0.073511                1  \n",
       "299        0.073511                1  \n",
       "297        0.073511                1  \n",
       "302        0.072077                4  \n",
       "300        0.072033                5  \n",
       "..              ...              ...  \n",
       "292        0.063066              323  \n",
       "293        0.063107              324  \n",
       "294        0.062911              325  \n",
       "295        0.062911              326  \n",
       "296        0.062951              327  \n",
       "\n",
       "[327 rows x 14 columns]"
      ]
     },
     "execution_count": 50,
     "metadata": {},
     "output_type": "execute_result"
    }
   ],
   "source": [
    "summary.sort_values(by = \"rank_test_score\")"
   ]
  },
  {
   "cell_type": "code",
   "execution_count": 51,
   "metadata": {
    "ExecuteTime": {
     "end_time": "2022-02-25T01:25:41.237278Z",
     "start_time": "2022-02-25T01:25:41.220659Z"
    }
   },
   "outputs": [
    {
     "data": {
      "text/plain": [
       "Lasso(alpha=0.0, tol=1e-05)"
      ]
     },
     "execution_count": 51,
     "metadata": {},
     "output_type": "execute_result"
    }
   ],
   "source": [
    "clf.best_estimator_"
   ]
  },
  {
   "cell_type": "code",
   "execution_count": 52,
   "metadata": {
    "ExecuteTime": {
     "end_time": "2022-02-25T01:26:21.180158Z",
     "start_time": "2022-02-25T01:26:21.174263Z"
    }
   },
   "outputs": [],
   "source": [
    "dc_scores={}"
   ]
  },
  {
   "cell_type": "code",
   "execution_count": 53,
   "metadata": {
    "ExecuteTime": {
     "end_time": "2022-02-25T01:26:33.988458Z",
     "start_time": "2022-02-25T01:26:33.977770Z"
    }
   },
   "outputs": [],
   "source": [
    "dc_scores[str(model_lasso).split(\"(\")[0]] = {\"model\": clf.best_estimator_, \"score\": clf.best_score_}"
   ]
  },
  {
   "cell_type": "code",
   "execution_count": 54,
   "metadata": {
    "ExecuteTime": {
     "end_time": "2022-02-25T01:26:34.875782Z",
     "start_time": "2022-02-25T01:26:34.864511Z"
    }
   },
   "outputs": [
    {
     "data": {
      "text/plain": [
       "{'Lasso': {'model': Lasso(alpha=0.0, tol=1e-05), 'score': 0.7162544957452255}}"
      ]
     },
     "execution_count": 54,
     "metadata": {},
     "output_type": "execute_result"
    }
   ],
   "source": [
    "dc_scores"
   ]
  },
  {
   "cell_type": "markdown",
   "metadata": {},
   "source": [
    "## RIDGE"
   ]
  },
  {
   "cell_type": "code",
   "execution_count": 55,
   "metadata": {
    "ExecuteTime": {
     "end_time": "2022-02-25T01:26:45.779694Z",
     "start_time": "2022-02-25T01:26:45.771639Z"
    }
   },
   "outputs": [],
   "source": [
    "model_ridge = Ridge()"
   ]
  },
  {
   "cell_type": "code",
   "execution_count": 56,
   "metadata": {
    "ExecuteTime": {
     "end_time": "2022-02-25T01:27:27.420634Z",
     "start_time": "2022-02-25T01:27:27.361688Z"
    }
   },
   "outputs": [
    {
     "data": {
      "text/plain": [
       "(0.7101004100928999, 0.056724134354270345)"
      ]
     },
     "execution_count": 56,
     "metadata": {},
     "output_type": "execute_result"
    }
   ],
   "source": [
    "model_ridge.fit(X_train, y_train)\n",
    "ls_medias_ridge = cross_val_score(estimator=model_ridge, X=X_test, y = y_test, cv = 4, n_jobs=-1, scoring=\"r2\")\n",
    "np.mean(ls_medias_ridge), np.std(ls_medias_ridge)"
   ]
  },
  {
   "cell_type": "code",
   "execution_count": 57,
   "metadata": {
    "ExecuteTime": {
     "end_time": "2022-02-25T01:27:28.652069Z",
     "start_time": "2022-02-25T01:27:28.647892Z"
    }
   },
   "outputs": [
    {
     "data": {
      "text/plain": [
       "{'alpha': 1.0,\n",
       " 'copy_X': True,\n",
       " 'fit_intercept': True,\n",
       " 'max_iter': None,\n",
       " 'normalize': False,\n",
       " 'random_state': None,\n",
       " 'solver': 'auto',\n",
       " 'tol': 0.001}"
      ]
     },
     "execution_count": 57,
     "metadata": {},
     "output_type": "execute_result"
    }
   ],
   "source": [
    "model_ridge.get_params()"
   ]
  },
  {
   "cell_type": "code",
   "execution_count": 58,
   "metadata": {
    "ExecuteTime": {
     "end_time": "2022-02-25T01:28:07.843406Z",
     "start_time": "2022-02-25T01:28:07.839496Z"
    }
   },
   "outputs": [],
   "source": [
    "param_grid = {\n",
    "    \"alpha\": [x for x in range(1, 100)] + [y/10 for y in range(10)],\n",
    "    \"tol\": [0.00001, 0.0000001, 0.01],\n",
    "    \"solver\": ['auto', 'svd', 'cholesky', 'lsqr', 'sparse_cg', 'sag', 'saga']\n",
    "}"
   ]
  },
  {
   "cell_type": "code",
   "execution_count": 59,
   "metadata": {
    "ExecuteTime": {
     "end_time": "2022-02-25T01:28:22.884547Z",
     "start_time": "2022-02-25T01:28:22.879642Z"
    }
   },
   "outputs": [
    {
     "data": {
      "text/plain": [
       "2289"
      ]
     },
     "execution_count": 59,
     "metadata": {},
     "output_type": "execute_result"
    }
   ],
   "source": [
    "np.prod(list(map(len, param_grid.values())))"
   ]
  },
  {
   "cell_type": "code",
   "execution_count": 60,
   "metadata": {
    "ExecuteTime": {
     "end_time": "2022-02-25T01:29:47.772551Z",
     "start_time": "2022-02-25T01:29:16.326106Z"
    }
   },
   "outputs": [
    {
     "name": "stdout",
     "output_type": "stream",
     "text": [
      "Best score: 0.7162544957452257\n"
     ]
    }
   ],
   "source": [
    "clf_ridge = GridSearchCV(model_ridge, param_grid, cv=4, error_score=-1000, n_jobs=-1, scoring=\"r2\")\n",
    "clf_ridge.fit(X_train, y_train)\n",
    "print(\"Best score: \" + str(clf_ridge.best_score_))"
   ]
  },
  {
   "cell_type": "code",
   "execution_count": 61,
   "metadata": {
    "ExecuteTime": {
     "end_time": "2022-02-25T01:30:06.629771Z",
     "start_time": "2022-02-25T01:30:06.618786Z"
    }
   },
   "outputs": [],
   "source": [
    "summary_ridge = pd.DataFrame(clf_ridge.cv_results_)"
   ]
  },
  {
   "cell_type": "code",
   "execution_count": 62,
   "metadata": {
    "ExecuteTime": {
     "end_time": "2022-02-25T01:30:07.213624Z",
     "start_time": "2022-02-25T01:30:07.176347Z"
    },
    "scrolled": true
   },
   "outputs": [
    {
     "data": {
      "text/html": [
       "<div>\n",
       "<style scoped>\n",
       "    .dataframe tbody tr th:only-of-type {\n",
       "        vertical-align: middle;\n",
       "    }\n",
       "\n",
       "    .dataframe tbody tr th {\n",
       "        vertical-align: top;\n",
       "    }\n",
       "\n",
       "    .dataframe thead th {\n",
       "        text-align: right;\n",
       "    }\n",
       "</style>\n",
       "<table border=\"1\" class=\"dataframe\">\n",
       "  <thead>\n",
       "    <tr style=\"text-align: right;\">\n",
       "      <th></th>\n",
       "      <th>mean_fit_time</th>\n",
       "      <th>std_fit_time</th>\n",
       "      <th>mean_score_time</th>\n",
       "      <th>std_score_time</th>\n",
       "      <th>param_alpha</th>\n",
       "      <th>param_solver</th>\n",
       "      <th>param_tol</th>\n",
       "      <th>params</th>\n",
       "      <th>split0_test_score</th>\n",
       "      <th>split1_test_score</th>\n",
       "      <th>split2_test_score</th>\n",
       "      <th>split3_test_score</th>\n",
       "      <th>mean_test_score</th>\n",
       "      <th>std_test_score</th>\n",
       "      <th>rank_test_score</th>\n",
       "    </tr>\n",
       "  </thead>\n",
       "  <tbody>\n",
       "    <tr>\n",
       "      <th>0</th>\n",
       "      <td>0.008736</td>\n",
       "      <td>0.005580</td>\n",
       "      <td>0.007121</td>\n",
       "      <td>0.004539</td>\n",
       "      <td>1</td>\n",
       "      <td>auto</td>\n",
       "      <td>1e-05</td>\n",
       "      <td>{'alpha': 1, 'solver': 'auto', 'tol': 1e-05}</td>\n",
       "      <td>0.721728</td>\n",
       "      <td>0.745962</td>\n",
       "      <td>0.793213</td>\n",
       "      <td>0.589662</td>\n",
       "      <td>0.712641</td>\n",
       "      <td>0.075513</td>\n",
       "      <td>132</td>\n",
       "    </tr>\n",
       "    <tr>\n",
       "      <th>1</th>\n",
       "      <td>0.009355</td>\n",
       "      <td>0.003797</td>\n",
       "      <td>0.005395</td>\n",
       "      <td>0.000941</td>\n",
       "      <td>1</td>\n",
       "      <td>auto</td>\n",
       "      <td>1e-07</td>\n",
       "      <td>{'alpha': 1, 'solver': 'auto', 'tol': 1e-07}</td>\n",
       "      <td>0.721728</td>\n",
       "      <td>0.745962</td>\n",
       "      <td>0.793213</td>\n",
       "      <td>0.589662</td>\n",
       "      <td>0.712641</td>\n",
       "      <td>0.075513</td>\n",
       "      <td>132</td>\n",
       "    </tr>\n",
       "    <tr>\n",
       "      <th>2</th>\n",
       "      <td>0.009103</td>\n",
       "      <td>0.004251</td>\n",
       "      <td>0.005023</td>\n",
       "      <td>0.000997</td>\n",
       "      <td>1</td>\n",
       "      <td>auto</td>\n",
       "      <td>0.01</td>\n",
       "      <td>{'alpha': 1, 'solver': 'auto', 'tol': 0.01}</td>\n",
       "      <td>0.721728</td>\n",
       "      <td>0.745962</td>\n",
       "      <td>0.793213</td>\n",
       "      <td>0.589662</td>\n",
       "      <td>0.712641</td>\n",
       "      <td>0.075513</td>\n",
       "      <td>132</td>\n",
       "    </tr>\n",
       "    <tr>\n",
       "      <th>3</th>\n",
       "      <td>0.007832</td>\n",
       "      <td>0.001753</td>\n",
       "      <td>0.004279</td>\n",
       "      <td>0.000394</td>\n",
       "      <td>1</td>\n",
       "      <td>svd</td>\n",
       "      <td>1e-05</td>\n",
       "      <td>{'alpha': 1, 'solver': 'svd', 'tol': 1e-05}</td>\n",
       "      <td>0.721728</td>\n",
       "      <td>0.745962</td>\n",
       "      <td>0.793213</td>\n",
       "      <td>0.589662</td>\n",
       "      <td>0.712641</td>\n",
       "      <td>0.075513</td>\n",
       "      <td>138</td>\n",
       "    </tr>\n",
       "    <tr>\n",
       "      <th>4</th>\n",
       "      <td>0.006307</td>\n",
       "      <td>0.000342</td>\n",
       "      <td>0.005071</td>\n",
       "      <td>0.001777</td>\n",
       "      <td>1</td>\n",
       "      <td>svd</td>\n",
       "      <td>1e-07</td>\n",
       "      <td>{'alpha': 1, 'solver': 'svd', 'tol': 1e-07}</td>\n",
       "      <td>0.721728</td>\n",
       "      <td>0.745962</td>\n",
       "      <td>0.793213</td>\n",
       "      <td>0.589662</td>\n",
       "      <td>0.712641</td>\n",
       "      <td>0.075513</td>\n",
       "      <td>138</td>\n",
       "    </tr>\n",
       "    <tr>\n",
       "      <th>...</th>\n",
       "      <td>...</td>\n",
       "      <td>...</td>\n",
       "      <td>...</td>\n",
       "      <td>...</td>\n",
       "      <td>...</td>\n",
       "      <td>...</td>\n",
       "      <td>...</td>\n",
       "      <td>...</td>\n",
       "      <td>...</td>\n",
       "      <td>...</td>\n",
       "      <td>...</td>\n",
       "      <td>...</td>\n",
       "      <td>...</td>\n",
       "      <td>...</td>\n",
       "      <td>...</td>\n",
       "    </tr>\n",
       "    <tr>\n",
       "      <th>2284</th>\n",
       "      <td>0.068827</td>\n",
       "      <td>0.005132</td>\n",
       "      <td>0.003345</td>\n",
       "      <td>0.000237</td>\n",
       "      <td>0.9</td>\n",
       "      <td>sag</td>\n",
       "      <td>1e-07</td>\n",
       "      <td>{'alpha': 0.9, 'solver': 'sag', 'tol': 1e-07}</td>\n",
       "      <td>0.678892</td>\n",
       "      <td>0.715088</td>\n",
       "      <td>0.738276</td>\n",
       "      <td>0.600889</td>\n",
       "      <td>0.683286</td>\n",
       "      <td>0.052067</td>\n",
       "      <td>1438</td>\n",
       "    </tr>\n",
       "    <tr>\n",
       "      <th>2285</th>\n",
       "      <td>0.006583</td>\n",
       "      <td>0.000261</td>\n",
       "      <td>0.004616</td>\n",
       "      <td>0.002409</td>\n",
       "      <td>0.9</td>\n",
       "      <td>sag</td>\n",
       "      <td>0.01</td>\n",
       "      <td>{'alpha': 0.9, 'solver': 'sag', 'tol': 0.01}</td>\n",
       "      <td>0.567192</td>\n",
       "      <td>0.602826</td>\n",
       "      <td>0.601439</td>\n",
       "      <td>0.550712</td>\n",
       "      <td>0.580542</td>\n",
       "      <td>0.022368</td>\n",
       "      <td>2136</td>\n",
       "    </tr>\n",
       "    <tr>\n",
       "      <th>2286</th>\n",
       "      <td>0.087357</td>\n",
       "      <td>0.007000</td>\n",
       "      <td>0.003361</td>\n",
       "      <td>0.000237</td>\n",
       "      <td>0.9</td>\n",
       "      <td>saga</td>\n",
       "      <td>1e-05</td>\n",
       "      <td>{'alpha': 0.9, 'solver': 'saga', 'tol': 1e-05}</td>\n",
       "      <td>0.663364</td>\n",
       "      <td>0.697489</td>\n",
       "      <td>0.709287</td>\n",
       "      <td>0.606696</td>\n",
       "      <td>0.669209</td>\n",
       "      <td>0.039837</td>\n",
       "      <td>1652</td>\n",
       "    </tr>\n",
       "    <tr>\n",
       "      <th>2287</th>\n",
       "      <td>0.077342</td>\n",
       "      <td>0.007712</td>\n",
       "      <td>0.003091</td>\n",
       "      <td>0.000822</td>\n",
       "      <td>0.9</td>\n",
       "      <td>saga</td>\n",
       "      <td>1e-07</td>\n",
       "      <td>{'alpha': 0.9, 'solver': 'saga', 'tol': 1e-07}</td>\n",
       "      <td>0.663361</td>\n",
       "      <td>0.697473</td>\n",
       "      <td>0.709262</td>\n",
       "      <td>0.606676</td>\n",
       "      <td>0.669193</td>\n",
       "      <td>0.039836</td>\n",
       "      <td>1657</td>\n",
       "    </tr>\n",
       "    <tr>\n",
       "      <th>2288</th>\n",
       "      <td>0.007687</td>\n",
       "      <td>0.001280</td>\n",
       "      <td>0.003031</td>\n",
       "      <td>0.000582</td>\n",
       "      <td>0.9</td>\n",
       "      <td>saga</td>\n",
       "      <td>0.01</td>\n",
       "      <td>{'alpha': 0.9, 'solver': 'saga', 'tol': 0.01}</td>\n",
       "      <td>0.529608</td>\n",
       "      <td>0.573032</td>\n",
       "      <td>0.595158</td>\n",
       "      <td>0.512731</td>\n",
       "      <td>0.552632</td>\n",
       "      <td>0.032965</td>\n",
       "      <td>2181</td>\n",
       "    </tr>\n",
       "  </tbody>\n",
       "</table>\n",
       "<p>2289 rows × 15 columns</p>\n",
       "</div>"
      ],
      "text/plain": [
       "      mean_fit_time  std_fit_time  mean_score_time  std_score_time  \\\n",
       "0          0.008736      0.005580         0.007121        0.004539   \n",
       "1          0.009355      0.003797         0.005395        0.000941   \n",
       "2          0.009103      0.004251         0.005023        0.000997   \n",
       "3          0.007832      0.001753         0.004279        0.000394   \n",
       "4          0.006307      0.000342         0.005071        0.001777   \n",
       "...             ...           ...              ...             ...   \n",
       "2284       0.068827      0.005132         0.003345        0.000237   \n",
       "2285       0.006583      0.000261         0.004616        0.002409   \n",
       "2286       0.087357      0.007000         0.003361        0.000237   \n",
       "2287       0.077342      0.007712         0.003091        0.000822   \n",
       "2288       0.007687      0.001280         0.003031        0.000582   \n",
       "\n",
       "     param_alpha param_solver param_tol  \\\n",
       "0              1         auto     1e-05   \n",
       "1              1         auto     1e-07   \n",
       "2              1         auto      0.01   \n",
       "3              1          svd     1e-05   \n",
       "4              1          svd     1e-07   \n",
       "...          ...          ...       ...   \n",
       "2284         0.9          sag     1e-07   \n",
       "2285         0.9          sag      0.01   \n",
       "2286         0.9         saga     1e-05   \n",
       "2287         0.9         saga     1e-07   \n",
       "2288         0.9         saga      0.01   \n",
       "\n",
       "                                              params  split0_test_score  \\\n",
       "0       {'alpha': 1, 'solver': 'auto', 'tol': 1e-05}           0.721728   \n",
       "1       {'alpha': 1, 'solver': 'auto', 'tol': 1e-07}           0.721728   \n",
       "2        {'alpha': 1, 'solver': 'auto', 'tol': 0.01}           0.721728   \n",
       "3        {'alpha': 1, 'solver': 'svd', 'tol': 1e-05}           0.721728   \n",
       "4        {'alpha': 1, 'solver': 'svd', 'tol': 1e-07}           0.721728   \n",
       "...                                              ...                ...   \n",
       "2284   {'alpha': 0.9, 'solver': 'sag', 'tol': 1e-07}           0.678892   \n",
       "2285    {'alpha': 0.9, 'solver': 'sag', 'tol': 0.01}           0.567192   \n",
       "2286  {'alpha': 0.9, 'solver': 'saga', 'tol': 1e-05}           0.663364   \n",
       "2287  {'alpha': 0.9, 'solver': 'saga', 'tol': 1e-07}           0.663361   \n",
       "2288   {'alpha': 0.9, 'solver': 'saga', 'tol': 0.01}           0.529608   \n",
       "\n",
       "      split1_test_score  split2_test_score  split3_test_score  \\\n",
       "0              0.745962           0.793213           0.589662   \n",
       "1              0.745962           0.793213           0.589662   \n",
       "2              0.745962           0.793213           0.589662   \n",
       "3              0.745962           0.793213           0.589662   \n",
       "4              0.745962           0.793213           0.589662   \n",
       "...                 ...                ...                ...   \n",
       "2284           0.715088           0.738276           0.600889   \n",
       "2285           0.602826           0.601439           0.550712   \n",
       "2286           0.697489           0.709287           0.606696   \n",
       "2287           0.697473           0.709262           0.606676   \n",
       "2288           0.573032           0.595158           0.512731   \n",
       "\n",
       "      mean_test_score  std_test_score  rank_test_score  \n",
       "0            0.712641        0.075513              132  \n",
       "1            0.712641        0.075513              132  \n",
       "2            0.712641        0.075513              132  \n",
       "3            0.712641        0.075513              138  \n",
       "4            0.712641        0.075513              138  \n",
       "...               ...             ...              ...  \n",
       "2284         0.683286        0.052067             1438  \n",
       "2285         0.580542        0.022368             2136  \n",
       "2286         0.669209        0.039837             1652  \n",
       "2287         0.669193        0.039836             1657  \n",
       "2288         0.552632        0.032965             2181  \n",
       "\n",
       "[2289 rows x 15 columns]"
      ]
     },
     "execution_count": 62,
     "metadata": {},
     "output_type": "execute_result"
    }
   ],
   "source": [
    "summary_ridge"
   ]
  },
  {
   "cell_type": "code",
   "execution_count": 63,
   "metadata": {
    "ExecuteTime": {
     "end_time": "2022-02-25T01:30:24.828713Z",
     "start_time": "2022-02-25T01:30:24.794467Z"
    },
    "scrolled": true
   },
   "outputs": [
    {
     "data": {
      "text/html": [
       "<div>\n",
       "<style scoped>\n",
       "    .dataframe tbody tr th:only-of-type {\n",
       "        vertical-align: middle;\n",
       "    }\n",
       "\n",
       "    .dataframe tbody tr th {\n",
       "        vertical-align: top;\n",
       "    }\n",
       "\n",
       "    .dataframe thead th {\n",
       "        text-align: right;\n",
       "    }\n",
       "</style>\n",
       "<table border=\"1\" class=\"dataframe\">\n",
       "  <thead>\n",
       "    <tr style=\"text-align: right;\">\n",
       "      <th></th>\n",
       "      <th>mean_fit_time</th>\n",
       "      <th>std_fit_time</th>\n",
       "      <th>mean_score_time</th>\n",
       "      <th>std_score_time</th>\n",
       "      <th>param_alpha</th>\n",
       "      <th>param_solver</th>\n",
       "      <th>param_tol</th>\n",
       "      <th>params</th>\n",
       "      <th>split0_test_score</th>\n",
       "      <th>split1_test_score</th>\n",
       "      <th>split2_test_score</th>\n",
       "      <th>split3_test_score</th>\n",
       "      <th>mean_test_score</th>\n",
       "      <th>std_test_score</th>\n",
       "      <th>rank_test_score</th>\n",
       "    </tr>\n",
       "  </thead>\n",
       "  <tbody>\n",
       "    <tr>\n",
       "      <th>2079</th>\n",
       "      <td>0.006728</td>\n",
       "      <td>0.001784</td>\n",
       "      <td>0.003615</td>\n",
       "      <td>0.000221</td>\n",
       "      <td>0</td>\n",
       "      <td>auto</td>\n",
       "      <td>1e-05</td>\n",
       "      <td>{'alpha': 0.0, 'solver': 'auto', 'tol': 1e-05}</td>\n",
       "      <td>0.722374</td>\n",
       "      <td>0.748016</td>\n",
       "      <td>0.796943</td>\n",
       "      <td>0.597686</td>\n",
       "      <td>0.716254</td>\n",
       "      <td>0.073511</td>\n",
       "      <td>1</td>\n",
       "    </tr>\n",
       "    <tr>\n",
       "      <th>2080</th>\n",
       "      <td>0.004487</td>\n",
       "      <td>0.000286</td>\n",
       "      <td>0.003619</td>\n",
       "      <td>0.000286</td>\n",
       "      <td>0</td>\n",
       "      <td>auto</td>\n",
       "      <td>1e-07</td>\n",
       "      <td>{'alpha': 0.0, 'solver': 'auto', 'tol': 1e-07}</td>\n",
       "      <td>0.722374</td>\n",
       "      <td>0.748016</td>\n",
       "      <td>0.796943</td>\n",
       "      <td>0.597686</td>\n",
       "      <td>0.716254</td>\n",
       "      <td>0.073511</td>\n",
       "      <td>1</td>\n",
       "    </tr>\n",
       "    <tr>\n",
       "      <th>2081</th>\n",
       "      <td>0.004027</td>\n",
       "      <td>0.000085</td>\n",
       "      <td>0.002980</td>\n",
       "      <td>0.000058</td>\n",
       "      <td>0</td>\n",
       "      <td>auto</td>\n",
       "      <td>0.01</td>\n",
       "      <td>{'alpha': 0.0, 'solver': 'auto', 'tol': 0.01}</td>\n",
       "      <td>0.722374</td>\n",
       "      <td>0.748016</td>\n",
       "      <td>0.796943</td>\n",
       "      <td>0.597686</td>\n",
       "      <td>0.716254</td>\n",
       "      <td>0.073511</td>\n",
       "      <td>1</td>\n",
       "    </tr>\n",
       "    <tr>\n",
       "      <th>2085</th>\n",
       "      <td>0.005268</td>\n",
       "      <td>0.000653</td>\n",
       "      <td>0.006061</td>\n",
       "      <td>0.004522</td>\n",
       "      <td>0</td>\n",
       "      <td>cholesky</td>\n",
       "      <td>1e-05</td>\n",
       "      <td>{'alpha': 0.0, 'solver': 'cholesky', 'tol': 1e...</td>\n",
       "      <td>0.722374</td>\n",
       "      <td>0.748016</td>\n",
       "      <td>0.796943</td>\n",
       "      <td>0.597686</td>\n",
       "      <td>0.716254</td>\n",
       "      <td>0.073511</td>\n",
       "      <td>1</td>\n",
       "    </tr>\n",
       "    <tr>\n",
       "      <th>2086</th>\n",
       "      <td>0.005448</td>\n",
       "      <td>0.001228</td>\n",
       "      <td>0.003387</td>\n",
       "      <td>0.000098</td>\n",
       "      <td>0</td>\n",
       "      <td>cholesky</td>\n",
       "      <td>1e-07</td>\n",
       "      <td>{'alpha': 0.0, 'solver': 'cholesky', 'tol': 1e...</td>\n",
       "      <td>0.722374</td>\n",
       "      <td>0.748016</td>\n",
       "      <td>0.796943</td>\n",
       "      <td>0.597686</td>\n",
       "      <td>0.716254</td>\n",
       "      <td>0.073511</td>\n",
       "      <td>1</td>\n",
       "    </tr>\n",
       "    <tr>\n",
       "      <th>...</th>\n",
       "      <td>...</td>\n",
       "      <td>...</td>\n",
       "      <td>...</td>\n",
       "      <td>...</td>\n",
       "      <td>...</td>\n",
       "      <td>...</td>\n",
       "      <td>...</td>\n",
       "      <td>...</td>\n",
       "      <td>...</td>\n",
       "      <td>...</td>\n",
       "      <td>...</td>\n",
       "      <td>...</td>\n",
       "      <td>...</td>\n",
       "      <td>...</td>\n",
       "      <td>...</td>\n",
       "    </tr>\n",
       "    <tr>\n",
       "      <th>1973</th>\n",
       "      <td>0.021745</td>\n",
       "      <td>0.010992</td>\n",
       "      <td>0.007179</td>\n",
       "      <td>0.003214</td>\n",
       "      <td>94</td>\n",
       "      <td>saga</td>\n",
       "      <td>0.01</td>\n",
       "      <td>{'alpha': 94, 'solver': 'saga', 'tol': 0.01}</td>\n",
       "      <td>0.526921</td>\n",
       "      <td>0.570489</td>\n",
       "      <td>0.595270</td>\n",
       "      <td>0.510625</td>\n",
       "      <td>0.550826</td>\n",
       "      <td>0.033725</td>\n",
       "      <td>2285</td>\n",
       "    </tr>\n",
       "    <tr>\n",
       "      <th>1763</th>\n",
       "      <td>0.013133</td>\n",
       "      <td>0.004130</td>\n",
       "      <td>0.004285</td>\n",
       "      <td>0.000708</td>\n",
       "      <td>84</td>\n",
       "      <td>saga</td>\n",
       "      <td>0.01</td>\n",
       "      <td>{'alpha': 84, 'solver': 'saga', 'tol': 0.01}</td>\n",
       "      <td>0.526511</td>\n",
       "      <td>0.571174</td>\n",
       "      <td>0.594571</td>\n",
       "      <td>0.510815</td>\n",
       "      <td>0.550768</td>\n",
       "      <td>0.033615</td>\n",
       "      <td>2286</td>\n",
       "    </tr>\n",
       "    <tr>\n",
       "      <th>1805</th>\n",
       "      <td>0.012026</td>\n",
       "      <td>0.006052</td>\n",
       "      <td>0.003752</td>\n",
       "      <td>0.000609</td>\n",
       "      <td>86</td>\n",
       "      <td>saga</td>\n",
       "      <td>0.01</td>\n",
       "      <td>{'alpha': 86, 'solver': 'saga', 'tol': 0.01}</td>\n",
       "      <td>0.526712</td>\n",
       "      <td>0.572168</td>\n",
       "      <td>0.594523</td>\n",
       "      <td>0.509421</td>\n",
       "      <td>0.550706</td>\n",
       "      <td>0.034134</td>\n",
       "      <td>2287</td>\n",
       "    </tr>\n",
       "    <tr>\n",
       "      <th>2057</th>\n",
       "      <td>0.008018</td>\n",
       "      <td>0.000266</td>\n",
       "      <td>0.003099</td>\n",
       "      <td>0.000053</td>\n",
       "      <td>98</td>\n",
       "      <td>saga</td>\n",
       "      <td>0.01</td>\n",
       "      <td>{'alpha': 98, 'solver': 'saga', 'tol': 0.01}</td>\n",
       "      <td>0.526160</td>\n",
       "      <td>0.570280</td>\n",
       "      <td>0.594949</td>\n",
       "      <td>0.511121</td>\n",
       "      <td>0.550628</td>\n",
       "      <td>0.033578</td>\n",
       "      <td>2288</td>\n",
       "    </tr>\n",
       "    <tr>\n",
       "      <th>1889</th>\n",
       "      <td>0.011073</td>\n",
       "      <td>0.002020</td>\n",
       "      <td>0.005650</td>\n",
       "      <td>0.002459</td>\n",
       "      <td>90</td>\n",
       "      <td>saga</td>\n",
       "      <td>0.01</td>\n",
       "      <td>{'alpha': 90, 'solver': 'saga', 'tol': 0.01}</td>\n",
       "      <td>0.526501</td>\n",
       "      <td>0.570212</td>\n",
       "      <td>0.594355</td>\n",
       "      <td>0.510890</td>\n",
       "      <td>0.550490</td>\n",
       "      <td>0.033379</td>\n",
       "      <td>2289</td>\n",
       "    </tr>\n",
       "  </tbody>\n",
       "</table>\n",
       "<p>2289 rows × 15 columns</p>\n",
       "</div>"
      ],
      "text/plain": [
       "      mean_fit_time  std_fit_time  mean_score_time  std_score_time  \\\n",
       "2079       0.006728      0.001784         0.003615        0.000221   \n",
       "2080       0.004487      0.000286         0.003619        0.000286   \n",
       "2081       0.004027      0.000085         0.002980        0.000058   \n",
       "2085       0.005268      0.000653         0.006061        0.004522   \n",
       "2086       0.005448      0.001228         0.003387        0.000098   \n",
       "...             ...           ...              ...             ...   \n",
       "1973       0.021745      0.010992         0.007179        0.003214   \n",
       "1763       0.013133      0.004130         0.004285        0.000708   \n",
       "1805       0.012026      0.006052         0.003752        0.000609   \n",
       "2057       0.008018      0.000266         0.003099        0.000053   \n",
       "1889       0.011073      0.002020         0.005650        0.002459   \n",
       "\n",
       "     param_alpha param_solver param_tol  \\\n",
       "2079           0         auto     1e-05   \n",
       "2080           0         auto     1e-07   \n",
       "2081           0         auto      0.01   \n",
       "2085           0     cholesky     1e-05   \n",
       "2086           0     cholesky     1e-07   \n",
       "...          ...          ...       ...   \n",
       "1973          94         saga      0.01   \n",
       "1763          84         saga      0.01   \n",
       "1805          86         saga      0.01   \n",
       "2057          98         saga      0.01   \n",
       "1889          90         saga      0.01   \n",
       "\n",
       "                                                 params  split0_test_score  \\\n",
       "2079     {'alpha': 0.0, 'solver': 'auto', 'tol': 1e-05}           0.722374   \n",
       "2080     {'alpha': 0.0, 'solver': 'auto', 'tol': 1e-07}           0.722374   \n",
       "2081      {'alpha': 0.0, 'solver': 'auto', 'tol': 0.01}           0.722374   \n",
       "2085  {'alpha': 0.0, 'solver': 'cholesky', 'tol': 1e...           0.722374   \n",
       "2086  {'alpha': 0.0, 'solver': 'cholesky', 'tol': 1e...           0.722374   \n",
       "...                                                 ...                ...   \n",
       "1973       {'alpha': 94, 'solver': 'saga', 'tol': 0.01}           0.526921   \n",
       "1763       {'alpha': 84, 'solver': 'saga', 'tol': 0.01}           0.526511   \n",
       "1805       {'alpha': 86, 'solver': 'saga', 'tol': 0.01}           0.526712   \n",
       "2057       {'alpha': 98, 'solver': 'saga', 'tol': 0.01}           0.526160   \n",
       "1889       {'alpha': 90, 'solver': 'saga', 'tol': 0.01}           0.526501   \n",
       "\n",
       "      split1_test_score  split2_test_score  split3_test_score  \\\n",
       "2079           0.748016           0.796943           0.597686   \n",
       "2080           0.748016           0.796943           0.597686   \n",
       "2081           0.748016           0.796943           0.597686   \n",
       "2085           0.748016           0.796943           0.597686   \n",
       "2086           0.748016           0.796943           0.597686   \n",
       "...                 ...                ...                ...   \n",
       "1973           0.570489           0.595270           0.510625   \n",
       "1763           0.571174           0.594571           0.510815   \n",
       "1805           0.572168           0.594523           0.509421   \n",
       "2057           0.570280           0.594949           0.511121   \n",
       "1889           0.570212           0.594355           0.510890   \n",
       "\n",
       "      mean_test_score  std_test_score  rank_test_score  \n",
       "2079         0.716254        0.073511                1  \n",
       "2080         0.716254        0.073511                1  \n",
       "2081         0.716254        0.073511                1  \n",
       "2085         0.716254        0.073511                1  \n",
       "2086         0.716254        0.073511                1  \n",
       "...               ...             ...              ...  \n",
       "1973         0.550826        0.033725             2285  \n",
       "1763         0.550768        0.033615             2286  \n",
       "1805         0.550706        0.034134             2287  \n",
       "2057         0.550628        0.033578             2288  \n",
       "1889         0.550490        0.033379             2289  \n",
       "\n",
       "[2289 rows x 15 columns]"
      ]
     },
     "execution_count": 63,
     "metadata": {},
     "output_type": "execute_result"
    }
   ],
   "source": [
    "summary_ridge.sort_values(by = \"rank_test_score\")"
   ]
  },
  {
   "cell_type": "code",
   "execution_count": 64,
   "metadata": {
    "ExecuteTime": {
     "end_time": "2022-02-25T01:30:35.759615Z",
     "start_time": "2022-02-25T01:30:35.736511Z"
    }
   },
   "outputs": [],
   "source": [
    "dc_scores[str(model_ridge).split(\"(\")[0]] = {\"model\": clf_ridge.best_estimator_, \"score\": clf_ridge.best_score_}"
   ]
  },
  {
   "cell_type": "code",
   "execution_count": 65,
   "metadata": {
    "ExecuteTime": {
     "end_time": "2022-02-25T01:30:37.312082Z",
     "start_time": "2022-02-25T01:30:37.302588Z"
    }
   },
   "outputs": [
    {
     "data": {
      "text/plain": [
       "{'Lasso': {'model': Lasso(alpha=0.0, tol=1e-05), 'score': 0.7162544957452255},\n",
       " 'Ridge': {'model': Ridge(alpha=0.0, tol=1e-05), 'score': 0.7162544957452257}}"
      ]
     },
     "execution_count": 65,
     "metadata": {},
     "output_type": "execute_result"
    }
   ],
   "source": [
    "dc_scores\n"
   ]
  },
  {
   "cell_type": "markdown",
   "metadata": {},
   "source": [
    "## Elastic Net"
   ]
  },
  {
   "cell_type": "code",
   "execution_count": 66,
   "metadata": {
    "ExecuteTime": {
     "end_time": "2022-02-25T01:31:12.482590Z",
     "start_time": "2022-02-25T01:31:12.355290Z"
    }
   },
   "outputs": [],
   "source": [
    "Ridge?"
   ]
  },
  {
   "cell_type": "code",
   "execution_count": 67,
   "metadata": {
    "ExecuteTime": {
     "end_time": "2022-02-25T01:31:19.577471Z",
     "start_time": "2022-02-25T01:31:19.570005Z"
    }
   },
   "outputs": [],
   "source": [
    "ElasticNet?"
   ]
  },
  {
   "cell_type": "code",
   "execution_count": 68,
   "metadata": {
    "ExecuteTime": {
     "end_time": "2022-02-25T01:31:31.591747Z",
     "start_time": "2022-02-25T01:31:31.582643Z"
    }
   },
   "outputs": [],
   "source": [
    "model_elastic = ElasticNet()"
   ]
  },
  {
   "cell_type": "code",
   "execution_count": 69,
   "metadata": {
    "ExecuteTime": {
     "end_time": "2022-02-25T01:31:32.873098Z",
     "start_time": "2022-02-25T01:31:32.779986Z"
    }
   },
   "outputs": [
    {
     "data": {
      "text/plain": [
       "(0.6650999296743175, 0.07533556883650339)"
      ]
     },
     "execution_count": 69,
     "metadata": {},
     "output_type": "execute_result"
    }
   ],
   "source": [
    "model_elastic.fit(X_train, y_train)\n",
    "ls_medias_elastic = cross_val_score(estimator=model_elastic, X=X_test, y = y_test, cv = 4, n_jobs=-1, scoring=\"r2\")\n",
    "np.mean(ls_medias_elastic), np.std(ls_medias_elastic)"
   ]
  },
  {
   "cell_type": "code",
   "execution_count": 70,
   "metadata": {
    "ExecuteTime": {
     "end_time": "2022-02-25T01:31:44.831623Z",
     "start_time": "2022-02-25T01:31:44.808809Z"
    }
   },
   "outputs": [
    {
     "data": {
      "text/plain": [
       "{'alpha': 1.0,\n",
       " 'copy_X': True,\n",
       " 'fit_intercept': True,\n",
       " 'l1_ratio': 0.5,\n",
       " 'max_iter': 1000,\n",
       " 'normalize': False,\n",
       " 'positive': False,\n",
       " 'precompute': False,\n",
       " 'random_state': None,\n",
       " 'selection': 'cyclic',\n",
       " 'tol': 0.0001,\n",
       " 'warm_start': False}"
      ]
     },
     "execution_count": 70,
     "metadata": {},
     "output_type": "execute_result"
    }
   ],
   "source": [
    "model_elastic.get_params()"
   ]
  },
  {
   "cell_type": "code",
   "execution_count": 71,
   "metadata": {
    "ExecuteTime": {
     "end_time": "2022-02-25T01:32:31.089880Z",
     "start_time": "2022-02-25T01:32:31.078628Z"
    }
   },
   "outputs": [],
   "source": [
    "param_grid = {\n",
    "    \"alpha\": [x for x in range(1, 100)] + [y/10 for y in range(10)],\n",
    "    \"l1_ratio\": [x/1000 for x in range(1, 100)] + [y/10 for y in range(10)],\n",
    "}"
   ]
  },
  {
   "cell_type": "code",
   "execution_count": 72,
   "metadata": {
    "ExecuteTime": {
     "end_time": "2022-02-25T01:32:34.787019Z",
     "start_time": "2022-02-25T01:32:34.774940Z"
    }
   },
   "outputs": [
    {
     "data": {
      "text/plain": [
       "11881"
      ]
     },
     "execution_count": 72,
     "metadata": {},
     "output_type": "execute_result"
    }
   ],
   "source": [
    "np.prod(list(map(len, param_grid.values())))"
   ]
  },
  {
   "cell_type": "code",
   "execution_count": 51,
   "metadata": {
    "ExecuteTime": {
     "end_time": "2021-08-07T14:33:01.413127Z",
     "start_time": "2021-08-07T14:31:06.604758Z"
    }
   },
   "outputs": [
    {
     "name": "stdout",
     "output_type": "stream",
     "text": [
      "Fitting 4 folds for each of 11881 candidates, totalling 47524 fits\n"
     ]
    },
    {
     "name": "stderr",
     "output_type": "stream",
     "text": [
      "[Parallel(n_jobs=-1)]: Using backend LokyBackend with 8 concurrent workers.\n",
      "[Parallel(n_jobs=-1)]: Done   2 tasks      | elapsed:    0.0s\n",
      "[Parallel(n_jobs=-1)]: Done 204 tasks      | elapsed:    0.9s\n",
      "[Parallel(n_jobs=-1)]: Done 1552 tasks      | elapsed:    4.2s\n",
      "[Parallel(n_jobs=-1)]: Done 3568 tasks      | elapsed:    9.7s\n",
      "[Parallel(n_jobs=-1)]: Done 6160 tasks      | elapsed:   16.5s\n",
      "[Parallel(n_jobs=-1)]: Done 9328 tasks      | elapsed:   24.6s\n",
      "[Parallel(n_jobs=-1)]: Done 13072 tasks      | elapsed:   33.4s\n",
      "[Parallel(n_jobs=-1)]: Done 17392 tasks      | elapsed:   43.2s\n",
      "[Parallel(n_jobs=-1)]: Done 22288 tasks      | elapsed:   54.9s\n",
      "[Parallel(n_jobs=-1)]: Done 27760 tasks      | elapsed:  1.1min\n",
      "[Parallel(n_jobs=-1)]: Done 33808 tasks      | elapsed:  1.3min\n",
      "[Parallel(n_jobs=-1)]: Done 40432 tasks      | elapsed:  1.6min\n",
      "[Parallel(n_jobs=-1)]: Done 47437 tasks      | elapsed:  1.9min\n"
     ]
    },
    {
     "name": "stdout",
     "output_type": "stream",
     "text": [
      "Best score: 0.7039226119356685\n"
     ]
    },
    {
     "name": "stderr",
     "output_type": "stream",
     "text": [
      "[Parallel(n_jobs=-1)]: Done 47524 out of 47524 | elapsed:  1.9min finished\n",
      "/home/jorge/Documents/Diplomado/ambientes/diplo_env/lib/python3.6/site-packages/sklearn/model_selection/_search.py:765: UserWarning: With alpha=0, this algorithm does not converge well. You are advised to use the LinearRegression estimator\n",
      "  self.best_estimator_.fit(X, y, **fit_params)\n",
      "/home/jorge/Documents/Diplomado/ambientes/diplo_env/lib/python3.6/site-packages/sklearn/linear_model/_coordinate_descent.py:531: UserWarning: Coordinate descent with no regularization may lead to unexpected results and is discouraged.\n",
      "  positive)\n",
      "/home/jorge/Documents/Diplomado/ambientes/diplo_env/lib/python3.6/site-packages/sklearn/linear_model/_coordinate_descent.py:531: ConvergenceWarning: Objective did not converge. You might want to increase the number of iterations. Duality gap: 3934.719784717148, tolerance: 3.0093142514124294\n",
      "  positive)\n"
     ]
    }
   ],
   "source": [
    "clf_elastic = GridSearchCV(model_elastic, param_grid, cv=4, error_score=-1000, n_jobs=-1, scoring=\"r2\", verbose=5,)\n",
    "clf_elastic.fit(X_train, y_train)\n",
    "print(\"Best score: \" + str(clf_elastic.best_score_))"
   ]
  },
  {
   "cell_type": "code",
   "execution_count": 52,
   "metadata": {
    "ExecuteTime": {
     "end_time": "2021-08-07T14:33:40.897903Z",
     "start_time": "2021-08-07T14:33:40.868488Z"
    }
   },
   "outputs": [],
   "source": [
    "summary_elastic = pd.DataFrame(clf_elastic.cv_results_)"
   ]
  },
  {
   "cell_type": "code",
   "execution_count": 53,
   "metadata": {
    "ExecuteTime": {
     "end_time": "2021-08-07T14:33:41.712150Z",
     "start_time": "2021-08-07T14:33:41.637822Z"
    },
    "scrolled": true
   },
   "outputs": [
    {
     "data": {
      "text/html": [
       "<div>\n",
       "<style scoped>\n",
       "    .dataframe tbody tr th:only-of-type {\n",
       "        vertical-align: middle;\n",
       "    }\n",
       "\n",
       "    .dataframe tbody tr th {\n",
       "        vertical-align: top;\n",
       "    }\n",
       "\n",
       "    .dataframe thead th {\n",
       "        text-align: right;\n",
       "    }\n",
       "</style>\n",
       "<table border=\"1\" class=\"dataframe\">\n",
       "  <thead>\n",
       "    <tr style=\"text-align: right;\">\n",
       "      <th></th>\n",
       "      <th>mean_fit_time</th>\n",
       "      <th>std_fit_time</th>\n",
       "      <th>mean_score_time</th>\n",
       "      <th>std_score_time</th>\n",
       "      <th>param_alpha</th>\n",
       "      <th>param_l1_ratio</th>\n",
       "      <th>params</th>\n",
       "      <th>split0_test_score</th>\n",
       "      <th>split1_test_score</th>\n",
       "      <th>split2_test_score</th>\n",
       "      <th>split3_test_score</th>\n",
       "      <th>mean_test_score</th>\n",
       "      <th>std_test_score</th>\n",
       "      <th>rank_test_score</th>\n",
       "    </tr>\n",
       "  </thead>\n",
       "  <tbody>\n",
       "    <tr>\n",
       "      <th>10898</th>\n",
       "      <td>0.015740</td>\n",
       "      <td>0.002050</td>\n",
       "      <td>0.008296</td>\n",
       "      <td>0.003323</td>\n",
       "      <td>0</td>\n",
       "      <td>0.8</td>\n",
       "      <td>{'alpha': 0.0, 'l1_ratio': 0.8}</td>\n",
       "      <td>0.697849</td>\n",
       "      <td>0.694097</td>\n",
       "      <td>0.662440</td>\n",
       "      <td>0.761304</td>\n",
       "      <td>0.703923</td>\n",
       "      <td>0.035871</td>\n",
       "      <td>1</td>\n",
       "    </tr>\n",
       "    <tr>\n",
       "      <th>10869</th>\n",
       "      <td>0.015426</td>\n",
       "      <td>0.006580</td>\n",
       "      <td>0.005710</td>\n",
       "      <td>0.002009</td>\n",
       "      <td>0</td>\n",
       "      <td>0.079</td>\n",
       "      <td>{'alpha': 0.0, 'l1_ratio': 0.079}</td>\n",
       "      <td>0.697849</td>\n",
       "      <td>0.694097</td>\n",
       "      <td>0.662440</td>\n",
       "      <td>0.761304</td>\n",
       "      <td>0.703923</td>\n",
       "      <td>0.035871</td>\n",
       "      <td>1</td>\n",
       "    </tr>\n",
       "    <tr>\n",
       "      <th>10868</th>\n",
       "      <td>0.018191</td>\n",
       "      <td>0.006144</td>\n",
       "      <td>0.010477</td>\n",
       "      <td>0.005732</td>\n",
       "      <td>0</td>\n",
       "      <td>0.078</td>\n",
       "      <td>{'alpha': 0.0, 'l1_ratio': 0.078}</td>\n",
       "      <td>0.697849</td>\n",
       "      <td>0.694097</td>\n",
       "      <td>0.662440</td>\n",
       "      <td>0.761304</td>\n",
       "      <td>0.703923</td>\n",
       "      <td>0.035871</td>\n",
       "      <td>1</td>\n",
       "    </tr>\n",
       "    <tr>\n",
       "      <th>10867</th>\n",
       "      <td>0.015622</td>\n",
       "      <td>0.005479</td>\n",
       "      <td>0.005426</td>\n",
       "      <td>0.000778</td>\n",
       "      <td>0</td>\n",
       "      <td>0.077</td>\n",
       "      <td>{'alpha': 0.0, 'l1_ratio': 0.077}</td>\n",
       "      <td>0.697849</td>\n",
       "      <td>0.694097</td>\n",
       "      <td>0.662440</td>\n",
       "      <td>0.761304</td>\n",
       "      <td>0.703923</td>\n",
       "      <td>0.035871</td>\n",
       "      <td>1</td>\n",
       "    </tr>\n",
       "    <tr>\n",
       "      <th>10866</th>\n",
       "      <td>0.014800</td>\n",
       "      <td>0.003767</td>\n",
       "      <td>0.004209</td>\n",
       "      <td>0.000455</td>\n",
       "      <td>0</td>\n",
       "      <td>0.076</td>\n",
       "      <td>{'alpha': 0.0, 'l1_ratio': 0.076}</td>\n",
       "      <td>0.697849</td>\n",
       "      <td>0.694097</td>\n",
       "      <td>0.662440</td>\n",
       "      <td>0.761304</td>\n",
       "      <td>0.703923</td>\n",
       "      <td>0.035871</td>\n",
       "      <td>1</td>\n",
       "    </tr>\n",
       "    <tr>\n",
       "      <th>...</th>\n",
       "      <td>...</td>\n",
       "      <td>...</td>\n",
       "      <td>...</td>\n",
       "      <td>...</td>\n",
       "      <td>...</td>\n",
       "      <td>...</td>\n",
       "      <td>...</td>\n",
       "      <td>...</td>\n",
       "      <td>...</td>\n",
       "      <td>...</td>\n",
       "      <td>...</td>\n",
       "      <td>...</td>\n",
       "      <td>...</td>\n",
       "      <td>...</td>\n",
       "    </tr>\n",
       "    <tr>\n",
       "      <th>10354</th>\n",
       "      <td>0.008141</td>\n",
       "      <td>0.001185</td>\n",
       "      <td>0.006945</td>\n",
       "      <td>0.003804</td>\n",
       "      <td>95</td>\n",
       "      <td>0.9</td>\n",
       "      <td>{'alpha': 95, 'l1_ratio': 0.9}</td>\n",
       "      <td>0.246056</td>\n",
       "      <td>0.175134</td>\n",
       "      <td>0.215186</td>\n",
       "      <td>0.249875</td>\n",
       "      <td>0.221563</td>\n",
       "      <td>0.029991</td>\n",
       "      <td>11877</td>\n",
       "    </tr>\n",
       "    <tr>\n",
       "      <th>10463</th>\n",
       "      <td>0.014416</td>\n",
       "      <td>0.014210</td>\n",
       "      <td>0.010371</td>\n",
       "      <td>0.009295</td>\n",
       "      <td>96</td>\n",
       "      <td>0.9</td>\n",
       "      <td>{'alpha': 96, 'l1_ratio': 0.9}</td>\n",
       "      <td>0.245886</td>\n",
       "      <td>0.174828</td>\n",
       "      <td>0.214981</td>\n",
       "      <td>0.249809</td>\n",
       "      <td>0.221376</td>\n",
       "      <td>0.030070</td>\n",
       "      <td>11878</td>\n",
       "    </tr>\n",
       "    <tr>\n",
       "      <th>10572</th>\n",
       "      <td>0.007075</td>\n",
       "      <td>0.000801</td>\n",
       "      <td>0.007934</td>\n",
       "      <td>0.005393</td>\n",
       "      <td>97</td>\n",
       "      <td>0.9</td>\n",
       "      <td>{'alpha': 97, 'l1_ratio': 0.9}</td>\n",
       "      <td>0.245714</td>\n",
       "      <td>0.174520</td>\n",
       "      <td>0.214775</td>\n",
       "      <td>0.249738</td>\n",
       "      <td>0.221187</td>\n",
       "      <td>0.030148</td>\n",
       "      <td>11879</td>\n",
       "    </tr>\n",
       "    <tr>\n",
       "      <th>10681</th>\n",
       "      <td>0.013741</td>\n",
       "      <td>0.004829</td>\n",
       "      <td>0.016866</td>\n",
       "      <td>0.004820</td>\n",
       "      <td>98</td>\n",
       "      <td>0.9</td>\n",
       "      <td>{'alpha': 98, 'l1_ratio': 0.9}</td>\n",
       "      <td>0.245539</td>\n",
       "      <td>0.174210</td>\n",
       "      <td>0.214567</td>\n",
       "      <td>0.249664</td>\n",
       "      <td>0.220995</td>\n",
       "      <td>0.030226</td>\n",
       "      <td>11880</td>\n",
       "    </tr>\n",
       "    <tr>\n",
       "      <th>10790</th>\n",
       "      <td>0.009315</td>\n",
       "      <td>0.002357</td>\n",
       "      <td>0.006069</td>\n",
       "      <td>0.002696</td>\n",
       "      <td>99</td>\n",
       "      <td>0.9</td>\n",
       "      <td>{'alpha': 99, 'l1_ratio': 0.9}</td>\n",
       "      <td>0.245362</td>\n",
       "      <td>0.173898</td>\n",
       "      <td>0.214359</td>\n",
       "      <td>0.249585</td>\n",
       "      <td>0.220801</td>\n",
       "      <td>0.030303</td>\n",
       "      <td>11881</td>\n",
       "    </tr>\n",
       "  </tbody>\n",
       "</table>\n",
       "<p>11881 rows × 14 columns</p>\n",
       "</div>"
      ],
      "text/plain": [
       "       mean_fit_time  std_fit_time  mean_score_time  std_score_time  \\\n",
       "10898       0.015740      0.002050         0.008296        0.003323   \n",
       "10869       0.015426      0.006580         0.005710        0.002009   \n",
       "10868       0.018191      0.006144         0.010477        0.005732   \n",
       "10867       0.015622      0.005479         0.005426        0.000778   \n",
       "10866       0.014800      0.003767         0.004209        0.000455   \n",
       "...              ...           ...              ...             ...   \n",
       "10354       0.008141      0.001185         0.006945        0.003804   \n",
       "10463       0.014416      0.014210         0.010371        0.009295   \n",
       "10572       0.007075      0.000801         0.007934        0.005393   \n",
       "10681       0.013741      0.004829         0.016866        0.004820   \n",
       "10790       0.009315      0.002357         0.006069        0.002696   \n",
       "\n",
       "      param_alpha param_l1_ratio                             params  \\\n",
       "10898           0            0.8    {'alpha': 0.0, 'l1_ratio': 0.8}   \n",
       "10869           0          0.079  {'alpha': 0.0, 'l1_ratio': 0.079}   \n",
       "10868           0          0.078  {'alpha': 0.0, 'l1_ratio': 0.078}   \n",
       "10867           0          0.077  {'alpha': 0.0, 'l1_ratio': 0.077}   \n",
       "10866           0          0.076  {'alpha': 0.0, 'l1_ratio': 0.076}   \n",
       "...           ...            ...                                ...   \n",
       "10354          95            0.9     {'alpha': 95, 'l1_ratio': 0.9}   \n",
       "10463          96            0.9     {'alpha': 96, 'l1_ratio': 0.9}   \n",
       "10572          97            0.9     {'alpha': 97, 'l1_ratio': 0.9}   \n",
       "10681          98            0.9     {'alpha': 98, 'l1_ratio': 0.9}   \n",
       "10790          99            0.9     {'alpha': 99, 'l1_ratio': 0.9}   \n",
       "\n",
       "       split0_test_score  split1_test_score  split2_test_score  \\\n",
       "10898           0.697849           0.694097           0.662440   \n",
       "10869           0.697849           0.694097           0.662440   \n",
       "10868           0.697849           0.694097           0.662440   \n",
       "10867           0.697849           0.694097           0.662440   \n",
       "10866           0.697849           0.694097           0.662440   \n",
       "...                  ...                ...                ...   \n",
       "10354           0.246056           0.175134           0.215186   \n",
       "10463           0.245886           0.174828           0.214981   \n",
       "10572           0.245714           0.174520           0.214775   \n",
       "10681           0.245539           0.174210           0.214567   \n",
       "10790           0.245362           0.173898           0.214359   \n",
       "\n",
       "       split3_test_score  mean_test_score  std_test_score  rank_test_score  \n",
       "10898           0.761304         0.703923        0.035871                1  \n",
       "10869           0.761304         0.703923        0.035871                1  \n",
       "10868           0.761304         0.703923        0.035871                1  \n",
       "10867           0.761304         0.703923        0.035871                1  \n",
       "10866           0.761304         0.703923        0.035871                1  \n",
       "...                  ...              ...             ...              ...  \n",
       "10354           0.249875         0.221563        0.029991            11877  \n",
       "10463           0.249809         0.221376        0.030070            11878  \n",
       "10572           0.249738         0.221187        0.030148            11879  \n",
       "10681           0.249664         0.220995        0.030226            11880  \n",
       "10790           0.249585         0.220801        0.030303            11881  \n",
       "\n",
       "[11881 rows x 14 columns]"
      ]
     },
     "execution_count": 53,
     "metadata": {},
     "output_type": "execute_result"
    }
   ],
   "source": [
    "summary_elastic.sort_values(by = \"rank_test_score\")"
   ]
  },
  {
   "cell_type": "code",
   "execution_count": 54,
   "metadata": {
    "ExecuteTime": {
     "end_time": "2021-08-07T14:33:46.187100Z",
     "start_time": "2021-08-07T14:33:46.176702Z"
    }
   },
   "outputs": [],
   "source": [
    "dc_scores[str(model_elastic).split(\"(\")[0]] = {\"model\": clf_elastic.best_estimator_, \"score\": clf_elastic.best_score_}"
   ]
  },
  {
   "cell_type": "code",
   "execution_count": 55,
   "metadata": {
    "ExecuteTime": {
     "end_time": "2021-08-07T14:33:46.713760Z",
     "start_time": "2021-08-07T14:33:46.708181Z"
    }
   },
   "outputs": [
    {
     "data": {
      "text/plain": [
       "{'Lasso': {'model': Lasso(alpha=0.0, tol=1e-05), 'score': 0.7039226119356685},\n",
       " 'Ridge': {'model': Ridge(alpha=0.0, solver='lsqr', tol=1e-05),\n",
       "  'score': 0.7039248166523288},\n",
       " 'ElasticNet': {'model': ElasticNet(alpha=0.0, l1_ratio=0.001),\n",
       "  'score': 0.7039226119356685}}"
      ]
     },
     "execution_count": 55,
     "metadata": {},
     "output_type": "execute_result"
    }
   ],
   "source": [
    "dc_scores"
   ]
  },
  {
   "cell_type": "code",
   "execution_count": 56,
   "metadata": {
    "ExecuteTime": {
     "end_time": "2021-08-07T14:36:23.412365Z",
     "start_time": "2021-08-07T14:36:09.511532Z"
    }
   },
   "outputs": [
    {
     "name": "stdout",
     "output_type": "stream",
     "text": [
      "Fitting 4 folds for each of 2000 candidates, totalling 8000 fits\n"
     ]
    },
    {
     "name": "stderr",
     "output_type": "stream",
     "text": [
      "[Parallel(n_jobs=-1)]: Using backend LokyBackend with 8 concurrent workers.\n",
      "[Parallel(n_jobs=-1)]: Done   2 tasks      | elapsed:    0.0s\n",
      "[Parallel(n_jobs=-1)]: Done 176 tasks      | elapsed:    0.5s\n",
      "[Parallel(n_jobs=-1)]: Done 1552 tasks      | elapsed:    3.3s\n",
      "[Parallel(n_jobs=-1)]: Done 3568 tasks      | elapsed:    6.8s\n",
      "[Parallel(n_jobs=-1)]: Done 6160 tasks      | elapsed:   10.8s\n"
     ]
    },
    {
     "name": "stdout",
     "output_type": "stream",
     "text": [
      "Best score: 0.7039226119356685\n"
     ]
    },
    {
     "name": "stderr",
     "output_type": "stream",
     "text": [
      "[Parallel(n_jobs=-1)]: Done 8000 out of 8000 | elapsed:   13.8s finished\n",
      "/home/jorge/Documents/Diplomado/ambientes/diplo_env/lib/python3.6/site-packages/sklearn/model_selection/_search.py:765: UserWarning: With alpha=0, this algorithm does not converge well. You are advised to use the LinearRegression estimator\n",
      "  self.best_estimator_.fit(X, y, **fit_params)\n",
      "/home/jorge/Documents/Diplomado/ambientes/diplo_env/lib/python3.6/site-packages/sklearn/linear_model/_coordinate_descent.py:531: UserWarning: Coordinate descent with no regularization may lead to unexpected results and is discouraged.\n",
      "  positive)\n",
      "/home/jorge/Documents/Diplomado/ambientes/diplo_env/lib/python3.6/site-packages/sklearn/linear_model/_coordinate_descent.py:531: ConvergenceWarning: Objective did not converge. You might want to increase the number of iterations. Duality gap: 3934.719784717148, tolerance: 3.0093142514124294\n",
      "  positive)\n"
     ]
    }
   ],
   "source": [
    "clf = RandomizedSearchCV(n_iter=2000, estimator=model_elastic, param_distributions=param_grid, cv=4, error_score=-1000, n_jobs=-1, scoring=\"r2\", verbose=5)\n",
    "clf.fit(X_train, y_train)\n",
    "print(\"Best score: \" + str(clf.best_score_))"
   ]
  },
  {
   "cell_type": "markdown",
   "metadata": {},
   "source": [
    "## Guardar el Modelo"
   ]
  },
  {
   "cell_type": "code",
   "execution_count": 57,
   "metadata": {
    "ExecuteTime": {
     "end_time": "2021-08-07T14:38:09.485764Z",
     "start_time": "2021-08-07T14:38:09.453909Z"
    }
   },
   "outputs": [
    {
     "data": {
      "text/plain": [
       "{'Lasso': {'model': Lasso(alpha=0.0, tol=1e-05), 'score': 0.7039226119356685},\n",
       " 'Ridge': {'model': Ridge(alpha=0.0, solver='lsqr', tol=1e-05),\n",
       "  'score': 0.7039248166523288},\n",
       " 'ElasticNet': {'model': ElasticNet(alpha=0.0, l1_ratio=0.001),\n",
       "  'score': 0.7039226119356685}}"
      ]
     },
     "execution_count": 57,
     "metadata": {},
     "output_type": "execute_result"
    }
   ],
   "source": [
    "dc_scores"
   ]
  },
  {
   "cell_type": "code",
   "execution_count": 73,
   "metadata": {
    "ExecuteTime": {
     "end_time": "2022-02-25T01:36:14.942617Z",
     "start_time": "2022-02-25T01:36:14.915982Z"
    }
   },
   "outputs": [
    {
     "data": {
      "text/plain": [
       "Ridge(alpha=0.0, tol=1e-05)"
      ]
     },
     "execution_count": 73,
     "metadata": {},
     "output_type": "execute_result"
    }
   ],
   "source": [
    "dc_scores['Ridge']['model']"
   ]
  },
  {
   "cell_type": "code",
   "execution_count": 74,
   "metadata": {
    "ExecuteTime": {
     "end_time": "2022-02-25T01:36:29.555452Z",
     "start_time": "2022-02-25T01:36:29.546904Z"
    }
   },
   "outputs": [],
   "source": [
    "pd.to_pickle(dc_scores['Ridge']['model'],'model_ridge_housing.pkl')"
   ]
  },
  {
   "cell_type": "code",
   "execution_count": 75,
   "metadata": {
    "ExecuteTime": {
     "end_time": "2022-02-25T01:36:33.609130Z",
     "start_time": "2022-02-25T01:36:33.603296Z"
    }
   },
   "outputs": [],
   "source": [
    "modelo_ganador=pd.read_pickle('model_ridge_housing.pkl')"
   ]
  },
  {
   "cell_type": "code",
   "execution_count": 76,
   "metadata": {
    "ExecuteTime": {
     "end_time": "2022-02-25T01:36:34.939559Z",
     "start_time": "2022-02-25T01:36:34.909242Z"
    }
   },
   "outputs": [
    {
     "data": {
      "text/plain": [
       "array([14.57365781, 29.72147382, 24.70774663, 24.43056519, 12.27614664,\n",
       "       21.24569033, 16.61048106,  2.99248138, 22.73651538, 38.3704696 ,\n",
       "       24.9134093 , 35.51888005, 26.24465748, 22.79709479, 34.80869692,\n",
       "       11.98133787, 27.19428072, 17.64009066, 17.42247711, 25.9554644 ,\n",
       "       16.54921459, 30.89509118, 25.77074177,  6.34721333, 37.63246636,\n",
       "       25.13635952, 26.48667895, 24.32248731, 16.70199369, 23.55462898,\n",
       "       24.67454083, 17.35743361, 32.23542768, 23.83075902, 18.99996142,\n",
       "       22.17090867, 23.79316329, 20.23489601, 17.66845129, 20.67169728,\n",
       "       -6.73332691,  8.04277852, 32.01746851, 27.20257336, 30.97264655,\n",
       "       36.5431944 , 13.08154311, 27.66295951, 19.58066711, 27.86796527,\n",
       "       21.16561181, 30.94165467,  3.93185828, 26.50188277, 25.45674385,\n",
       "       32.91254868, 23.00318887,  8.31004745, 14.41136953, 33.60388896,\n",
       "       27.46194056, 29.14125113, 21.91050651, 18.98143451, 28.54805711,\n",
       "        6.44578785, 22.99333427, 20.62352659, 23.6194863 , 10.67028404,\n",
       "       25.16514416, 31.23440378, 16.03794867, 17.79382928, 24.16088621,\n",
       "       21.04767663,  5.22626816, 16.22519289, 25.32295075, 19.69514938,\n",
       "       30.83281393,  0.53311888, 19.87874715, 40.44506231, 25.75217544,\n",
       "       33.26090153, 36.71796946, 16.29284647, 23.77665948,  1.92166201,\n",
       "       24.31479484, 19.24968068, 19.37483764, 20.10872251, 15.24245237,\n",
       "       39.25345769, 19.46416385, 20.212809  , 29.92939938, 26.60601506,\n",
       "       24.73549383, 29.39092965, 11.17857727, 25.52177399, 22.52194497,\n",
       "       22.71148521, 15.57258508, 40.37991701, 28.64118828, 28.77967128,\n",
       "       23.88746472, 15.67625613, 15.14141508, 29.19307113, 22.33574086,\n",
       "       23.04944735, 28.9140126 , 15.60135823, 22.32182513, 13.5086625 ,\n",
       "       10.69392792, 23.50873124, 14.6113719 , 30.43304611, 17.48788605,\n",
       "       20.76958429, 15.95533586, 26.23098918, 42.77939486, 24.00127376,\n",
       "       29.94364898, 20.52151823,  5.36031783,  8.75566487, 29.26509028,\n",
       "       11.12268068, 17.8154344 , 28.79846049, 21.07967185, 20.02348457,\n",
       "       25.36523145, 21.52506285, 25.98573707, 19.48121545, 17.1452294 ,\n",
       "       34.17193993,  5.71110313, 35.88039566, 21.2399305 , 18.29851514,\n",
       "       32.939751  , 32.2365506 ])"
      ]
     },
     "execution_count": 76,
     "metadata": {},
     "output_type": "execute_result"
    }
   ],
   "source": [
    "modelo_ganador.predict(X_test)"
   ]
  },
  {
   "cell_type": "code",
   "execution_count": null,
   "metadata": {},
   "outputs": [],
   "source": []
  }
 ],
 "metadata": {
  "kernelspec": {
   "display_name": "diplo_env",
   "language": "python",
   "name": "diplo_env"
  },
  "language_info": {
   "codemirror_mode": {
    "name": "ipython",
    "version": 3
   },
   "file_extension": ".py",
   "mimetype": "text/x-python",
   "name": "python",
   "nbconvert_exporter": "python",
   "pygments_lexer": "ipython3",
   "version": "3.6.13"
  },
  "varInspector": {
   "cols": {
    "lenName": 16,
    "lenType": 16,
    "lenVar": 40
   },
   "kernels_config": {
    "python": {
     "delete_cmd_postfix": "",
     "delete_cmd_prefix": "del ",
     "library": "var_list.py",
     "varRefreshCmd": "print(var_dic_list())"
    },
    "r": {
     "delete_cmd_postfix": ") ",
     "delete_cmd_prefix": "rm(",
     "library": "var_list.r",
     "varRefreshCmd": "cat(var_dic_list()) "
    }
   },
   "types_to_exclude": [
    "module",
    "function",
    "builtin_function_or_method",
    "instance",
    "_Feature"
   ],
   "window_display": false
  }
 },
 "nbformat": 4,
 "nbformat_minor": 4
}

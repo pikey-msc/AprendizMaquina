{
 "cells": [
  {
   "cell_type": "code",
   "execution_count": 37,
   "metadata": {
    "ExecuteTime": {
     "end_time": "2022-03-25T02:34:55.967396Z",
     "start_time": "2022-03-25T02:34:55.959494Z"
    }
   },
   "outputs": [],
   "source": [
    "import pandas as pd\n",
    "from sklearn.pipeline import Pipeline\n",
    "from sklearn.experimental import enable_iterative_imputer\n",
    "from sklearn.impute import KNNImputer,SimpleImputer, IterativeImputer\n",
    "from sklearn.tree import DecisionTreeRegressor\n",
    "from sklearn.linear_model import LinearRegression\n",
    "from xgboost.sklearn import XGBRegressor\n"
   ]
  },
  {
   "cell_type": "code",
   "execution_count": 38,
   "metadata": {
    "ExecuteTime": {
     "end_time": "2022-03-25T02:35:00.435168Z",
     "start_time": "2022-03-25T02:35:00.294970Z"
    }
   },
   "outputs": [],
   "source": [
    "data = pd.read_csv(\"../data/elecciones_haiti.csv\")"
   ]
  },
  {
   "cell_type": "code",
   "execution_count": 39,
   "metadata": {
    "ExecuteTime": {
     "end_time": "2022-03-25T02:35:08.431443Z",
     "start_time": "2022-03-25T02:35:08.406043Z"
    }
   },
   "outputs": [
    {
     "data": {
      "text/html": [
       "<div>\n",
       "<style scoped>\n",
       "    .dataframe tbody tr th:only-of-type {\n",
       "        vertical-align: middle;\n",
       "    }\n",
       "\n",
       "    .dataframe tbody tr th {\n",
       "        vertical-align: top;\n",
       "    }\n",
       "\n",
       "    .dataframe thead th {\n",
       "        text-align: right;\n",
       "    }\n",
       "</style>\n",
       "<table border=\"1\" class=\"dataframe\">\n",
       "  <thead>\n",
       "    <tr style=\"text-align: right;\">\n",
       "      <th></th>\n",
       "      <th>Presupuesto Otorgado</th>\n",
       "      <th>Gasto de marketing</th>\n",
       "      <th>Gasto campaña</th>\n",
       "      <th>Número de afiliados</th>\n",
       "      <th>Número de competidores</th>\n",
       "      <th>Número de seguidores de twitter</th>\n",
       "      <th>Votos del partido en la elección pasada</th>\n",
       "      <th>Número de votos del candidato</th>\n",
       "      <th>Ingreso mensual</th>\n",
       "      <th>Edad</th>\n",
       "      <th>Ganador</th>\n",
       "      <th>ID_Candidato</th>\n",
       "      <th>Fecha</th>\n",
       "    </tr>\n",
       "  </thead>\n",
       "  <tbody>\n",
       "    <tr>\n",
       "      <th>0</th>\n",
       "      <td>16000000.0</td>\n",
       "      <td>9795154.0</td>\n",
       "      <td>6162225.0</td>\n",
       "      <td>397.0</td>\n",
       "      <td>4.0</td>\n",
       "      <td>33117.0</td>\n",
       "      <td>261271.0</td>\n",
       "      <td>47.0</td>\n",
       "      <td>138741.0</td>\n",
       "      <td>55.0</td>\n",
       "      <td>1</td>\n",
       "      <td>CAND-108026</td>\n",
       "      <td>2006-06-30</td>\n",
       "    </tr>\n",
       "    <tr>\n",
       "      <th>1</th>\n",
       "      <td>15000000.0</td>\n",
       "      <td>1052076.0</td>\n",
       "      <td>14994226.0</td>\n",
       "      <td>209.0</td>\n",
       "      <td>4.0</td>\n",
       "      <td>88453.0</td>\n",
       "      <td>244314.0</td>\n",
       "      <td>67.0</td>\n",
       "      <td>98240.0</td>\n",
       "      <td>49.0</td>\n",
       "      <td>0</td>\n",
       "      <td>CAND-102856</td>\n",
       "      <td>2000-06-30</td>\n",
       "    </tr>\n",
       "    <tr>\n",
       "      <th>2</th>\n",
       "      <td>16000000.0</td>\n",
       "      <td>1755718.0</td>\n",
       "      <td>13985634.0</td>\n",
       "      <td>NaN</td>\n",
       "      <td>3.0</td>\n",
       "      <td>67925.0</td>\n",
       "      <td>254029.0</td>\n",
       "      <td>63.0</td>\n",
       "      <td>NaN</td>\n",
       "      <td>49.0</td>\n",
       "      <td>0</td>\n",
       "      <td>CAND-110135</td>\n",
       "      <td>2021-06-30</td>\n",
       "    </tr>\n",
       "    <tr>\n",
       "      <th>3</th>\n",
       "      <td>13000000.0</td>\n",
       "      <td>7400252.0</td>\n",
       "      <td>8620721.0</td>\n",
       "      <td>327.0</td>\n",
       "      <td>6.0</td>\n",
       "      <td>43029.0</td>\n",
       "      <td>234126.0</td>\n",
       "      <td>53.0</td>\n",
       "      <td>111968.0</td>\n",
       "      <td>57.0</td>\n",
       "      <td>0</td>\n",
       "      <td>CAND-110769</td>\n",
       "      <td>2003-06-30</td>\n",
       "    </tr>\n",
       "    <tr>\n",
       "      <th>4</th>\n",
       "      <td>15000000.0</td>\n",
       "      <td>3707232.0</td>\n",
       "      <td>12471452.0</td>\n",
       "      <td>356.0</td>\n",
       "      <td>4.0</td>\n",
       "      <td>58636.0</td>\n",
       "      <td>245542.0</td>\n",
       "      <td>78.0</td>\n",
       "      <td>145084.0</td>\n",
       "      <td>56.0</td>\n",
       "      <td>1</td>\n",
       "      <td>CAND-114800</td>\n",
       "      <td>2000-06-30</td>\n",
       "    </tr>\n",
       "  </tbody>\n",
       "</table>\n",
       "</div>"
      ],
      "text/plain": [
       "   Presupuesto Otorgado  Gasto de marketing  Gasto campaña  \\\n",
       "0            16000000.0           9795154.0      6162225.0   \n",
       "1            15000000.0           1052076.0     14994226.0   \n",
       "2            16000000.0           1755718.0     13985634.0   \n",
       "3            13000000.0           7400252.0      8620721.0   \n",
       "4            15000000.0           3707232.0     12471452.0   \n",
       "\n",
       "   Número de afiliados  Número de competidores  \\\n",
       "0                397.0                     4.0   \n",
       "1                209.0                     4.0   \n",
       "2                  NaN                     3.0   \n",
       "3                327.0                     6.0   \n",
       "4                356.0                     4.0   \n",
       "\n",
       "   Número de seguidores de twitter  Votos del partido en la elección pasada  \\\n",
       "0                          33117.0                                 261271.0   \n",
       "1                          88453.0                                 244314.0   \n",
       "2                          67925.0                                 254029.0   \n",
       "3                          43029.0                                 234126.0   \n",
       "4                          58636.0                                 245542.0   \n",
       "\n",
       "   Número de votos del candidato  Ingreso mensual  Edad  Ganador ID_Candidato  \\\n",
       "0                           47.0         138741.0  55.0        1  CAND-108026   \n",
       "1                           67.0          98240.0  49.0        0  CAND-102856   \n",
       "2                           63.0              NaN  49.0        0  CAND-110135   \n",
       "3                           53.0         111968.0  57.0        0  CAND-110769   \n",
       "4                           78.0         145084.0  56.0        1  CAND-114800   \n",
       "\n",
       "        Fecha  \n",
       "0  2006-06-30  \n",
       "1  2000-06-30  \n",
       "2  2021-06-30  \n",
       "3  2003-06-30  \n",
       "4  2000-06-30  "
      ]
     },
     "execution_count": 39,
     "metadata": {},
     "output_type": "execute_result"
    }
   ],
   "source": [
    "data.head()"
   ]
  },
  {
   "cell_type": "code",
   "execution_count": 40,
   "metadata": {
    "ExecuteTime": {
     "end_time": "2022-03-25T02:35:49.759887Z",
     "start_time": "2022-03-25T02:35:49.746869Z"
    }
   },
   "outputs": [
    {
     "data": {
      "text/plain": [
       "1    0.5004\n",
       "0    0.4996\n",
       "Name: Ganador, dtype: float64"
      ]
     },
     "execution_count": 40,
     "metadata": {},
     "output_type": "execute_result"
    }
   ],
   "source": [
    "data[\"Ganador\"].value_counts(1)"
   ]
  },
  {
   "cell_type": "code",
   "execution_count": 4,
   "metadata": {
    "ExecuteTime": {
     "end_time": "2022-03-24T05:27:54.225657Z",
     "start_time": "2022-03-24T05:27:54.201563Z"
    },
    "scrolled": true
   },
   "outputs": [
    {
     "data": {
      "text/html": [
       "<div>\n",
       "<style scoped>\n",
       "    .dataframe tbody tr th:only-of-type {\n",
       "        vertical-align: middle;\n",
       "    }\n",
       "\n",
       "    .dataframe tbody tr th {\n",
       "        vertical-align: top;\n",
       "    }\n",
       "\n",
       "    .dataframe thead th {\n",
       "        text-align: right;\n",
       "    }\n",
       "</style>\n",
       "<table border=\"1\" class=\"dataframe\">\n",
       "  <thead>\n",
       "    <tr style=\"text-align: right;\">\n",
       "      <th></th>\n",
       "      <th>Presupuesto Otorgado</th>\n",
       "      <th>Gasto de marketing</th>\n",
       "      <th>Gasto campaña</th>\n",
       "      <th>Número de afiliados</th>\n",
       "      <th>Número de competidores</th>\n",
       "      <th>Número de seguidores de twitter</th>\n",
       "      <th>Votos del partido en la elección pasada</th>\n",
       "      <th>Número de votos del candidato</th>\n",
       "      <th>Ingreso mensual</th>\n",
       "      <th>Edad</th>\n",
       "      <th>Ganador</th>\n",
       "      <th>ID_Candidato</th>\n",
       "      <th>Fecha</th>\n",
       "    </tr>\n",
       "  </thead>\n",
       "  <tbody>\n",
       "    <tr>\n",
       "      <th>0</th>\n",
       "      <td>16000000.0</td>\n",
       "      <td>9795154.0</td>\n",
       "      <td>6162225.0</td>\n",
       "      <td>397.0</td>\n",
       "      <td>4.0</td>\n",
       "      <td>33117.0</td>\n",
       "      <td>261271.0</td>\n",
       "      <td>47.0</td>\n",
       "      <td>138741.0</td>\n",
       "      <td>55.0</td>\n",
       "      <td>1</td>\n",
       "      <td>CAND-108026</td>\n",
       "      <td>2006-06-30</td>\n",
       "    </tr>\n",
       "    <tr>\n",
       "      <th>1</th>\n",
       "      <td>15000000.0</td>\n",
       "      <td>1052076.0</td>\n",
       "      <td>14994226.0</td>\n",
       "      <td>209.0</td>\n",
       "      <td>4.0</td>\n",
       "      <td>88453.0</td>\n",
       "      <td>244314.0</td>\n",
       "      <td>67.0</td>\n",
       "      <td>98240.0</td>\n",
       "      <td>49.0</td>\n",
       "      <td>0</td>\n",
       "      <td>CAND-102856</td>\n",
       "      <td>2000-06-30</td>\n",
       "    </tr>\n",
       "    <tr>\n",
       "      <th>2</th>\n",
       "      <td>16000000.0</td>\n",
       "      <td>1755718.0</td>\n",
       "      <td>13985634.0</td>\n",
       "      <td>NaN</td>\n",
       "      <td>3.0</td>\n",
       "      <td>67925.0</td>\n",
       "      <td>254029.0</td>\n",
       "      <td>63.0</td>\n",
       "      <td>NaN</td>\n",
       "      <td>49.0</td>\n",
       "      <td>0</td>\n",
       "      <td>CAND-110135</td>\n",
       "      <td>2021-06-30</td>\n",
       "    </tr>\n",
       "    <tr>\n",
       "      <th>3</th>\n",
       "      <td>13000000.0</td>\n",
       "      <td>7400252.0</td>\n",
       "      <td>8620721.0</td>\n",
       "      <td>327.0</td>\n",
       "      <td>6.0</td>\n",
       "      <td>43029.0</td>\n",
       "      <td>234126.0</td>\n",
       "      <td>53.0</td>\n",
       "      <td>111968.0</td>\n",
       "      <td>57.0</td>\n",
       "      <td>0</td>\n",
       "      <td>CAND-110769</td>\n",
       "      <td>2003-06-30</td>\n",
       "    </tr>\n",
       "    <tr>\n",
       "      <th>4</th>\n",
       "      <td>15000000.0</td>\n",
       "      <td>3707232.0</td>\n",
       "      <td>12471452.0</td>\n",
       "      <td>356.0</td>\n",
       "      <td>4.0</td>\n",
       "      <td>58636.0</td>\n",
       "      <td>245542.0</td>\n",
       "      <td>78.0</td>\n",
       "      <td>145084.0</td>\n",
       "      <td>56.0</td>\n",
       "      <td>1</td>\n",
       "      <td>CAND-114800</td>\n",
       "      <td>2000-06-30</td>\n",
       "    </tr>\n",
       "  </tbody>\n",
       "</table>\n",
       "</div>"
      ],
      "text/plain": [
       "   Presupuesto Otorgado  Gasto de marketing  Gasto campaña  \\\n",
       "0            16000000.0           9795154.0      6162225.0   \n",
       "1            15000000.0           1052076.0     14994226.0   \n",
       "2            16000000.0           1755718.0     13985634.0   \n",
       "3            13000000.0           7400252.0      8620721.0   \n",
       "4            15000000.0           3707232.0     12471452.0   \n",
       "\n",
       "   Número de afiliados  Número de competidores  \\\n",
       "0                397.0                     4.0   \n",
       "1                209.0                     4.0   \n",
       "2                  NaN                     3.0   \n",
       "3                327.0                     6.0   \n",
       "4                356.0                     4.0   \n",
       "\n",
       "   Número de seguidores de twitter  Votos del partido en la elección pasada  \\\n",
       "0                          33117.0                                 261271.0   \n",
       "1                          88453.0                                 244314.0   \n",
       "2                          67925.0                                 254029.0   \n",
       "3                          43029.0                                 234126.0   \n",
       "4                          58636.0                                 245542.0   \n",
       "\n",
       "   Número de votos del candidato  Ingreso mensual  Edad  Ganador ID_Candidato  \\\n",
       "0                           47.0         138741.0  55.0        1  CAND-108026   \n",
       "1                           67.0          98240.0  49.0        0  CAND-102856   \n",
       "2                           63.0              NaN  49.0        0  CAND-110135   \n",
       "3                           53.0         111968.0  57.0        0  CAND-110769   \n",
       "4                           78.0         145084.0  56.0        1  CAND-114800   \n",
       "\n",
       "        Fecha  \n",
       "0  2006-06-30  \n",
       "1  2000-06-30  \n",
       "2  2021-06-30  \n",
       "3  2003-06-30  \n",
       "4  2000-06-30  "
      ]
     },
     "execution_count": 4,
     "metadata": {},
     "output_type": "execute_result"
    }
   ],
   "source": [
    "data.head()"
   ]
  },
  {
   "cell_type": "code",
   "execution_count": 41,
   "metadata": {
    "ExecuteTime": {
     "end_time": "2022-03-25T02:36:05.847002Z",
     "start_time": "2022-03-25T02:36:05.842600Z"
    }
   },
   "outputs": [],
   "source": [
    "import missingno as msno"
   ]
  },
  {
   "cell_type": "code",
   "execution_count": 42,
   "metadata": {
    "ExecuteTime": {
     "end_time": "2022-03-25T02:36:07.404423Z",
     "start_time": "2022-03-25T02:36:06.967908Z"
    }
   },
   "outputs": [
    {
     "data": {
      "text/plain": [
       "<AxesSubplot:>"
      ]
     },
     "execution_count": 42,
     "metadata": {},
     "output_type": "execute_result"
    },
    {
     "data": {
      "image/png": "[encoded data removed]",
      "text/plain": [
       "<Figure size 1800x720 with 2 Axes>"
      ]
     },
     "metadata": {
      "needs_background": "light"
     },
     "output_type": "display_data"
    }
   ],
   "source": [
    "msno.matrix(data)"
   ]
  },
  {
   "cell_type": "code",
   "execution_count": 43,
   "metadata": {
    "ExecuteTime": {
     "end_time": "2022-03-25T02:36:18.404466Z",
     "start_time": "2022-03-25T02:36:18.378771Z"
    }
   },
   "outputs": [
    {
     "data": {
      "text/plain": [
       "Presupuesto Otorgado                       0.00000\n",
       "Gasto de marketing                         0.14330\n",
       "Gasto campaña                              0.13795\n",
       "Número de afiliados                        0.17510\n",
       "Número de competidores                     0.00000\n",
       "Número de seguidores de twitter            0.00000\n",
       "Votos del partido en la elección pasada    0.00000\n",
       "Número de votos del candidato              0.00000\n",
       "Ingreso mensual                            0.15100\n",
       "Edad                                       0.00000\n",
       "Ganador                                    0.00000\n",
       "ID_Candidato                               0.00000\n",
       "Fecha                                      0.00000\n",
       "dtype: float64"
      ]
     },
     "execution_count": 43,
     "metadata": {},
     "output_type": "execute_result"
    }
   ],
   "source": [
    "data.isnull().sum()/data.shape[0]"
   ]
  },
  {
   "cell_type": "code",
   "execution_count": 44,
   "metadata": {
    "ExecuteTime": {
     "end_time": "2022-03-25T02:36:34.949599Z",
     "start_time": "2022-03-25T02:36:34.938753Z"
    }
   },
   "outputs": [],
   "source": [
    "data.drop(columns=['ID_Candidato','Fecha'],inplace=True)"
   ]
  },
  {
   "cell_type": "code",
   "execution_count": 45,
   "metadata": {
    "ExecuteTime": {
     "end_time": "2022-03-25T02:36:37.160628Z",
     "start_time": "2022-03-25T02:36:37.149581Z"
    }
   },
   "outputs": [],
   "source": [
    "from sklearn.model_selection import train_test_split"
   ]
  },
  {
   "cell_type": "code",
   "execution_count": 46,
   "metadata": {
    "ExecuteTime": {
     "end_time": "2022-03-25T02:36:42.953364Z",
     "start_time": "2022-03-25T02:36:42.941714Z"
    }
   },
   "outputs": [],
   "source": [
    "X=data.drop(columns=['Ganador'])\n",
    "y=data['Ganador']"
   ]
  },
  {
   "cell_type": "code",
   "execution_count": 47,
   "metadata": {
    "ExecuteTime": {
     "end_time": "2022-03-25T02:36:45.235271Z",
     "start_time": "2022-03-25T02:36:45.216507Z"
    }
   },
   "outputs": [],
   "source": [
    "X_train, X_test, y_train, y_test = train_test_split(X, y, test_size = 0.25, random_state = 100)"
   ]
  },
  {
   "cell_type": "code",
   "execution_count": 48,
   "metadata": {
    "ExecuteTime": {
     "end_time": "2022-03-25T02:36:55.679617Z",
     "start_time": "2022-03-25T02:36:55.674881Z"
    }
   },
   "outputs": [],
   "source": [
    "variables_missing=['Gasto de marketing','Gasto campaña','Número de afiliados','Ingreso mensual']"
   ]
  },
  {
   "cell_type": "code",
   "execution_count": 49,
   "metadata": {
    "ExecuteTime": {
     "end_time": "2022-03-25T02:37:14.676391Z",
     "start_time": "2022-03-25T02:37:14.670217Z"
    }
   },
   "outputs": [],
   "source": [
    "from sklearn.linear_model import LogisticRegression"
   ]
  },
  {
   "cell_type": "code",
   "execution_count": 50,
   "metadata": {
    "ExecuteTime": {
     "end_time": "2022-03-25T02:38:20.561165Z",
     "start_time": "2022-03-25T02:38:20.551709Z"
    }
   },
   "outputs": [],
   "source": [
    "steps_mean=[('imputer',SimpleImputer(fill_value=\"mean\")),('model',LogisticRegression())]"
   ]
  },
  {
   "cell_type": "code",
   "execution_count": 51,
   "metadata": {
    "ExecuteTime": {
     "end_time": "2022-03-25T02:38:28.397795Z",
     "start_time": "2022-03-25T02:38:28.388743Z"
    }
   },
   "outputs": [],
   "source": [
    "pipe_mean=Pipeline(steps=steps_mean)"
   ]
  },
  {
   "cell_type": "code",
   "execution_count": 52,
   "metadata": {
    "ExecuteTime": {
     "end_time": "2022-03-25T02:38:32.677344Z",
     "start_time": "2022-03-25T02:38:32.317117Z"
    }
   },
   "outputs": [
    {
     "data": {
      "text/plain": [
       "Pipeline(steps=[('imputer', SimpleImputer(fill_value='mean')),\n",
       "                ('model', LogisticRegression())])"
      ]
     },
     "execution_count": 52,
     "metadata": {},
     "output_type": "execute_result"
    }
   ],
   "source": [
    "pipe_mean.fit(X_train,y_train)"
   ]
  },
  {
   "cell_type": "code",
   "execution_count": 53,
   "metadata": {
    "ExecuteTime": {
     "end_time": "2022-03-25T02:38:59.327341Z",
     "start_time": "2022-03-25T02:38:59.304050Z"
    }
   },
   "outputs": [
    {
     "data": {
      "text/plain": [
       "0.8216"
      ]
     },
     "execution_count": 53,
     "metadata": {},
     "output_type": "execute_result"
    }
   ],
   "source": [
    "pipe_mean.score(X_test,y_test)"
   ]
  },
  {
   "cell_type": "code",
   "execution_count": 54,
   "metadata": {
    "ExecuteTime": {
     "end_time": "2022-03-25T02:39:46.481410Z",
     "start_time": "2022-03-25T02:39:46.470190Z"
    }
   },
   "outputs": [],
   "source": [
    "steps_median=[('imputer',SimpleImputer(strategy=\"median\")),('model',LogisticRegression())]"
   ]
  },
  {
   "cell_type": "code",
   "execution_count": 55,
   "metadata": {
    "ExecuteTime": {
     "end_time": "2022-03-25T02:39:47.919125Z",
     "start_time": "2022-03-25T02:39:47.916792Z"
    }
   },
   "outputs": [],
   "source": [
    "pipe_median=Pipeline(steps=steps_median)"
   ]
  },
  {
   "cell_type": "code",
   "execution_count": 56,
   "metadata": {
    "ExecuteTime": {
     "end_time": "2022-03-25T02:39:54.110774Z",
     "start_time": "2022-03-25T02:39:53.706079Z"
    }
   },
   "outputs": [
    {
     "data": {
      "text/plain": [
       "Pipeline(steps=[('imputer', SimpleImputer(strategy='median')),\n",
       "                ('model', LogisticRegression())])"
      ]
     },
     "execution_count": 56,
     "metadata": {},
     "output_type": "execute_result"
    }
   ],
   "source": [
    "pipe_median.fit(X_train,y_train)"
   ]
  },
  {
   "cell_type": "code",
   "execution_count": 57,
   "metadata": {
    "ExecuteTime": {
     "end_time": "2022-03-25T02:39:58.529779Z",
     "start_time": "2022-03-25T02:39:58.511666Z"
    }
   },
   "outputs": [
    {
     "data": {
      "text/plain": [
       "0.8232"
      ]
     },
     "execution_count": 57,
     "metadata": {},
     "output_type": "execute_result"
    }
   ],
   "source": [
    "pipe_median.score(X_test,y_test)"
   ]
  },
  {
   "cell_type": "code",
   "execution_count": 58,
   "metadata": {
    "ExecuteTime": {
     "end_time": "2022-03-25T02:40:50.665427Z",
     "start_time": "2022-03-25T02:40:50.656672Z"
    }
   },
   "outputs": [],
   "source": [
    "steps_knn=[('imputer',KNNImputer()),('model',LogisticRegression())]"
   ]
  },
  {
   "cell_type": "code",
   "execution_count": 59,
   "metadata": {
    "ExecuteTime": {
     "end_time": "2022-03-25T02:40:51.832965Z",
     "start_time": "2022-03-25T02:40:51.823133Z"
    }
   },
   "outputs": [],
   "source": [
    "pipe_knn=Pipeline(steps=steps_knn)"
   ]
  },
  {
   "cell_type": "code",
   "execution_count": 60,
   "metadata": {
    "ExecuteTime": {
     "end_time": "2022-03-25T02:41:19.486606Z",
     "start_time": "2022-03-25T02:40:57.700408Z"
    }
   },
   "outputs": [
    {
     "data": {
      "text/plain": [
       "Pipeline(steps=[('imputer', KNNImputer()), ('model', LogisticRegression())])"
      ]
     },
     "execution_count": 60,
     "metadata": {},
     "output_type": "execute_result"
    }
   ],
   "source": [
    "pipe_knn.fit(X_train,y_train)"
   ]
  },
  {
   "cell_type": "code",
   "execution_count": 61,
   "metadata": {
    "ExecuteTime": {
     "end_time": "2022-03-25T02:41:41.959985Z",
     "start_time": "2022-03-25T02:41:39.492141Z"
    }
   },
   "outputs": [
    {
     "data": {
      "text/plain": [
       "0.8242"
      ]
     },
     "execution_count": 61,
     "metadata": {},
     "output_type": "execute_result"
    }
   ],
   "source": [
    "pipe_knn.score(X_test,y_test)"
   ]
  },
  {
   "cell_type": "code",
   "execution_count": 62,
   "metadata": {
    "ExecuteTime": {
     "end_time": "2022-03-25T02:43:16.794201Z",
     "start_time": "2022-03-25T02:43:16.786627Z"
    }
   },
   "outputs": [],
   "source": [
    "steps_tree=[('imputer', IterativeImputer(random_state=0, estimator=DecisionTreeRegressor())),\n",
    "            ('model',LogisticRegression())]"
   ]
  },
  {
   "cell_type": "code",
   "execution_count": 63,
   "metadata": {
    "ExecuteTime": {
     "end_time": "2022-03-25T02:43:17.962628Z",
     "start_time": "2022-03-25T02:43:17.954763Z"
    }
   },
   "outputs": [],
   "source": [
    "pipe_tree=Pipeline(steps=steps_tree)"
   ]
  },
  {
   "cell_type": "code",
   "execution_count": 64,
   "metadata": {
    "ExecuteTime": {
     "end_time": "2022-03-25T02:43:45.743663Z",
     "start_time": "2022-03-25T02:43:25.103362Z"
    }
   },
   "outputs": [
    {
     "name": "stderr",
     "output_type": "stream",
     "text": [
      "/home/jorge/Documents/Diplomado/ambientes/diplo_env/lib/python3.6/site-packages/sklearn/impute/_iterative.py:670: ConvergenceWarning: [IterativeImputer] Early stopping criterion not reached.\n",
      "  \" reached.\", ConvergenceWarning)\n"
     ]
    },
    {
     "data": {
      "text/plain": [
       "Pipeline(steps=[('imputer',\n",
       "                 IterativeImputer(estimator=DecisionTreeRegressor(),\n",
       "                                  random_state=0)),\n",
       "                ('model', LogisticRegression())])"
      ]
     },
     "execution_count": 64,
     "metadata": {},
     "output_type": "execute_result"
    }
   ],
   "source": [
    "pipe_tree.fit(X_train,y_train)"
   ]
  },
  {
   "cell_type": "code",
   "execution_count": 29,
   "metadata": {
    "ExecuteTime": {
     "end_time": "2022-03-24T05:30:19.565351Z",
     "start_time": "2022-03-24T05:30:19.523621Z"
    }
   },
   "outputs": [
    {
     "data": {
      "text/plain": [
       "0.8776"
      ]
     },
     "execution_count": 29,
     "metadata": {},
     "output_type": "execute_result"
    }
   ],
   "source": [
    "pipe_tree.score(X_test,y_test)"
   ]
  },
  {
   "cell_type": "code",
   "execution_count": 30,
   "metadata": {
    "ExecuteTime": {
     "end_time": "2022-03-24T05:30:20.400396Z",
     "start_time": "2022-03-24T05:30:20.390304Z"
    }
   },
   "outputs": [],
   "source": [
    "steps_linear=[('imputer', IterativeImputer(random_state=0, estimator=LinearRegression())),\n",
    "           ('model',LogisticRegression())]"
   ]
  },
  {
   "cell_type": "code",
   "execution_count": 31,
   "metadata": {
    "ExecuteTime": {
     "end_time": "2022-03-24T05:30:23.173987Z",
     "start_time": "2022-03-24T05:30:23.165842Z"
    }
   },
   "outputs": [],
   "source": [
    "pipe_linear=Pipeline(steps=steps_linear)"
   ]
  },
  {
   "cell_type": "code",
   "execution_count": 32,
   "metadata": {
    "ExecuteTime": {
     "end_time": "2022-03-24T05:30:24.485872Z",
     "start_time": "2022-03-24T05:30:24.088257Z"
    }
   },
   "outputs": [
    {
     "data": {
      "text/plain": [
       "Pipeline(steps=[('imputer',\n",
       "                 IterativeImputer(estimator=LinearRegression(),\n",
       "                                  random_state=0)),\n",
       "                ('model', LogisticRegression())])"
      ]
     },
     "execution_count": 32,
     "metadata": {},
     "output_type": "execute_result"
    }
   ],
   "source": [
    "pipe_linear.fit(X_train,y_train)"
   ]
  },
  {
   "cell_type": "code",
   "execution_count": 33,
   "metadata": {
    "ExecuteTime": {
     "end_time": "2022-03-24T05:30:28.272969Z",
     "start_time": "2022-03-24T05:30:28.243456Z"
    }
   },
   "outputs": [
    {
     "data": {
      "text/plain": [
       "0.8792"
      ]
     },
     "execution_count": 33,
     "metadata": {},
     "output_type": "execute_result"
    }
   ],
   "source": [
    "pipe_linear.score(X_test,y_test)"
   ]
  },
  {
   "cell_type": "code",
   "execution_count": 34,
   "metadata": {
    "ExecuteTime": {
     "end_time": "2022-03-24T05:30:32.597580Z",
     "start_time": "2022-03-24T05:30:32.592226Z"
    }
   },
   "outputs": [],
   "source": [
    "steps_xgb=[('imputer', IterativeImputer(random_state=0, estimator=XGBRegressor())),\n",
    "           ('model',LogisticRegression())]"
   ]
  },
  {
   "cell_type": "code",
   "execution_count": 35,
   "metadata": {
    "ExecuteTime": {
     "end_time": "2022-03-24T05:30:33.370245Z",
     "start_time": "2022-03-24T05:30:33.363092Z"
    }
   },
   "outputs": [],
   "source": [
    "pipe_xgb=Pipeline(steps=steps_xgb)"
   ]
  },
  {
   "cell_type": "code",
   "execution_count": 36,
   "metadata": {
    "ExecuteTime": {
     "end_time": "2022-03-24T05:31:50.343198Z",
     "start_time": "2022-03-24T05:30:35.782493Z"
    }
   },
   "outputs": [
    {
     "name": "stderr",
     "output_type": "stream",
     "text": [
      "/home/jorge/Documents/Diplomado/ambientes/diplo_env/lib/python3.6/site-packages/sklearn/impute/_iterative.py:670: ConvergenceWarning: [IterativeImputer] Early stopping criterion not reached.\n",
      "  \" reached.\", ConvergenceWarning)\n"
     ]
    },
    {
     "data": {
      "text/plain": [
       "Pipeline(steps=[('imputer',\n",
       "                 IterativeImputer(estimator=XGBRegressor(base_score=None,\n",
       "                                                         booster=None,\n",
       "                                                         colsample_bylevel=None,\n",
       "                                                         colsample_bynode=None,\n",
       "                                                         colsample_bytree=None,\n",
       "                                                         gamma=None,\n",
       "                                                         gpu_id=None,\n",
       "                                                         importance_type='gain',\n",
       "                                                         interaction_constraints=None,\n",
       "                                                         learning_rate=None,\n",
       "                                                         max_delta_step=None,\n",
       "                                                         max_depth=None,\n",
       "                                                         min_child_weight=None,\n",
       "                                                         missing=nan,\n",
       "                                                         monotone_constraints=None,\n",
       "                                                         n_estimators=100,\n",
       "                                                         n_jobs=None,\n",
       "                                                         num_parallel_tree=None,\n",
       "                                                         random_state=None,\n",
       "                                                         reg_alpha=None,\n",
       "                                                         reg_lambda=None,\n",
       "                                                         scale_pos_weight=None,\n",
       "                                                         subsample=None,\n",
       "                                                         tree_method=None,\n",
       "                                                         validate_parameters=None,\n",
       "                                                         verbosity=None),\n",
       "                                  random_state=0)),\n",
       "                ('model', LogisticRegression())])"
      ]
     },
     "execution_count": 36,
     "metadata": {},
     "output_type": "execute_result"
    }
   ],
   "source": [
    "pipe_xgb.fit(X_train,y_train)"
   ]
  },
  {
   "cell_type": "code",
   "execution_count": 38,
   "metadata": {
    "ExecuteTime": {
     "end_time": "2021-09-04T04:06:33.895123Z",
     "start_time": "2021-09-04T04:06:33.723673Z"
    }
   },
   "outputs": [
    {
     "data": {
      "text/plain": [
       "0.8726"
      ]
     },
     "execution_count": 38,
     "metadata": {},
     "output_type": "execute_result"
    }
   ],
   "source": [
    "pipe_xgb.score(X_test,y_test)"
   ]
  },
  {
   "cell_type": "code",
   "execution_count": null,
   "metadata": {},
   "outputs": [],
   "source": []
  }
 ],
 "metadata": {
  "kernelspec": {
   "display_name": "diplo_env",
   "language": "python",
   "name": "diplo_env"
  },
  "language_info": {
   "codemirror_mode": {
    "name": "ipython",
    "version": 3
   },
   "file_extension": ".py",
   "mimetype": "text/x-python",
   "name": "python",
   "nbconvert_exporter": "python",
   "pygments_lexer": "ipython3",
   "version": "3.6.13"
  },
  "varInspector": {
   "cols": {
    "lenName": 16,
    "lenType": 16,
    "lenVar": 40
   },
   "kernels_config": {
    "python": {
     "delete_cmd_postfix": "",
     "delete_cmd_prefix": "del ",
     "library": "var_list.py",
     "varRefreshCmd": "print(var_dic_list())"
    },
    "r": {
     "delete_cmd_postfix": ") ",
     "delete_cmd_prefix": "rm(",
     "library": "var_list.r",
     "varRefreshCmd": "cat(var_dic_list()) "
    }
   },
   "types_to_exclude": [
    "module",
    "function",
    "builtin_function_or_method",
    "instance",
    "_Feature"
   ],
   "window_display": false
  }
 },
 "nbformat": 4,
 "nbformat_minor": 4
}

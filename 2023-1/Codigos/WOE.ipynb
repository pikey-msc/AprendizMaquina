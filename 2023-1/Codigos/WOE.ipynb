{
 "cells": [
  {
   "cell_type": "code",
   "execution_count": 38,
   "metadata": {
    "ExecuteTime": {
     "end_time": "2022-03-25T02:18:58.277105Z",
     "start_time": "2022-03-25T02:18:58.267232Z"
    }
   },
   "outputs": [],
   "source": [
    "import pandas as pd\n",
    "import numpy as np\n",
    "import missingno as msno\n",
    "from sklearn.model_selection import train_test_split\n",
    "pd.set_option('display.max_columns',100)"
   ]
  },
  {
   "cell_type": "code",
   "execution_count": 39,
   "metadata": {
    "ExecuteTime": {
     "end_time": "2022-03-25T02:18:59.886604Z",
     "start_time": "2022-03-25T02:18:59.869313Z"
    }
   },
   "outputs": [],
   "source": [
    "data=pd.read_csv('../data/churn.csv')\n"
   ]
  },
  {
   "cell_type": "markdown",
   "metadata": {},
   "source": [
    "1- State: the US state in which the customer resides, indicated by a two-letter abbreviation\n",
    "2- Account Length: the number of days that this account has been active\n",
    "3- Area Code: the three-digit area code of the corresponding customer’s phone number\n",
    "4- Phone: the remaining seven-digit phone number\n",
    "5- Int’l Plan: whether the customer has an international calling plan: yes/no\n",
    "6- VMail Plan: whether the customer has a voice mail feature: yes/no\n",
    "7- VMail Message: presumably the average number of voice mail messages per month\n",
    "8- Day Mins: the total number of calling minutes used during the day\n",
    "9- Day Calls: the total number of calls placed during the day\n",
    "10- Day Charge: the billed cost of daytime calls\n",
    "11- Eve Mins: the total number of calling minutes used during the evening\n",
    "12- Eve Calls: the total number of calls placed during the evening\n",
    "13- Eve Charge: the billed cost of evening time calls\n",
    "14- Night Mins: the total number of calling minutes used during the night\n",
    "15- Night Calls: the total number of calls placed during the night\n",
    "16- Night Charge: the billed cost of nighttime calls\n",
    "17- Intl Mins: the total number of international minutes\n",
    "18- Intl Calls: the total number of international calls\n",
    "19- Intl Charge: the billed cost for international calls\n",
    "20- CustServ Calls: the number of calls placed to Customer Service\n",
    "21- Churn?: whether the customer left the service: true/false"
   ]
  },
  {
   "cell_type": "code",
   "execution_count": 40,
   "metadata": {
    "ExecuteTime": {
     "end_time": "2022-03-25T02:19:19.391546Z",
     "start_time": "2022-03-25T02:19:19.370135Z"
    },
    "scrolled": true
   },
   "outputs": [
    {
     "data": {
      "text/html": [
       "<div>\n",
       "<style scoped>\n",
       "    .dataframe tbody tr th:only-of-type {\n",
       "        vertical-align: middle;\n",
       "    }\n",
       "\n",
       "    .dataframe tbody tr th {\n",
       "        vertical-align: top;\n",
       "    }\n",
       "\n",
       "    .dataframe thead th {\n",
       "        text-align: right;\n",
       "    }\n",
       "</style>\n",
       "<table border=\"1\" class=\"dataframe\">\n",
       "  <thead>\n",
       "    <tr style=\"text-align: right;\">\n",
       "      <th></th>\n",
       "      <th>state</th>\n",
       "      <th>account length</th>\n",
       "      <th>area code</th>\n",
       "      <th>international plan</th>\n",
       "      <th>voice mail plan</th>\n",
       "      <th>number vmail messages</th>\n",
       "      <th>total day minutes</th>\n",
       "      <th>total day calls</th>\n",
       "      <th>total day charge</th>\n",
       "      <th>total eve minutes</th>\n",
       "      <th>total eve calls</th>\n",
       "      <th>total eve charge</th>\n",
       "      <th>total night minutes</th>\n",
       "      <th>total night calls</th>\n",
       "      <th>total night charge</th>\n",
       "      <th>total intl minutes</th>\n",
       "      <th>total intl calls</th>\n",
       "      <th>total intl charge</th>\n",
       "      <th>customer service calls</th>\n",
       "      <th>churn</th>\n",
       "    </tr>\n",
       "  </thead>\n",
       "  <tbody>\n",
       "    <tr>\n",
       "      <th>0</th>\n",
       "      <td>OR</td>\n",
       "      <td>157</td>\n",
       "      <td>510</td>\n",
       "      <td>no</td>\n",
       "      <td>yes</td>\n",
       "      <td>30</td>\n",
       "      <td>NaN</td>\n",
       "      <td>107</td>\n",
       "      <td>33.03</td>\n",
       "      <td>243.2</td>\n",
       "      <td>108</td>\n",
       "      <td>20.67</td>\n",
       "      <td>NaN</td>\n",
       "      <td>114</td>\n",
       "      <td>14.50</td>\n",
       "      <td>7.1</td>\n",
       "      <td>5</td>\n",
       "      <td>1.92</td>\n",
       "      <td>1.0</td>\n",
       "      <td>False</td>\n",
       "    </tr>\n",
       "    <tr>\n",
       "      <th>1</th>\n",
       "      <td>RI</td>\n",
       "      <td>111</td>\n",
       "      <td>415</td>\n",
       "      <td>no</td>\n",
       "      <td>no</td>\n",
       "      <td>0</td>\n",
       "      <td>NaN</td>\n",
       "      <td>107</td>\n",
       "      <td>39.00</td>\n",
       "      <td>214.1</td>\n",
       "      <td>99</td>\n",
       "      <td>18.20</td>\n",
       "      <td>289.6</td>\n",
       "      <td>95</td>\n",
       "      <td>13.03</td>\n",
       "      <td>10.4</td>\n",
       "      <td>6</td>\n",
       "      <td>2.81</td>\n",
       "      <td>4.0</td>\n",
       "      <td>False</td>\n",
       "    </tr>\n",
       "    <tr>\n",
       "      <th>2</th>\n",
       "      <td>IN</td>\n",
       "      <td>101</td>\n",
       "      <td>415</td>\n",
       "      <td>no</td>\n",
       "      <td>yes</td>\n",
       "      <td>42</td>\n",
       "      <td>209.2</td>\n",
       "      <td>82</td>\n",
       "      <td>35.56</td>\n",
       "      <td>159.7</td>\n",
       "      <td>74</td>\n",
       "      <td>13.57</td>\n",
       "      <td>181.6</td>\n",
       "      <td>100</td>\n",
       "      <td>8.17</td>\n",
       "      <td>9.5</td>\n",
       "      <td>3</td>\n",
       "      <td>NaN</td>\n",
       "      <td>0.0</td>\n",
       "      <td>False</td>\n",
       "    </tr>\n",
       "    <tr>\n",
       "      <th>3</th>\n",
       "      <td>MI</td>\n",
       "      <td>61</td>\n",
       "      <td>415</td>\n",
       "      <td>no</td>\n",
       "      <td>no</td>\n",
       "      <td>0</td>\n",
       "      <td>NaN</td>\n",
       "      <td>105</td>\n",
       "      <td>32.11</td>\n",
       "      <td>153.6</td>\n",
       "      <td>116</td>\n",
       "      <td>13.06</td>\n",
       "      <td>213.3</td>\n",
       "      <td>106</td>\n",
       "      <td>9.60</td>\n",
       "      <td>10.2</td>\n",
       "      <td>2</td>\n",
       "      <td>2.75</td>\n",
       "      <td>2.0</td>\n",
       "      <td>False</td>\n",
       "    </tr>\n",
       "    <tr>\n",
       "      <th>4</th>\n",
       "      <td>OK</td>\n",
       "      <td>89</td>\n",
       "      <td>510</td>\n",
       "      <td>no</td>\n",
       "      <td>no</td>\n",
       "      <td>0</td>\n",
       "      <td>NaN</td>\n",
       "      <td>95</td>\n",
       "      <td>51.66</td>\n",
       "      <td>260.9</td>\n",
       "      <td>114</td>\n",
       "      <td>22.18</td>\n",
       "      <td>312.1</td>\n",
       "      <td>89</td>\n",
       "      <td>14.04</td>\n",
       "      <td>5.3</td>\n",
       "      <td>3</td>\n",
       "      <td>1.43</td>\n",
       "      <td>1.0</td>\n",
       "      <td>True</td>\n",
       "    </tr>\n",
       "  </tbody>\n",
       "</table>\n",
       "</div>"
      ],
      "text/plain": [
       "  state  account length  area code international plan voice mail plan  \\\n",
       "0    OR             157        510                 no             yes   \n",
       "1    RI             111        415                 no              no   \n",
       "2    IN             101        415                 no             yes   \n",
       "3    MI              61        415                 no              no   \n",
       "4    OK              89        510                 no              no   \n",
       "\n",
       "   number vmail messages  total day minutes  total day calls  \\\n",
       "0                     30                NaN              107   \n",
       "1                      0                NaN              107   \n",
       "2                     42              209.2               82   \n",
       "3                      0                NaN              105   \n",
       "4                      0                NaN               95   \n",
       "\n",
       "   total day charge  total eve minutes  total eve calls  total eve charge  \\\n",
       "0             33.03              243.2              108             20.67   \n",
       "1             39.00              214.1               99             18.20   \n",
       "2             35.56              159.7               74             13.57   \n",
       "3             32.11              153.6              116             13.06   \n",
       "4             51.66              260.9              114             22.18   \n",
       "\n",
       "   total night minutes  total night calls  total night charge  \\\n",
       "0                  NaN                114               14.50   \n",
       "1                289.6                 95               13.03   \n",
       "2                181.6                100                8.17   \n",
       "3                213.3                106                9.60   \n",
       "4                312.1                 89               14.04   \n",
       "\n",
       "   total intl minutes  total intl calls  total intl charge  \\\n",
       "0                 7.1                 5               1.92   \n",
       "1                10.4                 6               2.81   \n",
       "2                 9.5                 3                NaN   \n",
       "3                10.2                 2               2.75   \n",
       "4                 5.3                 3               1.43   \n",
       "\n",
       "   customer service calls  churn  \n",
       "0                     1.0  False  \n",
       "1                     4.0  False  \n",
       "2                     0.0  False  \n",
       "3                     2.0  False  \n",
       "4                     1.0   True  "
      ]
     },
     "execution_count": 40,
     "metadata": {},
     "output_type": "execute_result"
    }
   ],
   "source": [
    "data.head()"
   ]
  },
  {
   "cell_type": "code",
   "execution_count": 41,
   "metadata": {
    "ExecuteTime": {
     "end_time": "2022-03-25T02:19:24.265837Z",
     "start_time": "2022-03-25T02:19:23.770883Z"
    },
    "scrolled": true
   },
   "outputs": [
    {
     "data": {
      "text/plain": [
       "<AxesSubplot:>"
      ]
     },
     "execution_count": 41,
     "metadata": {},
     "output_type": "execute_result"
    },
    {
     "data": {
      "image/png": "[encoded data removed]",
      "text/plain": [
       "<Figure size 1800x720 with 2 Axes>"
      ]
     },
     "metadata": {
      "needs_background": "light"
     },
     "output_type": "display_data"
    }
   ],
   "source": [
    "msno.matrix(data)"
   ]
  },
  {
   "cell_type": "code",
   "execution_count": 42,
   "metadata": {
    "ExecuteTime": {
     "end_time": "2022-03-25T02:19:41.167936Z",
     "start_time": "2022-03-25T02:19:41.161824Z"
    }
   },
   "outputs": [],
   "source": [
    "categoricas=['international plan','voice mail plan']\n",
    "continuas=['total day calls','total day charge', 'total eve minutes',\n",
    "       'total eve calls', 'total eve charge', 'total night minutes',\n",
    "       'total night calls', 'total night charge', 'total intl minutes',\n",
    "       'total intl calls', 'total intl charge', 'customer service calls']\n",
    "tgt=['churn']"
   ]
  },
  {
   "cell_type": "code",
   "execution_count": 43,
   "metadata": {
    "ExecuteTime": {
     "end_time": "2022-03-25T02:19:49.683320Z",
     "start_time": "2022-03-25T02:19:49.665926Z"
    }
   },
   "outputs": [],
   "source": [
    "X_train, X_test, y_train, y_test = train_test_split(data.drop(columns = tgt), data[tgt[0]],random_state=777)\n",
    "\n"
   ]
  },
  {
   "cell_type": "code",
   "execution_count": 44,
   "metadata": {
    "ExecuteTime": {
     "end_time": "2022-03-25T02:19:55.116009Z",
     "start_time": "2022-03-25T02:19:55.033905Z"
    }
   },
   "outputs": [
    {
     "data": {
      "text/html": [
       "<div>\n",
       "<style scoped>\n",
       "    .dataframe tbody tr th:only-of-type {\n",
       "        vertical-align: middle;\n",
       "    }\n",
       "\n",
       "    .dataframe tbody tr th {\n",
       "        vertical-align: top;\n",
       "    }\n",
       "\n",
       "    .dataframe thead th {\n",
       "        text-align: right;\n",
       "    }\n",
       "</style>\n",
       "<table border=\"1\" class=\"dataframe\">\n",
       "  <thead>\n",
       "    <tr style=\"text-align: right;\">\n",
       "      <th></th>\n",
       "      <th>total day calls</th>\n",
       "      <th>total day charge</th>\n",
       "      <th>total eve minutes</th>\n",
       "      <th>total eve calls</th>\n",
       "      <th>total eve charge</th>\n",
       "      <th>total night minutes</th>\n",
       "      <th>total night calls</th>\n",
       "      <th>total night charge</th>\n",
       "      <th>total intl minutes</th>\n",
       "      <th>total intl calls</th>\n",
       "      <th>total intl charge</th>\n",
       "      <th>customer service calls</th>\n",
       "    </tr>\n",
       "  </thead>\n",
       "  <tbody>\n",
       "    <tr>\n",
       "      <th>count</th>\n",
       "      <td>1874.000000</td>\n",
       "      <td>1874.000000</td>\n",
       "      <td>1874.000000</td>\n",
       "      <td>1874.000000</td>\n",
       "      <td>1874.000000</td>\n",
       "      <td>1291.000000</td>\n",
       "      <td>1874.000000</td>\n",
       "      <td>1874.000000</td>\n",
       "      <td>1874.000000</td>\n",
       "      <td>1874.000000</td>\n",
       "      <td>1590.000000</td>\n",
       "      <td>1873.000000</td>\n",
       "    </tr>\n",
       "    <tr>\n",
       "      <th>mean</th>\n",
       "      <td>100.749733</td>\n",
       "      <td>30.874797</td>\n",
       "      <td>202.866702</td>\n",
       "      <td>99.687300</td>\n",
       "      <td>17.243842</td>\n",
       "      <td>200.971340</td>\n",
       "      <td>100.048026</td>\n",
       "      <td>9.026185</td>\n",
       "      <td>10.222145</td>\n",
       "      <td>4.503202</td>\n",
       "      <td>2.775597</td>\n",
       "      <td>1.561666</td>\n",
       "    </tr>\n",
       "    <tr>\n",
       "      <th>std</th>\n",
       "      <td>20.202811</td>\n",
       "      <td>9.213671</td>\n",
       "      <td>50.542451</td>\n",
       "      <td>19.825867</td>\n",
       "      <td>4.296103</td>\n",
       "      <td>50.764011</td>\n",
       "      <td>19.796397</td>\n",
       "      <td>2.265367</td>\n",
       "      <td>2.801019</td>\n",
       "      <td>2.401112</td>\n",
       "      <td>0.752402</td>\n",
       "      <td>1.317033</td>\n",
       "    </tr>\n",
       "    <tr>\n",
       "      <th>min</th>\n",
       "      <td>0.000000</td>\n",
       "      <td>0.000000</td>\n",
       "      <td>0.000000</td>\n",
       "      <td>0.000000</td>\n",
       "      <td>0.000000</td>\n",
       "      <td>23.200000</td>\n",
       "      <td>33.000000</td>\n",
       "      <td>1.040000</td>\n",
       "      <td>0.000000</td>\n",
       "      <td>0.000000</td>\n",
       "      <td>0.000000</td>\n",
       "      <td>0.000000</td>\n",
       "    </tr>\n",
       "    <tr>\n",
       "      <th>10%</th>\n",
       "      <td>75.000000</td>\n",
       "      <td>19.070000</td>\n",
       "      <td>140.410000</td>\n",
       "      <td>74.000000</td>\n",
       "      <td>11.938000</td>\n",
       "      <td>139.200000</td>\n",
       "      <td>74.000000</td>\n",
       "      <td>6.230000</td>\n",
       "      <td>6.600000</td>\n",
       "      <td>2.000000</td>\n",
       "      <td>1.810000</td>\n",
       "      <td>0.000000</td>\n",
       "    </tr>\n",
       "    <tr>\n",
       "      <th>20%</th>\n",
       "      <td>84.000000</td>\n",
       "      <td>23.208000</td>\n",
       "      <td>159.660000</td>\n",
       "      <td>83.000000</td>\n",
       "      <td>13.570000</td>\n",
       "      <td>159.700000</td>\n",
       "      <td>83.000000</td>\n",
       "      <td>7.150000</td>\n",
       "      <td>7.900000</td>\n",
       "      <td>3.000000</td>\n",
       "      <td>2.160000</td>\n",
       "      <td>0.000000</td>\n",
       "    </tr>\n",
       "    <tr>\n",
       "      <th>30%</th>\n",
       "      <td>91.000000</td>\n",
       "      <td>26.130000</td>\n",
       "      <td>175.200000</td>\n",
       "      <td>89.000000</td>\n",
       "      <td>14.890000</td>\n",
       "      <td>173.100000</td>\n",
       "      <td>90.000000</td>\n",
       "      <td>7.829000</td>\n",
       "      <td>8.900000</td>\n",
       "      <td>3.000000</td>\n",
       "      <td>2.430000</td>\n",
       "      <td>1.000000</td>\n",
       "    </tr>\n",
       "    <tr>\n",
       "      <th>40%</th>\n",
       "      <td>96.000000</td>\n",
       "      <td>28.444000</td>\n",
       "      <td>189.720000</td>\n",
       "      <td>95.000000</td>\n",
       "      <td>16.122000</td>\n",
       "      <td>187.900000</td>\n",
       "      <td>95.000000</td>\n",
       "      <td>8.470000</td>\n",
       "      <td>9.700000</td>\n",
       "      <td>4.000000</td>\n",
       "      <td>2.620000</td>\n",
       "      <td>1.000000</td>\n",
       "    </tr>\n",
       "    <tr>\n",
       "      <th>50%</th>\n",
       "      <td>100.000000</td>\n",
       "      <td>30.700000</td>\n",
       "      <td>203.700000</td>\n",
       "      <td>100.000000</td>\n",
       "      <td>17.310000</td>\n",
       "      <td>200.400000</td>\n",
       "      <td>100.000000</td>\n",
       "      <td>9.045000</td>\n",
       "      <td>10.300000</td>\n",
       "      <td>4.000000</td>\n",
       "      <td>2.780000</td>\n",
       "      <td>1.000000</td>\n",
       "    </tr>\n",
       "    <tr>\n",
       "      <th>60%</th>\n",
       "      <td>106.000000</td>\n",
       "      <td>33.166000</td>\n",
       "      <td>214.960000</td>\n",
       "      <td>105.000000</td>\n",
       "      <td>18.276000</td>\n",
       "      <td>212.800000</td>\n",
       "      <td>105.000000</td>\n",
       "      <td>9.600000</td>\n",
       "      <td>11.000000</td>\n",
       "      <td>5.000000</td>\n",
       "      <td>2.970000</td>\n",
       "      <td>2.000000</td>\n",
       "    </tr>\n",
       "    <tr>\n",
       "      <th>70%</th>\n",
       "      <td>111.000000</td>\n",
       "      <td>35.702000</td>\n",
       "      <td>230.000000</td>\n",
       "      <td>110.000000</td>\n",
       "      <td>19.550000</td>\n",
       "      <td>226.300000</td>\n",
       "      <td>111.000000</td>\n",
       "      <td>10.200000</td>\n",
       "      <td>11.600000</td>\n",
       "      <td>5.000000</td>\n",
       "      <td>3.160000</td>\n",
       "      <td>2.000000</td>\n",
       "    </tr>\n",
       "    <tr>\n",
       "      <th>80%</th>\n",
       "      <td>117.000000</td>\n",
       "      <td>38.400000</td>\n",
       "      <td>246.440000</td>\n",
       "      <td>116.400000</td>\n",
       "      <td>20.944000</td>\n",
       "      <td>242.700000</td>\n",
       "      <td>117.000000</td>\n",
       "      <td>10.920000</td>\n",
       "      <td>12.500000</td>\n",
       "      <td>6.000000</td>\n",
       "      <td>3.400000</td>\n",
       "      <td>3.000000</td>\n",
       "    </tr>\n",
       "    <tr>\n",
       "      <th>90%</th>\n",
       "      <td>126.000000</td>\n",
       "      <td>42.840000</td>\n",
       "      <td>268.600000</td>\n",
       "      <td>125.000000</td>\n",
       "      <td>22.830000</td>\n",
       "      <td>264.000000</td>\n",
       "      <td>125.000000</td>\n",
       "      <td>11.820000</td>\n",
       "      <td>13.800000</td>\n",
       "      <td>8.000000</td>\n",
       "      <td>3.730000</td>\n",
       "      <td>3.000000</td>\n",
       "    </tr>\n",
       "    <tr>\n",
       "      <th>max</th>\n",
       "      <td>165.000000</td>\n",
       "      <td>59.640000</td>\n",
       "      <td>354.200000</td>\n",
       "      <td>159.000000</td>\n",
       "      <td>30.110000</td>\n",
       "      <td>395.000000</td>\n",
       "      <td>175.000000</td>\n",
       "      <td>17.770000</td>\n",
       "      <td>20.000000</td>\n",
       "      <td>18.000000</td>\n",
       "      <td>5.400000</td>\n",
       "      <td>9.000000</td>\n",
       "    </tr>\n",
       "  </tbody>\n",
       "</table>\n",
       "</div>"
      ],
      "text/plain": [
       "       total day calls  total day charge  total eve minutes  total eve calls  \\\n",
       "count      1874.000000       1874.000000        1874.000000      1874.000000   \n",
       "mean        100.749733         30.874797         202.866702        99.687300   \n",
       "std          20.202811          9.213671          50.542451        19.825867   \n",
       "min           0.000000          0.000000           0.000000         0.000000   \n",
       "10%          75.000000         19.070000         140.410000        74.000000   \n",
       "20%          84.000000         23.208000         159.660000        83.000000   \n",
       "30%          91.000000         26.130000         175.200000        89.000000   \n",
       "40%          96.000000         28.444000         189.720000        95.000000   \n",
       "50%         100.000000         30.700000         203.700000       100.000000   \n",
       "60%         106.000000         33.166000         214.960000       105.000000   \n",
       "70%         111.000000         35.702000         230.000000       110.000000   \n",
       "80%         117.000000         38.400000         246.440000       116.400000   \n",
       "90%         126.000000         42.840000         268.600000       125.000000   \n",
       "max         165.000000         59.640000         354.200000       159.000000   \n",
       "\n",
       "       total eve charge  total night minutes  total night calls  \\\n",
       "count       1874.000000          1291.000000        1874.000000   \n",
       "mean          17.243842           200.971340         100.048026   \n",
       "std            4.296103            50.764011          19.796397   \n",
       "min            0.000000            23.200000          33.000000   \n",
       "10%           11.938000           139.200000          74.000000   \n",
       "20%           13.570000           159.700000          83.000000   \n",
       "30%           14.890000           173.100000          90.000000   \n",
       "40%           16.122000           187.900000          95.000000   \n",
       "50%           17.310000           200.400000         100.000000   \n",
       "60%           18.276000           212.800000         105.000000   \n",
       "70%           19.550000           226.300000         111.000000   \n",
       "80%           20.944000           242.700000         117.000000   \n",
       "90%           22.830000           264.000000         125.000000   \n",
       "max           30.110000           395.000000         175.000000   \n",
       "\n",
       "       total night charge  total intl minutes  total intl calls  \\\n",
       "count         1874.000000         1874.000000       1874.000000   \n",
       "mean             9.026185           10.222145          4.503202   \n",
       "std              2.265367            2.801019          2.401112   \n",
       "min              1.040000            0.000000          0.000000   \n",
       "10%              6.230000            6.600000          2.000000   \n",
       "20%              7.150000            7.900000          3.000000   \n",
       "30%              7.829000            8.900000          3.000000   \n",
       "40%              8.470000            9.700000          4.000000   \n",
       "50%              9.045000           10.300000          4.000000   \n",
       "60%              9.600000           11.000000          5.000000   \n",
       "70%             10.200000           11.600000          5.000000   \n",
       "80%             10.920000           12.500000          6.000000   \n",
       "90%             11.820000           13.800000          8.000000   \n",
       "max             17.770000           20.000000         18.000000   \n",
       "\n",
       "       total intl charge  customer service calls  \n",
       "count        1590.000000             1873.000000  \n",
       "mean            2.775597                1.561666  \n",
       "std             0.752402                1.317033  \n",
       "min             0.000000                0.000000  \n",
       "10%             1.810000                0.000000  \n",
       "20%             2.160000                0.000000  \n",
       "30%             2.430000                1.000000  \n",
       "40%             2.620000                1.000000  \n",
       "50%             2.780000                1.000000  \n",
       "60%             2.970000                2.000000  \n",
       "70%             3.160000                2.000000  \n",
       "80%             3.400000                3.000000  \n",
       "90%             3.730000                3.000000  \n",
       "max             5.400000                9.000000  "
      ]
     },
     "execution_count": 44,
     "metadata": {},
     "output_type": "execute_result"
    }
   ],
   "source": [
    "X_train[continuas].describe(np.arange(.1,1,.1))"
   ]
  },
  {
   "cell_type": "code",
   "execution_count": 45,
   "metadata": {
    "ExecuteTime": {
     "end_time": "2022-03-25T02:20:00.168404Z",
     "start_time": "2022-03-25T02:19:59.326864Z"
    }
   },
   "outputs": [
    {
     "data": {
      "text/plain": [
       "<AxesSubplot:>"
      ]
     },
     "execution_count": 45,
     "metadata": {},
     "output_type": "execute_result"
    },
    {
     "data": {
      "image/png": "[encoded data removed]",
      "text/plain": [
       "<Figure size 1728x720 with 3 Axes>"
      ]
     },
     "metadata": {
      "needs_background": "light"
     },
     "output_type": "display_data"
    }
   ],
   "source": [
    "msno.bar(X_train)"
   ]
  },
  {
   "cell_type": "code",
   "execution_count": 46,
   "metadata": {
    "ExecuteTime": {
     "end_time": "2022-03-25T02:20:05.694176Z",
     "start_time": "2022-03-25T02:20:05.667515Z"
    }
   },
   "outputs": [
    {
     "data": {
      "text/plain": [
       "state                     0.000000\n",
       "account length            0.000000\n",
       "area code                 0.000000\n",
       "international plan        0.000000\n",
       "voice mail plan           0.000000\n",
       "number vmail messages     0.000000\n",
       "total day minutes         0.901814\n",
       "total day calls           0.000000\n",
       "total day charge          0.000000\n",
       "total eve minutes         0.000000\n",
       "total eve calls           0.000000\n",
       "total eve charge          0.000000\n",
       "total night minutes       0.311099\n",
       "total night calls         0.000000\n",
       "total night charge        0.000000\n",
       "total intl minutes        0.000000\n",
       "total intl calls          0.000000\n",
       "total intl charge         0.151547\n",
       "customer service calls    0.000534\n",
       "dtype: float64"
      ]
     },
     "execution_count": 46,
     "metadata": {},
     "output_type": "execute_result"
    }
   ],
   "source": [
    "X_train.isnull().sum()/X_train.shape[0]"
   ]
  },
  {
   "cell_type": "code",
   "execution_count": 47,
   "metadata": {
    "ExecuteTime": {
     "end_time": "2022-03-25T02:20:17.156626Z",
     "start_time": "2022-03-25T02:20:17.151841Z"
    }
   },
   "outputs": [],
   "source": [
    "X_train.drop(columns=['total day minutes'],inplace=True)"
   ]
  },
  {
   "cell_type": "code",
   "execution_count": 48,
   "metadata": {
    "ExecuteTime": {
     "end_time": "2022-03-25T02:20:39.903955Z",
     "start_time": "2022-03-25T02:20:39.861157Z"
    }
   },
   "outputs": [],
   "source": [
    "X_train['customer service calls']=X_train['customer service calls'].fillna(X_train['customer service calls'].median())\n",
    "X_test['customer service calls']=X_test['customer service calls'].fillna(X_train['customer service calls'].median())\n",
    "\n",
    "X_train['total intl charge']=X_train['total intl charge'].fillna(X_train['total intl charge'].median())\n",
    "X_test['total intl charge']=X_test['total intl charge'].fillna(X_train['total intl charge'].median())\n",
    "\n",
    "X_train['total night minutes']=X_train['total night minutes'].fillna(X_train['total night minutes'].median())\n",
    "X_test['total night minutes']=X_test['total night minutes'].fillna(X_train['total night minutes'].median())"
   ]
  },
  {
   "cell_type": "code",
   "execution_count": 49,
   "metadata": {
    "ExecuteTime": {
     "end_time": "2022-03-25T02:20:43.484534Z",
     "start_time": "2022-03-25T02:20:43.469945Z"
    }
   },
   "outputs": [
    {
     "data": {
      "text/plain": [
       "state                     0\n",
       "account length            0\n",
       "area code                 0\n",
       "international plan        0\n",
       "voice mail plan           0\n",
       "number vmail messages     0\n",
       "total day calls           0\n",
       "total day charge          0\n",
       "total eve minutes         0\n",
       "total eve calls           0\n",
       "total eve charge          0\n",
       "total night minutes       0\n",
       "total night calls         0\n",
       "total night charge        0\n",
       "total intl minutes        0\n",
       "total intl calls          0\n",
       "total intl charge         0\n",
       "customer service calls    0\n",
       "dtype: int64"
      ]
     },
     "execution_count": 49,
     "metadata": {},
     "output_type": "execute_result"
    }
   ],
   "source": [
    "X_train.isnull().sum()"
   ]
  },
  {
   "cell_type": "code",
   "execution_count": 50,
   "metadata": {
    "ExecuteTime": {
     "end_time": "2022-03-25T02:20:50.719191Z",
     "start_time": "2022-03-25T02:20:50.710840Z"
    }
   },
   "outputs": [],
   "source": [
    "from sklearn.tree import DecisionTreeClassifier"
   ]
  },
  {
   "cell_type": "code",
   "execution_count": 51,
   "metadata": {
    "ExecuteTime": {
     "end_time": "2022-03-25T02:21:42.630728Z",
     "start_time": "2022-03-25T02:21:42.590902Z"
    }
   },
   "outputs": [],
   "source": [
    "def binning_opt(df_, target,feature):\n",
    "    df = df_.copy()\n",
    "    dt = DecisionTreeClassifier(max_depth=11, min_samples_leaf=0.05, max_features=1)\n",
    "    X = df.loc[df[feature].notnull(), [feature]]\n",
    "    y = target.loc[df[feature].notnull()]\n",
    "    dt.fit(X, y)\n",
    "    new_feature = f\"Cop_{feature}\"\n",
    "    df.loc[df[feature].notnull(), new_feature] = dt.apply(X)\n",
    "    aux = df[[new_feature, feature]].groupby([new_feature]).agg([\"min\", \"max\", \"count\"])\n",
    "    aux.columns = aux.columns.droplevel(0)\n",
    "    aux[f\"bin_{feature}\"] = aux.apply(lambda x:f\"({x['min']}, {x['max']}]\", axis = 1)\n",
    "    aux[feature] = aux[f\"bin_{feature}\"]\n",
    "    df = df.merge(aux.reset_index()[[f\"bin_{feature}\", new_feature]], on = new_feature, how = \"left\")\n",
    "    df = df.drop(columns=[new_feature]).rename(columns={f\"bin_{feature}\": new_feature})\n",
    "    df[new_feature].fillna(\"Missing\", inplace=True)\n",
    "    df.index = df_.index\n",
    "    aux\n",
    "    return df[new_feature], dt, aux[feature].to_dict()"
   ]
  },
  {
   "cell_type": "code",
   "execution_count": 52,
   "metadata": {
    "ExecuteTime": {
     "end_time": "2022-03-25T02:21:57.335401Z",
     "start_time": "2022-03-25T02:21:57.289582Z"
    }
   },
   "outputs": [
    {
     "data": {
      "text/plain": [
       "{2: '(0, 69]',\n",
       " 4: '(70, 81]',\n",
       " 11: '(82, 85]',\n",
       " 12: '(86, 89]',\n",
       " 14: '(90, 94]',\n",
       " 16: '(95, 97]',\n",
       " 17: '(98, 100]',\n",
       " 18: '(101, 103]',\n",
       " 19: '(104, 107]',\n",
       " 22: '(108, 113]',\n",
       " 23: '(114, 117]',\n",
       " 24: '(118, 125]',\n",
       " 25: '(126, 133]',\n",
       " 26: '(134, 165]'}"
      ]
     },
     "execution_count": 52,
     "metadata": {},
     "output_type": "execute_result"
    }
   ],
   "source": [
    "binning_opt(X_train,y_train,continuas[0])[-1]"
   ]
  },
  {
   "cell_type": "code",
   "execution_count": 53,
   "metadata": {
    "ExecuteTime": {
     "end_time": "2022-03-25T02:22:14.317177Z",
     "start_time": "2022-03-25T02:22:14.264763Z"
    }
   },
   "outputs": [
    {
     "data": {
      "text/plain": [
       "(2288    (44.97, 59.64]\n",
       " 1539      (0.0, 15.78]\n",
       " 1459    (26.01, 27.68]\n",
       " 591      (38.0, 41.63]\n",
       " 1555     (31.84, 33.8]\n",
       "              ...      \n",
       " 985     (24.31, 25.99]\n",
       " 116     (24.31, 25.99]\n",
       " 1693    (22.39, 24.29]\n",
       " 2119    (44.97, 59.64]\n",
       " 2151    (30.11, 31.82]\n",
       " Name: Cop_total day charge, Length: 1874, dtype: object,\n",
       " DecisionTreeClassifier(max_depth=11, max_features=1, min_samples_leaf=0.05),\n",
       " {4: '(0.0, 15.78]',\n",
       "  8: '(15.86, 19.99]',\n",
       "  9: '(20.03, 22.37]',\n",
       "  11: '(22.39, 24.29]',\n",
       "  12: '(24.31, 25.99]',\n",
       "  13: '(26.01, 27.68]',\n",
       "  15: '(27.71, 30.07]',\n",
       "  17: '(30.11, 31.82]',\n",
       "  19: '(31.84, 33.8]',\n",
       "  21: '(33.83, 35.56]',\n",
       "  22: '(35.6, 37.94]',\n",
       "  24: '(38.0, 41.63]',\n",
       "  25: '(41.65, 44.95]',\n",
       "  26: '(44.97, 59.64]'})"
      ]
     },
     "execution_count": 53,
     "metadata": {},
     "output_type": "execute_result"
    }
   ],
   "source": [
    "binning_opt(X_train,y_train,continuas[1])\n"
   ]
  },
  {
   "cell_type": "code",
   "execution_count": 54,
   "metadata": {
    "ExecuteTime": {
     "end_time": "2022-03-25T02:23:23.087511Z",
     "start_time": "2022-03-25T02:23:22.738861Z"
    }
   },
   "outputs": [],
   "source": [
    "for feat in continuas:\n",
    "    new_feat = f\"Cop_{feat}\"\n",
    "    data_feat_transform,dt, interval_dict = binning_opt(X_train, y_train, feature=feat)\n",
    "    \n",
    "    X_train[new_feat] = data_feat_transform\n",
    "    X_test[new_feat] = dt.apply(X_test[[feat]])\n",
    "    X_test[new_feat] = X_test[new_feat].map(interval_dict)"
   ]
  },
  {
   "cell_type": "code",
   "execution_count": 55,
   "metadata": {
    "ExecuteTime": {
     "end_time": "2022-03-25T02:24:05.402153Z",
     "start_time": "2022-03-25T02:24:05.388237Z"
    }
   },
   "outputs": [],
   "source": [
    "def woe_generator(df_,y_train,f):\n",
    "    df = df_.copy()\n",
    "    \n",
    "    df[\"target\"] = y_train \n",
    "    \n",
    "    aux = df[[f,\"target\"]].copy()\n",
    "    aux['n'] = 1\n",
    "\n",
    "    aux = aux.pivot_table(columns=\"target\",\n",
    "                          index=f,\n",
    "                          values='n',\n",
    "                          aggfunc='count',\n",
    "                          fill_value=0)\n",
    "\n",
    "    aux['pne'] = aux[0]/aux[0].sum()\n",
    "    aux['pe'] = aux[1]/aux[1].sum()\n",
    "\n",
    "    aux['woe'] = np.log(aux['pne']/aux['pe'])\n",
    "\n",
    "    aux['iv'] = aux['woe']*(aux['pne']-aux['pe'])\n",
    "    return aux"
   ]
  },
  {
   "cell_type": "code",
   "execution_count": 56,
   "metadata": {
    "ExecuteTime": {
     "end_time": "2022-03-25T02:24:06.178379Z",
     "start_time": "2022-03-25T02:24:06.174911Z"
    }
   },
   "outputs": [],
   "source": [
    "def iv(target,df_,var):\n",
    "    df = df_.copy()\n",
    "    iv_dict = {}\n",
    "    for f in var:\n",
    "        aux=woe_generator(df,target,f)\n",
    "\n",
    "        iv_dict[f]=aux['iv'].sum()\n",
    "      \n",
    "    return iv_dict"
   ]
  },
  {
   "cell_type": "code",
   "execution_count": 57,
   "metadata": {
    "ExecuteTime": {
     "end_time": "2022-03-25T02:24:19.097358Z",
     "start_time": "2022-03-25T02:24:19.033496Z"
    },
    "scrolled": true
   },
   "outputs": [
    {
     "data": {
      "text/html": [
       "<div>\n",
       "<style scoped>\n",
       "    .dataframe tbody tr th:only-of-type {\n",
       "        vertical-align: middle;\n",
       "    }\n",
       "\n",
       "    .dataframe tbody tr th {\n",
       "        vertical-align: top;\n",
       "    }\n",
       "\n",
       "    .dataframe thead th {\n",
       "        text-align: right;\n",
       "    }\n",
       "</style>\n",
       "<table border=\"1\" class=\"dataframe\">\n",
       "  <thead>\n",
       "    <tr style=\"text-align: right;\">\n",
       "      <th></th>\n",
       "      <th>state</th>\n",
       "      <th>account length</th>\n",
       "      <th>area code</th>\n",
       "      <th>international plan</th>\n",
       "      <th>voice mail plan</th>\n",
       "      <th>number vmail messages</th>\n",
       "      <th>total day calls</th>\n",
       "      <th>total day charge</th>\n",
       "      <th>total eve minutes</th>\n",
       "      <th>total eve calls</th>\n",
       "      <th>total eve charge</th>\n",
       "      <th>total night minutes</th>\n",
       "      <th>total night calls</th>\n",
       "      <th>total night charge</th>\n",
       "      <th>total intl minutes</th>\n",
       "      <th>total intl calls</th>\n",
       "      <th>total intl charge</th>\n",
       "      <th>customer service calls</th>\n",
       "      <th>Cop_total day calls</th>\n",
       "      <th>Cop_total day charge</th>\n",
       "      <th>Cop_total eve minutes</th>\n",
       "      <th>Cop_total eve calls</th>\n",
       "      <th>Cop_total eve charge</th>\n",
       "      <th>Cop_total night minutes</th>\n",
       "      <th>Cop_total night calls</th>\n",
       "      <th>Cop_total night charge</th>\n",
       "      <th>Cop_total intl minutes</th>\n",
       "      <th>Cop_total intl calls</th>\n",
       "      <th>Cop_total intl charge</th>\n",
       "      <th>Cop_customer service calls</th>\n",
       "    </tr>\n",
       "  </thead>\n",
       "  <tbody>\n",
       "    <tr>\n",
       "      <th>2288</th>\n",
       "      <td>ID</td>\n",
       "      <td>106</td>\n",
       "      <td>510</td>\n",
       "      <td>no</td>\n",
       "      <td>no</td>\n",
       "      <td>0</td>\n",
       "      <td>120</td>\n",
       "      <td>46.65</td>\n",
       "      <td>198.6</td>\n",
       "      <td>82</td>\n",
       "      <td>16.88</td>\n",
       "      <td>200.4</td>\n",
       "      <td>62</td>\n",
       "      <td>7.24</td>\n",
       "      <td>6.0</td>\n",
       "      <td>3</td>\n",
       "      <td>2.78</td>\n",
       "      <td>1.0</td>\n",
       "      <td>(118, 125]</td>\n",
       "      <td>(44.97, 59.64]</td>\n",
       "      <td>(197.5, 207.2]</td>\n",
       "      <td>(80, 86]</td>\n",
       "      <td>(16.79, 17.61]</td>\n",
       "      <td>(193.4, 207.0]</td>\n",
       "      <td>(33, 73]</td>\n",
       "      <td>(7.23, 7.59]</td>\n",
       "      <td>(0.0, 6.4]</td>\n",
       "      <td>(3, 3]</td>\n",
       "      <td>(2.73, 2.84]</td>\n",
       "      <td>(1.0, 1.0]</td>\n",
       "    </tr>\n",
       "    <tr>\n",
       "      <th>1539</th>\n",
       "      <td>ID</td>\n",
       "      <td>103</td>\n",
       "      <td>415</td>\n",
       "      <td>no</td>\n",
       "      <td>no</td>\n",
       "      <td>0</td>\n",
       "      <td>134</td>\n",
       "      <td>12.05</td>\n",
       "      <td>134.5</td>\n",
       "      <td>112</td>\n",
       "      <td>11.43</td>\n",
       "      <td>168.8</td>\n",
       "      <td>164</td>\n",
       "      <td>7.60</td>\n",
       "      <td>12.0</td>\n",
       "      <td>6</td>\n",
       "      <td>3.24</td>\n",
       "      <td>2.0</td>\n",
       "      <td>(134, 165]</td>\n",
       "      <td>(0.0, 15.78]</td>\n",
       "      <td>(0.0, 134.5]</td>\n",
       "      <td>(110, 112]</td>\n",
       "      <td>(0.0, 11.43]</td>\n",
       "      <td>(166.7, 178.1]</td>\n",
       "      <td>(128, 175]</td>\n",
       "      <td>(7.6, 8.17]</td>\n",
       "      <td>(11.6, 12.0]</td>\n",
       "      <td>(6, 6]</td>\n",
       "      <td>(3.05, 3.24]</td>\n",
       "      <td>(2.0, 2.0]</td>\n",
       "    </tr>\n",
       "    <tr>\n",
       "      <th>1459</th>\n",
       "      <td>MA</td>\n",
       "      <td>17</td>\n",
       "      <td>415</td>\n",
       "      <td>yes</td>\n",
       "      <td>no</td>\n",
       "      <td>0</td>\n",
       "      <td>118</td>\n",
       "      <td>27.68</td>\n",
       "      <td>229.6</td>\n",
       "      <td>91</td>\n",
       "      <td>19.52</td>\n",
       "      <td>332.7</td>\n",
       "      <td>94</td>\n",
       "      <td>14.97</td>\n",
       "      <td>13.6</td>\n",
       "      <td>3</td>\n",
       "      <td>3.67</td>\n",
       "      <td>0.0</td>\n",
       "      <td>(118, 125]</td>\n",
       "      <td>(26.01, 27.68]</td>\n",
       "      <td>(226.1, 233.8]</td>\n",
       "      <td>(90, 93]</td>\n",
       "      <td>(19.22, 19.87]</td>\n",
       "      <td>(270.6, 395.0]</td>\n",
       "      <td>(90, 94]</td>\n",
       "      <td>(12.24, 17.77]</td>\n",
       "      <td>(13.2, 14.5]</td>\n",
       "      <td>(3, 3]</td>\n",
       "      <td>(3.56, 3.86]</td>\n",
       "      <td>(0.0, 0.0]</td>\n",
       "    </tr>\n",
       "    <tr>\n",
       "      <th>591</th>\n",
       "      <td>WI</td>\n",
       "      <td>100</td>\n",
       "      <td>510</td>\n",
       "      <td>no</td>\n",
       "      <td>yes</td>\n",
       "      <td>38</td>\n",
       "      <td>121</td>\n",
       "      <td>38.20</td>\n",
       "      <td>294.0</td>\n",
       "      <td>131</td>\n",
       "      <td>24.99</td>\n",
       "      <td>290.0</td>\n",
       "      <td>61</td>\n",
       "      <td>13.05</td>\n",
       "      <td>9.8</td>\n",
       "      <td>6</td>\n",
       "      <td>2.78</td>\n",
       "      <td>0.0</td>\n",
       "      <td>(118, 125]</td>\n",
       "      <td>(38.0, 41.63]</td>\n",
       "      <td>(275.5, 354.2]</td>\n",
       "      <td>(131, 159]</td>\n",
       "      <td>(23.42, 30.11]</td>\n",
       "      <td>(270.6, 395.0]</td>\n",
       "      <td>(33, 73]</td>\n",
       "      <td>(12.24, 17.77]</td>\n",
       "      <td>(9.7, 10.0]</td>\n",
       "      <td>(6, 6]</td>\n",
       "      <td>(2.73, 2.84]</td>\n",
       "      <td>(0.0, 0.0]</td>\n",
       "    </tr>\n",
       "    <tr>\n",
       "      <th>1555</th>\n",
       "      <td>MI</td>\n",
       "      <td>101</td>\n",
       "      <td>510</td>\n",
       "      <td>no</td>\n",
       "      <td>no</td>\n",
       "      <td>0</td>\n",
       "      <td>72</td>\n",
       "      <td>32.42</td>\n",
       "      <td>208.6</td>\n",
       "      <td>103</td>\n",
       "      <td>17.73</td>\n",
       "      <td>200.4</td>\n",
       "      <td>111</td>\n",
       "      <td>9.17</td>\n",
       "      <td>8.8</td>\n",
       "      <td>8</td>\n",
       "      <td>2.38</td>\n",
       "      <td>1.0</td>\n",
       "      <td>(70, 81]</td>\n",
       "      <td>(31.84, 33.8]</td>\n",
       "      <td>(207.4, 216.5]</td>\n",
       "      <td>(102, 105]</td>\n",
       "      <td>(17.63, 18.4]</td>\n",
       "      <td>(193.4, 207.0]</td>\n",
       "      <td>(111, 114]</td>\n",
       "      <td>(8.72, 9.31]</td>\n",
       "      <td>(8.5, 8.9]</td>\n",
       "      <td>(7, 8]</td>\n",
       "      <td>(2.21, 2.38]</td>\n",
       "      <td>(1.0, 1.0]</td>\n",
       "    </tr>\n",
       "    <tr>\n",
       "      <th>...</th>\n",
       "      <td>...</td>\n",
       "      <td>...</td>\n",
       "      <td>...</td>\n",
       "      <td>...</td>\n",
       "      <td>...</td>\n",
       "      <td>...</td>\n",
       "      <td>...</td>\n",
       "      <td>...</td>\n",
       "      <td>...</td>\n",
       "      <td>...</td>\n",
       "      <td>...</td>\n",
       "      <td>...</td>\n",
       "      <td>...</td>\n",
       "      <td>...</td>\n",
       "      <td>...</td>\n",
       "      <td>...</td>\n",
       "      <td>...</td>\n",
       "      <td>...</td>\n",
       "      <td>...</td>\n",
       "      <td>...</td>\n",
       "      <td>...</td>\n",
       "      <td>...</td>\n",
       "      <td>...</td>\n",
       "      <td>...</td>\n",
       "      <td>...</td>\n",
       "      <td>...</td>\n",
       "      <td>...</td>\n",
       "      <td>...</td>\n",
       "      <td>...</td>\n",
       "      <td>...</td>\n",
       "    </tr>\n",
       "    <tr>\n",
       "      <th>985</th>\n",
       "      <td>WI</td>\n",
       "      <td>63</td>\n",
       "      <td>510</td>\n",
       "      <td>no</td>\n",
       "      <td>yes</td>\n",
       "      <td>34</td>\n",
       "      <td>119</td>\n",
       "      <td>25.87</td>\n",
       "      <td>227.1</td>\n",
       "      <td>91</td>\n",
       "      <td>19.30</td>\n",
       "      <td>200.4</td>\n",
       "      <td>103</td>\n",
       "      <td>8.81</td>\n",
       "      <td>12.3</td>\n",
       "      <td>5</td>\n",
       "      <td>2.78</td>\n",
       "      <td>1.0</td>\n",
       "      <td>(118, 125]</td>\n",
       "      <td>(24.31, 25.99]</td>\n",
       "      <td>(226.1, 233.8]</td>\n",
       "      <td>(90, 93]</td>\n",
       "      <td>(19.22, 19.87]</td>\n",
       "      <td>(193.4, 207.0]</td>\n",
       "      <td>(103, 105]</td>\n",
       "      <td>(8.72, 9.31]</td>\n",
       "      <td>(12.1, 12.5]</td>\n",
       "      <td>(5, 5]</td>\n",
       "      <td>(2.73, 2.84]</td>\n",
       "      <td>(1.0, 1.0]</td>\n",
       "    </tr>\n",
       "    <tr>\n",
       "      <th>116</th>\n",
       "      <td>OH</td>\n",
       "      <td>93</td>\n",
       "      <td>415</td>\n",
       "      <td>no</td>\n",
       "      <td>yes</td>\n",
       "      <td>42</td>\n",
       "      <td>90</td>\n",
       "      <td>25.89</td>\n",
       "      <td>267.5</td>\n",
       "      <td>102</td>\n",
       "      <td>22.74</td>\n",
       "      <td>266.9</td>\n",
       "      <td>130</td>\n",
       "      <td>12.01</td>\n",
       "      <td>11.3</td>\n",
       "      <td>5</td>\n",
       "      <td>3.05</td>\n",
       "      <td>7.0</td>\n",
       "      <td>(90, 94]</td>\n",
       "      <td>(24.31, 25.99]</td>\n",
       "      <td>(258.1, 275.4]</td>\n",
       "      <td>(102, 105]</td>\n",
       "      <td>(21.94, 23.41]</td>\n",
       "      <td>(253.6, 270.2]</td>\n",
       "      <td>(128, 175]</td>\n",
       "      <td>(11.33, 12.23]</td>\n",
       "      <td>(10.9, 11.5]</td>\n",
       "      <td>(5, 5]</td>\n",
       "      <td>(3.05, 3.24]</td>\n",
       "      <td>(4.0, 9.0]</td>\n",
       "    </tr>\n",
       "    <tr>\n",
       "      <th>1693</th>\n",
       "      <td>MA</td>\n",
       "      <td>120</td>\n",
       "      <td>415</td>\n",
       "      <td>no</td>\n",
       "      <td>no</td>\n",
       "      <td>0</td>\n",
       "      <td>100</td>\n",
       "      <td>23.34</td>\n",
       "      <td>212.2</td>\n",
       "      <td>129</td>\n",
       "      <td>18.04</td>\n",
       "      <td>152.7</td>\n",
       "      <td>92</td>\n",
       "      <td>6.87</td>\n",
       "      <td>10.5</td>\n",
       "      <td>2</td>\n",
       "      <td>2.84</td>\n",
       "      <td>1.0</td>\n",
       "      <td>(98, 100]</td>\n",
       "      <td>(22.39, 24.29]</td>\n",
       "      <td>(207.4, 216.5]</td>\n",
       "      <td>(123, 130]</td>\n",
       "      <td>(17.63, 18.4]</td>\n",
       "      <td>(146.2, 166.4]</td>\n",
       "      <td>(90, 94]</td>\n",
       "      <td>(6.67, 7.22]</td>\n",
       "      <td>(10.5, 10.8]</td>\n",
       "      <td>(2, 2]</td>\n",
       "      <td>(2.73, 2.84]</td>\n",
       "      <td>(1.0, 1.0]</td>\n",
       "    </tr>\n",
       "    <tr>\n",
       "      <th>2119</th>\n",
       "      <td>KS</td>\n",
       "      <td>105</td>\n",
       "      <td>415</td>\n",
       "      <td>yes</td>\n",
       "      <td>no</td>\n",
       "      <td>0</td>\n",
       "      <td>119</td>\n",
       "      <td>46.56</td>\n",
       "      <td>278.6</td>\n",
       "      <td>103</td>\n",
       "      <td>23.68</td>\n",
       "      <td>255.3</td>\n",
       "      <td>90</td>\n",
       "      <td>11.49</td>\n",
       "      <td>10.9</td>\n",
       "      <td>7</td>\n",
       "      <td>2.78</td>\n",
       "      <td>1.0</td>\n",
       "      <td>(118, 125]</td>\n",
       "      <td>(44.97, 59.64]</td>\n",
       "      <td>(275.5, 354.2]</td>\n",
       "      <td>(102, 105]</td>\n",
       "      <td>(23.42, 30.11]</td>\n",
       "      <td>(253.6, 270.2]</td>\n",
       "      <td>(90, 94]</td>\n",
       "      <td>(11.33, 12.23]</td>\n",
       "      <td>(10.9, 11.5]</td>\n",
       "      <td>(7, 8]</td>\n",
       "      <td>(2.73, 2.84]</td>\n",
       "      <td>(1.0, 1.0]</td>\n",
       "    </tr>\n",
       "    <tr>\n",
       "      <th>2151</th>\n",
       "      <td>KS</td>\n",
       "      <td>159</td>\n",
       "      <td>415</td>\n",
       "      <td>no</td>\n",
       "      <td>yes</td>\n",
       "      <td>19</td>\n",
       "      <td>78</td>\n",
       "      <td>31.30</td>\n",
       "      <td>194.5</td>\n",
       "      <td>71</td>\n",
       "      <td>16.53</td>\n",
       "      <td>225.6</td>\n",
       "      <td>101</td>\n",
       "      <td>10.15</td>\n",
       "      <td>16.9</td>\n",
       "      <td>3</td>\n",
       "      <td>2.78</td>\n",
       "      <td>0.0</td>\n",
       "      <td>(70, 81]</td>\n",
       "      <td>(30.11, 31.82]</td>\n",
       "      <td>(191.0, 197.4]</td>\n",
       "      <td>(67, 74]</td>\n",
       "      <td>(16.24, 16.78]</td>\n",
       "      <td>(214.6, 226.4]</td>\n",
       "      <td>(100, 102]</td>\n",
       "      <td>(9.65, 10.22]</td>\n",
       "      <td>(14.6, 20.0]</td>\n",
       "      <td>(3, 3]</td>\n",
       "      <td>(2.73, 2.84]</td>\n",
       "      <td>(0.0, 0.0]</td>\n",
       "    </tr>\n",
       "  </tbody>\n",
       "</table>\n",
       "<p>1874 rows × 30 columns</p>\n",
       "</div>"
      ],
      "text/plain": [
       "     state  account length  area code international plan voice mail plan  \\\n",
       "2288    ID             106        510                 no              no   \n",
       "1539    ID             103        415                 no              no   \n",
       "1459    MA              17        415                yes              no   \n",
       "591     WI             100        510                 no             yes   \n",
       "1555    MI             101        510                 no              no   \n",
       "...    ...             ...        ...                ...             ...   \n",
       "985     WI              63        510                 no             yes   \n",
       "116     OH              93        415                 no             yes   \n",
       "1693    MA             120        415                 no              no   \n",
       "2119    KS             105        415                yes              no   \n",
       "2151    KS             159        415                 no             yes   \n",
       "\n",
       "      number vmail messages  total day calls  total day charge  \\\n",
       "2288                      0              120             46.65   \n",
       "1539                      0              134             12.05   \n",
       "1459                      0              118             27.68   \n",
       "591                      38              121             38.20   \n",
       "1555                      0               72             32.42   \n",
       "...                     ...              ...               ...   \n",
       "985                      34              119             25.87   \n",
       "116                      42               90             25.89   \n",
       "1693                      0              100             23.34   \n",
       "2119                      0              119             46.56   \n",
       "2151                     19               78             31.30   \n",
       "\n",
       "      total eve minutes  total eve calls  total eve charge  \\\n",
       "2288              198.6               82             16.88   \n",
       "1539              134.5              112             11.43   \n",
       "1459              229.6               91             19.52   \n",
       "591               294.0              131             24.99   \n",
       "1555              208.6              103             17.73   \n",
       "...                 ...              ...               ...   \n",
       "985               227.1               91             19.30   \n",
       "116               267.5              102             22.74   \n",
       "1693              212.2              129             18.04   \n",
       "2119              278.6              103             23.68   \n",
       "2151              194.5               71             16.53   \n",
       "\n",
       "      total night minutes  total night calls  total night charge  \\\n",
       "2288                200.4                 62                7.24   \n",
       "1539                168.8                164                7.60   \n",
       "1459                332.7                 94               14.97   \n",
       "591                 290.0                 61               13.05   \n",
       "1555                200.4                111                9.17   \n",
       "...                   ...                ...                 ...   \n",
       "985                 200.4                103                8.81   \n",
       "116                 266.9                130               12.01   \n",
       "1693                152.7                 92                6.87   \n",
       "2119                255.3                 90               11.49   \n",
       "2151                225.6                101               10.15   \n",
       "\n",
       "      total intl minutes  total intl calls  total intl charge  \\\n",
       "2288                 6.0                 3               2.78   \n",
       "1539                12.0                 6               3.24   \n",
       "1459                13.6                 3               3.67   \n",
       "591                  9.8                 6               2.78   \n",
       "1555                 8.8                 8               2.38   \n",
       "...                  ...               ...                ...   \n",
       "985                 12.3                 5               2.78   \n",
       "116                 11.3                 5               3.05   \n",
       "1693                10.5                 2               2.84   \n",
       "2119                10.9                 7               2.78   \n",
       "2151                16.9                 3               2.78   \n",
       "\n",
       "      customer service calls Cop_total day calls Cop_total day charge  \\\n",
       "2288                     1.0          (118, 125]       (44.97, 59.64]   \n",
       "1539                     2.0          (134, 165]         (0.0, 15.78]   \n",
       "1459                     0.0          (118, 125]       (26.01, 27.68]   \n",
       "591                      0.0          (118, 125]        (38.0, 41.63]   \n",
       "1555                     1.0            (70, 81]        (31.84, 33.8]   \n",
       "...                      ...                 ...                  ...   \n",
       "985                      1.0          (118, 125]       (24.31, 25.99]   \n",
       "116                      7.0            (90, 94]       (24.31, 25.99]   \n",
       "1693                     1.0           (98, 100]       (22.39, 24.29]   \n",
       "2119                     1.0          (118, 125]       (44.97, 59.64]   \n",
       "2151                     0.0            (70, 81]       (30.11, 31.82]   \n",
       "\n",
       "     Cop_total eve minutes Cop_total eve calls Cop_total eve charge  \\\n",
       "2288        (197.5, 207.2]            (80, 86]       (16.79, 17.61]   \n",
       "1539          (0.0, 134.5]          (110, 112]         (0.0, 11.43]   \n",
       "1459        (226.1, 233.8]            (90, 93]       (19.22, 19.87]   \n",
       "591         (275.5, 354.2]          (131, 159]       (23.42, 30.11]   \n",
       "1555        (207.4, 216.5]          (102, 105]        (17.63, 18.4]   \n",
       "...                    ...                 ...                  ...   \n",
       "985         (226.1, 233.8]            (90, 93]       (19.22, 19.87]   \n",
       "116         (258.1, 275.4]          (102, 105]       (21.94, 23.41]   \n",
       "1693        (207.4, 216.5]          (123, 130]        (17.63, 18.4]   \n",
       "2119        (275.5, 354.2]          (102, 105]       (23.42, 30.11]   \n",
       "2151        (191.0, 197.4]            (67, 74]       (16.24, 16.78]   \n",
       "\n",
       "     Cop_total night minutes Cop_total night calls Cop_total night charge  \\\n",
       "2288          (193.4, 207.0]              (33, 73]           (7.23, 7.59]   \n",
       "1539          (166.7, 178.1]            (128, 175]            (7.6, 8.17]   \n",
       "1459          (270.6, 395.0]              (90, 94]         (12.24, 17.77]   \n",
       "591           (270.6, 395.0]              (33, 73]         (12.24, 17.77]   \n",
       "1555          (193.4, 207.0]            (111, 114]           (8.72, 9.31]   \n",
       "...                      ...                   ...                    ...   \n",
       "985           (193.4, 207.0]            (103, 105]           (8.72, 9.31]   \n",
       "116           (253.6, 270.2]            (128, 175]         (11.33, 12.23]   \n",
       "1693          (146.2, 166.4]              (90, 94]           (6.67, 7.22]   \n",
       "2119          (253.6, 270.2]              (90, 94]         (11.33, 12.23]   \n",
       "2151          (214.6, 226.4]            (100, 102]          (9.65, 10.22]   \n",
       "\n",
       "     Cop_total intl minutes Cop_total intl calls Cop_total intl charge  \\\n",
       "2288             (0.0, 6.4]               (3, 3]          (2.73, 2.84]   \n",
       "1539           (11.6, 12.0]               (6, 6]          (3.05, 3.24]   \n",
       "1459           (13.2, 14.5]               (3, 3]          (3.56, 3.86]   \n",
       "591             (9.7, 10.0]               (6, 6]          (2.73, 2.84]   \n",
       "1555             (8.5, 8.9]               (7, 8]          (2.21, 2.38]   \n",
       "...                     ...                  ...                   ...   \n",
       "985            (12.1, 12.5]               (5, 5]          (2.73, 2.84]   \n",
       "116            (10.9, 11.5]               (5, 5]          (3.05, 3.24]   \n",
       "1693           (10.5, 10.8]               (2, 2]          (2.73, 2.84]   \n",
       "2119           (10.9, 11.5]               (7, 8]          (2.73, 2.84]   \n",
       "2151           (14.6, 20.0]               (3, 3]          (2.73, 2.84]   \n",
       "\n",
       "     Cop_customer service calls  \n",
       "2288                 (1.0, 1.0]  \n",
       "1539                 (2.0, 2.0]  \n",
       "1459                 (0.0, 0.0]  \n",
       "591                  (0.0, 0.0]  \n",
       "1555                 (1.0, 1.0]  \n",
       "...                         ...  \n",
       "985                  (1.0, 1.0]  \n",
       "116                  (4.0, 9.0]  \n",
       "1693                 (1.0, 1.0]  \n",
       "2119                 (1.0, 1.0]  \n",
       "2151                 (0.0, 0.0]  \n",
       "\n",
       "[1874 rows x 30 columns]"
      ]
     },
     "execution_count": 57,
     "metadata": {},
     "output_type": "execute_result"
    }
   ],
   "source": [
    "X_train"
   ]
  },
  {
   "cell_type": "code",
   "execution_count": 58,
   "metadata": {
    "ExecuteTime": {
     "end_time": "2022-03-25T02:24:54.339978Z",
     "start_time": "2022-03-25T02:24:54.321153Z"
    }
   },
   "outputs": [
    {
     "data": {
      "text/plain": [
       "['Cop_total day calls',\n",
       " 'Cop_total day charge',\n",
       " 'Cop_total eve minutes',\n",
       " 'Cop_total eve calls',\n",
       " 'Cop_total eve charge',\n",
       " 'Cop_total night minutes',\n",
       " 'Cop_total night calls',\n",
       " 'Cop_total night charge',\n",
       " 'Cop_total intl minutes',\n",
       " 'Cop_total intl calls',\n",
       " 'Cop_total intl charge',\n",
       " 'Cop_customer service calls']"
      ]
     },
     "execution_count": 58,
     "metadata": {},
     "output_type": "execute_result"
    }
   ],
   "source": [
    "vars_cop=[x for x in X_train.columns if x.startswith('Cop')]\n",
    "vars_cop"
   ]
  },
  {
   "cell_type": "code",
   "execution_count": 59,
   "metadata": {
    "ExecuteTime": {
     "end_time": "2022-03-25T02:24:59.213007Z",
     "start_time": "2022-03-25T02:24:59.190770Z"
    }
   },
   "outputs": [
    {
     "data": {
      "text/plain": [
       "['churn']"
      ]
     },
     "execution_count": 59,
     "metadata": {},
     "output_type": "execute_result"
    }
   ],
   "source": [
    "tgt"
   ]
  },
  {
   "cell_type": "code",
   "execution_count": 60,
   "metadata": {
    "ExecuteTime": {
     "end_time": "2022-03-25T02:25:06.500232Z",
     "start_time": "2022-03-25T02:25:06.276490Z"
    }
   },
   "outputs": [
    {
     "data": {
      "text/plain": [
       "{'Cop_total day calls': 0.12268041166115469,\n",
       " 'Cop_total day charge': 0.9323421034629509,\n",
       " 'Cop_total eve minutes': 0.3253553677114607,\n",
       " 'Cop_total eve calls': 0.07068399520334263,\n",
       " 'Cop_total eve charge': 0.3253553677114607,\n",
       " 'Cop_total night minutes': 0.11981549406084675,\n",
       " 'Cop_total night calls': 0.13871875313961002,\n",
       " 'Cop_total night charge': 0.16109483400106148,\n",
       " 'Cop_total intl minutes': 0.17299573864731388,\n",
       " 'Cop_total intl calls': 0.07661418930372768,\n",
       " 'Cop_total intl charge': 0.10682763634071205,\n",
       " 'Cop_customer service calls': 0.6263613172169765,\n",
       " 'international plan': 0.4020631686088094,\n",
       " 'voice mail plan': 0.09985228049521232}"
      ]
     },
     "execution_count": 60,
     "metadata": {},
     "output_type": "execute_result"
    }
   ],
   "source": [
    "iv(target=y_train,df_=X_train,var=vars_cop+categoricas)"
   ]
  },
  {
   "cell_type": "code",
   "execution_count": 61,
   "metadata": {
    "ExecuteTime": {
     "end_time": "2022-03-25T02:25:30.091462Z",
     "start_time": "2022-03-25T02:25:30.056788Z"
    }
   },
   "outputs": [],
   "source": [
    "woe_dict=woe_generator(X_train,y_train,'Cop_total day charge')['woe'].to_dict()"
   ]
  },
  {
   "cell_type": "code",
   "execution_count": 62,
   "metadata": {
    "ExecuteTime": {
     "end_time": "2022-03-25T02:25:30.998701Z",
     "start_time": "2022-03-25T02:25:30.984511Z"
    }
   },
   "outputs": [
    {
     "data": {
      "text/plain": [
       "{'(0.0, 15.78]': -0.36197050620643295,\n",
       " '(15.86, 19.99]': 0.3708551581716888,\n",
       " '(20.03, 22.37]': -0.2815859766187837,\n",
       " '(22.39, 24.29]': 0.9537991985980196,\n",
       " '(24.31, 25.99]': 0.40051136775457674,\n",
       " '(26.01, 27.68]': -0.05832950113303495,\n",
       " '(27.71, 30.07]': 0.5497608277842363,\n",
       " '(30.11, 31.82]': 1.7690351265255604,\n",
       " '(31.84, 33.8]': 0.7562768073104688,\n",
       " '(33.83, 35.56]': 1.5421250924158738,\n",
       " '(35.6, 37.94]': 0.8738239104424592,\n",
       " '(38.0, 41.63]': -0.3275230718058093,\n",
       " '(41.65, 44.95]': -0.7967500019833724,\n",
       " '(44.97, 59.64]': -2.1012640355311856}"
      ]
     },
     "execution_count": 62,
     "metadata": {},
     "output_type": "execute_result"
    }
   ],
   "source": [
    "woe_dict"
   ]
  },
  {
   "cell_type": "code",
   "execution_count": 63,
   "metadata": {
    "ExecuteTime": {
     "end_time": "2022-03-25T02:25:43.538285Z",
     "start_time": "2022-03-25T02:25:43.520170Z"
    }
   },
   "outputs": [
    {
     "data": {
      "text/plain": [
       "2288   -2.101264\n",
       "1539   -0.361971\n",
       "1459   -0.058330\n",
       "591    -0.327523\n",
       "1555    0.756277\n",
       "          ...   \n",
       "985     0.400511\n",
       "116     0.400511\n",
       "1693    0.953799\n",
       "2119   -2.101264\n",
       "2151    1.769035\n",
       "Name: Cop_total day charge_woe, Length: 1874, dtype: float64"
      ]
     },
     "execution_count": 63,
     "metadata": {},
     "output_type": "execute_result"
    }
   ],
   "source": [
    "X_train['Cop_total day charge_woe']=X_train['Cop_total day charge'].map(woe_dict)\n",
    "X_train['Cop_total day charge_woe']"
   ]
  },
  {
   "cell_type": "code",
   "execution_count": 64,
   "metadata": {
    "ExecuteTime": {
     "end_time": "2022-03-25T02:26:40.958798Z",
     "start_time": "2022-03-25T02:26:40.694355Z"
    }
   },
   "outputs": [],
   "source": [
    "for feat in vars_cop+categoricas:\n",
    "    woe_dict=woe_generator(X_train,y_train,feat)['woe'].to_dict()\n",
    "    X_train[f'{feat}_woe']=X_train[feat].map(woe_dict)\n",
    "    X_test[f'{feat}_woe']=X_test[feat].map(woe_dict)"
   ]
  },
  {
   "cell_type": "code",
   "execution_count": 65,
   "metadata": {
    "ExecuteTime": {
     "end_time": "2022-03-25T02:26:54.548794Z",
     "start_time": "2022-03-25T02:26:54.540726Z"
    }
   },
   "outputs": [],
   "source": [
    "from sklearn.neural_network import MLPClassifier"
   ]
  },
  {
   "cell_type": "code",
   "execution_count": 66,
   "metadata": {
    "ExecuteTime": {
     "end_time": "2022-03-25T02:27:23.996890Z",
     "start_time": "2022-03-25T02:27:23.986864Z"
    }
   },
   "outputs": [],
   "source": [
    "features_to_model = [feat for feat in X_train.columns if \"_woe\" in feat]"
   ]
  },
  {
   "cell_type": "code",
   "execution_count": 67,
   "metadata": {
    "ExecuteTime": {
     "end_time": "2022-03-25T02:27:43.985074Z",
     "start_time": "2022-03-25T02:27:43.969427Z"
    }
   },
   "outputs": [],
   "source": [
    "X_train_to_model = X_train[features_to_model].copy()\n",
    "X_test_to_model = X_test[features_to_model].copy()\n"
   ]
  },
  {
   "cell_type": "code",
   "execution_count": 68,
   "metadata": {
    "ExecuteTime": {
     "end_time": "2022-03-25T02:27:49.413683Z",
     "start_time": "2022-03-25T02:27:49.405207Z"
    }
   },
   "outputs": [],
   "source": [
    "nn=MLPClassifier()"
   ]
  },
  {
   "cell_type": "code",
   "execution_count": 69,
   "metadata": {
    "ExecuteTime": {
     "end_time": "2022-03-25T02:27:56.135467Z",
     "start_time": "2022-03-25T02:27:51.125390Z"
    }
   },
   "outputs": [
    {
     "name": "stderr",
     "output_type": "stream",
     "text": [
      "/home/jorge/Documents/Diplomado/ambientes/diplo_env/lib/python3.6/site-packages/sklearn/neural_network/_multilayer_perceptron.py:585: ConvergenceWarning: Stochastic Optimizer: Maximum iterations (200) reached and the optimization hasn't converged yet.\n",
      "  % self.max_iter, ConvergenceWarning)\n"
     ]
    },
    {
     "data": {
      "text/plain": [
       "MLPClassifier()"
      ]
     },
     "execution_count": 69,
     "metadata": {},
     "output_type": "execute_result"
    }
   ],
   "source": [
    "nn.fit(X_train_to_model,y_train)"
   ]
  },
  {
   "cell_type": "code",
   "execution_count": 70,
   "metadata": {
    "ExecuteTime": {
     "end_time": "2022-03-25T02:28:03.084247Z",
     "start_time": "2022-03-25T02:28:03.071824Z"
    }
   },
   "outputs": [],
   "source": [
    "from sklearn.metrics import roc_auc_score,accuracy_score,confusion_matrix\n",
    "\n",
    "def metricas(model,Xv,yv): #Mide efectividad de un Modelo Predictivo\n",
    "    print( \" Roc Validate: %.3f\" %roc_auc_score(y_score=model.predict_proba(Xv)[:,1],y_true=yv))\n",
    "    print( \" Acc Validate: %.3f\" %accuracy_score(y_pred=model.predict(Xv),y_true=yv))\n",
    "    print( \" Matrix Conf Validate: \", \"\\n\",confusion_matrix(y_pred=model.predict(Xv),y_true=yv))"
   ]
  },
  {
   "cell_type": "code",
   "execution_count": 71,
   "metadata": {
    "ExecuteTime": {
     "end_time": "2022-03-25T02:28:08.654793Z",
     "start_time": "2022-03-25T02:28:08.614116Z"
    }
   },
   "outputs": [
    {
     "name": "stdout",
     "output_type": "stream",
     "text": [
      " Roc Validate: 0.796\n",
      " Acc Validate: 0.888\n",
      " Matrix Conf Validate:  \n",
      " [[522  19]\n",
      " [ 51  33]]\n"
     ]
    }
   ],
   "source": [
    "metricas(nn,X_test_to_model, y_test)"
   ]
  },
  {
   "cell_type": "code",
   "execution_count": 72,
   "metadata": {
    "ExecuteTime": {
     "end_time": "2022-03-25T02:28:16.027485Z",
     "start_time": "2022-03-25T02:28:16.022240Z"
    }
   },
   "outputs": [],
   "source": [
    "from sklearn.linear_model import LogisticRegression"
   ]
  },
  {
   "cell_type": "code",
   "execution_count": 73,
   "metadata": {
    "ExecuteTime": {
     "end_time": "2022-03-25T02:28:18.752410Z",
     "start_time": "2022-03-25T02:28:18.744691Z"
    }
   },
   "outputs": [],
   "source": [
    "lr=LogisticRegression()"
   ]
  },
  {
   "cell_type": "code",
   "execution_count": 74,
   "metadata": {
    "ExecuteTime": {
     "end_time": "2022-03-25T02:28:19.551405Z",
     "start_time": "2022-03-25T02:28:19.501440Z"
    }
   },
   "outputs": [
    {
     "data": {
      "text/plain": [
       "LogisticRegression()"
      ]
     },
     "execution_count": 74,
     "metadata": {},
     "output_type": "execute_result"
    }
   ],
   "source": [
    "lr.fit(X_train_to_model,y_train)"
   ]
  },
  {
   "cell_type": "code",
   "execution_count": 75,
   "metadata": {
    "ExecuteTime": {
     "end_time": "2022-03-25T02:28:20.812710Z",
     "start_time": "2022-03-25T02:28:20.786582Z"
    }
   },
   "outputs": [
    {
     "name": "stdout",
     "output_type": "stream",
     "text": [
      " Roc Validate: 0.761\n",
      " Acc Validate: 0.853\n",
      " Matrix Conf Validate:  \n",
      " [[517  24]\n",
      " [ 68  16]]\n"
     ]
    }
   ],
   "source": [
    "metricas(lr,X_test_to_model, y_test)"
   ]
  },
  {
   "cell_type": "code",
   "execution_count": null,
   "metadata": {},
   "outputs": [],
   "source": []
  },
  {
   "cell_type": "code",
   "execution_count": null,
   "metadata": {},
   "outputs": [],
   "source": []
  }
 ],
 "metadata": {
  "kernelspec": {
   "display_name": "diplo_env",
   "language": "python",
   "name": "diplo_env"
  },
  "language_info": {
   "codemirror_mode": {
    "name": "ipython",
    "version": 3
   },
   "file_extension": ".py",
   "mimetype": "text/x-python",
   "name": "python",
   "nbconvert_exporter": "python",
   "pygments_lexer": "ipython3",
   "version": "3.6.13"
  },
  "varInspector": {
   "cols": {
    "lenName": 16,
    "lenType": 16,
    "lenVar": 40
   },
   "kernels_config": {
    "python": {
     "delete_cmd_postfix": "",
     "delete_cmd_prefix": "del ",
     "library": "var_list.py",
     "varRefreshCmd": "print(var_dic_list())"
    },
    "r": {
     "delete_cmd_postfix": ") ",
     "delete_cmd_prefix": "rm(",
     "library": "var_list.r",
     "varRefreshCmd": "cat(var_dic_list()) "
    }
   },
   "types_to_exclude": [
    "module",
    "function",
    "builtin_function_or_method",
    "instance",
    "_Feature"
   ],
   "window_display": false
  }
 },
 "nbformat": 4,
 "nbformat_minor": 4
}

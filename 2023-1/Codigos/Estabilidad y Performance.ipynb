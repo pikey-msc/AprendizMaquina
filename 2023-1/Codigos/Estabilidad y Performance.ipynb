{
 "cells": [
  {
   "cell_type": "code",
   "execution_count": 40,
   "metadata": {
    "ExecuteTime": {
     "end_time": "2022-03-25T01:25:18.276423Z",
     "start_time": "2022-03-25T01:25:18.266336Z"
    }
   },
   "outputs": [],
   "source": [
    "from sklearn.feature_selection import SelectKBest, f_classif, f_regression\n",
    "from sklearn.tree import DecisionTreeRegressor\n",
    "from sklearn.linear_model import LogisticRegression,Ridge,ElasticNet\n",
    "from sklearn.model_selection import cross_val_score\n",
    "from sklearn.metrics import roc_auc_score, r2_score\n",
    "from datetime import datetime\n",
    "import pandas as pd\n",
    "import numpy as np\n",
    "import pygal"
   ]
  },
  {
   "cell_type": "code",
   "execution_count": 41,
   "metadata": {
    "ExecuteTime": {
     "end_time": "2022-03-25T01:25:38.297410Z",
     "start_time": "2022-03-25T01:25:38.282671Z"
    }
   },
   "outputs": [],
   "source": [
    "# Función que regresa el IV de la variable provista\n",
    "def IV(df, var, tgt):\n",
    "    aux = df[[var, tgt]].groupby(var).agg([\"count\", \"sum\"])\n",
    "    aux[\"evento\"] = aux[tgt, \"sum\"]\n",
    "    aux[\"no_evento\"] = aux[tgt, \"count\"] - aux[tgt, \"sum\"]\n",
    "    aux[\"%evento\"] = aux[\"evento\"] / aux[\"evento\"].sum()\n",
    "    aux[\"%no_evento\"] = aux[\"no_evento\"] / aux[\"no_evento\"].sum()\n",
    "    aux[\"WOE\"] = np.log(aux[\"%no_evento\"] / aux[\"%evento\"])\n",
    "    aux[\"IV\"] = (aux[\"%no_evento\"] - aux[\"%evento\"])*aux[\"WOE\"]\n",
    "    return aux[\"IV\"].sum()"
   ]
  },
  {
   "cell_type": "code",
   "execution_count": 42,
   "metadata": {
    "ExecuteTime": {
     "end_time": "2022-03-25T01:26:01.232129Z",
     "start_time": "2022-03-25T01:26:00.805841Z"
    }
   },
   "outputs": [],
   "source": [
    "df = pd.read_csv(\"../data/OnlineNewsPopularity.csv\").sample(frac = 0.1).reset_index(drop = True)"
   ]
  },
  {
   "cell_type": "code",
   "execution_count": 43,
   "metadata": {
    "ExecuteTime": {
     "end_time": "2022-03-25T01:26:11.478261Z",
     "start_time": "2022-03-25T01:26:11.470750Z"
    }
   },
   "outputs": [],
   "source": [
    "df.columns = [x.strip() for x in df.columns]"
   ]
  },
  {
   "cell_type": "code",
   "execution_count": 44,
   "metadata": {
    "ExecuteTime": {
     "end_time": "2022-03-25T01:26:11.985760Z",
     "start_time": "2022-03-25T01:26:11.958000Z"
    }
   },
   "outputs": [
    {
     "data": {
      "text/html": [
       "<div>\n",
       "<style scoped>\n",
       "    .dataframe tbody tr th:only-of-type {\n",
       "        vertical-align: middle;\n",
       "    }\n",
       "\n",
       "    .dataframe tbody tr th {\n",
       "        vertical-align: top;\n",
       "    }\n",
       "\n",
       "    .dataframe thead th {\n",
       "        text-align: right;\n",
       "    }\n",
       "</style>\n",
       "<table border=\"1\" class=\"dataframe\">\n",
       "  <thead>\n",
       "    <tr style=\"text-align: right;\">\n",
       "      <th></th>\n",
       "      <th>url</th>\n",
       "      <th>timedelta</th>\n",
       "      <th>n_tokens_title</th>\n",
       "      <th>n_tokens_content</th>\n",
       "      <th>n_unique_tokens</th>\n",
       "      <th>n_non_stop_words</th>\n",
       "      <th>n_non_stop_unique_tokens</th>\n",
       "      <th>num_hrefs</th>\n",
       "      <th>num_self_hrefs</th>\n",
       "      <th>num_imgs</th>\n",
       "      <th>...</th>\n",
       "      <th>min_positive_polarity</th>\n",
       "      <th>max_positive_polarity</th>\n",
       "      <th>avg_negative_polarity</th>\n",
       "      <th>min_negative_polarity</th>\n",
       "      <th>max_negative_polarity</th>\n",
       "      <th>title_subjectivity</th>\n",
       "      <th>title_sentiment_polarity</th>\n",
       "      <th>abs_title_subjectivity</th>\n",
       "      <th>abs_title_sentiment_polarity</th>\n",
       "      <th>shares</th>\n",
       "    </tr>\n",
       "  </thead>\n",
       "  <tbody>\n",
       "    <tr>\n",
       "      <th>0</th>\n",
       "      <td>http://mashable.com/2013/08/10/worst-summer-jobs/</td>\n",
       "      <td>516.0</td>\n",
       "      <td>11.0</td>\n",
       "      <td>367.0</td>\n",
       "      <td>0.545455</td>\n",
       "      <td>1.0</td>\n",
       "      <td>0.722222</td>\n",
       "      <td>7.0</td>\n",
       "      <td>3.0</td>\n",
       "      <td>1.0</td>\n",
       "      <td>...</td>\n",
       "      <td>0.033333</td>\n",
       "      <td>0.8</td>\n",
       "      <td>-0.392469</td>\n",
       "      <td>-0.7</td>\n",
       "      <td>-0.155556</td>\n",
       "      <td>0.3</td>\n",
       "      <td>-0.5</td>\n",
       "      <td>0.2</td>\n",
       "      <td>0.5</td>\n",
       "      <td>1800</td>\n",
       "    </tr>\n",
       "    <tr>\n",
       "      <th>1</th>\n",
       "      <td>http://mashable.com/2014/08/22/the-killing-of-...</td>\n",
       "      <td>138.0</td>\n",
       "      <td>13.0</td>\n",
       "      <td>569.0</td>\n",
       "      <td>0.495575</td>\n",
       "      <td>1.0</td>\n",
       "      <td>0.674923</td>\n",
       "      <td>10.0</td>\n",
       "      <td>8.0</td>\n",
       "      <td>0.0</td>\n",
       "      <td>...</td>\n",
       "      <td>0.100000</td>\n",
       "      <td>0.8</td>\n",
       "      <td>-0.276562</td>\n",
       "      <td>-1.0</td>\n",
       "      <td>-0.100000</td>\n",
       "      <td>0.4</td>\n",
       "      <td>0.1</td>\n",
       "      <td>0.1</td>\n",
       "      <td>0.1</td>\n",
       "      <td>1400</td>\n",
       "    </tr>\n",
       "    <tr>\n",
       "      <th>2</th>\n",
       "      <td>http://mashable.com/2013/02/26/google-worried-...</td>\n",
       "      <td>681.0</td>\n",
       "      <td>9.0</td>\n",
       "      <td>228.0</td>\n",
       "      <td>0.575221</td>\n",
       "      <td>1.0</td>\n",
       "      <td>0.731343</td>\n",
       "      <td>1.0</td>\n",
       "      <td>0.0</td>\n",
       "      <td>1.0</td>\n",
       "      <td>...</td>\n",
       "      <td>0.050000</td>\n",
       "      <td>0.7</td>\n",
       "      <td>-0.325000</td>\n",
       "      <td>-0.4</td>\n",
       "      <td>-0.250000</td>\n",
       "      <td>1.0</td>\n",
       "      <td>0.3</td>\n",
       "      <td>0.5</td>\n",
       "      <td>0.3</td>\n",
       "      <td>2100</td>\n",
       "    </tr>\n",
       "    <tr>\n",
       "      <th>3</th>\n",
       "      <td>http://mashable.com/2014/09/07/civilian-ukrain...</td>\n",
       "      <td>122.0</td>\n",
       "      <td>9.0</td>\n",
       "      <td>363.0</td>\n",
       "      <td>0.527933</td>\n",
       "      <td>1.0</td>\n",
       "      <td>0.750000</td>\n",
       "      <td>8.0</td>\n",
       "      <td>6.0</td>\n",
       "      <td>3.0</td>\n",
       "      <td>...</td>\n",
       "      <td>0.100000</td>\n",
       "      <td>0.5</td>\n",
       "      <td>-0.138889</td>\n",
       "      <td>-0.2</td>\n",
       "      <td>-0.100000</td>\n",
       "      <td>0.0</td>\n",
       "      <td>0.0</td>\n",
       "      <td>0.5</td>\n",
       "      <td>0.0</td>\n",
       "      <td>1000</td>\n",
       "    </tr>\n",
       "    <tr>\n",
       "      <th>4</th>\n",
       "      <td>http://mashable.com/2014/07/06/emotional-intel...</td>\n",
       "      <td>186.0</td>\n",
       "      <td>13.0</td>\n",
       "      <td>325.0</td>\n",
       "      <td>0.566154</td>\n",
       "      <td>1.0</td>\n",
       "      <td>0.705000</td>\n",
       "      <td>9.0</td>\n",
       "      <td>7.0</td>\n",
       "      <td>1.0</td>\n",
       "      <td>...</td>\n",
       "      <td>0.062500</td>\n",
       "      <td>0.6</td>\n",
       "      <td>-0.288889</td>\n",
       "      <td>-0.5</td>\n",
       "      <td>-0.166667</td>\n",
       "      <td>0.0</td>\n",
       "      <td>0.0</td>\n",
       "      <td>0.5</td>\n",
       "      <td>0.0</td>\n",
       "      <td>2800</td>\n",
       "    </tr>\n",
       "  </tbody>\n",
       "</table>\n",
       "<p>5 rows × 61 columns</p>\n",
       "</div>"
      ],
      "text/plain": [
       "                                                 url  timedelta  \\\n",
       "0  http://mashable.com/2013/08/10/worst-summer-jobs/      516.0   \n",
       "1  http://mashable.com/2014/08/22/the-killing-of-...      138.0   \n",
       "2  http://mashable.com/2013/02/26/google-worried-...      681.0   \n",
       "3  http://mashable.com/2014/09/07/civilian-ukrain...      122.0   \n",
       "4  http://mashable.com/2014/07/06/emotional-intel...      186.0   \n",
       "\n",
       "   n_tokens_title  n_tokens_content  n_unique_tokens  n_non_stop_words  \\\n",
       "0            11.0             367.0         0.545455               1.0   \n",
       "1            13.0             569.0         0.495575               1.0   \n",
       "2             9.0             228.0         0.575221               1.0   \n",
       "3             9.0             363.0         0.527933               1.0   \n",
       "4            13.0             325.0         0.566154               1.0   \n",
       "\n",
       "   n_non_stop_unique_tokens  num_hrefs  num_self_hrefs  num_imgs  ...  \\\n",
       "0                  0.722222        7.0             3.0       1.0  ...   \n",
       "1                  0.674923       10.0             8.0       0.0  ...   \n",
       "2                  0.731343        1.0             0.0       1.0  ...   \n",
       "3                  0.750000        8.0             6.0       3.0  ...   \n",
       "4                  0.705000        9.0             7.0       1.0  ...   \n",
       "\n",
       "   min_positive_polarity  max_positive_polarity  avg_negative_polarity  \\\n",
       "0               0.033333                    0.8              -0.392469   \n",
       "1               0.100000                    0.8              -0.276562   \n",
       "2               0.050000                    0.7              -0.325000   \n",
       "3               0.100000                    0.5              -0.138889   \n",
       "4               0.062500                    0.6              -0.288889   \n",
       "\n",
       "   min_negative_polarity  max_negative_polarity  title_subjectivity  \\\n",
       "0                   -0.7              -0.155556                 0.3   \n",
       "1                   -1.0              -0.100000                 0.4   \n",
       "2                   -0.4              -0.250000                 1.0   \n",
       "3                   -0.2              -0.100000                 0.0   \n",
       "4                   -0.5              -0.166667                 0.0   \n",
       "\n",
       "   title_sentiment_polarity  abs_title_subjectivity  \\\n",
       "0                      -0.5                     0.2   \n",
       "1                       0.1                     0.1   \n",
       "2                       0.3                     0.5   \n",
       "3                       0.0                     0.5   \n",
       "4                       0.0                     0.5   \n",
       "\n",
       "   abs_title_sentiment_polarity  shares  \n",
       "0                           0.5    1800  \n",
       "1                           0.1    1400  \n",
       "2                           0.3    2100  \n",
       "3                           0.0    1000  \n",
       "4                           0.0    2800  \n",
       "\n",
       "[5 rows x 61 columns]"
      ]
     },
     "execution_count": 44,
     "metadata": {},
     "output_type": "execute_result"
    }
   ],
   "source": [
    "df.head()"
   ]
  },
  {
   "cell_type": "code",
   "execution_count": 45,
   "metadata": {
    "ExecuteTime": {
     "end_time": "2022-03-25T01:26:37.578385Z",
     "start_time": "2022-03-25T01:26:37.565237Z"
    }
   },
   "outputs": [],
   "source": [
    "df[\"success\"] = (df[\"shares\"] > df[\"shares\"].quantile(.5))*1 "
   ]
  },
  {
   "cell_type": "code",
   "execution_count": 46,
   "metadata": {
    "ExecuteTime": {
     "end_time": "2022-03-25T01:26:43.317973Z",
     "start_time": "2022-03-25T01:26:43.303471Z"
    }
   },
   "outputs": [],
   "source": [
    "ls_cont = ['n_tokens_title', 'n_tokens_content', 'n_unique_tokens', 'n_non_stop_words', \n",
    "           'n_non_stop_unique_tokens', 'num_hrefs', 'num_self_hrefs', 'num_imgs', 'num_videos', \n",
    "           'average_token_length', 'num_keywords', 'kw_min_min', 'kw_max_min', 'kw_avg_min', \n",
    "           'kw_min_max', 'kw_max_max', 'kw_avg_max', 'kw_min_avg', 'kw_max_avg', 'kw_avg_avg', \n",
    "           'self_reference_min_shares', 'self_reference_max_shares', 'self_reference_avg_sharess', \n",
    "           'LDA_00', 'LDA_01', 'LDA_02', 'LDA_03', 'LDA_04', 'global_subjectivity', \n",
    "           'global_sentiment_polarity', 'global_rate_positive_words', 'global_rate_negative_words',\n",
    "           'rate_positive_words', 'rate_negative_words', 'avg_positive_polarity', 'min_positive_polarity',\n",
    "           'max_positive_polarity', 'avg_negative_polarity', 'min_negative_polarity', \n",
    "           'max_negative_polarity', 'title_subjectivity', 'title_sentiment_polarity', \n",
    "           'abs_title_subjectivity', 'abs_title_sentiment_polarity']"
   ]
  },
  {
   "cell_type": "code",
   "execution_count": 47,
   "metadata": {
    "ExecuteTime": {
     "end_time": "2022-03-25T01:27:22.738790Z",
     "start_time": "2022-03-25T01:27:22.732280Z"
    }
   },
   "outputs": [],
   "source": [
    "target = \"shares\"\n",
    "target_disc = \"success\""
   ]
  },
  {
   "cell_type": "code",
   "execution_count": 48,
   "metadata": {
    "ExecuteTime": {
     "end_time": "2022-03-25T01:27:37.101352Z",
     "start_time": "2022-03-25T01:27:37.066136Z"
    }
   },
   "outputs": [
    {
     "data": {
      "text/html": [
       "<div>\n",
       "<style scoped>\n",
       "    .dataframe tbody tr th:only-of-type {\n",
       "        vertical-align: middle;\n",
       "    }\n",
       "\n",
       "    .dataframe tbody tr th {\n",
       "        vertical-align: top;\n",
       "    }\n",
       "\n",
       "    .dataframe thead th {\n",
       "        text-align: right;\n",
       "    }\n",
       "</style>\n",
       "<table border=\"1\" class=\"dataframe\">\n",
       "  <thead>\n",
       "    <tr style=\"text-align: right;\">\n",
       "      <th></th>\n",
       "      <th>url</th>\n",
       "      <th>timedelta</th>\n",
       "      <th>n_tokens_title</th>\n",
       "      <th>n_tokens_content</th>\n",
       "      <th>n_unique_tokens</th>\n",
       "      <th>n_non_stop_words</th>\n",
       "      <th>n_non_stop_unique_tokens</th>\n",
       "      <th>num_hrefs</th>\n",
       "      <th>num_self_hrefs</th>\n",
       "      <th>num_imgs</th>\n",
       "      <th>...</th>\n",
       "      <th>max_positive_polarity</th>\n",
       "      <th>avg_negative_polarity</th>\n",
       "      <th>min_negative_polarity</th>\n",
       "      <th>max_negative_polarity</th>\n",
       "      <th>title_subjectivity</th>\n",
       "      <th>title_sentiment_polarity</th>\n",
       "      <th>abs_title_subjectivity</th>\n",
       "      <th>abs_title_sentiment_polarity</th>\n",
       "      <th>shares</th>\n",
       "      <th>success</th>\n",
       "    </tr>\n",
       "  </thead>\n",
       "  <tbody>\n",
       "    <tr>\n",
       "      <th>0</th>\n",
       "      <td>http://mashable.com/2013/08/10/worst-summer-jobs/</td>\n",
       "      <td>516.0</td>\n",
       "      <td>11.0</td>\n",
       "      <td>367.0</td>\n",
       "      <td>0.545455</td>\n",
       "      <td>1.0</td>\n",
       "      <td>0.722222</td>\n",
       "      <td>7.0</td>\n",
       "      <td>3.0</td>\n",
       "      <td>1.0</td>\n",
       "      <td>...</td>\n",
       "      <td>0.8</td>\n",
       "      <td>-0.392469</td>\n",
       "      <td>-0.7</td>\n",
       "      <td>-0.155556</td>\n",
       "      <td>0.3</td>\n",
       "      <td>-0.5</td>\n",
       "      <td>0.2</td>\n",
       "      <td>0.5</td>\n",
       "      <td>1800</td>\n",
       "      <td>1</td>\n",
       "    </tr>\n",
       "    <tr>\n",
       "      <th>1</th>\n",
       "      <td>http://mashable.com/2014/08/22/the-killing-of-...</td>\n",
       "      <td>138.0</td>\n",
       "      <td>13.0</td>\n",
       "      <td>569.0</td>\n",
       "      <td>0.495575</td>\n",
       "      <td>1.0</td>\n",
       "      <td>0.674923</td>\n",
       "      <td>10.0</td>\n",
       "      <td>8.0</td>\n",
       "      <td>0.0</td>\n",
       "      <td>...</td>\n",
       "      <td>0.8</td>\n",
       "      <td>-0.276562</td>\n",
       "      <td>-1.0</td>\n",
       "      <td>-0.100000</td>\n",
       "      <td>0.4</td>\n",
       "      <td>0.1</td>\n",
       "      <td>0.1</td>\n",
       "      <td>0.1</td>\n",
       "      <td>1400</td>\n",
       "      <td>0</td>\n",
       "    </tr>\n",
       "    <tr>\n",
       "      <th>2</th>\n",
       "      <td>http://mashable.com/2013/02/26/google-worried-...</td>\n",
       "      <td>681.0</td>\n",
       "      <td>9.0</td>\n",
       "      <td>228.0</td>\n",
       "      <td>0.575221</td>\n",
       "      <td>1.0</td>\n",
       "      <td>0.731343</td>\n",
       "      <td>1.0</td>\n",
       "      <td>0.0</td>\n",
       "      <td>1.0</td>\n",
       "      <td>...</td>\n",
       "      <td>0.7</td>\n",
       "      <td>-0.325000</td>\n",
       "      <td>-0.4</td>\n",
       "      <td>-0.250000</td>\n",
       "      <td>1.0</td>\n",
       "      <td>0.3</td>\n",
       "      <td>0.5</td>\n",
       "      <td>0.3</td>\n",
       "      <td>2100</td>\n",
       "      <td>1</td>\n",
       "    </tr>\n",
       "  </tbody>\n",
       "</table>\n",
       "<p>3 rows × 62 columns</p>\n",
       "</div>"
      ],
      "text/plain": [
       "                                                 url  timedelta  \\\n",
       "0  http://mashable.com/2013/08/10/worst-summer-jobs/      516.0   \n",
       "1  http://mashable.com/2014/08/22/the-killing-of-...      138.0   \n",
       "2  http://mashable.com/2013/02/26/google-worried-...      681.0   \n",
       "\n",
       "   n_tokens_title  n_tokens_content  n_unique_tokens  n_non_stop_words  \\\n",
       "0            11.0             367.0         0.545455               1.0   \n",
       "1            13.0             569.0         0.495575               1.0   \n",
       "2             9.0             228.0         0.575221               1.0   \n",
       "\n",
       "   n_non_stop_unique_tokens  num_hrefs  num_self_hrefs  num_imgs  ...  \\\n",
       "0                  0.722222        7.0             3.0       1.0  ...   \n",
       "1                  0.674923       10.0             8.0       0.0  ...   \n",
       "2                  0.731343        1.0             0.0       1.0  ...   \n",
       "\n",
       "   max_positive_polarity  avg_negative_polarity  min_negative_polarity  \\\n",
       "0                    0.8              -0.392469                   -0.7   \n",
       "1                    0.8              -0.276562                   -1.0   \n",
       "2                    0.7              -0.325000                   -0.4   \n",
       "\n",
       "   max_negative_polarity  title_subjectivity  title_sentiment_polarity  \\\n",
       "0              -0.155556                 0.3                      -0.5   \n",
       "1              -0.100000                 0.4                       0.1   \n",
       "2              -0.250000                 1.0                       0.3   \n",
       "\n",
       "   abs_title_subjectivity  abs_title_sentiment_polarity  shares  success  \n",
       "0                     0.2                           0.5    1800        1  \n",
       "1                     0.1                           0.1    1400        0  \n",
       "2                     0.5                           0.3    2100        1  \n",
       "\n",
       "[3 rows x 62 columns]"
      ]
     },
     "execution_count": 48,
     "metadata": {},
     "output_type": "execute_result"
    }
   ],
   "source": [
    "df.head(3)"
   ]
  },
  {
   "cell_type": "code",
   "execution_count": 49,
   "metadata": {
    "ExecuteTime": {
     "end_time": "2022-03-25T01:28:06.182860Z",
     "start_time": "2022-03-25T01:28:06.123883Z"
    }
   },
   "outputs": [],
   "source": [
    "df[\"date\"] = pd.to_datetime(df[\"url\"].str.split(\"/\").str[3:6].str.join(\"/\")) # Obtención de fecha\n",
    "df[\"month\"] = df[\"date\"].dt.strftime(\"%Y-%m-01\") # Generación de mes"
   ]
  },
  {
   "cell_type": "code",
   "execution_count": 50,
   "metadata": {
    "ExecuteTime": {
     "end_time": "2022-03-25T01:28:07.965413Z",
     "start_time": "2022-03-25T01:28:07.894978Z"
    }
   },
   "outputs": [
    {
     "data": {
      "text/html": [
       "<div>\n",
       "<style scoped>\n",
       "    .dataframe tbody tr th:only-of-type {\n",
       "        vertical-align: middle;\n",
       "    }\n",
       "\n",
       "    .dataframe tbody tr th {\n",
       "        vertical-align: top;\n",
       "    }\n",
       "\n",
       "    .dataframe thead th {\n",
       "        text-align: right;\n",
       "    }\n",
       "</style>\n",
       "<table border=\"1\" class=\"dataframe\">\n",
       "  <thead>\n",
       "    <tr style=\"text-align: right;\">\n",
       "      <th></th>\n",
       "      <th>url</th>\n",
       "      <th>timedelta</th>\n",
       "      <th>n_tokens_title</th>\n",
       "      <th>n_tokens_content</th>\n",
       "      <th>n_unique_tokens</th>\n",
       "      <th>n_non_stop_words</th>\n",
       "      <th>n_non_stop_unique_tokens</th>\n",
       "      <th>num_hrefs</th>\n",
       "      <th>num_self_hrefs</th>\n",
       "      <th>num_imgs</th>\n",
       "      <th>...</th>\n",
       "      <th>min_negative_polarity</th>\n",
       "      <th>max_negative_polarity</th>\n",
       "      <th>title_subjectivity</th>\n",
       "      <th>title_sentiment_polarity</th>\n",
       "      <th>abs_title_subjectivity</th>\n",
       "      <th>abs_title_sentiment_polarity</th>\n",
       "      <th>shares</th>\n",
       "      <th>success</th>\n",
       "      <th>date</th>\n",
       "      <th>month</th>\n",
       "    </tr>\n",
       "  </thead>\n",
       "  <tbody>\n",
       "    <tr>\n",
       "      <th>0</th>\n",
       "      <td>http://mashable.com/2013/08/10/worst-summer-jobs/</td>\n",
       "      <td>516.0</td>\n",
       "      <td>11.0</td>\n",
       "      <td>367.0</td>\n",
       "      <td>0.545455</td>\n",
       "      <td>1.0</td>\n",
       "      <td>0.722222</td>\n",
       "      <td>7.0</td>\n",
       "      <td>3.0</td>\n",
       "      <td>1.0</td>\n",
       "      <td>...</td>\n",
       "      <td>-0.7</td>\n",
       "      <td>-0.155556</td>\n",
       "      <td>0.300000</td>\n",
       "      <td>-0.500000</td>\n",
       "      <td>0.200000</td>\n",
       "      <td>0.500000</td>\n",
       "      <td>1800</td>\n",
       "      <td>1</td>\n",
       "      <td>2013-08-10</td>\n",
       "      <td>2013-08-01</td>\n",
       "    </tr>\n",
       "    <tr>\n",
       "      <th>1</th>\n",
       "      <td>http://mashable.com/2014/08/22/the-killing-of-...</td>\n",
       "      <td>138.0</td>\n",
       "      <td>13.0</td>\n",
       "      <td>569.0</td>\n",
       "      <td>0.495575</td>\n",
       "      <td>1.0</td>\n",
       "      <td>0.674923</td>\n",
       "      <td>10.0</td>\n",
       "      <td>8.0</td>\n",
       "      <td>0.0</td>\n",
       "      <td>...</td>\n",
       "      <td>-1.0</td>\n",
       "      <td>-0.100000</td>\n",
       "      <td>0.400000</td>\n",
       "      <td>0.100000</td>\n",
       "      <td>0.100000</td>\n",
       "      <td>0.100000</td>\n",
       "      <td>1400</td>\n",
       "      <td>0</td>\n",
       "      <td>2014-08-22</td>\n",
       "      <td>2014-08-01</td>\n",
       "    </tr>\n",
       "    <tr>\n",
       "      <th>2</th>\n",
       "      <td>http://mashable.com/2013/02/26/google-worried-...</td>\n",
       "      <td>681.0</td>\n",
       "      <td>9.0</td>\n",
       "      <td>228.0</td>\n",
       "      <td>0.575221</td>\n",
       "      <td>1.0</td>\n",
       "      <td>0.731343</td>\n",
       "      <td>1.0</td>\n",
       "      <td>0.0</td>\n",
       "      <td>1.0</td>\n",
       "      <td>...</td>\n",
       "      <td>-0.4</td>\n",
       "      <td>-0.250000</td>\n",
       "      <td>1.000000</td>\n",
       "      <td>0.300000</td>\n",
       "      <td>0.500000</td>\n",
       "      <td>0.300000</td>\n",
       "      <td>2100</td>\n",
       "      <td>1</td>\n",
       "      <td>2013-02-26</td>\n",
       "      <td>2013-02-01</td>\n",
       "    </tr>\n",
       "    <tr>\n",
       "      <th>3</th>\n",
       "      <td>http://mashable.com/2014/09/07/civilian-ukrain...</td>\n",
       "      <td>122.0</td>\n",
       "      <td>9.0</td>\n",
       "      <td>363.0</td>\n",
       "      <td>0.527933</td>\n",
       "      <td>1.0</td>\n",
       "      <td>0.750000</td>\n",
       "      <td>8.0</td>\n",
       "      <td>6.0</td>\n",
       "      <td>3.0</td>\n",
       "      <td>...</td>\n",
       "      <td>-0.2</td>\n",
       "      <td>-0.100000</td>\n",
       "      <td>0.000000</td>\n",
       "      <td>0.000000</td>\n",
       "      <td>0.500000</td>\n",
       "      <td>0.000000</td>\n",
       "      <td>1000</td>\n",
       "      <td>0</td>\n",
       "      <td>2014-09-07</td>\n",
       "      <td>2014-09-01</td>\n",
       "    </tr>\n",
       "    <tr>\n",
       "      <th>4</th>\n",
       "      <td>http://mashable.com/2014/07/06/emotional-intel...</td>\n",
       "      <td>186.0</td>\n",
       "      <td>13.0</td>\n",
       "      <td>325.0</td>\n",
       "      <td>0.566154</td>\n",
       "      <td>1.0</td>\n",
       "      <td>0.705000</td>\n",
       "      <td>9.0</td>\n",
       "      <td>7.0</td>\n",
       "      <td>1.0</td>\n",
       "      <td>...</td>\n",
       "      <td>-0.5</td>\n",
       "      <td>-0.166667</td>\n",
       "      <td>0.000000</td>\n",
       "      <td>0.000000</td>\n",
       "      <td>0.500000</td>\n",
       "      <td>0.000000</td>\n",
       "      <td>2800</td>\n",
       "      <td>1</td>\n",
       "      <td>2014-07-06</td>\n",
       "      <td>2014-07-01</td>\n",
       "    </tr>\n",
       "    <tr>\n",
       "      <th>...</th>\n",
       "      <td>...</td>\n",
       "      <td>...</td>\n",
       "      <td>...</td>\n",
       "      <td>...</td>\n",
       "      <td>...</td>\n",
       "      <td>...</td>\n",
       "      <td>...</td>\n",
       "      <td>...</td>\n",
       "      <td>...</td>\n",
       "      <td>...</td>\n",
       "      <td>...</td>\n",
       "      <td>...</td>\n",
       "      <td>...</td>\n",
       "      <td>...</td>\n",
       "      <td>...</td>\n",
       "      <td>...</td>\n",
       "      <td>...</td>\n",
       "      <td>...</td>\n",
       "      <td>...</td>\n",
       "      <td>...</td>\n",
       "      <td>...</td>\n",
       "    </tr>\n",
       "    <tr>\n",
       "      <th>3959</th>\n",
       "      <td>http://mashable.com/2014/01/11/fitness-gadgets...</td>\n",
       "      <td>362.0</td>\n",
       "      <td>11.0</td>\n",
       "      <td>537.0</td>\n",
       "      <td>0.561538</td>\n",
       "      <td>1.0</td>\n",
       "      <td>0.713018</td>\n",
       "      <td>8.0</td>\n",
       "      <td>6.0</td>\n",
       "      <td>8.0</td>\n",
       "      <td>...</td>\n",
       "      <td>-0.8</td>\n",
       "      <td>-0.125000</td>\n",
       "      <td>0.388889</td>\n",
       "      <td>0.127778</td>\n",
       "      <td>0.111111</td>\n",
       "      <td>0.127778</td>\n",
       "      <td>1500</td>\n",
       "      <td>1</td>\n",
       "      <td>2014-01-11</td>\n",
       "      <td>2014-01-01</td>\n",
       "    </tr>\n",
       "    <tr>\n",
       "      <th>3960</th>\n",
       "      <td>http://mashable.com/2014/10/14/globe-records-w...</td>\n",
       "      <td>85.0</td>\n",
       "      <td>9.0</td>\n",
       "      <td>922.0</td>\n",
       "      <td>0.508909</td>\n",
       "      <td>1.0</td>\n",
       "      <td>0.671329</td>\n",
       "      <td>28.0</td>\n",
       "      <td>1.0</td>\n",
       "      <td>1.0</td>\n",
       "      <td>...</td>\n",
       "      <td>-0.8</td>\n",
       "      <td>-0.125000</td>\n",
       "      <td>0.400000</td>\n",
       "      <td>-0.400000</td>\n",
       "      <td>0.100000</td>\n",
       "      <td>0.400000</td>\n",
       "      <td>581</td>\n",
       "      <td>0</td>\n",
       "      <td>2014-10-14</td>\n",
       "      <td>2014-10-01</td>\n",
       "    </tr>\n",
       "    <tr>\n",
       "      <th>3961</th>\n",
       "      <td>http://mashable.com/2014/08/25/michael-brown-f...</td>\n",
       "      <td>136.0</td>\n",
       "      <td>8.0</td>\n",
       "      <td>80.0</td>\n",
       "      <td>0.759494</td>\n",
       "      <td>1.0</td>\n",
       "      <td>0.933333</td>\n",
       "      <td>3.0</td>\n",
       "      <td>1.0</td>\n",
       "      <td>1.0</td>\n",
       "      <td>...</td>\n",
       "      <td>-0.5</td>\n",
       "      <td>-0.400000</td>\n",
       "      <td>0.500000</td>\n",
       "      <td>0.250000</td>\n",
       "      <td>0.000000</td>\n",
       "      <td>0.250000</td>\n",
       "      <td>634</td>\n",
       "      <td>0</td>\n",
       "      <td>2014-08-25</td>\n",
       "      <td>2014-08-01</td>\n",
       "    </tr>\n",
       "    <tr>\n",
       "      <th>3962</th>\n",
       "      <td>http://mashable.com/2014/01/08/gabby-giffords-...</td>\n",
       "      <td>365.0</td>\n",
       "      <td>11.0</td>\n",
       "      <td>143.0</td>\n",
       "      <td>0.678571</td>\n",
       "      <td>1.0</td>\n",
       "      <td>0.744681</td>\n",
       "      <td>4.0</td>\n",
       "      <td>3.0</td>\n",
       "      <td>0.0</td>\n",
       "      <td>...</td>\n",
       "      <td>-0.7</td>\n",
       "      <td>-0.200000</td>\n",
       "      <td>0.100000</td>\n",
       "      <td>-0.150000</td>\n",
       "      <td>0.400000</td>\n",
       "      <td>0.150000</td>\n",
       "      <td>896</td>\n",
       "      <td>0</td>\n",
       "      <td>2014-01-08</td>\n",
       "      <td>2014-01-01</td>\n",
       "    </tr>\n",
       "    <tr>\n",
       "      <th>3963</th>\n",
       "      <td>http://mashable.com/2014/03/25/content-arms-ra...</td>\n",
       "      <td>289.0</td>\n",
       "      <td>11.0</td>\n",
       "      <td>1006.0</td>\n",
       "      <td>0.432567</td>\n",
       "      <td>1.0</td>\n",
       "      <td>0.619601</td>\n",
       "      <td>16.0</td>\n",
       "      <td>4.0</td>\n",
       "      <td>1.0</td>\n",
       "      <td>...</td>\n",
       "      <td>-0.4</td>\n",
       "      <td>-0.050000</td>\n",
       "      <td>0.100000</td>\n",
       "      <td>0.000000</td>\n",
       "      <td>0.400000</td>\n",
       "      <td>0.000000</td>\n",
       "      <td>1700</td>\n",
       "      <td>1</td>\n",
       "      <td>2014-03-25</td>\n",
       "      <td>2014-03-01</td>\n",
       "    </tr>\n",
       "  </tbody>\n",
       "</table>\n",
       "<p>3964 rows × 64 columns</p>\n",
       "</div>"
      ],
      "text/plain": [
       "                                                    url  timedelta  \\\n",
       "0     http://mashable.com/2013/08/10/worst-summer-jobs/      516.0   \n",
       "1     http://mashable.com/2014/08/22/the-killing-of-...      138.0   \n",
       "2     http://mashable.com/2013/02/26/google-worried-...      681.0   \n",
       "3     http://mashable.com/2014/09/07/civilian-ukrain...      122.0   \n",
       "4     http://mashable.com/2014/07/06/emotional-intel...      186.0   \n",
       "...                                                 ...        ...   \n",
       "3959  http://mashable.com/2014/01/11/fitness-gadgets...      362.0   \n",
       "3960  http://mashable.com/2014/10/14/globe-records-w...       85.0   \n",
       "3961  http://mashable.com/2014/08/25/michael-brown-f...      136.0   \n",
       "3962  http://mashable.com/2014/01/08/gabby-giffords-...      365.0   \n",
       "3963  http://mashable.com/2014/03/25/content-arms-ra...      289.0   \n",
       "\n",
       "      n_tokens_title  n_tokens_content  n_unique_tokens  n_non_stop_words  \\\n",
       "0               11.0             367.0         0.545455               1.0   \n",
       "1               13.0             569.0         0.495575               1.0   \n",
       "2                9.0             228.0         0.575221               1.0   \n",
       "3                9.0             363.0         0.527933               1.0   \n",
       "4               13.0             325.0         0.566154               1.0   \n",
       "...              ...               ...              ...               ...   \n",
       "3959            11.0             537.0         0.561538               1.0   \n",
       "3960             9.0             922.0         0.508909               1.0   \n",
       "3961             8.0              80.0         0.759494               1.0   \n",
       "3962            11.0             143.0         0.678571               1.0   \n",
       "3963            11.0            1006.0         0.432567               1.0   \n",
       "\n",
       "      n_non_stop_unique_tokens  num_hrefs  num_self_hrefs  num_imgs  ...  \\\n",
       "0                     0.722222        7.0             3.0       1.0  ...   \n",
       "1                     0.674923       10.0             8.0       0.0  ...   \n",
       "2                     0.731343        1.0             0.0       1.0  ...   \n",
       "3                     0.750000        8.0             6.0       3.0  ...   \n",
       "4                     0.705000        9.0             7.0       1.0  ...   \n",
       "...                        ...        ...             ...       ...  ...   \n",
       "3959                  0.713018        8.0             6.0       8.0  ...   \n",
       "3960                  0.671329       28.0             1.0       1.0  ...   \n",
       "3961                  0.933333        3.0             1.0       1.0  ...   \n",
       "3962                  0.744681        4.0             3.0       0.0  ...   \n",
       "3963                  0.619601       16.0             4.0       1.0  ...   \n",
       "\n",
       "      min_negative_polarity  max_negative_polarity  title_subjectivity  \\\n",
       "0                      -0.7              -0.155556            0.300000   \n",
       "1                      -1.0              -0.100000            0.400000   \n",
       "2                      -0.4              -0.250000            1.000000   \n",
       "3                      -0.2              -0.100000            0.000000   \n",
       "4                      -0.5              -0.166667            0.000000   \n",
       "...                     ...                    ...                 ...   \n",
       "3959                   -0.8              -0.125000            0.388889   \n",
       "3960                   -0.8              -0.125000            0.400000   \n",
       "3961                   -0.5              -0.400000            0.500000   \n",
       "3962                   -0.7              -0.200000            0.100000   \n",
       "3963                   -0.4              -0.050000            0.100000   \n",
       "\n",
       "      title_sentiment_polarity  abs_title_subjectivity  \\\n",
       "0                    -0.500000                0.200000   \n",
       "1                     0.100000                0.100000   \n",
       "2                     0.300000                0.500000   \n",
       "3                     0.000000                0.500000   \n",
       "4                     0.000000                0.500000   \n",
       "...                        ...                     ...   \n",
       "3959                  0.127778                0.111111   \n",
       "3960                 -0.400000                0.100000   \n",
       "3961                  0.250000                0.000000   \n",
       "3962                 -0.150000                0.400000   \n",
       "3963                  0.000000                0.400000   \n",
       "\n",
       "      abs_title_sentiment_polarity  shares  success       date       month  \n",
       "0                         0.500000    1800        1 2013-08-10  2013-08-01  \n",
       "1                         0.100000    1400        0 2014-08-22  2014-08-01  \n",
       "2                         0.300000    2100        1 2013-02-26  2013-02-01  \n",
       "3                         0.000000    1000        0 2014-09-07  2014-09-01  \n",
       "4                         0.000000    2800        1 2014-07-06  2014-07-01  \n",
       "...                            ...     ...      ...        ...         ...  \n",
       "3959                      0.127778    1500        1 2014-01-11  2014-01-01  \n",
       "3960                      0.400000     581        0 2014-10-14  2014-10-01  \n",
       "3961                      0.250000     634        0 2014-08-25  2014-08-01  \n",
       "3962                      0.150000     896        0 2014-01-08  2014-01-01  \n",
       "3963                      0.000000    1700        1 2014-03-25  2014-03-01  \n",
       "\n",
       "[3964 rows x 64 columns]"
      ]
     },
     "execution_count": 50,
     "metadata": {},
     "output_type": "execute_result"
    }
   ],
   "source": [
    "df"
   ]
  },
  {
   "cell_type": "code",
   "execution_count": 51,
   "metadata": {
    "ExecuteTime": {
     "end_time": "2022-03-25T01:28:12.019800Z",
     "start_time": "2022-03-25T01:28:12.004056Z"
    },
    "scrolled": true
   },
   "outputs": [
    {
     "data": {
      "text/plain": [
       "['2013-01-01',\n",
       " '2013-02-01',\n",
       " '2013-03-01',\n",
       " '2013-04-01',\n",
       " '2013-05-01',\n",
       " '2013-06-01',\n",
       " '2013-07-01',\n",
       " '2013-08-01',\n",
       " '2013-09-01',\n",
       " '2013-10-01',\n",
       " '2013-11-01',\n",
       " '2013-12-01',\n",
       " '2014-01-01',\n",
       " '2014-02-01',\n",
       " '2014-03-01',\n",
       " '2014-04-01',\n",
       " '2014-05-01',\n",
       " '2014-06-01',\n",
       " '2014-07-01',\n",
       " '2014-08-01',\n",
       " '2014-09-01',\n",
       " '2014-10-01',\n",
       " '2014-11-01',\n",
       " '2014-12-01']"
      ]
     },
     "execution_count": 51,
     "metadata": {},
     "output_type": "execute_result"
    }
   ],
   "source": [
    "sorted(df[\"month\"].unique())"
   ]
  },
  {
   "cell_type": "code",
   "execution_count": 52,
   "metadata": {
    "ExecuteTime": {
     "end_time": "2022-03-25T01:28:44.675560Z",
     "start_time": "2022-03-25T01:28:44.657935Z"
    }
   },
   "outputs": [],
   "source": [
    "validate = df[df[\"date\"] >= datetime(2014, 6, 1)].reset_index(drop = True).copy() # Generación de validate por fecha\n",
    "train = df.drop(index = validate.index).reset_index(drop = True).copy()\n"
   ]
  },
  {
   "cell_type": "code",
   "execution_count": 53,
   "metadata": {
    "ExecuteTime": {
     "end_time": "2022-03-25T01:29:07.117926Z",
     "start_time": "2022-03-25T01:29:07.108614Z"
    }
   },
   "outputs": [],
   "source": [
    "Xt = train[ls_cont]\n",
    "yr = train[target]\n",
    "yc = train[target_disc]"
   ]
  },
  {
   "cell_type": "markdown",
   "metadata": {},
   "source": [
    "## Modelado"
   ]
  },
  {
   "cell_type": "code",
   "execution_count": 54,
   "metadata": {
    "ExecuteTime": {
     "end_time": "2022-03-25T01:29:13.609301Z",
     "start_time": "2022-03-25T01:29:13.601646Z"
    }
   },
   "outputs": [],
   "source": [
    "logreg = LogisticRegression()"
   ]
  },
  {
   "cell_type": "code",
   "execution_count": 55,
   "metadata": {
    "ExecuteTime": {
     "end_time": "2022-03-25T01:29:17.614688Z",
     "start_time": "2022-03-25T01:29:17.442561Z"
    }
   },
   "outputs": [
    {
     "name": "stderr",
     "output_type": "stream",
     "text": [
      "/home/jorge/Documents/Diplomado/ambientes/diplo_env/lib/python3.6/site-packages/sklearn/linear_model/_logistic.py:764: ConvergenceWarning: lbfgs failed to converge (status=1):\n",
      "STOP: TOTAL NO. of ITERATIONS REACHED LIMIT.\n",
      "\n",
      "Increase the number of iterations (max_iter) or scale the data as shown in:\n",
      "    https://scikit-learn.org/stable/modules/preprocessing.html\n",
      "Please also refer to the documentation for alternative solver options:\n",
      "    https://scikit-learn.org/stable/modules/linear_model.html#logistic-regression\n",
      "  extra_warning_msg=_LOGISTIC_SOLVER_CONVERGENCE_MSG)\n"
     ]
    },
    {
     "data": {
      "text/plain": [
       "LogisticRegression()"
      ]
     },
     "execution_count": 55,
     "metadata": {},
     "output_type": "execute_result"
    }
   ],
   "source": [
    "logreg.fit(Xt, yc)"
   ]
  },
  {
   "cell_type": "code",
   "execution_count": 56,
   "metadata": {
    "ExecuteTime": {
     "end_time": "2022-03-25T01:29:24.783676Z",
     "start_time": "2022-03-25T01:29:23.382164Z"
    }
   },
   "outputs": [],
   "source": [
    "ls_score = cross_val_score(estimator=logreg, X = Xt, y=yc, n_jobs=-1, scoring=\"roc_auc\", cv = 4)"
   ]
  },
  {
   "cell_type": "code",
   "execution_count": 57,
   "metadata": {
    "ExecuteTime": {
     "end_time": "2022-03-25T01:29:25.471082Z",
     "start_time": "2022-03-25T01:29:25.458649Z"
    }
   },
   "outputs": [
    {
     "data": {
      "text/plain": [
       "array([0.65878711, 0.62535057, 0.60423573, 0.6258071 ])"
      ]
     },
     "execution_count": 57,
     "metadata": {},
     "output_type": "execute_result"
    }
   ],
   "source": [
    "ls_score"
   ]
  },
  {
   "cell_type": "code",
   "execution_count": 58,
   "metadata": {
    "ExecuteTime": {
     "end_time": "2022-03-25T01:29:42.699698Z",
     "start_time": "2022-03-25T01:29:42.690599Z"
    }
   },
   "outputs": [
    {
     "data": {
      "text/plain": [
       "(0.6285451280158628, 0.0195142635672131)"
      ]
     },
     "execution_count": 58,
     "metadata": {},
     "output_type": "execute_result"
    }
   ],
   "source": [
    "np.mean(ls_score), np.std(ls_score)"
   ]
  },
  {
   "cell_type": "code",
   "execution_count": 59,
   "metadata": {
    "ExecuteTime": {
     "end_time": "2022-03-25T01:30:10.052097Z",
     "start_time": "2022-03-25T01:30:10.036143Z"
    }
   },
   "outputs": [],
   "source": [
    "validate[\"yc_hat\"] = logreg.predict(validate[ls_cont])"
   ]
  },
  {
   "cell_type": "code",
   "execution_count": 20,
   "metadata": {
    "ExecuteTime": {
     "end_time": "2021-09-04T03:02:04.991816Z",
     "start_time": "2021-09-04T03:02:04.989471Z"
    }
   },
   "outputs": [],
   "source": [
    "### Regresion"
   ]
  },
  {
   "cell_type": "code",
   "execution_count": 60,
   "metadata": {
    "ExecuteTime": {
     "end_time": "2022-03-25T01:30:26.947097Z",
     "start_time": "2022-03-25T01:30:26.938770Z"
    }
   },
   "outputs": [],
   "source": [
    "reg = DecisionTreeRegressor()"
   ]
  },
  {
   "cell_type": "code",
   "execution_count": 61,
   "metadata": {
    "ExecuteTime": {
     "end_time": "2022-03-25T01:30:40.923918Z",
     "start_time": "2022-03-25T01:30:40.761542Z"
    }
   },
   "outputs": [
    {
     "data": {
      "text/plain": [
       "DecisionTreeRegressor()"
      ]
     },
     "execution_count": 61,
     "metadata": {},
     "output_type": "execute_result"
    }
   ],
   "source": [
    "reg.fit(Xt, yr)"
   ]
  },
  {
   "cell_type": "code",
   "execution_count": 62,
   "metadata": {
    "ExecuteTime": {
     "end_time": "2022-03-25T01:30:51.907717Z",
     "start_time": "2022-03-25T01:30:50.994408Z"
    }
   },
   "outputs": [],
   "source": [
    "ls_score = cross_val_score(estimator=reg, X = Xt, y=yr, n_jobs=-1, scoring=\"r2\", cv = 4)"
   ]
  },
  {
   "cell_type": "code",
   "execution_count": 63,
   "metadata": {
    "ExecuteTime": {
     "end_time": "2022-03-25T01:30:52.585007Z",
     "start_time": "2022-03-25T01:30:52.574671Z"
    }
   },
   "outputs": [
    {
     "data": {
      "text/plain": [
       "(-3.0761511927170133, 2.1004468604478146)"
      ]
     },
     "execution_count": 63,
     "metadata": {},
     "output_type": "execute_result"
    }
   ],
   "source": [
    "np.mean(ls_score), np.std(ls_score)"
   ]
  },
  {
   "cell_type": "code",
   "execution_count": 64,
   "metadata": {
    "ExecuteTime": {
     "end_time": "2022-03-25T01:32:49.255748Z",
     "start_time": "2022-03-25T01:32:49.220153Z"
    }
   },
   "outputs": [],
   "source": [
    "validate[\"yr_hat\"] = reg.predict(validate[ls_cont])"
   ]
  },
  {
   "cell_type": "markdown",
   "metadata": {},
   "source": [
    "## PSI"
   ]
  },
  {
   "cell_type": "code",
   "execution_count": 65,
   "metadata": {
    "ExecuteTime": {
     "end_time": "2022-03-25T01:33:41.519404Z",
     "start_time": "2022-03-25T01:33:41.385491Z"
    }
   },
   "outputs": [],
   "source": [
    "dc_bins = {}\n",
    "for feat in ls_cont:\n",
    "    dc_bins.update({feat: pd.cut(Xt[feat], bins=3, retbins=True)[1]})"
   ]
  },
  {
   "cell_type": "code",
   "execution_count": 66,
   "metadata": {
    "ExecuteTime": {
     "end_time": "2022-03-25T01:34:19.014805Z",
     "start_time": "2022-03-25T01:34:18.813372Z"
    }
   },
   "outputs": [
    {
     "name": "stdout",
     "output_type": "stream",
     "text": [
      "PSI of n_tokens_title in 2014-06-01: 0.024268381629367567\n",
      "PSI of n_tokens_title in 2014-07-01: 0.01999712388729718\n",
      "PSI of n_tokens_title in 2014-08-01: 0.025254724598932063\n",
      "PSI of n_tokens_title in 2014-09-01: 0.05794335312827864\n",
      "PSI of n_tokens_title in 2014-10-01: 0.02236764515584619\n",
      "PSI of n_tokens_title in 2014-11-01: 0.06876615325443575\n",
      "PSI of n_tokens_title in 2014-12-01: 0.09328209183524613\n"
     ]
    }
   ],
   "source": [
    "# Cálculo de PSI\n",
    "for feat in dc_bins.keys():\n",
    "    for mes in sorted(validate[\"month\"].unique()):\n",
    "        aux_t = pd.cut(Xt[feat], bins=dc_bins[feat]).value_counts(True).reset_index().rename(columns = {feat: f\"{feat}_train\"}) # Segmentación de variable continua\n",
    "        aux_v = pd.cut(validate.loc[validate[\"month\"] == mes, feat], bins=dc_bins[feat]).value_counts(True).reset_index().rename(columns = {feat: f\"{feat}_valid\"}) # Aplicación de segmentos a validación\n",
    "        aux = aux_t.merge(aux_v, on = \"index\")\n",
    "        aux[\"diff\"] = aux[f\"{feat}_valid\"] - aux[f\"{feat}_train\"] # Diferencia en proporciones\n",
    "        aux[\"log\"] = np.log(aux[f\"{feat}_valid\"] / aux[f\"{feat}_train\"]) # Logaritmo del cociente de proporciones\n",
    "        aux[\"PSI\"] = aux[\"diff\"] * aux[\"log\"] # Cálculo de PSI por rango\n",
    "        print(f'PSI of {feat} in {mes}: {aux[\"PSI\"].sum()}') # Impresión de PSI total de la variable\n",
    "    break"
   ]
  },
  {
   "cell_type": "markdown",
   "metadata": {},
   "source": [
    "## Desempeño de Poder predictivo"
   ]
  },
  {
   "cell_type": "code",
   "execution_count": 67,
   "metadata": {
    "ExecuteTime": {
     "end_time": "2022-03-25T01:37:13.895514Z",
     "start_time": "2022-03-25T01:37:13.841816Z"
    }
   },
   "outputs": [
    {
     "name": "stdout",
     "output_type": "stream",
     "text": [
      "Predictive power of n_tokens_title in 2014-06-01: 0.378313265853346\n",
      "Predictive power of n_tokens_title in 2014-07-01: 0.029962096523564227\n",
      "Predictive power of n_tokens_title in 2014-08-01: 0.41729599559039227\n",
      "Predictive power of n_tokens_title in 2014-09-01: 0.07589907734141284\n",
      "Predictive power of n_tokens_title in 2014-10-01: 0.0007577531591167777\n",
      "Predictive power of n_tokens_title in 2014-11-01: 0.11237611502599533\n",
      "Predictive power of n_tokens_title in 2014-12-01: 0.061175247389279146\n"
     ]
    }
   ],
   "source": [
    "for feat in ls_cont:\n",
    "    for mes in sorted(validate[\"month\"].unique()):\n",
    "        kb = SelectKBest(k=1, score_func=f_regression) # Medición de poder predictivo\n",
    "        kb.fit(validate.loc[validate[\"month\"] == mes, [feat]], validate.loc[validate[\"month\"] == mes, \"shares\"]) # Segmentación por mes\n",
    "        print(f'Predictive power of {feat} in {mes}: {kb.scores_[0]}') # Muestra de poder predictivo\n",
    "    break"
   ]
  },
  {
   "cell_type": "code",
   "execution_count": 69,
   "metadata": {
    "ExecuteTime": {
     "end_time": "2022-03-25T01:39:26.228715Z",
     "start_time": "2022-03-25T01:39:26.029136Z"
    }
   },
   "outputs": [
    {
     "name": "stdout",
     "output_type": "stream",
     "text": [
      "Predictive power of n_tokens_title in 2014-06-01: 0.07615697832227218\n",
      "Predictive power of n_tokens_title in 2014-07-01: 0.006482477502124616\n",
      "Predictive power of n_tokens_title in 2014-08-01: 0.14397050971107794\n",
      "Predictive power of n_tokens_title in 2014-09-01: 0.034426510063114084\n",
      "Predictive power of n_tokens_title in 2014-10-01: 0.022097139066905712\n",
      "Predictive power of n_tokens_title in 2014-11-01: 0.028005166425965292\n",
      "Predictive power of n_tokens_title in 2014-12-01: 0.043658003150634964\n"
     ]
    }
   ],
   "source": [
    "# Prueba de poder predictivo discreta (IV)\n",
    "for feat in ls_cont:\n",
    "    for mes in sorted(validate[\"month\"].unique()):\n",
    "        validate[f\"C_{feat}\"] = pd.cut(validate[feat], bins=dc_bins[feat])\n",
    "        print(f'Predictive power of {feat} in {mes}: {IV(validate[validate[\"month\"] == mes], f\"C_{feat}\", \"success\")}')\n",
    "    break"
   ]
  },
  {
   "cell_type": "markdown",
   "metadata": {},
   "source": [
    "## Estabilidad de características\n"
   ]
  },
  {
   "cell_type": "code",
   "execution_count": 70,
   "metadata": {
    "ExecuteTime": {
     "end_time": "2022-03-25T01:40:28.500035Z",
     "start_time": "2022-03-25T01:40:28.350139Z"
    }
   },
   "outputs": [
    {
     "name": "stdout",
     "output_type": "stream",
     "text": [
      "Stability KS of n_tokens_title in 2014-06-01: 0.06759816420193776\n",
      "Stability KS of n_tokens_title in 2014-07-01: 0.04867924528301887\n",
      "Stability KS of n_tokens_title in 2014-08-01: 0.06446871896722939\n",
      "Stability KS of n_tokens_title in 2014-09-01: 0.09867924528301886\n",
      "Stability KS of n_tokens_title in 2014-10-01: 0.06961443806398682\n",
      "Stability KS of n_tokens_title in 2014-11-01: 0.11463669209152949\n",
      "Stability KS of n_tokens_title in 2014-12-01: 0.10477680625862862\n"
     ]
    }
   ],
   "source": [
    "# Estabilidad de características\n",
    "for feat in dc_bins.keys():\n",
    "    for mes in sorted(validate[\"month\"].unique()):\n",
    "        aux_t = pd.cut(Xt[feat], bins=dc_bins[feat]).value_counts(True).reset_index().rename(columns = {feat: f\"{feat}_train\"})\n",
    "        aux_v = pd.cut(validate.loc[validate[\"month\"] == mes, feat], bins=dc_bins[feat]).value_counts(True).reset_index().rename(columns = {feat: f\"{feat}_valid\"})\n",
    "        aux = aux_t.merge(aux_v, on = \"index\")\n",
    "        aux[\"diff\"] = abs(aux[f\"{feat}_valid\"] - aux[f\"{feat}_train\"])\n",
    "        print(f'Stability KS of {feat} in {mes}: {max(aux[\"diff\"])}')\n",
    "    break\n",
    "    "
   ]
  },
  {
   "cell_type": "markdown",
   "metadata": {},
   "source": [
    "## Performance"
   ]
  },
  {
   "cell_type": "code",
   "execution_count": 71,
   "metadata": {
    "ExecuteTime": {
     "end_time": "2022-03-25T01:42:02.190315Z",
     "start_time": "2022-03-25T01:42:02.150932Z"
    }
   },
   "outputs": [
    {
     "name": "stdout",
     "output_type": "stream",
     "text": [
      "2014-06-01 0.5631578947368422\n",
      "2014-07-01 0.5992362576625465\n",
      "2014-08-01 0.6658163265306123\n",
      "2014-09-01 0.680995475113122\n",
      "2014-10-01 0.5523775655354604\n",
      "2014-11-01 0.6312701334560517\n",
      "2014-12-01 0.5903125\n"
     ]
    }
   ],
   "source": [
    "# Evaluación de la precisión del modelo en \"producción\" (discreto)\n",
    "for month in sorted(validate[\"month\"].unique()):\n",
    "    aux = validate[validate[\"month\"] == month]\n",
    "    \n",
    "    print(month, roc_auc_score(y_score=aux[\"yc_hat\"], y_true=aux[\"success\"]))"
   ]
  },
  {
   "cell_type": "code",
   "execution_count": 72,
   "metadata": {
    "ExecuteTime": {
     "end_time": "2022-03-25T01:42:37.210586Z",
     "start_time": "2022-03-25T01:42:37.125888Z"
    }
   },
   "outputs": [
    {
     "name": "stdout",
     "output_type": "stream",
     "text": [
      "2014-06-01 0.5844418995899179\n",
      "2014-07-01 -0.1752005353357049\n",
      "2014-08-01 0.5447577274453037\n",
      "2014-09-01 0.48331880953933315\n",
      "2014-10-01 0.24418076348647688\n",
      "2014-11-01 0.9411348726870984\n",
      "2014-12-01 0.03479311206436331\n"
     ]
    }
   ],
   "source": [
    "# Evaluación de la precisión del modelo en \"producción\" (continuo)\n",
    "for month in sorted(validate[\"month\"].unique()):\n",
    "    aux = validate[validate[\"month\"] == month]\n",
    "    print(month, r2_score(y_pred=aux[\"yr_hat\"], y_true=aux[\"shares\"]))"
   ]
  },
  {
   "cell_type": "code",
   "execution_count": 73,
   "metadata": {
    "ExecuteTime": {
     "end_time": "2022-03-25T01:43:20.658618Z",
     "start_time": "2022-03-25T01:43:20.654060Z"
    }
   },
   "outputs": [],
   "source": [
    "from scipy.stats import ks_2samp"
   ]
  },
  {
   "cell_type": "code",
   "execution_count": 74,
   "metadata": {
    "ExecuteTime": {
     "end_time": "2022-03-25T01:43:42.845651Z",
     "start_time": "2022-03-25T01:43:42.826698Z"
    }
   },
   "outputs": [
    {
     "data": {
      "text/plain": [
       "array([[0.46221505, 0.53778495],\n",
       "       [0.45486788, 0.54513212],\n",
       "       [0.51140327, 0.48859673],\n",
       "       ...,\n",
       "       [0.50806088, 0.49193912],\n",
       "       [0.42133606, 0.57866394],\n",
       "       [0.5856636 , 0.4143364 ]])"
      ]
     },
     "execution_count": 74,
     "metadata": {},
     "output_type": "execute_result"
    }
   ],
   "source": [
    "logreg.predict_proba(Xt)"
   ]
  },
  {
   "cell_type": "code",
   "execution_count": 76,
   "metadata": {
    "ExecuteTime": {
     "end_time": "2022-03-25T01:45:55.251148Z",
     "start_time": "2022-03-25T01:45:55.237054Z"
    }
   },
   "outputs": [
    {
     "data": {
      "text/plain": [
       "array([0.53778495, 0.54513212, 0.48859673, ..., 0.49193912, 0.57866394,\n",
       "       0.4143364 ])"
      ]
     },
     "execution_count": 76,
     "metadata": {},
     "output_type": "execute_result"
    }
   ],
   "source": [
    "logreg.predict_proba(Xt)[:,1]"
   ]
  },
  {
   "cell_type": "code",
   "execution_count": 75,
   "metadata": {
    "ExecuteTime": {
     "end_time": "2022-03-25T01:45:19.539615Z",
     "start_time": "2022-03-25T01:45:19.511728Z"
    }
   },
   "outputs": [
    {
     "data": {
      "text/plain": [
       "array([1, 1, 0, ..., 0, 1, 0])"
      ]
     },
     "execution_count": 75,
     "metadata": {},
     "output_type": "execute_result"
    }
   ],
   "source": [
    "logreg.predict(Xt)"
   ]
  },
  {
   "cell_type": "code",
   "execution_count": 77,
   "metadata": {
    "ExecuteTime": {
     "end_time": "2022-03-25T01:51:27.452135Z",
     "start_time": "2022-03-25T01:51:27.409872Z"
    }
   },
   "outputs": [],
   "source": [
    "train[\"proba\"] = logreg.predict_proba(Xt)[:,1]\n",
    "validate[\"proba\"] = logreg.predict_proba(validate[ls_cont])[:,1]\n",
    "train[\"pred_clas\"] = logreg.predict(Xt)\n",
    "validate[\"pred_clas\"] = logreg.predict(validate[ls_cont])"
   ]
  },
  {
   "cell_type": "code",
   "execution_count": 78,
   "metadata": {
    "ExecuteTime": {
     "end_time": "2022-03-25T01:51:28.268675Z",
     "start_time": "2022-03-25T01:51:28.229788Z"
    }
   },
   "outputs": [],
   "source": [
    "aux_train =train.set_index(\"month\")[[\"proba\",\"pred_clas\"]] \n",
    "aux_test =validate.set_index(\"month\")[[\"proba\",\"pred_clas\"]] "
   ]
  },
  {
   "cell_type": "code",
   "execution_count": 79,
   "metadata": {
    "ExecuteTime": {
     "end_time": "2022-03-25T01:51:35.526090Z",
     "start_time": "2022-03-25T01:51:35.507967Z"
    }
   },
   "outputs": [
    {
     "data": {
      "text/html": [
       "<div>\n",
       "<style scoped>\n",
       "    .dataframe tbody tr th:only-of-type {\n",
       "        vertical-align: middle;\n",
       "    }\n",
       "\n",
       "    .dataframe tbody tr th {\n",
       "        vertical-align: top;\n",
       "    }\n",
       "\n",
       "    .dataframe thead th {\n",
       "        text-align: right;\n",
       "    }\n",
       "</style>\n",
       "<table border=\"1\" class=\"dataframe\">\n",
       "  <thead>\n",
       "    <tr style=\"text-align: right;\">\n",
       "      <th></th>\n",
       "      <th>proba</th>\n",
       "      <th>pred_clas</th>\n",
       "    </tr>\n",
       "    <tr>\n",
       "      <th>month</th>\n",
       "      <th></th>\n",
       "      <th></th>\n",
       "    </tr>\n",
       "  </thead>\n",
       "  <tbody>\n",
       "    <tr>\n",
       "      <th>2014-08-01</th>\n",
       "      <td>0.537785</td>\n",
       "      <td>1</td>\n",
       "    </tr>\n",
       "    <tr>\n",
       "      <th>2014-04-01</th>\n",
       "      <td>0.545132</td>\n",
       "      <td>1</td>\n",
       "    </tr>\n",
       "    <tr>\n",
       "      <th>2013-10-01</th>\n",
       "      <td>0.488597</td>\n",
       "      <td>0</td>\n",
       "    </tr>\n",
       "    <tr>\n",
       "      <th>2014-02-01</th>\n",
       "      <td>0.546946</td>\n",
       "      <td>1</td>\n",
       "    </tr>\n",
       "    <tr>\n",
       "      <th>2014-05-01</th>\n",
       "      <td>0.445428</td>\n",
       "      <td>0</td>\n",
       "    </tr>\n",
       "    <tr>\n",
       "      <th>...</th>\n",
       "      <td>...</td>\n",
       "      <td>...</td>\n",
       "    </tr>\n",
       "    <tr>\n",
       "      <th>2014-01-01</th>\n",
       "      <td>0.364661</td>\n",
       "      <td>0</td>\n",
       "    </tr>\n",
       "    <tr>\n",
       "      <th>2014-10-01</th>\n",
       "      <td>0.365404</td>\n",
       "      <td>0</td>\n",
       "    </tr>\n",
       "    <tr>\n",
       "      <th>2014-08-01</th>\n",
       "      <td>0.491939</td>\n",
       "      <td>0</td>\n",
       "    </tr>\n",
       "    <tr>\n",
       "      <th>2014-01-01</th>\n",
       "      <td>0.578664</td>\n",
       "      <td>1</td>\n",
       "    </tr>\n",
       "    <tr>\n",
       "      <th>2014-03-01</th>\n",
       "      <td>0.414336</td>\n",
       "      <td>0</td>\n",
       "    </tr>\n",
       "  </tbody>\n",
       "</table>\n",
       "<p>2650 rows × 2 columns</p>\n",
       "</div>"
      ],
      "text/plain": [
       "               proba  pred_clas\n",
       "month                          \n",
       "2014-08-01  0.537785          1\n",
       "2014-04-01  0.545132          1\n",
       "2013-10-01  0.488597          0\n",
       "2014-02-01  0.546946          1\n",
       "2014-05-01  0.445428          0\n",
       "...              ...        ...\n",
       "2014-01-01  0.364661          0\n",
       "2014-10-01  0.365404          0\n",
       "2014-08-01  0.491939          0\n",
       "2014-01-01  0.578664          1\n",
       "2014-03-01  0.414336          0\n",
       "\n",
       "[2650 rows x 2 columns]"
      ]
     },
     "execution_count": 79,
     "metadata": {},
     "output_type": "execute_result"
    }
   ],
   "source": [
    "aux_train"
   ]
  },
  {
   "cell_type": "code",
   "execution_count": 80,
   "metadata": {
    "ExecuteTime": {
     "end_time": "2022-03-25T01:51:51.937004Z",
     "start_time": "2022-03-25T01:51:51.918102Z"
    }
   },
   "outputs": [
    {
     "data": {
      "text/html": [
       "<div>\n",
       "<style scoped>\n",
       "    .dataframe tbody tr th:only-of-type {\n",
       "        vertical-align: middle;\n",
       "    }\n",
       "\n",
       "    .dataframe tbody tr th {\n",
       "        vertical-align: top;\n",
       "    }\n",
       "\n",
       "    .dataframe thead th {\n",
       "        text-align: right;\n",
       "    }\n",
       "</style>\n",
       "<table border=\"1\" class=\"dataframe\">\n",
       "  <thead>\n",
       "    <tr style=\"text-align: right;\">\n",
       "      <th></th>\n",
       "      <th>proba</th>\n",
       "      <th>pred_clas</th>\n",
       "    </tr>\n",
       "    <tr>\n",
       "      <th>month</th>\n",
       "      <th></th>\n",
       "      <th></th>\n",
       "    </tr>\n",
       "  </thead>\n",
       "  <tbody>\n",
       "    <tr>\n",
       "      <th>2014-08-01</th>\n",
       "      <td>0.437386</td>\n",
       "      <td>0</td>\n",
       "    </tr>\n",
       "    <tr>\n",
       "      <th>2014-09-01</th>\n",
       "      <td>0.536683</td>\n",
       "      <td>1</td>\n",
       "    </tr>\n",
       "    <tr>\n",
       "      <th>2014-07-01</th>\n",
       "      <td>0.410388</td>\n",
       "      <td>0</td>\n",
       "    </tr>\n",
       "    <tr>\n",
       "      <th>2014-08-01</th>\n",
       "      <td>0.351155</td>\n",
       "      <td>0</td>\n",
       "    </tr>\n",
       "    <tr>\n",
       "      <th>2014-10-01</th>\n",
       "      <td>0.456340</td>\n",
       "      <td>0</td>\n",
       "    </tr>\n",
       "    <tr>\n",
       "      <th>...</th>\n",
       "      <td>...</td>\n",
       "      <td>...</td>\n",
       "    </tr>\n",
       "    <tr>\n",
       "      <th>2014-11-01</th>\n",
       "      <td>0.599692</td>\n",
       "      <td>1</td>\n",
       "    </tr>\n",
       "    <tr>\n",
       "      <th>2014-06-01</th>\n",
       "      <td>0.399467</td>\n",
       "      <td>0</td>\n",
       "    </tr>\n",
       "    <tr>\n",
       "      <th>2014-10-01</th>\n",
       "      <td>0.545907</td>\n",
       "      <td>1</td>\n",
       "    </tr>\n",
       "    <tr>\n",
       "      <th>2014-10-01</th>\n",
       "      <td>0.365404</td>\n",
       "      <td>0</td>\n",
       "    </tr>\n",
       "    <tr>\n",
       "      <th>2014-08-01</th>\n",
       "      <td>0.491939</td>\n",
       "      <td>0</td>\n",
       "    </tr>\n",
       "  </tbody>\n",
       "</table>\n",
       "<p>1314 rows × 2 columns</p>\n",
       "</div>"
      ],
      "text/plain": [
       "               proba  pred_clas\n",
       "month                          \n",
       "2014-08-01  0.437386          0\n",
       "2014-09-01  0.536683          1\n",
       "2014-07-01  0.410388          0\n",
       "2014-08-01  0.351155          0\n",
       "2014-10-01  0.456340          0\n",
       "...              ...        ...\n",
       "2014-11-01  0.599692          1\n",
       "2014-06-01  0.399467          0\n",
       "2014-10-01  0.545907          1\n",
       "2014-10-01  0.365404          0\n",
       "2014-08-01  0.491939          0\n",
       "\n",
       "[1314 rows x 2 columns]"
      ]
     },
     "execution_count": 80,
     "metadata": {},
     "output_type": "execute_result"
    }
   ],
   "source": [
    "aux_test"
   ]
  },
  {
   "cell_type": "code",
   "execution_count": 81,
   "metadata": {
    "ExecuteTime": {
     "end_time": "2022-03-25T01:52:14.689819Z",
     "start_time": "2022-03-25T01:52:14.617375Z"
    }
   },
   "outputs": [
    {
     "name": "stdout",
     "output_type": "stream",
     "text": [
      "Month 2014-06-01 KS: KstestResult(statistic=1.0, pvalue=0.0)\n",
      "Month 2014-07-01 KS: KstestResult(statistic=1.0, pvalue=0.0)\n",
      "Month 2014-08-01 KS: KstestResult(statistic=1.0, pvalue=3.3306690738754696e-16)\n",
      "Month 2014-09-01 KS: KstestResult(statistic=1.0, pvalue=1.1102230246251565e-16)\n",
      "Month 2014-10-01 KS: KstestResult(statistic=1.0, pvalue=0.0)\n",
      "Month 2014-11-01 KS: KstestResult(statistic=1.0, pvalue=4.440892098500626e-16)\n",
      "Month 2014-12-01 KS: KstestResult(statistic=1.0, pvalue=8.881784197001252e-16)\n"
     ]
    }
   ],
   "source": [
    "for month in sorted(validate[\"month\"].unique()):\n",
    "    ks_result = ks_2samp(aux_test.loc[month].query(\"pred_clas==0\")[\"proba\"],\n",
    "                         aux_test.loc[month].query(\"pred_clas==1\")[\"proba\"])\n",
    "    print(f\"Month {month } KS: {ks_result}\")"
   ]
  },
  {
   "cell_type": "code",
   "execution_count": null,
   "metadata": {},
   "outputs": [],
   "source": []
  }
 ],
 "metadata": {
  "kernelspec": {
   "display_name": "diplo_env",
   "language": "python",
   "name": "diplo_env"
  },
  "language_info": {
   "codemirror_mode": {
    "name": "ipython",
    "version": 3
   },
   "file_extension": ".py",
   "mimetype": "text/x-python",
   "name": "python",
   "nbconvert_exporter": "python",
   "pygments_lexer": "ipython3",
   "version": "3.6.13"
  },
  "varInspector": {
   "cols": {
    "lenName": 16,
    "lenType": 16,
    "lenVar": 40
   },
   "kernels_config": {
    "python": {
     "delete_cmd_postfix": "",
     "delete_cmd_prefix": "del ",
     "library": "var_list.py",
     "varRefreshCmd": "print(var_dic_list())"
    },
    "r": {
     "delete_cmd_postfix": ") ",
     "delete_cmd_prefix": "rm(",
     "library": "var_list.r",
     "varRefreshCmd": "cat(var_dic_list()) "
    }
   },
   "types_to_exclude": [
    "module",
    "function",
    "builtin_function_or_method",
    "instance",
    "_Feature"
   ],
   "window_display": false
  }
 },
 "nbformat": 4,
 "nbformat_minor": 4
}

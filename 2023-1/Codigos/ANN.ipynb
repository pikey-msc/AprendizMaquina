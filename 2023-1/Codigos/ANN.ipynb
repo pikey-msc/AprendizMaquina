{
 "cells": [
  {
   "cell_type": "code",
   "execution_count": 41,
   "metadata": {
    "ExecuteTime": {
     "end_time": "2022-03-19T15:21:22.840027Z",
     "start_time": "2022-03-19T15:21:22.736810Z"
    }
   },
   "outputs": [],
   "source": [
    "import numpy as np\n",
    "import pandas as pd\n",
    "import tensorflow as tf"
   ]
  },
  {
   "cell_type": "code",
   "execution_count": 42,
   "metadata": {
    "ExecuteTime": {
     "end_time": "2022-03-19T15:22:11.282967Z",
     "start_time": "2022-03-19T15:22:11.265866Z"
    }
   },
   "outputs": [
    {
     "data": {
      "text/plain": [
       "'2.3.1'"
      ]
     },
     "execution_count": 42,
     "metadata": {},
     "output_type": "execute_result"
    }
   ],
   "source": [
    "tf.__version__"
   ]
  },
  {
   "cell_type": "code",
   "execution_count": 43,
   "metadata": {
    "ExecuteTime": {
     "end_time": "2022-03-19T15:24:03.680646Z",
     "start_time": "2022-03-19T15:24:03.631641Z"
    }
   },
   "outputs": [],
   "source": [
    "data = pd.read_csv('../data/Churn_Modelling.csv')"
   ]
  },
  {
   "cell_type": "code",
   "execution_count": 44,
   "metadata": {
    "ExecuteTime": {
     "end_time": "2022-03-19T15:24:09.604896Z",
     "start_time": "2022-03-19T15:24:09.571247Z"
    },
    "scrolled": true
   },
   "outputs": [
    {
     "data": {
      "text/html": [
       "<div>\n",
       "<style scoped>\n",
       "    .dataframe tbody tr th:only-of-type {\n",
       "        vertical-align: middle;\n",
       "    }\n",
       "\n",
       "    .dataframe tbody tr th {\n",
       "        vertical-align: top;\n",
       "    }\n",
       "\n",
       "    .dataframe thead th {\n",
       "        text-align: right;\n",
       "    }\n",
       "</style>\n",
       "<table border=\"1\" class=\"dataframe\">\n",
       "  <thead>\n",
       "    <tr style=\"text-align: right;\">\n",
       "      <th></th>\n",
       "      <th>RowNumber</th>\n",
       "      <th>CustomerId</th>\n",
       "      <th>Surname</th>\n",
       "      <th>CreditScore</th>\n",
       "      <th>Geography</th>\n",
       "      <th>Gender</th>\n",
       "      <th>Age</th>\n",
       "      <th>Tenure</th>\n",
       "      <th>Balance</th>\n",
       "      <th>NumOfProducts</th>\n",
       "      <th>HasCrCard</th>\n",
       "      <th>IsActiveMember</th>\n",
       "      <th>EstimatedSalary</th>\n",
       "      <th>Exited</th>\n",
       "    </tr>\n",
       "  </thead>\n",
       "  <tbody>\n",
       "    <tr>\n",
       "      <th>0</th>\n",
       "      <td>1</td>\n",
       "      <td>15634602</td>\n",
       "      <td>Hargrave</td>\n",
       "      <td>619</td>\n",
       "      <td>France</td>\n",
       "      <td>Female</td>\n",
       "      <td>42</td>\n",
       "      <td>2</td>\n",
       "      <td>0.00</td>\n",
       "      <td>1</td>\n",
       "      <td>1</td>\n",
       "      <td>1</td>\n",
       "      <td>101348.88</td>\n",
       "      <td>1</td>\n",
       "    </tr>\n",
       "    <tr>\n",
       "      <th>1</th>\n",
       "      <td>2</td>\n",
       "      <td>15647311</td>\n",
       "      <td>Hill</td>\n",
       "      <td>608</td>\n",
       "      <td>Spain</td>\n",
       "      <td>Female</td>\n",
       "      <td>41</td>\n",
       "      <td>1</td>\n",
       "      <td>83807.86</td>\n",
       "      <td>1</td>\n",
       "      <td>0</td>\n",
       "      <td>1</td>\n",
       "      <td>112542.58</td>\n",
       "      <td>0</td>\n",
       "    </tr>\n",
       "    <tr>\n",
       "      <th>2</th>\n",
       "      <td>3</td>\n",
       "      <td>15619304</td>\n",
       "      <td>Onio</td>\n",
       "      <td>502</td>\n",
       "      <td>France</td>\n",
       "      <td>Female</td>\n",
       "      <td>42</td>\n",
       "      <td>8</td>\n",
       "      <td>159660.80</td>\n",
       "      <td>3</td>\n",
       "      <td>1</td>\n",
       "      <td>0</td>\n",
       "      <td>113931.57</td>\n",
       "      <td>1</td>\n",
       "    </tr>\n",
       "    <tr>\n",
       "      <th>3</th>\n",
       "      <td>4</td>\n",
       "      <td>15701354</td>\n",
       "      <td>Boni</td>\n",
       "      <td>699</td>\n",
       "      <td>France</td>\n",
       "      <td>Female</td>\n",
       "      <td>39</td>\n",
       "      <td>1</td>\n",
       "      <td>0.00</td>\n",
       "      <td>2</td>\n",
       "      <td>0</td>\n",
       "      <td>0</td>\n",
       "      <td>93826.63</td>\n",
       "      <td>0</td>\n",
       "    </tr>\n",
       "    <tr>\n",
       "      <th>4</th>\n",
       "      <td>5</td>\n",
       "      <td>15737888</td>\n",
       "      <td>Mitchell</td>\n",
       "      <td>850</td>\n",
       "      <td>Spain</td>\n",
       "      <td>Female</td>\n",
       "      <td>43</td>\n",
       "      <td>2</td>\n",
       "      <td>125510.82</td>\n",
       "      <td>1</td>\n",
       "      <td>1</td>\n",
       "      <td>1</td>\n",
       "      <td>79084.10</td>\n",
       "      <td>0</td>\n",
       "    </tr>\n",
       "    <tr>\n",
       "      <th>...</th>\n",
       "      <td>...</td>\n",
       "      <td>...</td>\n",
       "      <td>...</td>\n",
       "      <td>...</td>\n",
       "      <td>...</td>\n",
       "      <td>...</td>\n",
       "      <td>...</td>\n",
       "      <td>...</td>\n",
       "      <td>...</td>\n",
       "      <td>...</td>\n",
       "      <td>...</td>\n",
       "      <td>...</td>\n",
       "      <td>...</td>\n",
       "      <td>...</td>\n",
       "    </tr>\n",
       "    <tr>\n",
       "      <th>9995</th>\n",
       "      <td>9996</td>\n",
       "      <td>15606229</td>\n",
       "      <td>Obijiaku</td>\n",
       "      <td>771</td>\n",
       "      <td>France</td>\n",
       "      <td>Male</td>\n",
       "      <td>39</td>\n",
       "      <td>5</td>\n",
       "      <td>0.00</td>\n",
       "      <td>2</td>\n",
       "      <td>1</td>\n",
       "      <td>0</td>\n",
       "      <td>96270.64</td>\n",
       "      <td>0</td>\n",
       "    </tr>\n",
       "    <tr>\n",
       "      <th>9996</th>\n",
       "      <td>9997</td>\n",
       "      <td>15569892</td>\n",
       "      <td>Johnstone</td>\n",
       "      <td>516</td>\n",
       "      <td>France</td>\n",
       "      <td>Male</td>\n",
       "      <td>35</td>\n",
       "      <td>10</td>\n",
       "      <td>57369.61</td>\n",
       "      <td>1</td>\n",
       "      <td>1</td>\n",
       "      <td>1</td>\n",
       "      <td>101699.77</td>\n",
       "      <td>0</td>\n",
       "    </tr>\n",
       "    <tr>\n",
       "      <th>9997</th>\n",
       "      <td>9998</td>\n",
       "      <td>15584532</td>\n",
       "      <td>Liu</td>\n",
       "      <td>709</td>\n",
       "      <td>France</td>\n",
       "      <td>Female</td>\n",
       "      <td>36</td>\n",
       "      <td>7</td>\n",
       "      <td>0.00</td>\n",
       "      <td>1</td>\n",
       "      <td>0</td>\n",
       "      <td>1</td>\n",
       "      <td>42085.58</td>\n",
       "      <td>1</td>\n",
       "    </tr>\n",
       "    <tr>\n",
       "      <th>9998</th>\n",
       "      <td>9999</td>\n",
       "      <td>15682355</td>\n",
       "      <td>Sabbatini</td>\n",
       "      <td>772</td>\n",
       "      <td>Germany</td>\n",
       "      <td>Male</td>\n",
       "      <td>42</td>\n",
       "      <td>3</td>\n",
       "      <td>75075.31</td>\n",
       "      <td>2</td>\n",
       "      <td>1</td>\n",
       "      <td>0</td>\n",
       "      <td>92888.52</td>\n",
       "      <td>1</td>\n",
       "    </tr>\n",
       "    <tr>\n",
       "      <th>9999</th>\n",
       "      <td>10000</td>\n",
       "      <td>15628319</td>\n",
       "      <td>Walker</td>\n",
       "      <td>792</td>\n",
       "      <td>France</td>\n",
       "      <td>Female</td>\n",
       "      <td>28</td>\n",
       "      <td>4</td>\n",
       "      <td>130142.79</td>\n",
       "      <td>1</td>\n",
       "      <td>1</td>\n",
       "      <td>0</td>\n",
       "      <td>38190.78</td>\n",
       "      <td>0</td>\n",
       "    </tr>\n",
       "  </tbody>\n",
       "</table>\n",
       "<p>10000 rows × 14 columns</p>\n",
       "</div>"
      ],
      "text/plain": [
       "      RowNumber  CustomerId    Surname  CreditScore Geography  Gender  Age  \\\n",
       "0             1    15634602   Hargrave          619    France  Female   42   \n",
       "1             2    15647311       Hill          608     Spain  Female   41   \n",
       "2             3    15619304       Onio          502    France  Female   42   \n",
       "3             4    15701354       Boni          699    France  Female   39   \n",
       "4             5    15737888   Mitchell          850     Spain  Female   43   \n",
       "...         ...         ...        ...          ...       ...     ...  ...   \n",
       "9995       9996    15606229   Obijiaku          771    France    Male   39   \n",
       "9996       9997    15569892  Johnstone          516    France    Male   35   \n",
       "9997       9998    15584532        Liu          709    France  Female   36   \n",
       "9998       9999    15682355  Sabbatini          772   Germany    Male   42   \n",
       "9999      10000    15628319     Walker          792    France  Female   28   \n",
       "\n",
       "      Tenure    Balance  NumOfProducts  HasCrCard  IsActiveMember  \\\n",
       "0          2       0.00              1          1               1   \n",
       "1          1   83807.86              1          0               1   \n",
       "2          8  159660.80              3          1               0   \n",
       "3          1       0.00              2          0               0   \n",
       "4          2  125510.82              1          1               1   \n",
       "...      ...        ...            ...        ...             ...   \n",
       "9995       5       0.00              2          1               0   \n",
       "9996      10   57369.61              1          1               1   \n",
       "9997       7       0.00              1          0               1   \n",
       "9998       3   75075.31              2          1               0   \n",
       "9999       4  130142.79              1          1               0   \n",
       "\n",
       "      EstimatedSalary  Exited  \n",
       "0           101348.88       1  \n",
       "1           112542.58       0  \n",
       "2           113931.57       1  \n",
       "3            93826.63       0  \n",
       "4            79084.10       0  \n",
       "...               ...     ...  \n",
       "9995         96270.64       0  \n",
       "9996        101699.77       0  \n",
       "9997         42085.58       1  \n",
       "9998         92888.52       1  \n",
       "9999         38190.78       0  \n",
       "\n",
       "[10000 rows x 14 columns]"
      ]
     },
     "execution_count": 44,
     "metadata": {},
     "output_type": "execute_result"
    }
   ],
   "source": [
    "data"
   ]
  },
  {
   "cell_type": "code",
   "execution_count": 45,
   "metadata": {
    "ExecuteTime": {
     "end_time": "2022-03-19T15:24:23.832755Z",
     "start_time": "2022-03-19T15:24:23.799172Z"
    }
   },
   "outputs": [
    {
     "data": {
      "text/plain": [
       "RowNumber          0\n",
       "CustomerId         0\n",
       "Surname            0\n",
       "CreditScore        0\n",
       "Geography          0\n",
       "Gender             0\n",
       "Age                0\n",
       "Tenure             0\n",
       "Balance            0\n",
       "NumOfProducts      0\n",
       "HasCrCard          0\n",
       "IsActiveMember     0\n",
       "EstimatedSalary    0\n",
       "Exited             0\n",
       "dtype: int64"
      ]
     },
     "execution_count": 45,
     "metadata": {},
     "output_type": "execute_result"
    }
   ],
   "source": [
    "data.isnull().sum()"
   ]
  },
  {
   "cell_type": "code",
   "execution_count": 46,
   "metadata": {
    "ExecuteTime": {
     "end_time": "2022-03-19T15:24:27.406530Z",
     "start_time": "2022-03-19T15:24:27.392560Z"
    }
   },
   "outputs": [
    {
     "data": {
      "text/plain": [
       "Smith        0.0032\n",
       "Scott        0.0029\n",
       "Martin       0.0029\n",
       "Walker       0.0028\n",
       "Brown        0.0026\n",
       "              ...  \n",
       "Perreault    0.0001\n",
       "Outhwaite    0.0001\n",
       "Foxall       0.0001\n",
       "Tyndall      0.0001\n",
       "Efremova     0.0001\n",
       "Name: Surname, Length: 2932, dtype: float64"
      ]
     },
     "execution_count": 46,
     "metadata": {},
     "output_type": "execute_result"
    }
   ],
   "source": [
    "data['Surname'].value_counts(1)"
   ]
  },
  {
   "cell_type": "code",
   "execution_count": 47,
   "metadata": {
    "ExecuteTime": {
     "end_time": "2022-03-19T15:24:39.862792Z",
     "start_time": "2022-03-19T15:24:39.735435Z"
    }
   },
   "outputs": [
    {
     "data": {
      "text/html": [
       "<div>\n",
       "<style scoped>\n",
       "    .dataframe tbody tr th:only-of-type {\n",
       "        vertical-align: middle;\n",
       "    }\n",
       "\n",
       "    .dataframe tbody tr th {\n",
       "        vertical-align: top;\n",
       "    }\n",
       "\n",
       "    .dataframe thead th {\n",
       "        text-align: right;\n",
       "    }\n",
       "</style>\n",
       "<table border=\"1\" class=\"dataframe\">\n",
       "  <thead>\n",
       "    <tr style=\"text-align: right;\">\n",
       "      <th></th>\n",
       "      <th>RowNumber</th>\n",
       "      <th>CustomerId</th>\n",
       "      <th>CreditScore</th>\n",
       "      <th>Age</th>\n",
       "      <th>Tenure</th>\n",
       "      <th>Balance</th>\n",
       "      <th>NumOfProducts</th>\n",
       "      <th>HasCrCard</th>\n",
       "      <th>IsActiveMember</th>\n",
       "      <th>EstimatedSalary</th>\n",
       "      <th>Exited</th>\n",
       "    </tr>\n",
       "  </thead>\n",
       "  <tbody>\n",
       "    <tr>\n",
       "      <th>count</th>\n",
       "      <td>10000.00000</td>\n",
       "      <td>1.000000e+04</td>\n",
       "      <td>10000.000000</td>\n",
       "      <td>10000.000000</td>\n",
       "      <td>10000.000000</td>\n",
       "      <td>10000.000000</td>\n",
       "      <td>10000.000000</td>\n",
       "      <td>10000.00000</td>\n",
       "      <td>10000.000000</td>\n",
       "      <td>10000.000000</td>\n",
       "      <td>10000.000000</td>\n",
       "    </tr>\n",
       "    <tr>\n",
       "      <th>mean</th>\n",
       "      <td>5000.50000</td>\n",
       "      <td>1.569094e+07</td>\n",
       "      <td>650.528800</td>\n",
       "      <td>38.921800</td>\n",
       "      <td>5.012800</td>\n",
       "      <td>76485.889288</td>\n",
       "      <td>1.530200</td>\n",
       "      <td>0.70550</td>\n",
       "      <td>0.515100</td>\n",
       "      <td>100090.239881</td>\n",
       "      <td>0.203700</td>\n",
       "    </tr>\n",
       "    <tr>\n",
       "      <th>std</th>\n",
       "      <td>2886.89568</td>\n",
       "      <td>7.193619e+04</td>\n",
       "      <td>96.653299</td>\n",
       "      <td>10.487806</td>\n",
       "      <td>2.892174</td>\n",
       "      <td>62397.405202</td>\n",
       "      <td>0.581654</td>\n",
       "      <td>0.45584</td>\n",
       "      <td>0.499797</td>\n",
       "      <td>57510.492818</td>\n",
       "      <td>0.402769</td>\n",
       "    </tr>\n",
       "    <tr>\n",
       "      <th>min</th>\n",
       "      <td>1.00000</td>\n",
       "      <td>1.556570e+07</td>\n",
       "      <td>350.000000</td>\n",
       "      <td>18.000000</td>\n",
       "      <td>0.000000</td>\n",
       "      <td>0.000000</td>\n",
       "      <td>1.000000</td>\n",
       "      <td>0.00000</td>\n",
       "      <td>0.000000</td>\n",
       "      <td>11.580000</td>\n",
       "      <td>0.000000</td>\n",
       "    </tr>\n",
       "    <tr>\n",
       "      <th>25%</th>\n",
       "      <td>2500.75000</td>\n",
       "      <td>1.562853e+07</td>\n",
       "      <td>584.000000</td>\n",
       "      <td>32.000000</td>\n",
       "      <td>3.000000</td>\n",
       "      <td>0.000000</td>\n",
       "      <td>1.000000</td>\n",
       "      <td>0.00000</td>\n",
       "      <td>0.000000</td>\n",
       "      <td>51002.110000</td>\n",
       "      <td>0.000000</td>\n",
       "    </tr>\n",
       "    <tr>\n",
       "      <th>50%</th>\n",
       "      <td>5000.50000</td>\n",
       "      <td>1.569074e+07</td>\n",
       "      <td>652.000000</td>\n",
       "      <td>37.000000</td>\n",
       "      <td>5.000000</td>\n",
       "      <td>97198.540000</td>\n",
       "      <td>1.000000</td>\n",
       "      <td>1.00000</td>\n",
       "      <td>1.000000</td>\n",
       "      <td>100193.915000</td>\n",
       "      <td>0.000000</td>\n",
       "    </tr>\n",
       "    <tr>\n",
       "      <th>75%</th>\n",
       "      <td>7500.25000</td>\n",
       "      <td>1.575323e+07</td>\n",
       "      <td>718.000000</td>\n",
       "      <td>44.000000</td>\n",
       "      <td>7.000000</td>\n",
       "      <td>127644.240000</td>\n",
       "      <td>2.000000</td>\n",
       "      <td>1.00000</td>\n",
       "      <td>1.000000</td>\n",
       "      <td>149388.247500</td>\n",
       "      <td>0.000000</td>\n",
       "    </tr>\n",
       "    <tr>\n",
       "      <th>max</th>\n",
       "      <td>10000.00000</td>\n",
       "      <td>1.581569e+07</td>\n",
       "      <td>850.000000</td>\n",
       "      <td>92.000000</td>\n",
       "      <td>10.000000</td>\n",
       "      <td>250898.090000</td>\n",
       "      <td>4.000000</td>\n",
       "      <td>1.00000</td>\n",
       "      <td>1.000000</td>\n",
       "      <td>199992.480000</td>\n",
       "      <td>1.000000</td>\n",
       "    </tr>\n",
       "  </tbody>\n",
       "</table>\n",
       "</div>"
      ],
      "text/plain": [
       "         RowNumber    CustomerId   CreditScore           Age        Tenure  \\\n",
       "count  10000.00000  1.000000e+04  10000.000000  10000.000000  10000.000000   \n",
       "mean    5000.50000  1.569094e+07    650.528800     38.921800      5.012800   \n",
       "std     2886.89568  7.193619e+04     96.653299     10.487806      2.892174   \n",
       "min        1.00000  1.556570e+07    350.000000     18.000000      0.000000   \n",
       "25%     2500.75000  1.562853e+07    584.000000     32.000000      3.000000   \n",
       "50%     5000.50000  1.569074e+07    652.000000     37.000000      5.000000   \n",
       "75%     7500.25000  1.575323e+07    718.000000     44.000000      7.000000   \n",
       "max    10000.00000  1.581569e+07    850.000000     92.000000     10.000000   \n",
       "\n",
       "             Balance  NumOfProducts    HasCrCard  IsActiveMember  \\\n",
       "count   10000.000000   10000.000000  10000.00000    10000.000000   \n",
       "mean    76485.889288       1.530200      0.70550        0.515100   \n",
       "std     62397.405202       0.581654      0.45584        0.499797   \n",
       "min         0.000000       1.000000      0.00000        0.000000   \n",
       "25%         0.000000       1.000000      0.00000        0.000000   \n",
       "50%     97198.540000       1.000000      1.00000        1.000000   \n",
       "75%    127644.240000       2.000000      1.00000        1.000000   \n",
       "max    250898.090000       4.000000      1.00000        1.000000   \n",
       "\n",
       "       EstimatedSalary        Exited  \n",
       "count     10000.000000  10000.000000  \n",
       "mean     100090.239881      0.203700  \n",
       "std       57510.492818      0.402769  \n",
       "min          11.580000      0.000000  \n",
       "25%       51002.110000      0.000000  \n",
       "50%      100193.915000      0.000000  \n",
       "75%      149388.247500      0.000000  \n",
       "max      199992.480000      1.000000  "
      ]
     },
     "execution_count": 47,
     "metadata": {},
     "output_type": "execute_result"
    }
   ],
   "source": [
    "data.describe()"
   ]
  },
  {
   "cell_type": "code",
   "execution_count": 48,
   "metadata": {
    "ExecuteTime": {
     "end_time": "2022-03-19T15:25:12.680917Z",
     "start_time": "2022-03-19T15:25:12.678301Z"
    }
   },
   "outputs": [],
   "source": [
    "continuas=['CreditScore','Age','Tenure','Balance','NumOfProducts','HasCrCard','EstimatedSalary',]"
   ]
  },
  {
   "cell_type": "code",
   "execution_count": 49,
   "metadata": {
    "ExecuteTime": {
     "end_time": "2022-03-19T15:25:14.172674Z",
     "start_time": "2022-03-19T15:25:14.069589Z"
    }
   },
   "outputs": [],
   "source": [
    "criterio_iqr={}\n",
    "for variable in continuas:\n",
    "    aux=data[[variable]].copy()\n",
    "    registros_anteriores=aux.shape[0]\n",
    "    q1=aux[variable].quantile(.25)\n",
    "    q3=aux[variable].quantile(.75)\n",
    "    iqr=q3-q1\n",
    "    aux=aux[~((aux[variable]<q1-1.5*iqr)|(aux[variable]>q3+1.5*iqr))]\n",
    "    registros_despues_outliers=aux.shape[0]\n",
    "    criterio_iqr[variable]={'registros_previos':registros_anteriores,'registros_despues_limpieza':registros_despues_outliers}"
   ]
  },
  {
   "cell_type": "code",
   "execution_count": 50,
   "metadata": {
    "ExecuteTime": {
     "end_time": "2022-03-19T15:25:21.097824Z",
     "start_time": "2022-03-19T15:25:21.057342Z"
    }
   },
   "outputs": [
    {
     "data": {
      "text/html": [
       "<div>\n",
       "<style scoped>\n",
       "    .dataframe tbody tr th:only-of-type {\n",
       "        vertical-align: middle;\n",
       "    }\n",
       "\n",
       "    .dataframe tbody tr th {\n",
       "        vertical-align: top;\n",
       "    }\n",
       "\n",
       "    .dataframe thead th {\n",
       "        text-align: right;\n",
       "    }\n",
       "</style>\n",
       "<table border=\"1\" class=\"dataframe\">\n",
       "  <thead>\n",
       "    <tr style=\"text-align: right;\">\n",
       "      <th></th>\n",
       "      <th>registros_previos</th>\n",
       "      <th>registros_despues_limpieza</th>\n",
       "    </tr>\n",
       "  </thead>\n",
       "  <tbody>\n",
       "    <tr>\n",
       "      <th>CreditScore</th>\n",
       "      <td>10000</td>\n",
       "      <td>9985</td>\n",
       "    </tr>\n",
       "    <tr>\n",
       "      <th>Age</th>\n",
       "      <td>10000</td>\n",
       "      <td>9641</td>\n",
       "    </tr>\n",
       "    <tr>\n",
       "      <th>Tenure</th>\n",
       "      <td>10000</td>\n",
       "      <td>10000</td>\n",
       "    </tr>\n",
       "    <tr>\n",
       "      <th>Balance</th>\n",
       "      <td>10000</td>\n",
       "      <td>10000</td>\n",
       "    </tr>\n",
       "    <tr>\n",
       "      <th>NumOfProducts</th>\n",
       "      <td>10000</td>\n",
       "      <td>9940</td>\n",
       "    </tr>\n",
       "    <tr>\n",
       "      <th>HasCrCard</th>\n",
       "      <td>10000</td>\n",
       "      <td>10000</td>\n",
       "    </tr>\n",
       "    <tr>\n",
       "      <th>EstimatedSalary</th>\n",
       "      <td>10000</td>\n",
       "      <td>10000</td>\n",
       "    </tr>\n",
       "  </tbody>\n",
       "</table>\n",
       "</div>"
      ],
      "text/plain": [
       "                 registros_previos  registros_despues_limpieza\n",
       "CreditScore                  10000                        9985\n",
       "Age                          10000                        9641\n",
       "Tenure                       10000                       10000\n",
       "Balance                      10000                       10000\n",
       "NumOfProducts                10000                        9940\n",
       "HasCrCard                    10000                       10000\n",
       "EstimatedSalary              10000                       10000"
      ]
     },
     "execution_count": 50,
     "metadata": {},
     "output_type": "execute_result"
    }
   ],
   "source": [
    "pd.DataFrame(criterio_iqr).T"
   ]
  },
  {
   "cell_type": "code",
   "execution_count": 51,
   "metadata": {
    "ExecuteTime": {
     "end_time": "2022-03-19T15:25:26.766896Z",
     "start_time": "2022-03-19T15:25:26.737996Z"
    }
   },
   "outputs": [],
   "source": [
    "criterio_media={}\n",
    "for variable in continuas:\n",
    "    n=2\n",
    "    aux=data[[variable]].copy()\n",
    "    registros_anteriores=aux.shape[0]\n",
    "    media=aux[variable].mean()\n",
    "    desv=aux[variable].std()\n",
    "    aux=aux[(aux[variable]<= media+2*desv)&(aux[variable]>=(media-2*desv))]\n",
    "    registros_despues_outliers=aux.shape[0]\n",
    "    criterio_media[variable]={'registros_previos':registros_anteriores,'registros_despues_limpieza':registros_despues_outliers}\n",
    "    "
   ]
  },
  {
   "cell_type": "code",
   "execution_count": 52,
   "metadata": {
    "ExecuteTime": {
     "end_time": "2022-03-19T15:25:28.103219Z",
     "start_time": "2022-03-19T15:25:28.074383Z"
    }
   },
   "outputs": [
    {
     "data": {
      "text/html": [
       "<div>\n",
       "<style scoped>\n",
       "    .dataframe tbody tr th:only-of-type {\n",
       "        vertical-align: middle;\n",
       "    }\n",
       "\n",
       "    .dataframe tbody tr th {\n",
       "        vertical-align: top;\n",
       "    }\n",
       "\n",
       "    .dataframe thead th {\n",
       "        text-align: right;\n",
       "    }\n",
       "</style>\n",
       "<table border=\"1\" class=\"dataframe\">\n",
       "  <thead>\n",
       "    <tr style=\"text-align: right;\">\n",
       "      <th></th>\n",
       "      <th>registros_previos</th>\n",
       "      <th>registros_despues_limpieza</th>\n",
       "    </tr>\n",
       "  </thead>\n",
       "  <tbody>\n",
       "    <tr>\n",
       "      <th>CreditScore</th>\n",
       "      <td>10000</td>\n",
       "      <td>9500</td>\n",
       "    </tr>\n",
       "    <tr>\n",
       "      <th>Age</th>\n",
       "      <td>10000</td>\n",
       "      <td>9474</td>\n",
       "    </tr>\n",
       "    <tr>\n",
       "      <th>Tenure</th>\n",
       "      <td>10000</td>\n",
       "      <td>10000</td>\n",
       "    </tr>\n",
       "    <tr>\n",
       "      <th>Balance</th>\n",
       "      <td>10000</td>\n",
       "      <td>9970</td>\n",
       "    </tr>\n",
       "    <tr>\n",
       "      <th>NumOfProducts</th>\n",
       "      <td>10000</td>\n",
       "      <td>9674</td>\n",
       "    </tr>\n",
       "    <tr>\n",
       "      <th>HasCrCard</th>\n",
       "      <td>10000</td>\n",
       "      <td>10000</td>\n",
       "    </tr>\n",
       "    <tr>\n",
       "      <th>EstimatedSalary</th>\n",
       "      <td>10000</td>\n",
       "      <td>10000</td>\n",
       "    </tr>\n",
       "  </tbody>\n",
       "</table>\n",
       "</div>"
      ],
      "text/plain": [
       "                 registros_previos  registros_despues_limpieza\n",
       "CreditScore                  10000                        9500\n",
       "Age                          10000                        9474\n",
       "Tenure                       10000                       10000\n",
       "Balance                      10000                        9970\n",
       "NumOfProducts                10000                        9674\n",
       "HasCrCard                    10000                       10000\n",
       "EstimatedSalary              10000                       10000"
      ]
     },
     "execution_count": 52,
     "metadata": {},
     "output_type": "execute_result"
    }
   ],
   "source": [
    "pd.DataFrame(criterio_media).T"
   ]
  },
  {
   "cell_type": "code",
   "execution_count": 53,
   "metadata": {
    "ExecuteTime": {
     "end_time": "2022-03-19T15:25:34.488583Z",
     "start_time": "2022-03-19T15:25:34.370837Z"
    }
   },
   "outputs": [],
   "source": [
    "data_clean=data.copy()\n",
    "for variable in continuas:\n",
    "    q1=data_clean[variable].quantile(.25)\n",
    "    q3=data_clean[variable].quantile(.75)\n",
    "    iqr=q3-q1\n",
    "    data_clean=data_clean[~((data_clean[variable]<q1-1.5*iqr)|(data_clean[variable]>q3+1.5*iqr))]"
   ]
  },
  {
   "cell_type": "code",
   "execution_count": 54,
   "metadata": {
    "ExecuteTime": {
     "end_time": "2022-03-19T15:25:35.250178Z",
     "start_time": "2022-03-19T15:25:35.234535Z"
    }
   },
   "outputs": [
    {
     "data": {
      "text/plain": [
       "(9568, 14)"
      ]
     },
     "execution_count": 54,
     "metadata": {},
     "output_type": "execute_result"
    }
   ],
   "source": [
    "data_clean.shape"
   ]
  },
  {
   "cell_type": "code",
   "execution_count": 55,
   "metadata": {
    "ExecuteTime": {
     "end_time": "2022-03-19T15:25:37.600258Z",
     "start_time": "2022-03-19T15:25:37.577433Z"
    }
   },
   "outputs": [
    {
     "data": {
      "text/plain": [
       "0.9568"
      ]
     },
     "execution_count": 55,
     "metadata": {},
     "output_type": "execute_result"
    }
   ],
   "source": [
    "9568/data.shape[0]"
   ]
  },
  {
   "cell_type": "code",
   "execution_count": 56,
   "metadata": {
    "ExecuteTime": {
     "end_time": "2022-03-19T15:25:44.525691Z",
     "start_time": "2022-03-19T15:25:44.487832Z"
    }
   },
   "outputs": [
    {
     "data": {
      "text/html": [
       "<div>\n",
       "<style scoped>\n",
       "    .dataframe tbody tr th:only-of-type {\n",
       "        vertical-align: middle;\n",
       "    }\n",
       "\n",
       "    .dataframe tbody tr th {\n",
       "        vertical-align: top;\n",
       "    }\n",
       "\n",
       "    .dataframe thead th {\n",
       "        text-align: right;\n",
       "    }\n",
       "</style>\n",
       "<table border=\"1\" class=\"dataframe\">\n",
       "  <thead>\n",
       "    <tr style=\"text-align: right;\">\n",
       "      <th></th>\n",
       "      <th>RowNumber</th>\n",
       "      <th>CustomerId</th>\n",
       "      <th>Surname</th>\n",
       "      <th>CreditScore</th>\n",
       "      <th>Geography</th>\n",
       "      <th>Gender</th>\n",
       "      <th>Age</th>\n",
       "      <th>Tenure</th>\n",
       "      <th>Balance</th>\n",
       "      <th>NumOfProducts</th>\n",
       "      <th>HasCrCard</th>\n",
       "      <th>IsActiveMember</th>\n",
       "      <th>EstimatedSalary</th>\n",
       "      <th>Exited</th>\n",
       "    </tr>\n",
       "  </thead>\n",
       "  <tbody>\n",
       "    <tr>\n",
       "      <th>0</th>\n",
       "      <td>1</td>\n",
       "      <td>15634602</td>\n",
       "      <td>Hargrave</td>\n",
       "      <td>619</td>\n",
       "      <td>France</td>\n",
       "      <td>Female</td>\n",
       "      <td>42</td>\n",
       "      <td>2</td>\n",
       "      <td>0.00</td>\n",
       "      <td>1</td>\n",
       "      <td>1</td>\n",
       "      <td>1</td>\n",
       "      <td>101348.88</td>\n",
       "      <td>1</td>\n",
       "    </tr>\n",
       "    <tr>\n",
       "      <th>1</th>\n",
       "      <td>2</td>\n",
       "      <td>15647311</td>\n",
       "      <td>Hill</td>\n",
       "      <td>608</td>\n",
       "      <td>Spain</td>\n",
       "      <td>Female</td>\n",
       "      <td>41</td>\n",
       "      <td>1</td>\n",
       "      <td>83807.86</td>\n",
       "      <td>1</td>\n",
       "      <td>0</td>\n",
       "      <td>1</td>\n",
       "      <td>112542.58</td>\n",
       "      <td>0</td>\n",
       "    </tr>\n",
       "    <tr>\n",
       "      <th>2</th>\n",
       "      <td>3</td>\n",
       "      <td>15619304</td>\n",
       "      <td>Onio</td>\n",
       "      <td>502</td>\n",
       "      <td>France</td>\n",
       "      <td>Female</td>\n",
       "      <td>42</td>\n",
       "      <td>8</td>\n",
       "      <td>159660.80</td>\n",
       "      <td>3</td>\n",
       "      <td>1</td>\n",
       "      <td>0</td>\n",
       "      <td>113931.57</td>\n",
       "      <td>1</td>\n",
       "    </tr>\n",
       "    <tr>\n",
       "      <th>3</th>\n",
       "      <td>4</td>\n",
       "      <td>15701354</td>\n",
       "      <td>Boni</td>\n",
       "      <td>699</td>\n",
       "      <td>France</td>\n",
       "      <td>Female</td>\n",
       "      <td>39</td>\n",
       "      <td>1</td>\n",
       "      <td>0.00</td>\n",
       "      <td>2</td>\n",
       "      <td>0</td>\n",
       "      <td>0</td>\n",
       "      <td>93826.63</td>\n",
       "      <td>0</td>\n",
       "    </tr>\n",
       "    <tr>\n",
       "      <th>4</th>\n",
       "      <td>5</td>\n",
       "      <td>15737888</td>\n",
       "      <td>Mitchell</td>\n",
       "      <td>850</td>\n",
       "      <td>Spain</td>\n",
       "      <td>Female</td>\n",
       "      <td>43</td>\n",
       "      <td>2</td>\n",
       "      <td>125510.82</td>\n",
       "      <td>1</td>\n",
       "      <td>1</td>\n",
       "      <td>1</td>\n",
       "      <td>79084.10</td>\n",
       "      <td>0</td>\n",
       "    </tr>\n",
       "  </tbody>\n",
       "</table>\n",
       "</div>"
      ],
      "text/plain": [
       "   RowNumber  CustomerId   Surname  CreditScore Geography  Gender  Age  \\\n",
       "0          1    15634602  Hargrave          619    France  Female   42   \n",
       "1          2    15647311      Hill          608     Spain  Female   41   \n",
       "2          3    15619304      Onio          502    France  Female   42   \n",
       "3          4    15701354      Boni          699    France  Female   39   \n",
       "4          5    15737888  Mitchell          850     Spain  Female   43   \n",
       "\n",
       "   Tenure    Balance  NumOfProducts  HasCrCard  IsActiveMember  \\\n",
       "0       2       0.00              1          1               1   \n",
       "1       1   83807.86              1          0               1   \n",
       "2       8  159660.80              3          1               0   \n",
       "3       1       0.00              2          0               0   \n",
       "4       2  125510.82              1          1               1   \n",
       "\n",
       "   EstimatedSalary  Exited  \n",
       "0        101348.88       1  \n",
       "1        112542.58       0  \n",
       "2        113931.57       1  \n",
       "3         93826.63       0  \n",
       "4         79084.10       0  "
      ]
     },
     "execution_count": 56,
     "metadata": {},
     "output_type": "execute_result"
    }
   ],
   "source": [
    "data_clean.head()"
   ]
  },
  {
   "cell_type": "code",
   "execution_count": 57,
   "metadata": {
    "ExecuteTime": {
     "end_time": "2022-03-19T15:25:48.627185Z",
     "start_time": "2022-03-19T15:25:48.611134Z"
    }
   },
   "outputs": [
    {
     "data": {
      "text/plain": [
       "France     0.501463\n",
       "Germany    0.250627\n",
       "Spain      0.247910\n",
       "Name: Geography, dtype: float64"
      ]
     },
     "execution_count": 57,
     "metadata": {},
     "output_type": "execute_result"
    }
   ],
   "source": [
    "data_clean['Geography'].value_counts(1)"
   ]
  },
  {
   "cell_type": "code",
   "execution_count": 58,
   "metadata": {
    "ExecuteTime": {
     "end_time": "2022-03-19T15:26:03.564234Z",
     "start_time": "2022-03-19T15:26:03.525203Z"
    }
   },
   "outputs": [],
   "source": [
    "data_clean['Gender']=data_clean['Gender'].map(lambda x : 1 if x=='Female' else 0)"
   ]
  },
  {
   "cell_type": "code",
   "execution_count": 59,
   "metadata": {
    "ExecuteTime": {
     "end_time": "2022-03-19T15:26:08.746529Z",
     "start_time": "2022-03-19T15:26:08.697378Z"
    }
   },
   "outputs": [],
   "source": [
    "data_clean=pd.get_dummies(data=data_clean,columns=['Geography'])"
   ]
  },
  {
   "cell_type": "code",
   "execution_count": 60,
   "metadata": {
    "ExecuteTime": {
     "end_time": "2022-03-19T15:26:09.228456Z",
     "start_time": "2022-03-19T15:26:09.201089Z"
    }
   },
   "outputs": [
    {
     "data": {
      "text/html": [
       "<div>\n",
       "<style scoped>\n",
       "    .dataframe tbody tr th:only-of-type {\n",
       "        vertical-align: middle;\n",
       "    }\n",
       "\n",
       "    .dataframe tbody tr th {\n",
       "        vertical-align: top;\n",
       "    }\n",
       "\n",
       "    .dataframe thead th {\n",
       "        text-align: right;\n",
       "    }\n",
       "</style>\n",
       "<table border=\"1\" class=\"dataframe\">\n",
       "  <thead>\n",
       "    <tr style=\"text-align: right;\">\n",
       "      <th></th>\n",
       "      <th>RowNumber</th>\n",
       "      <th>CustomerId</th>\n",
       "      <th>Surname</th>\n",
       "      <th>CreditScore</th>\n",
       "      <th>Gender</th>\n",
       "      <th>Age</th>\n",
       "      <th>Tenure</th>\n",
       "      <th>Balance</th>\n",
       "      <th>NumOfProducts</th>\n",
       "      <th>HasCrCard</th>\n",
       "      <th>IsActiveMember</th>\n",
       "      <th>EstimatedSalary</th>\n",
       "      <th>Exited</th>\n",
       "      <th>Geography_France</th>\n",
       "      <th>Geography_Germany</th>\n",
       "      <th>Geography_Spain</th>\n",
       "    </tr>\n",
       "  </thead>\n",
       "  <tbody>\n",
       "    <tr>\n",
       "      <th>0</th>\n",
       "      <td>1</td>\n",
       "      <td>15634602</td>\n",
       "      <td>Hargrave</td>\n",
       "      <td>619</td>\n",
       "      <td>1</td>\n",
       "      <td>42</td>\n",
       "      <td>2</td>\n",
       "      <td>0.00</td>\n",
       "      <td>1</td>\n",
       "      <td>1</td>\n",
       "      <td>1</td>\n",
       "      <td>101348.88</td>\n",
       "      <td>1</td>\n",
       "      <td>1</td>\n",
       "      <td>0</td>\n",
       "      <td>0</td>\n",
       "    </tr>\n",
       "    <tr>\n",
       "      <th>1</th>\n",
       "      <td>2</td>\n",
       "      <td>15647311</td>\n",
       "      <td>Hill</td>\n",
       "      <td>608</td>\n",
       "      <td>1</td>\n",
       "      <td>41</td>\n",
       "      <td>1</td>\n",
       "      <td>83807.86</td>\n",
       "      <td>1</td>\n",
       "      <td>0</td>\n",
       "      <td>1</td>\n",
       "      <td>112542.58</td>\n",
       "      <td>0</td>\n",
       "      <td>0</td>\n",
       "      <td>0</td>\n",
       "      <td>1</td>\n",
       "    </tr>\n",
       "    <tr>\n",
       "      <th>2</th>\n",
       "      <td>3</td>\n",
       "      <td>15619304</td>\n",
       "      <td>Onio</td>\n",
       "      <td>502</td>\n",
       "      <td>1</td>\n",
       "      <td>42</td>\n",
       "      <td>8</td>\n",
       "      <td>159660.80</td>\n",
       "      <td>3</td>\n",
       "      <td>1</td>\n",
       "      <td>0</td>\n",
       "      <td>113931.57</td>\n",
       "      <td>1</td>\n",
       "      <td>1</td>\n",
       "      <td>0</td>\n",
       "      <td>0</td>\n",
       "    </tr>\n",
       "    <tr>\n",
       "      <th>3</th>\n",
       "      <td>4</td>\n",
       "      <td>15701354</td>\n",
       "      <td>Boni</td>\n",
       "      <td>699</td>\n",
       "      <td>1</td>\n",
       "      <td>39</td>\n",
       "      <td>1</td>\n",
       "      <td>0.00</td>\n",
       "      <td>2</td>\n",
       "      <td>0</td>\n",
       "      <td>0</td>\n",
       "      <td>93826.63</td>\n",
       "      <td>0</td>\n",
       "      <td>1</td>\n",
       "      <td>0</td>\n",
       "      <td>0</td>\n",
       "    </tr>\n",
       "    <tr>\n",
       "      <th>4</th>\n",
       "      <td>5</td>\n",
       "      <td>15737888</td>\n",
       "      <td>Mitchell</td>\n",
       "      <td>850</td>\n",
       "      <td>1</td>\n",
       "      <td>43</td>\n",
       "      <td>2</td>\n",
       "      <td>125510.82</td>\n",
       "      <td>1</td>\n",
       "      <td>1</td>\n",
       "      <td>1</td>\n",
       "      <td>79084.10</td>\n",
       "      <td>0</td>\n",
       "      <td>0</td>\n",
       "      <td>0</td>\n",
       "      <td>1</td>\n",
       "    </tr>\n",
       "  </tbody>\n",
       "</table>\n",
       "</div>"
      ],
      "text/plain": [
       "   RowNumber  CustomerId   Surname  CreditScore  Gender  Age  Tenure  \\\n",
       "0          1    15634602  Hargrave          619       1   42       2   \n",
       "1          2    15647311      Hill          608       1   41       1   \n",
       "2          3    15619304      Onio          502       1   42       8   \n",
       "3          4    15701354      Boni          699       1   39       1   \n",
       "4          5    15737888  Mitchell          850       1   43       2   \n",
       "\n",
       "     Balance  NumOfProducts  HasCrCard  IsActiveMember  EstimatedSalary  \\\n",
       "0       0.00              1          1               1        101348.88   \n",
       "1   83807.86              1          0               1        112542.58   \n",
       "2  159660.80              3          1               0        113931.57   \n",
       "3       0.00              2          0               0         93826.63   \n",
       "4  125510.82              1          1               1         79084.10   \n",
       "\n",
       "   Exited  Geography_France  Geography_Germany  Geography_Spain  \n",
       "0       1                 1                  0                0  \n",
       "1       0                 0                  0                1  \n",
       "2       1                 1                  0                0  \n",
       "3       0                 1                  0                0  \n",
       "4       0                 0                  0                1  "
      ]
     },
     "execution_count": 60,
     "metadata": {},
     "output_type": "execute_result"
    }
   ],
   "source": [
    "data_clean.head()"
   ]
  },
  {
   "cell_type": "code",
   "execution_count": 61,
   "metadata": {
    "ExecuteTime": {
     "end_time": "2022-03-19T15:26:14.987442Z",
     "start_time": "2022-03-19T15:26:14.977077Z"
    }
   },
   "outputs": [
    {
     "data": {
      "text/plain": [
       "Index(['RowNumber', 'CustomerId', 'Surname', 'CreditScore', 'Gender', 'Age',\n",
       "       'Tenure', 'Balance', 'NumOfProducts', 'HasCrCard', 'IsActiveMember',\n",
       "       'EstimatedSalary', 'Exited', 'Geography_France', 'Geography_Germany',\n",
       "       'Geography_Spain'],\n",
       "      dtype='object')"
      ]
     },
     "execution_count": 61,
     "metadata": {},
     "output_type": "execute_result"
    }
   ],
   "source": [
    "data_clean.columns"
   ]
  },
  {
   "cell_type": "code",
   "execution_count": 62,
   "metadata": {
    "ExecuteTime": {
     "end_time": "2022-03-19T15:26:36.898050Z",
     "start_time": "2022-03-19T15:26:36.890161Z"
    }
   },
   "outputs": [],
   "source": [
    "variables=['CreditScore', 'Gender', 'Age',\n",
    "       'Tenure', 'Balance', 'NumOfProducts', 'HasCrCard', 'IsActiveMember',\n",
    "       'EstimatedSalary','Geography_France', 'Geography_Germany']"
   ]
  },
  {
   "cell_type": "code",
   "execution_count": 63,
   "metadata": {
    "ExecuteTime": {
     "end_time": "2022-03-19T15:26:41.153490Z",
     "start_time": "2022-03-19T15:26:41.126877Z"
    }
   },
   "outputs": [],
   "source": [
    "X=data_clean[variables]\n",
    "y=data_clean[['Exited']]"
   ]
  },
  {
   "cell_type": "code",
   "execution_count": 64,
   "metadata": {
    "ExecuteTime": {
     "end_time": "2022-03-19T15:26:51.782172Z",
     "start_time": "2022-03-19T15:26:51.768458Z"
    }
   },
   "outputs": [],
   "source": [
    "from sklearn.model_selection import train_test_split\n",
    "X_train, X_test, y_train, y_test = train_test_split(X, y, test_size = 0.2, random_state = 0)"
   ]
  },
  {
   "cell_type": "code",
   "execution_count": 65,
   "metadata": {
    "ExecuteTime": {
     "end_time": "2022-03-19T15:27:06.427888Z",
     "start_time": "2022-03-19T15:27:06.407464Z"
    }
   },
   "outputs": [],
   "source": [
    "from sklearn.preprocessing import StandardScaler\n",
    "sc = StandardScaler()\n",
    "X_train = sc.fit_transform(X_train)\n",
    "X_test = sc.transform(X_test)"
   ]
  },
  {
   "cell_type": "code",
   "execution_count": 66,
   "metadata": {
    "ExecuteTime": {
     "end_time": "2022-03-19T15:30:15.965651Z",
     "start_time": "2022-03-19T15:30:15.938790Z"
    }
   },
   "outputs": [],
   "source": [
    "from tensorflow.keras.models import Sequential\n",
    "from tensorflow.keras import Input\n",
    "from tensorflow.keras.layers import Dense,Input"
   ]
  },
  {
   "cell_type": "code",
   "execution_count": 67,
   "metadata": {
    "ExecuteTime": {
     "end_time": "2022-03-19T15:30:34.559077Z",
     "start_time": "2022-03-19T15:30:34.496936Z"
    }
   },
   "outputs": [],
   "source": [
    "ann = Sequential()"
   ]
  },
  {
   "cell_type": "code",
   "execution_count": 68,
   "metadata": {
    "ExecuteTime": {
     "end_time": "2022-03-19T15:30:54.330426Z",
     "start_time": "2022-03-19T15:30:54.315937Z"
    }
   },
   "outputs": [
    {
     "data": {
      "text/plain": [
       "11"
      ]
     },
     "execution_count": 68,
     "metadata": {},
     "output_type": "execute_result"
    }
   ],
   "source": [
    "X_train.shape[1]"
   ]
  },
  {
   "cell_type": "code",
   "execution_count": 69,
   "metadata": {
    "ExecuteTime": {
     "end_time": "2022-03-19T15:31:32.292170Z",
     "start_time": "2022-03-19T15:31:32.244005Z"
    }
   },
   "outputs": [],
   "source": [
    "ann.add(Input(shape=X_train.shape[1]))"
   ]
  },
  {
   "cell_type": "code",
   "execution_count": 70,
   "metadata": {
    "ExecuteTime": {
     "end_time": "2022-03-19T15:32:51.753501Z",
     "start_time": "2022-03-19T15:32:51.711407Z"
    }
   },
   "outputs": [],
   "source": [
    "ann.add(Dense(6, activation='relu'))"
   ]
  },
  {
   "cell_type": "code",
   "execution_count": 71,
   "metadata": {
    "ExecuteTime": {
     "end_time": "2022-03-19T15:34:16.580079Z",
     "start_time": "2022-03-19T15:34:16.549006Z"
    }
   },
   "outputs": [],
   "source": [
    "ann.add(Dense(units=9, activation='relu'))"
   ]
  },
  {
   "cell_type": "code",
   "execution_count": 72,
   "metadata": {
    "ExecuteTime": {
     "end_time": "2022-03-19T15:38:05.192638Z",
     "start_time": "2022-03-19T15:38:05.176779Z"
    }
   },
   "outputs": [],
   "source": [
    "ann.add(Dense(units=1, activation='sigmoid'))"
   ]
  },
  {
   "cell_type": "code",
   "execution_count": 73,
   "metadata": {
    "ExecuteTime": {
     "end_time": "2022-03-19T15:41:12.553542Z",
     "start_time": "2022-03-19T15:41:12.540020Z"
    }
   },
   "outputs": [],
   "source": [
    "ann.compile(optimizer = 'adam', loss = 'binary_crossentropy', metrics = ['accuracy'])"
   ]
  },
  {
   "cell_type": "code",
   "execution_count": 74,
   "metadata": {
    "ExecuteTime": {
     "end_time": "2022-03-19T15:41:17.695359Z",
     "start_time": "2022-03-19T15:41:17.682889Z"
    }
   },
   "outputs": [
    {
     "data": {
      "text/plain": [
       "(9568, 16)"
      ]
     },
     "execution_count": 74,
     "metadata": {},
     "output_type": "execute_result"
    }
   ],
   "source": [
    "data_clean.shape"
   ]
  },
  {
   "cell_type": "code",
   "execution_count": 75,
   "metadata": {
    "ExecuteTime": {
     "end_time": "2022-03-19T15:41:19.295185Z",
     "start_time": "2022-03-19T15:41:19.283626Z"
    }
   },
   "outputs": [
    {
     "data": {
      "text/plain": [
       "(10000, 14)"
      ]
     },
     "execution_count": 75,
     "metadata": {},
     "output_type": "execute_result"
    }
   ],
   "source": [
    "data.shape\n"
   ]
  },
  {
   "cell_type": "code",
   "execution_count": 76,
   "metadata": {
    "ExecuteTime": {
     "end_time": "2022-03-19T15:43:37.163186Z",
     "start_time": "2022-03-19T15:43:37.156394Z"
    }
   },
   "outputs": [
    {
     "data": {
      "text/plain": [
       "239.1875"
      ]
     },
     "execution_count": 76,
     "metadata": {},
     "output_type": "execute_result"
    }
   ],
   "source": [
    "X_train.shape[0]/32"
   ]
  },
  {
   "cell_type": "code",
   "execution_count": 77,
   "metadata": {
    "ExecuteTime": {
     "end_time": "2022-03-19T15:45:38.089023Z",
     "start_time": "2022-03-19T15:45:10.571941Z"
    }
   },
   "outputs": [
    {
     "name": "stdout",
     "output_type": "stream",
     "text": [
      "Epoch 1/100\n",
      "240/240 [==============================] - 0s 984us/step - loss: 0.5198 - accuracy: 0.7822\n",
      "Epoch 2/100\n",
      "240/240 [==============================] - 0s 1ms/step - loss: 0.4373 - accuracy: 0.8158\n",
      "Epoch 3/100\n",
      "240/240 [==============================] - 0s 1ms/step - loss: 0.4170 - accuracy: 0.8281\n",
      "Epoch 4/100\n",
      "240/240 [==============================] - 0s 1ms/step - loss: 0.4082 - accuracy: 0.8309\n",
      "Epoch 5/100\n",
      "240/240 [==============================] - 0s 1ms/step - loss: 0.4005 - accuracy: 0.8309\n",
      "Epoch 6/100\n",
      "240/240 [==============================] - 0s 1ms/step - loss: 0.3918 - accuracy: 0.8346\n",
      "Epoch 7/100\n",
      "240/240 [==============================] - 0s 1ms/step - loss: 0.3831 - accuracy: 0.8380\n",
      "Epoch 8/100\n",
      "240/240 [==============================] - 0s 1ms/step - loss: 0.3743 - accuracy: 0.8435\n",
      "Epoch 9/100\n",
      "240/240 [==============================] - 0s 1ms/step - loss: 0.3673 - accuracy: 0.8483\n",
      "Epoch 10/100\n",
      "240/240 [==============================] - 0s 1ms/step - loss: 0.3626 - accuracy: 0.8504\n",
      "Epoch 11/100\n",
      "240/240 [==============================] - 0s 1ms/step - loss: 0.3595 - accuracy: 0.8490\n",
      "Epoch 12/100\n",
      "240/240 [==============================] - 0s 1ms/step - loss: 0.3575 - accuracy: 0.8520\n",
      "Epoch 13/100\n",
      "240/240 [==============================] - 0s 1ms/step - loss: 0.3556 - accuracy: 0.8529\n",
      "Epoch 14/100\n",
      "240/240 [==============================] - 0s 2ms/step - loss: 0.3548 - accuracy: 0.8517\n",
      "Epoch 15/100\n",
      "240/240 [==============================] - 0s 1ms/step - loss: 0.3539 - accuracy: 0.8517\n",
      "Epoch 16/100\n",
      "240/240 [==============================] - 0s 1ms/step - loss: 0.3533 - accuracy: 0.8552\n",
      "Epoch 17/100\n",
      "240/240 [==============================] - 0s 1ms/step - loss: 0.3523 - accuracy: 0.8531\n",
      "Epoch 18/100\n",
      "240/240 [==============================] - 0s 1ms/step - loss: 0.3520 - accuracy: 0.8525\n",
      "Epoch 19/100\n",
      "240/240 [==============================] - 0s 1ms/step - loss: 0.3517 - accuracy: 0.8552\n",
      "Epoch 20/100\n",
      "240/240 [==============================] - 0s 1ms/step - loss: 0.3513 - accuracy: 0.8550\n",
      "Epoch 21/100\n",
      "240/240 [==============================] - 0s 1ms/step - loss: 0.3512 - accuracy: 0.8546\n",
      "Epoch 22/100\n",
      "240/240 [==============================] - 0s 1ms/step - loss: 0.3505 - accuracy: 0.8550\n",
      "Epoch 23/100\n",
      "240/240 [==============================] - 0s 1ms/step - loss: 0.3502 - accuracy: 0.8531\n",
      "Epoch 24/100\n",
      "240/240 [==============================] - 0s 1ms/step - loss: 0.3497 - accuracy: 0.8546\n",
      "Epoch 25/100\n",
      "240/240 [==============================] - 0s 1ms/step - loss: 0.3493 - accuracy: 0.8554\n",
      "Epoch 26/100\n",
      "240/240 [==============================] - 0s 1ms/step - loss: 0.3490 - accuracy: 0.8555\n",
      "Epoch 27/100\n",
      "240/240 [==============================] - 0s 1ms/step - loss: 0.3484 - accuracy: 0.8554\n",
      "Epoch 28/100\n",
      "240/240 [==============================] - 0s 1ms/step - loss: 0.3483 - accuracy: 0.8552\n",
      "Epoch 29/100\n",
      "240/240 [==============================] - 0s 1ms/step - loss: 0.3476 - accuracy: 0.8554\n",
      "Epoch 30/100\n",
      "240/240 [==============================] - 0s 1ms/step - loss: 0.3473 - accuracy: 0.8558\n",
      "Epoch 31/100\n",
      "240/240 [==============================] - 0s 1ms/step - loss: 0.3472 - accuracy: 0.8559\n",
      "Epoch 32/100\n",
      "240/240 [==============================] - 0s 1ms/step - loss: 0.3466 - accuracy: 0.8576\n",
      "Epoch 33/100\n",
      "240/240 [==============================] - 0s 1ms/step - loss: 0.3465 - accuracy: 0.8555\n",
      "Epoch 34/100\n",
      "240/240 [==============================] - 0s 986us/step - loss: 0.3459 - accuracy: 0.8562\n",
      "Epoch 35/100\n",
      "240/240 [==============================] - 0s 957us/step - loss: 0.3463 - accuracy: 0.8560\n",
      "Epoch 36/100\n",
      "240/240 [==============================] - 0s 1ms/step - loss: 0.3455 - accuracy: 0.8564\n",
      "Epoch 37/100\n",
      "240/240 [==============================] - 0s 998us/step - loss: 0.3455 - accuracy: 0.8573\n",
      "Epoch 38/100\n",
      "240/240 [==============================] - 0s 924us/step - loss: 0.3453 - accuracy: 0.8552\n",
      "Epoch 39/100\n",
      "240/240 [==============================] - 0s 1ms/step - loss: 0.3449 - accuracy: 0.8575\n",
      "Epoch 40/100\n",
      "240/240 [==============================] - 0s 1ms/step - loss: 0.3450 - accuracy: 0.8581\n",
      "Epoch 41/100\n",
      "240/240 [==============================] - 0s 979us/step - loss: 0.3447 - accuracy: 0.8560\n",
      "Epoch 42/100\n",
      "240/240 [==============================] - 0s 960us/step - loss: 0.3446 - accuracy: 0.8573\n",
      "Epoch 43/100\n",
      "240/240 [==============================] - 0s 926us/step - loss: 0.3440 - accuracy: 0.8584\n",
      "Epoch 44/100\n",
      "240/240 [==============================] - 0s 1ms/step - loss: 0.3442 - accuracy: 0.8569\n",
      "Epoch 45/100\n",
      "240/240 [==============================] - 0s 944us/step - loss: 0.3439 - accuracy: 0.8573\n",
      "Epoch 46/100\n",
      "240/240 [==============================] - 0s 954us/step - loss: 0.3440 - accuracy: 0.8568\n",
      "Epoch 47/100\n",
      "240/240 [==============================] - 0s 977us/step - loss: 0.3436 - accuracy: 0.8584\n",
      "Epoch 48/100\n",
      "240/240 [==============================] - 0s 976us/step - loss: 0.3435 - accuracy: 0.8572\n",
      "Epoch 49/100\n",
      "240/240 [==============================] - 0s 947us/step - loss: 0.3435 - accuracy: 0.8571\n",
      "Epoch 50/100\n",
      "240/240 [==============================] - 0s 1ms/step - loss: 0.3435 - accuracy: 0.8565\n",
      "Epoch 51/100\n",
      "240/240 [==============================] - 0s 1ms/step - loss: 0.3430 - accuracy: 0.8571\n",
      "Epoch 52/100\n",
      "240/240 [==============================] - 0s 989us/step - loss: 0.3433 - accuracy: 0.8558\n",
      "Epoch 53/100\n",
      "240/240 [==============================] - 0s 950us/step - loss: 0.3430 - accuracy: 0.8585\n",
      "Epoch 54/100\n",
      "240/240 [==============================] - 0s 1ms/step - loss: 0.3430 - accuracy: 0.8575\n",
      "Epoch 55/100\n",
      "240/240 [==============================] - 0s 949us/step - loss: 0.3429 - accuracy: 0.8564\n",
      "Epoch 56/100\n",
      "240/240 [==============================] - 0s 992us/step - loss: 0.3425 - accuracy: 0.8580\n",
      "Epoch 57/100\n",
      "240/240 [==============================] - 0s 1ms/step - loss: 0.3426 - accuracy: 0.8585\n",
      "Epoch 58/100\n",
      "240/240 [==============================] - 0s 1ms/step - loss: 0.3428 - accuracy: 0.8577\n",
      "Epoch 59/100\n",
      "240/240 [==============================] - 0s 1ms/step - loss: 0.3429 - accuracy: 0.8569\n",
      "Epoch 60/100\n",
      "240/240 [==============================] - 0s 1ms/step - loss: 0.3422 - accuracy: 0.8577\n",
      "Epoch 61/100\n",
      "240/240 [==============================] - 0s 1ms/step - loss: 0.3427 - accuracy: 0.8582\n",
      "Epoch 62/100\n",
      "240/240 [==============================] - 0s 1ms/step - loss: 0.3426 - accuracy: 0.8572\n",
      "Epoch 63/100\n",
      "240/240 [==============================] - 0s 992us/step - loss: 0.3425 - accuracy: 0.8575\n",
      "Epoch 64/100\n",
      "240/240 [==============================] - 0s 992us/step - loss: 0.3426 - accuracy: 0.8585\n",
      "Epoch 65/100\n",
      "240/240 [==============================] - 0s 1ms/step - loss: 0.3428 - accuracy: 0.8568\n",
      "Epoch 66/100\n",
      "240/240 [==============================] - 0s 1ms/step - loss: 0.3424 - accuracy: 0.8586\n",
      "Epoch 67/100\n",
      "240/240 [==============================] - 0s 1ms/step - loss: 0.3421 - accuracy: 0.8563\n",
      "Epoch 68/100\n",
      "240/240 [==============================] - 0s 1ms/step - loss: 0.3417 - accuracy: 0.8579\n",
      "Epoch 69/100\n",
      "240/240 [==============================] - 0s 1ms/step - loss: 0.3420 - accuracy: 0.8567\n",
      "Epoch 70/100\n",
      "240/240 [==============================] - 0s 1ms/step - loss: 0.3420 - accuracy: 0.8582\n",
      "Epoch 71/100\n",
      "240/240 [==============================] - 0s 1ms/step - loss: 0.3418 - accuracy: 0.8560\n",
      "Epoch 72/100\n",
      "240/240 [==============================] - 0s 1ms/step - loss: 0.3422 - accuracy: 0.8559\n",
      "Epoch 73/100\n",
      "240/240 [==============================] - 0s 1ms/step - loss: 0.3419 - accuracy: 0.8573\n",
      "Epoch 74/100\n",
      "240/240 [==============================] - 0s 1ms/step - loss: 0.3418 - accuracy: 0.8577\n",
      "Epoch 75/100\n",
      "240/240 [==============================] - 0s 1ms/step - loss: 0.3416 - accuracy: 0.8581\n",
      "Epoch 76/100\n",
      "240/240 [==============================] - 0s 1ms/step - loss: 0.3415 - accuracy: 0.8593\n",
      "Epoch 77/100\n",
      "240/240 [==============================] - 0s 1ms/step - loss: 0.3416 - accuracy: 0.8575\n",
      "Epoch 78/100\n",
      "240/240 [==============================] - 0s 1ms/step - loss: 0.3416 - accuracy: 0.8571\n",
      "Epoch 79/100\n",
      "240/240 [==============================] - 0s 1ms/step - loss: 0.3417 - accuracy: 0.8584\n",
      "Epoch 80/100\n",
      "240/240 [==============================] - 0s 1ms/step - loss: 0.3415 - accuracy: 0.8579\n",
      "Epoch 81/100\n"
     ]
    },
    {
     "name": "stdout",
     "output_type": "stream",
     "text": [
      "240/240 [==============================] - 0s 2ms/step - loss: 0.3415 - accuracy: 0.8571\n",
      "Epoch 82/100\n",
      "240/240 [==============================] - 0s 1ms/step - loss: 0.3412 - accuracy: 0.8579\n",
      "Epoch 83/100\n",
      "240/240 [==============================] - 0s 1ms/step - loss: 0.3411 - accuracy: 0.8577\n",
      "Epoch 84/100\n",
      "240/240 [==============================] - 0s 1ms/step - loss: 0.3410 - accuracy: 0.8596\n",
      "Epoch 85/100\n",
      "240/240 [==============================] - 0s 1ms/step - loss: 0.3413 - accuracy: 0.8573\n",
      "Epoch 86/100\n",
      "240/240 [==============================] - 0s 1ms/step - loss: 0.3410 - accuracy: 0.8588\n",
      "Epoch 87/100\n",
      "240/240 [==============================] - 0s 1ms/step - loss: 0.3413 - accuracy: 0.8581\n",
      "Epoch 88/100\n",
      "240/240 [==============================] - 0s 1ms/step - loss: 0.3407 - accuracy: 0.8590\n",
      "Epoch 89/100\n",
      "240/240 [==============================] - 0s 1ms/step - loss: 0.3411 - accuracy: 0.8593\n",
      "Epoch 90/100\n",
      "240/240 [==============================] - 0s 1ms/step - loss: 0.3409 - accuracy: 0.8581\n",
      "Epoch 91/100\n",
      "240/240 [==============================] - 0s 1ms/step - loss: 0.3414 - accuracy: 0.8584\n",
      "Epoch 92/100\n",
      "240/240 [==============================] - 0s 2ms/step - loss: 0.3410 - accuracy: 0.8586\n",
      "Epoch 93/100\n",
      "240/240 [==============================] - 0s 1ms/step - loss: 0.3411 - accuracy: 0.8569\n",
      "Epoch 94/100\n",
      "240/240 [==============================] - 0s 1ms/step - loss: 0.3408 - accuracy: 0.8585\n",
      "Epoch 95/100\n",
      "240/240 [==============================] - 0s 1ms/step - loss: 0.3408 - accuracy: 0.8571\n",
      "Epoch 96/100\n",
      "240/240 [==============================] - 0s 1ms/step - loss: 0.3408 - accuracy: 0.8586\n",
      "Epoch 97/100\n",
      "240/240 [==============================] - 0s 1ms/step - loss: 0.3406 - accuracy: 0.8580\n",
      "Epoch 98/100\n",
      "240/240 [==============================] - 0s 995us/step - loss: 0.3408 - accuracy: 0.8582\n",
      "Epoch 99/100\n",
      "240/240 [==============================] - 0s 1ms/step - loss: 0.3405 - accuracy: 0.8588\n",
      "Epoch 100/100\n",
      "240/240 [==============================] - 0s 910us/step - loss: 0.3404 - accuracy: 0.8593\n"
     ]
    },
    {
     "data": {
      "text/plain": [
       "<tensorflow.python.keras.callbacks.History at 0x7fefc44dc080>"
      ]
     },
     "execution_count": 77,
     "metadata": {},
     "output_type": "execute_result"
    }
   ],
   "source": [
    "ann.fit(X_train, y_train, batch_size = 32, epochs = 100)"
   ]
  },
  {
   "cell_type": "code",
   "execution_count": 78,
   "metadata": {
    "ExecuteTime": {
     "end_time": "2022-03-19T15:55:46.362519Z",
     "start_time": "2022-03-19T15:55:46.352595Z"
    }
   },
   "outputs": [],
   "source": [
    "from sklearn.metrics import accuracy_score,confusion_matrix"
   ]
  },
  {
   "cell_type": "code",
   "execution_count": 79,
   "metadata": {
    "ExecuteTime": {
     "end_time": "2022-03-19T15:55:48.000038Z",
     "start_time": "2022-03-19T15:55:47.986392Z"
    }
   },
   "outputs": [],
   "source": [
    "def metricas(ypred,yv): #Mide efectividad de un Modelo Predictivo\n",
    "    print( \" Acc Validate: %.3f\" %accuracy_score(y_pred=ypred,y_true=yv))\n",
    "    print( \" Matrix Conf Validate: \", \"\\n\",confusion_matrix(y_pred=ypred,y_true=yv))"
   ]
  },
  {
   "cell_type": "code",
   "execution_count": 80,
   "metadata": {
    "ExecuteTime": {
     "end_time": "2022-03-19T15:56:13.516798Z",
     "start_time": "2022-03-19T15:56:13.394084Z"
    }
   },
   "outputs": [
    {
     "data": {
      "text/plain": [
       "array([[0.97600174],\n",
       "       [0.19326895],\n",
       "       [0.03058875],\n",
       "       ...,\n",
       "       [0.17596844],\n",
       "       [0.00685996],\n",
       "       [0.4938668 ]], dtype=float32)"
      ]
     },
     "execution_count": 80,
     "metadata": {},
     "output_type": "execute_result"
    }
   ],
   "source": [
    "ann.predict(X_test)"
   ]
  },
  {
   "cell_type": "code",
   "execution_count": 81,
   "metadata": {
    "ExecuteTime": {
     "end_time": "2022-03-19T15:56:55.956238Z",
     "start_time": "2022-03-19T15:56:55.868872Z"
    }
   },
   "outputs": [],
   "source": [
    "y_pred =pd.DataFrame( ann.predict(X_test),columns=['proba'])\n"
   ]
  },
  {
   "cell_type": "code",
   "execution_count": 82,
   "metadata": {
    "ExecuteTime": {
     "end_time": "2022-03-19T15:56:59.108053Z",
     "start_time": "2022-03-19T15:56:59.090685Z"
    }
   },
   "outputs": [
    {
     "data": {
      "text/html": [
       "<div>\n",
       "<style scoped>\n",
       "    .dataframe tbody tr th:only-of-type {\n",
       "        vertical-align: middle;\n",
       "    }\n",
       "\n",
       "    .dataframe tbody tr th {\n",
       "        vertical-align: top;\n",
       "    }\n",
       "\n",
       "    .dataframe thead th {\n",
       "        text-align: right;\n",
       "    }\n",
       "</style>\n",
       "<table border=\"1\" class=\"dataframe\">\n",
       "  <thead>\n",
       "    <tr style=\"text-align: right;\">\n",
       "      <th></th>\n",
       "      <th>proba</th>\n",
       "    </tr>\n",
       "  </thead>\n",
       "  <tbody>\n",
       "    <tr>\n",
       "      <th>0</th>\n",
       "      <td>0.976002</td>\n",
       "    </tr>\n",
       "    <tr>\n",
       "      <th>1</th>\n",
       "      <td>0.193269</td>\n",
       "    </tr>\n",
       "    <tr>\n",
       "      <th>2</th>\n",
       "      <td>0.030589</td>\n",
       "    </tr>\n",
       "    <tr>\n",
       "      <th>3</th>\n",
       "      <td>0.274372</td>\n",
       "    </tr>\n",
       "    <tr>\n",
       "      <th>4</th>\n",
       "      <td>0.005997</td>\n",
       "    </tr>\n",
       "    <tr>\n",
       "      <th>...</th>\n",
       "      <td>...</td>\n",
       "    </tr>\n",
       "    <tr>\n",
       "      <th>1909</th>\n",
       "      <td>0.059068</td>\n",
       "    </tr>\n",
       "    <tr>\n",
       "      <th>1910</th>\n",
       "      <td>0.109611</td>\n",
       "    </tr>\n",
       "    <tr>\n",
       "      <th>1911</th>\n",
       "      <td>0.175968</td>\n",
       "    </tr>\n",
       "    <tr>\n",
       "      <th>1912</th>\n",
       "      <td>0.006860</td>\n",
       "    </tr>\n",
       "    <tr>\n",
       "      <th>1913</th>\n",
       "      <td>0.493867</td>\n",
       "    </tr>\n",
       "  </tbody>\n",
       "</table>\n",
       "<p>1914 rows × 1 columns</p>\n",
       "</div>"
      ],
      "text/plain": [
       "         proba\n",
       "0     0.976002\n",
       "1     0.193269\n",
       "2     0.030589\n",
       "3     0.274372\n",
       "4     0.005997\n",
       "...        ...\n",
       "1909  0.059068\n",
       "1910  0.109611\n",
       "1911  0.175968\n",
       "1912  0.006860\n",
       "1913  0.493867\n",
       "\n",
       "[1914 rows x 1 columns]"
      ]
     },
     "execution_count": 82,
     "metadata": {},
     "output_type": "execute_result"
    }
   ],
   "source": [
    "y_pred"
   ]
  },
  {
   "cell_type": "code",
   "execution_count": 83,
   "metadata": {
    "ExecuteTime": {
     "end_time": "2022-03-19T15:57:20.778527Z",
     "start_time": "2022-03-19T15:57:20.764633Z"
    }
   },
   "outputs": [],
   "source": [
    "\n",
    "y_pred['clase']=y_pred['proba'].map(lambda x : 1 if x>.5 else 0)"
   ]
  },
  {
   "cell_type": "code",
   "execution_count": 84,
   "metadata": {
    "ExecuteTime": {
     "end_time": "2022-03-19T15:57:21.403144Z",
     "start_time": "2022-03-19T15:57:21.368305Z"
    }
   },
   "outputs": [
    {
     "data": {
      "text/html": [
       "<div>\n",
       "<style scoped>\n",
       "    .dataframe tbody tr th:only-of-type {\n",
       "        vertical-align: middle;\n",
       "    }\n",
       "\n",
       "    .dataframe tbody tr th {\n",
       "        vertical-align: top;\n",
       "    }\n",
       "\n",
       "    .dataframe thead th {\n",
       "        text-align: right;\n",
       "    }\n",
       "</style>\n",
       "<table border=\"1\" class=\"dataframe\">\n",
       "  <thead>\n",
       "    <tr style=\"text-align: right;\">\n",
       "      <th></th>\n",
       "      <th>proba</th>\n",
       "      <th>clase</th>\n",
       "    </tr>\n",
       "  </thead>\n",
       "  <tbody>\n",
       "    <tr>\n",
       "      <th>0</th>\n",
       "      <td>0.976002</td>\n",
       "      <td>1</td>\n",
       "    </tr>\n",
       "    <tr>\n",
       "      <th>1</th>\n",
       "      <td>0.193269</td>\n",
       "      <td>0</td>\n",
       "    </tr>\n",
       "    <tr>\n",
       "      <th>2</th>\n",
       "      <td>0.030589</td>\n",
       "      <td>0</td>\n",
       "    </tr>\n",
       "    <tr>\n",
       "      <th>3</th>\n",
       "      <td>0.274372</td>\n",
       "      <td>0</td>\n",
       "    </tr>\n",
       "    <tr>\n",
       "      <th>4</th>\n",
       "      <td>0.005997</td>\n",
       "      <td>0</td>\n",
       "    </tr>\n",
       "    <tr>\n",
       "      <th>...</th>\n",
       "      <td>...</td>\n",
       "      <td>...</td>\n",
       "    </tr>\n",
       "    <tr>\n",
       "      <th>1909</th>\n",
       "      <td>0.059068</td>\n",
       "      <td>0</td>\n",
       "    </tr>\n",
       "    <tr>\n",
       "      <th>1910</th>\n",
       "      <td>0.109611</td>\n",
       "      <td>0</td>\n",
       "    </tr>\n",
       "    <tr>\n",
       "      <th>1911</th>\n",
       "      <td>0.175968</td>\n",
       "      <td>0</td>\n",
       "    </tr>\n",
       "    <tr>\n",
       "      <th>1912</th>\n",
       "      <td>0.006860</td>\n",
       "      <td>0</td>\n",
       "    </tr>\n",
       "    <tr>\n",
       "      <th>1913</th>\n",
       "      <td>0.493867</td>\n",
       "      <td>0</td>\n",
       "    </tr>\n",
       "  </tbody>\n",
       "</table>\n",
       "<p>1914 rows × 2 columns</p>\n",
       "</div>"
      ],
      "text/plain": [
       "         proba  clase\n",
       "0     0.976002      1\n",
       "1     0.193269      0\n",
       "2     0.030589      0\n",
       "3     0.274372      0\n",
       "4     0.005997      0\n",
       "...        ...    ...\n",
       "1909  0.059068      0\n",
       "1910  0.109611      0\n",
       "1911  0.175968      0\n",
       "1912  0.006860      0\n",
       "1913  0.493867      0\n",
       "\n",
       "[1914 rows x 2 columns]"
      ]
     },
     "execution_count": 84,
     "metadata": {},
     "output_type": "execute_result"
    }
   ],
   "source": [
    "y_pred"
   ]
  },
  {
   "cell_type": "code",
   "execution_count": 85,
   "metadata": {
    "ExecuteTime": {
     "end_time": "2022-03-19T15:57:44.245707Z",
     "start_time": "2022-03-19T15:57:44.225022Z"
    }
   },
   "outputs": [
    {
     "name": "stdout",
     "output_type": "stream",
     "text": [
      " Acc Validate: 0.875\n",
      " Matrix Conf Validate:  \n",
      " [[1512   59]\n",
      " [ 181  162]]\n"
     ]
    }
   ],
   "source": [
    "metricas(y_pred['clase'],y_test)"
   ]
  },
  {
   "cell_type": "markdown",
   "metadata": {},
   "source": [
    "Geography: France\n",
    "\n",
    "Credit Score: 600\n",
    "\n",
    "Gender: Male\n",
    "\n",
    "Age: 40 years old\n",
    "\n",
    "Tenure: 3 years\n",
    "\n",
    "Balance: $ 60000\n",
    "\n",
    "Number of Products: 2\n",
    "\n",
    "Does this customer have a credit card ? Yes\n",
    "\n",
    "Is this customer an Active Member: Yes\n",
    "\n",
    "Estimated Salary: $ 50000\n"
   ]
  },
  {
   "cell_type": "code",
   "execution_count": 86,
   "metadata": {
    "ExecuteTime": {
     "end_time": "2022-03-19T15:58:17.650918Z",
     "start_time": "2022-03-19T15:58:17.635485Z"
    }
   },
   "outputs": [
    {
     "data": {
      "text/plain": [
       "Index(['CreditScore', 'Gender', 'Age', 'Tenure', 'Balance', 'NumOfProducts',\n",
       "       'HasCrCard', 'IsActiveMember', 'EstimatedSalary', 'Geography_France',\n",
       "       'Geography_Germany'],\n",
       "      dtype='object')"
      ]
     },
     "execution_count": 86,
     "metadata": {},
     "output_type": "execute_result"
    }
   ],
   "source": [
    "X.columns"
   ]
  },
  {
   "cell_type": "code",
   "execution_count": 39,
   "metadata": {
    "ExecuteTime": {
     "end_time": "2022-03-15T05:19:56.049755Z",
     "start_time": "2022-03-15T05:19:56.041716Z"
    }
   },
   "outputs": [],
   "source": [
    "nueva_observacion=[600,0,40,3,60000,2,1,1,50000,1,0]"
   ]
  },
  {
   "cell_type": "code",
   "execution_count": 87,
   "metadata": {
    "ExecuteTime": {
     "end_time": "2022-03-19T15:59:37.438964Z",
     "start_time": "2022-03-19T15:59:37.387333Z"
    }
   },
   "outputs": [
    {
     "data": {
      "text/plain": [
       "array([[0.02190644]], dtype=float32)"
      ]
     },
     "execution_count": 87,
     "metadata": {},
     "output_type": "execute_result"
    }
   ],
   "source": [
    "ann.predict(sc.transform([nueva_observacion]))"
   ]
  },
  {
   "cell_type": "code",
   "execution_count": null,
   "metadata": {},
   "outputs": [],
   "source": []
  }
 ],
 "metadata": {
  "kernelspec": {
   "display_name": "diplo_env",
   "language": "python",
   "name": "diplo_env"
  },
  "language_info": {
   "codemirror_mode": {
    "name": "ipython",
    "version": 3
   },
   "file_extension": ".py",
   "mimetype": "text/x-python",
   "name": "python",
   "nbconvert_exporter": "python",
   "pygments_lexer": "ipython3",
   "version": "3.6.13"
  },
  "varInspector": {
   "cols": {
    "lenName": 16,
    "lenType": 16,
    "lenVar": 40
   },
   "kernels_config": {
    "python": {
     "delete_cmd_postfix": "",
     "delete_cmd_prefix": "del ",
     "library": "var_list.py",
     "varRefreshCmd": "print(var_dic_list())"
    },
    "r": {
     "delete_cmd_postfix": ") ",
     "delete_cmd_prefix": "rm(",
     "library": "var_list.r",
     "varRefreshCmd": "cat(var_dic_list()) "
    }
   },
   "types_to_exclude": [
    "module",
    "function",
    "builtin_function_or_method",
    "instance",
    "_Feature"
   ],
   "window_display": false
  }
 },
 "nbformat": 4,
 "nbformat_minor": 4
}

{
 "cells": [
  {
   "cell_type": "code",
   "execution_count": 1,
   "metadata": {
    "ExecuteTime": {
     "end_time": "2022-03-05T14:11:20.519216Z",
     "start_time": "2022-03-05T14:11:19.885354Z"
    },
    "id": "UAg9eRZ7ZU8Y"
   },
   "outputs": [],
   "source": [
    "from sklearn.model_selection import cross_val_score, train_test_split, RandomizedSearchCV, GridSearchCV\n",
    "from sklearn.preprocessing import MinMaxScaler\n",
    "from sklearn.kernel_ridge import KernelRidge\n",
    "from sklearn.datasets import load_boston\n",
    "from sklearn.linear_model import Ridge\n",
    "from sklearn.metrics import r2_score\n",
    "import pandas as pd\n",
    "import numpy as np\n",
    "\n",
    "pd.set_option(\"display.max_columns\", 100)"
   ]
  },
  {
   "cell_type": "markdown",
   "metadata": {
    "id": "HuNNkKB6ZU8Z"
   },
   "source": [
    "## Carga de datos"
   ]
  },
  {
   "cell_type": "code",
   "execution_count": 2,
   "metadata": {
    "ExecuteTime": {
     "end_time": "2022-03-05T14:11:30.119773Z",
     "start_time": "2022-03-05T14:11:30.093506Z"
    },
    "id": "Q-PD7uMtZU8a"
   },
   "outputs": [],
   "source": [
    "boston = load_boston()\n",
    "df = pd.DataFrame(data = boston[\"data\"], columns=boston[\"feature_names\"])\n",
    "df[\"target\"] = boston[\"target\"]\n",
    "tgt = \"target\"\n",
    "ls_features = [x for x in df.columns if x not in [tgt]]"
   ]
  },
  {
   "cell_type": "markdown",
   "metadata": {
    "id": "sXRFiRXkZU8a"
   },
   "source": [
    "## Preparación de datos"
   ]
  },
  {
   "cell_type": "code",
   "execution_count": 3,
   "metadata": {
    "ExecuteTime": {
     "end_time": "2022-03-05T14:11:31.682946Z",
     "start_time": "2022-03-05T14:11:31.668746Z"
    },
    "id": "QL_huEXAZU8b"
   },
   "outputs": [],
   "source": [
    "X = df[ls_features]\n",
    "y = df[[tgt]]"
   ]
  },
  {
   "cell_type": "code",
   "execution_count": 4,
   "metadata": {
    "ExecuteTime": {
     "end_time": "2022-03-05T14:11:32.847755Z",
     "start_time": "2022-03-05T14:11:32.830105Z"
    },
    "id": "3hMJV89wZU8b"
   },
   "outputs": [],
   "source": [
    "X_train, X_test, y_train, y_test = train_test_split(X, y, train_size = 0.7)"
   ]
  },
  {
   "cell_type": "code",
   "execution_count": 5,
   "metadata": {
    "ExecuteTime": {
     "end_time": "2022-03-05T14:11:34.265824Z",
     "start_time": "2022-03-05T14:11:34.257588Z"
    },
    "id": "UPT6IF4xZU8c"
   },
   "outputs": [],
   "source": [
    "mm_x = MinMaxScaler()\n",
    "mm_y = MinMaxScaler()"
   ]
  },
  {
   "cell_type": "code",
   "execution_count": 6,
   "metadata": {
    "ExecuteTime": {
     "end_time": "2022-03-05T14:11:35.469554Z",
     "start_time": "2022-03-05T14:11:35.444293Z"
    },
    "id": "CJ7s0eFNZU8c"
   },
   "outputs": [],
   "source": [
    "Xs = mm_x.fit_transform(X_train) \n",
    "ys = mm_y.fit_transform(y_train)"
   ]
  },
  {
   "cell_type": "markdown",
   "metadata": {
    "id": "7iXhai-jZU8c"
   },
   "source": [
    "## Modelado"
   ]
  },
  {
   "cell_type": "markdown",
   "metadata": {
    "cell_style": "center",
    "id": "7_xQcZH6ZU8d"
   },
   "source": [
    "### Ridge Regression"
   ]
  },
  {
   "cell_type": "code",
   "execution_count": 7,
   "metadata": {
    "ExecuteTime": {
     "end_time": "2022-03-05T14:11:37.480224Z",
     "start_time": "2022-03-05T14:11:37.469455Z"
    },
    "cell_style": "center",
    "id": "6F5Ht3QRZU8d"
   },
   "outputs": [],
   "source": [
    "param_grid = {\n",
    "    \"alpha\": [x/1000 for x in range(1000)] + [x for x in range(100)],\n",
    "    \"solver\": ['auto', 'svd', 'cholesky', 'lsqr', 'sparse_cg', 'sag', 'saga']\n",
    "}"
   ]
  },
  {
   "cell_type": "code",
   "execution_count": 8,
   "metadata": {
    "ExecuteTime": {
     "end_time": "2022-03-05T14:11:39.420877Z",
     "start_time": "2022-03-05T14:11:39.414014Z"
    },
    "cell_style": "center",
    "id": "2l05HzroZU8d",
    "outputId": "312d2092-154e-483c-ad30-c8f9d204efd6"
   },
   "outputs": [],
   "source": [
    "model = Ridge()"
   ]
  },
  {
   "cell_type": "code",
   "execution_count": 9,
   "metadata": {
    "ExecuteTime": {
     "end_time": "2022-03-05T14:11:41.431276Z",
     "start_time": "2022-03-05T14:11:41.342971Z"
    }
   },
   "outputs": [],
   "source": [
    "Ridge?"
   ]
  },
  {
   "cell_type": "code",
   "execution_count": 10,
   "metadata": {
    "ExecuteTime": {
     "end_time": "2022-03-05T14:11:45.231157Z",
     "start_time": "2022-03-05T14:11:45.208359Z"
    },
    "cell_style": "center",
    "id": "2l05HzroZU8d",
    "outputId": "312d2092-154e-483c-ad30-c8f9d204efd6"
   },
   "outputs": [
    {
     "data": {
      "text/plain": [
       "Ridge()"
      ]
     },
     "execution_count": 10,
     "metadata": {},
     "output_type": "execute_result"
    }
   ],
   "source": [
    "model.fit(Xs, ys)"
   ]
  },
  {
   "cell_type": "code",
   "execution_count": 11,
   "metadata": {
    "ExecuteTime": {
     "end_time": "2022-03-05T14:12:04.875064Z",
     "start_time": "2022-03-05T14:11:46.133579Z"
    },
    "cell_style": "center",
    "id": "2l05HzroZU8d",
    "outputId": "312d2092-154e-483c-ad30-c8f9d204efd6"
   },
   "outputs": [
    {
     "name": "stdout",
     "output_type": "stream",
     "text": [
      "Fitting 4 folds for each of 7700 candidates, totalling 30800 fits\n"
     ]
    },
    {
     "name": "stderr",
     "output_type": "stream",
     "text": [
      "[Parallel(n_jobs=-1)]: Using backend LokyBackend with 8 concurrent workers.\n",
      "[Parallel(n_jobs=-1)]: Done   2 tasks      | elapsed:    1.1s\n",
      "[Parallel(n_jobs=-1)]: Done  72 tasks      | elapsed:    1.5s\n",
      "[Parallel(n_jobs=-1)]: Done 2696 tasks      | elapsed:    3.8s\n",
      "[Parallel(n_jobs=-1)]: Done 10760 tasks      | elapsed:    7.5s\n",
      "[Parallel(n_jobs=-1)]: Done 21128 tasks      | elapsed:   13.4s\n"
     ]
    },
    {
     "name": "stdout",
     "output_type": "stream",
     "text": [
      "Best score: 0.7217479663317007\n",
      "Best estimator: Ridge(alpha=0.606, solver='sag')\n"
     ]
    },
    {
     "name": "stderr",
     "output_type": "stream",
     "text": [
      "[Parallel(n_jobs=-1)]: Done 30713 tasks      | elapsed:   18.5s\n",
      "[Parallel(n_jobs=-1)]: Done 30800 out of 30800 | elapsed:   18.6s finished\n"
     ]
    }
   ],
   "source": [
    "clf = GridSearchCV(model, param_grid, cv=4, error_score=-1000, n_jobs=-1, scoring=\"r2\", verbose=5)\n",
    "clf.fit(Xs, ys)\n",
    "print(\"Best score: \" + str(clf.best_score_))\n",
    "print(\"Best estimator: \" + str(clf.best_estimator_))"
   ]
  },
  {
   "cell_type": "markdown",
   "metadata": {
    "cell_style": "center",
    "id": "wBYKv38XZU8f"
   },
   "source": [
    "### Kernel Ridge Regression"
   ]
  },
  {
   "cell_type": "code",
   "execution_count": 12,
   "metadata": {
    "ExecuteTime": {
     "end_time": "2022-03-05T14:12:29.101765Z",
     "start_time": "2022-03-05T14:12:29.090669Z"
    },
    "id": "J3-MMxPCZU8f"
   },
   "outputs": [],
   "source": [
    "param_grid = {\"alpha\": [x/100 for x in range(100)],\n",
    "              \"kernel\": ['linear', 'poly', 'rbf', 'sigmoid', \"chi2\", \"laplacian\", \"exponential\"], \n",
    "              \"degree\": [1, 2, 3],\n",
    "              \"gamma\": [x/10 for x in range(10)]}"
   ]
  },
  {
   "cell_type": "code",
   "execution_count": 13,
   "metadata": {
    "ExecuteTime": {
     "end_time": "2022-03-05T14:12:29.553899Z",
     "start_time": "2022-03-05T14:12:29.548065Z"
    },
    "id": "ZKgz_a4PZU8f"
   },
   "outputs": [],
   "source": [
    "n_hyper = np.product([x for x in map(len, param_grid.values())])"
   ]
  },
  {
   "cell_type": "code",
   "execution_count": 14,
   "metadata": {
    "ExecuteTime": {
     "end_time": "2022-03-05T14:12:30.025208Z",
     "start_time": "2022-03-05T14:12:30.017249Z"
    }
   },
   "outputs": [
    {
     "data": {
      "text/plain": [
       "21000"
      ]
     },
     "execution_count": 14,
     "metadata": {},
     "output_type": "execute_result"
    }
   ],
   "source": [
    "n_hyper"
   ]
  },
  {
   "cell_type": "code",
   "execution_count": 15,
   "metadata": {
    "ExecuteTime": {
     "end_time": "2022-03-05T14:12:30.444304Z",
     "start_time": "2022-03-05T14:12:30.440727Z"
    },
    "id": "3NVpigurZU8f",
    "outputId": "bb6ffe40-0d68-4b75-d33d-a9e518255582"
   },
   "outputs": [],
   "source": [
    "model = KernelRidge()"
   ]
  },
  {
   "cell_type": "code",
   "execution_count": 16,
   "metadata": {
    "ExecuteTime": {
     "end_time": "2022-03-05T14:12:30.998851Z",
     "start_time": "2022-03-05T14:12:30.917635Z"
    },
    "id": "3NVpigurZU8f",
    "outputId": "bb6ffe40-0d68-4b75-d33d-a9e518255582"
   },
   "outputs": [
    {
     "data": {
      "text/plain": [
       "KernelRidge()"
      ]
     },
     "execution_count": 16,
     "metadata": {},
     "output_type": "execute_result"
    }
   ],
   "source": [
    "model.fit(Xs, ys)"
   ]
  },
  {
   "cell_type": "code",
   "execution_count": 17,
   "metadata": {
    "ExecuteTime": {
     "end_time": "2022-03-05T14:12:31.477077Z",
     "start_time": "2022-03-05T14:12:31.464494Z"
    }
   },
   "outputs": [],
   "source": [
    "KernelRidge?"
   ]
  },
  {
   "cell_type": "code",
   "execution_count": 18,
   "metadata": {
    "ExecuteTime": {
     "end_time": "2022-03-05T14:13:10.076488Z",
     "start_time": "2022-03-05T14:12:31.920411Z"
    },
    "id": "3NVpigurZU8f",
    "outputId": "bb6ffe40-0d68-4b75-d33d-a9e518255582"
   },
   "outputs": [
    {
     "name": "stdout",
     "output_type": "stream",
     "text": [
      "Fitting 4 folds for each of 5250 candidates, totalling 21000 fits\n"
     ]
    },
    {
     "name": "stderr",
     "output_type": "stream",
     "text": [
      "[Parallel(n_jobs=-1)]: Using backend LokyBackend with 8 concurrent workers.\n",
      "[Parallel(n_jobs=-1)]: Done   2 tasks      | elapsed:    0.0s\n",
      "[Parallel(n_jobs=-1)]: Done 176 tasks      | elapsed:    0.4s\n",
      "[Parallel(n_jobs=-1)]: Done 2608 tasks      | elapsed:    4.7s\n",
      "[Parallel(n_jobs=-1)]: Done 6640 tasks      | elapsed:   13.4s\n",
      "[Parallel(n_jobs=-1)]: Done 11824 tasks      | elapsed:   23.9s\n",
      "[Parallel(n_jobs=-1)]: Done 18160 tasks      | elapsed:   33.8s\n"
     ]
    },
    {
     "name": "stdout",
     "output_type": "stream",
     "text": [
      "Best score: 0.861432595439045\n"
     ]
    },
    {
     "name": "stderr",
     "output_type": "stream",
     "text": [
      "[Parallel(n_jobs=-1)]: Done 21000 out of 21000 | elapsed:   38.0s finished\n"
     ]
    }
   ],
   "source": [
    "clf = RandomizedSearchCV(model, param_grid, cv=4, error_score=-1000, n_jobs=-1, scoring=\"r2\", verbose=5, n_iter=n_hyper*.25,)\n",
    "clf.fit(Xs, ys)\n",
    "print(\"Best score: \" + str(clf.best_score_))"
   ]
  },
  {
   "cell_type": "code",
   "execution_count": 19,
   "metadata": {
    "ExecuteTime": {
     "end_time": "2022-03-05T14:13:13.528481Z",
     "start_time": "2022-03-05T14:13:13.516743Z"
    },
    "id": "k1azJ1lVZU8g",
    "outputId": "6cf2c905-441a-49cc-b81f-4e96106ae9c2"
   },
   "outputs": [
    {
     "data": {
      "text/plain": [
       "0.861432595439045"
      ]
     },
     "execution_count": 19,
     "metadata": {},
     "output_type": "execute_result"
    }
   ],
   "source": [
    "clf.best_score_"
   ]
  },
  {
   "cell_type": "code",
   "execution_count": 20,
   "metadata": {
    "ExecuteTime": {
     "end_time": "2022-03-05T14:13:14.267967Z",
     "start_time": "2022-03-05T14:13:14.260993Z"
    },
    "id": "cMjtmPoOZU8g",
    "outputId": "1e9c9055-fa94-4197-abd7-817485fe5187"
   },
   "outputs": [
    {
     "data": {
      "text/plain": [
       "KernelRidge(alpha=0.02, degree=1, gamma=0.3, kernel='laplacian')"
      ]
     },
     "execution_count": 20,
     "metadata": {},
     "output_type": "execute_result"
    }
   ],
   "source": [
    "clf.best_estimator_"
   ]
  },
  {
   "cell_type": "markdown",
   "metadata": {
    "id": "vP9cPYp8ZU8h"
   },
   "source": [
    "### Pruebas del modelo ganador"
   ]
  },
  {
   "cell_type": "code",
   "execution_count": 21,
   "metadata": {
    "ExecuteTime": {
     "end_time": "2022-03-05T14:13:19.634595Z",
     "start_time": "2022-03-05T14:13:19.616250Z"
    },
    "id": "rDwChplPZU8h",
    "outputId": "5f66b8ba-2be3-45cd-aad5-e0075c75a801"
   },
   "outputs": [
    {
     "data": {
      "text/html": [
       "<div>\n",
       "<style scoped>\n",
       "    .dataframe tbody tr th:only-of-type {\n",
       "        vertical-align: middle;\n",
       "    }\n",
       "\n",
       "    .dataframe tbody tr th {\n",
       "        vertical-align: top;\n",
       "    }\n",
       "\n",
       "    .dataframe thead th {\n",
       "        text-align: right;\n",
       "    }\n",
       "</style>\n",
       "<table border=\"1\" class=\"dataframe\">\n",
       "  <thead>\n",
       "    <tr style=\"text-align: right;\">\n",
       "      <th></th>\n",
       "      <th>target</th>\n",
       "    </tr>\n",
       "  </thead>\n",
       "  <tbody>\n",
       "    <tr>\n",
       "      <th>438</th>\n",
       "      <td>8.4</td>\n",
       "    </tr>\n",
       "    <tr>\n",
       "      <th>161</th>\n",
       "      <td>50.0</td>\n",
       "    </tr>\n",
       "    <tr>\n",
       "      <th>242</th>\n",
       "      <td>22.2</td>\n",
       "    </tr>\n",
       "    <tr>\n",
       "      <th>0</th>\n",
       "      <td>24.0</td>\n",
       "    </tr>\n",
       "    <tr>\n",
       "      <th>314</th>\n",
       "      <td>23.8</td>\n",
       "    </tr>\n",
       "    <tr>\n",
       "      <th>...</th>\n",
       "      <td>...</td>\n",
       "    </tr>\n",
       "    <tr>\n",
       "      <th>144</th>\n",
       "      <td>11.8</td>\n",
       "    </tr>\n",
       "    <tr>\n",
       "      <th>336</th>\n",
       "      <td>19.5</td>\n",
       "    </tr>\n",
       "    <tr>\n",
       "      <th>117</th>\n",
       "      <td>19.2</td>\n",
       "    </tr>\n",
       "    <tr>\n",
       "      <th>339</th>\n",
       "      <td>19.0</td>\n",
       "    </tr>\n",
       "    <tr>\n",
       "      <th>497</th>\n",
       "      <td>18.3</td>\n",
       "    </tr>\n",
       "  </tbody>\n",
       "</table>\n",
       "<p>152 rows × 1 columns</p>\n",
       "</div>"
      ],
      "text/plain": [
       "     target\n",
       "438     8.4\n",
       "161    50.0\n",
       "242    22.2\n",
       "0      24.0\n",
       "314    23.8\n",
       "..      ...\n",
       "144    11.8\n",
       "336    19.5\n",
       "117    19.2\n",
       "339    19.0\n",
       "497    18.3\n",
       "\n",
       "[152 rows x 1 columns]"
      ]
     },
     "execution_count": 21,
     "metadata": {},
     "output_type": "execute_result"
    }
   ],
   "source": [
    "y_test\n"
   ]
  },
  {
   "cell_type": "code",
   "execution_count": 22,
   "metadata": {
    "ExecuteTime": {
     "end_time": "2022-03-05T14:13:20.875933Z",
     "start_time": "2022-03-05T14:13:20.839771Z"
    }
   },
   "outputs": [
    {
     "data": {
      "text/html": [
       "<div>\n",
       "<style scoped>\n",
       "    .dataframe tbody tr th:only-of-type {\n",
       "        vertical-align: middle;\n",
       "    }\n",
       "\n",
       "    .dataframe tbody tr th {\n",
       "        vertical-align: top;\n",
       "    }\n",
       "\n",
       "    .dataframe thead th {\n",
       "        text-align: right;\n",
       "    }\n",
       "</style>\n",
       "<table border=\"1\" class=\"dataframe\">\n",
       "  <thead>\n",
       "    <tr style=\"text-align: right;\">\n",
       "      <th></th>\n",
       "      <th>CRIM</th>\n",
       "      <th>ZN</th>\n",
       "      <th>INDUS</th>\n",
       "      <th>CHAS</th>\n",
       "      <th>NOX</th>\n",
       "      <th>RM</th>\n",
       "      <th>AGE</th>\n",
       "      <th>DIS</th>\n",
       "      <th>RAD</th>\n",
       "      <th>TAX</th>\n",
       "      <th>PTRATIO</th>\n",
       "      <th>B</th>\n",
       "      <th>LSTAT</th>\n",
       "    </tr>\n",
       "  </thead>\n",
       "  <tbody>\n",
       "    <tr>\n",
       "      <th>438</th>\n",
       "      <td>13.67810</td>\n",
       "      <td>0.0</td>\n",
       "      <td>18.10</td>\n",
       "      <td>0.0</td>\n",
       "      <td>0.740</td>\n",
       "      <td>5.935</td>\n",
       "      <td>87.9</td>\n",
       "      <td>1.8206</td>\n",
       "      <td>24.0</td>\n",
       "      <td>666.0</td>\n",
       "      <td>20.2</td>\n",
       "      <td>68.95</td>\n",
       "      <td>34.02</td>\n",
       "    </tr>\n",
       "    <tr>\n",
       "      <th>161</th>\n",
       "      <td>1.46336</td>\n",
       "      <td>0.0</td>\n",
       "      <td>19.58</td>\n",
       "      <td>0.0</td>\n",
       "      <td>0.605</td>\n",
       "      <td>7.489</td>\n",
       "      <td>90.8</td>\n",
       "      <td>1.9709</td>\n",
       "      <td>5.0</td>\n",
       "      <td>403.0</td>\n",
       "      <td>14.7</td>\n",
       "      <td>374.43</td>\n",
       "      <td>1.73</td>\n",
       "    </tr>\n",
       "    <tr>\n",
       "      <th>242</th>\n",
       "      <td>0.10290</td>\n",
       "      <td>30.0</td>\n",
       "      <td>4.93</td>\n",
       "      <td>0.0</td>\n",
       "      <td>0.428</td>\n",
       "      <td>6.358</td>\n",
       "      <td>52.9</td>\n",
       "      <td>7.0355</td>\n",
       "      <td>6.0</td>\n",
       "      <td>300.0</td>\n",
       "      <td>16.6</td>\n",
       "      <td>372.75</td>\n",
       "      <td>11.22</td>\n",
       "    </tr>\n",
       "    <tr>\n",
       "      <th>0</th>\n",
       "      <td>0.00632</td>\n",
       "      <td>18.0</td>\n",
       "      <td>2.31</td>\n",
       "      <td>0.0</td>\n",
       "      <td>0.538</td>\n",
       "      <td>6.575</td>\n",
       "      <td>65.2</td>\n",
       "      <td>4.0900</td>\n",
       "      <td>1.0</td>\n",
       "      <td>296.0</td>\n",
       "      <td>15.3</td>\n",
       "      <td>396.90</td>\n",
       "      <td>4.98</td>\n",
       "    </tr>\n",
       "    <tr>\n",
       "      <th>314</th>\n",
       "      <td>0.36920</td>\n",
       "      <td>0.0</td>\n",
       "      <td>9.90</td>\n",
       "      <td>0.0</td>\n",
       "      <td>0.544</td>\n",
       "      <td>6.567</td>\n",
       "      <td>87.3</td>\n",
       "      <td>3.6023</td>\n",
       "      <td>4.0</td>\n",
       "      <td>304.0</td>\n",
       "      <td>18.4</td>\n",
       "      <td>395.69</td>\n",
       "      <td>9.28</td>\n",
       "    </tr>\n",
       "    <tr>\n",
       "      <th>...</th>\n",
       "      <td>...</td>\n",
       "      <td>...</td>\n",
       "      <td>...</td>\n",
       "      <td>...</td>\n",
       "      <td>...</td>\n",
       "      <td>...</td>\n",
       "      <td>...</td>\n",
       "      <td>...</td>\n",
       "      <td>...</td>\n",
       "      <td>...</td>\n",
       "      <td>...</td>\n",
       "      <td>...</td>\n",
       "      <td>...</td>\n",
       "    </tr>\n",
       "    <tr>\n",
       "      <th>144</th>\n",
       "      <td>2.77974</td>\n",
       "      <td>0.0</td>\n",
       "      <td>19.58</td>\n",
       "      <td>0.0</td>\n",
       "      <td>0.871</td>\n",
       "      <td>4.903</td>\n",
       "      <td>97.8</td>\n",
       "      <td>1.3459</td>\n",
       "      <td>5.0</td>\n",
       "      <td>403.0</td>\n",
       "      <td>14.7</td>\n",
       "      <td>396.90</td>\n",
       "      <td>29.29</td>\n",
       "    </tr>\n",
       "    <tr>\n",
       "      <th>336</th>\n",
       "      <td>0.03427</td>\n",
       "      <td>0.0</td>\n",
       "      <td>5.19</td>\n",
       "      <td>0.0</td>\n",
       "      <td>0.515</td>\n",
       "      <td>5.869</td>\n",
       "      <td>46.3</td>\n",
       "      <td>5.2311</td>\n",
       "      <td>5.0</td>\n",
       "      <td>224.0</td>\n",
       "      <td>20.2</td>\n",
       "      <td>396.90</td>\n",
       "      <td>9.80</td>\n",
       "    </tr>\n",
       "    <tr>\n",
       "      <th>117</th>\n",
       "      <td>0.15098</td>\n",
       "      <td>0.0</td>\n",
       "      <td>10.01</td>\n",
       "      <td>0.0</td>\n",
       "      <td>0.547</td>\n",
       "      <td>6.021</td>\n",
       "      <td>82.6</td>\n",
       "      <td>2.7474</td>\n",
       "      <td>6.0</td>\n",
       "      <td>432.0</td>\n",
       "      <td>17.8</td>\n",
       "      <td>394.51</td>\n",
       "      <td>10.30</td>\n",
       "    </tr>\n",
       "    <tr>\n",
       "      <th>339</th>\n",
       "      <td>0.05497</td>\n",
       "      <td>0.0</td>\n",
       "      <td>5.19</td>\n",
       "      <td>0.0</td>\n",
       "      <td>0.515</td>\n",
       "      <td>5.985</td>\n",
       "      <td>45.4</td>\n",
       "      <td>4.8122</td>\n",
       "      <td>5.0</td>\n",
       "      <td>224.0</td>\n",
       "      <td>20.2</td>\n",
       "      <td>396.90</td>\n",
       "      <td>9.74</td>\n",
       "    </tr>\n",
       "    <tr>\n",
       "      <th>497</th>\n",
       "      <td>0.26838</td>\n",
       "      <td>0.0</td>\n",
       "      <td>9.69</td>\n",
       "      <td>0.0</td>\n",
       "      <td>0.585</td>\n",
       "      <td>5.794</td>\n",
       "      <td>70.6</td>\n",
       "      <td>2.8927</td>\n",
       "      <td>6.0</td>\n",
       "      <td>391.0</td>\n",
       "      <td>19.2</td>\n",
       "      <td>396.90</td>\n",
       "      <td>14.10</td>\n",
       "    </tr>\n",
       "  </tbody>\n",
       "</table>\n",
       "<p>152 rows × 13 columns</p>\n",
       "</div>"
      ],
      "text/plain": [
       "         CRIM    ZN  INDUS  CHAS    NOX     RM   AGE     DIS   RAD    TAX  \\\n",
       "438  13.67810   0.0  18.10   0.0  0.740  5.935  87.9  1.8206  24.0  666.0   \n",
       "161   1.46336   0.0  19.58   0.0  0.605  7.489  90.8  1.9709   5.0  403.0   \n",
       "242   0.10290  30.0   4.93   0.0  0.428  6.358  52.9  7.0355   6.0  300.0   \n",
       "0     0.00632  18.0   2.31   0.0  0.538  6.575  65.2  4.0900   1.0  296.0   \n",
       "314   0.36920   0.0   9.90   0.0  0.544  6.567  87.3  3.6023   4.0  304.0   \n",
       "..        ...   ...    ...   ...    ...    ...   ...     ...   ...    ...   \n",
       "144   2.77974   0.0  19.58   0.0  0.871  4.903  97.8  1.3459   5.0  403.0   \n",
       "336   0.03427   0.0   5.19   0.0  0.515  5.869  46.3  5.2311   5.0  224.0   \n",
       "117   0.15098   0.0  10.01   0.0  0.547  6.021  82.6  2.7474   6.0  432.0   \n",
       "339   0.05497   0.0   5.19   0.0  0.515  5.985  45.4  4.8122   5.0  224.0   \n",
       "497   0.26838   0.0   9.69   0.0  0.585  5.794  70.6  2.8927   6.0  391.0   \n",
       "\n",
       "     PTRATIO       B  LSTAT  \n",
       "438     20.2   68.95  34.02  \n",
       "161     14.7  374.43   1.73  \n",
       "242     16.6  372.75  11.22  \n",
       "0       15.3  396.90   4.98  \n",
       "314     18.4  395.69   9.28  \n",
       "..       ...     ...    ...  \n",
       "144     14.7  396.90  29.29  \n",
       "336     20.2  396.90   9.80  \n",
       "117     17.8  394.51  10.30  \n",
       "339     20.2  396.90   9.74  \n",
       "497     19.2  396.90  14.10  \n",
       "\n",
       "[152 rows x 13 columns]"
      ]
     },
     "execution_count": 22,
     "metadata": {},
     "output_type": "execute_result"
    }
   ],
   "source": [
    "X_test"
   ]
  },
  {
   "cell_type": "code",
   "execution_count": 23,
   "metadata": {
    "ExecuteTime": {
     "end_time": "2022-03-05T14:13:23.672457Z",
     "start_time": "2022-03-05T14:13:23.658363Z"
    }
   },
   "outputs": [
    {
     "data": {
      "text/plain": [
       "MinMaxScaler()"
      ]
     },
     "execution_count": 23,
     "metadata": {},
     "output_type": "execute_result"
    }
   ],
   "source": [
    "mm_x"
   ]
  },
  {
   "cell_type": "code",
   "execution_count": 24,
   "metadata": {
    "ExecuteTime": {
     "end_time": "2022-03-05T14:13:24.189473Z",
     "start_time": "2022-03-05T14:13:24.176497Z"
    }
   },
   "outputs": [],
   "source": [
    "X_test_sc=mm_x.transform(X_test)"
   ]
  },
  {
   "cell_type": "code",
   "execution_count": 25,
   "metadata": {
    "ExecuteTime": {
     "end_time": "2022-03-05T14:13:24.909412Z",
     "start_time": "2022-03-05T14:13:24.896753Z"
    }
   },
   "outputs": [
    {
     "data": {
      "text/plain": [
       "array([[ 1.53641446e-01,  0.00000000e+00,  6.42962963e-01, ...,\n",
       "         8.08510638e-01,  1.73054617e-01,  9.15573303e-01],\n",
       "       [ 1.63464848e-02,  0.00000000e+00,  6.97777778e-01, ...,\n",
       "         2.23404255e-01,  9.43340562e-01, -5.41928123e-03],\n",
       "       [ 1.05477146e-03,  3.00000000e-01,  1.55185185e-01, ...,\n",
       "         4.25531915e-01,  9.39104342e-01,  2.65259555e-01],\n",
       "       ...,\n",
       "       [ 1.59519571e-03,  0.00000000e+00,  3.43333333e-01, ...,\n",
       "         5.53191489e-01,  9.93973473e-01,  2.39018825e-01],\n",
       "       [ 5.16033223e-04,  0.00000000e+00,  1.64814815e-01, ...,\n",
       "         8.08510638e-01,  1.00000000e+00,  2.23046207e-01],\n",
       "       [ 2.91478404e-03,  0.00000000e+00,  3.31481481e-01, ...,\n",
       "         7.02127660e-01,  1.00000000e+00,  3.47404450e-01]])"
      ]
     },
     "execution_count": 25,
     "metadata": {},
     "output_type": "execute_result"
    }
   ],
   "source": [
    "X_test_sc"
   ]
  },
  {
   "cell_type": "code",
   "execution_count": 26,
   "metadata": {
    "ExecuteTime": {
     "end_time": "2022-03-05T14:13:27.549566Z",
     "start_time": "2022-03-05T14:13:27.542236Z"
    }
   },
   "outputs": [],
   "source": [
    "kernel_model=clf.best_estimator_"
   ]
  },
  {
   "cell_type": "code",
   "execution_count": 27,
   "metadata": {
    "ExecuteTime": {
     "end_time": "2022-03-05T14:13:28.185565Z",
     "start_time": "2022-03-05T14:13:28.162562Z"
    }
   },
   "outputs": [
    {
     "data": {
      "text/plain": [
       "array([[0.11852249],\n",
       "       [0.86722594],\n",
       "       [0.33685507],\n",
       "       [0.45891776],\n",
       "       [0.36612234],\n",
       "       [0.10940708],\n",
       "       [0.52383987],\n",
       "       [0.16164811],\n",
       "       [0.10926588],\n",
       "       [0.5916373 ],\n",
       "       [0.62800829],\n",
       "       [0.25550449],\n",
       "       [0.48556013],\n",
       "       [0.27329064],\n",
       "       [0.11360229],\n",
       "       [0.30020138],\n",
       "       [0.18742497],\n",
       "       [0.11912544],\n",
       "       [0.37154094],\n",
       "       [0.23867953],\n",
       "       [0.93254879],\n",
       "       [0.29896216],\n",
       "       [0.46875481],\n",
       "       [0.3128527 ],\n",
       "       [0.21084025],\n",
       "       [0.34630574],\n",
       "       [0.06766382],\n",
       "       [0.23859132],\n",
       "       [0.42395875],\n",
       "       [0.36004799],\n",
       "       [0.29899795],\n",
       "       [0.232486  ],\n",
       "       [0.22783143],\n",
       "       [0.58899804],\n",
       "       [0.14465979],\n",
       "       [0.2215909 ],\n",
       "       [0.17558096],\n",
       "       [0.37057628],\n",
       "       [0.3953385 ],\n",
       "       [0.40112574],\n",
       "       [0.10809224],\n",
       "       [0.240209  ],\n",
       "       [0.48075148],\n",
       "       [0.41356006],\n",
       "       [0.43395266],\n",
       "       [0.48567552],\n",
       "       [0.13709251],\n",
       "       [0.23205089],\n",
       "       [0.34690104],\n",
       "       [0.0999588 ],\n",
       "       [0.3779756 ],\n",
       "       [0.32697073],\n",
       "       [0.20952711],\n",
       "       [0.22838367],\n",
       "       [0.21574   ],\n",
       "       [0.38443684],\n",
       "       [0.30732334],\n",
       "       [0.26837762],\n",
       "       [0.29537129],\n",
       "       [0.13128607],\n",
       "       [0.722038  ],\n",
       "       [0.61056598],\n",
       "       [0.35273993],\n",
       "       [0.46050418],\n",
       "       [0.28638061],\n",
       "       [0.44352929],\n",
       "       [0.35592745],\n",
       "       [0.19565264],\n",
       "       [0.43945671],\n",
       "       [0.3680782 ],\n",
       "       [0.54959083],\n",
       "       [0.34442942],\n",
       "       [0.04493705],\n",
       "       [0.32486781],\n",
       "       [0.27793295],\n",
       "       [0.66009821],\n",
       "       [0.08853927],\n",
       "       [0.28681482],\n",
       "       [0.28760768],\n",
       "       [0.59457369],\n",
       "       [0.42395132],\n",
       "       [0.39776969],\n",
       "       [0.3111868 ],\n",
       "       [0.41620403],\n",
       "       [0.59673199],\n",
       "       [0.56349743],\n",
       "       [0.30471316],\n",
       "       [0.23051532],\n",
       "       [0.77792199],\n",
       "       [0.40149129],\n",
       "       [0.69816398],\n",
       "       [0.96470963],\n",
       "       [0.2704    ],\n",
       "       [0.36123498],\n",
       "       [0.85984161],\n",
       "       [0.45894293],\n",
       "       [0.27699456],\n",
       "       [0.53580356],\n",
       "       [0.74313728],\n",
       "       [0.54901782],\n",
       "       [0.48207573],\n",
       "       [0.31999747],\n",
       "       [0.69549861],\n",
       "       [0.32648482],\n",
       "       [0.66489611],\n",
       "       [0.42243855],\n",
       "       [0.3374219 ],\n",
       "       [0.37455928],\n",
       "       [0.25955459],\n",
       "       [0.33667749],\n",
       "       [0.44776474],\n",
       "       [0.13359297],\n",
       "       [0.29038161],\n",
       "       [0.22722702],\n",
       "       [0.48712627],\n",
       "       [0.46965614],\n",
       "       [0.45482117],\n",
       "       [0.38562623],\n",
       "       [0.20499173],\n",
       "       [0.32790582],\n",
       "       [0.35687822],\n",
       "       [0.34490812],\n",
       "       [0.35419082],\n",
       "       [0.24424625],\n",
       "       [0.4767715 ],\n",
       "       [0.71494203],\n",
       "       [0.20660951],\n",
       "       [0.32414237],\n",
       "       [0.43653335],\n",
       "       [0.14630803],\n",
       "       [0.66913258],\n",
       "       [0.19645556],\n",
       "       [0.04631707],\n",
       "       [0.02878329],\n",
       "       [0.64429224],\n",
       "       [0.30633228],\n",
       "       [0.79703392],\n",
       "       [0.29991996],\n",
       "       [0.36248785],\n",
       "       [0.13732526],\n",
       "       [0.4883977 ],\n",
       "       [0.20177974],\n",
       "       [0.34695571],\n",
       "       [0.33828948],\n",
       "       [0.21486279],\n",
       "       [0.87318711],\n",
       "       [0.35676034],\n",
       "       [0.21639061],\n",
       "       [0.31596998],\n",
       "       [0.32295375],\n",
       "       [0.33247046],\n",
       "       [0.35961878]])"
      ]
     },
     "execution_count": 27,
     "metadata": {},
     "output_type": "execute_result"
    }
   ],
   "source": [
    "kernel_model.predict(X_test_sc)"
   ]
  },
  {
   "cell_type": "code",
   "execution_count": 28,
   "metadata": {
    "ExecuteTime": {
     "end_time": "2022-03-05T14:13:29.006051Z",
     "start_time": "2022-03-05T14:13:28.981314Z"
    }
   },
   "outputs": [
    {
     "data": {
      "text/plain": [
       "array([[10.33351195],\n",
       "       [44.02516711],\n",
       "       [20.15847795],\n",
       "       [25.65129917],\n",
       "       [21.47550519],\n",
       "       [ 9.92331878],\n",
       "       [28.57279437],\n",
       "       [12.27416512],\n",
       "       [ 9.91696443],\n",
       "       [31.62367872],\n",
       "       [33.2603732 ],\n",
       "       [16.49770187],\n",
       "       [26.85020591],\n",
       "       [17.29807893],\n",
       "       [10.11210288],\n",
       "       [18.50906216],\n",
       "       [13.43412365],\n",
       "       [10.36064502],\n",
       "       [21.71934245],\n",
       "       [15.74057865],\n",
       "       [46.9646955 ],\n",
       "       [18.4532973 ],\n",
       "       [26.09396649],\n",
       "       [19.0783716 ],\n",
       "       [14.48781143],\n",
       "       [20.58375828],\n",
       "       [ 8.04487181],\n",
       "       [15.73660942],\n",
       "       [24.0781439 ],\n",
       "       [21.20215933],\n",
       "       [18.45490771],\n",
       "       [15.46186984],\n",
       "       [15.25241427],\n",
       "       [31.50491192],\n",
       "       [11.50969038],\n",
       "       [14.97159034],\n",
       "       [12.90114328],\n",
       "       [21.67593271],\n",
       "       [22.79023257],\n",
       "       [23.05065816],\n",
       "       [ 9.86415062],\n",
       "       [15.80940482],\n",
       "       [26.63381641],\n",
       "       [23.61020266],\n",
       "       [24.52786988],\n",
       "       [26.85539818],\n",
       "       [11.16916276],\n",
       "       [15.44228994],\n",
       "       [20.61054661],\n",
       "       [ 9.49814584],\n",
       "       [22.00890221],\n",
       "       [19.71368277],\n",
       "       [14.42872016],\n",
       "       [15.27726529],\n",
       "       [14.70829996],\n",
       "       [22.29965787],\n",
       "       [18.82955033],\n",
       "       [17.07699297],\n",
       "       [18.29170821],\n",
       "       [10.90787326],\n",
       "       [37.49171019],\n",
       "       [32.47546902],\n",
       "       [20.87329681],\n",
       "       [25.7226883 ],\n",
       "       [17.88712727],\n",
       "       [24.958818  ],\n",
       "       [21.0167353 ],\n",
       "       [13.804369  ],\n",
       "       [24.77555208],\n",
       "       [21.56351883],\n",
       "       [29.73158734],\n",
       "       [20.49932368],\n",
       "       [ 7.02216739],\n",
       "       [19.61905144],\n",
       "       [17.50698264],\n",
       "       [34.70441959],\n",
       "       [ 8.98426712],\n",
       "       [17.90666676],\n",
       "       [17.94234554],\n",
       "       [31.75581584],\n",
       "       [24.07780933],\n",
       "       [22.89963604],\n",
       "       [19.00340606],\n",
       "       [23.72918124],\n",
       "       [31.85293944],\n",
       "       [30.35738446],\n",
       "       [18.71209225],\n",
       "       [15.37318924],\n",
       "       [40.00648941],\n",
       "       [23.0671079 ],\n",
       "       [36.41737913],\n",
       "       [48.41193356],\n",
       "       [17.16800002],\n",
       "       [21.2555741 ],\n",
       "       [43.6928726 ],\n",
       "       [25.65243194],\n",
       "       [17.46475541],\n",
       "       [29.11116028],\n",
       "       [38.44117777],\n",
       "       [29.70580201],\n",
       "       [26.69340775],\n",
       "       [19.39988607],\n",
       "       [36.29743737],\n",
       "       [19.69181688],\n",
       "       [34.92032475],\n",
       "       [24.00973482],\n",
       "       [20.18398538],\n",
       "       [21.85516738],\n",
       "       [16.67995667],\n",
       "       [20.15048719],\n",
       "       [25.14941324],\n",
       "       [11.01168387],\n",
       "       [18.06717251],\n",
       "       [15.22521585],\n",
       "       [26.92068193],\n",
       "       [26.13452613],\n",
       "       [25.46695244],\n",
       "       [22.35318013],\n",
       "       [14.22462781],\n",
       "       [19.755762  ],\n",
       "       [21.05951988],\n",
       "       [20.52086535],\n",
       "       [20.93858668],\n",
       "       [15.99108142],\n",
       "       [26.4547173 ],\n",
       "       [37.17239125],\n",
       "       [14.29742791],\n",
       "       [19.5864065 ],\n",
       "       [24.64400092],\n",
       "       [11.58386135],\n",
       "       [35.11096625],\n",
       "       [13.84050007],\n",
       "       [ 7.08426822],\n",
       "       [ 6.2952481 ],\n",
       "       [33.99315077],\n",
       "       [18.78495275],\n",
       "       [40.86652645],\n",
       "       [18.49639833],\n",
       "       [21.31195331],\n",
       "       [11.17963674],\n",
       "       [26.97789637],\n",
       "       [14.08008847],\n",
       "       [20.61300697],\n",
       "       [20.22302667],\n",
       "       [14.66882546],\n",
       "       [44.29342017],\n",
       "       [21.05421528],\n",
       "       [14.73757746],\n",
       "       [19.2186493 ],\n",
       "       [19.53291877],\n",
       "       [19.96117084],\n",
       "       [21.18284531]])"
      ]
     },
     "execution_count": 28,
     "metadata": {},
     "output_type": "execute_result"
    }
   ],
   "source": [
    "mm_y.inverse_transform(kernel_model.predict(X_test_sc))"
   ]
  },
  {
   "cell_type": "code",
   "execution_count": 29,
   "metadata": {
    "ExecuteTime": {
     "end_time": "2022-03-05T14:13:32.051845Z",
     "start_time": "2022-03-05T14:13:32.026839Z"
    }
   },
   "outputs": [
    {
     "data": {
      "text/plain": [
       "0.8951387504102031"
      ]
     },
     "execution_count": 29,
     "metadata": {},
     "output_type": "execute_result"
    }
   ],
   "source": [
    "r2_score(y_pred=mm_y.inverse_transform(kernel_model.predict(X_test_sc)), y_true=y_test)"
   ]
  },
  {
   "cell_type": "code",
   "execution_count": 30,
   "metadata": {
    "ExecuteTime": {
     "end_time": "2022-03-05T14:13:32.974010Z",
     "start_time": "2022-03-05T14:13:32.950607Z"
    }
   },
   "outputs": [
    {
     "data": {
      "text/plain": [
       "0.6130016057464873"
      ]
     },
     "execution_count": 30,
     "metadata": {},
     "output_type": "execute_result"
    }
   ],
   "source": [
    "r2_score(y_pred=mm_y.inverse_transform(model.predict(X_test_sc)), y_true=y_test)"
   ]
  },
  {
   "cell_type": "code",
   "execution_count": null,
   "metadata": {},
   "outputs": [],
   "source": []
  }
 ],
 "metadata": {
  "colab": {
   "name": "Kernel Ridge Regression.ipynb",
   "provenance": []
  },
  "kernelspec": {
   "display_name": "diplo_env",
   "language": "python",
   "name": "diplo_env"
  },
  "language_info": {
   "codemirror_mode": {
    "name": "ipython",
    "version": 3
   },
   "file_extension": ".py",
   "mimetype": "text/x-python",
   "name": "python",
   "nbconvert_exporter": "python",
   "pygments_lexer": "ipython3",
   "version": "3.6.13"
  },
  "notify_time": "10",
  "varInspector": {
   "cols": {
    "lenName": 16,
    "lenType": 16,
    "lenVar": 40
   },
   "kernels_config": {
    "python": {
     "delete_cmd_postfix": "",
     "delete_cmd_prefix": "del ",
     "library": "var_list.py",
     "varRefreshCmd": "print(var_dic_list())"
    },
    "r": {
     "delete_cmd_postfix": ") ",
     "delete_cmd_prefix": "rm(",
     "library": "var_list.r",
     "varRefreshCmd": "cat(var_dic_list()) "
    }
   },
   "types_to_exclude": [
    "module",
    "function",
    "builtin_function_or_method",
    "instance",
    "_Feature"
   ],
   "window_display": false
  }
 },
 "nbformat": 4,
 "nbformat_minor": 1
}

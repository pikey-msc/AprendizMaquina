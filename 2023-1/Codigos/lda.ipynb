{
 "cells": [
  {
   "cell_type": "code",
   "execution_count": 31,
   "metadata": {
    "ExecuteTime": {
     "end_time": "2022-03-04T02:12:57.422871Z",
     "start_time": "2022-03-04T02:12:57.413872Z"
    },
    "id": "Qv4Mrr_p39Nd",
    "outputId": "2beb6c75-a7e4-4792-f66c-08f1a597ae60"
   },
   "outputs": [],
   "source": [
    "import numpy as np\n",
    "import pandas as pd\n",
    "from sklearn.preprocessing import MinMaxScaler\n",
    "from sklearn.feature_selection import SelectKBest, f_classif\n",
    "from sklearn.discriminant_analysis import LinearDiscriminantAnalysis\n",
    "from sklearn.model_selection import train_test_split, cross_val_score, GridSearchCV, RandomizedSearchCV"
   ]
  },
  {
   "cell_type": "code",
   "execution_count": 32,
   "metadata": {
    "ExecuteTime": {
     "end_time": "2022-03-04T02:12:58.689539Z",
     "start_time": "2022-03-04T02:12:58.244485Z"
    },
    "id": "sbc2CeGa39Nk"
   },
   "outputs": [],
   "source": [
    "df = pd.read_csv(\"../data/OnlineNewsPopularity.csv\").reset_index(drop = True)"
   ]
  },
  {
   "cell_type": "code",
   "execution_count": 33,
   "metadata": {
    "ExecuteTime": {
     "end_time": "2022-03-04T02:13:00.828890Z",
     "start_time": "2022-03-04T02:13:00.738907Z"
    }
   },
   "outputs": [
    {
     "data": {
      "text/html": [
       "<div>\n",
       "<style scoped>\n",
       "    .dataframe tbody tr th:only-of-type {\n",
       "        vertical-align: middle;\n",
       "    }\n",
       "\n",
       "    .dataframe tbody tr th {\n",
       "        vertical-align: top;\n",
       "    }\n",
       "\n",
       "    .dataframe thead th {\n",
       "        text-align: right;\n",
       "    }\n",
       "</style>\n",
       "<table border=\"1\" class=\"dataframe\">\n",
       "  <thead>\n",
       "    <tr style=\"text-align: right;\">\n",
       "      <th></th>\n",
       "      <th>url</th>\n",
       "      <th>timedelta</th>\n",
       "      <th>n_tokens_title</th>\n",
       "      <th>n_tokens_content</th>\n",
       "      <th>n_unique_tokens</th>\n",
       "      <th>n_non_stop_words</th>\n",
       "      <th>n_non_stop_unique_tokens</th>\n",
       "      <th>num_hrefs</th>\n",
       "      <th>num_self_hrefs</th>\n",
       "      <th>num_imgs</th>\n",
       "      <th>...</th>\n",
       "      <th>min_positive_polarity</th>\n",
       "      <th>max_positive_polarity</th>\n",
       "      <th>avg_negative_polarity</th>\n",
       "      <th>min_negative_polarity</th>\n",
       "      <th>max_negative_polarity</th>\n",
       "      <th>title_subjectivity</th>\n",
       "      <th>title_sentiment_polarity</th>\n",
       "      <th>abs_title_subjectivity</th>\n",
       "      <th>abs_title_sentiment_polarity</th>\n",
       "      <th>shares</th>\n",
       "    </tr>\n",
       "  </thead>\n",
       "  <tbody>\n",
       "    <tr>\n",
       "      <th>0</th>\n",
       "      <td>http://mashable.com/2013/01/07/amazon-instant-...</td>\n",
       "      <td>731.0</td>\n",
       "      <td>12.0</td>\n",
       "      <td>219.0</td>\n",
       "      <td>0.663594</td>\n",
       "      <td>1.0</td>\n",
       "      <td>0.815385</td>\n",
       "      <td>4.0</td>\n",
       "      <td>2.0</td>\n",
       "      <td>1.0</td>\n",
       "      <td>...</td>\n",
       "      <td>0.100000</td>\n",
       "      <td>0.7</td>\n",
       "      <td>-0.350000</td>\n",
       "      <td>-0.600</td>\n",
       "      <td>-0.200000</td>\n",
       "      <td>0.500000</td>\n",
       "      <td>-0.187500</td>\n",
       "      <td>0.000000</td>\n",
       "      <td>0.187500</td>\n",
       "      <td>593</td>\n",
       "    </tr>\n",
       "    <tr>\n",
       "      <th>1</th>\n",
       "      <td>http://mashable.com/2013/01/07/ap-samsung-spon...</td>\n",
       "      <td>731.0</td>\n",
       "      <td>9.0</td>\n",
       "      <td>255.0</td>\n",
       "      <td>0.604743</td>\n",
       "      <td>1.0</td>\n",
       "      <td>0.791946</td>\n",
       "      <td>3.0</td>\n",
       "      <td>1.0</td>\n",
       "      <td>1.0</td>\n",
       "      <td>...</td>\n",
       "      <td>0.033333</td>\n",
       "      <td>0.7</td>\n",
       "      <td>-0.118750</td>\n",
       "      <td>-0.125</td>\n",
       "      <td>-0.100000</td>\n",
       "      <td>0.000000</td>\n",
       "      <td>0.000000</td>\n",
       "      <td>0.500000</td>\n",
       "      <td>0.000000</td>\n",
       "      <td>711</td>\n",
       "    </tr>\n",
       "    <tr>\n",
       "      <th>2</th>\n",
       "      <td>http://mashable.com/2013/01/07/apple-40-billio...</td>\n",
       "      <td>731.0</td>\n",
       "      <td>9.0</td>\n",
       "      <td>211.0</td>\n",
       "      <td>0.575130</td>\n",
       "      <td>1.0</td>\n",
       "      <td>0.663866</td>\n",
       "      <td>3.0</td>\n",
       "      <td>1.0</td>\n",
       "      <td>1.0</td>\n",
       "      <td>...</td>\n",
       "      <td>0.100000</td>\n",
       "      <td>1.0</td>\n",
       "      <td>-0.466667</td>\n",
       "      <td>-0.800</td>\n",
       "      <td>-0.133333</td>\n",
       "      <td>0.000000</td>\n",
       "      <td>0.000000</td>\n",
       "      <td>0.500000</td>\n",
       "      <td>0.000000</td>\n",
       "      <td>1500</td>\n",
       "    </tr>\n",
       "    <tr>\n",
       "      <th>3</th>\n",
       "      <td>http://mashable.com/2013/01/07/astronaut-notre...</td>\n",
       "      <td>731.0</td>\n",
       "      <td>9.0</td>\n",
       "      <td>531.0</td>\n",
       "      <td>0.503788</td>\n",
       "      <td>1.0</td>\n",
       "      <td>0.665635</td>\n",
       "      <td>9.0</td>\n",
       "      <td>0.0</td>\n",
       "      <td>1.0</td>\n",
       "      <td>...</td>\n",
       "      <td>0.136364</td>\n",
       "      <td>0.8</td>\n",
       "      <td>-0.369697</td>\n",
       "      <td>-0.600</td>\n",
       "      <td>-0.166667</td>\n",
       "      <td>0.000000</td>\n",
       "      <td>0.000000</td>\n",
       "      <td>0.500000</td>\n",
       "      <td>0.000000</td>\n",
       "      <td>1200</td>\n",
       "    </tr>\n",
       "    <tr>\n",
       "      <th>4</th>\n",
       "      <td>http://mashable.com/2013/01/07/att-u-verse-apps/</td>\n",
       "      <td>731.0</td>\n",
       "      <td>13.0</td>\n",
       "      <td>1072.0</td>\n",
       "      <td>0.415646</td>\n",
       "      <td>1.0</td>\n",
       "      <td>0.540890</td>\n",
       "      <td>19.0</td>\n",
       "      <td>19.0</td>\n",
       "      <td>20.0</td>\n",
       "      <td>...</td>\n",
       "      <td>0.033333</td>\n",
       "      <td>1.0</td>\n",
       "      <td>-0.220192</td>\n",
       "      <td>-0.500</td>\n",
       "      <td>-0.050000</td>\n",
       "      <td>0.454545</td>\n",
       "      <td>0.136364</td>\n",
       "      <td>0.045455</td>\n",
       "      <td>0.136364</td>\n",
       "      <td>505</td>\n",
       "    </tr>\n",
       "  </tbody>\n",
       "</table>\n",
       "<p>5 rows × 61 columns</p>\n",
       "</div>"
      ],
      "text/plain": [
       "                                                 url   timedelta  \\\n",
       "0  http://mashable.com/2013/01/07/amazon-instant-...       731.0   \n",
       "1  http://mashable.com/2013/01/07/ap-samsung-spon...       731.0   \n",
       "2  http://mashable.com/2013/01/07/apple-40-billio...       731.0   \n",
       "3  http://mashable.com/2013/01/07/astronaut-notre...       731.0   \n",
       "4   http://mashable.com/2013/01/07/att-u-verse-apps/       731.0   \n",
       "\n",
       "    n_tokens_title   n_tokens_content   n_unique_tokens   n_non_stop_words  \\\n",
       "0             12.0              219.0          0.663594                1.0   \n",
       "1              9.0              255.0          0.604743                1.0   \n",
       "2              9.0              211.0          0.575130                1.0   \n",
       "3              9.0              531.0          0.503788                1.0   \n",
       "4             13.0             1072.0          0.415646                1.0   \n",
       "\n",
       "    n_non_stop_unique_tokens   num_hrefs   num_self_hrefs   num_imgs  ...  \\\n",
       "0                   0.815385         4.0              2.0        1.0  ...   \n",
       "1                   0.791946         3.0              1.0        1.0  ...   \n",
       "2                   0.663866         3.0              1.0        1.0  ...   \n",
       "3                   0.665635         9.0              0.0        1.0  ...   \n",
       "4                   0.540890        19.0             19.0       20.0  ...   \n",
       "\n",
       "    min_positive_polarity   max_positive_polarity   avg_negative_polarity  \\\n",
       "0                0.100000                     0.7               -0.350000   \n",
       "1                0.033333                     0.7               -0.118750   \n",
       "2                0.100000                     1.0               -0.466667   \n",
       "3                0.136364                     0.8               -0.369697   \n",
       "4                0.033333                     1.0               -0.220192   \n",
       "\n",
       "    min_negative_polarity   max_negative_polarity   title_subjectivity  \\\n",
       "0                  -0.600               -0.200000             0.500000   \n",
       "1                  -0.125               -0.100000             0.000000   \n",
       "2                  -0.800               -0.133333             0.000000   \n",
       "3                  -0.600               -0.166667             0.000000   \n",
       "4                  -0.500               -0.050000             0.454545   \n",
       "\n",
       "    title_sentiment_polarity   abs_title_subjectivity  \\\n",
       "0                  -0.187500                 0.000000   \n",
       "1                   0.000000                 0.500000   \n",
       "2                   0.000000                 0.500000   \n",
       "3                   0.000000                 0.500000   \n",
       "4                   0.136364                 0.045455   \n",
       "\n",
       "    abs_title_sentiment_polarity   shares  \n",
       "0                       0.187500      593  \n",
       "1                       0.000000      711  \n",
       "2                       0.000000     1500  \n",
       "3                       0.000000     1200  \n",
       "4                       0.136364      505  \n",
       "\n",
       "[5 rows x 61 columns]"
      ]
     },
     "execution_count": 33,
     "metadata": {},
     "output_type": "execute_result"
    }
   ],
   "source": [
    "df.head()"
   ]
  },
  {
   "cell_type": "code",
   "execution_count": 34,
   "metadata": {
    "ExecuteTime": {
     "end_time": "2022-03-04T02:14:28.348962Z",
     "start_time": "2022-03-04T02:14:28.339298Z"
    },
    "id": "P7CUUSIt39Np"
   },
   "outputs": [],
   "source": [
    "df.columns = [x.strip() for x in df.columns]"
   ]
  },
  {
   "cell_type": "code",
   "execution_count": 35,
   "metadata": {
    "ExecuteTime": {
     "end_time": "2022-03-04T02:15:00.248634Z",
     "start_time": "2022-03-04T02:15:00.232830Z"
    },
    "id": "4m9Wh1KB39Nu"
   },
   "outputs": [],
   "source": [
    "df[\"success\"] = (df[\"shares\"] > 6000)*1"
   ]
  },
  {
   "cell_type": "code",
   "execution_count": 36,
   "metadata": {
    "ExecuteTime": {
     "end_time": "2022-03-04T02:15:03.933982Z",
     "start_time": "2022-03-04T02:15:03.924688Z"
    }
   },
   "outputs": [
    {
     "data": {
      "text/plain": [
       "0        0\n",
       "1        0\n",
       "2        0\n",
       "3        0\n",
       "4        0\n",
       "        ..\n",
       "39639    0\n",
       "39640    0\n",
       "39641    0\n",
       "39642    0\n",
       "39643    0\n",
       "Name: success, Length: 39644, dtype: int64"
      ]
     },
     "execution_count": 36,
     "metadata": {},
     "output_type": "execute_result"
    }
   ],
   "source": [
    "df[\"success\"]"
   ]
  },
  {
   "cell_type": "code",
   "execution_count": 37,
   "metadata": {
    "ExecuteTime": {
     "end_time": "2022-03-04T02:15:11.118891Z",
     "start_time": "2022-03-04T02:15:11.108861Z"
    }
   },
   "outputs": [
    {
     "data": {
      "text/plain": [
       "0    0.896504\n",
       "1    0.103496\n",
       "Name: success, dtype: float64"
      ]
     },
     "execution_count": 37,
     "metadata": {},
     "output_type": "execute_result"
    }
   ],
   "source": [
    "df['success'].value_counts(1)"
   ]
  },
  {
   "cell_type": "code",
   "execution_count": 8,
   "metadata": {
    "ExecuteTime": {
     "end_time": "2022-03-03T20:30:55.641085Z",
     "start_time": "2022-03-03T20:30:55.636496Z"
    },
    "id": "vChSjVnr39Ny"
   },
   "outputs": [],
   "source": [
    "ls_cont = ['n_tokens_title', 'n_tokens_content', 'n_unique_tokens', 'n_non_stop_words', \n",
    "           'n_non_stop_unique_tokens', 'num_hrefs', 'num_self_hrefs', 'num_imgs', 'num_videos', \n",
    "           'average_token_length', 'num_keywords', 'kw_min_min', 'kw_max_min', 'kw_avg_min', \n",
    "           'kw_min_max', 'kw_max_max', 'kw_avg_max', 'kw_min_avg', 'kw_max_avg', 'kw_avg_avg', \n",
    "           'self_reference_min_shares', 'self_reference_max_shares', 'self_reference_avg_sharess', \n",
    "           'LDA_00', 'LDA_01', 'LDA_02', 'LDA_03', 'LDA_04', 'global_subjectivity', \n",
    "           'global_sentiment_polarity', 'global_rate_positive_words', 'global_rate_negative_words',\n",
    "           'rate_positive_words', 'rate_negative_words', 'avg_positive_polarity', 'min_positive_polarity',\n",
    "           'max_positive_polarity', 'avg_negative_polarity', 'min_negative_polarity', \n",
    "           'max_negative_polarity', 'title_subjectivity', 'title_sentiment_polarity', \n",
    "           'abs_title_subjectivity', 'abs_title_sentiment_polarity']\n",
    "target = \"shares\"\n",
    "target_disc = \"success\""
   ]
  },
  {
   "cell_type": "code",
   "execution_count": 38,
   "metadata": {
    "ExecuteTime": {
     "end_time": "2022-03-04T02:16:34.787428Z",
     "start_time": "2022-03-04T02:16:34.771190Z"
    },
    "id": "3NYFmpcQ39N3"
   },
   "outputs": [],
   "source": [
    "X = df[ls_cont]\n",
    "yr = df[target]\n",
    "yc = df[target_disc]"
   ]
  },
  {
   "cell_type": "code",
   "execution_count": 39,
   "metadata": {
    "ExecuteTime": {
     "end_time": "2022-03-04T02:16:43.112300Z",
     "start_time": "2022-03-04T02:16:43.090009Z"
    },
    "id": "FpiLVLEdX4gD"
   },
   "outputs": [],
   "source": [
    "X_train, X_test, y_train, y_test = train_test_split(X, yc)"
   ]
  },
  {
   "cell_type": "markdown",
   "metadata": {
    "id": "3yF3NY0H39N7"
   },
   "source": [
    "## Análisis Discriminante "
   ]
  },
  {
   "cell_type": "code",
   "execution_count": 40,
   "metadata": {
    "ExecuteTime": {
     "end_time": "2022-03-04T02:16:44.599962Z",
     "start_time": "2022-03-04T02:16:44.592405Z"
    },
    "id": "3Ss3zNFY39OA"
   },
   "outputs": [],
   "source": [
    "lda = LinearDiscriminantAnalysis()"
   ]
  },
  {
   "cell_type": "code",
   "execution_count": 41,
   "metadata": {
    "ExecuteTime": {
     "end_time": "2022-03-04T02:16:50.771659Z",
     "start_time": "2022-03-04T02:16:50.499760Z"
    },
    "id": "qjwEgTvt39OH",
    "outputId": "0d8cb891-8a31-43f2-b5eb-f8a2c9c1a963"
   },
   "outputs": [
    {
     "data": {
      "text/plain": [
       "LinearDiscriminantAnalysis()"
      ]
     },
     "execution_count": 41,
     "metadata": {},
     "output_type": "execute_result"
    }
   ],
   "source": [
    "lda.fit(X_train, y_train)"
   ]
  },
  {
   "cell_type": "code",
   "execution_count": 42,
   "metadata": {
    "ExecuteTime": {
     "end_time": "2022-03-04T02:17:21.645452Z",
     "start_time": "2022-03-04T02:17:19.606382Z"
    },
    "id": "L3hG0nYd39OM"
   },
   "outputs": [],
   "source": [
    "ls_res = cross_val_score(estimator = lda, X=X_train, y=y_train, cv=4, n_jobs=-1, scoring=\"roc_auc\")"
   ]
  },
  {
   "cell_type": "code",
   "execution_count": 43,
   "metadata": {
    "ExecuteTime": {
     "end_time": "2022-03-04T02:17:34.841102Z",
     "start_time": "2022-03-04T02:17:34.827674Z"
    },
    "id": "64i5vzvD39OQ",
    "outputId": "0fe1ee58-1b69-4c6f-c037-7f970cf0372a"
   },
   "outputs": [
    {
     "data": {
      "text/plain": [
       "(0.6951649762300707, 0.00796387730463065)"
      ]
     },
     "execution_count": 43,
     "metadata": {},
     "output_type": "execute_result"
    }
   ],
   "source": [
    "np.mean(ls_res), np.std(ls_res)"
   ]
  },
  {
   "cell_type": "code",
   "execution_count": 15,
   "metadata": {
    "ExecuteTime": {
     "end_time": "2022-03-03T20:31:06.756497Z",
     "start_time": "2022-03-03T20:31:06.689337Z"
    },
    "id": "OQZBFpuJ39OU"
   },
   "outputs": [],
   "source": [
    "LinearDiscriminantAnalysis?"
   ]
  },
  {
   "cell_type": "code",
   "execution_count": 44,
   "metadata": {
    "ExecuteTime": {
     "end_time": "2022-03-04T02:18:04.843789Z",
     "start_time": "2022-03-04T02:18:04.832597Z"
    },
    "id": "uY2cl6rJ39OZ",
    "outputId": "b63beb2b-b9c4-4931-cece-41e04c27ea00"
   },
   "outputs": [
    {
     "data": {
      "text/plain": [
       "{'n_components': None,\n",
       " 'priors': None,\n",
       " 'shrinkage': None,\n",
       " 'solver': 'svd',\n",
       " 'store_covariance': False,\n",
       " 'tol': 0.0001}"
      ]
     },
     "execution_count": 44,
     "metadata": {},
     "output_type": "execute_result"
    }
   ],
   "source": [
    "lda.get_params()"
   ]
  },
  {
   "cell_type": "code",
   "execution_count": 45,
   "metadata": {
    "ExecuteTime": {
     "end_time": "2022-03-04T02:18:29.961210Z",
     "start_time": "2022-03-04T02:18:29.950205Z"
    },
    "id": "7uArVgcc39Od"
   },
   "outputs": [],
   "source": [
    "param_grid = {\"solver\": [\"svd\", \"lsqr\", \"eigen\"],\n",
    "              \"shrinkage\": [None, \"auto\"] + [x/100 for x in range(100)]+[x for x in range(100)]}"
   ]
  },
  {
   "cell_type": "code",
   "execution_count": 46,
   "metadata": {
    "ExecuteTime": {
     "end_time": "2022-03-04T02:18:32.121099Z",
     "start_time": "2022-03-04T02:18:32.109378Z"
    },
    "id": "EFEdBMWd39Og",
    "outputId": "84b7b94e-0759-42f3-d645-837f39a1a86b"
   },
   "outputs": [
    {
     "data": {
      "text/plain": [
       "606"
      ]
     },
     "execution_count": 46,
     "metadata": {},
     "output_type": "execute_result"
    }
   ],
   "source": [
    "np.prod(list(map(len, param_grid.values())))"
   ]
  },
  {
   "cell_type": "code",
   "execution_count": 47,
   "metadata": {
    "ExecuteTime": {
     "end_time": "2022-03-04T02:18:42.353319Z",
     "start_time": "2022-03-04T02:18:42.348702Z"
    },
    "id": "F_nEyAeIX4gG"
   },
   "outputs": [],
   "source": [
    "kb = SelectKBest(k = 5, score_func=f_classif)"
   ]
  },
  {
   "cell_type": "code",
   "execution_count": 48,
   "metadata": {
    "ExecuteTime": {
     "end_time": "2022-03-04T02:18:46.749890Z",
     "start_time": "2022-03-04T02:18:46.741321Z"
    },
    "id": "RiO54Sa3X4gG"
   },
   "outputs": [],
   "source": [
    "sc = MinMaxScaler()"
   ]
  },
  {
   "cell_type": "code",
   "execution_count": 49,
   "metadata": {
    "ExecuteTime": {
     "end_time": "2022-03-04T02:18:48.814726Z",
     "start_time": "2022-03-04T02:18:48.786077Z"
    },
    "id": "vqDaH5joX4gG"
   },
   "outputs": [],
   "source": [
    "Xs = sc.fit_transform(X_train)"
   ]
  },
  {
   "cell_type": "code",
   "execution_count": 50,
   "metadata": {
    "ExecuteTime": {
     "end_time": "2022-03-04T02:18:49.690430Z",
     "start_time": "2022-03-04T02:18:49.657685Z"
    },
    "id": "BvSU6qqjX4gG"
   },
   "outputs": [],
   "source": [
    "Xb = kb.fit_transform(Xs, y_train)"
   ]
  },
  {
   "cell_type": "code",
   "execution_count": 51,
   "metadata": {
    "ExecuteTime": {
     "end_time": "2022-03-04T02:18:51.339269Z",
     "start_time": "2022-03-04T02:18:51.322255Z"
    }
   },
   "outputs": [
    {
     "data": {
      "text/plain": [
       "array([[0.01801802, 0.01331008, 0.07599314, 0.04348301, 0.49647353],\n",
       "       [0.00900901, 0.01587026, 0.08624515, 0.0543486 , 0.05461114],\n",
       "       [0.00900901, 0.01275184, 0.06717924, 0.04376836, 0.61298823],\n",
       "       ...,\n",
       "       [0.00900901, 0.0220811 , 0.08720475, 0.33824059, 0.02408856],\n",
       "       [0.00900901, 0.03805828, 0.0717198 , 0.62890587, 0.38309445],\n",
       "       [0.00900901, 0.01494392, 0.06985126, 0.69552728, 0.04322473]])"
      ]
     },
     "execution_count": 51,
     "metadata": {},
     "output_type": "execute_result"
    }
   ],
   "source": [
    "Xb"
   ]
  },
  {
   "cell_type": "code",
   "execution_count": 52,
   "metadata": {
    "ExecuteTime": {
     "end_time": "2022-03-04T02:19:02.816470Z",
     "start_time": "2022-03-04T02:19:02.805517Z"
    },
    "id": "OX_87FC2X4gH"
   },
   "outputs": [],
   "source": [
    "ls_best = [x for x, y in zip(ls_cont, kb.get_support()) if y]\n"
   ]
  },
  {
   "cell_type": "code",
   "execution_count": 53,
   "metadata": {
    "ExecuteTime": {
     "end_time": "2022-03-04T02:19:03.371599Z",
     "start_time": "2022-03-04T02:19:03.361121Z"
    }
   },
   "outputs": [
    {
     "data": {
      "text/plain": [
       "['num_imgs', 'kw_max_avg', 'kw_avg_avg', 'LDA_02', 'LDA_03']"
      ]
     },
     "execution_count": 53,
     "metadata": {},
     "output_type": "execute_result"
    }
   ],
   "source": [
    "ls_best"
   ]
  },
  {
   "cell_type": "code",
   "execution_count": 54,
   "metadata": {
    "ExecuteTime": {
     "end_time": "2022-03-04T02:21:26.525750Z",
     "start_time": "2022-03-04T02:21:26.515699Z"
    },
    "id": "axSe8RSl39Ok"
   },
   "outputs": [],
   "source": [
    "rs = GridSearchCV(cv=4, error_score=-1000, estimator=lda, n_jobs=-1, scoring=\"roc_auc\", param_grid=param_grid, verbose=True)"
   ]
  },
  {
   "cell_type": "code",
   "execution_count": 55,
   "metadata": {
    "ExecuteTime": {
     "end_time": "2022-03-04T02:21:50.782818Z",
     "start_time": "2022-03-04T02:21:38.574810Z"
    },
    "id": "NjN-6af039Oo",
    "outputId": "ffce9fad-5ee6-4b36-c466-5cdb7e4e132a"
   },
   "outputs": [
    {
     "name": "stdout",
     "output_type": "stream",
     "text": [
      "Fitting 4 folds for each of 606 candidates, totalling 2424 fits\n"
     ]
    },
    {
     "name": "stderr",
     "output_type": "stream",
     "text": [
      "[Parallel(n_jobs=-1)]: Using backend LokyBackend with 8 concurrent workers.\n",
      "[Parallel(n_jobs=-1)]: Done  56 tasks      | elapsed:    0.8s\n",
      "[Parallel(n_jobs=-1)]: Done 608 tasks      | elapsed:    3.9s\n",
      "[Parallel(n_jobs=-1)]: Done 1608 tasks      | elapsed:    9.0s\n",
      "[Parallel(n_jobs=-1)]: Done 2424 out of 2424 | elapsed:   12.0s finished\n"
     ]
    },
    {
     "data": {
      "text/plain": [
       "GridSearchCV(cv=4, error_score=-1000, estimator=LinearDiscriminantAnalysis(),\n",
       "             n_jobs=-1,\n",
       "             param_grid={'shrinkage': [None, 'auto', 0.0, 0.01, 0.02, 0.03,\n",
       "                                       0.04, 0.05, 0.06, 0.07, 0.08, 0.09, 0.1,\n",
       "                                       0.11, 0.12, 0.13, 0.14, 0.15, 0.16, 0.17,\n",
       "                                       0.18, 0.19, 0.2, 0.21, 0.22, 0.23, 0.24,\n",
       "                                       0.25, 0.26, 0.27, ...],\n",
       "                         'solver': ['svd', 'lsqr', 'eigen']},\n",
       "             scoring='roc_auc', verbose=True)"
      ]
     },
     "execution_count": 55,
     "metadata": {},
     "output_type": "execute_result"
    }
   ],
   "source": [
    "\n",
    "rs.fit(X=Xb, y=y_train)"
   ]
  },
  {
   "cell_type": "code",
   "execution_count": 56,
   "metadata": {
    "ExecuteTime": {
     "end_time": "2022-03-04T02:21:54.248164Z",
     "start_time": "2022-03-04T02:21:54.226984Z"
    },
    "id": "24fbKy0C39Os",
    "outputId": "3c3e50bc-dad1-41e2-b925-c77b683038bc"
   },
   "outputs": [
    {
     "data": {
      "text/plain": [
       "0.6682334460779451"
      ]
     },
     "execution_count": 56,
     "metadata": {},
     "output_type": "execute_result"
    }
   ],
   "source": [
    "rs.best_score_"
   ]
  },
  {
   "cell_type": "code",
   "execution_count": 57,
   "metadata": {
    "ExecuteTime": {
     "end_time": "2022-03-04T02:22:11.391978Z",
     "start_time": "2022-03-04T02:22:11.381555Z"
    },
    "id": "agSe4AUTX4gH",
    "outputId": "29b19c5c-808a-4681-eda9-f72ba78e0272"
   },
   "outputs": [
    {
     "data": {
      "text/html": [
       "<div>\n",
       "<style scoped>\n",
       "    .dataframe tbody tr th:only-of-type {\n",
       "        vertical-align: middle;\n",
       "    }\n",
       "\n",
       "    .dataframe tbody tr th {\n",
       "        vertical-align: top;\n",
       "    }\n",
       "\n",
       "    .dataframe thead th {\n",
       "        text-align: right;\n",
       "    }\n",
       "</style>\n",
       "<table border=\"1\" class=\"dataframe\">\n",
       "  <thead>\n",
       "    <tr style=\"text-align: right;\">\n",
       "      <th></th>\n",
       "      <th>0</th>\n",
       "      <th>1</th>\n",
       "    </tr>\n",
       "  </thead>\n",
       "  <tbody>\n",
       "    <tr>\n",
       "      <th>1</th>\n",
       "      <td>kw_max_avg</td>\n",
       "      <td>-14.013427</td>\n",
       "    </tr>\n",
       "    <tr>\n",
       "      <th>3</th>\n",
       "      <td>LDA_02</td>\n",
       "      <td>-0.369492</td>\n",
       "    </tr>\n",
       "    <tr>\n",
       "      <th>4</th>\n",
       "      <td>LDA_03</td>\n",
       "      <td>0.409520</td>\n",
       "    </tr>\n",
       "    <tr>\n",
       "      <th>0</th>\n",
       "      <td>num_imgs</td>\n",
       "      <td>1.620094</td>\n",
       "    </tr>\n",
       "    <tr>\n",
       "      <th>2</th>\n",
       "      <td>kw_avg_avg</td>\n",
       "      <td>18.870800</td>\n",
       "    </tr>\n",
       "  </tbody>\n",
       "</table>\n",
       "</div>"
      ],
      "text/plain": [
       "            0          1\n",
       "1  kw_max_avg -14.013427\n",
       "3      LDA_02  -0.369492\n",
       "4      LDA_03   0.409520\n",
       "0    num_imgs   1.620094\n",
       "2  kw_avg_avg  18.870800"
      ]
     },
     "execution_count": 57,
     "metadata": {},
     "output_type": "execute_result"
    }
   ],
   "source": [
    "pd.DataFrame(zip(ls_best, rs.best_estimator_.coef_[0])).sort_values(by = 1)"
   ]
  },
  {
   "cell_type": "code",
   "execution_count": 30,
   "metadata": {
    "ExecuteTime": {
     "end_time": "2022-03-03T20:31:45.984388Z",
     "start_time": "2022-03-03T20:31:45.971821Z"
    },
    "id": "uOzWAT6cX4gI",
    "outputId": "79662c03-b537-42c7-f3c8-d46ec920e573"
   },
   "outputs": [
    {
     "data": {
      "text/html": [
       "<div>\n",
       "<style scoped>\n",
       "    .dataframe tbody tr th:only-of-type {\n",
       "        vertical-align: middle;\n",
       "    }\n",
       "\n",
       "    .dataframe tbody tr th {\n",
       "        vertical-align: top;\n",
       "    }\n",
       "\n",
       "    .dataframe thead th {\n",
       "        text-align: right;\n",
       "    }\n",
       "</style>\n",
       "<table border=\"1\" class=\"dataframe\">\n",
       "  <thead>\n",
       "    <tr style=\"text-align: right;\">\n",
       "      <th></th>\n",
       "      <th>0</th>\n",
       "      <th>1</th>\n",
       "    </tr>\n",
       "  </thead>\n",
       "  <tbody>\n",
       "    <tr>\n",
       "      <th>30</th>\n",
       "      <td>global_rate_positive_words</td>\n",
       "      <td>0.004317</td>\n",
       "    </tr>\n",
       "    <tr>\n",
       "      <th>6</th>\n",
       "      <td>num_self_hrefs</td>\n",
       "      <td>0.025099</td>\n",
       "    </tr>\n",
       "    <tr>\n",
       "      <th>0</th>\n",
       "      <td>n_tokens_title</td>\n",
       "      <td>0.066879</td>\n",
       "    </tr>\n",
       "    <tr>\n",
       "      <th>24</th>\n",
       "      <td>LDA_01</td>\n",
       "      <td>0.089460</td>\n",
       "    </tr>\n",
       "    <tr>\n",
       "      <th>1</th>\n",
       "      <td>n_tokens_content</td>\n",
       "      <td>0.131819</td>\n",
       "    </tr>\n",
       "    <tr>\n",
       "      <th>2</th>\n",
       "      <td>n_unique_tokens</td>\n",
       "      <td>0.190076</td>\n",
       "    </tr>\n",
       "    <tr>\n",
       "      <th>3</th>\n",
       "      <td>n_non_stop_words</td>\n",
       "      <td>0.264535</td>\n",
       "    </tr>\n",
       "    <tr>\n",
       "      <th>42</th>\n",
       "      <td>abs_title_subjectivity</td>\n",
       "      <td>0.369267</td>\n",
       "    </tr>\n",
       "    <tr>\n",
       "      <th>4</th>\n",
       "      <td>n_non_stop_unique_tokens</td>\n",
       "      <td>0.376844</td>\n",
       "    </tr>\n",
       "    <tr>\n",
       "      <th>11</th>\n",
       "      <td>kw_min_min</td>\n",
       "      <td>0.603552</td>\n",
       "    </tr>\n",
       "    <tr>\n",
       "      <th>33</th>\n",
       "      <td>rate_negative_words</td>\n",
       "      <td>1.194056</td>\n",
       "    </tr>\n",
       "    <tr>\n",
       "      <th>31</th>\n",
       "      <td>global_rate_negative_words</td>\n",
       "      <td>2.833412</td>\n",
       "    </tr>\n",
       "    <tr>\n",
       "      <th>29</th>\n",
       "      <td>global_sentiment_polarity</td>\n",
       "      <td>3.331315</td>\n",
       "    </tr>\n",
       "    <tr>\n",
       "      <th>14</th>\n",
       "      <td>kw_min_max</td>\n",
       "      <td>4.650329</td>\n",
       "    </tr>\n",
       "    <tr>\n",
       "      <th>27</th>\n",
       "      <td>LDA_04</td>\n",
       "      <td>4.729373</td>\n",
       "    </tr>\n",
       "    <tr>\n",
       "      <th>36</th>\n",
       "      <td>max_positive_polarity</td>\n",
       "      <td>4.988432</td>\n",
       "    </tr>\n",
       "    <tr>\n",
       "      <th>39</th>\n",
       "      <td>max_negative_polarity</td>\n",
       "      <td>5.900669</td>\n",
       "    </tr>\n",
       "    <tr>\n",
       "      <th>12</th>\n",
       "      <td>kw_max_min</td>\n",
       "      <td>7.134430</td>\n",
       "    </tr>\n",
       "    <tr>\n",
       "      <th>15</th>\n",
       "      <td>kw_max_max</td>\n",
       "      <td>7.222567</td>\n",
       "    </tr>\n",
       "    <tr>\n",
       "      <th>13</th>\n",
       "      <td>kw_avg_min</td>\n",
       "      <td>7.487370</td>\n",
       "    </tr>\n",
       "    <tr>\n",
       "      <th>35</th>\n",
       "      <td>min_positive_polarity</td>\n",
       "      <td>8.077937</td>\n",
       "    </tr>\n",
       "    <tr>\n",
       "      <th>34</th>\n",
       "      <td>avg_positive_polarity</td>\n",
       "      <td>20.429136</td>\n",
       "    </tr>\n",
       "    <tr>\n",
       "      <th>32</th>\n",
       "      <td>rate_positive_words</td>\n",
       "      <td>20.772210</td>\n",
       "    </tr>\n",
       "    <tr>\n",
       "      <th>38</th>\n",
       "      <td>min_negative_polarity</td>\n",
       "      <td>21.990511</td>\n",
       "    </tr>\n",
       "    <tr>\n",
       "      <th>23</th>\n",
       "      <td>LDA_00</td>\n",
       "      <td>22.751846</td>\n",
       "    </tr>\n",
       "    <tr>\n",
       "      <th>41</th>\n",
       "      <td>title_sentiment_polarity</td>\n",
       "      <td>26.729929</td>\n",
       "    </tr>\n",
       "    <tr>\n",
       "      <th>10</th>\n",
       "      <td>num_keywords</td>\n",
       "      <td>28.423236</td>\n",
       "    </tr>\n",
       "    <tr>\n",
       "      <th>8</th>\n",
       "      <td>num_videos</td>\n",
       "      <td>43.832538</td>\n",
       "    </tr>\n",
       "    <tr>\n",
       "      <th>9</th>\n",
       "      <td>average_token_length</td>\n",
       "      <td>45.950087</td>\n",
       "    </tr>\n",
       "    <tr>\n",
       "      <th>37</th>\n",
       "      <td>avg_negative_polarity</td>\n",
       "      <td>49.204233</td>\n",
       "    </tr>\n",
       "    <tr>\n",
       "      <th>40</th>\n",
       "      <td>title_subjectivity</td>\n",
       "      <td>57.822894</td>\n",
       "    </tr>\n",
       "    <tr>\n",
       "      <th>43</th>\n",
       "      <td>abs_title_sentiment_polarity</td>\n",
       "      <td>64.774277</td>\n",
       "    </tr>\n",
       "    <tr>\n",
       "      <th>16</th>\n",
       "      <td>kw_avg_max</td>\n",
       "      <td>71.061759</td>\n",
       "    </tr>\n",
       "    <tr>\n",
       "      <th>21</th>\n",
       "      <td>self_reference_max_shares</td>\n",
       "      <td>73.845453</td>\n",
       "    </tr>\n",
       "    <tr>\n",
       "      <th>28</th>\n",
       "      <td>global_subjectivity</td>\n",
       "      <td>77.302228</td>\n",
       "    </tr>\n",
       "    <tr>\n",
       "      <th>20</th>\n",
       "      <td>self_reference_min_shares</td>\n",
       "      <td>116.655524</td>\n",
       "    </tr>\n",
       "    <tr>\n",
       "      <th>22</th>\n",
       "      <td>self_reference_avg_sharess</td>\n",
       "      <td>123.780888</td>\n",
       "    </tr>\n",
       "    <tr>\n",
       "      <th>17</th>\n",
       "      <td>kw_min_avg</td>\n",
       "      <td>136.186158</td>\n",
       "    </tr>\n",
       "    <tr>\n",
       "      <th>5</th>\n",
       "      <td>num_hrefs</td>\n",
       "      <td>136.734907</td>\n",
       "    </tr>\n",
       "    <tr>\n",
       "      <th>7</th>\n",
       "      <td>num_imgs</td>\n",
       "      <td>143.799200</td>\n",
       "    </tr>\n",
       "    <tr>\n",
       "      <th>18</th>\n",
       "      <td>kw_max_avg</td>\n",
       "      <td>214.331203</td>\n",
       "    </tr>\n",
       "    <tr>\n",
       "      <th>25</th>\n",
       "      <td>LDA_02</td>\n",
       "      <td>238.874120</td>\n",
       "    </tr>\n",
       "    <tr>\n",
       "      <th>26</th>\n",
       "      <td>LDA_03</td>\n",
       "      <td>462.673346</td>\n",
       "    </tr>\n",
       "    <tr>\n",
       "      <th>19</th>\n",
       "      <td>kw_avg_avg</td>\n",
       "      <td>785.706090</td>\n",
       "    </tr>\n",
       "  </tbody>\n",
       "</table>\n",
       "</div>"
      ],
      "text/plain": [
       "                               0           1\n",
       "30    global_rate_positive_words    0.004317\n",
       "6                 num_self_hrefs    0.025099\n",
       "0                 n_tokens_title    0.066879\n",
       "24                        LDA_01    0.089460\n",
       "1               n_tokens_content    0.131819\n",
       "2                n_unique_tokens    0.190076\n",
       "3               n_non_stop_words    0.264535\n",
       "42        abs_title_subjectivity    0.369267\n",
       "4       n_non_stop_unique_tokens    0.376844\n",
       "11                    kw_min_min    0.603552\n",
       "33           rate_negative_words    1.194056\n",
       "31    global_rate_negative_words    2.833412\n",
       "29     global_sentiment_polarity    3.331315\n",
       "14                    kw_min_max    4.650329\n",
       "27                        LDA_04    4.729373\n",
       "36         max_positive_polarity    4.988432\n",
       "39         max_negative_polarity    5.900669\n",
       "12                    kw_max_min    7.134430\n",
       "15                    kw_max_max    7.222567\n",
       "13                    kw_avg_min    7.487370\n",
       "35         min_positive_polarity    8.077937\n",
       "34         avg_positive_polarity   20.429136\n",
       "32           rate_positive_words   20.772210\n",
       "38         min_negative_polarity   21.990511\n",
       "23                        LDA_00   22.751846\n",
       "41      title_sentiment_polarity   26.729929\n",
       "10                  num_keywords   28.423236\n",
       "8                     num_videos   43.832538\n",
       "9           average_token_length   45.950087\n",
       "37         avg_negative_polarity   49.204233\n",
       "40            title_subjectivity   57.822894\n",
       "43  abs_title_sentiment_polarity   64.774277\n",
       "16                    kw_avg_max   71.061759\n",
       "21     self_reference_max_shares   73.845453\n",
       "28           global_subjectivity   77.302228\n",
       "20     self_reference_min_shares  116.655524\n",
       "22    self_reference_avg_sharess  123.780888\n",
       "17                    kw_min_avg  136.186158\n",
       "5                      num_hrefs  136.734907\n",
       "7                       num_imgs  143.799200\n",
       "18                    kw_max_avg  214.331203\n",
       "25                        LDA_02  238.874120\n",
       "26                        LDA_03  462.673346\n",
       "19                    kw_avg_avg  785.706090"
      ]
     },
     "execution_count": 30,
     "metadata": {},
     "output_type": "execute_result"
    }
   ],
   "source": [
    "pd.DataFrame(zip(ls_cont, kb.scores_)).sort_values(by = 1)"
   ]
  },
  {
   "cell_type": "code",
   "execution_count": null,
   "metadata": {
    "id": "Ua6wBDNYX4gI"
   },
   "outputs": [],
   "source": []
  },
  {
   "cell_type": "code",
   "execution_count": null,
   "metadata": {},
   "outputs": [],
   "source": []
  }
 ],
 "metadata": {
  "colab": {
   "name": "LDA.ipynb",
   "provenance": []
  },
  "kernelspec": {
   "display_name": "diplo_env",
   "language": "python",
   "name": "diplo_env"
  },
  "language_info": {
   "codemirror_mode": {
    "name": "ipython",
    "version": 3
   },
   "file_extension": ".py",
   "mimetype": "text/x-python",
   "name": "python",
   "nbconvert_exporter": "python",
   "pygments_lexer": "ipython3",
   "version": "3.6.13"
  },
  "varInspector": {
   "cols": {
    "lenName": 16,
    "lenType": 16,
    "lenVar": 40
   },
   "kernels_config": {
    "python": {
     "delete_cmd_postfix": "",
     "delete_cmd_prefix": "del ",
     "library": "var_list.py",
     "varRefreshCmd": "print(var_dic_list())"
    },
    "r": {
     "delete_cmd_postfix": ") ",
     "delete_cmd_prefix": "rm(",
     "library": "var_list.r",
     "varRefreshCmd": "cat(var_dic_list()) "
    }
   },
   "types_to_exclude": [
    "module",
    "function",
    "builtin_function_or_method",
    "instance",
    "_Feature"
   ],
   "window_display": false
  }
 },
 "nbformat": 4,
 "nbformat_minor": 1
}

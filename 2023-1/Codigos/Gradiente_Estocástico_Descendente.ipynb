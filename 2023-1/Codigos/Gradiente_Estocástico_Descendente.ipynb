{
 "cells": [
  {
   "cell_type": "code",
   "execution_count": 31,
   "metadata": {
    "ExecuteTime": {
     "end_time": "2022-02-25T02:15:05.472455Z",
     "start_time": "2022-02-25T02:15:05.462189Z"
    },
    "id": "KRUQBBSJ7uXw"
   },
   "outputs": [],
   "source": [
    "import numpy as np\n",
    "import pandas as pd\n",
    "from sklearn.preprocessing import MinMaxScaler\n",
    "from sklearn.linear_model import SGDClassifier, SGDRegressor\n",
    "from sklearn.model_selection import cross_val_score, train_test_split, GridSearchCV, RandomizedSearchCV\n",
    "\n",
    "pd.set_option(\"max_columns\", 500)\n",
    "pd.set_option('display.float_format', lambda x: \"{:,.4f}\".format(x))"
   ]
  },
  {
   "cell_type": "code",
   "execution_count": 32,
   "metadata": {
    "ExecuteTime": {
     "end_time": "2022-02-25T02:15:08.185301Z",
     "start_time": "2022-02-25T02:15:08.165933Z"
    },
    "id": "4HNuUo62ZW_S"
   },
   "outputs": [],
   "source": [
    "df = pd.read_csv(\"../data/winequality-red.csv\", sep=\";\")"
   ]
  },
  {
   "cell_type": "code",
   "execution_count": 33,
   "metadata": {
    "ExecuteTime": {
     "end_time": "2022-02-25T02:15:09.240367Z",
     "start_time": "2022-02-25T02:15:09.116846Z"
    },
    "id": "ylO53GDYZW_T",
    "outputId": "4999ef9c-c935-4fde-d33e-de47ed5aa9c2"
   },
   "outputs": [
    {
     "data": {
      "text/html": [
       "<div>\n",
       "<style scoped>\n",
       "    .dataframe tbody tr th:only-of-type {\n",
       "        vertical-align: middle;\n",
       "    }\n",
       "\n",
       "    .dataframe tbody tr th {\n",
       "        vertical-align: top;\n",
       "    }\n",
       "\n",
       "    .dataframe thead th {\n",
       "        text-align: right;\n",
       "    }\n",
       "</style>\n",
       "<table border=\"1\" class=\"dataframe\">\n",
       "  <thead>\n",
       "    <tr style=\"text-align: right;\">\n",
       "      <th></th>\n",
       "      <th>fixed acidity</th>\n",
       "      <th>volatile acidity</th>\n",
       "      <th>citric acid</th>\n",
       "      <th>residual sugar</th>\n",
       "      <th>chlorides</th>\n",
       "      <th>free sulfur dioxide</th>\n",
       "      <th>total sulfur dioxide</th>\n",
       "      <th>density</th>\n",
       "      <th>pH</th>\n",
       "      <th>sulphates</th>\n",
       "      <th>alcohol</th>\n",
       "      <th>quality</th>\n",
       "    </tr>\n",
       "  </thead>\n",
       "  <tbody>\n",
       "    <tr>\n",
       "      <th>count</th>\n",
       "      <td>1,599.0000</td>\n",
       "      <td>1,599.0000</td>\n",
       "      <td>1,599.0000</td>\n",
       "      <td>1,599.0000</td>\n",
       "      <td>1,599.0000</td>\n",
       "      <td>1,599.0000</td>\n",
       "      <td>1,599.0000</td>\n",
       "      <td>1,599.0000</td>\n",
       "      <td>1,599.0000</td>\n",
       "      <td>1,599.0000</td>\n",
       "      <td>1,599.0000</td>\n",
       "      <td>1,599.0000</td>\n",
       "    </tr>\n",
       "    <tr>\n",
       "      <th>mean</th>\n",
       "      <td>8.3196</td>\n",
       "      <td>0.5278</td>\n",
       "      <td>0.2710</td>\n",
       "      <td>2.5388</td>\n",
       "      <td>0.0875</td>\n",
       "      <td>15.8749</td>\n",
       "      <td>46.4678</td>\n",
       "      <td>0.9967</td>\n",
       "      <td>3.3111</td>\n",
       "      <td>0.6581</td>\n",
       "      <td>10.4230</td>\n",
       "      <td>5.6360</td>\n",
       "    </tr>\n",
       "    <tr>\n",
       "      <th>std</th>\n",
       "      <td>1.7411</td>\n",
       "      <td>0.1791</td>\n",
       "      <td>0.1948</td>\n",
       "      <td>1.4099</td>\n",
       "      <td>0.0471</td>\n",
       "      <td>10.4602</td>\n",
       "      <td>32.8953</td>\n",
       "      <td>0.0019</td>\n",
       "      <td>0.1544</td>\n",
       "      <td>0.1695</td>\n",
       "      <td>1.0657</td>\n",
       "      <td>0.8076</td>\n",
       "    </tr>\n",
       "    <tr>\n",
       "      <th>min</th>\n",
       "      <td>4.6000</td>\n",
       "      <td>0.1200</td>\n",
       "      <td>0.0000</td>\n",
       "      <td>0.9000</td>\n",
       "      <td>0.0120</td>\n",
       "      <td>1.0000</td>\n",
       "      <td>6.0000</td>\n",
       "      <td>0.9901</td>\n",
       "      <td>2.7400</td>\n",
       "      <td>0.3300</td>\n",
       "      <td>8.4000</td>\n",
       "      <td>3.0000</td>\n",
       "    </tr>\n",
       "    <tr>\n",
       "      <th>25%</th>\n",
       "      <td>7.1000</td>\n",
       "      <td>0.3900</td>\n",
       "      <td>0.0900</td>\n",
       "      <td>1.9000</td>\n",
       "      <td>0.0700</td>\n",
       "      <td>7.0000</td>\n",
       "      <td>22.0000</td>\n",
       "      <td>0.9956</td>\n",
       "      <td>3.2100</td>\n",
       "      <td>0.5500</td>\n",
       "      <td>9.5000</td>\n",
       "      <td>5.0000</td>\n",
       "    </tr>\n",
       "    <tr>\n",
       "      <th>50%</th>\n",
       "      <td>7.9000</td>\n",
       "      <td>0.5200</td>\n",
       "      <td>0.2600</td>\n",
       "      <td>2.2000</td>\n",
       "      <td>0.0790</td>\n",
       "      <td>14.0000</td>\n",
       "      <td>38.0000</td>\n",
       "      <td>0.9968</td>\n",
       "      <td>3.3100</td>\n",
       "      <td>0.6200</td>\n",
       "      <td>10.2000</td>\n",
       "      <td>6.0000</td>\n",
       "    </tr>\n",
       "    <tr>\n",
       "      <th>75%</th>\n",
       "      <td>9.2000</td>\n",
       "      <td>0.6400</td>\n",
       "      <td>0.4200</td>\n",
       "      <td>2.6000</td>\n",
       "      <td>0.0900</td>\n",
       "      <td>21.0000</td>\n",
       "      <td>62.0000</td>\n",
       "      <td>0.9978</td>\n",
       "      <td>3.4000</td>\n",
       "      <td>0.7300</td>\n",
       "      <td>11.1000</td>\n",
       "      <td>6.0000</td>\n",
       "    </tr>\n",
       "    <tr>\n",
       "      <th>max</th>\n",
       "      <td>15.9000</td>\n",
       "      <td>1.5800</td>\n",
       "      <td>1.0000</td>\n",
       "      <td>15.5000</td>\n",
       "      <td>0.6110</td>\n",
       "      <td>72.0000</td>\n",
       "      <td>289.0000</td>\n",
       "      <td>1.0037</td>\n",
       "      <td>4.0100</td>\n",
       "      <td>2.0000</td>\n",
       "      <td>14.9000</td>\n",
       "      <td>8.0000</td>\n",
       "    </tr>\n",
       "  </tbody>\n",
       "</table>\n",
       "</div>"
      ],
      "text/plain": [
       "       fixed acidity  volatile acidity  citric acid  residual sugar  \\\n",
       "count     1,599.0000        1,599.0000   1,599.0000      1,599.0000   \n",
       "mean          8.3196            0.5278       0.2710          2.5388   \n",
       "std           1.7411            0.1791       0.1948          1.4099   \n",
       "min           4.6000            0.1200       0.0000          0.9000   \n",
       "25%           7.1000            0.3900       0.0900          1.9000   \n",
       "50%           7.9000            0.5200       0.2600          2.2000   \n",
       "75%           9.2000            0.6400       0.4200          2.6000   \n",
       "max          15.9000            1.5800       1.0000         15.5000   \n",
       "\n",
       "       chlorides  free sulfur dioxide  total sulfur dioxide    density  \\\n",
       "count 1,599.0000           1,599.0000            1,599.0000 1,599.0000   \n",
       "mean      0.0875              15.8749               46.4678     0.9967   \n",
       "std       0.0471              10.4602               32.8953     0.0019   \n",
       "min       0.0120               1.0000                6.0000     0.9901   \n",
       "25%       0.0700               7.0000               22.0000     0.9956   \n",
       "50%       0.0790              14.0000               38.0000     0.9968   \n",
       "75%       0.0900              21.0000               62.0000     0.9978   \n",
       "max       0.6110              72.0000              289.0000     1.0037   \n",
       "\n",
       "              pH  sulphates    alcohol    quality  \n",
       "count 1,599.0000 1,599.0000 1,599.0000 1,599.0000  \n",
       "mean      3.3111     0.6581    10.4230     5.6360  \n",
       "std       0.1544     0.1695     1.0657     0.8076  \n",
       "min       2.7400     0.3300     8.4000     3.0000  \n",
       "25%       3.2100     0.5500     9.5000     5.0000  \n",
       "50%       3.3100     0.6200    10.2000     6.0000  \n",
       "75%       3.4000     0.7300    11.1000     6.0000  \n",
       "max       4.0100     2.0000    14.9000     8.0000  "
      ]
     },
     "execution_count": 33,
     "metadata": {},
     "output_type": "execute_result"
    }
   ],
   "source": [
    "df.describe()"
   ]
  },
  {
   "cell_type": "code",
   "execution_count": 34,
   "metadata": {
    "ExecuteTime": {
     "end_time": "2022-02-25T02:15:40.712664Z",
     "start_time": "2022-02-25T02:15:40.705150Z"
    },
    "id": "NMSTHglTZW_U"
   },
   "outputs": [],
   "source": [
    "X = df[['fixed acidity', 'volatile acidity', 'citric acid', 'residual sugar', 'chlorides', 'free sulfur dioxide', \n",
    "        'total sulfur dioxide', 'density', 'pH', 'sulphates', 'alcohol',]]\n",
    "y = df[[\"quality\"]]"
   ]
  },
  {
   "cell_type": "markdown",
   "metadata": {
    "id": "QYy1fuigZW_V"
   },
   "source": [
    "### Escalamiento"
   ]
  },
  {
   "cell_type": "code",
   "execution_count": 35,
   "metadata": {
    "ExecuteTime": {
     "end_time": "2022-02-25T02:15:48.688774Z",
     "start_time": "2022-02-25T02:15:48.678019Z"
    },
    "id": "WVqEgdm9ZW_X"
   },
   "outputs": [],
   "source": [
    "X_train, X_test, y_train, y_test = train_test_split(X, y)"
   ]
  },
  {
   "cell_type": "code",
   "execution_count": 36,
   "metadata": {
    "ExecuteTime": {
     "end_time": "2022-02-25T02:16:31.305961Z",
     "start_time": "2022-02-25T02:16:31.289053Z"
    },
    "id": "lgzEBUtIZW_X"
   },
   "outputs": [],
   "source": [
    "mms_x = MinMaxScaler()\n",
    "mms_y = MinMaxScaler()\n",
    "Xs = mms_x.fit_transform(X_train)\n",
    "ys = mms_y.fit_transform(y_train)"
   ]
  },
  {
   "cell_type": "code",
   "execution_count": 37,
   "metadata": {
    "ExecuteTime": {
     "end_time": "2022-02-25T02:16:34.464131Z",
     "start_time": "2022-02-25T02:16:34.439740Z"
    },
    "id": "bHVR2Nv3ZW_Y",
    "outputId": "01866d62-8df2-4d42-f52e-0b20feb801fc"
   },
   "outputs": [
    {
     "data": {
      "text/html": [
       "<div>\n",
       "<style scoped>\n",
       "    .dataframe tbody tr th:only-of-type {\n",
       "        vertical-align: middle;\n",
       "    }\n",
       "\n",
       "    .dataframe tbody tr th {\n",
       "        vertical-align: top;\n",
       "    }\n",
       "\n",
       "    .dataframe thead th {\n",
       "        text-align: right;\n",
       "    }\n",
       "</style>\n",
       "<table border=\"1\" class=\"dataframe\">\n",
       "  <thead>\n",
       "    <tr style=\"text-align: right;\">\n",
       "      <th></th>\n",
       "      <th>0</th>\n",
       "    </tr>\n",
       "  </thead>\n",
       "  <tbody>\n",
       "    <tr>\n",
       "      <th>0</th>\n",
       "      <td>0.6000</td>\n",
       "    </tr>\n",
       "    <tr>\n",
       "      <th>1</th>\n",
       "      <td>0.6000</td>\n",
       "    </tr>\n",
       "    <tr>\n",
       "      <th>2</th>\n",
       "      <td>0.8000</td>\n",
       "    </tr>\n",
       "    <tr>\n",
       "      <th>3</th>\n",
       "      <td>0.4000</td>\n",
       "    </tr>\n",
       "    <tr>\n",
       "      <th>4</th>\n",
       "      <td>0.6000</td>\n",
       "    </tr>\n",
       "    <tr>\n",
       "      <th>...</th>\n",
       "      <td>...</td>\n",
       "    </tr>\n",
       "    <tr>\n",
       "      <th>1194</th>\n",
       "      <td>0.4000</td>\n",
       "    </tr>\n",
       "    <tr>\n",
       "      <th>1195</th>\n",
       "      <td>0.6000</td>\n",
       "    </tr>\n",
       "    <tr>\n",
       "      <th>1196</th>\n",
       "      <td>1.0000</td>\n",
       "    </tr>\n",
       "    <tr>\n",
       "      <th>1197</th>\n",
       "      <td>0.6000</td>\n",
       "    </tr>\n",
       "    <tr>\n",
       "      <th>1198</th>\n",
       "      <td>0.4000</td>\n",
       "    </tr>\n",
       "  </tbody>\n",
       "</table>\n",
       "<p>1199 rows × 1 columns</p>\n",
       "</div>"
      ],
      "text/plain": [
       "          0\n",
       "0    0.6000\n",
       "1    0.6000\n",
       "2    0.8000\n",
       "3    0.4000\n",
       "4    0.6000\n",
       "...     ...\n",
       "1194 0.4000\n",
       "1195 0.6000\n",
       "1196 1.0000\n",
       "1197 0.6000\n",
       "1198 0.4000\n",
       "\n",
       "[1199 rows x 1 columns]"
      ]
     },
     "execution_count": 37,
     "metadata": {},
     "output_type": "execute_result"
    }
   ],
   "source": [
    "pd.DataFrame(ys)"
   ]
  },
  {
   "cell_type": "markdown",
   "metadata": {
    "id": "KSJ4j8ix7uYN"
   },
   "source": [
    "## Modelado "
   ]
  },
  {
   "cell_type": "markdown",
   "metadata": {
    "id": "3uQVLQVmZW_Z"
   },
   "source": [
    "### Regresión"
   ]
  },
  {
   "cell_type": "markdown",
   "metadata": {
    "cell_style": "split",
    "id": "Y_2ezMbbZW_a"
   },
   "source": [
    "#### Sin escalamiento"
   ]
  },
  {
   "cell_type": "markdown",
   "metadata": {
    "cell_style": "split",
    "id": "2kiJFtnbZW_a"
   },
   "source": [
    "#### Con escalamiento"
   ]
  },
  {
   "cell_type": "code",
   "execution_count": 38,
   "metadata": {
    "ExecuteTime": {
     "end_time": "2022-02-25T02:17:46.049146Z",
     "start_time": "2022-02-25T02:17:44.631802Z"
    },
    "cell_style": "split",
    "id": "oCuQW7Y17uYW",
    "outputId": "88b07649-b511-48b6-a836-82bb1fa4d02a"
   },
   "outputs": [
    {
     "name": "stderr",
     "output_type": "stream",
     "text": [
      "/home/jorge/Documents/Diplomado/ambientes/diplo_env/lib/python3.6/site-packages/sklearn/utils/validation.py:72: DataConversionWarning: A column-vector y was passed when a 1d array was expected. Please change the shape of y to (n_samples, ), for example using ravel().\n",
      "  return f(**kwargs)\n"
     ]
    },
    {
     "data": {
      "text/plain": [
       "(-7.78973210842277e+24, 1.2400196547363334e+25)"
      ]
     },
     "execution_count": 38,
     "metadata": {},
     "output_type": "execute_result"
    }
   ],
   "source": [
    "sgdr = SGDRegressor()\n",
    "sgdr.fit(X_train, y_train)\n",
    "ls_medias = cross_val_score(estimator=sgdr, X=X_train, y=y_train, cv = 4, n_jobs=-1, scoring=\"r2\")\n",
    "np.mean(ls_medias), np.std(ls_medias)"
   ]
  },
  {
   "cell_type": "code",
   "execution_count": 39,
   "metadata": {
    "ExecuteTime": {
     "end_time": "2022-02-25T02:18:28.784972Z",
     "start_time": "2022-02-25T02:18:28.197398Z"
    },
    "cell_style": "split",
    "id": "z3kM-cH2ZW_b",
    "outputId": "b16b9acf-98a2-47d9-82d0-782744b148ce"
   },
   "outputs": [
    {
     "name": "stderr",
     "output_type": "stream",
     "text": [
      "/home/jorge/Documents/Diplomado/ambientes/diplo_env/lib/python3.6/site-packages/sklearn/utils/validation.py:72: DataConversionWarning: A column-vector y was passed when a 1d array was expected. Please change the shape of y to (n_samples, ), for example using ravel().\n",
      "  return f(**kwargs)\n"
     ]
    },
    {
     "data": {
      "text/plain": [
       "(0.15491112525953346, 0.034876122310143705)"
      ]
     },
     "execution_count": 39,
     "metadata": {},
     "output_type": "execute_result"
    }
   ],
   "source": [
    "sgdr = SGDRegressor()\n",
    "sgdr.fit(Xs, ys)\n",
    "ls_medias = cross_val_score(estimator=sgdr, X=Xs, y=ys, cv = 4, n_jobs=-1, scoring=\"r2\")\n",
    "np.mean(ls_medias), np.std(ls_medias)\n"
   ]
  },
  {
   "cell_type": "code",
   "execution_count": 40,
   "metadata": {
    "ExecuteTime": {
     "end_time": "2022-02-25T02:20:50.056976Z",
     "start_time": "2022-02-25T02:20:50.025210Z"
    },
    "id": "MJq0ezdbZW_d"
   },
   "outputs": [],
   "source": [
    "SGDRegressor?"
   ]
  },
  {
   "cell_type": "code",
   "execution_count": 11,
   "metadata": {
    "ExecuteTime": {
     "end_time": "2022-02-24T23:14:17.985556Z",
     "start_time": "2022-02-24T23:14:17.974281Z"
    },
    "id": "MmgigFAlZW_d"
   },
   "outputs": [],
   "source": [
    "param_grid = {\"loss\": [\"squared_loss\", \"huber\"],\n",
    "              \"penalty\": [\"l2\", \"l1\", \"elasticnet\"],\n",
    "              \"alpha\": [x/100 for x in range(100)],\n",
    "              \"epsilon\": [x/10 for x in range(10)],\n",
    "              \"learning_rate\": [\"constant\", \"invscaling\", \"adaptive\"],\n",
    "             }"
   ]
  },
  {
   "cell_type": "code",
   "execution_count": 41,
   "metadata": {
    "ExecuteTime": {
     "end_time": "2022-02-25T02:25:42.934108Z",
     "start_time": "2022-02-25T02:25:42.927515Z"
    },
    "id": "0sjfNTn4ZW_e"
   },
   "outputs": [],
   "source": [
    "n_hyper = np.prod(list(map(len, param_grid.values())))"
   ]
  },
  {
   "cell_type": "code",
   "execution_count": 42,
   "metadata": {
    "ExecuteTime": {
     "end_time": "2022-02-25T02:25:43.479207Z",
     "start_time": "2022-02-25T02:25:43.465592Z"
    },
    "id": "xtURrYnqZW_e",
    "outputId": "438c7e18-eb06-43a6-f9f6-8e4dcd07d84a"
   },
   "outputs": [
    {
     "data": {
      "text/plain": [
       "60000"
      ]
     },
     "execution_count": 42,
     "metadata": {},
     "output_type": "execute_result"
    }
   ],
   "source": [
    "n_hyper"
   ]
  },
  {
   "cell_type": "code",
   "execution_count": 14,
   "metadata": {
    "ExecuteTime": {
     "end_time": "2022-02-24T23:15:41.564986Z",
     "start_time": "2022-02-24T23:14:25.894648Z"
    },
    "id": "POi4S6D5ZW_h",
    "outputId": "99e812f3-4ff9-4831-ee87-7c4483cd340d"
   },
   "outputs": [
    {
     "name": "stdout",
     "output_type": "stream",
     "text": [
      "Fitting 5 folds for each of 18000 candidates, totalling 90000 fits\n"
     ]
    },
    {
     "name": "stderr",
     "output_type": "stream",
     "text": [
      "[Parallel(n_jobs=-1)]: Using backend LokyBackend with 8 concurrent workers.\n",
      "[Parallel(n_jobs=-1)]: Done   2 tasks      | elapsed:    0.0s\n",
      "[Parallel(n_jobs=-1)]: Done 176 tasks      | elapsed:    0.4s\n",
      "[Parallel(n_jobs=-1)]: Done 4208 tasks      | elapsed:    4.4s\n",
      "[Parallel(n_jobs=-1)]: Done 12272 tasks      | elapsed:   10.5s\n",
      "[Parallel(n_jobs=-1)]: Done 22640 tasks      | elapsed:   19.0s\n",
      "[Parallel(n_jobs=-1)]: Done 35312 tasks      | elapsed:   28.9s\n",
      "[Parallel(n_jobs=-1)]: Done 50288 tasks      | elapsed:   41.5s\n",
      "[Parallel(n_jobs=-1)]: Done 67568 tasks      | elapsed:   55.9s\n",
      "[Parallel(n_jobs=-1)]: Done 87152 tasks      | elapsed:  1.2min\n",
      "[Parallel(n_jobs=-1)]: Done 89985 out of 90000 | elapsed:  1.3min remaining:    0.0s\n",
      "[Parallel(n_jobs=-1)]: Done 90000 out of 90000 | elapsed:  1.3min finished\n",
      "/home/jorge/Documents/Diplomado/ambientes/diplo_env/lib/python3.6/site-packages/sklearn/utils/validation.py:72: DataConversionWarning: A column-vector y was passed when a 1d array was expected. Please change the shape of y to (n_samples, ), for example using ravel().\n",
      "  return f(**kwargs)\n"
     ]
    },
    {
     "data": {
      "text/plain": [
       "0.30613457345939493"
      ]
     },
     "execution_count": 14,
     "metadata": {},
     "output_type": "execute_result"
    }
   ],
   "source": [
    "model = SGDRegressor(alpha=0.01)\n",
    "hyper = GridSearchCV(estimator=model, n_jobs=-1, scoring=\"r2\", param_grid=param_grid, error_score=-1000, verbose=5)\n",
    "hyper.fit(Xs, ys)\n",
    "hyper.best_score_"
   ]
  },
  {
   "cell_type": "code",
   "execution_count": 15,
   "metadata": {
    "ExecuteTime": {
     "end_time": "2022-02-24T23:16:22.733765Z",
     "start_time": "2022-02-24T23:16:22.721786Z"
    },
    "id": "aERs80WwZW_h",
    "outputId": "09f77334-d031-432c-a7c4-df32df02cbf3"
   },
   "outputs": [
    {
     "data": {
      "text/plain": [
       "SGDRegressor(alpha=0.0, epsilon=0.3, learning_rate='adaptive')"
      ]
     },
     "execution_count": 15,
     "metadata": {},
     "output_type": "execute_result"
    }
   ],
   "source": [
    "hyper.best_estimator_"
   ]
  },
  {
   "cell_type": "code",
   "execution_count": 16,
   "metadata": {
    "ExecuteTime": {
     "end_time": "2022-02-24T23:16:24.824198Z",
     "start_time": "2022-02-24T23:16:24.811073Z"
    },
    "id": "tC9f_lqRZW_i",
    "outputId": "547b0240-7415-47fb-c3bf-f82e450335d2"
   },
   "outputs": [
    {
     "data": {
      "text/plain": [
       "array([[4.83896736]])"
      ]
     },
     "execution_count": 16,
     "metadata": {},
     "output_type": "execute_result"
    }
   ],
   "source": [
    "mms_y.inverse_transform([hyper.best_estimator_.intercept_])"
   ]
  },
  {
   "cell_type": "markdown",
   "metadata": {
    "id": "XveDrrs6ZW_k"
   },
   "source": [
    "#### Hyperparametrización"
   ]
  },
  {
   "cell_type": "markdown",
   "metadata": {
    "cell_style": "split",
    "id": "mYN6gInMZW_k"
   },
   "source": [
    "##### Sin escalamiento"
   ]
  },
  {
   "cell_type": "markdown",
   "metadata": {
    "cell_style": "split",
    "id": "2r5t73-vZW_k"
   },
   "source": [
    "##### Con escalamiento"
   ]
  },
  {
   "cell_type": "code",
   "execution_count": 17,
   "metadata": {
    "ExecuteTime": {
     "end_time": "2022-02-24T23:17:35.727660Z",
     "start_time": "2022-02-24T23:16:32.077375Z"
    },
    "cell_style": "split",
    "id": "JcvE_9j0ZW_l",
    "outputId": "d4344fe4-5173-42d8-accd-b52f8b41a54a"
   },
   "outputs": [
    {
     "name": "stdout",
     "output_type": "stream",
     "text": [
      "Fitting 5 folds for each of 4500 candidates, totalling 22500 fits\n"
     ]
    },
    {
     "name": "stderr",
     "output_type": "stream",
     "text": [
      "[Parallel(n_jobs=-1)]: Using backend LokyBackend with 8 concurrent workers.\n",
      "[Parallel(n_jobs=-1)]: Done  59 tasks      | elapsed:    0.5s\n",
      "[Parallel(n_jobs=-1)]: Done 1200 tasks      | elapsed:    3.6s\n",
      "[Parallel(n_jobs=-1)]: Done 3200 tasks      | elapsed:    9.1s\n",
      "[Parallel(n_jobs=-1)]: Done 6000 tasks      | elapsed:   16.8s\n",
      "[Parallel(n_jobs=-1)]: Done 9600 tasks      | elapsed:   26.7s\n",
      "[Parallel(n_jobs=-1)]: Done 14000 tasks      | elapsed:   38.7s\n",
      "[Parallel(n_jobs=-1)]: Done 19200 tasks      | elapsed:   53.3s\n"
     ]
    },
    {
     "name": "stdout",
     "output_type": "stream",
     "text": [
      "CPU times: user 32.1 s, sys: 420 ms, total: 32.5 s\n",
      "Wall time: 1min 3s\n"
     ]
    },
    {
     "name": "stderr",
     "output_type": "stream",
     "text": [
      "[Parallel(n_jobs=-1)]: Done 22500 out of 22500 | elapsed:  1.1min finished\n",
      "/home/jorge/Documents/Diplomado/ambientes/diplo_env/lib/python3.6/site-packages/sklearn/utils/validation.py:72: DataConversionWarning: A column-vector y was passed when a 1d array was expected. Please change the shape of y to (n_samples, ), for example using ravel().\n",
      "  return f(**kwargs)\n"
     ]
    },
    {
     "data": {
      "text/plain": [
       "0.29311536550460254"
      ]
     },
     "execution_count": 17,
     "metadata": {},
     "output_type": "execute_result"
    }
   ],
   "source": [
    "%%time\n",
    "model = SGDRegressor()\n",
    "hyper = RandomizedSearchCV(estimator=model, n_jobs=-1, scoring=\"r2\", param_distributions=param_grid, error_score=-1000, verbose=1, n_iter=int(n_hyper*.25), random_state=777)\n",
    "hyper.fit(X_train, y_train)\n",
    "hyper.best_score_"
   ]
  },
  {
   "cell_type": "code",
   "execution_count": 18,
   "metadata": {
    "ExecuteTime": {
     "end_time": "2022-02-24T23:18:05.031094Z",
     "start_time": "2022-02-24T23:17:41.350941Z"
    },
    "cell_style": "split",
    "id": "stD8RjqTZW_m",
    "outputId": "a3af1be2-5028-40cd-9083-adaadc3934b4"
   },
   "outputs": [
    {
     "name": "stdout",
     "output_type": "stream",
     "text": [
      "Fitting 5 folds for each of 4500 candidates, totalling 22500 fits\n"
     ]
    },
    {
     "name": "stderr",
     "output_type": "stream",
     "text": [
      "[Parallel(n_jobs=-1)]: Using backend LokyBackend with 8 concurrent workers.\n",
      "[Parallel(n_jobs=-1)]: Done  56 tasks      | elapsed:    0.2s\n",
      "[Parallel(n_jobs=-1)]: Done 3824 tasks      | elapsed:    4.8s\n",
      "[Parallel(n_jobs=-1)]: Done 11824 tasks      | elapsed:   13.2s\n",
      "[Parallel(n_jobs=-1)]: Done 22328 tasks      | elapsed:   23.3s\n",
      "[Parallel(n_jobs=-1)]: Done 22500 out of 22500 | elapsed:   23.5s finished\n"
     ]
    },
    {
     "name": "stdout",
     "output_type": "stream",
     "text": [
      "CPU times: user 20.8 s, sys: 200 ms, total: 21 s\n",
      "Wall time: 23.7 s\n"
     ]
    },
    {
     "name": "stderr",
     "output_type": "stream",
     "text": [
      "/home/jorge/Documents/Diplomado/ambientes/diplo_env/lib/python3.6/site-packages/sklearn/utils/validation.py:72: DataConversionWarning: A column-vector y was passed when a 1d array was expected. Please change the shape of y to (n_samples, ), for example using ravel().\n",
      "  return f(**kwargs)\n"
     ]
    },
    {
     "data": {
      "text/plain": [
       "0.3060466499533462"
      ]
     },
     "execution_count": 18,
     "metadata": {},
     "output_type": "execute_result"
    }
   ],
   "source": [
    "%%time\n",
    "model = SGDRegressor()\n",
    "hyper = RandomizedSearchCV(estimator=model, n_jobs=-1, scoring=\"r2\", param_distributions=param_grid, error_score=-1000, verbose=1, n_iter=int(n_hyper*.25), random_state=777)\n",
    "hyper.fit(Xs, ys)\n",
    "hyper.best_score_"
   ]
  },
  {
   "cell_type": "code",
   "execution_count": 19,
   "metadata": {
    "ExecuteTime": {
     "end_time": "2022-02-24T23:18:43.554760Z",
     "start_time": "2022-02-24T23:18:43.541677Z"
    },
    "id": "DmWmojlxZW_m",
    "outputId": "b8b29ee0-ca4c-4237-8ea1-65b454ef798a"
   },
   "outputs": [
    {
     "data": {
      "text/plain": [
       "Index(['fixed acidity', 'volatile acidity', 'citric acid', 'residual sugar',\n",
       "       'chlorides', 'free sulfur dioxide', 'total sulfur dioxide', 'density',\n",
       "       'pH', 'sulphates', 'alcohol'],\n",
       "      dtype='object')"
      ]
     },
     "execution_count": 19,
     "metadata": {},
     "output_type": "execute_result"
    }
   ],
   "source": [
    "X_train.columns"
   ]
  },
  {
   "cell_type": "code",
   "execution_count": 20,
   "metadata": {
    "ExecuteTime": {
     "end_time": "2022-02-24T23:18:45.674887Z",
     "start_time": "2022-02-24T23:18:45.662211Z"
    },
    "id": "jezRZzE6ZW_n",
    "outputId": "d6044948-2db5-4eb8-9c61-2698c55db7a4"
   },
   "outputs": [
    {
     "data": {
      "text/plain": [
       "array([ 0.11462112, -0.18014553,  0.05665043, -0.01131382, -0.08015929,\n",
       "        0.02781335, -0.10575609, -0.03543216,  0.07956842,  0.19808386,\n",
       "        0.38841165])"
      ]
     },
     "execution_count": 20,
     "metadata": {},
     "output_type": "execute_result"
    }
   ],
   "source": [
    "hyper.best_estimator_.coef_"
   ]
  },
  {
   "cell_type": "markdown",
   "metadata": {
    "id": "Dcft-H0x7uYt"
   },
   "source": [
    "### Clasificación "
   ]
  },
  {
   "cell_type": "code",
   "execution_count": 43,
   "metadata": {
    "ExecuteTime": {
     "end_time": "2022-02-25T02:34:06.464739Z",
     "start_time": "2022-02-25T02:34:06.455677Z"
    },
    "id": "G511acy0ZW_p"
   },
   "outputs": [],
   "source": [
    "y_train_c = (y_train >= y_train.mean())*1"
   ]
  },
  {
   "cell_type": "code",
   "execution_count": 44,
   "metadata": {
    "ExecuteTime": {
     "end_time": "2022-02-25T02:34:06.993377Z",
     "start_time": "2022-02-25T02:34:06.974559Z"
    }
   },
   "outputs": [
    {
     "data": {
      "text/html": [
       "<div>\n",
       "<style scoped>\n",
       "    .dataframe tbody tr th:only-of-type {\n",
       "        vertical-align: middle;\n",
       "    }\n",
       "\n",
       "    .dataframe tbody tr th {\n",
       "        vertical-align: top;\n",
       "    }\n",
       "\n",
       "    .dataframe thead th {\n",
       "        text-align: right;\n",
       "    }\n",
       "</style>\n",
       "<table border=\"1\" class=\"dataframe\">\n",
       "  <thead>\n",
       "    <tr style=\"text-align: right;\">\n",
       "      <th></th>\n",
       "      <th>quality</th>\n",
       "    </tr>\n",
       "  </thead>\n",
       "  <tbody>\n",
       "    <tr>\n",
       "      <th>1530</th>\n",
       "      <td>1</td>\n",
       "    </tr>\n",
       "    <tr>\n",
       "      <th>1528</th>\n",
       "      <td>1</td>\n",
       "    </tr>\n",
       "    <tr>\n",
       "      <th>366</th>\n",
       "      <td>1</td>\n",
       "    </tr>\n",
       "    <tr>\n",
       "      <th>1453</th>\n",
       "      <td>0</td>\n",
       "    </tr>\n",
       "    <tr>\n",
       "      <th>1510</th>\n",
       "      <td>1</td>\n",
       "    </tr>\n",
       "    <tr>\n",
       "      <th>...</th>\n",
       "      <td>...</td>\n",
       "    </tr>\n",
       "    <tr>\n",
       "      <th>417</th>\n",
       "      <td>0</td>\n",
       "    </tr>\n",
       "    <tr>\n",
       "      <th>696</th>\n",
       "      <td>1</td>\n",
       "    </tr>\n",
       "    <tr>\n",
       "      <th>1403</th>\n",
       "      <td>1</td>\n",
       "    </tr>\n",
       "    <tr>\n",
       "      <th>915</th>\n",
       "      <td>1</td>\n",
       "    </tr>\n",
       "    <tr>\n",
       "      <th>1009</th>\n",
       "      <td>0</td>\n",
       "    </tr>\n",
       "  </tbody>\n",
       "</table>\n",
       "<p>1199 rows × 1 columns</p>\n",
       "</div>"
      ],
      "text/plain": [
       "      quality\n",
       "1530        1\n",
       "1528        1\n",
       "366         1\n",
       "1453        0\n",
       "1510        1\n",
       "...       ...\n",
       "417         0\n",
       "696         1\n",
       "1403        1\n",
       "915         1\n",
       "1009        0\n",
       "\n",
       "[1199 rows x 1 columns]"
      ]
     },
     "execution_count": 44,
     "metadata": {},
     "output_type": "execute_result"
    }
   ],
   "source": [
    "y_train_c"
   ]
  },
  {
   "cell_type": "code",
   "execution_count": 45,
   "metadata": {
    "ExecuteTime": {
     "end_time": "2022-02-25T02:34:59.908672Z",
     "start_time": "2022-02-25T02:34:58.579323Z"
    },
    "id": "n1_5W_Sw7uYy",
    "outputId": "a6d2f7ce-d8f6-4382-f0a4-d0ed814debb6"
   },
   "outputs": [
    {
     "name": "stderr",
     "output_type": "stream",
     "text": [
      "/home/jorge/Documents/Diplomado/ambientes/diplo_env/lib/python3.6/site-packages/sklearn/utils/validation.py:72: DataConversionWarning: A column-vector y was passed when a 1d array was expected. Please change the shape of y to (n_samples, ), for example using ravel().\n",
      "  return f(**kwargs)\n"
     ]
    },
    {
     "data": {
      "text/plain": [
       "(0.7249725793610968, 0.04721818607003906)"
      ]
     },
     "execution_count": 45,
     "metadata": {},
     "output_type": "execute_result"
    }
   ],
   "source": [
    "sgdc = SGDClassifier()\n",
    "sgdc.fit(X_train, y_train_c)\n",
    "ls_medias = cross_val_score(estimator=sgdc, X=X_train, y = y_train_c, cv = 4, n_jobs=-1, scoring=\"roc_auc\")\n",
    "np.mean(ls_medias), np.std(ls_medias)"
   ]
  },
  {
   "cell_type": "code",
   "execution_count": 46,
   "metadata": {
    "ExecuteTime": {
     "end_time": "2022-02-25T02:35:24.828030Z",
     "start_time": "2022-02-25T02:35:24.793606Z"
    },
    "id": "OUtRYPlH7uZD"
   },
   "outputs": [],
   "source": [
    "SGDClassifier?"
   ]
  },
  {
   "cell_type": "code",
   "execution_count": 47,
   "metadata": {
    "ExecuteTime": {
     "end_time": "2022-02-25T02:37:59.667390Z",
     "start_time": "2022-02-25T02:37:59.654490Z"
    },
    "id": "MfpLPza3ZW_r"
   },
   "outputs": [],
   "source": [
    "param_grid = {\"loss\": [\"hinge\", \"log\", \"modified_huber\", \"squared_hinge\", \"perceptron\"],\n",
    "              \"penalty\": [\"l2\", \"l1\", \"elasticnet\"],\n",
    "              \"alpha\": [x/100+0.01 for x in range(100)],\n",
    "              \"l1_ratio\": [x/10 for x in range(10)],\n",
    "              \"learning_rate\": [\"constant\", \"optimal\", \"invscaling\", \"adaptive\"],\n",
    "              \"eta0\": [0.001]\n",
    "             }"
   ]
  },
  {
   "cell_type": "code",
   "execution_count": 48,
   "metadata": {
    "ExecuteTime": {
     "end_time": "2022-02-25T02:38:05.369255Z",
     "start_time": "2022-02-25T02:38:05.360807Z"
    },
    "id": "quIHI5hpZW_r"
   },
   "outputs": [],
   "source": [
    "n_hyper = np.prod(list(map(len, param_grid.values())))"
   ]
  },
  {
   "cell_type": "code",
   "execution_count": 49,
   "metadata": {
    "ExecuteTime": {
     "end_time": "2022-02-25T02:38:05.981841Z",
     "start_time": "2022-02-25T02:38:05.972072Z"
    },
    "id": "1WZlaFl6ZW_r",
    "outputId": "a02c50b8-1919-4f25-9d7e-6e1d3a04166f"
   },
   "outputs": [
    {
     "data": {
      "text/plain": [
       "60000"
      ]
     },
     "execution_count": 49,
     "metadata": {},
     "output_type": "execute_result"
    }
   ],
   "source": [
    "n_hyper"
   ]
  },
  {
   "cell_type": "markdown",
   "metadata": {
    "id": "88rpjFBsZW_s"
   },
   "source": [
    "#### Hyperparametrización"
   ]
  },
  {
   "cell_type": "markdown",
   "metadata": {
    "cell_style": "split",
    "id": "nCMZ_jJpZW_s"
   },
   "source": [
    "##### Sin escalamiento"
   ]
  },
  {
   "cell_type": "markdown",
   "metadata": {
    "cell_style": "split",
    "id": "XccY0obWZW_t"
   },
   "source": [
    "##### Con escalamiento"
   ]
  },
  {
   "cell_type": "code",
   "execution_count": 28,
   "metadata": {
    "ExecuteTime": {
     "end_time": "2022-02-24T23:20:33.824274Z",
     "start_time": "2022-02-24T23:19:15.728515Z"
    },
    "cell_style": "split",
    "id": "ea9OEnmHZW_t",
    "outputId": "d6766dd2-0635-4c0c-b8f3-1daaf56cb05e"
   },
   "outputs": [
    {
     "name": "stdout",
     "output_type": "stream",
     "text": [
      "Fitting 4 folds for each of 6000 candidates, totalling 24000 fits\n"
     ]
    },
    {
     "name": "stderr",
     "output_type": "stream",
     "text": [
      "[Parallel(n_jobs=-1)]: Using backend LokyBackend with 8 concurrent workers.\n",
      "[Parallel(n_jobs=-1)]: Done  56 tasks      | elapsed:    0.4s\n",
      "[Parallel(n_jobs=-1)]: Done 1200 tasks      | elapsed:    4.4s\n",
      "[Parallel(n_jobs=-1)]: Done 3200 tasks      | elapsed:   10.8s\n",
      "[Parallel(n_jobs=-1)]: Done 6000 tasks      | elapsed:   19.7s\n",
      "[Parallel(n_jobs=-1)]: Done 9600 tasks      | elapsed:   31.7s\n",
      "[Parallel(n_jobs=-1)]: Done 14000 tasks      | elapsed:   45.8s\n",
      "[Parallel(n_jobs=-1)]: Done 19200 tasks      | elapsed:  1.0min\n"
     ]
    },
    {
     "name": "stdout",
     "output_type": "stream",
     "text": [
      "CPU times: user 37.1 s, sys: 460 ms, total: 37.5 s\n",
      "Wall time: 1min 18s\n"
     ]
    },
    {
     "name": "stderr",
     "output_type": "stream",
     "text": [
      "[Parallel(n_jobs=-1)]: Done 24000 out of 24000 | elapsed:  1.3min finished\n",
      "/home/jorge/Documents/Diplomado/ambientes/diplo_env/lib/python3.6/site-packages/sklearn/utils/validation.py:72: DataConversionWarning: A column-vector y was passed when a 1d array was expected. Please change the shape of y to (n_samples, ), for example using ravel().\n",
      "  return f(**kwargs)\n"
     ]
    },
    {
     "data": {
      "text/plain": [
       "0.7964244456446724"
      ]
     },
     "execution_count": 28,
     "metadata": {},
     "output_type": "execute_result"
    }
   ],
   "source": [
    "%%time\n",
    "model = SGDClassifier()\n",
    "hyper = RandomizedSearchCV(estimator=model, n_jobs=-1, scoring=\"roc_auc\", param_distributions=param_grid, error_score=-1000, verbose=1, n_iter=int(n_hyper*.1), random_state=777, cv = 4)\n",
    "hyper.fit(X_train, y_train_c)\n",
    "hyper.best_score_"
   ]
  },
  {
   "cell_type": "code",
   "execution_count": 29,
   "metadata": {
    "ExecuteTime": {
     "end_time": "2022-02-24T23:21:40.045585Z",
     "start_time": "2022-02-24T23:21:11.502500Z"
    },
    "cell_style": "split",
    "id": "OW7WA-gUZW_u",
    "outputId": "0fda34bc-3369-4f44-d4ea-d5e1408943a0",
    "scrolled": false
   },
   "outputs": [
    {
     "name": "stdout",
     "output_type": "stream",
     "text": [
      "Fitting 4 folds for each of 6000 candidates, totalling 24000 fits\n"
     ]
    },
    {
     "name": "stderr",
     "output_type": "stream",
     "text": [
      "[Parallel(n_jobs=-1)]: Using backend LokyBackend with 8 concurrent workers.\n",
      "[Parallel(n_jobs=-1)]: Done  56 tasks      | elapsed:    0.2s\n",
      "[Parallel(n_jobs=-1)]: Done 3824 tasks      | elapsed:    5.3s\n",
      "[Parallel(n_jobs=-1)]: Done 11824 tasks      | elapsed:   14.6s\n",
      "[Parallel(n_jobs=-1)]: Done 23024 tasks      | elapsed:   27.2s\n"
     ]
    },
    {
     "name": "stdout",
     "output_type": "stream",
     "text": [
      "CPU times: user 22.3 s, sys: 156 ms, total: 22.4 s\n",
      "Wall time: 28.5 s\n"
     ]
    },
    {
     "name": "stderr",
     "output_type": "stream",
     "text": [
      "[Parallel(n_jobs=-1)]: Done 24000 out of 24000 | elapsed:   28.2s finished\n"
     ]
    },
    {
     "data": {
      "text/plain": [
       "0.8099734088365678"
      ]
     },
     "execution_count": 29,
     "metadata": {},
     "output_type": "execute_result"
    }
   ],
   "source": [
    "%%time\n",
    "model = SGDClassifier()\n",
    "hyper = RandomizedSearchCV(estimator=model, n_jobs=-1, scoring=\"roc_auc\", param_distributions=param_grid, error_score=-1000, verbose=1, n_iter=int(n_hyper*.1), random_state=777, cv=4)\n",
    "hyper.fit(Xs, y_train_c.values.ravel())\n",
    "hyper.best_score_"
   ]
  },
  {
   "cell_type": "code",
   "execution_count": 30,
   "metadata": {
    "ExecuteTime": {
     "end_time": "2022-02-24T23:22:10.584937Z",
     "start_time": "2022-02-24T23:22:10.572488Z"
    },
    "id": "2kGN-Ta5ZW_u",
    "outputId": "8b153bde-1767-4e74-d6ad-61a20bfe07af"
   },
   "outputs": [
    {
     "data": {
      "text/plain": [
       "array([[ 2.03269870e-04, -4.42109362e-04, -2.73914303e-04,\n",
       "        -4.03829674e-05, -6.91858681e-05,  1.74164104e-05,\n",
       "        -4.11463910e-04,  4.29279048e-05,  1.88599587e-04,\n",
       "         4.01651554e-04,  5.00144777e-04]])"
      ]
     },
     "execution_count": 30,
     "metadata": {},
     "output_type": "execute_result"
    }
   ],
   "source": [
    "hyper.best_estimator_.coef_"
   ]
  },
  {
   "cell_type": "code",
   "execution_count": null,
   "metadata": {
    "id": "gRvXmJQBZW_v"
   },
   "outputs": [],
   "source": []
  }
 ],
 "metadata": {
  "colab": {
   "name": "Gradiente Estocástico Descendente.ipynb",
   "provenance": []
  },
  "kernelspec": {
   "display_name": "diplo_env",
   "language": "python",
   "name": "diplo_env"
  },
  "language_info": {
   "codemirror_mode": {
    "name": "ipython",
    "version": 3
   },
   "file_extension": ".py",
   "mimetype": "text/x-python",
   "name": "python",
   "nbconvert_exporter": "python",
   "pygments_lexer": "ipython3",
   "version": "3.6.13"
  },
  "notify_time": "5",
  "varInspector": {
   "cols": {
    "lenName": 16,
    "lenType": 16,
    "lenVar": 40
   },
   "kernels_config": {
    "python": {
     "delete_cmd_postfix": "",
     "delete_cmd_prefix": "del ",
     "library": "var_list.py",
     "varRefreshCmd": "print(var_dic_list())"
    },
    "r": {
     "delete_cmd_postfix": ") ",
     "delete_cmd_prefix": "rm(",
     "library": "var_list.r",
     "varRefreshCmd": "cat(var_dic_list()) "
    }
   },
   "types_to_exclude": [
    "module",
    "function",
    "builtin_function_or_method",
    "instance",
    "_Feature"
   ],
   "window_display": false
  }
 },
 "nbformat": 4,
 "nbformat_minor": 1
}

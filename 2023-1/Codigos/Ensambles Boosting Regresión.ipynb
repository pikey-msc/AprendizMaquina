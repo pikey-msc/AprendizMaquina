{
 "cells": [
  {
   "cell_type": "code",
   "execution_count": 48,
   "metadata": {
    "ExecuteTime": {
     "end_time": "2022-03-23T02:40:38.079987Z",
     "start_time": "2022-03-23T02:40:38.071820Z"
    }
   },
   "outputs": [],
   "source": [
    "import pandas as pd\n",
    "import numpy as np\n",
    "pd.set_option('display.max_columns',100)"
   ]
  },
  {
   "cell_type": "code",
   "execution_count": 49,
   "metadata": {
    "ExecuteTime": {
     "end_time": "2022-03-23T02:40:39.648734Z",
     "start_time": "2022-03-23T02:40:39.563442Z"
    }
   },
   "outputs": [],
   "source": [
    "data=pd.read_csv('../data/SolarPrediction.csv')"
   ]
  },
  {
   "cell_type": "code",
   "execution_count": 50,
   "metadata": {
    "ExecuteTime": {
     "end_time": "2022-03-23T02:40:40.670626Z",
     "start_time": "2022-03-23T02:40:40.634648Z"
    },
    "scrolled": true
   },
   "outputs": [
    {
     "data": {
      "text/html": [
       "<div>\n",
       "<style scoped>\n",
       "    .dataframe tbody tr th:only-of-type {\n",
       "        vertical-align: middle;\n",
       "    }\n",
       "\n",
       "    .dataframe tbody tr th {\n",
       "        vertical-align: top;\n",
       "    }\n",
       "\n",
       "    .dataframe thead th {\n",
       "        text-align: right;\n",
       "    }\n",
       "</style>\n",
       "<table border=\"1\" class=\"dataframe\">\n",
       "  <thead>\n",
       "    <tr style=\"text-align: right;\">\n",
       "      <th></th>\n",
       "      <th>UNIXTime</th>\n",
       "      <th>Data</th>\n",
       "      <th>Time</th>\n",
       "      <th>Radiation</th>\n",
       "      <th>Temperature</th>\n",
       "      <th>Pressure</th>\n",
       "      <th>Humidity</th>\n",
       "      <th>WindDirection(Degrees)</th>\n",
       "      <th>Speed</th>\n",
       "      <th>TimeSunRise</th>\n",
       "      <th>TimeSunSet</th>\n",
       "    </tr>\n",
       "  </thead>\n",
       "  <tbody>\n",
       "    <tr>\n",
       "      <th>0</th>\n",
       "      <td>1475229326</td>\n",
       "      <td>9/29/2016 12:00:00 AM</td>\n",
       "      <td>23:55:26</td>\n",
       "      <td>1.21</td>\n",
       "      <td>48</td>\n",
       "      <td>30.46</td>\n",
       "      <td>59</td>\n",
       "      <td>177.39</td>\n",
       "      <td>5.62</td>\n",
       "      <td>06:13:00</td>\n",
       "      <td>18:13:00</td>\n",
       "    </tr>\n",
       "    <tr>\n",
       "      <th>1</th>\n",
       "      <td>1475229023</td>\n",
       "      <td>9/29/2016 12:00:00 AM</td>\n",
       "      <td>23:50:23</td>\n",
       "      <td>1.21</td>\n",
       "      <td>48</td>\n",
       "      <td>30.46</td>\n",
       "      <td>58</td>\n",
       "      <td>176.78</td>\n",
       "      <td>3.37</td>\n",
       "      <td>06:13:00</td>\n",
       "      <td>18:13:00</td>\n",
       "    </tr>\n",
       "    <tr>\n",
       "      <th>2</th>\n",
       "      <td>1475228726</td>\n",
       "      <td>9/29/2016 12:00:00 AM</td>\n",
       "      <td>23:45:26</td>\n",
       "      <td>1.23</td>\n",
       "      <td>48</td>\n",
       "      <td>30.46</td>\n",
       "      <td>57</td>\n",
       "      <td>158.75</td>\n",
       "      <td>3.37</td>\n",
       "      <td>06:13:00</td>\n",
       "      <td>18:13:00</td>\n",
       "    </tr>\n",
       "    <tr>\n",
       "      <th>3</th>\n",
       "      <td>1475228421</td>\n",
       "      <td>9/29/2016 12:00:00 AM</td>\n",
       "      <td>23:40:21</td>\n",
       "      <td>1.21</td>\n",
       "      <td>48</td>\n",
       "      <td>30.46</td>\n",
       "      <td>60</td>\n",
       "      <td>137.71</td>\n",
       "      <td>3.37</td>\n",
       "      <td>06:13:00</td>\n",
       "      <td>18:13:00</td>\n",
       "    </tr>\n",
       "    <tr>\n",
       "      <th>4</th>\n",
       "      <td>1475228124</td>\n",
       "      <td>9/29/2016 12:00:00 AM</td>\n",
       "      <td>23:35:24</td>\n",
       "      <td>1.17</td>\n",
       "      <td>48</td>\n",
       "      <td>30.46</td>\n",
       "      <td>62</td>\n",
       "      <td>104.95</td>\n",
       "      <td>5.62</td>\n",
       "      <td>06:13:00</td>\n",
       "      <td>18:13:00</td>\n",
       "    </tr>\n",
       "    <tr>\n",
       "      <th>...</th>\n",
       "      <td>...</td>\n",
       "      <td>...</td>\n",
       "      <td>...</td>\n",
       "      <td>...</td>\n",
       "      <td>...</td>\n",
       "      <td>...</td>\n",
       "      <td>...</td>\n",
       "      <td>...</td>\n",
       "      <td>...</td>\n",
       "      <td>...</td>\n",
       "      <td>...</td>\n",
       "    </tr>\n",
       "    <tr>\n",
       "      <th>32681</th>\n",
       "      <td>1480587604</td>\n",
       "      <td>12/1/2016 12:00:00 AM</td>\n",
       "      <td>00:20:04</td>\n",
       "      <td>1.22</td>\n",
       "      <td>44</td>\n",
       "      <td>30.43</td>\n",
       "      <td>102</td>\n",
       "      <td>145.42</td>\n",
       "      <td>6.75</td>\n",
       "      <td>06:41:00</td>\n",
       "      <td>17:42:00</td>\n",
       "    </tr>\n",
       "    <tr>\n",
       "      <th>32682</th>\n",
       "      <td>1480587301</td>\n",
       "      <td>12/1/2016 12:00:00 AM</td>\n",
       "      <td>00:15:01</td>\n",
       "      <td>1.17</td>\n",
       "      <td>44</td>\n",
       "      <td>30.42</td>\n",
       "      <td>102</td>\n",
       "      <td>117.78</td>\n",
       "      <td>6.75</td>\n",
       "      <td>06:41:00</td>\n",
       "      <td>17:42:00</td>\n",
       "    </tr>\n",
       "    <tr>\n",
       "      <th>32683</th>\n",
       "      <td>1480587001</td>\n",
       "      <td>12/1/2016 12:00:00 AM</td>\n",
       "      <td>00:10:01</td>\n",
       "      <td>1.20</td>\n",
       "      <td>44</td>\n",
       "      <td>30.42</td>\n",
       "      <td>102</td>\n",
       "      <td>145.19</td>\n",
       "      <td>9.00</td>\n",
       "      <td>06:41:00</td>\n",
       "      <td>17:42:00</td>\n",
       "    </tr>\n",
       "    <tr>\n",
       "      <th>32684</th>\n",
       "      <td>1480586702</td>\n",
       "      <td>12/1/2016 12:00:00 AM</td>\n",
       "      <td>00:05:02</td>\n",
       "      <td>1.23</td>\n",
       "      <td>44</td>\n",
       "      <td>30.42</td>\n",
       "      <td>101</td>\n",
       "      <td>164.19</td>\n",
       "      <td>7.87</td>\n",
       "      <td>06:41:00</td>\n",
       "      <td>17:42:00</td>\n",
       "    </tr>\n",
       "    <tr>\n",
       "      <th>32685</th>\n",
       "      <td>1480586402</td>\n",
       "      <td>12/1/2016 12:00:00 AM</td>\n",
       "      <td>00:00:02</td>\n",
       "      <td>1.20</td>\n",
       "      <td>44</td>\n",
       "      <td>30.43</td>\n",
       "      <td>101</td>\n",
       "      <td>83.59</td>\n",
       "      <td>3.37</td>\n",
       "      <td>06:41:00</td>\n",
       "      <td>17:42:00</td>\n",
       "    </tr>\n",
       "  </tbody>\n",
       "</table>\n",
       "<p>32686 rows × 11 columns</p>\n",
       "</div>"
      ],
      "text/plain": [
       "         UNIXTime                   Data      Time  Radiation  Temperature  \\\n",
       "0      1475229326  9/29/2016 12:00:00 AM  23:55:26       1.21           48   \n",
       "1      1475229023  9/29/2016 12:00:00 AM  23:50:23       1.21           48   \n",
       "2      1475228726  9/29/2016 12:00:00 AM  23:45:26       1.23           48   \n",
       "3      1475228421  9/29/2016 12:00:00 AM  23:40:21       1.21           48   \n",
       "4      1475228124  9/29/2016 12:00:00 AM  23:35:24       1.17           48   \n",
       "...           ...                    ...       ...        ...          ...   \n",
       "32681  1480587604  12/1/2016 12:00:00 AM  00:20:04       1.22           44   \n",
       "32682  1480587301  12/1/2016 12:00:00 AM  00:15:01       1.17           44   \n",
       "32683  1480587001  12/1/2016 12:00:00 AM  00:10:01       1.20           44   \n",
       "32684  1480586702  12/1/2016 12:00:00 AM  00:05:02       1.23           44   \n",
       "32685  1480586402  12/1/2016 12:00:00 AM  00:00:02       1.20           44   \n",
       "\n",
       "       Pressure  Humidity  WindDirection(Degrees)  Speed TimeSunRise  \\\n",
       "0         30.46        59                  177.39   5.62    06:13:00   \n",
       "1         30.46        58                  176.78   3.37    06:13:00   \n",
       "2         30.46        57                  158.75   3.37    06:13:00   \n",
       "3         30.46        60                  137.71   3.37    06:13:00   \n",
       "4         30.46        62                  104.95   5.62    06:13:00   \n",
       "...         ...       ...                     ...    ...         ...   \n",
       "32681     30.43       102                  145.42   6.75    06:41:00   \n",
       "32682     30.42       102                  117.78   6.75    06:41:00   \n",
       "32683     30.42       102                  145.19   9.00    06:41:00   \n",
       "32684     30.42       101                  164.19   7.87    06:41:00   \n",
       "32685     30.43       101                   83.59   3.37    06:41:00   \n",
       "\n",
       "      TimeSunSet  \n",
       "0       18:13:00  \n",
       "1       18:13:00  \n",
       "2       18:13:00  \n",
       "3       18:13:00  \n",
       "4       18:13:00  \n",
       "...          ...  \n",
       "32681   17:42:00  \n",
       "32682   17:42:00  \n",
       "32683   17:42:00  \n",
       "32684   17:42:00  \n",
       "32685   17:42:00  \n",
       "\n",
       "[32686 rows x 11 columns]"
      ]
     },
     "execution_count": 50,
     "metadata": {},
     "output_type": "execute_result"
    }
   ],
   "source": [
    "data"
   ]
  },
  {
   "cell_type": "code",
   "execution_count": 51,
   "metadata": {
    "ExecuteTime": {
     "end_time": "2022-03-23T02:41:02.935373Z",
     "start_time": "2022-03-23T02:41:02.875461Z"
    }
   },
   "outputs": [
    {
     "data": {
      "text/html": [
       "<div>\n",
       "<style scoped>\n",
       "    .dataframe tbody tr th:only-of-type {\n",
       "        vertical-align: middle;\n",
       "    }\n",
       "\n",
       "    .dataframe tbody tr th {\n",
       "        vertical-align: top;\n",
       "    }\n",
       "\n",
       "    .dataframe thead th {\n",
       "        text-align: right;\n",
       "    }\n",
       "</style>\n",
       "<table border=\"1\" class=\"dataframe\">\n",
       "  <thead>\n",
       "    <tr style=\"text-align: right;\">\n",
       "      <th></th>\n",
       "      <th>UNIXTime</th>\n",
       "      <th>Radiation</th>\n",
       "      <th>Temperature</th>\n",
       "      <th>Pressure</th>\n",
       "      <th>Humidity</th>\n",
       "      <th>WindDirection(Degrees)</th>\n",
       "      <th>Speed</th>\n",
       "    </tr>\n",
       "  </thead>\n",
       "  <tbody>\n",
       "    <tr>\n",
       "      <th>count</th>\n",
       "      <td>3.268600e+04</td>\n",
       "      <td>32686.000000</td>\n",
       "      <td>32686.000000</td>\n",
       "      <td>32686.000000</td>\n",
       "      <td>32686.000000</td>\n",
       "      <td>32686.000000</td>\n",
       "      <td>32686.000000</td>\n",
       "    </tr>\n",
       "    <tr>\n",
       "      <th>mean</th>\n",
       "      <td>1.478047e+09</td>\n",
       "      <td>207.124697</td>\n",
       "      <td>51.103255</td>\n",
       "      <td>30.422879</td>\n",
       "      <td>75.016307</td>\n",
       "      <td>143.489821</td>\n",
       "      <td>6.243869</td>\n",
       "    </tr>\n",
       "    <tr>\n",
       "      <th>std</th>\n",
       "      <td>3.005037e+06</td>\n",
       "      <td>315.916387</td>\n",
       "      <td>6.201157</td>\n",
       "      <td>0.054673</td>\n",
       "      <td>25.990219</td>\n",
       "      <td>83.167500</td>\n",
       "      <td>3.490474</td>\n",
       "    </tr>\n",
       "    <tr>\n",
       "      <th>min</th>\n",
       "      <td>1.472724e+09</td>\n",
       "      <td>1.110000</td>\n",
       "      <td>34.000000</td>\n",
       "      <td>30.190000</td>\n",
       "      <td>8.000000</td>\n",
       "      <td>0.090000</td>\n",
       "      <td>0.000000</td>\n",
       "    </tr>\n",
       "    <tr>\n",
       "      <th>10%</th>\n",
       "      <td>1.473880e+09</td>\n",
       "      <td>1.200000</td>\n",
       "      <td>45.000000</td>\n",
       "      <td>30.350000</td>\n",
       "      <td>31.000000</td>\n",
       "      <td>33.960000</td>\n",
       "      <td>2.250000</td>\n",
       "    </tr>\n",
       "    <tr>\n",
       "      <th>20%</th>\n",
       "      <td>1.474961e+09</td>\n",
       "      <td>1.220000</td>\n",
       "      <td>46.000000</td>\n",
       "      <td>30.390000</td>\n",
       "      <td>47.000000</td>\n",
       "      <td>65.830000</td>\n",
       "      <td>3.370000</td>\n",
       "    </tr>\n",
       "    <tr>\n",
       "      <th>30%</th>\n",
       "      <td>1.476047e+09</td>\n",
       "      <td>1.240000</td>\n",
       "      <td>47.000000</td>\n",
       "      <td>30.410000</td>\n",
       "      <td>63.000000</td>\n",
       "      <td>99.605000</td>\n",
       "      <td>4.500000</td>\n",
       "    </tr>\n",
       "    <tr>\n",
       "      <th>40%</th>\n",
       "      <td>1.477043e+09</td>\n",
       "      <td>1.260000</td>\n",
       "      <td>48.000000</td>\n",
       "      <td>30.420000</td>\n",
       "      <td>76.000000</td>\n",
       "      <td>127.990000</td>\n",
       "      <td>5.620000</td>\n",
       "    </tr>\n",
       "    <tr>\n",
       "      <th>50%</th>\n",
       "      <td>1.478026e+09</td>\n",
       "      <td>2.660000</td>\n",
       "      <td>50.000000</td>\n",
       "      <td>30.430000</td>\n",
       "      <td>85.000000</td>\n",
       "      <td>147.700000</td>\n",
       "      <td>5.620000</td>\n",
       "    </tr>\n",
       "    <tr>\n",
       "      <th>60%</th>\n",
       "      <td>1.479008e+09</td>\n",
       "      <td>48.870000</td>\n",
       "      <td>52.000000</td>\n",
       "      <td>30.440000</td>\n",
       "      <td>92.000000</td>\n",
       "      <td>161.190000</td>\n",
       "      <td>6.750000</td>\n",
       "    </tr>\n",
       "    <tr>\n",
       "      <th>70%</th>\n",
       "      <td>1.479989e+09</td>\n",
       "      <td>239.695000</td>\n",
       "      <td>54.000000</td>\n",
       "      <td>30.450000</td>\n",
       "      <td>95.000000</td>\n",
       "      <td>173.135000</td>\n",
       "      <td>7.870000</td>\n",
       "    </tr>\n",
       "    <tr>\n",
       "      <th>80%</th>\n",
       "      <td>1.481299e+09</td>\n",
       "      <td>476.430000</td>\n",
       "      <td>57.000000</td>\n",
       "      <td>30.460000</td>\n",
       "      <td>99.000000</td>\n",
       "      <td>187.170000</td>\n",
       "      <td>9.000000</td>\n",
       "    </tr>\n",
       "    <tr>\n",
       "      <th>90%</th>\n",
       "      <td>1.482282e+09</td>\n",
       "      <td>791.290000</td>\n",
       "      <td>60.000000</td>\n",
       "      <td>30.480000</td>\n",
       "      <td>101.000000</td>\n",
       "      <td>264.095000</td>\n",
       "      <td>10.120000</td>\n",
       "    </tr>\n",
       "    <tr>\n",
       "      <th>max</th>\n",
       "      <td>1.483265e+09</td>\n",
       "      <td>1601.260000</td>\n",
       "      <td>71.000000</td>\n",
       "      <td>30.560000</td>\n",
       "      <td>103.000000</td>\n",
       "      <td>359.950000</td>\n",
       "      <td>40.500000</td>\n",
       "    </tr>\n",
       "  </tbody>\n",
       "</table>\n",
       "</div>"
      ],
      "text/plain": [
       "           UNIXTime     Radiation   Temperature      Pressure      Humidity  \\\n",
       "count  3.268600e+04  32686.000000  32686.000000  32686.000000  32686.000000   \n",
       "mean   1.478047e+09    207.124697     51.103255     30.422879     75.016307   \n",
       "std    3.005037e+06    315.916387      6.201157      0.054673     25.990219   \n",
       "min    1.472724e+09      1.110000     34.000000     30.190000      8.000000   \n",
       "10%    1.473880e+09      1.200000     45.000000     30.350000     31.000000   \n",
       "20%    1.474961e+09      1.220000     46.000000     30.390000     47.000000   \n",
       "30%    1.476047e+09      1.240000     47.000000     30.410000     63.000000   \n",
       "40%    1.477043e+09      1.260000     48.000000     30.420000     76.000000   \n",
       "50%    1.478026e+09      2.660000     50.000000     30.430000     85.000000   \n",
       "60%    1.479008e+09     48.870000     52.000000     30.440000     92.000000   \n",
       "70%    1.479989e+09    239.695000     54.000000     30.450000     95.000000   \n",
       "80%    1.481299e+09    476.430000     57.000000     30.460000     99.000000   \n",
       "90%    1.482282e+09    791.290000     60.000000     30.480000    101.000000   \n",
       "max    1.483265e+09   1601.260000     71.000000     30.560000    103.000000   \n",
       "\n",
       "       WindDirection(Degrees)         Speed  \n",
       "count            32686.000000  32686.000000  \n",
       "mean               143.489821      6.243869  \n",
       "std                 83.167500      3.490474  \n",
       "min                  0.090000      0.000000  \n",
       "10%                 33.960000      2.250000  \n",
       "20%                 65.830000      3.370000  \n",
       "30%                 99.605000      4.500000  \n",
       "40%                127.990000      5.620000  \n",
       "50%                147.700000      5.620000  \n",
       "60%                161.190000      6.750000  \n",
       "70%                173.135000      7.870000  \n",
       "80%                187.170000      9.000000  \n",
       "90%                264.095000     10.120000  \n",
       "max                359.950000     40.500000  "
      ]
     },
     "execution_count": 51,
     "metadata": {},
     "output_type": "execute_result"
    }
   ],
   "source": [
    "data.describe(np.arange(.1,1,.1))"
   ]
  },
  {
   "cell_type": "code",
   "execution_count": 52,
   "metadata": {
    "ExecuteTime": {
     "end_time": "2022-03-23T02:41:16.493695Z",
     "start_time": "2022-03-23T02:41:16.455972Z"
    },
    "scrolled": true
   },
   "outputs": [
    {
     "data": {
      "text/plain": [
       "17:42:00    3682\n",
       "17:43:00    2264\n",
       "17:44:00    1881\n",
       "17:46:00    1722\n",
       "17:45:00    1440\n",
       "17:51:00    1151\n",
       "17:52:00    1150\n",
       "17:49:00    1149\n",
       "17:47:00    1148\n",
       "17:48:00    1148\n",
       "17:54:00    1147\n",
       "17:50:00     864\n",
       "17:56:00     576\n",
       "17:53:00     573\n",
       "18:03:00     564\n",
       "18:08:00     563\n",
       "17:59:00     561\n",
       "18:35:00     561\n",
       "18:15:00     544\n",
       "18:26:00     422\n",
       "17:55:00     288\n",
       "17:57:00     288\n",
       "18:18:00     287\n",
       "18:17:00     285\n",
       "18:13:00     285\n",
       "18:02:00     284\n",
       "18:06:00     284\n",
       "18:07:00     284\n",
       "18:29:00     284\n",
       "18:19:00     284\n",
       "18:11:00     284\n",
       "18:16:00     284\n",
       "18:10:00     283\n",
       "18:21:00     283\n",
       "17:58:00     283\n",
       "18:34:00     283\n",
       "18:01:00     283\n",
       "18:05:00     283\n",
       "18:14:00     282\n",
       "18:36:00     282\n",
       "18:28:00     282\n",
       "18:00:00     282\n",
       "18:20:00     282\n",
       "18:27:00     281\n",
       "18:09:00     281\n",
       "18:24:00     281\n",
       "18:04:00     279\n",
       "18:37:00     279\n",
       "18:23:00     275\n",
       "18:22:00     275\n",
       "18:38:00     250\n",
       "18:33:00     201\n",
       "18:30:00     195\n",
       "18:25:00     185\n",
       "18:32:00     142\n",
       "18:31:00     123\n",
       "Name: TimeSunSet, dtype: int64"
      ]
     },
     "execution_count": 52,
     "metadata": {},
     "output_type": "execute_result"
    }
   ],
   "source": [
    "data['TimeSunSet'].value_counts()"
   ]
  },
  {
   "cell_type": "code",
   "execution_count": 53,
   "metadata": {
    "ExecuteTime": {
     "end_time": "2022-03-23T02:41:31.153452Z",
     "start_time": "2022-03-23T02:41:31.142693Z"
    }
   },
   "outputs": [],
   "source": [
    "data.drop(columns=['UNIXTime','Data','Time','TimeSunRise','TimeSunSet'],inplace=True)"
   ]
  },
  {
   "cell_type": "code",
   "execution_count": 54,
   "metadata": {
    "ExecuteTime": {
     "end_time": "2022-03-23T02:41:33.959584Z",
     "start_time": "2022-03-23T02:41:33.944323Z"
    }
   },
   "outputs": [
    {
     "data": {
      "text/plain": [
       "Radiation                 0\n",
       "Temperature               0\n",
       "Pressure                  0\n",
       "Humidity                  0\n",
       "WindDirection(Degrees)    0\n",
       "Speed                     0\n",
       "dtype: int64"
      ]
     },
     "execution_count": 54,
     "metadata": {},
     "output_type": "execute_result"
    }
   ],
   "source": [
    "data.isnull().sum()"
   ]
  },
  {
   "cell_type": "code",
   "execution_count": 55,
   "metadata": {
    "ExecuteTime": {
     "end_time": "2022-03-23T02:41:38.909858Z",
     "start_time": "2022-03-23T02:41:38.893265Z"
    }
   },
   "outputs": [
    {
     "data": {
      "text/plain": [
       "Index(['Radiation', 'Temperature', 'Pressure', 'Humidity',\n",
       "       'WindDirection(Degrees)', 'Speed'],\n",
       "      dtype='object')"
      ]
     },
     "execution_count": 55,
     "metadata": {},
     "output_type": "execute_result"
    }
   ],
   "source": [
    "data.columns"
   ]
  },
  {
   "cell_type": "code",
   "execution_count": 56,
   "metadata": {
    "ExecuteTime": {
     "end_time": "2022-03-23T02:42:02.505929Z",
     "start_time": "2022-03-23T02:42:02.495379Z"
    }
   },
   "outputs": [],
   "source": [
    "X=data[['Temperature', 'Pressure', 'Humidity',\n",
    "       'WindDirection(Degrees)', 'Speed']]\n",
    "y=data['Radiation']"
   ]
  },
  {
   "cell_type": "code",
   "execution_count": 57,
   "metadata": {
    "ExecuteTime": {
     "end_time": "2022-03-23T02:42:06.903832Z",
     "start_time": "2022-03-23T02:42:06.896725Z"
    }
   },
   "outputs": [],
   "source": [
    "from sklearn.model_selection import train_test_split"
   ]
  },
  {
   "cell_type": "code",
   "execution_count": 58,
   "metadata": {
    "ExecuteTime": {
     "end_time": "2022-03-23T02:42:08.170899Z",
     "start_time": "2022-03-23T02:42:08.162804Z"
    }
   },
   "outputs": [
    {
     "data": {
      "text/plain": [
       "(32686, 6)"
      ]
     },
     "execution_count": 58,
     "metadata": {},
     "output_type": "execute_result"
    }
   ],
   "source": [
    "data.shape"
   ]
  },
  {
   "cell_type": "code",
   "execution_count": 59,
   "metadata": {
    "ExecuteTime": {
     "end_time": "2022-03-23T02:42:11.103671Z",
     "start_time": "2022-03-23T02:42:11.085972Z"
    }
   },
   "outputs": [],
   "source": [
    "X_train, X_test, y_train, y_test = train_test_split(X, y, random_state=55)"
   ]
  },
  {
   "cell_type": "code",
   "execution_count": 60,
   "metadata": {
    "ExecuteTime": {
     "end_time": "2022-03-23T02:42:23.300387Z",
     "start_time": "2022-03-23T02:42:23.290505Z"
    }
   },
   "outputs": [],
   "source": [
    "from sklearn.ensemble import AdaBoostRegressor"
   ]
  },
  {
   "cell_type": "code",
   "execution_count": 61,
   "metadata": {
    "ExecuteTime": {
     "end_time": "2022-03-23T02:42:29.116004Z",
     "start_time": "2022-03-23T02:42:28.666490Z"
    }
   },
   "outputs": [
    {
     "data": {
      "text/plain": [
       "AdaBoostRegressor()"
      ]
     },
     "execution_count": 61,
     "metadata": {},
     "output_type": "execute_result"
    }
   ],
   "source": [
    "ada_regressor = AdaBoostRegressor()\n",
    "ada_regressor.fit(X_train, y_train)"
   ]
  },
  {
   "cell_type": "code",
   "execution_count": 62,
   "metadata": {
    "ExecuteTime": {
     "end_time": "2022-03-23T02:42:30.277915Z",
     "start_time": "2022-03-23T02:42:30.263415Z"
    }
   },
   "outputs": [],
   "source": [
    "from sklearn.metrics import r2_score,mean_absolute_error,mean_squared_error\n",
    "\n",
    "def metricas(y_true,y_pred):\n",
    "    r2=r2_score(y_true,y_pred)\n",
    "    mae=mean_absolute_error(y_true,y_pred)\n",
    "    mse=mean_squared_error(y_true,y_pred)\n",
    "    print(f'El r2 score es {r2}')\n",
    "    print(f'El error cuadrático medio es {mse}')\n",
    "    print(f'El error medio absoluto es {mae}')"
   ]
  },
  {
   "cell_type": "code",
   "execution_count": 63,
   "metadata": {
    "ExecuteTime": {
     "end_time": "2022-03-23T02:42:43.717384Z",
     "start_time": "2022-03-23T02:42:43.689363Z"
    }
   },
   "outputs": [
    {
     "name": "stdout",
     "output_type": "stream",
     "text": [
      "El r2 score es 0.5528617961634952\n",
      "El error cuadrático medio es 44716.33524072895\n",
      "El error medio absoluto es 165.03042922455842\n"
     ]
    }
   ],
   "source": [
    "metricas(y_test,ada_regressor.predict(X_test))"
   ]
  },
  {
   "cell_type": "code",
   "execution_count": 64,
   "metadata": {
    "ExecuteTime": {
     "end_time": "2022-03-23T02:42:50.588081Z",
     "start_time": "2022-03-23T02:42:50.538121Z"
    }
   },
   "outputs": [
    {
     "name": "stdout",
     "output_type": "stream",
     "text": [
      "El r2 score es 0.541894287989137\n",
      "El error cuadrático medio es 45687.58414306227\n",
      "El error medio absoluto es 167.18466086006683\n"
     ]
    }
   ],
   "source": [
    "metricas(y_train,ada_regressor.predict(X_train))"
   ]
  },
  {
   "cell_type": "markdown",
   "metadata": {},
   "source": [
    "## XGBoost"
   ]
  },
  {
   "cell_type": "code",
   "execution_count": 65,
   "metadata": {
    "ExecuteTime": {
     "end_time": "2022-03-23T02:43:36.836344Z",
     "start_time": "2022-03-23T02:43:36.830713Z"
    }
   },
   "outputs": [],
   "source": [
    "from xgboost.sklearn import XGBRegressor"
   ]
  },
  {
   "cell_type": "code",
   "execution_count": 67,
   "metadata": {
    "ExecuteTime": {
     "end_time": "2022-03-23T02:43:58.716755Z",
     "start_time": "2022-03-23T02:43:58.709158Z"
    }
   },
   "outputs": [],
   "source": [
    "xgb=XGBRegressor()"
   ]
  },
  {
   "cell_type": "code",
   "execution_count": 68,
   "metadata": {
    "ExecuteTime": {
     "end_time": "2022-03-23T02:44:00.774455Z",
     "start_time": "2022-03-23T02:43:59.624814Z"
    }
   },
   "outputs": [
    {
     "data": {
      "text/plain": [
       "XGBRegressor(base_score=0.5, booster='gbtree', colsample_bylevel=1,\n",
       "             colsample_bynode=1, colsample_bytree=1, gamma=0, gpu_id=-1,\n",
       "             importance_type='gain', interaction_constraints='',\n",
       "             learning_rate=0.300000012, max_delta_step=0, max_depth=6,\n",
       "             min_child_weight=1, missing=nan, monotone_constraints='()',\n",
       "             n_estimators=100, n_jobs=8, num_parallel_tree=1, random_state=0,\n",
       "             reg_alpha=0, reg_lambda=1, scale_pos_weight=1, subsample=1,\n",
       "             tree_method='exact', validate_parameters=1, verbosity=None)"
      ]
     },
     "execution_count": 68,
     "metadata": {},
     "output_type": "execute_result"
    }
   ],
   "source": [
    "xgb.fit(X_train, y_train)"
   ]
  },
  {
   "cell_type": "code",
   "execution_count": 69,
   "metadata": {
    "ExecuteTime": {
     "end_time": "2022-03-23T02:44:04.869705Z",
     "start_time": "2022-03-23T02:44:04.769282Z"
    }
   },
   "outputs": [
    {
     "name": "stdout",
     "output_type": "stream",
     "text": [
      "El r2 score es 0.7340717651233744\n",
      "El error cuadrático medio es 26594.31915834807\n",
      "El error medio absoluto es 96.19088341643689\n"
     ]
    }
   ],
   "source": [
    "metricas(y_test,xgb.predict(X_test))"
   ]
  },
  {
   "cell_type": "code",
   "execution_count": 70,
   "metadata": {
    "ExecuteTime": {
     "end_time": "2022-03-23T02:44:07.836726Z",
     "start_time": "2022-03-23T02:44:07.786216Z"
    }
   },
   "outputs": [
    {
     "name": "stdout",
     "output_type": "stream",
     "text": [
      "El r2 score es 0.8265635795410802\n",
      "El error cuadrático medio es 17297.07979061507\n",
      "El error medio absoluto es 77.35218332526716\n"
     ]
    }
   ],
   "source": [
    "metricas(y_train,xgb.predict(X_train))"
   ]
  },
  {
   "cell_type": "markdown",
   "metadata": {},
   "source": [
    "## Gradient Boosting"
   ]
  },
  {
   "cell_type": "code",
   "execution_count": 71,
   "metadata": {
    "ExecuteTime": {
     "end_time": "2022-03-23T02:44:48.100941Z",
     "start_time": "2022-03-23T02:44:48.090960Z"
    }
   },
   "outputs": [],
   "source": [
    "from sklearn.ensemble import GradientBoostingRegressor"
   ]
  },
  {
   "cell_type": "code",
   "execution_count": 72,
   "metadata": {
    "ExecuteTime": {
     "end_time": "2022-03-23T02:44:49.170631Z",
     "start_time": "2022-03-23T02:44:49.167885Z"
    }
   },
   "outputs": [],
   "source": [
    "gb=GradientBoostingRegressor()"
   ]
  },
  {
   "cell_type": "code",
   "execution_count": 73,
   "metadata": {
    "ExecuteTime": {
     "end_time": "2022-03-23T02:44:53.276158Z",
     "start_time": "2022-03-23T02:44:51.481354Z"
    }
   },
   "outputs": [
    {
     "data": {
      "text/plain": [
       "GradientBoostingRegressor()"
      ]
     },
     "execution_count": 73,
     "metadata": {},
     "output_type": "execute_result"
    }
   ],
   "source": [
    "gb.fit(X_train, y_train)"
   ]
  },
  {
   "cell_type": "code",
   "execution_count": 74,
   "metadata": {
    "ExecuteTime": {
     "end_time": "2022-03-23T02:44:57.435030Z",
     "start_time": "2022-03-23T02:44:57.404515Z"
    }
   },
   "outputs": [
    {
     "name": "stdout",
     "output_type": "stream",
     "text": [
      "El r2 score es 0.7023378027041813\n",
      "El error cuadrático medio es 29767.89388284687\n",
      "El error medio absoluto es 107.52620057675745\n"
     ]
    }
   ],
   "source": [
    "metricas(y_test,gb.predict(X_test))"
   ]
  },
  {
   "cell_type": "code",
   "execution_count": 75,
   "metadata": {
    "ExecuteTime": {
     "end_time": "2022-03-23T02:44:58.162551Z",
     "start_time": "2022-03-23T02:44:58.033354Z"
    }
   },
   "outputs": [
    {
     "name": "stdout",
     "output_type": "stream",
     "text": [
      "El r2 score es 0.7027351504367807\n",
      "El error cuadrático medio es 29646.678640130718\n",
      "El error medio absoluto es 107.30436037840276\n"
     ]
    }
   ],
   "source": [
    "metricas(y_train,gb.predict(X_train))"
   ]
  },
  {
   "cell_type": "markdown",
   "metadata": {},
   "source": [
    "## Otros modelos"
   ]
  },
  {
   "cell_type": "code",
   "execution_count": 76,
   "metadata": {
    "ExecuteTime": {
     "end_time": "2022-03-23T02:46:50.418996Z",
     "start_time": "2022-03-23T02:46:50.407751Z"
    }
   },
   "outputs": [],
   "source": [
    "from sklearn.tree import DecisionTreeRegressor\n",
    "from sklearn.ensemble import RandomForestRegressor, ExtraTreesRegressor, VotingRegressor\n",
    "from sklearn.neural_network import MLPRegressor\n",
    "from sklearn.linear_model import ElasticNet, LinearRegression"
   ]
  },
  {
   "cell_type": "code",
   "execution_count": 77,
   "metadata": {
    "ExecuteTime": {
     "end_time": "2022-03-23T02:46:51.118800Z",
     "start_time": "2022-03-23T02:46:51.109286Z"
    }
   },
   "outputs": [],
   "source": [
    "tree=DecisionTreeRegressor()\n",
    "forest=RandomForestRegressor()\n",
    "extra=ExtraTreesRegressor()\n",
    "nn=MLPRegressor()\n",
    "elastic=ElasticNet()"
   ]
  },
  {
   "cell_type": "code",
   "execution_count": 78,
   "metadata": {
    "ExecuteTime": {
     "end_time": "2022-03-23T02:46:55.231902Z",
     "start_time": "2022-03-23T02:46:55.070892Z"
    }
   },
   "outputs": [
    {
     "data": {
      "text/plain": [
       "DecisionTreeRegressor()"
      ]
     },
     "execution_count": 78,
     "metadata": {},
     "output_type": "execute_result"
    }
   ],
   "source": [
    "tree.fit(X_train,y_train)"
   ]
  },
  {
   "cell_type": "code",
   "execution_count": 79,
   "metadata": {
    "ExecuteTime": {
     "end_time": "2022-03-23T02:47:04.607959Z",
     "start_time": "2022-03-23T02:46:55.892353Z"
    }
   },
   "outputs": [
    {
     "data": {
      "text/plain": [
       "RandomForestRegressor()"
      ]
     },
     "execution_count": 79,
     "metadata": {},
     "output_type": "execute_result"
    }
   ],
   "source": [
    "forest.fit(X_train,y_train)"
   ]
  },
  {
   "cell_type": "code",
   "execution_count": 80,
   "metadata": {
    "ExecuteTime": {
     "end_time": "2022-03-23T02:47:26.852930Z",
     "start_time": "2022-03-23T02:47:23.564266Z"
    }
   },
   "outputs": [
    {
     "data": {
      "text/plain": [
       "ExtraTreesRegressor()"
      ]
     },
     "execution_count": 80,
     "metadata": {},
     "output_type": "execute_result"
    }
   ],
   "source": [
    "extra.fit(X_train,y_train)"
   ]
  },
  {
   "cell_type": "code",
   "execution_count": 81,
   "metadata": {
    "ExecuteTime": {
     "end_time": "2022-03-23T02:48:27.467628Z",
     "start_time": "2022-03-23T02:47:28.382680Z"
    }
   },
   "outputs": [
    {
     "name": "stderr",
     "output_type": "stream",
     "text": [
      "/home/jorge/Documents/Diplomado/ambientes/diplo_env/lib/python3.6/site-packages/sklearn/neural_network/_multilayer_perceptron.py:585: ConvergenceWarning: Stochastic Optimizer: Maximum iterations (200) reached and the optimization hasn't converged yet.\n",
      "  % self.max_iter, ConvergenceWarning)\n"
     ]
    },
    {
     "data": {
      "text/plain": [
       "MLPRegressor()"
      ]
     },
     "execution_count": 81,
     "metadata": {},
     "output_type": "execute_result"
    }
   ],
   "source": [
    "nn.fit(X_train,y_train)"
   ]
  },
  {
   "cell_type": "code",
   "execution_count": 82,
   "metadata": {
    "ExecuteTime": {
     "end_time": "2022-03-23T02:48:31.249663Z",
     "start_time": "2022-03-23T02:48:31.229445Z"
    }
   },
   "outputs": [
    {
     "data": {
      "text/plain": [
       "ElasticNet()"
      ]
     },
     "execution_count": 82,
     "metadata": {},
     "output_type": "execute_result"
    }
   ],
   "source": [
    "elastic.fit(X_train,y_train)"
   ]
  },
  {
   "cell_type": "code",
   "execution_count": 83,
   "metadata": {
    "ExecuteTime": {
     "end_time": "2022-03-23T02:48:37.601967Z",
     "start_time": "2022-03-23T02:48:37.575844Z"
    }
   },
   "outputs": [
    {
     "name": "stdout",
     "output_type": "stream",
     "text": [
      "El r2 score es 0.6755998550303277\n",
      "El error cuadrático medio es 32441.839033528493\n",
      "El error medio absoluto es 120.80324495771097\n"
     ]
    }
   ],
   "source": [
    "metricas(y_test,nn.predict(X_test))\n"
   ]
  },
  {
   "cell_type": "code",
   "execution_count": 84,
   "metadata": {
    "ExecuteTime": {
     "end_time": "2022-03-23T02:48:47.269685Z",
     "start_time": "2022-03-23T02:48:47.245230Z"
    }
   },
   "outputs": [
    {
     "name": "stdout",
     "output_type": "stream",
     "text": [
      "El r2 score es 0.5152727192133497\n",
      "El error cuadrático medio es 48475.45434947517\n",
      "El error medio absoluto es 109.8480690161527\n"
     ]
    }
   ],
   "source": [
    "metricas(y_test,tree.predict(X_test))"
   ]
  },
  {
   "cell_type": "code",
   "execution_count": 85,
   "metadata": {
    "ExecuteTime": {
     "end_time": "2022-03-23T02:48:58.226158Z",
     "start_time": "2022-03-23T02:48:57.957270Z"
    }
   },
   "outputs": [
    {
     "name": "stdout",
     "output_type": "stream",
     "text": [
      "El r2 score es 0.7508206721916413\n",
      "El error cuadrático medio es 24919.334249981144\n",
      "El error medio absoluto es 88.38939034587757\n"
     ]
    }
   ],
   "source": [
    "metricas(y_test,forest.predict(X_test))"
   ]
  },
  {
   "cell_type": "code",
   "execution_count": 86,
   "metadata": {
    "ExecuteTime": {
     "end_time": "2022-03-23T02:49:12.251086Z",
     "start_time": "2022-03-23T02:49:11.929848Z"
    }
   },
   "outputs": [
    {
     "name": "stdout",
     "output_type": "stream",
     "text": [
      "El r2 score es 0.7462181195394149\n",
      "El error cuadrático medio es 25379.615401522646\n",
      "El error medio absoluto es 87.9883904358378\n"
     ]
    }
   ],
   "source": [
    "metricas( y_test,extra.predict(X_test))"
   ]
  },
  {
   "cell_type": "code",
   "execution_count": 87,
   "metadata": {
    "ExecuteTime": {
     "end_time": "2022-03-23T02:49:35.728485Z",
     "start_time": "2022-03-23T02:49:35.702865Z"
    }
   },
   "outputs": [
    {
     "name": "stdout",
     "output_type": "stream",
     "text": [
      "El r2 score es 0.559005468443406\n",
      "El error cuadrático medio es 44101.93345863896\n",
      "El error medio absoluto es 160.92940638107223\n"
     ]
    }
   ],
   "source": [
    "metricas( y_test,elastic.predict(X_test))"
   ]
  },
  {
   "cell_type": "code",
   "execution_count": 88,
   "metadata": {
    "ExecuteTime": {
     "end_time": "2022-03-23T02:49:41.031320Z",
     "start_time": "2022-03-23T02:49:40.964439Z"
    }
   },
   "outputs": [
    {
     "data": {
      "text/plain": [
       "array([0.62168526, 0.07191135, 0.11215707, 0.13690256, 0.05734376])"
      ]
     },
     "execution_count": 88,
     "metadata": {},
     "output_type": "execute_result"
    }
   ],
   "source": [
    "forest.feature_importances_"
   ]
  },
  {
   "cell_type": "code",
   "execution_count": 38,
   "metadata": {
    "ExecuteTime": {
     "end_time": "2022-03-22T06:47:51.590821Z",
     "start_time": "2022-03-22T06:47:51.531793Z"
    }
   },
   "outputs": [],
   "source": [
    "importances=forest.feature_importances_\n",
    "feature_importance= sorted(zip(importances, list(X.columns)), reverse=True)\n",
    "\n",
    "df_importances = pd.DataFrame(feature_importance, columns=['importance', 'feature'])\n",
    "importance= list(df_importances['importance'])\n",
    "feature= list(df_importances['feature'])\n"
   ]
  },
  {
   "cell_type": "code",
   "execution_count": 39,
   "metadata": {
    "ExecuteTime": {
     "end_time": "2022-03-22T06:47:52.033697Z",
     "start_time": "2022-03-22T06:47:52.011163Z"
    },
    "scrolled": true
   },
   "outputs": [
    {
     "data": {
      "text/html": [
       "<div>\n",
       "<style scoped>\n",
       "    .dataframe tbody tr th:only-of-type {\n",
       "        vertical-align: middle;\n",
       "    }\n",
       "\n",
       "    .dataframe tbody tr th {\n",
       "        vertical-align: top;\n",
       "    }\n",
       "\n",
       "    .dataframe thead th {\n",
       "        text-align: right;\n",
       "    }\n",
       "</style>\n",
       "<table border=\"1\" class=\"dataframe\">\n",
       "  <thead>\n",
       "    <tr style=\"text-align: right;\">\n",
       "      <th></th>\n",
       "      <th>importance</th>\n",
       "      <th>feature</th>\n",
       "    </tr>\n",
       "  </thead>\n",
       "  <tbody>\n",
       "    <tr>\n",
       "      <th>0</th>\n",
       "      <td>0.621701</td>\n",
       "      <td>Temperature</td>\n",
       "    </tr>\n",
       "    <tr>\n",
       "      <th>1</th>\n",
       "      <td>0.135464</td>\n",
       "      <td>WindDirection(Degrees)</td>\n",
       "    </tr>\n",
       "    <tr>\n",
       "      <th>2</th>\n",
       "      <td>0.112047</td>\n",
       "      <td>Humidity</td>\n",
       "    </tr>\n",
       "    <tr>\n",
       "      <th>3</th>\n",
       "      <td>0.073010</td>\n",
       "      <td>Pressure</td>\n",
       "    </tr>\n",
       "    <tr>\n",
       "      <th>4</th>\n",
       "      <td>0.057779</td>\n",
       "      <td>Speed</td>\n",
       "    </tr>\n",
       "  </tbody>\n",
       "</table>\n",
       "</div>"
      ],
      "text/plain": [
       "   importance                 feature\n",
       "0    0.621701             Temperature\n",
       "1    0.135464  WindDirection(Degrees)\n",
       "2    0.112047                Humidity\n",
       "3    0.073010                Pressure\n",
       "4    0.057779                   Speed"
      ]
     },
     "execution_count": 39,
     "metadata": {},
     "output_type": "execute_result"
    }
   ],
   "source": [
    "df_importances"
   ]
  },
  {
   "cell_type": "code",
   "execution_count": 89,
   "metadata": {
    "ExecuteTime": {
     "end_time": "2022-03-23T02:50:08.744683Z",
     "start_time": "2022-03-23T02:50:08.738095Z"
    }
   },
   "outputs": [],
   "source": [
    "models=[('xgboost',xgb),('forest',forest)]"
   ]
  },
  {
   "cell_type": "code",
   "execution_count": 90,
   "metadata": {
    "ExecuteTime": {
     "end_time": "2022-03-23T02:50:22.321292Z",
     "start_time": "2022-03-23T02:50:22.315266Z"
    }
   },
   "outputs": [],
   "source": [
    "voting_model = VotingRegressor(estimators=models)\n"
   ]
  },
  {
   "cell_type": "code",
   "execution_count": 91,
   "metadata": {
    "ExecuteTime": {
     "end_time": "2022-03-23T02:50:42.491706Z",
     "start_time": "2022-03-23T02:50:33.531348Z"
    }
   },
   "outputs": [
    {
     "data": {
      "text/plain": [
       "VotingRegressor(estimators=[('xgboost',\n",
       "                             XGBRegressor(base_score=0.5, booster='gbtree',\n",
       "                                          colsample_bylevel=1,\n",
       "                                          colsample_bynode=1,\n",
       "                                          colsample_bytree=1, gamma=0,\n",
       "                                          gpu_id=-1, importance_type='gain',\n",
       "                                          interaction_constraints='',\n",
       "                                          learning_rate=0.300000012,\n",
       "                                          max_delta_step=0, max_depth=6,\n",
       "                                          min_child_weight=1, missing=nan,\n",
       "                                          monotone_constraints='()',\n",
       "                                          n_estimators=100, n_jobs=8,\n",
       "                                          num_parallel_tree=1, random_state=0,\n",
       "                                          reg_alpha=0, reg_lambda=1,\n",
       "                                          scale_pos_weight=1, subsample=1,\n",
       "                                          tree_method='exact',\n",
       "                                          validate_parameters=1,\n",
       "                                          verbosity=None)),\n",
       "                            ('forest', RandomForestRegressor())])"
      ]
     },
     "execution_count": 91,
     "metadata": {},
     "output_type": "execute_result"
    }
   ],
   "source": [
    "voting_model.fit(X_train,y_train)"
   ]
  },
  {
   "cell_type": "code",
   "execution_count": 92,
   "metadata": {
    "ExecuteTime": {
     "end_time": "2022-03-23T02:50:48.484224Z",
     "start_time": "2022-03-23T02:50:48.099504Z"
    }
   },
   "outputs": [
    {
     "name": "stdout",
     "output_type": "stream",
     "text": [
      "El r2 score es 0.7539121188872153\n",
      "El error cuadrático medio es 24610.172193077866\n",
      "El error medio absoluto es 90.39647390641287\n"
     ]
    }
   ],
   "source": [
    "metricas(y_test,voting_model.predict(X_test))"
   ]
  },
  {
   "cell_type": "code",
   "execution_count": 93,
   "metadata": {
    "ExecuteTime": {
     "end_time": "2022-03-23T02:50:57.971484Z",
     "start_time": "2022-03-23T02:50:57.326645Z"
    }
   },
   "outputs": [
    {
     "name": "stdout",
     "output_type": "stream",
     "text": [
      "El r2 score es 0.912318077962726\n",
      "El error cuadrático medio es 8744.652349605252\n",
      "El error medio absoluto es 54.62517563263599\n"
     ]
    }
   ],
   "source": [
    "metricas(y_train,voting_model.predict(X_train))"
   ]
  },
  {
   "cell_type": "code",
   "execution_count": null,
   "metadata": {},
   "outputs": [],
   "source": []
  },
  {
   "cell_type": "code",
   "execution_count": null,
   "metadata": {},
   "outputs": [],
   "source": []
  },
  {
   "cell_type": "code",
   "execution_count": null,
   "metadata": {},
   "outputs": [],
   "source": []
  },
  {
   "cell_type": "code",
   "execution_count": null,
   "metadata": {},
   "outputs": [],
   "source": []
  }
 ],
 "metadata": {
  "kernelspec": {
   "display_name": "diplo_env",
   "language": "python",
   "name": "diplo_env"
  },
  "language_info": {
   "codemirror_mode": {
    "name": "ipython",
    "version": 3
   },
   "file_extension": ".py",
   "mimetype": "text/x-python",
   "name": "python",
   "nbconvert_exporter": "python",
   "pygments_lexer": "ipython3",
   "version": "3.6.13"
  },
  "varInspector": {
   "cols": {
    "lenName": 16,
    "lenType": 16,
    "lenVar": 40
   },
   "kernels_config": {
    "python": {
     "delete_cmd_postfix": "",
     "delete_cmd_prefix": "del ",
     "library": "var_list.py",
     "varRefreshCmd": "print(var_dic_list())"
    },
    "r": {
     "delete_cmd_postfix": ") ",
     "delete_cmd_prefix": "rm(",
     "library": "var_list.r",
     "varRefreshCmd": "cat(var_dic_list()) "
    }
   },
   "types_to_exclude": [
    "module",
    "function",
    "builtin_function_or_method",
    "instance",
    "_Feature"
   ],
   "window_display": false
  }
 },
 "nbformat": 4,
 "nbformat_minor": 4
}

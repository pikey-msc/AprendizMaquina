{
 "cells": [
  {
   "cell_type": "code",
   "execution_count": 72,
   "metadata": {
    "ExecuteTime": {
     "end_time": "2022-03-19T17:08:17.674182Z",
     "start_time": "2022-03-19T17:08:17.670835Z"
    }
   },
   "outputs": [],
   "source": [
    "import pandas as pd\n",
    "import numpy as np\n",
    "pd.set_option('display.max_columns',100)"
   ]
  },
  {
   "cell_type": "code",
   "execution_count": 73,
   "metadata": {
    "ExecuteTime": {
     "end_time": "2022-03-19T17:08:18.926506Z",
     "start_time": "2022-03-19T17:08:18.919409Z"
    }
   },
   "outputs": [],
   "source": [
    "import missingno as msno"
   ]
  },
  {
   "cell_type": "code",
   "execution_count": 74,
   "metadata": {
    "ExecuteTime": {
     "end_time": "2022-03-19T17:08:19.820245Z",
     "start_time": "2022-03-19T17:08:19.603452Z"
    }
   },
   "outputs": [],
   "source": [
    "data=pd.read_csv('../data/Melbourne_housing_FULL.csv')"
   ]
  },
  {
   "cell_type": "code",
   "execution_count": 75,
   "metadata": {
    "ExecuteTime": {
     "end_time": "2022-03-19T17:08:20.997747Z",
     "start_time": "2022-03-19T17:08:20.957611Z"
    },
    "scrolled": true
   },
   "outputs": [
    {
     "data": {
      "text/html": [
       "<div>\n",
       "<style scoped>\n",
       "    .dataframe tbody tr th:only-of-type {\n",
       "        vertical-align: middle;\n",
       "    }\n",
       "\n",
       "    .dataframe tbody tr th {\n",
       "        vertical-align: top;\n",
       "    }\n",
       "\n",
       "    .dataframe thead th {\n",
       "        text-align: right;\n",
       "    }\n",
       "</style>\n",
       "<table border=\"1\" class=\"dataframe\">\n",
       "  <thead>\n",
       "    <tr style=\"text-align: right;\">\n",
       "      <th></th>\n",
       "      <th>Suburb</th>\n",
       "      <th>Address</th>\n",
       "      <th>Rooms</th>\n",
       "      <th>Type</th>\n",
       "      <th>Price</th>\n",
       "      <th>Method</th>\n",
       "      <th>SellerG</th>\n",
       "      <th>Date</th>\n",
       "      <th>Distance</th>\n",
       "      <th>Postcode</th>\n",
       "      <th>Bedroom2</th>\n",
       "      <th>Bathroom</th>\n",
       "      <th>Car</th>\n",
       "      <th>Landsize</th>\n",
       "      <th>BuildingArea</th>\n",
       "      <th>YearBuilt</th>\n",
       "      <th>CouncilArea</th>\n",
       "      <th>Lattitude</th>\n",
       "      <th>Longtitude</th>\n",
       "      <th>Regionname</th>\n",
       "      <th>Propertycount</th>\n",
       "    </tr>\n",
       "  </thead>\n",
       "  <tbody>\n",
       "    <tr>\n",
       "      <th>0</th>\n",
       "      <td>Abbotsford</td>\n",
       "      <td>68 Studley St</td>\n",
       "      <td>2</td>\n",
       "      <td>h</td>\n",
       "      <td>NaN</td>\n",
       "      <td>SS</td>\n",
       "      <td>Jellis</td>\n",
       "      <td>3/09/2016</td>\n",
       "      <td>2.5</td>\n",
       "      <td>3067.0</td>\n",
       "      <td>2.0</td>\n",
       "      <td>1.0</td>\n",
       "      <td>1.0</td>\n",
       "      <td>126.0</td>\n",
       "      <td>NaN</td>\n",
       "      <td>NaN</td>\n",
       "      <td>Yarra City Council</td>\n",
       "      <td>-37.80140</td>\n",
       "      <td>144.99580</td>\n",
       "      <td>Northern Metropolitan</td>\n",
       "      <td>4019.0</td>\n",
       "    </tr>\n",
       "    <tr>\n",
       "      <th>1</th>\n",
       "      <td>Abbotsford</td>\n",
       "      <td>85 Turner St</td>\n",
       "      <td>2</td>\n",
       "      <td>h</td>\n",
       "      <td>1480000.0</td>\n",
       "      <td>S</td>\n",
       "      <td>Biggin</td>\n",
       "      <td>3/12/2016</td>\n",
       "      <td>2.5</td>\n",
       "      <td>3067.0</td>\n",
       "      <td>2.0</td>\n",
       "      <td>1.0</td>\n",
       "      <td>1.0</td>\n",
       "      <td>202.0</td>\n",
       "      <td>NaN</td>\n",
       "      <td>NaN</td>\n",
       "      <td>Yarra City Council</td>\n",
       "      <td>-37.79960</td>\n",
       "      <td>144.99840</td>\n",
       "      <td>Northern Metropolitan</td>\n",
       "      <td>4019.0</td>\n",
       "    </tr>\n",
       "    <tr>\n",
       "      <th>2</th>\n",
       "      <td>Abbotsford</td>\n",
       "      <td>25 Bloomburg St</td>\n",
       "      <td>2</td>\n",
       "      <td>h</td>\n",
       "      <td>1035000.0</td>\n",
       "      <td>S</td>\n",
       "      <td>Biggin</td>\n",
       "      <td>4/02/2016</td>\n",
       "      <td>2.5</td>\n",
       "      <td>3067.0</td>\n",
       "      <td>2.0</td>\n",
       "      <td>1.0</td>\n",
       "      <td>0.0</td>\n",
       "      <td>156.0</td>\n",
       "      <td>79.0</td>\n",
       "      <td>1900.0</td>\n",
       "      <td>Yarra City Council</td>\n",
       "      <td>-37.80790</td>\n",
       "      <td>144.99340</td>\n",
       "      <td>Northern Metropolitan</td>\n",
       "      <td>4019.0</td>\n",
       "    </tr>\n",
       "    <tr>\n",
       "      <th>3</th>\n",
       "      <td>Abbotsford</td>\n",
       "      <td>18/659 Victoria St</td>\n",
       "      <td>3</td>\n",
       "      <td>u</td>\n",
       "      <td>NaN</td>\n",
       "      <td>VB</td>\n",
       "      <td>Rounds</td>\n",
       "      <td>4/02/2016</td>\n",
       "      <td>2.5</td>\n",
       "      <td>3067.0</td>\n",
       "      <td>3.0</td>\n",
       "      <td>2.0</td>\n",
       "      <td>1.0</td>\n",
       "      <td>0.0</td>\n",
       "      <td>NaN</td>\n",
       "      <td>NaN</td>\n",
       "      <td>Yarra City Council</td>\n",
       "      <td>-37.81140</td>\n",
       "      <td>145.01160</td>\n",
       "      <td>Northern Metropolitan</td>\n",
       "      <td>4019.0</td>\n",
       "    </tr>\n",
       "    <tr>\n",
       "      <th>4</th>\n",
       "      <td>Abbotsford</td>\n",
       "      <td>5 Charles St</td>\n",
       "      <td>3</td>\n",
       "      <td>h</td>\n",
       "      <td>1465000.0</td>\n",
       "      <td>SP</td>\n",
       "      <td>Biggin</td>\n",
       "      <td>4/03/2017</td>\n",
       "      <td>2.5</td>\n",
       "      <td>3067.0</td>\n",
       "      <td>3.0</td>\n",
       "      <td>2.0</td>\n",
       "      <td>0.0</td>\n",
       "      <td>134.0</td>\n",
       "      <td>150.0</td>\n",
       "      <td>1900.0</td>\n",
       "      <td>Yarra City Council</td>\n",
       "      <td>-37.80930</td>\n",
       "      <td>144.99440</td>\n",
       "      <td>Northern Metropolitan</td>\n",
       "      <td>4019.0</td>\n",
       "    </tr>\n",
       "    <tr>\n",
       "      <th>...</th>\n",
       "      <td>...</td>\n",
       "      <td>...</td>\n",
       "      <td>...</td>\n",
       "      <td>...</td>\n",
       "      <td>...</td>\n",
       "      <td>...</td>\n",
       "      <td>...</td>\n",
       "      <td>...</td>\n",
       "      <td>...</td>\n",
       "      <td>...</td>\n",
       "      <td>...</td>\n",
       "      <td>...</td>\n",
       "      <td>...</td>\n",
       "      <td>...</td>\n",
       "      <td>...</td>\n",
       "      <td>...</td>\n",
       "      <td>...</td>\n",
       "      <td>...</td>\n",
       "      <td>...</td>\n",
       "      <td>...</td>\n",
       "      <td>...</td>\n",
       "    </tr>\n",
       "    <tr>\n",
       "      <th>34852</th>\n",
       "      <td>Yarraville</td>\n",
       "      <td>13 Burns St</td>\n",
       "      <td>4</td>\n",
       "      <td>h</td>\n",
       "      <td>1480000.0</td>\n",
       "      <td>PI</td>\n",
       "      <td>Jas</td>\n",
       "      <td>24/02/2018</td>\n",
       "      <td>6.3</td>\n",
       "      <td>3013.0</td>\n",
       "      <td>4.0</td>\n",
       "      <td>1.0</td>\n",
       "      <td>3.0</td>\n",
       "      <td>593.0</td>\n",
       "      <td>NaN</td>\n",
       "      <td>NaN</td>\n",
       "      <td>Maribyrnong City Council</td>\n",
       "      <td>-37.81053</td>\n",
       "      <td>144.88467</td>\n",
       "      <td>Western Metropolitan</td>\n",
       "      <td>6543.0</td>\n",
       "    </tr>\n",
       "    <tr>\n",
       "      <th>34853</th>\n",
       "      <td>Yarraville</td>\n",
       "      <td>29A Murray St</td>\n",
       "      <td>2</td>\n",
       "      <td>h</td>\n",
       "      <td>888000.0</td>\n",
       "      <td>SP</td>\n",
       "      <td>Sweeney</td>\n",
       "      <td>24/02/2018</td>\n",
       "      <td>6.3</td>\n",
       "      <td>3013.0</td>\n",
       "      <td>2.0</td>\n",
       "      <td>2.0</td>\n",
       "      <td>1.0</td>\n",
       "      <td>98.0</td>\n",
       "      <td>104.0</td>\n",
       "      <td>2018.0</td>\n",
       "      <td>Maribyrnong City Council</td>\n",
       "      <td>-37.81551</td>\n",
       "      <td>144.88826</td>\n",
       "      <td>Western Metropolitan</td>\n",
       "      <td>6543.0</td>\n",
       "    </tr>\n",
       "    <tr>\n",
       "      <th>34854</th>\n",
       "      <td>Yarraville</td>\n",
       "      <td>147A Severn St</td>\n",
       "      <td>2</td>\n",
       "      <td>t</td>\n",
       "      <td>705000.0</td>\n",
       "      <td>S</td>\n",
       "      <td>Jas</td>\n",
       "      <td>24/02/2018</td>\n",
       "      <td>6.3</td>\n",
       "      <td>3013.0</td>\n",
       "      <td>2.0</td>\n",
       "      <td>1.0</td>\n",
       "      <td>2.0</td>\n",
       "      <td>220.0</td>\n",
       "      <td>120.0</td>\n",
       "      <td>2000.0</td>\n",
       "      <td>Maribyrnong City Council</td>\n",
       "      <td>-37.82286</td>\n",
       "      <td>144.87856</td>\n",
       "      <td>Western Metropolitan</td>\n",
       "      <td>6543.0</td>\n",
       "    </tr>\n",
       "    <tr>\n",
       "      <th>34855</th>\n",
       "      <td>Yarraville</td>\n",
       "      <td>12/37 Stephen St</td>\n",
       "      <td>3</td>\n",
       "      <td>h</td>\n",
       "      <td>1140000.0</td>\n",
       "      <td>SP</td>\n",
       "      <td>hockingstuart</td>\n",
       "      <td>24/02/2018</td>\n",
       "      <td>6.3</td>\n",
       "      <td>3013.0</td>\n",
       "      <td>NaN</td>\n",
       "      <td>NaN</td>\n",
       "      <td>NaN</td>\n",
       "      <td>NaN</td>\n",
       "      <td>NaN</td>\n",
       "      <td>NaN</td>\n",
       "      <td>Maribyrnong City Council</td>\n",
       "      <td>NaN</td>\n",
       "      <td>NaN</td>\n",
       "      <td>Western Metropolitan</td>\n",
       "      <td>6543.0</td>\n",
       "    </tr>\n",
       "    <tr>\n",
       "      <th>34856</th>\n",
       "      <td>Yarraville</td>\n",
       "      <td>3 Tarrengower St</td>\n",
       "      <td>2</td>\n",
       "      <td>h</td>\n",
       "      <td>1020000.0</td>\n",
       "      <td>PI</td>\n",
       "      <td>RW</td>\n",
       "      <td>24/02/2018</td>\n",
       "      <td>6.3</td>\n",
       "      <td>3013.0</td>\n",
       "      <td>2.0</td>\n",
       "      <td>1.0</td>\n",
       "      <td>0.0</td>\n",
       "      <td>250.0</td>\n",
       "      <td>103.0</td>\n",
       "      <td>1930.0</td>\n",
       "      <td>Maribyrnong City Council</td>\n",
       "      <td>-37.81810</td>\n",
       "      <td>144.89351</td>\n",
       "      <td>Western Metropolitan</td>\n",
       "      <td>6543.0</td>\n",
       "    </tr>\n",
       "  </tbody>\n",
       "</table>\n",
       "<p>34857 rows × 21 columns</p>\n",
       "</div>"
      ],
      "text/plain": [
       "           Suburb             Address  Rooms Type      Price Method  \\\n",
       "0      Abbotsford       68 Studley St      2    h        NaN     SS   \n",
       "1      Abbotsford        85 Turner St      2    h  1480000.0      S   \n",
       "2      Abbotsford     25 Bloomburg St      2    h  1035000.0      S   \n",
       "3      Abbotsford  18/659 Victoria St      3    u        NaN     VB   \n",
       "4      Abbotsford        5 Charles St      3    h  1465000.0     SP   \n",
       "...           ...                 ...    ...  ...        ...    ...   \n",
       "34852  Yarraville         13 Burns St      4    h  1480000.0     PI   \n",
       "34853  Yarraville       29A Murray St      2    h   888000.0     SP   \n",
       "34854  Yarraville      147A Severn St      2    t   705000.0      S   \n",
       "34855  Yarraville    12/37 Stephen St      3    h  1140000.0     SP   \n",
       "34856  Yarraville    3 Tarrengower St      2    h  1020000.0     PI   \n",
       "\n",
       "             SellerG        Date  Distance  Postcode  Bedroom2  Bathroom  Car  \\\n",
       "0             Jellis   3/09/2016       2.5    3067.0       2.0       1.0  1.0   \n",
       "1             Biggin   3/12/2016       2.5    3067.0       2.0       1.0  1.0   \n",
       "2             Biggin   4/02/2016       2.5    3067.0       2.0       1.0  0.0   \n",
       "3             Rounds   4/02/2016       2.5    3067.0       3.0       2.0  1.0   \n",
       "4             Biggin   4/03/2017       2.5    3067.0       3.0       2.0  0.0   \n",
       "...              ...         ...       ...       ...       ...       ...  ...   \n",
       "34852            Jas  24/02/2018       6.3    3013.0       4.0       1.0  3.0   \n",
       "34853        Sweeney  24/02/2018       6.3    3013.0       2.0       2.0  1.0   \n",
       "34854            Jas  24/02/2018       6.3    3013.0       2.0       1.0  2.0   \n",
       "34855  hockingstuart  24/02/2018       6.3    3013.0       NaN       NaN  NaN   \n",
       "34856             RW  24/02/2018       6.3    3013.0       2.0       1.0  0.0   \n",
       "\n",
       "       Landsize  BuildingArea  YearBuilt               CouncilArea  Lattitude  \\\n",
       "0         126.0           NaN        NaN        Yarra City Council  -37.80140   \n",
       "1         202.0           NaN        NaN        Yarra City Council  -37.79960   \n",
       "2         156.0          79.0     1900.0        Yarra City Council  -37.80790   \n",
       "3           0.0           NaN        NaN        Yarra City Council  -37.81140   \n",
       "4         134.0         150.0     1900.0        Yarra City Council  -37.80930   \n",
       "...         ...           ...        ...                       ...        ...   \n",
       "34852     593.0           NaN        NaN  Maribyrnong City Council  -37.81053   \n",
       "34853      98.0         104.0     2018.0  Maribyrnong City Council  -37.81551   \n",
       "34854     220.0         120.0     2000.0  Maribyrnong City Council  -37.82286   \n",
       "34855       NaN           NaN        NaN  Maribyrnong City Council        NaN   \n",
       "34856     250.0         103.0     1930.0  Maribyrnong City Council  -37.81810   \n",
       "\n",
       "       Longtitude             Regionname  Propertycount  \n",
       "0       144.99580  Northern Metropolitan         4019.0  \n",
       "1       144.99840  Northern Metropolitan         4019.0  \n",
       "2       144.99340  Northern Metropolitan         4019.0  \n",
       "3       145.01160  Northern Metropolitan         4019.0  \n",
       "4       144.99440  Northern Metropolitan         4019.0  \n",
       "...           ...                    ...            ...  \n",
       "34852   144.88467   Western Metropolitan         6543.0  \n",
       "34853   144.88826   Western Metropolitan         6543.0  \n",
       "34854   144.87856   Western Metropolitan         6543.0  \n",
       "34855         NaN   Western Metropolitan         6543.0  \n",
       "34856   144.89351   Western Metropolitan         6543.0  \n",
       "\n",
       "[34857 rows x 21 columns]"
      ]
     },
     "execution_count": 75,
     "metadata": {},
     "output_type": "execute_result"
    }
   ],
   "source": [
    "data"
   ]
  },
  {
   "cell_type": "markdown",
   "metadata": {},
   "source": [
    "Melbourne housing clearance data from Jan 2016\n",
    "Suburb: Suburb\n",
    "\n",
    "Address: Address\n",
    "\n",
    "Rooms: Number of rooms\n",
    "\n",
    "Price: Price in Australian dollars\n",
    "\n",
    "Method:\n",
    "S - property sold;\n",
    "SP - property sold prior;\n",
    "PI - property passed in;\n",
    "PN - sold prior not disclosed;\n",
    "SN - sold not disclosed;\n",
    "NB - no bid;\n",
    "VB - vendor bid;\n",
    "W - withdrawn prior to auction;\n",
    "SA - sold after auction;\n",
    "SS - sold after auction price not disclosed.\n",
    "N/A - price or highest bid not available.\n",
    "\n",
    "Type:\n",
    "br - bedroom(s);\n",
    "h - house,cottage,villa, semi,terrace;\n",
    "u - unit, duplex;\n",
    "t - townhouse;\n",
    "dev site - development site;\n",
    "o res - other residential.\n",
    "\n",
    "SellerG: Real Estate Agent\n",
    "\n",
    "Date: Date sold\n",
    "\n",
    "Distance: Distance from CBD in Kilometres\n",
    "\n",
    "Regionname: General Region (West, North West, North, North east …etc)\n",
    "\n",
    "Propertycount: Number of properties that exist in the suburb.\n",
    "\n",
    "Bedroom2 : Scraped # of Bedrooms (from different source)\n",
    "\n",
    "Bathroom: Number of Bathrooms\n",
    "\n",
    "Car: Number of carspots\n",
    "\n",
    "Landsize: Land Size in Metres\n",
    "\n",
    "BuildingArea: Building Size in Metres\n",
    "\n",
    "YearBuilt: Year the house was built\n",
    "\n",
    "CouncilArea: Governing council for the area\n",
    "\n",
    "Lattitude\n",
    "\n",
    "Longtitude"
   ]
  },
  {
   "cell_type": "code",
   "execution_count": 76,
   "metadata": {
    "ExecuteTime": {
     "end_time": "2022-03-19T17:10:14.821053Z",
     "start_time": "2022-03-19T17:10:14.689310Z"
    }
   },
   "outputs": [
    {
     "data": {
      "text/html": [
       "<div>\n",
       "<style scoped>\n",
       "    .dataframe tbody tr th:only-of-type {\n",
       "        vertical-align: middle;\n",
       "    }\n",
       "\n",
       "    .dataframe tbody tr th {\n",
       "        vertical-align: top;\n",
       "    }\n",
       "\n",
       "    .dataframe thead th {\n",
       "        text-align: right;\n",
       "    }\n",
       "</style>\n",
       "<table border=\"1\" class=\"dataframe\">\n",
       "  <thead>\n",
       "    <tr style=\"text-align: right;\">\n",
       "      <th></th>\n",
       "      <th>Rooms</th>\n",
       "      <th>Price</th>\n",
       "      <th>Distance</th>\n",
       "      <th>Postcode</th>\n",
       "      <th>Bedroom2</th>\n",
       "      <th>Bathroom</th>\n",
       "      <th>Car</th>\n",
       "      <th>Landsize</th>\n",
       "      <th>BuildingArea</th>\n",
       "      <th>YearBuilt</th>\n",
       "      <th>Lattitude</th>\n",
       "      <th>Longtitude</th>\n",
       "      <th>Propertycount</th>\n",
       "    </tr>\n",
       "  </thead>\n",
       "  <tbody>\n",
       "    <tr>\n",
       "      <th>count</th>\n",
       "      <td>34857.000000</td>\n",
       "      <td>2.724700e+04</td>\n",
       "      <td>34856.000000</td>\n",
       "      <td>34856.000000</td>\n",
       "      <td>26640.000000</td>\n",
       "      <td>26631.000000</td>\n",
       "      <td>26129.000000</td>\n",
       "      <td>23047.000000</td>\n",
       "      <td>13742.00000</td>\n",
       "      <td>15551.000000</td>\n",
       "      <td>26881.000000</td>\n",
       "      <td>26881.000000</td>\n",
       "      <td>34854.000000</td>\n",
       "    </tr>\n",
       "    <tr>\n",
       "      <th>mean</th>\n",
       "      <td>3.031012</td>\n",
       "      <td>1.050173e+06</td>\n",
       "      <td>11.184929</td>\n",
       "      <td>3116.062859</td>\n",
       "      <td>3.084647</td>\n",
       "      <td>1.624798</td>\n",
       "      <td>1.728845</td>\n",
       "      <td>593.598993</td>\n",
       "      <td>160.25640</td>\n",
       "      <td>1965.289885</td>\n",
       "      <td>-37.810634</td>\n",
       "      <td>145.001851</td>\n",
       "      <td>7572.888306</td>\n",
       "    </tr>\n",
       "    <tr>\n",
       "      <th>std</th>\n",
       "      <td>0.969933</td>\n",
       "      <td>6.414671e+05</td>\n",
       "      <td>6.788892</td>\n",
       "      <td>109.023903</td>\n",
       "      <td>0.980690</td>\n",
       "      <td>0.724212</td>\n",
       "      <td>1.010771</td>\n",
       "      <td>3398.841946</td>\n",
       "      <td>401.26706</td>\n",
       "      <td>37.328178</td>\n",
       "      <td>0.090279</td>\n",
       "      <td>0.120169</td>\n",
       "      <td>4428.090313</td>\n",
       "    </tr>\n",
       "    <tr>\n",
       "      <th>min</th>\n",
       "      <td>1.000000</td>\n",
       "      <td>8.500000e+04</td>\n",
       "      <td>0.000000</td>\n",
       "      <td>3000.000000</td>\n",
       "      <td>0.000000</td>\n",
       "      <td>0.000000</td>\n",
       "      <td>0.000000</td>\n",
       "      <td>0.000000</td>\n",
       "      <td>0.00000</td>\n",
       "      <td>1196.000000</td>\n",
       "      <td>-38.190430</td>\n",
       "      <td>144.423790</td>\n",
       "      <td>83.000000</td>\n",
       "    </tr>\n",
       "    <tr>\n",
       "      <th>10%</th>\n",
       "      <td>2.000000</td>\n",
       "      <td>4.853000e+05</td>\n",
       "      <td>3.800000</td>\n",
       "      <td>3024.000000</td>\n",
       "      <td>2.000000</td>\n",
       "      <td>1.000000</td>\n",
       "      <td>1.000000</td>\n",
       "      <td>0.000000</td>\n",
       "      <td>73.00000</td>\n",
       "      <td>1910.000000</td>\n",
       "      <td>-37.919200</td>\n",
       "      <td>144.868480</td>\n",
       "      <td>2674.000000</td>\n",
       "    </tr>\n",
       "    <tr>\n",
       "      <th>20%</th>\n",
       "      <td>2.000000</td>\n",
       "      <td>5.946000e+05</td>\n",
       "      <td>5.600000</td>\n",
       "      <td>3042.000000</td>\n",
       "      <td>2.000000</td>\n",
       "      <td>1.000000</td>\n",
       "      <td>1.000000</td>\n",
       "      <td>179.000000</td>\n",
       "      <td>94.00000</td>\n",
       "      <td>1930.000000</td>\n",
       "      <td>-37.878900</td>\n",
       "      <td>144.912190</td>\n",
       "      <td>3650.000000</td>\n",
       "    </tr>\n",
       "    <tr>\n",
       "      <th>30%</th>\n",
       "      <td>3.000000</td>\n",
       "      <td>6.780000e+05</td>\n",
       "      <td>7.300000</td>\n",
       "      <td>3058.000000</td>\n",
       "      <td>3.000000</td>\n",
       "      <td>1.000000</td>\n",
       "      <td>1.000000</td>\n",
       "      <td>276.000000</td>\n",
       "      <td>109.00000</td>\n",
       "      <td>1950.000000</td>\n",
       "      <td>-37.852200</td>\n",
       "      <td>144.953790</td>\n",
       "      <td>4836.000000</td>\n",
       "    </tr>\n",
       "    <tr>\n",
       "      <th>40%</th>\n",
       "      <td>3.000000</td>\n",
       "      <td>7.700000e+05</td>\n",
       "      <td>8.500000</td>\n",
       "      <td>3073.000000</td>\n",
       "      <td>3.000000</td>\n",
       "      <td>1.000000</td>\n",
       "      <td>1.000000</td>\n",
       "      <td>385.000000</td>\n",
       "      <td>121.00000</td>\n",
       "      <td>1960.000000</td>\n",
       "      <td>-37.830930</td>\n",
       "      <td>144.988410</td>\n",
       "      <td>5556.000000</td>\n",
       "    </tr>\n",
       "    <tr>\n",
       "      <th>50%</th>\n",
       "      <td>3.000000</td>\n",
       "      <td>8.700000e+05</td>\n",
       "      <td>10.300000</td>\n",
       "      <td>3103.000000</td>\n",
       "      <td>3.000000</td>\n",
       "      <td>2.000000</td>\n",
       "      <td>2.000000</td>\n",
       "      <td>521.000000</td>\n",
       "      <td>136.00000</td>\n",
       "      <td>1970.000000</td>\n",
       "      <td>-37.807600</td>\n",
       "      <td>145.007800</td>\n",
       "      <td>6763.000000</td>\n",
       "    </tr>\n",
       "    <tr>\n",
       "      <th>60%</th>\n",
       "      <td>3.000000</td>\n",
       "      <td>1.000000e+06</td>\n",
       "      <td>11.400000</td>\n",
       "      <td>3125.000000</td>\n",
       "      <td>3.000000</td>\n",
       "      <td>2.000000</td>\n",
       "      <td>2.000000</td>\n",
       "      <td>587.000000</td>\n",
       "      <td>153.00000</td>\n",
       "      <td>1980.000000</td>\n",
       "      <td>-37.786780</td>\n",
       "      <td>145.032920</td>\n",
       "      <td>7809.000000</td>\n",
       "    </tr>\n",
       "    <tr>\n",
       "      <th>70%</th>\n",
       "      <td>3.000000</td>\n",
       "      <td>1.200000e+06</td>\n",
       "      <td>13.400000</td>\n",
       "      <td>3146.000000</td>\n",
       "      <td>4.000000</td>\n",
       "      <td>2.000000</td>\n",
       "      <td>2.000000</td>\n",
       "      <td>648.000000</td>\n",
       "      <td>175.00000</td>\n",
       "      <td>1993.000000</td>\n",
       "      <td>-37.765620</td>\n",
       "      <td>145.057570</td>\n",
       "      <td>8989.000000</td>\n",
       "    </tr>\n",
       "    <tr>\n",
       "      <th>80%</th>\n",
       "      <td>4.000000</td>\n",
       "      <td>1.400000e+06</td>\n",
       "      <td>14.800000</td>\n",
       "      <td>3168.000000</td>\n",
       "      <td>4.000000</td>\n",
       "      <td>2.000000</td>\n",
       "      <td>2.000000</td>\n",
       "      <td>702.000000</td>\n",
       "      <td>204.00000</td>\n",
       "      <td>2003.000000</td>\n",
       "      <td>-37.740300</td>\n",
       "      <td>145.087450</td>\n",
       "      <td>10969.000000</td>\n",
       "    </tr>\n",
       "    <tr>\n",
       "      <th>90%</th>\n",
       "      <td>4.000000</td>\n",
       "      <td>1.800000e+06</td>\n",
       "      <td>19.900000</td>\n",
       "      <td>3190.000000</td>\n",
       "      <td>4.000000</td>\n",
       "      <td>2.000000</td>\n",
       "      <td>3.000000</td>\n",
       "      <td>824.000000</td>\n",
       "      <td>258.00000</td>\n",
       "      <td>2010.000000</td>\n",
       "      <td>-37.706800</td>\n",
       "      <td>145.136680</td>\n",
       "      <td>14577.000000</td>\n",
       "    </tr>\n",
       "    <tr>\n",
       "      <th>max</th>\n",
       "      <td>16.000000</td>\n",
       "      <td>1.120000e+07</td>\n",
       "      <td>48.100000</td>\n",
       "      <td>3978.000000</td>\n",
       "      <td>30.000000</td>\n",
       "      <td>12.000000</td>\n",
       "      <td>26.000000</td>\n",
       "      <td>433014.000000</td>\n",
       "      <td>44515.00000</td>\n",
       "      <td>2106.000000</td>\n",
       "      <td>-37.390200</td>\n",
       "      <td>145.526350</td>\n",
       "      <td>21650.000000</td>\n",
       "    </tr>\n",
       "  </tbody>\n",
       "</table>\n",
       "</div>"
      ],
      "text/plain": [
       "              Rooms         Price      Distance      Postcode      Bedroom2  \\\n",
       "count  34857.000000  2.724700e+04  34856.000000  34856.000000  26640.000000   \n",
       "mean       3.031012  1.050173e+06     11.184929   3116.062859      3.084647   \n",
       "std        0.969933  6.414671e+05      6.788892    109.023903      0.980690   \n",
       "min        1.000000  8.500000e+04      0.000000   3000.000000      0.000000   \n",
       "10%        2.000000  4.853000e+05      3.800000   3024.000000      2.000000   \n",
       "20%        2.000000  5.946000e+05      5.600000   3042.000000      2.000000   \n",
       "30%        3.000000  6.780000e+05      7.300000   3058.000000      3.000000   \n",
       "40%        3.000000  7.700000e+05      8.500000   3073.000000      3.000000   \n",
       "50%        3.000000  8.700000e+05     10.300000   3103.000000      3.000000   \n",
       "60%        3.000000  1.000000e+06     11.400000   3125.000000      3.000000   \n",
       "70%        3.000000  1.200000e+06     13.400000   3146.000000      4.000000   \n",
       "80%        4.000000  1.400000e+06     14.800000   3168.000000      4.000000   \n",
       "90%        4.000000  1.800000e+06     19.900000   3190.000000      4.000000   \n",
       "max       16.000000  1.120000e+07     48.100000   3978.000000     30.000000   \n",
       "\n",
       "           Bathroom           Car       Landsize  BuildingArea     YearBuilt  \\\n",
       "count  26631.000000  26129.000000   23047.000000   13742.00000  15551.000000   \n",
       "mean       1.624798      1.728845     593.598993     160.25640   1965.289885   \n",
       "std        0.724212      1.010771    3398.841946     401.26706     37.328178   \n",
       "min        0.000000      0.000000       0.000000       0.00000   1196.000000   \n",
       "10%        1.000000      1.000000       0.000000      73.00000   1910.000000   \n",
       "20%        1.000000      1.000000     179.000000      94.00000   1930.000000   \n",
       "30%        1.000000      1.000000     276.000000     109.00000   1950.000000   \n",
       "40%        1.000000      1.000000     385.000000     121.00000   1960.000000   \n",
       "50%        2.000000      2.000000     521.000000     136.00000   1970.000000   \n",
       "60%        2.000000      2.000000     587.000000     153.00000   1980.000000   \n",
       "70%        2.000000      2.000000     648.000000     175.00000   1993.000000   \n",
       "80%        2.000000      2.000000     702.000000     204.00000   2003.000000   \n",
       "90%        2.000000      3.000000     824.000000     258.00000   2010.000000   \n",
       "max       12.000000     26.000000  433014.000000   44515.00000   2106.000000   \n",
       "\n",
       "          Lattitude    Longtitude  Propertycount  \n",
       "count  26881.000000  26881.000000   34854.000000  \n",
       "mean     -37.810634    145.001851    7572.888306  \n",
       "std        0.090279      0.120169    4428.090313  \n",
       "min      -38.190430    144.423790      83.000000  \n",
       "10%      -37.919200    144.868480    2674.000000  \n",
       "20%      -37.878900    144.912190    3650.000000  \n",
       "30%      -37.852200    144.953790    4836.000000  \n",
       "40%      -37.830930    144.988410    5556.000000  \n",
       "50%      -37.807600    145.007800    6763.000000  \n",
       "60%      -37.786780    145.032920    7809.000000  \n",
       "70%      -37.765620    145.057570    8989.000000  \n",
       "80%      -37.740300    145.087450   10969.000000  \n",
       "90%      -37.706800    145.136680   14577.000000  \n",
       "max      -37.390200    145.526350   21650.000000  "
      ]
     },
     "execution_count": 76,
     "metadata": {},
     "output_type": "execute_result"
    }
   ],
   "source": [
    "data.describe(np.arange(.1,1,.1))"
   ]
  },
  {
   "cell_type": "code",
   "execution_count": 77,
   "metadata": {
    "ExecuteTime": {
     "end_time": "2022-03-19T17:11:05.585040Z",
     "start_time": "2022-03-19T17:11:04.412777Z"
    }
   },
   "outputs": [
    {
     "data": {
      "text/plain": [
       "<AxesSubplot:>"
      ]
     },
     "execution_count": 77,
     "metadata": {},
     "output_type": "execute_result"
    },
    {
     "data": {
      "image/png": "[encoded data removed]",
      "text/plain": [
       "<Figure size 1728x720 with 3 Axes>"
      ]
     },
     "metadata": {
      "needs_background": "light"
     },
     "output_type": "display_data"
    }
   ],
   "source": [
    "msno.bar(data)"
   ]
  },
  {
   "cell_type": "code",
   "execution_count": 78,
   "metadata": {
    "ExecuteTime": {
     "end_time": "2022-03-19T17:11:23.540018Z",
     "start_time": "2022-03-19T17:11:23.521113Z"
    }
   },
   "outputs": [
    {
     "data": {
      "text/html": [
       "<div>\n",
       "<style scoped>\n",
       "    .dataframe tbody tr th:only-of-type {\n",
       "        vertical-align: middle;\n",
       "    }\n",
       "\n",
       "    .dataframe tbody tr th {\n",
       "        vertical-align: top;\n",
       "    }\n",
       "\n",
       "    .dataframe thead th {\n",
       "        text-align: right;\n",
       "    }\n",
       "</style>\n",
       "<table border=\"1\" class=\"dataframe\">\n",
       "  <thead>\n",
       "    <tr style=\"text-align: right;\">\n",
       "      <th></th>\n",
       "      <th>Bedroom2</th>\n",
       "      <th>Rooms</th>\n",
       "    </tr>\n",
       "  </thead>\n",
       "  <tbody>\n",
       "    <tr>\n",
       "      <th>0</th>\n",
       "      <td>2.0</td>\n",
       "      <td>2</td>\n",
       "    </tr>\n",
       "    <tr>\n",
       "      <th>1</th>\n",
       "      <td>2.0</td>\n",
       "      <td>2</td>\n",
       "    </tr>\n",
       "    <tr>\n",
       "      <th>2</th>\n",
       "      <td>2.0</td>\n",
       "      <td>2</td>\n",
       "    </tr>\n",
       "    <tr>\n",
       "      <th>3</th>\n",
       "      <td>3.0</td>\n",
       "      <td>3</td>\n",
       "    </tr>\n",
       "    <tr>\n",
       "      <th>4</th>\n",
       "      <td>3.0</td>\n",
       "      <td>3</td>\n",
       "    </tr>\n",
       "    <tr>\n",
       "      <th>...</th>\n",
       "      <td>...</td>\n",
       "      <td>...</td>\n",
       "    </tr>\n",
       "    <tr>\n",
       "      <th>34852</th>\n",
       "      <td>4.0</td>\n",
       "      <td>4</td>\n",
       "    </tr>\n",
       "    <tr>\n",
       "      <th>34853</th>\n",
       "      <td>2.0</td>\n",
       "      <td>2</td>\n",
       "    </tr>\n",
       "    <tr>\n",
       "      <th>34854</th>\n",
       "      <td>2.0</td>\n",
       "      <td>2</td>\n",
       "    </tr>\n",
       "    <tr>\n",
       "      <th>34855</th>\n",
       "      <td>NaN</td>\n",
       "      <td>3</td>\n",
       "    </tr>\n",
       "    <tr>\n",
       "      <th>34856</th>\n",
       "      <td>2.0</td>\n",
       "      <td>2</td>\n",
       "    </tr>\n",
       "  </tbody>\n",
       "</table>\n",
       "<p>34857 rows × 2 columns</p>\n",
       "</div>"
      ],
      "text/plain": [
       "       Bedroom2  Rooms\n",
       "0           2.0      2\n",
       "1           2.0      2\n",
       "2           2.0      2\n",
       "3           3.0      3\n",
       "4           3.0      3\n",
       "...         ...    ...\n",
       "34852       4.0      4\n",
       "34853       2.0      2\n",
       "34854       2.0      2\n",
       "34855       NaN      3\n",
       "34856       2.0      2\n",
       "\n",
       "[34857 rows x 2 columns]"
      ]
     },
     "execution_count": 78,
     "metadata": {},
     "output_type": "execute_result"
    }
   ],
   "source": [
    "data[['Bedroom2','Rooms']]"
   ]
  },
  {
   "cell_type": "code",
   "execution_count": 79,
   "metadata": {
    "ExecuteTime": {
     "end_time": "2022-03-19T17:11:44.679314Z",
     "start_time": "2022-03-19T17:11:44.668969Z"
    }
   },
   "outputs": [
    {
     "data": {
      "text/plain": [
       "0"
      ]
     },
     "execution_count": 79,
     "metadata": {},
     "output_type": "execute_result"
    }
   ],
   "source": [
    "data['Rooms'].isnull().sum()"
   ]
  },
  {
   "cell_type": "code",
   "execution_count": 80,
   "metadata": {
    "ExecuteTime": {
     "end_time": "2022-03-19T17:11:48.071395Z",
     "start_time": "2022-03-19T17:11:48.057745Z"
    }
   },
   "outputs": [
    {
     "data": {
      "text/plain": [
       "8217"
      ]
     },
     "execution_count": 80,
     "metadata": {},
     "output_type": "execute_result"
    }
   ],
   "source": [
    "data['Bedroom2'].isnull().sum()"
   ]
  },
  {
   "cell_type": "code",
   "execution_count": 81,
   "metadata": {
    "ExecuteTime": {
     "end_time": "2022-03-19T17:11:53.057906Z",
     "start_time": "2022-03-19T17:11:52.966036Z"
    },
    "scrolled": true
   },
   "outputs": [
    {
     "data": {
      "text/html": [
       "<div>\n",
       "<style scoped>\n",
       "    .dataframe tbody tr th:only-of-type {\n",
       "        vertical-align: middle;\n",
       "    }\n",
       "\n",
       "    .dataframe tbody tr th {\n",
       "        vertical-align: top;\n",
       "    }\n",
       "\n",
       "    .dataframe thead th {\n",
       "        text-align: right;\n",
       "    }\n",
       "</style>\n",
       "<table border=\"1\" class=\"dataframe\">\n",
       "  <thead>\n",
       "    <tr style=\"text-align: right;\">\n",
       "      <th></th>\n",
       "      <th>Suburb</th>\n",
       "      <th>Address</th>\n",
       "      <th>Rooms</th>\n",
       "      <th>Type</th>\n",
       "      <th>Price</th>\n",
       "      <th>Method</th>\n",
       "      <th>SellerG</th>\n",
       "      <th>Date</th>\n",
       "      <th>Distance</th>\n",
       "      <th>Postcode</th>\n",
       "      <th>Bedroom2</th>\n",
       "      <th>Bathroom</th>\n",
       "      <th>Car</th>\n",
       "      <th>Landsize</th>\n",
       "      <th>BuildingArea</th>\n",
       "      <th>YearBuilt</th>\n",
       "      <th>CouncilArea</th>\n",
       "      <th>Lattitude</th>\n",
       "      <th>Longtitude</th>\n",
       "      <th>Regionname</th>\n",
       "      <th>Propertycount</th>\n",
       "    </tr>\n",
       "  </thead>\n",
       "  <tbody>\n",
       "    <tr>\n",
       "      <th>0</th>\n",
       "      <td>Abbotsford</td>\n",
       "      <td>68 Studley St</td>\n",
       "      <td>2</td>\n",
       "      <td>h</td>\n",
       "      <td>NaN</td>\n",
       "      <td>SS</td>\n",
       "      <td>Jellis</td>\n",
       "      <td>3/09/2016</td>\n",
       "      <td>2.5</td>\n",
       "      <td>3067.0</td>\n",
       "      <td>2.0</td>\n",
       "      <td>1.0</td>\n",
       "      <td>1.0</td>\n",
       "      <td>126.0</td>\n",
       "      <td>NaN</td>\n",
       "      <td>NaN</td>\n",
       "      <td>Yarra City Council</td>\n",
       "      <td>-37.80140</td>\n",
       "      <td>144.99580</td>\n",
       "      <td>Northern Metropolitan</td>\n",
       "      <td>4019.0</td>\n",
       "    </tr>\n",
       "    <tr>\n",
       "      <th>1</th>\n",
       "      <td>Abbotsford</td>\n",
       "      <td>85 Turner St</td>\n",
       "      <td>2</td>\n",
       "      <td>h</td>\n",
       "      <td>1480000.0</td>\n",
       "      <td>S</td>\n",
       "      <td>Biggin</td>\n",
       "      <td>3/12/2016</td>\n",
       "      <td>2.5</td>\n",
       "      <td>3067.0</td>\n",
       "      <td>2.0</td>\n",
       "      <td>1.0</td>\n",
       "      <td>1.0</td>\n",
       "      <td>202.0</td>\n",
       "      <td>NaN</td>\n",
       "      <td>NaN</td>\n",
       "      <td>Yarra City Council</td>\n",
       "      <td>-37.79960</td>\n",
       "      <td>144.99840</td>\n",
       "      <td>Northern Metropolitan</td>\n",
       "      <td>4019.0</td>\n",
       "    </tr>\n",
       "    <tr>\n",
       "      <th>2</th>\n",
       "      <td>Abbotsford</td>\n",
       "      <td>25 Bloomburg St</td>\n",
       "      <td>2</td>\n",
       "      <td>h</td>\n",
       "      <td>1035000.0</td>\n",
       "      <td>S</td>\n",
       "      <td>Biggin</td>\n",
       "      <td>4/02/2016</td>\n",
       "      <td>2.5</td>\n",
       "      <td>3067.0</td>\n",
       "      <td>2.0</td>\n",
       "      <td>1.0</td>\n",
       "      <td>0.0</td>\n",
       "      <td>156.0</td>\n",
       "      <td>79.0</td>\n",
       "      <td>1900.0</td>\n",
       "      <td>Yarra City Council</td>\n",
       "      <td>-37.80790</td>\n",
       "      <td>144.99340</td>\n",
       "      <td>Northern Metropolitan</td>\n",
       "      <td>4019.0</td>\n",
       "    </tr>\n",
       "    <tr>\n",
       "      <th>3</th>\n",
       "      <td>Abbotsford</td>\n",
       "      <td>18/659 Victoria St</td>\n",
       "      <td>3</td>\n",
       "      <td>u</td>\n",
       "      <td>NaN</td>\n",
       "      <td>VB</td>\n",
       "      <td>Rounds</td>\n",
       "      <td>4/02/2016</td>\n",
       "      <td>2.5</td>\n",
       "      <td>3067.0</td>\n",
       "      <td>3.0</td>\n",
       "      <td>2.0</td>\n",
       "      <td>1.0</td>\n",
       "      <td>0.0</td>\n",
       "      <td>NaN</td>\n",
       "      <td>NaN</td>\n",
       "      <td>Yarra City Council</td>\n",
       "      <td>-37.81140</td>\n",
       "      <td>145.01160</td>\n",
       "      <td>Northern Metropolitan</td>\n",
       "      <td>4019.0</td>\n",
       "    </tr>\n",
       "    <tr>\n",
       "      <th>4</th>\n",
       "      <td>Abbotsford</td>\n",
       "      <td>5 Charles St</td>\n",
       "      <td>3</td>\n",
       "      <td>h</td>\n",
       "      <td>1465000.0</td>\n",
       "      <td>SP</td>\n",
       "      <td>Biggin</td>\n",
       "      <td>4/03/2017</td>\n",
       "      <td>2.5</td>\n",
       "      <td>3067.0</td>\n",
       "      <td>3.0</td>\n",
       "      <td>2.0</td>\n",
       "      <td>0.0</td>\n",
       "      <td>134.0</td>\n",
       "      <td>150.0</td>\n",
       "      <td>1900.0</td>\n",
       "      <td>Yarra City Council</td>\n",
       "      <td>-37.80930</td>\n",
       "      <td>144.99440</td>\n",
       "      <td>Northern Metropolitan</td>\n",
       "      <td>4019.0</td>\n",
       "    </tr>\n",
       "    <tr>\n",
       "      <th>...</th>\n",
       "      <td>...</td>\n",
       "      <td>...</td>\n",
       "      <td>...</td>\n",
       "      <td>...</td>\n",
       "      <td>...</td>\n",
       "      <td>...</td>\n",
       "      <td>...</td>\n",
       "      <td>...</td>\n",
       "      <td>...</td>\n",
       "      <td>...</td>\n",
       "      <td>...</td>\n",
       "      <td>...</td>\n",
       "      <td>...</td>\n",
       "      <td>...</td>\n",
       "      <td>...</td>\n",
       "      <td>...</td>\n",
       "      <td>...</td>\n",
       "      <td>...</td>\n",
       "      <td>...</td>\n",
       "      <td>...</td>\n",
       "      <td>...</td>\n",
       "    </tr>\n",
       "    <tr>\n",
       "      <th>34851</th>\n",
       "      <td>Yarraville</td>\n",
       "      <td>78 Bayview Rd</td>\n",
       "      <td>3</td>\n",
       "      <td>h</td>\n",
       "      <td>1101000.0</td>\n",
       "      <td>S</td>\n",
       "      <td>Jas</td>\n",
       "      <td>24/02/2018</td>\n",
       "      <td>6.3</td>\n",
       "      <td>3013.0</td>\n",
       "      <td>3.0</td>\n",
       "      <td>1.0</td>\n",
       "      <td>NaN</td>\n",
       "      <td>288.0</td>\n",
       "      <td>NaN</td>\n",
       "      <td>NaN</td>\n",
       "      <td>Maribyrnong City Council</td>\n",
       "      <td>-37.81095</td>\n",
       "      <td>144.88516</td>\n",
       "      <td>Western Metropolitan</td>\n",
       "      <td>6543.0</td>\n",
       "    </tr>\n",
       "    <tr>\n",
       "      <th>34852</th>\n",
       "      <td>Yarraville</td>\n",
       "      <td>13 Burns St</td>\n",
       "      <td>4</td>\n",
       "      <td>h</td>\n",
       "      <td>1480000.0</td>\n",
       "      <td>PI</td>\n",
       "      <td>Jas</td>\n",
       "      <td>24/02/2018</td>\n",
       "      <td>6.3</td>\n",
       "      <td>3013.0</td>\n",
       "      <td>4.0</td>\n",
       "      <td>1.0</td>\n",
       "      <td>3.0</td>\n",
       "      <td>593.0</td>\n",
       "      <td>NaN</td>\n",
       "      <td>NaN</td>\n",
       "      <td>Maribyrnong City Council</td>\n",
       "      <td>-37.81053</td>\n",
       "      <td>144.88467</td>\n",
       "      <td>Western Metropolitan</td>\n",
       "      <td>6543.0</td>\n",
       "    </tr>\n",
       "    <tr>\n",
       "      <th>34853</th>\n",
       "      <td>Yarraville</td>\n",
       "      <td>29A Murray St</td>\n",
       "      <td>2</td>\n",
       "      <td>h</td>\n",
       "      <td>888000.0</td>\n",
       "      <td>SP</td>\n",
       "      <td>Sweeney</td>\n",
       "      <td>24/02/2018</td>\n",
       "      <td>6.3</td>\n",
       "      <td>3013.0</td>\n",
       "      <td>2.0</td>\n",
       "      <td>2.0</td>\n",
       "      <td>1.0</td>\n",
       "      <td>98.0</td>\n",
       "      <td>104.0</td>\n",
       "      <td>2018.0</td>\n",
       "      <td>Maribyrnong City Council</td>\n",
       "      <td>-37.81551</td>\n",
       "      <td>144.88826</td>\n",
       "      <td>Western Metropolitan</td>\n",
       "      <td>6543.0</td>\n",
       "    </tr>\n",
       "    <tr>\n",
       "      <th>34854</th>\n",
       "      <td>Yarraville</td>\n",
       "      <td>147A Severn St</td>\n",
       "      <td>2</td>\n",
       "      <td>t</td>\n",
       "      <td>705000.0</td>\n",
       "      <td>S</td>\n",
       "      <td>Jas</td>\n",
       "      <td>24/02/2018</td>\n",
       "      <td>6.3</td>\n",
       "      <td>3013.0</td>\n",
       "      <td>2.0</td>\n",
       "      <td>1.0</td>\n",
       "      <td>2.0</td>\n",
       "      <td>220.0</td>\n",
       "      <td>120.0</td>\n",
       "      <td>2000.0</td>\n",
       "      <td>Maribyrnong City Council</td>\n",
       "      <td>-37.82286</td>\n",
       "      <td>144.87856</td>\n",
       "      <td>Western Metropolitan</td>\n",
       "      <td>6543.0</td>\n",
       "    </tr>\n",
       "    <tr>\n",
       "      <th>34856</th>\n",
       "      <td>Yarraville</td>\n",
       "      <td>3 Tarrengower St</td>\n",
       "      <td>2</td>\n",
       "      <td>h</td>\n",
       "      <td>1020000.0</td>\n",
       "      <td>PI</td>\n",
       "      <td>RW</td>\n",
       "      <td>24/02/2018</td>\n",
       "      <td>6.3</td>\n",
       "      <td>3013.0</td>\n",
       "      <td>2.0</td>\n",
       "      <td>1.0</td>\n",
       "      <td>0.0</td>\n",
       "      <td>250.0</td>\n",
       "      <td>103.0</td>\n",
       "      <td>1930.0</td>\n",
       "      <td>Maribyrnong City Council</td>\n",
       "      <td>-37.81810</td>\n",
       "      <td>144.89351</td>\n",
       "      <td>Western Metropolitan</td>\n",
       "      <td>6543.0</td>\n",
       "    </tr>\n",
       "  </tbody>\n",
       "</table>\n",
       "<p>25692 rows × 21 columns</p>\n",
       "</div>"
      ],
      "text/plain": [
       "           Suburb             Address  Rooms Type      Price Method  SellerG  \\\n",
       "0      Abbotsford       68 Studley St      2    h        NaN     SS   Jellis   \n",
       "1      Abbotsford        85 Turner St      2    h  1480000.0      S   Biggin   \n",
       "2      Abbotsford     25 Bloomburg St      2    h  1035000.0      S   Biggin   \n",
       "3      Abbotsford  18/659 Victoria St      3    u        NaN     VB   Rounds   \n",
       "4      Abbotsford        5 Charles St      3    h  1465000.0     SP   Biggin   \n",
       "...           ...                 ...    ...  ...        ...    ...      ...   \n",
       "34851  Yarraville       78 Bayview Rd      3    h  1101000.0      S      Jas   \n",
       "34852  Yarraville         13 Burns St      4    h  1480000.0     PI      Jas   \n",
       "34853  Yarraville       29A Murray St      2    h   888000.0     SP  Sweeney   \n",
       "34854  Yarraville      147A Severn St      2    t   705000.0      S      Jas   \n",
       "34856  Yarraville    3 Tarrengower St      2    h  1020000.0     PI       RW   \n",
       "\n",
       "             Date  Distance  Postcode  Bedroom2  Bathroom  Car  Landsize  \\\n",
       "0       3/09/2016       2.5    3067.0       2.0       1.0  1.0     126.0   \n",
       "1       3/12/2016       2.5    3067.0       2.0       1.0  1.0     202.0   \n",
       "2       4/02/2016       2.5    3067.0       2.0       1.0  0.0     156.0   \n",
       "3       4/02/2016       2.5    3067.0       3.0       2.0  1.0       0.0   \n",
       "4       4/03/2017       2.5    3067.0       3.0       2.0  0.0     134.0   \n",
       "...           ...       ...       ...       ...       ...  ...       ...   \n",
       "34851  24/02/2018       6.3    3013.0       3.0       1.0  NaN     288.0   \n",
       "34852  24/02/2018       6.3    3013.0       4.0       1.0  3.0     593.0   \n",
       "34853  24/02/2018       6.3    3013.0       2.0       2.0  1.0      98.0   \n",
       "34854  24/02/2018       6.3    3013.0       2.0       1.0  2.0     220.0   \n",
       "34856  24/02/2018       6.3    3013.0       2.0       1.0  0.0     250.0   \n",
       "\n",
       "       BuildingArea  YearBuilt               CouncilArea  Lattitude  \\\n",
       "0               NaN        NaN        Yarra City Council  -37.80140   \n",
       "1               NaN        NaN        Yarra City Council  -37.79960   \n",
       "2              79.0     1900.0        Yarra City Council  -37.80790   \n",
       "3               NaN        NaN        Yarra City Council  -37.81140   \n",
       "4             150.0     1900.0        Yarra City Council  -37.80930   \n",
       "...             ...        ...                       ...        ...   \n",
       "34851           NaN        NaN  Maribyrnong City Council  -37.81095   \n",
       "34852           NaN        NaN  Maribyrnong City Council  -37.81053   \n",
       "34853         104.0     2018.0  Maribyrnong City Council  -37.81551   \n",
       "34854         120.0     2000.0  Maribyrnong City Council  -37.82286   \n",
       "34856         103.0     1930.0  Maribyrnong City Council  -37.81810   \n",
       "\n",
       "       Longtitude             Regionname  Propertycount  \n",
       "0       144.99580  Northern Metropolitan         4019.0  \n",
       "1       144.99840  Northern Metropolitan         4019.0  \n",
       "2       144.99340  Northern Metropolitan         4019.0  \n",
       "3       145.01160  Northern Metropolitan         4019.0  \n",
       "4       144.99440  Northern Metropolitan         4019.0  \n",
       "...           ...                    ...            ...  \n",
       "34851   144.88516   Western Metropolitan         6543.0  \n",
       "34852   144.88467   Western Metropolitan         6543.0  \n",
       "34853   144.88826   Western Metropolitan         6543.0  \n",
       "34854   144.87856   Western Metropolitan         6543.0  \n",
       "34856   144.89351   Western Metropolitan         6543.0  \n",
       "\n",
       "[25692 rows x 21 columns]"
      ]
     },
     "execution_count": 81,
     "metadata": {},
     "output_type": "execute_result"
    }
   ],
   "source": [
    "data[data['Rooms']==data['Bedroom2']]"
   ]
  },
  {
   "cell_type": "code",
   "execution_count": 82,
   "metadata": {
    "ExecuteTime": {
     "end_time": "2022-03-19T17:12:11.502299Z",
     "start_time": "2022-03-19T17:12:11.469823Z"
    }
   },
   "outputs": [],
   "source": [
    "data.drop(columns=['Bedroom2'],inplace=True)"
   ]
  },
  {
   "cell_type": "code",
   "execution_count": 83,
   "metadata": {
    "ExecuteTime": {
     "end_time": "2022-03-19T17:12:14.990261Z",
     "start_time": "2022-03-19T17:12:14.839116Z"
    }
   },
   "outputs": [
    {
     "data": {
      "text/html": [
       "<div>\n",
       "<style scoped>\n",
       "    .dataframe tbody tr th:only-of-type {\n",
       "        vertical-align: middle;\n",
       "    }\n",
       "\n",
       "    .dataframe tbody tr th {\n",
       "        vertical-align: top;\n",
       "    }\n",
       "\n",
       "    .dataframe thead th {\n",
       "        text-align: right;\n",
       "    }\n",
       "</style>\n",
       "<table border=\"1\" class=\"dataframe\">\n",
       "  <thead>\n",
       "    <tr style=\"text-align: right;\">\n",
       "      <th></th>\n",
       "      <th>Rooms</th>\n",
       "      <th>Price</th>\n",
       "      <th>Distance</th>\n",
       "      <th>Postcode</th>\n",
       "      <th>Bathroom</th>\n",
       "      <th>Car</th>\n",
       "      <th>Landsize</th>\n",
       "      <th>BuildingArea</th>\n",
       "      <th>YearBuilt</th>\n",
       "      <th>Lattitude</th>\n",
       "      <th>Longtitude</th>\n",
       "      <th>Propertycount</th>\n",
       "    </tr>\n",
       "  </thead>\n",
       "  <tbody>\n",
       "    <tr>\n",
       "      <th>count</th>\n",
       "      <td>34857.000000</td>\n",
       "      <td>2.724700e+04</td>\n",
       "      <td>34856.000000</td>\n",
       "      <td>34856.000000</td>\n",
       "      <td>26631.000000</td>\n",
       "      <td>26129.000000</td>\n",
       "      <td>23047.000000</td>\n",
       "      <td>13742.00000</td>\n",
       "      <td>15551.000000</td>\n",
       "      <td>26881.000000</td>\n",
       "      <td>26881.000000</td>\n",
       "      <td>34854.000000</td>\n",
       "    </tr>\n",
       "    <tr>\n",
       "      <th>mean</th>\n",
       "      <td>3.031012</td>\n",
       "      <td>1.050173e+06</td>\n",
       "      <td>11.184929</td>\n",
       "      <td>3116.062859</td>\n",
       "      <td>1.624798</td>\n",
       "      <td>1.728845</td>\n",
       "      <td>593.598993</td>\n",
       "      <td>160.25640</td>\n",
       "      <td>1965.289885</td>\n",
       "      <td>-37.810634</td>\n",
       "      <td>145.001851</td>\n",
       "      <td>7572.888306</td>\n",
       "    </tr>\n",
       "    <tr>\n",
       "      <th>std</th>\n",
       "      <td>0.969933</td>\n",
       "      <td>6.414671e+05</td>\n",
       "      <td>6.788892</td>\n",
       "      <td>109.023903</td>\n",
       "      <td>0.724212</td>\n",
       "      <td>1.010771</td>\n",
       "      <td>3398.841946</td>\n",
       "      <td>401.26706</td>\n",
       "      <td>37.328178</td>\n",
       "      <td>0.090279</td>\n",
       "      <td>0.120169</td>\n",
       "      <td>4428.090313</td>\n",
       "    </tr>\n",
       "    <tr>\n",
       "      <th>min</th>\n",
       "      <td>1.000000</td>\n",
       "      <td>8.500000e+04</td>\n",
       "      <td>0.000000</td>\n",
       "      <td>3000.000000</td>\n",
       "      <td>0.000000</td>\n",
       "      <td>0.000000</td>\n",
       "      <td>0.000000</td>\n",
       "      <td>0.00000</td>\n",
       "      <td>1196.000000</td>\n",
       "      <td>-38.190430</td>\n",
       "      <td>144.423790</td>\n",
       "      <td>83.000000</td>\n",
       "    </tr>\n",
       "    <tr>\n",
       "      <th>10%</th>\n",
       "      <td>2.000000</td>\n",
       "      <td>4.853000e+05</td>\n",
       "      <td>3.800000</td>\n",
       "      <td>3024.000000</td>\n",
       "      <td>1.000000</td>\n",
       "      <td>1.000000</td>\n",
       "      <td>0.000000</td>\n",
       "      <td>73.00000</td>\n",
       "      <td>1910.000000</td>\n",
       "      <td>-37.919200</td>\n",
       "      <td>144.868480</td>\n",
       "      <td>2674.000000</td>\n",
       "    </tr>\n",
       "    <tr>\n",
       "      <th>20%</th>\n",
       "      <td>2.000000</td>\n",
       "      <td>5.946000e+05</td>\n",
       "      <td>5.600000</td>\n",
       "      <td>3042.000000</td>\n",
       "      <td>1.000000</td>\n",
       "      <td>1.000000</td>\n",
       "      <td>179.000000</td>\n",
       "      <td>94.00000</td>\n",
       "      <td>1930.000000</td>\n",
       "      <td>-37.878900</td>\n",
       "      <td>144.912190</td>\n",
       "      <td>3650.000000</td>\n",
       "    </tr>\n",
       "    <tr>\n",
       "      <th>30%</th>\n",
       "      <td>3.000000</td>\n",
       "      <td>6.780000e+05</td>\n",
       "      <td>7.300000</td>\n",
       "      <td>3058.000000</td>\n",
       "      <td>1.000000</td>\n",
       "      <td>1.000000</td>\n",
       "      <td>276.000000</td>\n",
       "      <td>109.00000</td>\n",
       "      <td>1950.000000</td>\n",
       "      <td>-37.852200</td>\n",
       "      <td>144.953790</td>\n",
       "      <td>4836.000000</td>\n",
       "    </tr>\n",
       "    <tr>\n",
       "      <th>40%</th>\n",
       "      <td>3.000000</td>\n",
       "      <td>7.700000e+05</td>\n",
       "      <td>8.500000</td>\n",
       "      <td>3073.000000</td>\n",
       "      <td>1.000000</td>\n",
       "      <td>1.000000</td>\n",
       "      <td>385.000000</td>\n",
       "      <td>121.00000</td>\n",
       "      <td>1960.000000</td>\n",
       "      <td>-37.830930</td>\n",
       "      <td>144.988410</td>\n",
       "      <td>5556.000000</td>\n",
       "    </tr>\n",
       "    <tr>\n",
       "      <th>50%</th>\n",
       "      <td>3.000000</td>\n",
       "      <td>8.700000e+05</td>\n",
       "      <td>10.300000</td>\n",
       "      <td>3103.000000</td>\n",
       "      <td>2.000000</td>\n",
       "      <td>2.000000</td>\n",
       "      <td>521.000000</td>\n",
       "      <td>136.00000</td>\n",
       "      <td>1970.000000</td>\n",
       "      <td>-37.807600</td>\n",
       "      <td>145.007800</td>\n",
       "      <td>6763.000000</td>\n",
       "    </tr>\n",
       "    <tr>\n",
       "      <th>60%</th>\n",
       "      <td>3.000000</td>\n",
       "      <td>1.000000e+06</td>\n",
       "      <td>11.400000</td>\n",
       "      <td>3125.000000</td>\n",
       "      <td>2.000000</td>\n",
       "      <td>2.000000</td>\n",
       "      <td>587.000000</td>\n",
       "      <td>153.00000</td>\n",
       "      <td>1980.000000</td>\n",
       "      <td>-37.786780</td>\n",
       "      <td>145.032920</td>\n",
       "      <td>7809.000000</td>\n",
       "    </tr>\n",
       "    <tr>\n",
       "      <th>70%</th>\n",
       "      <td>3.000000</td>\n",
       "      <td>1.200000e+06</td>\n",
       "      <td>13.400000</td>\n",
       "      <td>3146.000000</td>\n",
       "      <td>2.000000</td>\n",
       "      <td>2.000000</td>\n",
       "      <td>648.000000</td>\n",
       "      <td>175.00000</td>\n",
       "      <td>1993.000000</td>\n",
       "      <td>-37.765620</td>\n",
       "      <td>145.057570</td>\n",
       "      <td>8989.000000</td>\n",
       "    </tr>\n",
       "    <tr>\n",
       "      <th>80%</th>\n",
       "      <td>4.000000</td>\n",
       "      <td>1.400000e+06</td>\n",
       "      <td>14.800000</td>\n",
       "      <td>3168.000000</td>\n",
       "      <td>2.000000</td>\n",
       "      <td>2.000000</td>\n",
       "      <td>702.000000</td>\n",
       "      <td>204.00000</td>\n",
       "      <td>2003.000000</td>\n",
       "      <td>-37.740300</td>\n",
       "      <td>145.087450</td>\n",
       "      <td>10969.000000</td>\n",
       "    </tr>\n",
       "    <tr>\n",
       "      <th>90%</th>\n",
       "      <td>4.000000</td>\n",
       "      <td>1.800000e+06</td>\n",
       "      <td>19.900000</td>\n",
       "      <td>3190.000000</td>\n",
       "      <td>2.000000</td>\n",
       "      <td>3.000000</td>\n",
       "      <td>824.000000</td>\n",
       "      <td>258.00000</td>\n",
       "      <td>2010.000000</td>\n",
       "      <td>-37.706800</td>\n",
       "      <td>145.136680</td>\n",
       "      <td>14577.000000</td>\n",
       "    </tr>\n",
       "    <tr>\n",
       "      <th>max</th>\n",
       "      <td>16.000000</td>\n",
       "      <td>1.120000e+07</td>\n",
       "      <td>48.100000</td>\n",
       "      <td>3978.000000</td>\n",
       "      <td>12.000000</td>\n",
       "      <td>26.000000</td>\n",
       "      <td>433014.000000</td>\n",
       "      <td>44515.00000</td>\n",
       "      <td>2106.000000</td>\n",
       "      <td>-37.390200</td>\n",
       "      <td>145.526350</td>\n",
       "      <td>21650.000000</td>\n",
       "    </tr>\n",
       "  </tbody>\n",
       "</table>\n",
       "</div>"
      ],
      "text/plain": [
       "              Rooms         Price      Distance      Postcode      Bathroom  \\\n",
       "count  34857.000000  2.724700e+04  34856.000000  34856.000000  26631.000000   \n",
       "mean       3.031012  1.050173e+06     11.184929   3116.062859      1.624798   \n",
       "std        0.969933  6.414671e+05      6.788892    109.023903      0.724212   \n",
       "min        1.000000  8.500000e+04      0.000000   3000.000000      0.000000   \n",
       "10%        2.000000  4.853000e+05      3.800000   3024.000000      1.000000   \n",
       "20%        2.000000  5.946000e+05      5.600000   3042.000000      1.000000   \n",
       "30%        3.000000  6.780000e+05      7.300000   3058.000000      1.000000   \n",
       "40%        3.000000  7.700000e+05      8.500000   3073.000000      1.000000   \n",
       "50%        3.000000  8.700000e+05     10.300000   3103.000000      2.000000   \n",
       "60%        3.000000  1.000000e+06     11.400000   3125.000000      2.000000   \n",
       "70%        3.000000  1.200000e+06     13.400000   3146.000000      2.000000   \n",
       "80%        4.000000  1.400000e+06     14.800000   3168.000000      2.000000   \n",
       "90%        4.000000  1.800000e+06     19.900000   3190.000000      2.000000   \n",
       "max       16.000000  1.120000e+07     48.100000   3978.000000     12.000000   \n",
       "\n",
       "                Car       Landsize  BuildingArea     YearBuilt     Lattitude  \\\n",
       "count  26129.000000   23047.000000   13742.00000  15551.000000  26881.000000   \n",
       "mean       1.728845     593.598993     160.25640   1965.289885    -37.810634   \n",
       "std        1.010771    3398.841946     401.26706     37.328178      0.090279   \n",
       "min        0.000000       0.000000       0.00000   1196.000000    -38.190430   \n",
       "10%        1.000000       0.000000      73.00000   1910.000000    -37.919200   \n",
       "20%        1.000000     179.000000      94.00000   1930.000000    -37.878900   \n",
       "30%        1.000000     276.000000     109.00000   1950.000000    -37.852200   \n",
       "40%        1.000000     385.000000     121.00000   1960.000000    -37.830930   \n",
       "50%        2.000000     521.000000     136.00000   1970.000000    -37.807600   \n",
       "60%        2.000000     587.000000     153.00000   1980.000000    -37.786780   \n",
       "70%        2.000000     648.000000     175.00000   1993.000000    -37.765620   \n",
       "80%        2.000000     702.000000     204.00000   2003.000000    -37.740300   \n",
       "90%        3.000000     824.000000     258.00000   2010.000000    -37.706800   \n",
       "max       26.000000  433014.000000   44515.00000   2106.000000    -37.390200   \n",
       "\n",
       "         Longtitude  Propertycount  \n",
       "count  26881.000000   34854.000000  \n",
       "mean     145.001851    7572.888306  \n",
       "std        0.120169    4428.090313  \n",
       "min      144.423790      83.000000  \n",
       "10%      144.868480    2674.000000  \n",
       "20%      144.912190    3650.000000  \n",
       "30%      144.953790    4836.000000  \n",
       "40%      144.988410    5556.000000  \n",
       "50%      145.007800    6763.000000  \n",
       "60%      145.032920    7809.000000  \n",
       "70%      145.057570    8989.000000  \n",
       "80%      145.087450   10969.000000  \n",
       "90%      145.136680   14577.000000  \n",
       "max      145.526350   21650.000000  "
      ]
     },
     "execution_count": 83,
     "metadata": {},
     "output_type": "execute_result"
    }
   ],
   "source": [
    "data.describe(np.arange(.1,1,.1))"
   ]
  },
  {
   "cell_type": "code",
   "execution_count": 84,
   "metadata": {
    "ExecuteTime": {
     "end_time": "2022-03-19T17:12:23.134479Z",
     "start_time": "2022-03-19T17:12:23.067968Z"
    }
   },
   "outputs": [
    {
     "data": {
      "text/html": [
       "<div>\n",
       "<style scoped>\n",
       "    .dataframe tbody tr th:only-of-type {\n",
       "        vertical-align: middle;\n",
       "    }\n",
       "\n",
       "    .dataframe tbody tr th {\n",
       "        vertical-align: top;\n",
       "    }\n",
       "\n",
       "    .dataframe thead th {\n",
       "        text-align: right;\n",
       "    }\n",
       "</style>\n",
       "<table border=\"1\" class=\"dataframe\">\n",
       "  <thead>\n",
       "    <tr style=\"text-align: right;\">\n",
       "      <th></th>\n",
       "      <th>Rooms</th>\n",
       "      <th>Price</th>\n",
       "      <th>Distance</th>\n",
       "      <th>Postcode</th>\n",
       "      <th>Bathroom</th>\n",
       "      <th>Car</th>\n",
       "      <th>Landsize</th>\n",
       "      <th>BuildingArea</th>\n",
       "      <th>YearBuilt</th>\n",
       "      <th>Lattitude</th>\n",
       "      <th>Longtitude</th>\n",
       "      <th>Propertycount</th>\n",
       "    </tr>\n",
       "  </thead>\n",
       "  <tbody>\n",
       "    <tr>\n",
       "      <th>count</th>\n",
       "      <td>2552.000000</td>\n",
       "      <td>1.775000e+03</td>\n",
       "      <td>2552.000000</td>\n",
       "      <td>2552.000000</td>\n",
       "      <td>2552.000000</td>\n",
       "      <td>2543.000000</td>\n",
       "      <td>2193.000000</td>\n",
       "      <td>1519.000000</td>\n",
       "      <td>1649.000000</td>\n",
       "      <td>2546.000000</td>\n",
       "      <td>2546.000000</td>\n",
       "      <td>2552.000000</td>\n",
       "    </tr>\n",
       "    <tr>\n",
       "      <th>mean</th>\n",
       "      <td>4.344436</td>\n",
       "      <td>1.865236e+06</td>\n",
       "      <td>11.508856</td>\n",
       "      <td>3130.472179</td>\n",
       "      <td>3.202586</td>\n",
       "      <td>2.331891</td>\n",
       "      <td>908.873689</td>\n",
       "      <td>303.502210</td>\n",
       "      <td>1972.634324</td>\n",
       "      <td>-37.827554</td>\n",
       "      <td>145.030272</td>\n",
       "      <td>7156.455721</td>\n",
       "    </tr>\n",
       "    <tr>\n",
       "      <th>std</th>\n",
       "      <td>0.919803</td>\n",
       "      <td>1.037451e+06</td>\n",
       "      <td>6.124419</td>\n",
       "      <td>106.059908</td>\n",
       "      <td>0.584748</td>\n",
       "      <td>1.089952</td>\n",
       "      <td>9331.204756</td>\n",
       "      <td>1159.380905</td>\n",
       "      <td>38.886211</td>\n",
       "      <td>0.087561</td>\n",
       "      <td>0.108803</td>\n",
       "      <td>3687.494013</td>\n",
       "    </tr>\n",
       "    <tr>\n",
       "      <th>min</th>\n",
       "      <td>2.000000</td>\n",
       "      <td>4.400000e+05</td>\n",
       "      <td>1.200000</td>\n",
       "      <td>3000.000000</td>\n",
       "      <td>3.000000</td>\n",
       "      <td>0.000000</td>\n",
       "      <td>0.000000</td>\n",
       "      <td>0.000000</td>\n",
       "      <td>1854.000000</td>\n",
       "      <td>-38.184630</td>\n",
       "      <td>144.490000</td>\n",
       "      <td>129.000000</td>\n",
       "    </tr>\n",
       "    <tr>\n",
       "      <th>10%</th>\n",
       "      <td>3.000000</td>\n",
       "      <td>8.472000e+05</td>\n",
       "      <td>5.300000</td>\n",
       "      <td>3038.000000</td>\n",
       "      <td>3.000000</td>\n",
       "      <td>1.000000</td>\n",
       "      <td>270.000000</td>\n",
       "      <td>154.000000</td>\n",
       "      <td>1917.800000</td>\n",
       "      <td>-37.928590</td>\n",
       "      <td>144.891000</td>\n",
       "      <td>2698.000000</td>\n",
       "    </tr>\n",
       "    <tr>\n",
       "      <th>20%</th>\n",
       "      <td>4.000000</td>\n",
       "      <td>1.005000e+06</td>\n",
       "      <td>7.300000</td>\n",
       "      <td>3060.000000</td>\n",
       "      <td>3.000000</td>\n",
       "      <td>2.000000</td>\n",
       "      <td>382.400000</td>\n",
       "      <td>184.000000</td>\n",
       "      <td>1930.000000</td>\n",
       "      <td>-37.901480</td>\n",
       "      <td>144.948400</td>\n",
       "      <td>3988.000000</td>\n",
       "    </tr>\n",
       "    <tr>\n",
       "      <th>30%</th>\n",
       "      <td>4.000000</td>\n",
       "      <td>1.212800e+06</td>\n",
       "      <td>8.000000</td>\n",
       "      <td>3089.000000</td>\n",
       "      <td>3.000000</td>\n",
       "      <td>2.000000</td>\n",
       "      <td>516.600000</td>\n",
       "      <td>210.000000</td>\n",
       "      <td>1950.000000</td>\n",
       "      <td>-37.868680</td>\n",
       "      <td>144.998830</td>\n",
       "      <td>5061.600000</td>\n",
       "    </tr>\n",
       "    <tr>\n",
       "      <th>40%</th>\n",
       "      <td>4.000000</td>\n",
       "      <td>1.400000e+06</td>\n",
       "      <td>9.200000</td>\n",
       "      <td>3105.000000</td>\n",
       "      <td>3.000000</td>\n",
       "      <td>2.000000</td>\n",
       "      <td>591.000000</td>\n",
       "      <td>232.000000</td>\n",
       "      <td>1970.000000</td>\n",
       "      <td>-37.847870</td>\n",
       "      <td>145.020030</td>\n",
       "      <td>5678.000000</td>\n",
       "    </tr>\n",
       "    <tr>\n",
       "      <th>50%</th>\n",
       "      <td>4.000000</td>\n",
       "      <td>1.630000e+06</td>\n",
       "      <td>10.500000</td>\n",
       "      <td>3124.000000</td>\n",
       "      <td>3.000000</td>\n",
       "      <td>2.000000</td>\n",
       "      <td>643.000000</td>\n",
       "      <td>255.000000</td>\n",
       "      <td>1980.000000</td>\n",
       "      <td>-37.830230</td>\n",
       "      <td>145.042550</td>\n",
       "      <td>6763.000000</td>\n",
       "    </tr>\n",
       "    <tr>\n",
       "      <th>60%</th>\n",
       "      <td>4.000000</td>\n",
       "      <td>1.850000e+06</td>\n",
       "      <td>11.400000</td>\n",
       "      <td>3142.000000</td>\n",
       "      <td>3.000000</td>\n",
       "      <td>2.000000</td>\n",
       "      <td>677.000000</td>\n",
       "      <td>278.000000</td>\n",
       "      <td>1997.000000</td>\n",
       "      <td>-37.807300</td>\n",
       "      <td>145.062180</td>\n",
       "      <td>7717.000000</td>\n",
       "    </tr>\n",
       "    <tr>\n",
       "      <th>70%</th>\n",
       "      <td>5.000000</td>\n",
       "      <td>2.169600e+06</td>\n",
       "      <td>13.700000</td>\n",
       "      <td>3150.000000</td>\n",
       "      <td>3.000000</td>\n",
       "      <td>2.000000</td>\n",
       "      <td>725.000000</td>\n",
       "      <td>307.000000</td>\n",
       "      <td>2005.000000</td>\n",
       "      <td>-37.784250</td>\n",
       "      <td>145.080450</td>\n",
       "      <td>8920.000000</td>\n",
       "    </tr>\n",
       "    <tr>\n",
       "      <th>80%</th>\n",
       "      <td>5.000000</td>\n",
       "      <td>2.571000e+06</td>\n",
       "      <td>15.200000</td>\n",
       "      <td>3185.800000</td>\n",
       "      <td>3.000000</td>\n",
       "      <td>3.000000</td>\n",
       "      <td>803.000000</td>\n",
       "      <td>336.000000</td>\n",
       "      <td>2010.000000</td>\n",
       "      <td>-37.760600</td>\n",
       "      <td>145.103400</td>\n",
       "      <td>10412.000000</td>\n",
       "    </tr>\n",
       "    <tr>\n",
       "      <th>90%</th>\n",
       "      <td>5.000000</td>\n",
       "      <td>3.200000e+06</td>\n",
       "      <td>18.000000</td>\n",
       "      <td>3191.000000</td>\n",
       "      <td>4.000000</td>\n",
       "      <td>4.000000</td>\n",
       "      <td>948.800000</td>\n",
       "      <td>395.000000</td>\n",
       "      <td>2014.000000</td>\n",
       "      <td>-37.726265</td>\n",
       "      <td>145.149315</td>\n",
       "      <td>11308.000000</td>\n",
       "    </tr>\n",
       "    <tr>\n",
       "      <th>max</th>\n",
       "      <td>16.000000</td>\n",
       "      <td>1.120000e+07</td>\n",
       "      <td>48.100000</td>\n",
       "      <td>3977.000000</td>\n",
       "      <td>12.000000</td>\n",
       "      <td>12.000000</td>\n",
       "      <td>433014.000000</td>\n",
       "      <td>44515.000000</td>\n",
       "      <td>2018.000000</td>\n",
       "      <td>-37.397800</td>\n",
       "      <td>145.443270</td>\n",
       "      <td>21650.000000</td>\n",
       "    </tr>\n",
       "  </tbody>\n",
       "</table>\n",
       "</div>"
      ],
      "text/plain": [
       "             Rooms         Price     Distance     Postcode     Bathroom  \\\n",
       "count  2552.000000  1.775000e+03  2552.000000  2552.000000  2552.000000   \n",
       "mean      4.344436  1.865236e+06    11.508856  3130.472179     3.202586   \n",
       "std       0.919803  1.037451e+06     6.124419   106.059908     0.584748   \n",
       "min       2.000000  4.400000e+05     1.200000  3000.000000     3.000000   \n",
       "10%       3.000000  8.472000e+05     5.300000  3038.000000     3.000000   \n",
       "20%       4.000000  1.005000e+06     7.300000  3060.000000     3.000000   \n",
       "30%       4.000000  1.212800e+06     8.000000  3089.000000     3.000000   \n",
       "40%       4.000000  1.400000e+06     9.200000  3105.000000     3.000000   \n",
       "50%       4.000000  1.630000e+06    10.500000  3124.000000     3.000000   \n",
       "60%       4.000000  1.850000e+06    11.400000  3142.000000     3.000000   \n",
       "70%       5.000000  2.169600e+06    13.700000  3150.000000     3.000000   \n",
       "80%       5.000000  2.571000e+06    15.200000  3185.800000     3.000000   \n",
       "90%       5.000000  3.200000e+06    18.000000  3191.000000     4.000000   \n",
       "max      16.000000  1.120000e+07    48.100000  3977.000000    12.000000   \n",
       "\n",
       "               Car       Landsize  BuildingArea    YearBuilt    Lattitude  \\\n",
       "count  2543.000000    2193.000000   1519.000000  1649.000000  2546.000000   \n",
       "mean      2.331891     908.873689    303.502210  1972.634324   -37.827554   \n",
       "std       1.089952    9331.204756   1159.380905    38.886211     0.087561   \n",
       "min       0.000000       0.000000      0.000000  1854.000000   -38.184630   \n",
       "10%       1.000000     270.000000    154.000000  1917.800000   -37.928590   \n",
       "20%       2.000000     382.400000    184.000000  1930.000000   -37.901480   \n",
       "30%       2.000000     516.600000    210.000000  1950.000000   -37.868680   \n",
       "40%       2.000000     591.000000    232.000000  1970.000000   -37.847870   \n",
       "50%       2.000000     643.000000    255.000000  1980.000000   -37.830230   \n",
       "60%       2.000000     677.000000    278.000000  1997.000000   -37.807300   \n",
       "70%       2.000000     725.000000    307.000000  2005.000000   -37.784250   \n",
       "80%       3.000000     803.000000    336.000000  2010.000000   -37.760600   \n",
       "90%       4.000000     948.800000    395.000000  2014.000000   -37.726265   \n",
       "max      12.000000  433014.000000  44515.000000  2018.000000   -37.397800   \n",
       "\n",
       "        Longtitude  Propertycount  \n",
       "count  2546.000000    2552.000000  \n",
       "mean    145.030272    7156.455721  \n",
       "std       0.108803    3687.494013  \n",
       "min     144.490000     129.000000  \n",
       "10%     144.891000    2698.000000  \n",
       "20%     144.948400    3988.000000  \n",
       "30%     144.998830    5061.600000  \n",
       "40%     145.020030    5678.000000  \n",
       "50%     145.042550    6763.000000  \n",
       "60%     145.062180    7717.000000  \n",
       "70%     145.080450    8920.000000  \n",
       "80%     145.103400   10412.000000  \n",
       "90%     145.149315   11308.000000  \n",
       "max     145.443270   21650.000000  "
      ]
     },
     "execution_count": 84,
     "metadata": {},
     "output_type": "execute_result"
    }
   ],
   "source": [
    "data[data['Bathroom']>2].describe(np.arange(.1,1,.1))"
   ]
  },
  {
   "cell_type": "code",
   "execution_count": 85,
   "metadata": {
    "ExecuteTime": {
     "end_time": "2022-03-19T17:12:40.475784Z",
     "start_time": "2022-03-19T17:12:40.400256Z"
    },
    "scrolled": true
   },
   "outputs": [
    {
     "data": {
      "text/html": [
       "<div>\n",
       "<style scoped>\n",
       "    .dataframe tbody tr th:only-of-type {\n",
       "        vertical-align: middle;\n",
       "    }\n",
       "\n",
       "    .dataframe tbody tr th {\n",
       "        vertical-align: top;\n",
       "    }\n",
       "\n",
       "    .dataframe thead th {\n",
       "        text-align: right;\n",
       "    }\n",
       "</style>\n",
       "<table border=\"1\" class=\"dataframe\">\n",
       "  <thead>\n",
       "    <tr style=\"text-align: right;\">\n",
       "      <th></th>\n",
       "      <th>Suburb</th>\n",
       "      <th>Address</th>\n",
       "      <th>Rooms</th>\n",
       "      <th>Type</th>\n",
       "      <th>Price</th>\n",
       "      <th>Method</th>\n",
       "      <th>SellerG</th>\n",
       "      <th>Date</th>\n",
       "      <th>Distance</th>\n",
       "      <th>Postcode</th>\n",
       "      <th>Bathroom</th>\n",
       "      <th>Car</th>\n",
       "      <th>Landsize</th>\n",
       "      <th>BuildingArea</th>\n",
       "      <th>YearBuilt</th>\n",
       "      <th>CouncilArea</th>\n",
       "      <th>Lattitude</th>\n",
       "      <th>Longtitude</th>\n",
       "      <th>Regionname</th>\n",
       "      <th>Propertycount</th>\n",
       "    </tr>\n",
       "  </thead>\n",
       "  <tbody>\n",
       "    <tr>\n",
       "      <th>2536</th>\n",
       "      <td>Burwood</td>\n",
       "      <td>36 Cumming St</td>\n",
       "      <td>3</td>\n",
       "      <td>h</td>\n",
       "      <td>NaN</td>\n",
       "      <td>PI</td>\n",
       "      <td>Ross</td>\n",
       "      <td>8/10/2016</td>\n",
       "      <td>11.7</td>\n",
       "      <td>3125.0</td>\n",
       "      <td>12.0</td>\n",
       "      <td>0.0</td>\n",
       "      <td>946.0</td>\n",
       "      <td>NaN</td>\n",
       "      <td>1950.0</td>\n",
       "      <td>Monash City Council</td>\n",
       "      <td>-37.85300</td>\n",
       "      <td>145.11290</td>\n",
       "      <td>Southern Metropolitan</td>\n",
       "      <td>5678.0</td>\n",
       "    </tr>\n",
       "    <tr>\n",
       "      <th>8251</th>\n",
       "      <td>Preston</td>\n",
       "      <td>421 Murray Rd</td>\n",
       "      <td>4</td>\n",
       "      <td>h</td>\n",
       "      <td>760000.0</td>\n",
       "      <td>PI</td>\n",
       "      <td>Barry</td>\n",
       "      <td>22/05/2016</td>\n",
       "      <td>8.8</td>\n",
       "      <td>3072.0</td>\n",
       "      <td>8.0</td>\n",
       "      <td>7.0</td>\n",
       "      <td>1254.0</td>\n",
       "      <td>280.0</td>\n",
       "      <td>1928.0</td>\n",
       "      <td>Darebin City Council</td>\n",
       "      <td>-37.73670</td>\n",
       "      <td>144.98950</td>\n",
       "      <td>Northern Metropolitan</td>\n",
       "      <td>14577.0</td>\n",
       "    </tr>\n",
       "    <tr>\n",
       "      <th>17472</th>\n",
       "      <td>Camberwell</td>\n",
       "      <td>1088 Toorak Rd</td>\n",
       "      <td>8</td>\n",
       "      <td>h</td>\n",
       "      <td>2200000.0</td>\n",
       "      <td>PI</td>\n",
       "      <td>Ross</td>\n",
       "      <td>8/07/2017</td>\n",
       "      <td>7.7</td>\n",
       "      <td>3124.0</td>\n",
       "      <td>8.0</td>\n",
       "      <td>4.0</td>\n",
       "      <td>650.0</td>\n",
       "      <td>NaN</td>\n",
       "      <td>NaN</td>\n",
       "      <td>Boroondara City Council</td>\n",
       "      <td>-37.84812</td>\n",
       "      <td>145.07414</td>\n",
       "      <td>Southern Metropolitan</td>\n",
       "      <td>8920.0</td>\n",
       "    </tr>\n",
       "    <tr>\n",
       "      <th>25717</th>\n",
       "      <td>Burwood</td>\n",
       "      <td>79 Elgar Rd</td>\n",
       "      <td>10</td>\n",
       "      <td>h</td>\n",
       "      <td>2315000.0</td>\n",
       "      <td>SP</td>\n",
       "      <td>Buxton</td>\n",
       "      <td>28/10/2017</td>\n",
       "      <td>10.4</td>\n",
       "      <td>3125.0</td>\n",
       "      <td>9.0</td>\n",
       "      <td>2.0</td>\n",
       "      <td>612.0</td>\n",
       "      <td>466.0</td>\n",
       "      <td>2015.0</td>\n",
       "      <td>Monash City Council</td>\n",
       "      <td>-37.84461</td>\n",
       "      <td>145.10968</td>\n",
       "      <td>Southern Metropolitan</td>\n",
       "      <td>5678.0</td>\n",
       "    </tr>\n",
       "    <tr>\n",
       "      <th>26210</th>\n",
       "      <td>Mitcham</td>\n",
       "      <td>20 Harrison St</td>\n",
       "      <td>16</td>\n",
       "      <td>h</td>\n",
       "      <td>5000000.0</td>\n",
       "      <td>S</td>\n",
       "      <td>Buxton</td>\n",
       "      <td>28/10/2017</td>\n",
       "      <td>17.2</td>\n",
       "      <td>3132.0</td>\n",
       "      <td>8.0</td>\n",
       "      <td>8.0</td>\n",
       "      <td>NaN</td>\n",
       "      <td>NaN</td>\n",
       "      <td>NaN</td>\n",
       "      <td>Whitehorse City Council</td>\n",
       "      <td>-37.81405</td>\n",
       "      <td>145.19891</td>\n",
       "      <td>Eastern Metropolitan</td>\n",
       "      <td>6871.0</td>\n",
       "    </tr>\n",
       "  </tbody>\n",
       "</table>\n",
       "</div>"
      ],
      "text/plain": [
       "           Suburb         Address  Rooms Type      Price Method SellerG  \\\n",
       "2536      Burwood   36 Cumming St      3    h        NaN     PI    Ross   \n",
       "8251      Preston   421 Murray Rd      4    h   760000.0     PI   Barry   \n",
       "17472  Camberwell  1088 Toorak Rd      8    h  2200000.0     PI    Ross   \n",
       "25717     Burwood     79 Elgar Rd     10    h  2315000.0     SP  Buxton   \n",
       "26210     Mitcham  20 Harrison St     16    h  5000000.0      S  Buxton   \n",
       "\n",
       "             Date  Distance  Postcode  Bathroom  Car  Landsize  BuildingArea  \\\n",
       "2536    8/10/2016      11.7    3125.0      12.0  0.0     946.0           NaN   \n",
       "8251   22/05/2016       8.8    3072.0       8.0  7.0    1254.0         280.0   \n",
       "17472   8/07/2017       7.7    3124.0       8.0  4.0     650.0           NaN   \n",
       "25717  28/10/2017      10.4    3125.0       9.0  2.0     612.0         466.0   \n",
       "26210  28/10/2017      17.2    3132.0       8.0  8.0       NaN           NaN   \n",
       "\n",
       "       YearBuilt              CouncilArea  Lattitude  Longtitude  \\\n",
       "2536      1950.0      Monash City Council  -37.85300   145.11290   \n",
       "8251      1928.0     Darebin City Council  -37.73670   144.98950   \n",
       "17472        NaN  Boroondara City Council  -37.84812   145.07414   \n",
       "25717     2015.0      Monash City Council  -37.84461   145.10968   \n",
       "26210        NaN  Whitehorse City Council  -37.81405   145.19891   \n",
       "\n",
       "                  Regionname  Propertycount  \n",
       "2536   Southern Metropolitan         5678.0  \n",
       "8251   Northern Metropolitan        14577.0  \n",
       "17472  Southern Metropolitan         8920.0  \n",
       "25717  Southern Metropolitan         5678.0  \n",
       "26210   Eastern Metropolitan         6871.0  "
      ]
     },
     "execution_count": 85,
     "metadata": {},
     "output_type": "execute_result"
    }
   ],
   "source": [
    "data[data['Bathroom']>7]"
   ]
  },
  {
   "cell_type": "code",
   "execution_count": 86,
   "metadata": {
    "ExecuteTime": {
     "end_time": "2022-03-19T17:13:14.875205Z",
     "start_time": "2022-03-19T17:13:14.868306Z"
    },
    "scrolled": true
   },
   "outputs": [
    {
     "data": {
      "text/plain": [
       "0.0022090254468256016"
      ]
     },
     "execution_count": 86,
     "metadata": {},
     "output_type": "execute_result"
    }
   ],
   "source": [
    "data.loc[data.BuildingArea<1].shape[0]/data.shape[0]"
   ]
  },
  {
   "cell_type": "code",
   "execution_count": 87,
   "metadata": {
    "ExecuteTime": {
     "end_time": "2022-03-19T17:13:23.735624Z",
     "start_time": "2022-03-19T17:13:23.722803Z"
    },
    "scrolled": true
   },
   "outputs": [],
   "source": [
    "housing=data[data['BuildingArea']>1].copy()"
   ]
  },
  {
   "cell_type": "code",
   "execution_count": 88,
   "metadata": {
    "ExecuteTime": {
     "end_time": "2022-03-19T17:13:27.012385Z",
     "start_time": "2022-03-19T17:13:27.002803Z"
    },
    "scrolled": true
   },
   "outputs": [],
   "source": [
    "housing.reset_index(drop=True,inplace=True)"
   ]
  },
  {
   "cell_type": "code",
   "execution_count": 89,
   "metadata": {
    "ExecuteTime": {
     "end_time": "2022-03-19T17:13:30.675642Z",
     "start_time": "2022-03-19T17:13:30.658079Z"
    }
   },
   "outputs": [
    {
     "data": {
      "text/plain": [
       "count    13150.000000\n",
       "mean      1964.943878\n",
       "std         37.879237\n",
       "min       1196.000000\n",
       "25%       1940.000000\n",
       "50%       1970.000000\n",
       "75%       2000.000000\n",
       "max       2106.000000\n",
       "Name: YearBuilt, dtype: float64"
      ]
     },
     "execution_count": 89,
     "metadata": {},
     "output_type": "execute_result"
    }
   ],
   "source": [
    "housing['YearBuilt'].describe()"
   ]
  },
  {
   "cell_type": "code",
   "execution_count": 90,
   "metadata": {
    "ExecuteTime": {
     "end_time": "2022-03-19T17:13:44.787895Z",
     "start_time": "2022-03-19T17:13:44.771652Z"
    },
    "scrolled": true
   },
   "outputs": [
    {
     "data": {
      "text/plain": [
       "array([2014., 2010., 2013., 2012., 2016., 2011., 2015., 2017., 2018.,\n",
       "       2106., 2019.])"
      ]
     },
     "execution_count": 90,
     "metadata": {},
     "output_type": "execute_result"
    }
   ],
   "source": [
    "housing[housing['YearBuilt']>2009]['YearBuilt'].unique()"
   ]
  },
  {
   "cell_type": "code",
   "execution_count": 91,
   "metadata": {
    "ExecuteTime": {
     "end_time": "2022-03-19T17:14:52.383497Z",
     "start_time": "2022-03-19T17:14:52.375273Z"
    }
   },
   "outputs": [],
   "source": [
    "housing['YearBuilt'].replace({2106:2016},inplace=True)"
   ]
  },
  {
   "cell_type": "code",
   "execution_count": 92,
   "metadata": {
    "ExecuteTime": {
     "end_time": "2022-03-19T17:14:59.234961Z",
     "start_time": "2022-03-19T17:14:59.175383Z"
    }
   },
   "outputs": [],
   "source": [
    "housing['data'] = pd.to_datetime(housing['Date'])\n"
   ]
  },
  {
   "cell_type": "code",
   "execution_count": 93,
   "metadata": {
    "ExecuteTime": {
     "end_time": "2022-03-19T17:15:22.634215Z",
     "start_time": "2022-03-19T17:15:22.621169Z"
    }
   },
   "outputs": [],
   "source": [
    "housing.dropna(subset=['Price'],inplace=True)"
   ]
  },
  {
   "cell_type": "code",
   "execution_count": 94,
   "metadata": {
    "ExecuteTime": {
     "end_time": "2022-03-19T17:15:24.877020Z",
     "start_time": "2022-03-19T17:15:24.868903Z"
    }
   },
   "outputs": [],
   "source": [
    "housing.reset_index(drop=True,inplace=True)"
   ]
  },
  {
   "cell_type": "code",
   "execution_count": 95,
   "metadata": {
    "ExecuteTime": {
     "end_time": "2022-03-19T17:15:49.684745Z",
     "start_time": "2022-03-19T17:15:49.677260Z"
    }
   },
   "outputs": [],
   "source": [
    "from sklearn.model_selection import train_test_split"
   ]
  },
  {
   "cell_type": "code",
   "execution_count": 96,
   "metadata": {
    "ExecuteTime": {
     "end_time": "2022-03-19T17:15:55.486346Z",
     "start_time": "2022-03-19T17:15:55.470892Z"
    }
   },
   "outputs": [],
   "source": [
    "data_t,data_v=train_test_split(housing,test_size=.2)"
   ]
  },
  {
   "cell_type": "code",
   "execution_count": 97,
   "metadata": {
    "ExecuteTime": {
     "end_time": "2022-03-19T17:16:35.305928Z",
     "start_time": "2022-03-19T17:16:35.287493Z"
    },
    "scrolled": true
   },
   "outputs": [
    {
     "name": "stderr",
     "output_type": "stream",
     "text": [
      "/home/jorge/Documents/Diplomado/ambientes/diplo_env/lib/python3.6/site-packages/ipykernel_launcher.py:1: SettingWithCopyWarning: \n",
      "A value is trying to be set on a copy of a slice from a DataFrame.\n",
      "Try using .loc[row_indexer,col_indexer] = value instead\n",
      "\n",
      "See the caveats in the documentation: https://pandas.pydata.org/pandas-docs/stable/user_guide/indexing.html#returning-a-view-versus-a-copy\n",
      "  \"\"\"Entry point for launching an IPython kernel.\n",
      "/home/jorge/Documents/Diplomado/ambientes/diplo_env/lib/python3.6/site-packages/ipykernel_launcher.py:2: SettingWithCopyWarning: \n",
      "A value is trying to be set on a copy of a slice from a DataFrame.\n",
      "Try using .loc[row_indexer,col_indexer] = value instead\n",
      "\n",
      "See the caveats in the documentation: https://pandas.pydata.org/pandas-docs/stable/user_guide/indexing.html#returning-a-view-versus-a-copy\n",
      "  \n",
      "/home/jorge/Documents/Diplomado/ambientes/diplo_env/lib/python3.6/site-packages/ipykernel_launcher.py:3: SettingWithCopyWarning: \n",
      "A value is trying to be set on a copy of a slice from a DataFrame.\n",
      "Try using .loc[row_indexer,col_indexer] = value instead\n",
      "\n",
      "See the caveats in the documentation: https://pandas.pydata.org/pandas-docs/stable/user_guide/indexing.html#returning-a-view-versus-a-copy\n",
      "  This is separate from the ipykernel package so we can avoid doing imports until\n",
      "/home/jorge/Documents/Diplomado/ambientes/diplo_env/lib/python3.6/site-packages/ipykernel_launcher.py:4: SettingWithCopyWarning: \n",
      "A value is trying to be set on a copy of a slice from a DataFrame.\n",
      "Try using .loc[row_indexer,col_indexer] = value instead\n",
      "\n",
      "See the caveats in the documentation: https://pandas.pydata.org/pandas-docs/stable/user_guide/indexing.html#returning-a-view-versus-a-copy\n",
      "  after removing the cwd from sys.path.\n",
      "/home/jorge/Documents/Diplomado/ambientes/diplo_env/lib/python3.6/site-packages/ipykernel_launcher.py:5: SettingWithCopyWarning: \n",
      "A value is trying to be set on a copy of a slice from a DataFrame.\n",
      "Try using .loc[row_indexer,col_indexer] = value instead\n",
      "\n",
      "See the caveats in the documentation: https://pandas.pydata.org/pandas-docs/stable/user_guide/indexing.html#returning-a-view-versus-a-copy\n",
      "  \"\"\"\n",
      "/home/jorge/Documents/Diplomado/ambientes/diplo_env/lib/python3.6/site-packages/ipykernel_launcher.py:6: SettingWithCopyWarning: \n",
      "A value is trying to be set on a copy of a slice from a DataFrame.\n",
      "Try using .loc[row_indexer,col_indexer] = value instead\n",
      "\n",
      "See the caveats in the documentation: https://pandas.pydata.org/pandas-docs/stable/user_guide/indexing.html#returning-a-view-versus-a-copy\n",
      "  \n"
     ]
    }
   ],
   "source": [
    "\n",
    "data_t['Landsize']= data_t['Landsize'].fillna(data_t['Landsize'].median())\n",
    "data_t['Distance'] = data_t['Distance'].fillna(data_t['Distance'].median())\n",
    "data_t['BuildingArea']= data_t['BuildingArea'].fillna(data_t['BuildingArea'].median())\n",
    "data_t['Lattitude']= data_t['Lattitude'].fillna(data_t['Lattitude'].median())\n",
    "data_t['Longtitude']= data_t['Longtitude'].fillna(data_t['Longtitude'].median())\n",
    "data_t['Car']= data_t['Car'].fillna(data_t['Car'].median())"
   ]
  },
  {
   "cell_type": "code",
   "execution_count": 98,
   "metadata": {
    "ExecuteTime": {
     "end_time": "2022-03-19T17:16:52.555488Z",
     "start_time": "2022-03-19T17:16:52.550617Z"
    }
   },
   "outputs": [],
   "source": [
    "continuas=['Rooms','Distance','Bathroom','Car','Landsize','BuildingArea','Lattitude','Longtitude']"
   ]
  },
  {
   "cell_type": "code",
   "execution_count": 99,
   "metadata": {
    "ExecuteTime": {
     "end_time": "2022-03-19T17:16:54.354507Z",
     "start_time": "2022-03-19T17:16:54.346979Z"
    }
   },
   "outputs": [],
   "source": [
    "variables=['Distance','Bathroom','Car','Landsize','BuildingArea']"
   ]
  },
  {
   "cell_type": "code",
   "execution_count": 100,
   "metadata": {
    "ExecuteTime": {
     "end_time": "2022-03-19T17:17:01.558918Z",
     "start_time": "2022-03-19T17:17:01.527716Z"
    }
   },
   "outputs": [],
   "source": [
    "for variable in variables:\n",
    "    q1=data_t[variable].quantile(.25)\n",
    "    q3=data_t[variable].quantile(.75)\n",
    "    iqr=q3-q1\n",
    "    data_t=data_t[~((data_t[variable]<q1-1.5*iqr)|(data_t[variable]>q3+1.5*iqr))]"
   ]
  },
  {
   "cell_type": "code",
   "execution_count": 101,
   "metadata": {
    "ExecuteTime": {
     "end_time": "2022-03-19T17:17:17.287626Z",
     "start_time": "2022-03-19T17:17:17.279046Z"
    }
   },
   "outputs": [],
   "source": [
    "Y=data_t[['Price']]\n",
    "X=data_t[continuas]"
   ]
  },
  {
   "cell_type": "code",
   "execution_count": 102,
   "metadata": {
    "ExecuteTime": {
     "end_time": "2022-03-19T17:17:18.279282Z",
     "start_time": "2022-03-19T17:17:18.266854Z"
    }
   },
   "outputs": [
    {
     "data": {
      "text/plain": [
       "Rooms           0\n",
       "Distance        0\n",
       "Bathroom        0\n",
       "Car             0\n",
       "Landsize        0\n",
       "BuildingArea    0\n",
       "Lattitude       0\n",
       "Longtitude      0\n",
       "dtype: int64"
      ]
     },
     "execution_count": 102,
     "metadata": {},
     "output_type": "execute_result"
    }
   ],
   "source": [
    "X.isnull().sum()"
   ]
  },
  {
   "cell_type": "code",
   "execution_count": 103,
   "metadata": {
    "ExecuteTime": {
     "end_time": "2022-03-19T17:17:23.457748Z",
     "start_time": "2022-03-19T17:17:23.454302Z"
    }
   },
   "outputs": [],
   "source": [
    "import matplotlib.pyplot as plt"
   ]
  },
  {
   "cell_type": "code",
   "execution_count": 104,
   "metadata": {
    "ExecuteTime": {
     "end_time": "2022-03-19T17:17:25.717457Z",
     "start_time": "2022-03-19T17:17:25.255189Z"
    }
   },
   "outputs": [
    {
     "data": {
      "text/plain": [
       "<matplotlib.legend.Legend at 0x7f4b7464d828>"
      ]
     },
     "execution_count": 104,
     "metadata": {},
     "output_type": "execute_result"
    },
    {
     "data": {
      "image/png": "[encoded data removed]",
      "text/plain": [
       "<Figure size 1080x720 with 2 Axes>"
      ]
     },
     "metadata": {
      "needs_background": "light"
     },
     "output_type": "display_data"
    }
   ],
   "source": [
    "data_t.plot(kind=\"scatter\", x=\"Longtitude\", y=\"Lattitude\", alpha=0.4,\n",
    "c=data_t.Price, cmap=plt.get_cmap(\"jet\"), label= 'Price by location', figsize=(15,10)) \n",
    "plt.ylabel(\"Latitude\", fontsize=14)\n",
    "\n",
    "plt.legend(fontsize=14)"
   ]
  },
  {
   "cell_type": "code",
   "execution_count": 105,
   "metadata": {
    "ExecuteTime": {
     "end_time": "2022-03-19T17:17:55.421140Z",
     "start_time": "2022-03-19T17:17:55.415149Z"
    }
   },
   "outputs": [],
   "source": [
    "from sklearn.tree import DecisionTreeRegressor"
   ]
  },
  {
   "cell_type": "code",
   "execution_count": 106,
   "metadata": {
    "ExecuteTime": {
     "end_time": "2022-03-19T17:18:02.488349Z",
     "start_time": "2022-03-19T17:18:02.402697Z"
    }
   },
   "outputs": [
    {
     "data": {
      "text/plain": [
       "DecisionTreeRegressor()"
      ]
     },
     "execution_count": 106,
     "metadata": {},
     "output_type": "execute_result"
    }
   ],
   "source": [
    "tree = DecisionTreeRegressor()\n",
    "tree.fit(X, Y)"
   ]
  },
  {
   "cell_type": "code",
   "execution_count": 107,
   "metadata": {
    "ExecuteTime": {
     "end_time": "2022-03-19T17:18:07.011445Z",
     "start_time": "2022-03-19T17:18:07.000176Z"
    }
   },
   "outputs": [],
   "source": [
    "from sklearn.metrics import r2_score,mean_absolute_error,mean_squared_error\n",
    "def metricas(y_true,y_pred):\n",
    "    r2=r2_score(y_true,y_pred)\n",
    "    mae=mean_absolute_error(y_true,y_pred)\n",
    "    mse=mean_squared_error(y_true,y_pred)\n",
    "    print(f'El r2 score es {r2}')\n",
    "    print(f'El error cuadrático medio es {mse}')\n",
    "    print(f'El error medio absoluto es {mae}')"
   ]
  },
  {
   "cell_type": "code",
   "execution_count": 108,
   "metadata": {
    "ExecuteTime": {
     "end_time": "2022-03-19T17:18:11.411889Z",
     "start_time": "2022-03-19T17:18:11.388493Z"
    }
   },
   "outputs": [
    {
     "name": "stdout",
     "output_type": "stream",
     "text": [
      "El r2 score es 0.9999616775199867\n",
      "El error cuadrático medio es 12120393.811533052\n",
      "El error medio absoluto es 216.59634317862165\n"
     ]
    }
   ],
   "source": [
    "metricas(Y,tree.predict(X))"
   ]
  },
  {
   "cell_type": "code",
   "execution_count": 109,
   "metadata": {
    "ExecuteTime": {
     "end_time": "2022-03-19T17:18:44.669584Z",
     "start_time": "2022-03-19T17:18:44.664372Z"
    }
   },
   "outputs": [],
   "source": [
    "from sklearn.ensemble import RandomForestRegressor"
   ]
  },
  {
   "cell_type": "code",
   "execution_count": 110,
   "metadata": {
    "ExecuteTime": {
     "end_time": "2022-03-19T17:21:31.625772Z",
     "start_time": "2022-03-19T17:21:30.846287Z"
    }
   },
   "outputs": [
    {
     "name": "stderr",
     "output_type": "stream",
     "text": [
      "/home/jorge/Documents/Diplomado/ambientes/diplo_env/lib/python3.6/site-packages/ipykernel_launcher.py:2: DataConversionWarning: A column-vector y was passed when a 1d array was expected. Please change the shape of y to (n_samples,), for example using ravel().\n",
      "  \n"
     ]
    },
    {
     "data": {
      "text/plain": [
       "RandomForestRegressor(n_jobs=-1)"
      ]
     },
     "execution_count": 110,
     "metadata": {},
     "output_type": "execute_result"
    }
   ],
   "source": [
    "forest = RandomForestRegressor(n_jobs=-1)\n",
    "forest.fit(X, Y)"
   ]
  },
  {
   "cell_type": "code",
   "execution_count": 111,
   "metadata": {
    "ExecuteTime": {
     "end_time": "2022-03-19T17:21:35.175235Z",
     "start_time": "2022-03-19T17:21:34.927206Z"
    }
   },
   "outputs": [
    {
     "name": "stdout",
     "output_type": "stream",
     "text": [
      "El r2 score es 0.9728648956242412\n",
      "El error cuadrático medio es 8582120756.180393\n",
      "El error medio absoluto es 57102.86530513696\n"
     ]
    }
   ],
   "source": [
    "metricas(Y,forest.predict(X))"
   ]
  },
  {
   "cell_type": "code",
   "execution_count": 112,
   "metadata": {
    "ExecuteTime": {
     "end_time": "2022-03-19T17:23:05.970632Z",
     "start_time": "2022-03-19T17:23:05.964825Z"
    }
   },
   "outputs": [],
   "source": [
    "param_grid = {'n_estimators': [10, 25,50,70], 'max_features': [3,5,10], \n",
    " 'max_depth': [10,15,50,], 'bootstrap': [True, False]}\n"
   ]
  },
  {
   "cell_type": "code",
   "execution_count": 113,
   "metadata": {
    "ExecuteTime": {
     "end_time": "2022-03-19T17:23:17.342443Z",
     "start_time": "2022-03-19T17:23:17.333121Z"
    }
   },
   "outputs": [],
   "source": [
    "from sklearn.model_selection import RandomizedSearchCV\n"
   ]
  },
  {
   "cell_type": "code",
   "execution_count": 114,
   "metadata": {
    "ExecuteTime": {
     "end_time": "2022-03-19T17:23:18.086190Z",
     "start_time": "2022-03-19T17:23:18.078214Z"
    }
   },
   "outputs": [],
   "source": [
    "Random_forest=RandomizedSearchCV(RandomForestRegressor(),param_grid,scoring='r2',n_iter=1000,cv=3,verbose=1,n_jobs=-1,)"
   ]
  },
  {
   "cell_type": "code",
   "execution_count": 115,
   "metadata": {
    "ExecuteTime": {
     "end_time": "2022-03-19T17:23:40.964230Z",
     "start_time": "2022-03-19T17:23:19.293546Z"
    }
   },
   "outputs": [
    {
     "name": "stdout",
     "output_type": "stream",
     "text": [
      "Fitting 3 folds for each of 72 candidates, totalling 216 fits\n"
     ]
    },
    {
     "name": "stderr",
     "output_type": "stream",
     "text": [
      "/home/jorge/Documents/Diplomado/ambientes/diplo_env/lib/python3.6/site-packages/sklearn/model_selection/_search.py:282: UserWarning: The total space of parameters 72 is smaller than n_iter=1000. Running 72 iterations. For exhaustive searches, use GridSearchCV.\n",
      "  % (grid_size, self.n_iter, grid_size), UserWarning)\n",
      "[Parallel(n_jobs=-1)]: Using backend LokyBackend with 8 concurrent workers.\n",
      "[Parallel(n_jobs=-1)]: Done  34 tasks      | elapsed:    4.6s\n",
      "[Parallel(n_jobs=-1)]: Done 184 tasks      | elapsed:   17.0s\n",
      "[Parallel(n_jobs=-1)]: Done 216 out of 216 | elapsed:   20.2s finished\n",
      "/home/jorge/Documents/Diplomado/ambientes/diplo_env/lib/python3.6/site-packages/sklearn/model_selection/_search.py:765: DataConversionWarning: A column-vector y was passed when a 1d array was expected. Please change the shape of y to (n_samples,), for example using ravel().\n",
      "  self.best_estimator_.fit(X, y, **fit_params)\n"
     ]
    },
    {
     "data": {
      "text/plain": [
       "RandomizedSearchCV(cv=3, estimator=RandomForestRegressor(), n_iter=1000,\n",
       "                   n_jobs=-1,\n",
       "                   param_distributions={'bootstrap': [True, False],\n",
       "                                        'max_depth': [10, 15, 50],\n",
       "                                        'max_features': [3, 5, 10],\n",
       "                                        'n_estimators': [10, 25, 50, 70]},\n",
       "                   scoring='r2', verbose=1)"
      ]
     },
     "execution_count": 115,
     "metadata": {},
     "output_type": "execute_result"
    }
   ],
   "source": [
    "Random_forest.fit(X,Y)"
   ]
  },
  {
   "cell_type": "code",
   "execution_count": 116,
   "metadata": {
    "ExecuteTime": {
     "end_time": "2022-03-19T17:23:51.303630Z",
     "start_time": "2022-03-19T17:23:51.298145Z"
    }
   },
   "outputs": [],
   "source": [
    "best_forest=Random_forest.best_estimator_"
   ]
  },
  {
   "cell_type": "code",
   "execution_count": 117,
   "metadata": {
    "ExecuteTime": {
     "end_time": "2022-03-19T17:23:52.463930Z",
     "start_time": "2022-03-19T17:23:52.457501Z"
    }
   },
   "outputs": [
    {
     "data": {
      "text/plain": [
       "RandomForestRegressor(max_depth=50, max_features=5, n_estimators=70)"
      ]
     },
     "execution_count": 117,
     "metadata": {},
     "output_type": "execute_result"
    }
   ],
   "source": [
    "best_forest"
   ]
  },
  {
   "cell_type": "code",
   "execution_count": 118,
   "metadata": {
    "ExecuteTime": {
     "end_time": "2022-03-19T17:24:20.825635Z",
     "start_time": "2022-03-19T17:24:20.681606Z"
    }
   },
   "outputs": [
    {
     "name": "stdout",
     "output_type": "stream",
     "text": [
      "El r2 score es 0.9728100537507149\n",
      "El error cuadrático medio es 8599465800.245079\n",
      "El error medio absoluto es 56505.09058966484\n"
     ]
    }
   ],
   "source": [
    "metricas(Y,best_forest.predict(X))"
   ]
  },
  {
   "cell_type": "code",
   "execution_count": 119,
   "metadata": {
    "ExecuteTime": {
     "end_time": "2022-03-19T17:26:14.357908Z",
     "start_time": "2022-03-19T17:26:14.245077Z"
    }
   },
   "outputs": [],
   "source": [
    "importances=forest.feature_importances_"
   ]
  },
  {
   "cell_type": "code",
   "execution_count": 120,
   "metadata": {
    "ExecuteTime": {
     "end_time": "2022-03-19T17:26:16.609484Z",
     "start_time": "2022-03-19T17:26:16.589684Z"
    }
   },
   "outputs": [],
   "source": [
    "feature_importance= sorted(zip(importances, list(X.columns)), reverse=True)\n",
    "\n",
    "df = pd.DataFrame(feature_importance, columns=['importance', 'feature'])\n",
    "importance= list(df['importance'])\n",
    "feature= list(df['feature'])\n"
   ]
  },
  {
   "cell_type": "code",
   "execution_count": 121,
   "metadata": {
    "ExecuteTime": {
     "end_time": "2022-03-19T17:26:17.974041Z",
     "start_time": "2022-03-19T17:26:17.959801Z"
    }
   },
   "outputs": [
    {
     "data": {
      "text/html": [
       "<div>\n",
       "<style scoped>\n",
       "    .dataframe tbody tr th:only-of-type {\n",
       "        vertical-align: middle;\n",
       "    }\n",
       "\n",
       "    .dataframe tbody tr th {\n",
       "        vertical-align: top;\n",
       "    }\n",
       "\n",
       "    .dataframe thead th {\n",
       "        text-align: right;\n",
       "    }\n",
       "</style>\n",
       "<table border=\"1\" class=\"dataframe\">\n",
       "  <thead>\n",
       "    <tr style=\"text-align: right;\">\n",
       "      <th></th>\n",
       "      <th>importance</th>\n",
       "      <th>feature</th>\n",
       "    </tr>\n",
       "  </thead>\n",
       "  <tbody>\n",
       "    <tr>\n",
       "      <th>0</th>\n",
       "      <td>0.321887</td>\n",
       "      <td>BuildingArea</td>\n",
       "    </tr>\n",
       "    <tr>\n",
       "      <th>1</th>\n",
       "      <td>0.211083</td>\n",
       "      <td>Distance</td>\n",
       "    </tr>\n",
       "    <tr>\n",
       "      <th>2</th>\n",
       "      <td>0.178741</td>\n",
       "      <td>Lattitude</td>\n",
       "    </tr>\n",
       "    <tr>\n",
       "      <th>3</th>\n",
       "      <td>0.146392</td>\n",
       "      <td>Longtitude</td>\n",
       "    </tr>\n",
       "    <tr>\n",
       "      <th>4</th>\n",
       "      <td>0.089115</td>\n",
       "      <td>Landsize</td>\n",
       "    </tr>\n",
       "    <tr>\n",
       "      <th>5</th>\n",
       "      <td>0.030467</td>\n",
       "      <td>Rooms</td>\n",
       "    </tr>\n",
       "    <tr>\n",
       "      <th>6</th>\n",
       "      <td>0.013444</td>\n",
       "      <td>Car</td>\n",
       "    </tr>\n",
       "    <tr>\n",
       "      <th>7</th>\n",
       "      <td>0.008872</td>\n",
       "      <td>Bathroom</td>\n",
       "    </tr>\n",
       "  </tbody>\n",
       "</table>\n",
       "</div>"
      ],
      "text/plain": [
       "   importance       feature\n",
       "0    0.321887  BuildingArea\n",
       "1    0.211083      Distance\n",
       "2    0.178741     Lattitude\n",
       "3    0.146392    Longtitude\n",
       "4    0.089115      Landsize\n",
       "5    0.030467         Rooms\n",
       "6    0.013444           Car\n",
       "7    0.008872      Bathroom"
      ]
     },
     "execution_count": 121,
     "metadata": {},
     "output_type": "execute_result"
    }
   ],
   "source": [
    "df"
   ]
  },
  {
   "cell_type": "markdown",
   "metadata": {},
   "source": [
    "## Conjunto de Validación"
   ]
  },
  {
   "cell_type": "code",
   "execution_count": 122,
   "metadata": {
    "ExecuteTime": {
     "end_time": "2022-03-19T17:28:22.114682Z",
     "start_time": "2022-03-19T17:28:22.036936Z"
    },
    "scrolled": true
   },
   "outputs": [
    {
     "data": {
      "text/html": [
       "<div>\n",
       "<style scoped>\n",
       "    .dataframe tbody tr th:only-of-type {\n",
       "        vertical-align: middle;\n",
       "    }\n",
       "\n",
       "    .dataframe tbody tr th {\n",
       "        vertical-align: top;\n",
       "    }\n",
       "\n",
       "    .dataframe thead th {\n",
       "        text-align: right;\n",
       "    }\n",
       "</style>\n",
       "<table border=\"1\" class=\"dataframe\">\n",
       "  <thead>\n",
       "    <tr style=\"text-align: right;\">\n",
       "      <th></th>\n",
       "      <th>Suburb</th>\n",
       "      <th>Address</th>\n",
       "      <th>Rooms</th>\n",
       "      <th>Type</th>\n",
       "      <th>Price</th>\n",
       "      <th>Method</th>\n",
       "      <th>SellerG</th>\n",
       "      <th>Date</th>\n",
       "      <th>Distance</th>\n",
       "      <th>Postcode</th>\n",
       "      <th>Bathroom</th>\n",
       "      <th>Car</th>\n",
       "      <th>Landsize</th>\n",
       "      <th>BuildingArea</th>\n",
       "      <th>YearBuilt</th>\n",
       "      <th>CouncilArea</th>\n",
       "      <th>Lattitude</th>\n",
       "      <th>Longtitude</th>\n",
       "      <th>Regionname</th>\n",
       "      <th>Propertycount</th>\n",
       "      <th>data</th>\n",
       "    </tr>\n",
       "  </thead>\n",
       "  <tbody>\n",
       "    <tr>\n",
       "      <th>3955</th>\n",
       "      <td>Jacana</td>\n",
       "      <td>1 Robinson St</td>\n",
       "      <td>3</td>\n",
       "      <td>h</td>\n",
       "      <td>611000.0</td>\n",
       "      <td>S</td>\n",
       "      <td>Barry</td>\n",
       "      <td>25/02/2017</td>\n",
       "      <td>14.5</td>\n",
       "      <td>3047.0</td>\n",
       "      <td>1.0</td>\n",
       "      <td>3.0</td>\n",
       "      <td>624.0</td>\n",
       "      <td>93.0</td>\n",
       "      <td>1966.0</td>\n",
       "      <td>Hume City Council</td>\n",
       "      <td>-37.68620</td>\n",
       "      <td>144.91300</td>\n",
       "      <td>Northern Metropolitan</td>\n",
       "      <td>851.0</td>\n",
       "      <td>2017-02-25</td>\n",
       "    </tr>\n",
       "    <tr>\n",
       "      <th>7579</th>\n",
       "      <td>Glenroy</td>\n",
       "      <td>4/35 Clovelly Av</td>\n",
       "      <td>2</td>\n",
       "      <td>u</td>\n",
       "      <td>500000.0</td>\n",
       "      <td>S</td>\n",
       "      <td>Brad</td>\n",
       "      <td>26/08/2017</td>\n",
       "      <td>11.2</td>\n",
       "      <td>3046.0</td>\n",
       "      <td>1.0</td>\n",
       "      <td>1.0</td>\n",
       "      <td>NaN</td>\n",
       "      <td>80.0</td>\n",
       "      <td>1986.0</td>\n",
       "      <td>Moreland City Council</td>\n",
       "      <td>-37.70677</td>\n",
       "      <td>144.90971</td>\n",
       "      <td>Northern Metropolitan</td>\n",
       "      <td>8870.0</td>\n",
       "      <td>2017-08-26</td>\n",
       "    </tr>\n",
       "    <tr>\n",
       "      <th>7</th>\n",
       "      <td>Abbotsford</td>\n",
       "      <td>123/56 Nicholson St</td>\n",
       "      <td>2</td>\n",
       "      <td>u</td>\n",
       "      <td>750000.0</td>\n",
       "      <td>S</td>\n",
       "      <td>Biggin</td>\n",
       "      <td>12/11/2016</td>\n",
       "      <td>2.5</td>\n",
       "      <td>3067.0</td>\n",
       "      <td>2.0</td>\n",
       "      <td>1.0</td>\n",
       "      <td>0.0</td>\n",
       "      <td>94.0</td>\n",
       "      <td>2009.0</td>\n",
       "      <td>Yarra City Council</td>\n",
       "      <td>-37.80780</td>\n",
       "      <td>144.99650</td>\n",
       "      <td>Northern Metropolitan</td>\n",
       "      <td>4019.0</td>\n",
       "      <td>2016-12-11</td>\n",
       "    </tr>\n",
       "    <tr>\n",
       "      <th>9165</th>\n",
       "      <td>Fawkner</td>\n",
       "      <td>1 Link Pde</td>\n",
       "      <td>3</td>\n",
       "      <td>h</td>\n",
       "      <td>482000.0</td>\n",
       "      <td>S</td>\n",
       "      <td>Brad</td>\n",
       "      <td>6/01/2018</td>\n",
       "      <td>13.1</td>\n",
       "      <td>3060.0</td>\n",
       "      <td>2.0</td>\n",
       "      <td>1.0</td>\n",
       "      <td>NaN</td>\n",
       "      <td>98.0</td>\n",
       "      <td>1960.0</td>\n",
       "      <td>Hume City Council</td>\n",
       "      <td>-37.70687</td>\n",
       "      <td>144.97027</td>\n",
       "      <td>Northern Metropolitan</td>\n",
       "      <td>5070.0</td>\n",
       "      <td>2018-06-01</td>\n",
       "    </tr>\n",
       "    <tr>\n",
       "      <th>6467</th>\n",
       "      <td>Bulleen</td>\n",
       "      <td>3/9 Amberley Ct</td>\n",
       "      <td>3</td>\n",
       "      <td>u</td>\n",
       "      <td>820000.0</td>\n",
       "      <td>PI</td>\n",
       "      <td>Parkes</td>\n",
       "      <td>3/09/2017</td>\n",
       "      <td>10.8</td>\n",
       "      <td>3105.0</td>\n",
       "      <td>2.0</td>\n",
       "      <td>2.0</td>\n",
       "      <td>NaN</td>\n",
       "      <td>122.0</td>\n",
       "      <td>2008.0</td>\n",
       "      <td>Manningham City Council</td>\n",
       "      <td>-37.78045</td>\n",
       "      <td>145.10038</td>\n",
       "      <td>Eastern Metropolitan</td>\n",
       "      <td>4480.0</td>\n",
       "      <td>2017-03-09</td>\n",
       "    </tr>\n",
       "    <tr>\n",
       "      <th>...</th>\n",
       "      <td>...</td>\n",
       "      <td>...</td>\n",
       "      <td>...</td>\n",
       "      <td>...</td>\n",
       "      <td>...</td>\n",
       "      <td>...</td>\n",
       "      <td>...</td>\n",
       "      <td>...</td>\n",
       "      <td>...</td>\n",
       "      <td>...</td>\n",
       "      <td>...</td>\n",
       "      <td>...</td>\n",
       "      <td>...</td>\n",
       "      <td>...</td>\n",
       "      <td>...</td>\n",
       "      <td>...</td>\n",
       "      <td>...</td>\n",
       "      <td>...</td>\n",
       "      <td>...</td>\n",
       "      <td>...</td>\n",
       "      <td>...</td>\n",
       "    </tr>\n",
       "    <tr>\n",
       "      <th>6348</th>\n",
       "      <td>Frankston South</td>\n",
       "      <td>90 Yuille St</td>\n",
       "      <td>4</td>\n",
       "      <td>h</td>\n",
       "      <td>945000.0</td>\n",
       "      <td>S</td>\n",
       "      <td>Bowman</td>\n",
       "      <td>29/07/2017</td>\n",
       "      <td>38.0</td>\n",
       "      <td>3199.0</td>\n",
       "      <td>2.0</td>\n",
       "      <td>2.0</td>\n",
       "      <td>694.0</td>\n",
       "      <td>265.0</td>\n",
       "      <td>2009.0</td>\n",
       "      <td>Frankston City Council</td>\n",
       "      <td>-38.16227</td>\n",
       "      <td>145.12080</td>\n",
       "      <td>South-Eastern Metropolitan</td>\n",
       "      <td>7566.0</td>\n",
       "      <td>2017-07-29</td>\n",
       "    </tr>\n",
       "    <tr>\n",
       "      <th>8794</th>\n",
       "      <td>Mentone</td>\n",
       "      <td>8 Chicquita Cct</td>\n",
       "      <td>3</td>\n",
       "      <td>t</td>\n",
       "      <td>825000.0</td>\n",
       "      <td>SA</td>\n",
       "      <td>Upside</td>\n",
       "      <td>11/11/2017</td>\n",
       "      <td>20.0</td>\n",
       "      <td>3194.0</td>\n",
       "      <td>3.0</td>\n",
       "      <td>2.0</td>\n",
       "      <td>93.0</td>\n",
       "      <td>172.0</td>\n",
       "      <td>2010.0</td>\n",
       "      <td>Kingston City Council</td>\n",
       "      <td>-37.97910</td>\n",
       "      <td>145.07580</td>\n",
       "      <td>South-Eastern Metropolitan</td>\n",
       "      <td>6162.0</td>\n",
       "      <td>2017-11-11</td>\n",
       "    </tr>\n",
       "    <tr>\n",
       "      <th>10060</th>\n",
       "      <td>Sandringham</td>\n",
       "      <td>132 Abbott St</td>\n",
       "      <td>4</td>\n",
       "      <td>h</td>\n",
       "      <td>1720000.0</td>\n",
       "      <td>S</td>\n",
       "      <td>Hodges</td>\n",
       "      <td>17/02/2018</td>\n",
       "      <td>15.2</td>\n",
       "      <td>3191.0</td>\n",
       "      <td>1.0</td>\n",
       "      <td>1.0</td>\n",
       "      <td>573.0</td>\n",
       "      <td>119.0</td>\n",
       "      <td>1950.0</td>\n",
       "      <td>Bayside City Council</td>\n",
       "      <td>-37.95056</td>\n",
       "      <td>145.01757</td>\n",
       "      <td>Southern Metropolitan</td>\n",
       "      <td>4497.0</td>\n",
       "      <td>2018-02-17</td>\n",
       "    </tr>\n",
       "    <tr>\n",
       "      <th>909</th>\n",
       "      <td>Camberwell</td>\n",
       "      <td>1/28 Nevis St</td>\n",
       "      <td>2</td>\n",
       "      <td>u</td>\n",
       "      <td>700000.0</td>\n",
       "      <td>S</td>\n",
       "      <td>Marshall</td>\n",
       "      <td>27/11/2016</td>\n",
       "      <td>7.8</td>\n",
       "      <td>3124.0</td>\n",
       "      <td>1.0</td>\n",
       "      <td>1.0</td>\n",
       "      <td>631.0</td>\n",
       "      <td>75.0</td>\n",
       "      <td>1970.0</td>\n",
       "      <td>Boroondara City Council</td>\n",
       "      <td>-37.84340</td>\n",
       "      <td>145.08100</td>\n",
       "      <td>Southern Metropolitan</td>\n",
       "      <td>8920.0</td>\n",
       "      <td>2016-11-27</td>\n",
       "    </tr>\n",
       "    <tr>\n",
       "      <th>4639</th>\n",
       "      <td>Williamstown</td>\n",
       "      <td>12/53 Morris St</td>\n",
       "      <td>2</td>\n",
       "      <td>u</td>\n",
       "      <td>550000.0</td>\n",
       "      <td>SP</td>\n",
       "      <td>Williams</td>\n",
       "      <td>22/04/2017</td>\n",
       "      <td>8.0</td>\n",
       "      <td>3016.0</td>\n",
       "      <td>1.0</td>\n",
       "      <td>2.0</td>\n",
       "      <td>0.0</td>\n",
       "      <td>65.0</td>\n",
       "      <td>1990.0</td>\n",
       "      <td>Hobsons Bay City Council</td>\n",
       "      <td>-37.86850</td>\n",
       "      <td>144.90580</td>\n",
       "      <td>Western Metropolitan</td>\n",
       "      <td>6380.0</td>\n",
       "      <td>2017-04-22</td>\n",
       "    </tr>\n",
       "  </tbody>\n",
       "</table>\n",
       "<p>2117 rows × 21 columns</p>\n",
       "</div>"
      ],
      "text/plain": [
       "                Suburb              Address  Rooms Type      Price Method  \\\n",
       "3955            Jacana        1 Robinson St      3    h   611000.0      S   \n",
       "7579           Glenroy     4/35 Clovelly Av      2    u   500000.0      S   \n",
       "7           Abbotsford  123/56 Nicholson St      2    u   750000.0      S   \n",
       "9165           Fawkner           1 Link Pde      3    h   482000.0      S   \n",
       "6467           Bulleen      3/9 Amberley Ct      3    u   820000.0     PI   \n",
       "...                ...                  ...    ...  ...        ...    ...   \n",
       "6348   Frankston South         90 Yuille St      4    h   945000.0      S   \n",
       "8794           Mentone      8 Chicquita Cct      3    t   825000.0     SA   \n",
       "10060      Sandringham        132 Abbott St      4    h  1720000.0      S   \n",
       "909         Camberwell        1/28 Nevis St      2    u   700000.0      S   \n",
       "4639      Williamstown      12/53 Morris St      2    u   550000.0     SP   \n",
       "\n",
       "        SellerG        Date  Distance  Postcode  Bathroom  Car  Landsize  \\\n",
       "3955      Barry  25/02/2017      14.5    3047.0       1.0  3.0     624.0   \n",
       "7579       Brad  26/08/2017      11.2    3046.0       1.0  1.0       NaN   \n",
       "7        Biggin  12/11/2016       2.5    3067.0       2.0  1.0       0.0   \n",
       "9165       Brad   6/01/2018      13.1    3060.0       2.0  1.0       NaN   \n",
       "6467     Parkes   3/09/2017      10.8    3105.0       2.0  2.0       NaN   \n",
       "...         ...         ...       ...       ...       ...  ...       ...   \n",
       "6348     Bowman  29/07/2017      38.0    3199.0       2.0  2.0     694.0   \n",
       "8794     Upside  11/11/2017      20.0    3194.0       3.0  2.0      93.0   \n",
       "10060    Hodges  17/02/2018      15.2    3191.0       1.0  1.0     573.0   \n",
       "909    Marshall  27/11/2016       7.8    3124.0       1.0  1.0     631.0   \n",
       "4639   Williams  22/04/2017       8.0    3016.0       1.0  2.0       0.0   \n",
       "\n",
       "       BuildingArea  YearBuilt               CouncilArea  Lattitude  \\\n",
       "3955           93.0     1966.0         Hume City Council  -37.68620   \n",
       "7579           80.0     1986.0     Moreland City Council  -37.70677   \n",
       "7              94.0     2009.0        Yarra City Council  -37.80780   \n",
       "9165           98.0     1960.0         Hume City Council  -37.70687   \n",
       "6467          122.0     2008.0   Manningham City Council  -37.78045   \n",
       "...             ...        ...                       ...        ...   \n",
       "6348          265.0     2009.0    Frankston City Council  -38.16227   \n",
       "8794          172.0     2010.0     Kingston City Council  -37.97910   \n",
       "10060         119.0     1950.0      Bayside City Council  -37.95056   \n",
       "909            75.0     1970.0   Boroondara City Council  -37.84340   \n",
       "4639           65.0     1990.0  Hobsons Bay City Council  -37.86850   \n",
       "\n",
       "       Longtitude                  Regionname  Propertycount       data  \n",
       "3955    144.91300       Northern Metropolitan          851.0 2017-02-25  \n",
       "7579    144.90971       Northern Metropolitan         8870.0 2017-08-26  \n",
       "7       144.99650       Northern Metropolitan         4019.0 2016-12-11  \n",
       "9165    144.97027       Northern Metropolitan         5070.0 2018-06-01  \n",
       "6467    145.10038        Eastern Metropolitan         4480.0 2017-03-09  \n",
       "...           ...                         ...            ...        ...  \n",
       "6348    145.12080  South-Eastern Metropolitan         7566.0 2017-07-29  \n",
       "8794    145.07580  South-Eastern Metropolitan         6162.0 2017-11-11  \n",
       "10060   145.01757       Southern Metropolitan         4497.0 2018-02-17  \n",
       "909     145.08100       Southern Metropolitan         8920.0 2016-11-27  \n",
       "4639    144.90580        Western Metropolitan         6380.0 2017-04-22  \n",
       "\n",
       "[2117 rows x 21 columns]"
      ]
     },
     "execution_count": 122,
     "metadata": {},
     "output_type": "execute_result"
    }
   ],
   "source": [
    "data_v\n"
   ]
  },
  {
   "cell_type": "code",
   "execution_count": 123,
   "metadata": {
    "ExecuteTime": {
     "end_time": "2022-03-19T17:29:04.013904Z",
     "start_time": "2022-03-19T17:29:03.990517Z"
    },
    "scrolled": true
   },
   "outputs": [
    {
     "name": "stderr",
     "output_type": "stream",
     "text": [
      "/home/jorge/Documents/Diplomado/ambientes/diplo_env/lib/python3.6/site-packages/ipykernel_launcher.py:1: SettingWithCopyWarning: \n",
      "A value is trying to be set on a copy of a slice from a DataFrame.\n",
      "Try using .loc[row_indexer,col_indexer] = value instead\n",
      "\n",
      "See the caveats in the documentation: https://pandas.pydata.org/pandas-docs/stable/user_guide/indexing.html#returning-a-view-versus-a-copy\n",
      "  \"\"\"Entry point for launching an IPython kernel.\n",
      "/home/jorge/Documents/Diplomado/ambientes/diplo_env/lib/python3.6/site-packages/ipykernel_launcher.py:2: SettingWithCopyWarning: \n",
      "A value is trying to be set on a copy of a slice from a DataFrame.\n",
      "Try using .loc[row_indexer,col_indexer] = value instead\n",
      "\n",
      "See the caveats in the documentation: https://pandas.pydata.org/pandas-docs/stable/user_guide/indexing.html#returning-a-view-versus-a-copy\n",
      "  \n",
      "/home/jorge/Documents/Diplomado/ambientes/diplo_env/lib/python3.6/site-packages/ipykernel_launcher.py:3: SettingWithCopyWarning: \n",
      "A value is trying to be set on a copy of a slice from a DataFrame.\n",
      "Try using .loc[row_indexer,col_indexer] = value instead\n",
      "\n",
      "See the caveats in the documentation: https://pandas.pydata.org/pandas-docs/stable/user_guide/indexing.html#returning-a-view-versus-a-copy\n",
      "  This is separate from the ipykernel package so we can avoid doing imports until\n",
      "/home/jorge/Documents/Diplomado/ambientes/diplo_env/lib/python3.6/site-packages/ipykernel_launcher.py:4: SettingWithCopyWarning: \n",
      "A value is trying to be set on a copy of a slice from a DataFrame.\n",
      "Try using .loc[row_indexer,col_indexer] = value instead\n",
      "\n",
      "See the caveats in the documentation: https://pandas.pydata.org/pandas-docs/stable/user_guide/indexing.html#returning-a-view-versus-a-copy\n",
      "  after removing the cwd from sys.path.\n",
      "/home/jorge/Documents/Diplomado/ambientes/diplo_env/lib/python3.6/site-packages/ipykernel_launcher.py:5: SettingWithCopyWarning: \n",
      "A value is trying to be set on a copy of a slice from a DataFrame.\n",
      "Try using .loc[row_indexer,col_indexer] = value instead\n",
      "\n",
      "See the caveats in the documentation: https://pandas.pydata.org/pandas-docs/stable/user_guide/indexing.html#returning-a-view-versus-a-copy\n",
      "  \"\"\"\n",
      "/home/jorge/Documents/Diplomado/ambientes/diplo_env/lib/python3.6/site-packages/ipykernel_launcher.py:6: SettingWithCopyWarning: \n",
      "A value is trying to be set on a copy of a slice from a DataFrame.\n",
      "Try using .loc[row_indexer,col_indexer] = value instead\n",
      "\n",
      "See the caveats in the documentation: https://pandas.pydata.org/pandas-docs/stable/user_guide/indexing.html#returning-a-view-versus-a-copy\n",
      "  \n"
     ]
    }
   ],
   "source": [
    "data_v['Landsize']= data_v['Landsize'].fillna(data_t['Landsize'].median())\n",
    "data_v['Distance'] = data_v['Distance'].fillna(data_t['Distance'].median())\n",
    "data_v['BuildingArea']= data_v['BuildingArea'].fillna(data_t['BuildingArea'].median())\n",
    "data_v['Lattitude']= data_v['Lattitude'].fillna(data_t['Lattitude'].median())\n",
    "data_v['Longtitude']= data_v['Longtitude'].fillna(data_t['Longtitude'].median())\n",
    "data_v['Car']= data_v['Car'].fillna(data_t['Car'].median())\n"
   ]
  },
  {
   "cell_type": "code",
   "execution_count": 124,
   "metadata": {
    "ExecuteTime": {
     "end_time": "2022-03-19T17:29:10.827723Z",
     "start_time": "2022-03-19T17:29:10.807283Z"
    }
   },
   "outputs": [],
   "source": [
    "for variable in variables:\n",
    "    data_v=data_v[~((data_v[variable]<q1-1.5*iqr)|(data_v[variable]>q3+1.5*iqr))]"
   ]
  },
  {
   "cell_type": "code",
   "execution_count": 125,
   "metadata": {
    "ExecuteTime": {
     "end_time": "2022-03-19T17:29:12.379083Z",
     "start_time": "2022-03-19T17:29:12.368656Z"
    }
   },
   "outputs": [],
   "source": [
    "Y_v=data_v[['Price']]\n",
    "X_v=data_v[continuas]"
   ]
  },
  {
   "cell_type": "code",
   "execution_count": 126,
   "metadata": {
    "ExecuteTime": {
     "end_time": "2022-03-19T17:29:19.213955Z",
     "start_time": "2022-03-19T17:29:19.090866Z"
    }
   },
   "outputs": [
    {
     "name": "stdout",
     "output_type": "stream",
     "text": [
      "El r2 score es 0.8035848410595265\n",
      "El error cuadrático medio es 45142290613.48119\n",
      "El error medio absoluto es 134299.20772070627\n"
     ]
    }
   ],
   "source": [
    "metricas(Y_v,forest.predict(X_v))"
   ]
  },
  {
   "cell_type": "code",
   "execution_count": 127,
   "metadata": {
    "ExecuteTime": {
     "end_time": "2022-03-19T17:29:23.905733Z",
     "start_time": "2022-03-19T17:29:23.887597Z"
    }
   },
   "outputs": [
    {
     "name": "stdout",
     "output_type": "stream",
     "text": [
      "El r2 score es 0.6468938613077773\n",
      "El error cuadrático medio es 81154733760.0321\n",
      "El error medio absoluto es 183912.92134831462\n"
     ]
    }
   ],
   "source": [
    "metricas(Y_v,tree.predict(X_v))"
   ]
  },
  {
   "cell_type": "code",
   "execution_count": 128,
   "metadata": {
    "ExecuteTime": {
     "end_time": "2022-03-19T17:32:08.578896Z",
     "start_time": "2022-03-19T17:32:08.548209Z"
    }
   },
   "outputs": [
    {
     "name": "stdout",
     "output_type": "stream",
     "text": [
      "El r2 score es 0.7992215790683614\n",
      "El error cuadrático medio es 46145103440.6094\n",
      "El error medio absoluto es 137343.405625621\n"
     ]
    }
   ],
   "source": [
    "metricas(Y_v,best_forest.predict(X_v))"
   ]
  },
  {
   "cell_type": "code",
   "execution_count": 129,
   "metadata": {
    "ExecuteTime": {
     "end_time": "2022-03-19T17:33:39.133152Z",
     "start_time": "2022-03-19T17:33:38.940235Z"
    }
   },
   "outputs": [],
   "source": [
    "pd.to_pickle(forest,'random_forest_houses.pkl')"
   ]
  },
  {
   "cell_type": "code",
   "execution_count": 130,
   "metadata": {
    "ExecuteTime": {
     "end_time": "2022-03-19T17:33:56.119114Z",
     "start_time": "2022-03-19T17:33:56.115370Z"
    }
   },
   "outputs": [],
   "source": [
    "from sklearn.ensemble import VotingRegressor"
   ]
  },
  {
   "cell_type": "code",
   "execution_count": 131,
   "metadata": {
    "ExecuteTime": {
     "end_time": "2022-03-19T17:34:00.897937Z",
     "start_time": "2022-03-19T17:34:00.879897Z"
    }
   },
   "outputs": [],
   "source": [
    "VotingRegressor?"
   ]
  },
  {
   "cell_type": "code",
   "execution_count": 132,
   "metadata": {
    "ExecuteTime": {
     "end_time": "2022-03-19T17:35:06.399791Z",
     "start_time": "2022-03-19T17:35:06.395264Z"
    }
   },
   "outputs": [],
   "source": [
    "from sklearn.svm import SVR\n",
    "from sklearn.linear_model import ElasticNet,Ridge"
   ]
  },
  {
   "cell_type": "code",
   "execution_count": 133,
   "metadata": {
    "ExecuteTime": {
     "end_time": "2022-03-19T17:35:31.468051Z",
     "start_time": "2022-03-19T17:35:31.463108Z"
    }
   },
   "outputs": [],
   "source": [
    "ridge=Ridge()\n",
    "elastic=ElasticNet()\n",
    "svm=SVR()\n",
    "forest_reg=RandomForestRegressor()"
   ]
  },
  {
   "cell_type": "code",
   "execution_count": 134,
   "metadata": {
    "ExecuteTime": {
     "end_time": "2022-03-19T17:36:10.529491Z",
     "start_time": "2022-03-19T17:36:10.517390Z"
    }
   },
   "outputs": [],
   "source": [
    "voting= VotingRegressor(estimators=[ (\"elastic\", elastic),(\"forest\",best_forest),(\"svm\",svm),('ridge',ridge)])"
   ]
  },
  {
   "cell_type": "code",
   "execution_count": 135,
   "metadata": {
    "ExecuteTime": {
     "end_time": "2022-03-19T17:36:18.551453Z",
     "start_time": "2022-03-19T17:36:13.470169Z"
    }
   },
   "outputs": [
    {
     "name": "stderr",
     "output_type": "stream",
     "text": [
      "/home/jorge/Documents/Diplomado/ambientes/diplo_env/lib/python3.6/site-packages/sklearn/utils/validation.py:72: DataConversionWarning: A column-vector y was passed when a 1d array was expected. Please change the shape of y to (n_samples, ), for example using ravel().\n",
      "  return f(**kwargs)\n"
     ]
    },
    {
     "data": {
      "text/plain": [
       "VotingRegressor(estimators=[('elastic', ElasticNet()),\n",
       "                            ('forest',\n",
       "                             RandomForestRegressor(max_depth=50, max_features=5,\n",
       "                                                   n_estimators=70)),\n",
       "                            ('svm', SVR()), ('ridge', Ridge())])"
      ]
     },
     "execution_count": 135,
     "metadata": {},
     "output_type": "execute_result"
    }
   ],
   "source": [
    "voting.fit(X,Y)"
   ]
  },
  {
   "cell_type": "code",
   "execution_count": 136,
   "metadata": {
    "ExecuteTime": {
     "end_time": "2022-03-19T17:36:30.410500Z",
     "start_time": "2022-03-19T17:36:28.683019Z"
    }
   },
   "outputs": [
    {
     "name": "stdout",
     "output_type": "stream",
     "text": [
      "El r2 score es 0.6843486458670469\n",
      "El error cuadrático medio es 99832232097.13977\n",
      "El error medio absoluto es 211104.19537937638\n"
     ]
    }
   ],
   "source": [
    "metricas(Y,voting.predict(X))"
   ]
  },
  {
   "cell_type": "code",
   "execution_count": 137,
   "metadata": {
    "ExecuteTime": {
     "end_time": "2022-03-19T17:36:36.094947Z",
     "start_time": "2022-03-19T17:36:35.894557Z"
    }
   },
   "outputs": [
    {
     "name": "stdout",
     "output_type": "stream",
     "text": [
      "El r2 score es 0.6265191937703632\n",
      "El error cuadrático medio es 85837463790.07907\n",
      "El error medio absoluto es 205681.82528574686\n"
     ]
    }
   ],
   "source": [
    "metricas(Y_v,voting.predict(X_v))"
   ]
  },
  {
   "cell_type": "code",
   "execution_count": 138,
   "metadata": {
    "ExecuteTime": {
     "end_time": "2022-03-19T17:37:10.673970Z",
     "start_time": "2022-03-19T17:37:10.510943Z"
    }
   },
   "outputs": [],
   "source": [
    "pd.to_pickle(voting,'voting_housing.pkl')"
   ]
  },
  {
   "cell_type": "code",
   "execution_count": null,
   "metadata": {},
   "outputs": [],
   "source": []
  }
 ],
 "metadata": {
  "kernelspec": {
   "display_name": "diplo_env",
   "language": "python",
   "name": "diplo_env"
  },
  "language_info": {
   "codemirror_mode": {
    "name": "ipython",
    "version": 3
   },
   "file_extension": ".py",
   "mimetype": "text/x-python",
   "name": "python",
   "nbconvert_exporter": "python",
   "pygments_lexer": "ipython3",
   "version": "3.6.13"
  },
  "varInspector": {
   "cols": {
    "lenName": 16,
    "lenType": 16,
    "lenVar": 40
   },
   "kernels_config": {
    "python": {
     "delete_cmd_postfix": "",
     "delete_cmd_prefix": "del ",
     "library": "var_list.py",
     "varRefreshCmd": "print(var_dic_list())"
    },
    "r": {
     "delete_cmd_postfix": ") ",
     "delete_cmd_prefix": "rm(",
     "library": "var_list.r",
     "varRefreshCmd": "cat(var_dic_list()) "
    }
   },
   "types_to_exclude": [
    "module",
    "function",
    "builtin_function_or_method",
    "instance",
    "_Feature"
   ],
   "window_display": false
  }
 },
 "nbformat": 4,
 "nbformat_minor": 4
}

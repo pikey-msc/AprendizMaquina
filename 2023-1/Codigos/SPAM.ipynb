{
 "cells": [
  {
   "cell_type": "code",
   "execution_count": 1,
   "metadata": {
    "ExecuteTime": {
     "end_time": "2022-02-24T23:50:04.857482Z",
     "start_time": "2022-02-24T23:50:03.776015Z"
    }
   },
   "outputs": [],
   "source": [
    "import os\n",
    "import re\n",
    "import emoji\n",
    "import numpy as np\n",
    "import unicodedata\n",
    "import pandas as pd\n",
    "from bs4 import BeautifulSoup\n",
    "from sklearn.metrics import roc_auc_score\n",
    "from nltk.corpus import stopwords\n",
    "from sklearn.linear_model import LogisticRegression\n",
    "from sklearn.feature_selection import SelectKBest, f_classif\n",
    "from sklearn.model_selection import cross_val_score, train_test_split\n",
    "from sklearn.feature_extraction.text import CountVectorizer, TfidfVectorizer"
   ]
  },
  {
   "cell_type": "code",
   "execution_count": 2,
   "metadata": {
    "ExecuteTime": {
     "end_time": "2022-02-24T23:50:05.028753Z",
     "start_time": "2022-02-24T23:50:05.022415Z"
    }
   },
   "outputs": [],
   "source": [
    "##quita acentos,vuelve todo a minúsculas y se quitan signos \n",
    "def clean_text(text):\n",
    "    res =  unicodedata.normalize('NFD', text).encode('ascii', 'ignore')\n",
    "    res = re.sub(\"[^a-zA-Z0-9 ]\",\" \", res.decode(\"utf-8\"), flags=re.UNICODE)\n",
    "    res =  u' '.join(res.lower().split())\n",
    "    return res"
   ]
  },
  {
   "cell_type": "code",
   "execution_count": 3,
   "metadata": {
    "ExecuteTime": {
     "end_time": "2022-02-24T23:50:06.542081Z",
     "start_time": "2022-02-24T23:50:06.519903Z"
    }
   },
   "outputs": [
    {
     "data": {
      "text/plain": [
       "'que es eso'"
      ]
     },
     "execution_count": 3,
     "metadata": {},
     "output_type": "execute_result"
    }
   ],
   "source": [
    "clean_text('¿Qué es eso    ?')"
   ]
  },
  {
   "cell_type": "code",
   "execution_count": 4,
   "metadata": {
    "ExecuteTime": {
     "end_time": "2022-02-24T23:50:06.939465Z",
     "start_time": "2022-02-24T23:50:06.936313Z"
    }
   },
   "outputs": [],
   "source": [
    "from glob import glob"
   ]
  },
  {
   "cell_type": "code",
   "execution_count": 5,
   "metadata": {
    "ExecuteTime": {
     "end_time": "2022-02-24T23:50:08.785201Z",
     "start_time": "2022-02-24T23:50:08.776176Z"
    }
   },
   "outputs": [],
   "source": [
    "archivos_spam=glob('../data/SPAM/*.csv')"
   ]
  },
  {
   "cell_type": "code",
   "execution_count": 6,
   "metadata": {
    "ExecuteTime": {
     "end_time": "2022-02-24T23:50:10.203186Z",
     "start_time": "2022-02-24T23:50:10.192023Z"
    }
   },
   "outputs": [
    {
     "data": {
      "text/plain": [
       "['../data/SPAM/Youtube02-KatyPerry.csv',\n",
       " '../data/SPAM/Youtube03-LMFAO.csv',\n",
       " '../data/SPAM/Youtube05-Shakira.csv',\n",
       " '../data/SPAM/Youtube04-Eminem.csv',\n",
       " '../data/SPAM/Youtube01-Psy.csv']"
      ]
     },
     "execution_count": 6,
     "metadata": {},
     "output_type": "execute_result"
    }
   ],
   "source": [
    "archivos_spam"
   ]
  },
  {
   "cell_type": "code",
   "execution_count": 7,
   "metadata": {
    "ExecuteTime": {
     "end_time": "2022-02-24T23:50:10.654027Z",
     "start_time": "2022-02-24T23:50:10.643744Z"
    }
   },
   "outputs": [
    {
     "data": {
      "text/plain": [
       "'KatyPerry'"
      ]
     },
     "execution_count": 7,
     "metadata": {},
     "output_type": "execute_result"
    }
   ],
   "source": [
    "archivos_spam[0].split('-')[1].split('.')[0]"
   ]
  },
  {
   "cell_type": "code",
   "execution_count": 8,
   "metadata": {
    "ExecuteTime": {
     "end_time": "2022-02-24T23:50:12.862652Z",
     "start_time": "2022-02-24T23:50:12.849032Z"
    }
   },
   "outputs": [
    {
     "data": {
      "text/plain": [
       "['../data/SPAM/Youtube02-KatyPerry.csv',\n",
       " '../data/SPAM/Youtube03-LMFAO.csv',\n",
       " '../data/SPAM/Youtube05-Shakira.csv',\n",
       " '../data/SPAM/Youtube04-Eminem.csv',\n",
       " '../data/SPAM/Youtube01-Psy.csv']"
      ]
     },
     "execution_count": 8,
     "metadata": {},
     "output_type": "execute_result"
    }
   ],
   "source": [
    "archivos_spam"
   ]
  },
  {
   "cell_type": "code",
   "execution_count": 9,
   "metadata": {
    "ExecuteTime": {
     "end_time": "2022-02-24T23:50:14.179601Z",
     "start_time": "2022-02-24T23:50:14.129494Z"
    }
   },
   "outputs": [],
   "source": [
    "data=[]\n",
    "for file in archivos_spam:\n",
    "    data_spam=pd.read_csv(file)\n",
    "    data_spam['artista']=file.split('-')[1].split('.')[0]\n",
    "    data.append(data_spam)"
   ]
  },
  {
   "cell_type": "code",
   "execution_count": 10,
   "metadata": {
    "ExecuteTime": {
     "end_time": "2022-02-24T23:50:15.377521Z",
     "start_time": "2022-02-24T23:50:15.353803Z"
    }
   },
   "outputs": [],
   "source": [
    "data_spam=pd.concat(data)"
   ]
  },
  {
   "cell_type": "code",
   "execution_count": 11,
   "metadata": {
    "ExecuteTime": {
     "end_time": "2022-02-24T23:50:15.782429Z",
     "start_time": "2022-02-24T23:50:15.748912Z"
    },
    "scrolled": true
   },
   "outputs": [
    {
     "data": {
      "text/html": [
       "<div>\n",
       "<style scoped>\n",
       "    .dataframe tbody tr th:only-of-type {\n",
       "        vertical-align: middle;\n",
       "    }\n",
       "\n",
       "    .dataframe tbody tr th {\n",
       "        vertical-align: top;\n",
       "    }\n",
       "\n",
       "    .dataframe thead th {\n",
       "        text-align: right;\n",
       "    }\n",
       "</style>\n",
       "<table border=\"1\" class=\"dataframe\">\n",
       "  <thead>\n",
       "    <tr style=\"text-align: right;\">\n",
       "      <th></th>\n",
       "      <th>COMMENT_ID</th>\n",
       "      <th>AUTHOR</th>\n",
       "      <th>DATE</th>\n",
       "      <th>CONTENT</th>\n",
       "      <th>CLASS</th>\n",
       "      <th>artista</th>\n",
       "    </tr>\n",
       "  </thead>\n",
       "  <tbody>\n",
       "    <tr>\n",
       "      <th>0</th>\n",
       "      <td>z12pgdhovmrktzm3i23es5d5junftft3f</td>\n",
       "      <td>lekanaVEVO1</td>\n",
       "      <td>2014-07-22T15:27:50</td>\n",
       "      <td>i love this so much. AND also I Generate Free ...</td>\n",
       "      <td>1</td>\n",
       "      <td>KatyPerry</td>\n",
       "    </tr>\n",
       "    <tr>\n",
       "      <th>1</th>\n",
       "      <td>z13yx345uxepetggz04ci5rjcxeohzlrtf4</td>\n",
       "      <td>Pyunghee</td>\n",
       "      <td>2014-07-27T01:57:16</td>\n",
       "      <td>http://www.billboard.com/articles/columns/pop-...</td>\n",
       "      <td>1</td>\n",
       "      <td>KatyPerry</td>\n",
       "    </tr>\n",
       "    <tr>\n",
       "      <th>2</th>\n",
       "      <td>z12lsjvi3wa5x1vwh04cibeaqnzrevxajw00k</td>\n",
       "      <td>Erica Ross</td>\n",
       "      <td>2014-07-27T02:51:43</td>\n",
       "      <td>Hey guys! Please join me in my fight to help a...</td>\n",
       "      <td>1</td>\n",
       "      <td>KatyPerry</td>\n",
       "    </tr>\n",
       "    <tr>\n",
       "      <th>3</th>\n",
       "      <td>z13jcjuovxbwfr0ge04cev2ipsjdfdurwck</td>\n",
       "      <td>Aviel Haimov</td>\n",
       "      <td>2014-08-01T12:27:48</td>\n",
       "      <td>http://psnboss.com/?ref=2tGgp3pV6L this is the...</td>\n",
       "      <td>1</td>\n",
       "      <td>KatyPerry</td>\n",
       "    </tr>\n",
       "    <tr>\n",
       "      <th>4</th>\n",
       "      <td>z13qybua2yfydzxzj04cgfpqdt2syfx53ms0k</td>\n",
       "      <td>John Bello</td>\n",
       "      <td>2014-08-01T21:04:03</td>\n",
       "      <td>Hey everyone. Watch this trailer!!!!!!!!  http...</td>\n",
       "      <td>1</td>\n",
       "      <td>KatyPerry</td>\n",
       "    </tr>\n",
       "    <tr>\n",
       "      <th>...</th>\n",
       "      <td>...</td>\n",
       "      <td>...</td>\n",
       "      <td>...</td>\n",
       "      <td>...</td>\n",
       "      <td>...</td>\n",
       "      <td>...</td>\n",
       "    </tr>\n",
       "    <tr>\n",
       "      <th>345</th>\n",
       "      <td>z13th1q4yzihf1bll23qxzpjeujterydj</td>\n",
       "      <td>Carmen Racasanu</td>\n",
       "      <td>2014-11-14T13:27:52</td>\n",
       "      <td>How can this have 2 billion views when there's...</td>\n",
       "      <td>0</td>\n",
       "      <td>Psy</td>\n",
       "    </tr>\n",
       "    <tr>\n",
       "      <th>346</th>\n",
       "      <td>z13fcn1wfpb5e51xe04chdxakpzgchyaxzo0k</td>\n",
       "      <td>diego mogrovejo</td>\n",
       "      <td>2014-11-14T13:28:08</td>\n",
       "      <td>I don't now why I'm watching this in 2014﻿</td>\n",
       "      <td>0</td>\n",
       "      <td>Psy</td>\n",
       "    </tr>\n",
       "    <tr>\n",
       "      <th>347</th>\n",
       "      <td>z130zd5b3titudkoe04ccbeohojxuzppvbg</td>\n",
       "      <td>BlueYetiPlayz -Call Of Duty and More</td>\n",
       "      <td>2015-05-23T13:04:32</td>\n",
       "      <td>subscribe to me for call of duty vids and give...</td>\n",
       "      <td>1</td>\n",
       "      <td>Psy</td>\n",
       "    </tr>\n",
       "    <tr>\n",
       "      <th>348</th>\n",
       "      <td>z12he50arvrkivl5u04cctawgxzkjfsjcc4</td>\n",
       "      <td>Photo Editor</td>\n",
       "      <td>2015-06-05T14:14:48</td>\n",
       "      <td>hi guys please my android photo editor downloa...</td>\n",
       "      <td>1</td>\n",
       "      <td>Psy</td>\n",
       "    </tr>\n",
       "    <tr>\n",
       "      <th>349</th>\n",
       "      <td>z13vhvu54u3ewpp5h04ccb4zuoardrmjlyk0k</td>\n",
       "      <td>Ray Benich</td>\n",
       "      <td>2015-06-05T18:05:16</td>\n",
       "      <td>The first billion viewed this because they tho...</td>\n",
       "      <td>0</td>\n",
       "      <td>Psy</td>\n",
       "    </tr>\n",
       "  </tbody>\n",
       "</table>\n",
       "<p>1956 rows × 6 columns</p>\n",
       "</div>"
      ],
      "text/plain": [
       "                                COMMENT_ID  \\\n",
       "0        z12pgdhovmrktzm3i23es5d5junftft3f   \n",
       "1      z13yx345uxepetggz04ci5rjcxeohzlrtf4   \n",
       "2    z12lsjvi3wa5x1vwh04cibeaqnzrevxajw00k   \n",
       "3      z13jcjuovxbwfr0ge04cev2ipsjdfdurwck   \n",
       "4    z13qybua2yfydzxzj04cgfpqdt2syfx53ms0k   \n",
       "..                                     ...   \n",
       "345      z13th1q4yzihf1bll23qxzpjeujterydj   \n",
       "346  z13fcn1wfpb5e51xe04chdxakpzgchyaxzo0k   \n",
       "347    z130zd5b3titudkoe04ccbeohojxuzppvbg   \n",
       "348    z12he50arvrkivl5u04cctawgxzkjfsjcc4   \n",
       "349  z13vhvu54u3ewpp5h04ccb4zuoardrmjlyk0k   \n",
       "\n",
       "                                   AUTHOR                 DATE  \\\n",
       "0                             lekanaVEVO1  2014-07-22T15:27:50   \n",
       "1                                Pyunghee  2014-07-27T01:57:16   \n",
       "2                              Erica Ross  2014-07-27T02:51:43   \n",
       "3                            Aviel Haimov  2014-08-01T12:27:48   \n",
       "4                              John Bello  2014-08-01T21:04:03   \n",
       "..                                    ...                  ...   \n",
       "345                       Carmen Racasanu  2014-11-14T13:27:52   \n",
       "346                       diego mogrovejo  2014-11-14T13:28:08   \n",
       "347  BlueYetiPlayz -Call Of Duty and More  2015-05-23T13:04:32   \n",
       "348                          Photo Editor  2015-06-05T14:14:48   \n",
       "349                            Ray Benich  2015-06-05T18:05:16   \n",
       "\n",
       "                                               CONTENT  CLASS    artista  \n",
       "0    i love this so much. AND also I Generate Free ...      1  KatyPerry  \n",
       "1    http://www.billboard.com/articles/columns/pop-...      1  KatyPerry  \n",
       "2    Hey guys! Please join me in my fight to help a...      1  KatyPerry  \n",
       "3    http://psnboss.com/?ref=2tGgp3pV6L this is the...      1  KatyPerry  \n",
       "4    Hey everyone. Watch this trailer!!!!!!!!  http...      1  KatyPerry  \n",
       "..                                                 ...    ...        ...  \n",
       "345  How can this have 2 billion views when there's...      0        Psy  \n",
       "346         I don't now why I'm watching this in 2014﻿      0        Psy  \n",
       "347  subscribe to me for call of duty vids and give...      1        Psy  \n",
       "348  hi guys please my android photo editor downloa...      1        Psy  \n",
       "349  The first billion viewed this because they tho...      0        Psy  \n",
       "\n",
       "[1956 rows x 6 columns]"
      ]
     },
     "execution_count": 11,
     "metadata": {},
     "output_type": "execute_result"
    }
   ],
   "source": [
    "data_spam"
   ]
  },
  {
   "cell_type": "code",
   "execution_count": 12,
   "metadata": {
    "ExecuteTime": {
     "end_time": "2022-02-24T23:50:20.850792Z",
     "start_time": "2022-02-24T23:50:20.842281Z"
    }
   },
   "outputs": [],
   "source": [
    "data_spam.reset_index(drop=True,inplace=True)\n"
   ]
  },
  {
   "cell_type": "code",
   "execution_count": 13,
   "metadata": {
    "ExecuteTime": {
     "end_time": "2022-02-24T23:50:21.683387Z",
     "start_time": "2022-02-24T23:50:21.651522Z"
    },
    "scrolled": true
   },
   "outputs": [
    {
     "data": {
      "text/html": [
       "<div>\n",
       "<style scoped>\n",
       "    .dataframe tbody tr th:only-of-type {\n",
       "        vertical-align: middle;\n",
       "    }\n",
       "\n",
       "    .dataframe tbody tr th {\n",
       "        vertical-align: top;\n",
       "    }\n",
       "\n",
       "    .dataframe thead th {\n",
       "        text-align: right;\n",
       "    }\n",
       "</style>\n",
       "<table border=\"1\" class=\"dataframe\">\n",
       "  <thead>\n",
       "    <tr style=\"text-align: right;\">\n",
       "      <th></th>\n",
       "      <th>COMMENT_ID</th>\n",
       "      <th>AUTHOR</th>\n",
       "      <th>DATE</th>\n",
       "      <th>CONTENT</th>\n",
       "      <th>CLASS</th>\n",
       "      <th>artista</th>\n",
       "    </tr>\n",
       "  </thead>\n",
       "  <tbody>\n",
       "    <tr>\n",
       "      <th>0</th>\n",
       "      <td>z12pgdhovmrktzm3i23es5d5junftft3f</td>\n",
       "      <td>lekanaVEVO1</td>\n",
       "      <td>2014-07-22T15:27:50</td>\n",
       "      <td>i love this so much. AND also I Generate Free ...</td>\n",
       "      <td>1</td>\n",
       "      <td>KatyPerry</td>\n",
       "    </tr>\n",
       "    <tr>\n",
       "      <th>1</th>\n",
       "      <td>z13yx345uxepetggz04ci5rjcxeohzlrtf4</td>\n",
       "      <td>Pyunghee</td>\n",
       "      <td>2014-07-27T01:57:16</td>\n",
       "      <td>http://www.billboard.com/articles/columns/pop-...</td>\n",
       "      <td>1</td>\n",
       "      <td>KatyPerry</td>\n",
       "    </tr>\n",
       "    <tr>\n",
       "      <th>2</th>\n",
       "      <td>z12lsjvi3wa5x1vwh04cibeaqnzrevxajw00k</td>\n",
       "      <td>Erica Ross</td>\n",
       "      <td>2014-07-27T02:51:43</td>\n",
       "      <td>Hey guys! Please join me in my fight to help a...</td>\n",
       "      <td>1</td>\n",
       "      <td>KatyPerry</td>\n",
       "    </tr>\n",
       "    <tr>\n",
       "      <th>3</th>\n",
       "      <td>z13jcjuovxbwfr0ge04cev2ipsjdfdurwck</td>\n",
       "      <td>Aviel Haimov</td>\n",
       "      <td>2014-08-01T12:27:48</td>\n",
       "      <td>http://psnboss.com/?ref=2tGgp3pV6L this is the...</td>\n",
       "      <td>1</td>\n",
       "      <td>KatyPerry</td>\n",
       "    </tr>\n",
       "    <tr>\n",
       "      <th>4</th>\n",
       "      <td>z13qybua2yfydzxzj04cgfpqdt2syfx53ms0k</td>\n",
       "      <td>John Bello</td>\n",
       "      <td>2014-08-01T21:04:03</td>\n",
       "      <td>Hey everyone. Watch this trailer!!!!!!!!  http...</td>\n",
       "      <td>1</td>\n",
       "      <td>KatyPerry</td>\n",
       "    </tr>\n",
       "    <tr>\n",
       "      <th>...</th>\n",
       "      <td>...</td>\n",
       "      <td>...</td>\n",
       "      <td>...</td>\n",
       "      <td>...</td>\n",
       "      <td>...</td>\n",
       "      <td>...</td>\n",
       "    </tr>\n",
       "    <tr>\n",
       "      <th>1951</th>\n",
       "      <td>z13th1q4yzihf1bll23qxzpjeujterydj</td>\n",
       "      <td>Carmen Racasanu</td>\n",
       "      <td>2014-11-14T13:27:52</td>\n",
       "      <td>How can this have 2 billion views when there's...</td>\n",
       "      <td>0</td>\n",
       "      <td>Psy</td>\n",
       "    </tr>\n",
       "    <tr>\n",
       "      <th>1952</th>\n",
       "      <td>z13fcn1wfpb5e51xe04chdxakpzgchyaxzo0k</td>\n",
       "      <td>diego mogrovejo</td>\n",
       "      <td>2014-11-14T13:28:08</td>\n",
       "      <td>I don't now why I'm watching this in 2014﻿</td>\n",
       "      <td>0</td>\n",
       "      <td>Psy</td>\n",
       "    </tr>\n",
       "    <tr>\n",
       "      <th>1953</th>\n",
       "      <td>z130zd5b3titudkoe04ccbeohojxuzppvbg</td>\n",
       "      <td>BlueYetiPlayz -Call Of Duty and More</td>\n",
       "      <td>2015-05-23T13:04:32</td>\n",
       "      <td>subscribe to me for call of duty vids and give...</td>\n",
       "      <td>1</td>\n",
       "      <td>Psy</td>\n",
       "    </tr>\n",
       "    <tr>\n",
       "      <th>1954</th>\n",
       "      <td>z12he50arvrkivl5u04cctawgxzkjfsjcc4</td>\n",
       "      <td>Photo Editor</td>\n",
       "      <td>2015-06-05T14:14:48</td>\n",
       "      <td>hi guys please my android photo editor downloa...</td>\n",
       "      <td>1</td>\n",
       "      <td>Psy</td>\n",
       "    </tr>\n",
       "    <tr>\n",
       "      <th>1955</th>\n",
       "      <td>z13vhvu54u3ewpp5h04ccb4zuoardrmjlyk0k</td>\n",
       "      <td>Ray Benich</td>\n",
       "      <td>2015-06-05T18:05:16</td>\n",
       "      <td>The first billion viewed this because they tho...</td>\n",
       "      <td>0</td>\n",
       "      <td>Psy</td>\n",
       "    </tr>\n",
       "  </tbody>\n",
       "</table>\n",
       "<p>1956 rows × 6 columns</p>\n",
       "</div>"
      ],
      "text/plain": [
       "                                 COMMENT_ID  \\\n",
       "0         z12pgdhovmrktzm3i23es5d5junftft3f   \n",
       "1       z13yx345uxepetggz04ci5rjcxeohzlrtf4   \n",
       "2     z12lsjvi3wa5x1vwh04cibeaqnzrevxajw00k   \n",
       "3       z13jcjuovxbwfr0ge04cev2ipsjdfdurwck   \n",
       "4     z13qybua2yfydzxzj04cgfpqdt2syfx53ms0k   \n",
       "...                                     ...   \n",
       "1951      z13th1q4yzihf1bll23qxzpjeujterydj   \n",
       "1952  z13fcn1wfpb5e51xe04chdxakpzgchyaxzo0k   \n",
       "1953    z130zd5b3titudkoe04ccbeohojxuzppvbg   \n",
       "1954    z12he50arvrkivl5u04cctawgxzkjfsjcc4   \n",
       "1955  z13vhvu54u3ewpp5h04ccb4zuoardrmjlyk0k   \n",
       "\n",
       "                                    AUTHOR                 DATE  \\\n",
       "0                              lekanaVEVO1  2014-07-22T15:27:50   \n",
       "1                                 Pyunghee  2014-07-27T01:57:16   \n",
       "2                               Erica Ross  2014-07-27T02:51:43   \n",
       "3                             Aviel Haimov  2014-08-01T12:27:48   \n",
       "4                               John Bello  2014-08-01T21:04:03   \n",
       "...                                    ...                  ...   \n",
       "1951                       Carmen Racasanu  2014-11-14T13:27:52   \n",
       "1952                       diego mogrovejo  2014-11-14T13:28:08   \n",
       "1953  BlueYetiPlayz -Call Of Duty and More  2015-05-23T13:04:32   \n",
       "1954                          Photo Editor  2015-06-05T14:14:48   \n",
       "1955                            Ray Benich  2015-06-05T18:05:16   \n",
       "\n",
       "                                                CONTENT  CLASS    artista  \n",
       "0     i love this so much. AND also I Generate Free ...      1  KatyPerry  \n",
       "1     http://www.billboard.com/articles/columns/pop-...      1  KatyPerry  \n",
       "2     Hey guys! Please join me in my fight to help a...      1  KatyPerry  \n",
       "3     http://psnboss.com/?ref=2tGgp3pV6L this is the...      1  KatyPerry  \n",
       "4     Hey everyone. Watch this trailer!!!!!!!!  http...      1  KatyPerry  \n",
       "...                                                 ...    ...        ...  \n",
       "1951  How can this have 2 billion views when there's...      0        Psy  \n",
       "1952         I don't now why I'm watching this in 2014﻿      0        Psy  \n",
       "1953  subscribe to me for call of duty vids and give...      1        Psy  \n",
       "1954  hi guys please my android photo editor downloa...      1        Psy  \n",
       "1955  The first billion viewed this because they tho...      0        Psy  \n",
       "\n",
       "[1956 rows x 6 columns]"
      ]
     },
     "execution_count": 13,
     "metadata": {},
     "output_type": "execute_result"
    }
   ],
   "source": [
    "data_spam"
   ]
  },
  {
   "cell_type": "code",
   "execution_count": 14,
   "metadata": {
    "ExecuteTime": {
     "end_time": "2022-02-24T23:50:28.704644Z",
     "start_time": "2022-02-24T23:50:28.683380Z"
    }
   },
   "outputs": [
    {
     "data": {
      "text/plain": [
       "1    0.513804\n",
       "0    0.486196\n",
       "Name: CLASS, dtype: float64"
      ]
     },
     "execution_count": 14,
     "metadata": {},
     "output_type": "execute_result"
    }
   ],
   "source": [
    "data_spam[\"CLASS\"].value_counts(1)"
   ]
  },
  {
   "cell_type": "code",
   "execution_count": 15,
   "metadata": {
    "ExecuteTime": {
     "end_time": "2022-02-24T23:50:29.526964Z",
     "start_time": "2022-02-24T23:50:29.512336Z"
    }
   },
   "outputs": [
    {
     "data": {
      "text/plain": [
       "Eminem       0.229039\n",
       "LMFAO        0.223926\n",
       "Shakira      0.189162\n",
       "Psy          0.178937\n",
       "KatyPerry    0.178937\n",
       "Name: artista, dtype: float64"
      ]
     },
     "execution_count": 15,
     "metadata": {},
     "output_type": "execute_result"
    }
   ],
   "source": [
    "data_spam[\"artista\"].value_counts(1)"
   ]
  },
  {
   "cell_type": "code",
   "execution_count": 16,
   "metadata": {
    "ExecuteTime": {
     "end_time": "2022-02-24T23:50:30.195042Z",
     "start_time": "2022-02-24T23:50:30.179634Z"
    }
   },
   "outputs": [
    {
     "data": {
      "text/plain": [
       "M.E.S              0.004090\n",
       "Louis Bryant       0.003579\n",
       "5000palo           0.003579\n",
       "Shadrach Grentz    0.003579\n",
       "DanteBTV           0.003067\n",
       "                     ...   \n",
       "austin green       0.000511\n",
       "Corey Wilson       0.000511\n",
       "Aniyah Wells       0.000511\n",
       "Dloga2             0.000511\n",
       "GrayGRW            0.000511\n",
       "Name: AUTHOR, Length: 1792, dtype: float64"
      ]
     },
     "execution_count": 16,
     "metadata": {},
     "output_type": "execute_result"
    }
   ],
   "source": [
    "data_spam[\"AUTHOR\"].value_counts(True)"
   ]
  },
  {
   "cell_type": "code",
   "execution_count": 17,
   "metadata": {
    "ExecuteTime": {
     "end_time": "2022-02-24T23:50:30.808385Z",
     "start_time": "2022-02-24T23:50:30.792668Z"
    }
   },
   "outputs": [
    {
     "data": {
      "text/plain": [
       "3"
      ]
     },
     "execution_count": 17,
     "metadata": {},
     "output_type": "execute_result"
    }
   ],
   "source": [
    "data_spam.iloc[0,3].count('.')"
   ]
  },
  {
   "cell_type": "code",
   "execution_count": 18,
   "metadata": {
    "ExecuteTime": {
     "end_time": "2022-02-24T23:50:32.026681Z",
     "start_time": "2022-02-24T23:50:32.012526Z"
    }
   },
   "outputs": [],
   "source": [
    "data_spam['n_caracteres']=data_spam[\"CONTENT\"].str.len()"
   ]
  },
  {
   "cell_type": "code",
   "execution_count": 19,
   "metadata": {
    "ExecuteTime": {
     "end_time": "2022-02-24T23:50:32.470911Z",
     "start_time": "2022-02-24T23:50:32.461019Z"
    }
   },
   "outputs": [],
   "source": [
    "data_spam[\"n_dots\"] = data_spam['CONTENT'].map(lambda x: x.count('.'))"
   ]
  },
  {
   "cell_type": "code",
   "execution_count": 20,
   "metadata": {
    "ExecuteTime": {
     "end_time": "2022-02-24T23:50:33.202115Z",
     "start_time": "2022-02-24T23:50:33.149834Z"
    }
   },
   "outputs": [
    {
     "data": {
      "text/plain": [
       "0       0\n",
       "1       0\n",
       "2       0\n",
       "3       0\n",
       "4       0\n",
       "       ..\n",
       "1951    0\n",
       "1952    0\n",
       "1953    0\n",
       "1954    0\n",
       "1955    0\n",
       "Length: 1956, dtype: int64"
      ]
     },
     "execution_count": 20,
     "metadata": {},
     "output_type": "execute_result"
    }
   ],
   "source": [
    "data_spam.apply(lambda x:re.findall(x[\"artista\"].lower(), x[\"CONTENT\"].lower()), axis = 1).str.len()"
   ]
  },
  {
   "cell_type": "code",
   "execution_count": 21,
   "metadata": {
    "ExecuteTime": {
     "end_time": "2022-02-24T23:50:35.871564Z",
     "start_time": "2022-02-24T23:50:35.859992Z"
    }
   },
   "outputs": [
    {
     "data": {
      "text/plain": [
       "[]"
      ]
     },
     "execution_count": 21,
     "metadata": {},
     "output_type": "execute_result"
    }
   ],
   "source": [
    "re.findall(data_spam['artista'][0].lower(),data_spam['CONTENT'][0].lower())"
   ]
  },
  {
   "cell_type": "code",
   "execution_count": 22,
   "metadata": {
    "ExecuteTime": {
     "end_time": "2022-02-24T23:50:36.595781Z",
     "start_time": "2022-02-24T23:50:36.584069Z"
    }
   },
   "outputs": [
    {
     "data": {
      "text/plain": [
       "1"
      ]
     },
     "execution_count": 22,
     "metadata": {},
     "output_type": "execute_result"
    }
   ],
   "source": [
    "len(re.findall('psy','amo a psy'))"
   ]
  },
  {
   "cell_type": "code",
   "execution_count": 23,
   "metadata": {
    "ExecuteTime": {
     "end_time": "2022-02-24T23:50:38.672944Z",
     "start_time": "2022-02-24T23:50:38.408061Z"
    }
   },
   "outputs": [],
   "source": [
    "data_spam[\"n_artist\"] = data_spam.apply(lambda x:re.findall(x[\"artista\"].lower(), x[\"CONTENT\"].lower()), axis = 1).str.len()\n",
    "data_spam[\"n_urls\"] = data_spam.apply(lambda x:re.findall(\"http://\", x[\"CONTENT\"]) + re.findall(\"https://\", x[\"CONTENT\"]), axis = 1).str.len()\n",
    "data_spam[\"n_lower_ratio_len\"] = data_spam[\"CONTENT\"].map(lambda x:sum(map(str.islower, x))) / data_spam[\"n_caracteres\"]\n",
    "data_spam[\"n_upper_ratio_len\"] = data_spam[\"CONTENT\"].map(lambda x:sum(map(str.isupper, x))) / data_spam[\"n_caracteres\"]\n",
    "data_spam[\"n_words\"] = data_spam[\"CONTENT\"].str.split(\" \").str.len()\n",
    "data_spam[\"n_letters\"] = data_spam[\"CONTENT\"].map(lambda x:sum(map(str.isalpha, x)))\n",
    "data_spam[\"n_lower_ratio_letters\"] = data_spam[\"CONTENT\"].map(lambda x:sum(map(str.islower, x))) / data_spam[\"n_letters\"]\n",
    "data_spam[\"n_upper_ratio_letters\"] = data_spam[\"CONTENT\"].map(lambda x:sum(map(str.isupper, x))) / data_spam[\"n_letters\"]\n",
    "data_spam[\"n_emojis\"] = data_spam[\"CONTENT\"].map(emoji.emoji_count)\n",
    "data_spam[\"n_phone\"] = data_spam[\"CONTENT\"].map(lambda x:re.findall(r'\\+?(\\d{3}[-\\.\\s]??\\d{3}[-\\.\\s]??\\d{4}|\\(\\d{3}\\)\\s*\\d{3}[-\\.\\s]??\\d{4}|\\d{3}[-\\.\\s]??\\d{4})', x)).str.len()\n",
    "data_spam[\"n_email\"] = data_spam[\"CONTENT\"].map(lambda x: re.findall(r'[a-z0-9\\._-]+@[a-z0-9\\._-]+', x.lower())).str.len()"
   ]
  },
  {
   "cell_type": "code",
   "execution_count": 24,
   "metadata": {
    "ExecuteTime": {
     "end_time": "2022-02-24T23:50:40.528146Z",
     "start_time": "2022-02-24T23:50:40.062389Z"
    }
   },
   "outputs": [
    {
     "name": "stderr",
     "output_type": "stream",
     "text": [
      "/home/jorge/Documents/Diplomado/ambientes/diplo_env/lib/python3.6/site-packages/bs4/__init__.py:424: MarkupResemblesLocatorWarning: \"http://www.twitch.tv/daconnormc﻿\" looks like a URL. Beautiful Soup is not an HTTP client. You should probably use an HTTP client like requests to get the document behind the URL, and feed that document to Beautiful Soup.\n",
      "  MarkupResemblesLocatorWarning\n",
      "/home/jorge/Documents/Diplomado/ambientes/diplo_env/lib/python3.6/site-packages/bs4/__init__.py:424: MarkupResemblesLocatorWarning: \"https://www.facebook.com/photo.php?fbid=543627485763966&amp;l=0d878a889c﻿\" looks like a URL. Beautiful Soup is not an HTTP client. You should probably use an HTTP client like requests to get the document behind the URL, and feed that document to Beautiful Soup.\n",
      "  MarkupResemblesLocatorWarning\n",
      "/home/jorge/Documents/Diplomado/ambientes/diplo_env/lib/python3.6/site-packages/bs4/__init__.py:424: MarkupResemblesLocatorWarning: \"http://www.bubblews.com/news/6401116-vps-solutions﻿\" looks like a URL. Beautiful Soup is not an HTTP client. You should probably use an HTTP client like requests to get the document behind the URL, and feed that document to Beautiful Soup.\n",
      "  MarkupResemblesLocatorWarning\n",
      "/home/jorge/Documents/Diplomado/ambientes/diplo_env/lib/python3.6/site-packages/bs4/__init__.py:424: MarkupResemblesLocatorWarning: \"http://shhort.com/a?r=HuPwEH5ab﻿\" looks like a URL. Beautiful Soup is not an HTTP client. You should probably use an HTTP client like requests to get the document behind the URL, and feed that document to Beautiful Soup.\n",
      "  MarkupResemblesLocatorWarning\n",
      "/home/jorge/Documents/Diplomado/ambientes/diplo_env/lib/python3.6/site-packages/bs4/__init__.py:424: MarkupResemblesLocatorWarning: \"http://shhort.com/a?r=G8iX5cTKd﻿\" looks like a URL. Beautiful Soup is not an HTTP client. You should probably use an HTTP client like requests to get the document behind the URL, and feed that document to Beautiful Soup.\n",
      "  MarkupResemblesLocatorWarning\n",
      "/home/jorge/Documents/Diplomado/ambientes/diplo_env/lib/python3.6/site-packages/bs4/__init__.py:424: MarkupResemblesLocatorWarning: \"http://shhort.com/a?r=Jt2ufxHxc﻿\" looks like a URL. Beautiful Soup is not an HTTP client. You should probably use an HTTP client like requests to get the document behind the URL, and feed that document to Beautiful Soup.\n",
      "  MarkupResemblesLocatorWarning\n",
      "/home/jorge/Documents/Diplomado/ambientes/diplo_env/lib/python3.6/site-packages/bs4/__init__.py:424: MarkupResemblesLocatorWarning: \"https://www.reverbnation.com/slicknick313/songs﻿\" looks like a URL. Beautiful Soup is not an HTTP client. You should probably use an HTTP client like requests to get the document behind the URL, and feed that document to Beautiful Soup.\n",
      "  MarkupResemblesLocatorWarning\n",
      "/home/jorge/Documents/Diplomado/ambientes/diplo_env/lib/python3.6/site-packages/bs4/__init__.py:424: MarkupResemblesLocatorWarning: \"https://viralangels.com/user/d4aaacwk﻿\" looks like a URL. Beautiful Soup is not an HTTP client. You should probably use an HTTP client like requests to get the document behind the URL, and feed that document to Beautiful Soup.\n",
      "  MarkupResemblesLocatorWarning\n",
      "/home/jorge/Documents/Diplomado/ambientes/diplo_env/lib/python3.6/site-packages/bs4/__init__.py:424: MarkupResemblesLocatorWarning: \"https://vimeo.com/107297364﻿\" looks like a URL. Beautiful Soup is not an HTTP client. You should probably use an HTTP client like requests to get the document behind the URL, and feed that document to Beautiful Soup.\n",
      "  MarkupResemblesLocatorWarning\n",
      "/home/jorge/Documents/Diplomado/ambientes/diplo_env/lib/python3.6/site-packages/bs4/__init__.py:424: MarkupResemblesLocatorWarning: \"https://www.facebook.com/pages/Komedi-burda-gel/775510675841486﻿\" looks like a URL. Beautiful Soup is not an HTTP client. You should probably use an HTTP client like requests to get the document behind the URL, and feed that document to Beautiful Soup.\n",
      "  MarkupResemblesLocatorWarning\n",
      "/home/jorge/Documents/Diplomado/ambientes/diplo_env/lib/python3.6/site-packages/bs4/__init__.py:424: MarkupResemblesLocatorWarning: \"https://www.facebook.com/profile.php?id=100007085325116﻿\" looks like a URL. Beautiful Soup is not an HTTP client. You should probably use an HTTP client like requests to get the document behind the URL, and feed that document to Beautiful Soup.\n",
      "  MarkupResemblesLocatorWarning\n",
      "/home/jorge/Documents/Diplomado/ambientes/diplo_env/lib/python3.6/site-packages/bs4/__init__.py:424: MarkupResemblesLocatorWarning: \"http://vimeo.com/106865403﻿\" looks like a URL. Beautiful Soup is not an HTTP client. You should probably use an HTTP client like requests to get the document behind the URL, and feed that document to Beautiful Soup.\n",
      "  MarkupResemblesLocatorWarning\n",
      "/home/jorge/Documents/Diplomado/ambientes/diplo_env/lib/python3.6/site-packages/bs4/__init__.py:424: MarkupResemblesLocatorWarning: \"http://minhateca.com.br/mauro-sp2013/Filmes+Series+Desenhos+Animes+Mp3+etc﻿\" looks like a URL. Beautiful Soup is not an HTTP client. You should probably use an HTTP client like requests to get the document behind the URL, and feed that document to Beautiful Soup.\n",
      "  MarkupResemblesLocatorWarning\n",
      "/home/jorge/Documents/Diplomado/ambientes/diplo_env/lib/python3.6/site-packages/bs4/__init__.py:424: MarkupResemblesLocatorWarning: \"https://www.facebook.com/antrobofficial﻿\" looks like a URL. Beautiful Soup is not an HTTP client. You should probably use an HTTP client like requests to get the document behind the URL, and feed that document to Beautiful Soup.\n",
      "  MarkupResemblesLocatorWarning\n",
      "/home/jorge/Documents/Diplomado/ambientes/diplo_env/lib/python3.6/site-packages/bs4/__init__.py:424: MarkupResemblesLocatorWarning: \"http://hackfbaccountlive.com/?ref=4344749﻿\" looks like a URL. Beautiful Soup is not an HTTP client. You should probably use an HTTP client like requests to get the document behind the URL, and feed that document to Beautiful Soup.\n",
      "  MarkupResemblesLocatorWarning\n",
      "/home/jorge/Documents/Diplomado/ambientes/diplo_env/lib/python3.6/site-packages/bs4/__init__.py:424: MarkupResemblesLocatorWarning: \"https://soundcloud.com/j-supt-fils-du-son/fucking-hostile﻿\" looks like a URL. Beautiful Soup is not an HTTP client. You should probably use an HTTP client like requests to get the document behind the URL, and feed that document to Beautiful Soup.\n",
      "  MarkupResemblesLocatorWarning\n",
      "/home/jorge/Documents/Diplomado/ambientes/diplo_env/lib/python3.6/site-packages/bs4/__init__.py:424: MarkupResemblesLocatorWarning: \"https://www.facebook.com/myfunnyriddles﻿\" looks like a URL. Beautiful Soup is not an HTTP client. You should probably use an HTTP client like requests to get the document behind the URL, and feed that document to Beautiful Soup.\n",
      "  MarkupResemblesLocatorWarning\n",
      "/home/jorge/Documents/Diplomado/ambientes/diplo_env/lib/python3.6/site-packages/bs4/__init__.py:424: MarkupResemblesLocatorWarning: \"http://www.wattpad.com/story/26032883-she-can-love-you-good﻿\" looks like a URL. Beautiful Soup is not an HTTP client. You should probably use an HTTP client like requests to get the document behind the URL, and feed that document to Beautiful Soup.\n",
      "  MarkupResemblesLocatorWarning\n",
      "/home/jorge/Documents/Diplomado/ambientes/diplo_env/lib/python3.6/site-packages/bs4/__init__.py:424: MarkupResemblesLocatorWarning: \"https://binbox.io/DNCkM#qT4Q1JB1﻿\" looks like a URL. Beautiful Soup is not an HTTP client. You should probably use an HTTP client like requests to get the document behind the URL, and feed that document to Beautiful Soup.\n",
      "  MarkupResemblesLocatorWarning\n",
      "/home/jorge/Documents/Diplomado/ambientes/diplo_env/lib/python3.6/site-packages/bs4/__init__.py:424: MarkupResemblesLocatorWarning: \"https://twitter.com/GBphotographyGB﻿\" looks like a URL. Beautiful Soup is not an HTTP client. You should probably use an HTTP client like requests to get the document behind the URL, and feed that document to Beautiful Soup.\n",
      "  MarkupResemblesLocatorWarning\n",
      "/home/jorge/Documents/Diplomado/ambientes/diplo_env/lib/python3.6/site-packages/bs4/__init__.py:424: MarkupResemblesLocatorWarning: \"http://ubuntuone.com/40beUutVu2ZKxK4uTgPZ8K﻿\" looks like a URL. Beautiful Soup is not an HTTP client. You should probably use an HTTP client like requests to get the document behind the URL, and feed that document to Beautiful Soup.\n",
      "  MarkupResemblesLocatorWarning\n",
      "/home/jorge/Documents/Diplomado/ambientes/diplo_env/lib/python3.6/site-packages/bs4/__init__.py:424: MarkupResemblesLocatorWarning: \"http://hackfbaccountlive.com/?ref=4604617﻿\" looks like a URL. Beautiful Soup is not an HTTP client. You should probably use an HTTP client like requests to get the document behind the URL, and feed that document to Beautiful Soup.\n",
      "  MarkupResemblesLocatorWarning\n",
      "/home/jorge/Documents/Diplomado/ambientes/diplo_env/lib/python3.6/site-packages/bs4/__init__.py:424: MarkupResemblesLocatorWarning: \"http://binbox.io/1FIRo#123﻿\" looks like a URL. Beautiful Soup is not an HTTP client. You should probably use an HTTP client like requests to get the document behind the URL, and feed that document to Beautiful Soup.\n",
      "  MarkupResemblesLocatorWarning\n",
      "/home/jorge/Documents/Diplomado/ambientes/diplo_env/lib/python3.6/site-packages/bs4/__init__.py:424: MarkupResemblesLocatorWarning: \"http://thepiratebay.se/torrent/6381501/Timothy_Sykes_Collection﻿\" looks like a URL. Beautiful Soup is not an HTTP client. You should probably use an HTTP client like requests to get the document behind the URL, and feed that document to Beautiful Soup.\n",
      "  MarkupResemblesLocatorWarning\n",
      "/home/jorge/Documents/Diplomado/ambientes/diplo_env/lib/python3.6/site-packages/bs4/__init__.py:424: MarkupResemblesLocatorWarning: \"http://www.gcmforex.com/partners/aw.aspx?Task=JoinT2&amp;AffiliateID=9107﻿\" looks like a URL. Beautiful Soup is not an HTTP client. You should probably use an HTTP client like requests to get the document behind the URL, and feed that document to Beautiful Soup.\n",
      "  MarkupResemblesLocatorWarning\n",
      "/home/jorge/Documents/Diplomado/ambientes/diplo_env/lib/python3.6/site-packages/bs4/__init__.py:424: MarkupResemblesLocatorWarning: \"https://www.facebook.com/teeLaLaLa﻿\" looks like a URL. Beautiful Soup is not an HTTP client. You should probably use an HTTP client like requests to get the document behind the URL, and feed that document to Beautiful Soup.\n",
      "  MarkupResemblesLocatorWarning\n",
      "/home/jorge/Documents/Diplomado/ambientes/diplo_env/lib/python3.6/site-packages/bs4/__init__.py:424: MarkupResemblesLocatorWarning: \"http://www.twitch.tv/zxlightsoutxz﻿\" looks like a URL. Beautiful Soup is not an HTTP client. You should probably use an HTTP client like requests to get the document behind the URL, and feed that document to Beautiful Soup.\n",
      "  MarkupResemblesLocatorWarning\n",
      "/home/jorge/Documents/Diplomado/ambientes/diplo_env/lib/python3.6/site-packages/bs4/__init__.py:424: MarkupResemblesLocatorWarning: \"http://flipagram.com/f/LUkA1QMrhF﻿\" looks like a URL. Beautiful Soup is not an HTTP client. You should probably use an HTTP client like requests to get the document behind the URL, and feed that document to Beautiful Soup.\n",
      "  MarkupResemblesLocatorWarning\n",
      "/home/jorge/Documents/Diplomado/ambientes/diplo_env/lib/python3.6/site-packages/bs4/__init__.py:424: MarkupResemblesLocatorWarning: \"http://www.gofundme.com/gvr7xg﻿\" looks like a URL. Beautiful Soup is not an HTTP client. You should probably use an HTTP client like requests to get the document behind the URL, and feed that document to Beautiful Soup.\n",
      "  MarkupResemblesLocatorWarning\n",
      "/home/jorge/Documents/Diplomado/ambientes/diplo_env/lib/python3.6/site-packages/bs4/__init__.py:424: MarkupResemblesLocatorWarning: \"https://soundcloud.com/jackal-and-james/wrap-up-the-night﻿\" looks like a URL. Beautiful Soup is not an HTTP client. You should probably use an HTTP client like requests to get the document behind the URL, and feed that document to Beautiful Soup.\n",
      "  MarkupResemblesLocatorWarning\n",
      "/home/jorge/Documents/Diplomado/ambientes/diplo_env/lib/python3.6/site-packages/bs4/__init__.py:424: MarkupResemblesLocatorWarning: \"https://www.surveymonkey.com/s/CVHMKLT﻿\" looks like a URL. Beautiful Soup is not an HTTP client. You should probably use an HTTP client like requests to get the document behind the URL, and feed that document to Beautiful Soup.\n",
      "  MarkupResemblesLocatorWarning\n",
      "/home/jorge/Documents/Diplomado/ambientes/diplo_env/lib/python3.6/site-packages/bs4/__init__.py:424: MarkupResemblesLocatorWarning: \"https://www.facebook.com/pages/Mathster-WP/1495323920744243?ref=hl﻿\" looks like a URL. Beautiful Soup is not an HTTP client. You should probably use an HTTP client like requests to get the document behind the URL, and feed that document to Beautiful Soup.\n",
      "  MarkupResemblesLocatorWarning\n",
      "/home/jorge/Documents/Diplomado/ambientes/diplo_env/lib/python3.6/site-packages/bs4/__init__.py:424: MarkupResemblesLocatorWarning: \"http://hackfbaccountlive.com/?ref=5242575﻿\" looks like a URL. Beautiful Soup is not an HTTP client. You should probably use an HTTP client like requests to get the document behind the URL, and feed that document to Beautiful Soup.\n",
      "  MarkupResemblesLocatorWarning\n",
      "/home/jorge/Documents/Diplomado/ambientes/diplo_env/lib/python3.6/site-packages/bs4/__init__.py:424: MarkupResemblesLocatorWarning: \"https://www.facebook.com/FUDAIRYQUEEN?pnref=story﻿\" looks like a URL. Beautiful Soup is not an HTTP client. You should probably use an HTTP client like requests to get the document behind the URL, and feed that document to Beautiful Soup.\n",
      "  MarkupResemblesLocatorWarning\n"
     ]
    }
   ],
   "source": [
    "data_spam[\"CONTENT\"]=data_spam[\"CONTENT\"].map(lambda x:BeautifulSoup(x).text)"
   ]
  },
  {
   "cell_type": "code",
   "execution_count": 25,
   "metadata": {
    "ExecuteTime": {
     "end_time": "2022-02-24T23:50:44.551258Z",
     "start_time": "2022-02-24T23:50:44.522550Z"
    }
   },
   "outputs": [],
   "source": [
    "data_spam[\"txt_CONTENT\"]=data_spam[\"CONTENT\"].map(clean_text)"
   ]
  },
  {
   "cell_type": "code",
   "execution_count": 26,
   "metadata": {
    "ExecuteTime": {
     "end_time": "2022-02-24T23:50:45.274341Z",
     "start_time": "2022-02-24T23:50:45.252151Z"
    }
   },
   "outputs": [
    {
     "data": {
      "text/html": [
       "<div>\n",
       "<style scoped>\n",
       "    .dataframe tbody tr th:only-of-type {\n",
       "        vertical-align: middle;\n",
       "    }\n",
       "\n",
       "    .dataframe tbody tr th {\n",
       "        vertical-align: top;\n",
       "    }\n",
       "\n",
       "    .dataframe thead th {\n",
       "        text-align: right;\n",
       "    }\n",
       "</style>\n",
       "<table border=\"1\" class=\"dataframe\">\n",
       "  <thead>\n",
       "    <tr style=\"text-align: right;\">\n",
       "      <th></th>\n",
       "      <th>txt_CONTENT</th>\n",
       "    </tr>\n",
       "  </thead>\n",
       "  <tbody>\n",
       "    <tr>\n",
       "      <th>0</th>\n",
       "      <td>i love this so much and also i generate free l...</td>\n",
       "    </tr>\n",
       "    <tr>\n",
       "      <th>1</th>\n",
       "      <td>http www billboard com articles columns pop sh...</td>\n",
       "    </tr>\n",
       "    <tr>\n",
       "      <th>2</th>\n",
       "      <td>hey guys please join me in my fight to help ab...</td>\n",
       "    </tr>\n",
       "    <tr>\n",
       "      <th>3</th>\n",
       "      <td>http psnboss com ref 2tggp3pv6l this is the song</td>\n",
       "    </tr>\n",
       "    <tr>\n",
       "      <th>4</th>\n",
       "      <td>hey everyone watch this trailer http believeme...</td>\n",
       "    </tr>\n",
       "    <tr>\n",
       "      <th>...</th>\n",
       "      <td>...</td>\n",
       "    </tr>\n",
       "    <tr>\n",
       "      <th>1951</th>\n",
       "      <td>how can this have 2 billion views when there s...</td>\n",
       "    </tr>\n",
       "    <tr>\n",
       "      <th>1952</th>\n",
       "      <td>i don t now why i m watching this in 2014</td>\n",
       "    </tr>\n",
       "    <tr>\n",
       "      <th>1953</th>\n",
       "      <td>subscribe to me for call of duty vids and give...</td>\n",
       "    </tr>\n",
       "    <tr>\n",
       "      <th>1954</th>\n",
       "      <td>hi guys please my android photo editor downloa...</td>\n",
       "    </tr>\n",
       "    <tr>\n",
       "      <th>1955</th>\n",
       "      <td>the first billion viewed this because they tho...</td>\n",
       "    </tr>\n",
       "  </tbody>\n",
       "</table>\n",
       "<p>1956 rows × 1 columns</p>\n",
       "</div>"
      ],
      "text/plain": [
       "                                            txt_CONTENT\n",
       "0     i love this so much and also i generate free l...\n",
       "1     http www billboard com articles columns pop sh...\n",
       "2     hey guys please join me in my fight to help ab...\n",
       "3      http psnboss com ref 2tggp3pv6l this is the song\n",
       "4     hey everyone watch this trailer http believeme...\n",
       "...                                                 ...\n",
       "1951  how can this have 2 billion views when there s...\n",
       "1952          i don t now why i m watching this in 2014\n",
       "1953  subscribe to me for call of duty vids and give...\n",
       "1954  hi guys please my android photo editor downloa...\n",
       "1955  the first billion viewed this because they tho...\n",
       "\n",
       "[1956 rows x 1 columns]"
      ]
     },
     "execution_count": 26,
     "metadata": {},
     "output_type": "execute_result"
    }
   ],
   "source": [
    "data_spam[[\"txt_CONTENT\"]]"
   ]
  },
  {
   "cell_type": "code",
   "execution_count": 27,
   "metadata": {
    "ExecuteTime": {
     "end_time": "2022-02-24T23:50:48.221920Z",
     "start_time": "2022-02-24T23:50:48.145333Z"
    }
   },
   "outputs": [],
   "source": [
    "CountVectorizer?"
   ]
  },
  {
   "cell_type": "code",
   "execution_count": 28,
   "metadata": {
    "ExecuteTime": {
     "end_time": "2022-02-24T23:50:48.743389Z",
     "start_time": "2022-02-24T23:50:48.728255Z"
    }
   },
   "outputs": [
    {
     "data": {
      "text/plain": [
       "['i',\n",
       " 'me',\n",
       " 'my',\n",
       " 'myself',\n",
       " 'we',\n",
       " 'our',\n",
       " 'ours',\n",
       " 'ourselves',\n",
       " 'you',\n",
       " \"you're\",\n",
       " \"you've\",\n",
       " \"you'll\",\n",
       " \"you'd\",\n",
       " 'your',\n",
       " 'yours',\n",
       " 'yourself',\n",
       " 'yourselves',\n",
       " 'he',\n",
       " 'him',\n",
       " 'his',\n",
       " 'himself',\n",
       " 'she',\n",
       " \"she's\",\n",
       " 'her',\n",
       " 'hers',\n",
       " 'herself',\n",
       " 'it',\n",
       " \"it's\",\n",
       " 'its',\n",
       " 'itself',\n",
       " 'they',\n",
       " 'them',\n",
       " 'their',\n",
       " 'theirs',\n",
       " 'themselves',\n",
       " 'what',\n",
       " 'which',\n",
       " 'who',\n",
       " 'whom',\n",
       " 'this',\n",
       " 'that',\n",
       " \"that'll\",\n",
       " 'these',\n",
       " 'those',\n",
       " 'am',\n",
       " 'is',\n",
       " 'are',\n",
       " 'was',\n",
       " 'were',\n",
       " 'be',\n",
       " 'been',\n",
       " 'being',\n",
       " 'have',\n",
       " 'has',\n",
       " 'had',\n",
       " 'having',\n",
       " 'do',\n",
       " 'does',\n",
       " 'did',\n",
       " 'doing',\n",
       " 'a',\n",
       " 'an',\n",
       " 'the',\n",
       " 'and',\n",
       " 'but',\n",
       " 'if',\n",
       " 'or',\n",
       " 'because',\n",
       " 'as',\n",
       " 'until',\n",
       " 'while',\n",
       " 'of',\n",
       " 'at',\n",
       " 'by',\n",
       " 'for',\n",
       " 'with',\n",
       " 'about',\n",
       " 'against',\n",
       " 'between',\n",
       " 'into',\n",
       " 'through',\n",
       " 'during',\n",
       " 'before',\n",
       " 'after',\n",
       " 'above',\n",
       " 'below',\n",
       " 'to',\n",
       " 'from',\n",
       " 'up',\n",
       " 'down',\n",
       " 'in',\n",
       " 'out',\n",
       " 'on',\n",
       " 'off',\n",
       " 'over',\n",
       " 'under',\n",
       " 'again',\n",
       " 'further',\n",
       " 'then',\n",
       " 'once',\n",
       " 'here',\n",
       " 'there',\n",
       " 'when',\n",
       " 'where',\n",
       " 'why',\n",
       " 'how',\n",
       " 'all',\n",
       " 'any',\n",
       " 'both',\n",
       " 'each',\n",
       " 'few',\n",
       " 'more',\n",
       " 'most',\n",
       " 'other',\n",
       " 'some',\n",
       " 'such',\n",
       " 'no',\n",
       " 'nor',\n",
       " 'not',\n",
       " 'only',\n",
       " 'own',\n",
       " 'same',\n",
       " 'so',\n",
       " 'than',\n",
       " 'too',\n",
       " 'very',\n",
       " 's',\n",
       " 't',\n",
       " 'can',\n",
       " 'will',\n",
       " 'just',\n",
       " 'don',\n",
       " \"don't\",\n",
       " 'should',\n",
       " \"should've\",\n",
       " 'now',\n",
       " 'd',\n",
       " 'll',\n",
       " 'm',\n",
       " 'o',\n",
       " 're',\n",
       " 've',\n",
       " 'y',\n",
       " 'ain',\n",
       " 'aren',\n",
       " \"aren't\",\n",
       " 'couldn',\n",
       " \"couldn't\",\n",
       " 'didn',\n",
       " \"didn't\",\n",
       " 'doesn',\n",
       " \"doesn't\",\n",
       " 'hadn',\n",
       " \"hadn't\",\n",
       " 'hasn',\n",
       " \"hasn't\",\n",
       " 'haven',\n",
       " \"haven't\",\n",
       " 'isn',\n",
       " \"isn't\",\n",
       " 'ma',\n",
       " 'mightn',\n",
       " \"mightn't\",\n",
       " 'mustn',\n",
       " \"mustn't\",\n",
       " 'needn',\n",
       " \"needn't\",\n",
       " 'shan',\n",
       " \"shan't\",\n",
       " 'shouldn',\n",
       " \"shouldn't\",\n",
       " 'wasn',\n",
       " \"wasn't\",\n",
       " 'weren',\n",
       " \"weren't\",\n",
       " 'won',\n",
       " \"won't\",\n",
       " 'wouldn',\n",
       " \"wouldn't\"]"
      ]
     },
     "execution_count": 28,
     "metadata": {},
     "output_type": "execute_result"
    }
   ],
   "source": [
    "stopwords.words('english')"
   ]
  },
  {
   "cell_type": "code",
   "execution_count": 29,
   "metadata": {
    "ExecuteTime": {
     "end_time": "2022-02-24T23:50:53.063532Z",
     "start_time": "2022-02-24T23:50:53.042485Z"
    }
   },
   "outputs": [
    {
     "data": {
      "text/plain": [
       "['au',\n",
       " 'aux',\n",
       " 'avec',\n",
       " 'ce',\n",
       " 'ces',\n",
       " 'dans',\n",
       " 'de',\n",
       " 'des',\n",
       " 'du',\n",
       " 'elle',\n",
       " 'en',\n",
       " 'et',\n",
       " 'eux',\n",
       " 'il',\n",
       " 'je',\n",
       " 'la',\n",
       " 'le',\n",
       " 'leur',\n",
       " 'lui',\n",
       " 'ma',\n",
       " 'mais',\n",
       " 'me',\n",
       " 'même',\n",
       " 'mes',\n",
       " 'moi',\n",
       " 'mon',\n",
       " 'ne',\n",
       " 'nos',\n",
       " 'notre',\n",
       " 'nous',\n",
       " 'on',\n",
       " 'ou',\n",
       " 'par',\n",
       " 'pas',\n",
       " 'pour',\n",
       " 'qu',\n",
       " 'que',\n",
       " 'qui',\n",
       " 'sa',\n",
       " 'se',\n",
       " 'ses',\n",
       " 'son',\n",
       " 'sur',\n",
       " 'ta',\n",
       " 'te',\n",
       " 'tes',\n",
       " 'toi',\n",
       " 'ton',\n",
       " 'tu',\n",
       " 'un',\n",
       " 'une',\n",
       " 'vos',\n",
       " 'votre',\n",
       " 'vous',\n",
       " 'c',\n",
       " 'd',\n",
       " 'j',\n",
       " 'l',\n",
       " 'à',\n",
       " 'm',\n",
       " 'n',\n",
       " 's',\n",
       " 't',\n",
       " 'y',\n",
       " 'été',\n",
       " 'étée',\n",
       " 'étées',\n",
       " 'étés',\n",
       " 'étant',\n",
       " 'étante',\n",
       " 'étants',\n",
       " 'étantes',\n",
       " 'suis',\n",
       " 'es',\n",
       " 'est',\n",
       " 'sommes',\n",
       " 'êtes',\n",
       " 'sont',\n",
       " 'serai',\n",
       " 'seras',\n",
       " 'sera',\n",
       " 'serons',\n",
       " 'serez',\n",
       " 'seront',\n",
       " 'serais',\n",
       " 'serait',\n",
       " 'serions',\n",
       " 'seriez',\n",
       " 'seraient',\n",
       " 'étais',\n",
       " 'était',\n",
       " 'étions',\n",
       " 'étiez',\n",
       " 'étaient',\n",
       " 'fus',\n",
       " 'fut',\n",
       " 'fûmes',\n",
       " 'fûtes',\n",
       " 'furent',\n",
       " 'sois',\n",
       " 'soit',\n",
       " 'soyons',\n",
       " 'soyez',\n",
       " 'soient',\n",
       " 'fusse',\n",
       " 'fusses',\n",
       " 'fût',\n",
       " 'fussions',\n",
       " 'fussiez',\n",
       " 'fussent',\n",
       " 'ayant',\n",
       " 'ayante',\n",
       " 'ayantes',\n",
       " 'ayants',\n",
       " 'eu',\n",
       " 'eue',\n",
       " 'eues',\n",
       " 'eus',\n",
       " 'ai',\n",
       " 'as',\n",
       " 'avons',\n",
       " 'avez',\n",
       " 'ont',\n",
       " 'aurai',\n",
       " 'auras',\n",
       " 'aura',\n",
       " 'aurons',\n",
       " 'aurez',\n",
       " 'auront',\n",
       " 'aurais',\n",
       " 'aurait',\n",
       " 'aurions',\n",
       " 'auriez',\n",
       " 'auraient',\n",
       " 'avais',\n",
       " 'avait',\n",
       " 'avions',\n",
       " 'aviez',\n",
       " 'avaient',\n",
       " 'eut',\n",
       " 'eûmes',\n",
       " 'eûtes',\n",
       " 'eurent',\n",
       " 'aie',\n",
       " 'aies',\n",
       " 'ait',\n",
       " 'ayons',\n",
       " 'ayez',\n",
       " 'aient',\n",
       " 'eusse',\n",
       " 'eusses',\n",
       " 'eût',\n",
       " 'eussions',\n",
       " 'eussiez',\n",
       " 'eussent']"
      ]
     },
     "execution_count": 29,
     "metadata": {},
     "output_type": "execute_result"
    }
   ],
   "source": [
    "stopwords.words('french')"
   ]
  },
  {
   "cell_type": "code",
   "execution_count": 30,
   "metadata": {
    "ExecuteTime": {
     "end_time": "2022-02-24T23:50:53.607530Z",
     "start_time": "2022-02-24T23:50:53.589031Z"
    }
   },
   "outputs": [
    {
     "data": {
      "text/plain": [
       "['de',\n",
       " 'la',\n",
       " 'que',\n",
       " 'el',\n",
       " 'en',\n",
       " 'y',\n",
       " 'a',\n",
       " 'los',\n",
       " 'del',\n",
       " 'se',\n",
       " 'las',\n",
       " 'por',\n",
       " 'un',\n",
       " 'para',\n",
       " 'con',\n",
       " 'no',\n",
       " 'una',\n",
       " 'su',\n",
       " 'al',\n",
       " 'lo',\n",
       " 'como',\n",
       " 'más',\n",
       " 'pero',\n",
       " 'sus',\n",
       " 'le',\n",
       " 'ya',\n",
       " 'o',\n",
       " 'este',\n",
       " 'sí',\n",
       " 'porque',\n",
       " 'esta',\n",
       " 'entre',\n",
       " 'cuando',\n",
       " 'muy',\n",
       " 'sin',\n",
       " 'sobre',\n",
       " 'también',\n",
       " 'me',\n",
       " 'hasta',\n",
       " 'hay',\n",
       " 'donde',\n",
       " 'quien',\n",
       " 'desde',\n",
       " 'todo',\n",
       " 'nos',\n",
       " 'durante',\n",
       " 'todos',\n",
       " 'uno',\n",
       " 'les',\n",
       " 'ni',\n",
       " 'contra',\n",
       " 'otros',\n",
       " 'ese',\n",
       " 'eso',\n",
       " 'ante',\n",
       " 'ellos',\n",
       " 'e',\n",
       " 'esto',\n",
       " 'mí',\n",
       " 'antes',\n",
       " 'algunos',\n",
       " 'qué',\n",
       " 'unos',\n",
       " 'yo',\n",
       " 'otro',\n",
       " 'otras',\n",
       " 'otra',\n",
       " 'él',\n",
       " 'tanto',\n",
       " 'esa',\n",
       " 'estos',\n",
       " 'mucho',\n",
       " 'quienes',\n",
       " 'nada',\n",
       " 'muchos',\n",
       " 'cual',\n",
       " 'poco',\n",
       " 'ella',\n",
       " 'estar',\n",
       " 'estas',\n",
       " 'algunas',\n",
       " 'algo',\n",
       " 'nosotros',\n",
       " 'mi',\n",
       " 'mis',\n",
       " 'tú',\n",
       " 'te',\n",
       " 'ti',\n",
       " 'tu',\n",
       " 'tus',\n",
       " 'ellas',\n",
       " 'nosotras',\n",
       " 'vosostros',\n",
       " 'vosostras',\n",
       " 'os',\n",
       " 'mío',\n",
       " 'mía',\n",
       " 'míos',\n",
       " 'mías',\n",
       " 'tuyo',\n",
       " 'tuya',\n",
       " 'tuyos',\n",
       " 'tuyas',\n",
       " 'suyo',\n",
       " 'suya',\n",
       " 'suyos',\n",
       " 'suyas',\n",
       " 'nuestro',\n",
       " 'nuestra',\n",
       " 'nuestros',\n",
       " 'nuestras',\n",
       " 'vuestro',\n",
       " 'vuestra',\n",
       " 'vuestros',\n",
       " 'vuestras',\n",
       " 'esos',\n",
       " 'esas',\n",
       " 'estoy',\n",
       " 'estás',\n",
       " 'está',\n",
       " 'estamos',\n",
       " 'estáis',\n",
       " 'están',\n",
       " 'esté',\n",
       " 'estés',\n",
       " 'estemos',\n",
       " 'estéis',\n",
       " 'estén',\n",
       " 'estaré',\n",
       " 'estarás',\n",
       " 'estará',\n",
       " 'estaremos',\n",
       " 'estaréis',\n",
       " 'estarán',\n",
       " 'estaría',\n",
       " 'estarías',\n",
       " 'estaríamos',\n",
       " 'estaríais',\n",
       " 'estarían',\n",
       " 'estaba',\n",
       " 'estabas',\n",
       " 'estábamos',\n",
       " 'estabais',\n",
       " 'estaban',\n",
       " 'estuve',\n",
       " 'estuviste',\n",
       " 'estuvo',\n",
       " 'estuvimos',\n",
       " 'estuvisteis',\n",
       " 'estuvieron',\n",
       " 'estuviera',\n",
       " 'estuvieras',\n",
       " 'estuviéramos',\n",
       " 'estuvierais',\n",
       " 'estuvieran',\n",
       " 'estuviese',\n",
       " 'estuvieses',\n",
       " 'estuviésemos',\n",
       " 'estuvieseis',\n",
       " 'estuviesen',\n",
       " 'estando',\n",
       " 'estado',\n",
       " 'estada',\n",
       " 'estados',\n",
       " 'estadas',\n",
       " 'estad',\n",
       " 'he',\n",
       " 'has',\n",
       " 'ha',\n",
       " 'hemos',\n",
       " 'habéis',\n",
       " 'han',\n",
       " 'haya',\n",
       " 'hayas',\n",
       " 'hayamos',\n",
       " 'hayáis',\n",
       " 'hayan',\n",
       " 'habré',\n",
       " 'habrás',\n",
       " 'habrá',\n",
       " 'habremos',\n",
       " 'habréis',\n",
       " 'habrán',\n",
       " 'habría',\n",
       " 'habrías',\n",
       " 'habríamos',\n",
       " 'habríais',\n",
       " 'habrían',\n",
       " 'había',\n",
       " 'habías',\n",
       " 'habíamos',\n",
       " 'habíais',\n",
       " 'habían',\n",
       " 'hube',\n",
       " 'hubiste',\n",
       " 'hubo',\n",
       " 'hubimos',\n",
       " 'hubisteis',\n",
       " 'hubieron',\n",
       " 'hubiera',\n",
       " 'hubieras',\n",
       " 'hubiéramos',\n",
       " 'hubierais',\n",
       " 'hubieran',\n",
       " 'hubiese',\n",
       " 'hubieses',\n",
       " 'hubiésemos',\n",
       " 'hubieseis',\n",
       " 'hubiesen',\n",
       " 'habiendo',\n",
       " 'habido',\n",
       " 'habida',\n",
       " 'habidos',\n",
       " 'habidas',\n",
       " 'soy',\n",
       " 'eres',\n",
       " 'es',\n",
       " 'somos',\n",
       " 'sois',\n",
       " 'son',\n",
       " 'sea',\n",
       " 'seas',\n",
       " 'seamos',\n",
       " 'seáis',\n",
       " 'sean',\n",
       " 'seré',\n",
       " 'serás',\n",
       " 'será',\n",
       " 'seremos',\n",
       " 'seréis',\n",
       " 'serán',\n",
       " 'sería',\n",
       " 'serías',\n",
       " 'seríamos',\n",
       " 'seríais',\n",
       " 'serían',\n",
       " 'era',\n",
       " 'eras',\n",
       " 'éramos',\n",
       " 'erais',\n",
       " 'eran',\n",
       " 'fui',\n",
       " 'fuiste',\n",
       " 'fue',\n",
       " 'fuimos',\n",
       " 'fuisteis',\n",
       " 'fueron',\n",
       " 'fuera',\n",
       " 'fueras',\n",
       " 'fuéramos',\n",
       " 'fuerais',\n",
       " 'fueran',\n",
       " 'fuese',\n",
       " 'fueses',\n",
       " 'fuésemos',\n",
       " 'fueseis',\n",
       " 'fuesen',\n",
       " 'sintiendo',\n",
       " 'sentido',\n",
       " 'sentida',\n",
       " 'sentidos',\n",
       " 'sentidas',\n",
       " 'siente',\n",
       " 'sentid',\n",
       " 'tengo',\n",
       " 'tienes',\n",
       " 'tiene',\n",
       " 'tenemos',\n",
       " 'tenéis',\n",
       " 'tienen',\n",
       " 'tenga',\n",
       " 'tengas',\n",
       " 'tengamos',\n",
       " 'tengáis',\n",
       " 'tengan',\n",
       " 'tendré',\n",
       " 'tendrás',\n",
       " 'tendrá',\n",
       " 'tendremos',\n",
       " 'tendréis',\n",
       " 'tendrán',\n",
       " 'tendría',\n",
       " 'tendrías',\n",
       " 'tendríamos',\n",
       " 'tendríais',\n",
       " 'tendrían',\n",
       " 'tenía',\n",
       " 'tenías',\n",
       " 'teníamos',\n",
       " 'teníais',\n",
       " 'tenían',\n",
       " 'tuve',\n",
       " 'tuviste',\n",
       " 'tuvo',\n",
       " 'tuvimos',\n",
       " 'tuvisteis',\n",
       " 'tuvieron',\n",
       " 'tuviera',\n",
       " 'tuvieras',\n",
       " 'tuviéramos',\n",
       " 'tuvierais',\n",
       " 'tuvieran',\n",
       " 'tuviese',\n",
       " 'tuvieses',\n",
       " 'tuviésemos',\n",
       " 'tuvieseis',\n",
       " 'tuviesen',\n",
       " 'teniendo',\n",
       " 'tenido',\n",
       " 'tenida',\n",
       " 'tenidos',\n",
       " 'tenidas',\n",
       " 'tened']"
      ]
     },
     "execution_count": 30,
     "metadata": {},
     "output_type": "execute_result"
    }
   ],
   "source": [
    "stopwords.words('spanish')"
   ]
  },
  {
   "cell_type": "code",
   "execution_count": 31,
   "metadata": {
    "ExecuteTime": {
     "end_time": "2022-02-24T23:50:54.379742Z",
     "start_time": "2022-02-24T23:50:54.369518Z"
    }
   },
   "outputs": [],
   "source": [
    "cv = TfidfVectorizer(stop_words=stopwords.words('english'), ngram_range=(1, 1), min_df=10, max_features=100)"
   ]
  },
  {
   "cell_type": "code",
   "execution_count": 32,
   "metadata": {
    "ExecuteTime": {
     "end_time": "2022-02-24T23:50:55.576002Z",
     "start_time": "2022-02-24T23:50:55.504146Z"
    }
   },
   "outputs": [
    {
     "data": {
      "text/plain": [
       "TfidfVectorizer(max_features=100, min_df=10,\n",
       "                stop_words=['i', 'me', 'my', 'myself', 'we', 'our', 'ours',\n",
       "                            'ourselves', 'you', \"you're\", \"you've\", \"you'll\",\n",
       "                            \"you'd\", 'your', 'yours', 'yourself', 'yourselves',\n",
       "                            'he', 'him', 'his', 'himself', 'she', \"she's\",\n",
       "                            'her', 'hers', 'herself', 'it', \"it's\", 'its',\n",
       "                            'itself', ...])"
      ]
     },
     "execution_count": 32,
     "metadata": {},
     "output_type": "execute_result"
    }
   ],
   "source": [
    "cv.fit(data_spam[\"txt_CONTENT\"])"
   ]
  },
  {
   "cell_type": "code",
   "execution_count": 33,
   "metadata": {
    "ExecuteTime": {
     "end_time": "2022-02-24T23:50:58.938919Z",
     "start_time": "2022-02-24T23:50:58.933616Z"
    }
   },
   "outputs": [],
   "source": [
    "ls_features = [\"n_caracteres\", \"n_dots\", \"n_artist\", \"n_urls\", \"n_lower_ratio_len\", \"n_upper_ratio_len\", \"n_words\", \"n_letters\", \"n_lower_ratio_letters\", \"n_upper_ratio_letters\", \"n_emojis\", \"n_phone\", \"n_email\", ]"
   ]
  },
  {
   "cell_type": "code",
   "execution_count": 34,
   "metadata": {
    "ExecuteTime": {
     "end_time": "2022-02-24T23:50:59.361662Z",
     "start_time": "2022-02-24T23:50:59.349742Z"
    }
   },
   "outputs": [
    {
     "data": {
      "text/plain": [
       "n_caracteres              0\n",
       "n_dots                    0\n",
       "n_artist                  0\n",
       "n_urls                    0\n",
       "n_lower_ratio_len         0\n",
       "n_upper_ratio_len         0\n",
       "n_words                   0\n",
       "n_letters                 0\n",
       "n_lower_ratio_letters    10\n",
       "n_upper_ratio_letters    10\n",
       "n_emojis                  0\n",
       "n_phone                   0\n",
       "n_email                   0\n",
       "dtype: int64"
      ]
     },
     "execution_count": 34,
     "metadata": {},
     "output_type": "execute_result"
    }
   ],
   "source": [
    "data_spam[ls_features].isnull().sum()"
   ]
  },
  {
   "cell_type": "code",
   "execution_count": 35,
   "metadata": {
    "ExecuteTime": {
     "end_time": "2022-02-24T23:51:00.200571Z",
     "start_time": "2022-02-24T23:50:59.835298Z"
    }
   },
   "outputs": [],
   "source": [
    "import missingno as msno"
   ]
  },
  {
   "cell_type": "code",
   "execution_count": 36,
   "metadata": {
    "ExecuteTime": {
     "end_time": "2022-02-24T23:51:00.997731Z",
     "start_time": "2022-02-24T23:51:00.584659Z"
    }
   },
   "outputs": [
    {
     "data": {
      "text/plain": [
       "<AxesSubplot:>"
      ]
     },
     "execution_count": 36,
     "metadata": {},
     "output_type": "execute_result"
    },
    {
     "data": {
      "image/png": "[encoded data removed]",
      "text/plain": [
       "<Figure size 1800x720 with 2 Axes>"
      ]
     },
     "metadata": {
      "needs_background": "light"
     },
     "output_type": "display_data"
    }
   ],
   "source": [
    "msno.matrix(data_spam)"
   ]
  },
  {
   "cell_type": "code",
   "execution_count": 37,
   "metadata": {
    "ExecuteTime": {
     "end_time": "2022-02-24T23:51:03.476439Z",
     "start_time": "2022-02-24T23:51:03.416392Z"
    }
   },
   "outputs": [],
   "source": [
    "X = data_spam[ls_features].fillna(0).join(pd.DataFrame(data = cv.transform(data_spam[\"txt_CONTENT\"]).todense(), columns = cv.get_feature_names()))\n",
    "y = data_spam[\"CLASS\"]"
   ]
  },
  {
   "cell_type": "code",
   "execution_count": 38,
   "metadata": {
    "ExecuteTime": {
     "end_time": "2022-02-24T23:51:03.982992Z",
     "start_time": "2022-02-24T23:51:03.939759Z"
    }
   },
   "outputs": [
    {
     "data": {
      "text/html": [
       "<div>\n",
       "<style scoped>\n",
       "    .dataframe tbody tr th:only-of-type {\n",
       "        vertical-align: middle;\n",
       "    }\n",
       "\n",
       "    .dataframe tbody tr th {\n",
       "        vertical-align: top;\n",
       "    }\n",
       "\n",
       "    .dataframe thead th {\n",
       "        text-align: right;\n",
       "    }\n",
       "</style>\n",
       "<table border=\"1\" class=\"dataframe\">\n",
       "  <thead>\n",
       "    <tr style=\"text-align: right;\">\n",
       "      <th></th>\n",
       "      <th>n_caracteres</th>\n",
       "      <th>n_dots</th>\n",
       "      <th>n_artist</th>\n",
       "      <th>n_urls</th>\n",
       "      <th>n_lower_ratio_len</th>\n",
       "      <th>n_upper_ratio_len</th>\n",
       "      <th>n_words</th>\n",
       "      <th>n_letters</th>\n",
       "      <th>n_lower_ratio_letters</th>\n",
       "      <th>n_upper_ratio_letters</th>\n",
       "      <th>...</th>\n",
       "      <th>way</th>\n",
       "      <th>website</th>\n",
       "      <th>working</th>\n",
       "      <th>world</th>\n",
       "      <th>would</th>\n",
       "      <th>www</th>\n",
       "      <th>year</th>\n",
       "      <th>years</th>\n",
       "      <th>youtube</th>\n",
       "      <th>zonepa</th>\n",
       "    </tr>\n",
       "  </thead>\n",
       "  <tbody>\n",
       "    <tr>\n",
       "      <th>0</th>\n",
       "      <td>126</td>\n",
       "      <td>3</td>\n",
       "      <td>0</td>\n",
       "      <td>1</td>\n",
       "      <td>0.642857</td>\n",
       "      <td>0.119048</td>\n",
       "      <td>20</td>\n",
       "      <td>96</td>\n",
       "      <td>0.843750</td>\n",
       "      <td>0.156250</td>\n",
       "      <td>...</td>\n",
       "      <td>0.0</td>\n",
       "      <td>0.0</td>\n",
       "      <td>0.0</td>\n",
       "      <td>0.0</td>\n",
       "      <td>0.000000</td>\n",
       "      <td>0.349845</td>\n",
       "      <td>0.0</td>\n",
       "      <td>0.0</td>\n",
       "      <td>0.0</td>\n",
       "      <td>0.0</td>\n",
       "    </tr>\n",
       "    <tr>\n",
       "      <th>1</th>\n",
       "      <td>159</td>\n",
       "      <td>13</td>\n",
       "      <td>0</td>\n",
       "      <td>1</td>\n",
       "      <td>0.647799</td>\n",
       "      <td>0.037736</td>\n",
       "      <td>10</td>\n",
       "      <td>109</td>\n",
       "      <td>0.944954</td>\n",
       "      <td>0.055046</td>\n",
       "      <td>...</td>\n",
       "      <td>0.0</td>\n",
       "      <td>0.0</td>\n",
       "      <td>0.0</td>\n",
       "      <td>0.0</td>\n",
       "      <td>0.000000</td>\n",
       "      <td>0.337444</td>\n",
       "      <td>0.0</td>\n",
       "      <td>0.0</td>\n",
       "      <td>0.0</td>\n",
       "      <td>0.0</td>\n",
       "    </tr>\n",
       "    <tr>\n",
       "      <th>2</th>\n",
       "      <td>340</td>\n",
       "      <td>4</td>\n",
       "      <td>0</td>\n",
       "      <td>1</td>\n",
       "      <td>0.770588</td>\n",
       "      <td>0.020588</td>\n",
       "      <td>55</td>\n",
       "      <td>269</td>\n",
       "      <td>0.973978</td>\n",
       "      <td>0.026022</td>\n",
       "      <td>...</td>\n",
       "      <td>0.0</td>\n",
       "      <td>0.0</td>\n",
       "      <td>0.0</td>\n",
       "      <td>0.0</td>\n",
       "      <td>0.328578</td>\n",
       "      <td>0.292097</td>\n",
       "      <td>0.0</td>\n",
       "      <td>0.0</td>\n",
       "      <td>0.0</td>\n",
       "      <td>0.0</td>\n",
       "    </tr>\n",
       "    <tr>\n",
       "      <th>3</th>\n",
       "      <td>52</td>\n",
       "      <td>1</td>\n",
       "      <td>0</td>\n",
       "      <td>1</td>\n",
       "      <td>0.653846</td>\n",
       "      <td>0.057692</td>\n",
       "      <td>5</td>\n",
       "      <td>37</td>\n",
       "      <td>0.918919</td>\n",
       "      <td>0.081081</td>\n",
       "      <td>...</td>\n",
       "      <td>0.0</td>\n",
       "      <td>0.0</td>\n",
       "      <td>0.0</td>\n",
       "      <td>0.0</td>\n",
       "      <td>0.000000</td>\n",
       "      <td>0.000000</td>\n",
       "      <td>0.0</td>\n",
       "      <td>0.0</td>\n",
       "      <td>0.0</td>\n",
       "      <td>0.0</td>\n",
       "    </tr>\n",
       "    <tr>\n",
       "      <th>4</th>\n",
       "      <td>80</td>\n",
       "      <td>2</td>\n",
       "      <td>0</td>\n",
       "      <td>1</td>\n",
       "      <td>0.625000</td>\n",
       "      <td>0.087500</td>\n",
       "      <td>7</td>\n",
       "      <td>57</td>\n",
       "      <td>0.877193</td>\n",
       "      <td>0.122807</td>\n",
       "      <td>...</td>\n",
       "      <td>0.0</td>\n",
       "      <td>0.0</td>\n",
       "      <td>0.0</td>\n",
       "      <td>0.0</td>\n",
       "      <td>0.000000</td>\n",
       "      <td>0.000000</td>\n",
       "      <td>0.0</td>\n",
       "      <td>0.0</td>\n",
       "      <td>0.0</td>\n",
       "      <td>0.0</td>\n",
       "    </tr>\n",
       "    <tr>\n",
       "      <th>...</th>\n",
       "      <td>...</td>\n",
       "      <td>...</td>\n",
       "      <td>...</td>\n",
       "      <td>...</td>\n",
       "      <td>...</td>\n",
       "      <td>...</td>\n",
       "      <td>...</td>\n",
       "      <td>...</td>\n",
       "      <td>...</td>\n",
       "      <td>...</td>\n",
       "      <td>...</td>\n",
       "      <td>...</td>\n",
       "      <td>...</td>\n",
       "      <td>...</td>\n",
       "      <td>...</td>\n",
       "      <td>...</td>\n",
       "      <td>...</td>\n",
       "      <td>...</td>\n",
       "      <td>...</td>\n",
       "      <td>...</td>\n",
       "      <td>...</td>\n",
       "    </tr>\n",
       "    <tr>\n",
       "      <th>1951</th>\n",
       "      <td>74</td>\n",
       "      <td>0</td>\n",
       "      <td>0</td>\n",
       "      <td>0</td>\n",
       "      <td>0.702703</td>\n",
       "      <td>0.054054</td>\n",
       "      <td>15</td>\n",
       "      <td>56</td>\n",
       "      <td>0.928571</td>\n",
       "      <td>0.071429</td>\n",
       "      <td>...</td>\n",
       "      <td>0.0</td>\n",
       "      <td>0.0</td>\n",
       "      <td>0.0</td>\n",
       "      <td>0.0</td>\n",
       "      <td>0.000000</td>\n",
       "      <td>0.000000</td>\n",
       "      <td>0.0</td>\n",
       "      <td>0.0</td>\n",
       "      <td>0.0</td>\n",
       "      <td>0.0</td>\n",
       "    </tr>\n",
       "    <tr>\n",
       "      <th>1952</th>\n",
       "      <td>42</td>\n",
       "      <td>0</td>\n",
       "      <td>0</td>\n",
       "      <td>0</td>\n",
       "      <td>0.595238</td>\n",
       "      <td>0.047619</td>\n",
       "      <td>9</td>\n",
       "      <td>27</td>\n",
       "      <td>0.925926</td>\n",
       "      <td>0.074074</td>\n",
       "      <td>...</td>\n",
       "      <td>0.0</td>\n",
       "      <td>0.0</td>\n",
       "      <td>0.0</td>\n",
       "      <td>0.0</td>\n",
       "      <td>0.000000</td>\n",
       "      <td>0.000000</td>\n",
       "      <td>0.0</td>\n",
       "      <td>0.0</td>\n",
       "      <td>0.0</td>\n",
       "      <td>0.0</td>\n",
       "    </tr>\n",
       "    <tr>\n",
       "      <th>1953</th>\n",
       "      <td>67</td>\n",
       "      <td>0</td>\n",
       "      <td>0</td>\n",
       "      <td>0</td>\n",
       "      <td>0.731343</td>\n",
       "      <td>0.014925</td>\n",
       "      <td>13</td>\n",
       "      <td>50</td>\n",
       "      <td>0.980000</td>\n",
       "      <td>0.020000</td>\n",
       "      <td>...</td>\n",
       "      <td>0.0</td>\n",
       "      <td>0.0</td>\n",
       "      <td>0.0</td>\n",
       "      <td>0.0</td>\n",
       "      <td>0.000000</td>\n",
       "      <td>0.000000</td>\n",
       "      <td>0.0</td>\n",
       "      <td>0.0</td>\n",
       "      <td>0.0</td>\n",
       "      <td>0.0</td>\n",
       "    </tr>\n",
       "    <tr>\n",
       "      <th>1954</th>\n",
       "      <td>128</td>\n",
       "      <td>6</td>\n",
       "      <td>0</td>\n",
       "      <td>1</td>\n",
       "      <td>0.812500</td>\n",
       "      <td>0.000000</td>\n",
       "      <td>10</td>\n",
       "      <td>104</td>\n",
       "      <td>1.000000</td>\n",
       "      <td>0.000000</td>\n",
       "      <td>...</td>\n",
       "      <td>0.0</td>\n",
       "      <td>0.0</td>\n",
       "      <td>0.0</td>\n",
       "      <td>0.0</td>\n",
       "      <td>0.000000</td>\n",
       "      <td>0.000000</td>\n",
       "      <td>0.0</td>\n",
       "      <td>0.0</td>\n",
       "      <td>0.0</td>\n",
       "      <td>0.0</td>\n",
       "    </tr>\n",
       "    <tr>\n",
       "      <th>1955</th>\n",
       "      <td>150</td>\n",
       "      <td>3</td>\n",
       "      <td>0</td>\n",
       "      <td>0</td>\n",
       "      <td>0.780000</td>\n",
       "      <td>0.006667</td>\n",
       "      <td>28</td>\n",
       "      <td>118</td>\n",
       "      <td>0.991525</td>\n",
       "      <td>0.008475</td>\n",
       "      <td>...</td>\n",
       "      <td>0.0</td>\n",
       "      <td>0.0</td>\n",
       "      <td>0.0</td>\n",
       "      <td>0.0</td>\n",
       "      <td>0.000000</td>\n",
       "      <td>0.000000</td>\n",
       "      <td>0.0</td>\n",
       "      <td>0.0</td>\n",
       "      <td>0.0</td>\n",
       "      <td>0.0</td>\n",
       "    </tr>\n",
       "  </tbody>\n",
       "</table>\n",
       "<p>1956 rows × 113 columns</p>\n",
       "</div>"
      ],
      "text/plain": [
       "      n_caracteres  n_dots  n_artist  n_urls  n_lower_ratio_len  \\\n",
       "0              126       3         0       1           0.642857   \n",
       "1              159      13         0       1           0.647799   \n",
       "2              340       4         0       1           0.770588   \n",
       "3               52       1         0       1           0.653846   \n",
       "4               80       2         0       1           0.625000   \n",
       "...            ...     ...       ...     ...                ...   \n",
       "1951            74       0         0       0           0.702703   \n",
       "1952            42       0         0       0           0.595238   \n",
       "1953            67       0         0       0           0.731343   \n",
       "1954           128       6         0       1           0.812500   \n",
       "1955           150       3         0       0           0.780000   \n",
       "\n",
       "      n_upper_ratio_len  n_words  n_letters  n_lower_ratio_letters  \\\n",
       "0              0.119048       20         96               0.843750   \n",
       "1              0.037736       10        109               0.944954   \n",
       "2              0.020588       55        269               0.973978   \n",
       "3              0.057692        5         37               0.918919   \n",
       "4              0.087500        7         57               0.877193   \n",
       "...                 ...      ...        ...                    ...   \n",
       "1951           0.054054       15         56               0.928571   \n",
       "1952           0.047619        9         27               0.925926   \n",
       "1953           0.014925       13         50               0.980000   \n",
       "1954           0.000000       10        104               1.000000   \n",
       "1955           0.006667       28        118               0.991525   \n",
       "\n",
       "      n_upper_ratio_letters  ...  way  website  working  world     would  \\\n",
       "0                  0.156250  ...  0.0      0.0      0.0    0.0  0.000000   \n",
       "1                  0.055046  ...  0.0      0.0      0.0    0.0  0.000000   \n",
       "2                  0.026022  ...  0.0      0.0      0.0    0.0  0.328578   \n",
       "3                  0.081081  ...  0.0      0.0      0.0    0.0  0.000000   \n",
       "4                  0.122807  ...  0.0      0.0      0.0    0.0  0.000000   \n",
       "...                     ...  ...  ...      ...      ...    ...       ...   \n",
       "1951               0.071429  ...  0.0      0.0      0.0    0.0  0.000000   \n",
       "1952               0.074074  ...  0.0      0.0      0.0    0.0  0.000000   \n",
       "1953               0.020000  ...  0.0      0.0      0.0    0.0  0.000000   \n",
       "1954               0.000000  ...  0.0      0.0      0.0    0.0  0.000000   \n",
       "1955               0.008475  ...  0.0      0.0      0.0    0.0  0.000000   \n",
       "\n",
       "           www  year  years  youtube  zonepa  \n",
       "0     0.349845   0.0    0.0      0.0     0.0  \n",
       "1     0.337444   0.0    0.0      0.0     0.0  \n",
       "2     0.292097   0.0    0.0      0.0     0.0  \n",
       "3     0.000000   0.0    0.0      0.0     0.0  \n",
       "4     0.000000   0.0    0.0      0.0     0.0  \n",
       "...        ...   ...    ...      ...     ...  \n",
       "1951  0.000000   0.0    0.0      0.0     0.0  \n",
       "1952  0.000000   0.0    0.0      0.0     0.0  \n",
       "1953  0.000000   0.0    0.0      0.0     0.0  \n",
       "1954  0.000000   0.0    0.0      0.0     0.0  \n",
       "1955  0.000000   0.0    0.0      0.0     0.0  \n",
       "\n",
       "[1956 rows x 113 columns]"
      ]
     },
     "execution_count": 38,
     "metadata": {},
     "output_type": "execute_result"
    }
   ],
   "source": [
    "X"
   ]
  },
  {
   "cell_type": "code",
   "execution_count": 39,
   "metadata": {
    "ExecuteTime": {
     "end_time": "2022-02-24T23:51:07.113881Z",
     "start_time": "2022-02-24T23:51:07.102277Z"
    }
   },
   "outputs": [
    {
     "data": {
      "text/plain": [
       "(1956, 113)"
      ]
     },
     "execution_count": 39,
     "metadata": {},
     "output_type": "execute_result"
    }
   ],
   "source": [
    "X.shape"
   ]
  },
  {
   "cell_type": "code",
   "execution_count": 40,
   "metadata": {
    "ExecuteTime": {
     "end_time": "2022-02-24T23:51:07.570079Z",
     "start_time": "2022-02-24T23:51:07.565834Z"
    }
   },
   "outputs": [],
   "source": [
    "kb = SelectKBest(k=10, score_func=f_classif)"
   ]
  },
  {
   "cell_type": "code",
   "execution_count": 41,
   "metadata": {
    "ExecuteTime": {
     "end_time": "2022-02-24T23:51:08.112725Z",
     "start_time": "2022-02-24T23:51:08.083084Z"
    }
   },
   "outputs": [
    {
     "name": "stderr",
     "output_type": "stream",
     "text": [
      "/home/jorge/Documents/Diplomado/ambientes/diplo_env/lib/python3.6/site-packages/sklearn/feature_selection/_univariate_selection.py:115: UserWarning: Features [12] are constant.\n",
      "  UserWarning)\n",
      "/home/jorge/Documents/Diplomado/ambientes/diplo_env/lib/python3.6/site-packages/sklearn/feature_selection/_univariate_selection.py:116: RuntimeWarning: invalid value encountered in true_divide\n",
      "  f = msb / msw\n"
     ]
    },
    {
     "data": {
      "text/plain": [
       "SelectKBest()"
      ]
     },
     "execution_count": 41,
     "metadata": {},
     "output_type": "execute_result"
    }
   ],
   "source": [
    "kb.fit(X, y)"
   ]
  },
  {
   "cell_type": "code",
   "execution_count": 42,
   "metadata": {
    "ExecuteTime": {
     "end_time": "2022-02-24T23:51:08.536955Z",
     "start_time": "2022-02-24T23:51:08.532560Z"
    }
   },
   "outputs": [],
   "source": [
    "ls_best = [x for x, y in zip(X.columns, kb.get_support()) if y]"
   ]
  },
  {
   "cell_type": "code",
   "execution_count": 43,
   "metadata": {
    "ExecuteTime": {
     "end_time": "2022-02-24T23:51:09.362518Z",
     "start_time": "2022-02-24T23:51:09.350402Z"
    }
   },
   "outputs": [
    {
     "data": {
      "text/plain": [
       "array([ True, False, False, False, False, False,  True,  True, False,\n",
       "       False, False, False, False, False, False, False, False, False,\n",
       "       False, False, False, False, False,  True,  True,  True, False,\n",
       "       False, False, False, False, False, False, False, False, False,\n",
       "       False, False, False, False, False, False, False, False, False,\n",
       "       False, False, False, False, False, False, False, False, False,\n",
       "       False, False, False, False, False, False, False, False, False,\n",
       "       False, False, False, False, False, False, False, False, False,\n",
       "       False, False, False,  True, False, False, False, False, False,\n",
       "       False,  True, False, False, False,  True, False, False, False,\n",
       "       False, False, False, False, False, False, False, False, False,\n",
       "       False, False, False, False, False, False, False, False, False,\n",
       "       False, False, False,  True, False])"
      ]
     },
     "execution_count": 43,
     "metadata": {},
     "output_type": "execute_result"
    }
   ],
   "source": [
    "kb.get_support()"
   ]
  },
  {
   "cell_type": "code",
   "execution_count": 44,
   "metadata": {
    "ExecuteTime": {
     "end_time": "2022-02-24T23:51:09.953006Z",
     "start_time": "2022-02-24T23:51:09.940449Z"
    }
   },
   "outputs": [
    {
     "data": {
      "text/plain": [
       "['n_caracteres',\n",
       " 'n_words',\n",
       " 'n_letters',\n",
       " 'channel',\n",
       " 'check',\n",
       " 'com',\n",
       " 'please',\n",
       " 'song',\n",
       " 'subscribe',\n",
       " 'youtube']"
      ]
     },
     "execution_count": 44,
     "metadata": {},
     "output_type": "execute_result"
    }
   ],
   "source": [
    "ls_best"
   ]
  },
  {
   "cell_type": "code",
   "execution_count": 45,
   "metadata": {
    "ExecuteTime": {
     "end_time": "2022-02-24T23:51:10.858140Z",
     "start_time": "2022-02-24T23:51:10.849071Z"
    }
   },
   "outputs": [],
   "source": [
    "X = X[ls_best]"
   ]
  },
  {
   "cell_type": "code",
   "execution_count": 46,
   "metadata": {
    "ExecuteTime": {
     "end_time": "2022-02-24T23:51:12.053300Z",
     "start_time": "2022-02-24T23:51:12.040015Z"
    }
   },
   "outputs": [],
   "source": [
    "X_train, X_test, y_train, y_test = train_test_split(X, y)"
   ]
  },
  {
   "cell_type": "code",
   "execution_count": 47,
   "metadata": {
    "ExecuteTime": {
     "end_time": "2022-02-24T23:51:12.489611Z",
     "start_time": "2022-02-24T23:51:12.486078Z"
    }
   },
   "outputs": [],
   "source": [
    "logreg = LogisticRegression()"
   ]
  },
  {
   "cell_type": "code",
   "execution_count": 48,
   "metadata": {
    "ExecuteTime": {
     "end_time": "2022-02-24T23:51:13.183703Z",
     "start_time": "2022-02-24T23:51:13.065867Z"
    }
   },
   "outputs": [
    {
     "name": "stderr",
     "output_type": "stream",
     "text": [
      "/home/jorge/Documents/Diplomado/ambientes/diplo_env/lib/python3.6/site-packages/sklearn/linear_model/_logistic.py:764: ConvergenceWarning: lbfgs failed to converge (status=1):\n",
      "STOP: TOTAL NO. of ITERATIONS REACHED LIMIT.\n",
      "\n",
      "Increase the number of iterations (max_iter) or scale the data as shown in:\n",
      "    https://scikit-learn.org/stable/modules/preprocessing.html\n",
      "Please also refer to the documentation for alternative solver options:\n",
      "    https://scikit-learn.org/stable/modules/linear_model.html#logistic-regression\n",
      "  extra_warning_msg=_LOGISTIC_SOLVER_CONVERGENCE_MSG)\n"
     ]
    },
    {
     "data": {
      "text/plain": [
       "LogisticRegression()"
      ]
     },
     "execution_count": 48,
     "metadata": {},
     "output_type": "execute_result"
    }
   ],
   "source": [
    "logreg.fit(X_train, y_train,)"
   ]
  },
  {
   "cell_type": "code",
   "execution_count": 49,
   "metadata": {
    "ExecuteTime": {
     "end_time": "2022-02-24T23:51:15.875092Z",
     "start_time": "2022-02-24T23:51:15.857043Z"
    }
   },
   "outputs": [
    {
     "data": {
      "text/plain": [
       "0.9202453987730062"
      ]
     },
     "execution_count": 49,
     "metadata": {},
     "output_type": "execute_result"
    }
   ],
   "source": [
    "logreg.score(X_test, y_test)"
   ]
  },
  {
   "cell_type": "code",
   "execution_count": 53,
   "metadata": {
    "ExecuteTime": {
     "end_time": "2022-02-24T23:53:39.542526Z",
     "start_time": "2022-02-24T23:53:39.531574Z"
    }
   },
   "outputs": [],
   "source": [
    "from sklearn.metrics import roc_auc_score,accuracy_score,confusion_matrix,f1_score"
   ]
  },
  {
   "cell_type": "code",
   "execution_count": 50,
   "metadata": {
    "ExecuteTime": {
     "end_time": "2022-02-24T23:51:18.700369Z",
     "start_time": "2022-02-24T23:51:18.689166Z"
    }
   },
   "outputs": [],
   "source": [
    "def metricas(model,Xv,yv): #Mide efectividad de un Modelo Predictivo\n",
    "    print( \" Roc Validate: %.3f\" %roc_auc_score(y_score=model.predict_proba(Xv)[:,1],y_true=yv))\n",
    "    print( \" Acc Validate: %.3f\" %accuracy_score(y_pred=model.predict(Xv),y_true=yv))\n",
    "    print( \" Matrix Conf Validate: \", \"\\n\",confusion_matrix(y_pred=model.predict(Xv),y_true=yv))"
   ]
  },
  {
   "cell_type": "code",
   "execution_count": 51,
   "metadata": {
    "ExecuteTime": {
     "end_time": "2022-02-24T23:51:20.766515Z",
     "start_time": "2022-02-24T23:51:20.741112Z"
    }
   },
   "outputs": [
    {
     "name": "stdout",
     "output_type": "stream",
     "text": [
      " Roc Validate: 0.959\n",
      " Acc Validate: 0.920\n",
      " Matrix Conf Validate:  \n",
      " [[219  13]\n",
      " [ 26 231]]\n"
     ]
    }
   ],
   "source": [
    "metricas(logreg,X_test, y_test)"
   ]
  },
  {
   "cell_type": "code",
   "execution_count": 54,
   "metadata": {
    "ExecuteTime": {
     "end_time": "2022-02-24T23:54:05.676173Z",
     "start_time": "2022-02-24T23:54:05.661505Z"
    }
   },
   "outputs": [
    {
     "data": {
      "text/plain": [
       "0.9221556886227544"
      ]
     },
     "execution_count": 54,
     "metadata": {},
     "output_type": "execute_result"
    }
   ],
   "source": [
    "f1_score(y_test,logreg.predict(X_test))"
   ]
  },
  {
   "cell_type": "code",
   "execution_count": 55,
   "metadata": {
    "ExecuteTime": {
     "end_time": "2022-02-24T23:54:24.821795Z",
     "start_time": "2022-02-24T23:54:24.803336Z"
    }
   },
   "outputs": [
    {
     "data": {
      "text/plain": [
       "0.9182389937106918"
      ]
     },
     "execution_count": 55,
     "metadata": {},
     "output_type": "execute_result"
    }
   ],
   "source": [
    "f1_score(y_test,logreg.predict(X_test),pos_label=0)"
   ]
  },
  {
   "cell_type": "code",
   "execution_count": 58,
   "metadata": {
    "ExecuteTime": {
     "end_time": "2021-08-20T00:56:17.498551Z",
     "start_time": "2021-08-20T00:56:17.474756Z"
    }
   },
   "outputs": [
    {
     "name": "stdout",
     "output_type": "stream",
     "text": [
      " Roc Validate: 0.843\n",
      " Acc Validate: 0.759\n",
      " Matrix Conf Validate:  \n",
      " [[164  64]\n",
      " [ 54 207]]\n"
     ]
    }
   ],
   "source": [
    "metricas(bayes,X_test, y_test)"
   ]
  },
  {
   "cell_type": "code",
   "execution_count": 61,
   "metadata": {
    "ExecuteTime": {
     "end_time": "2021-05-28T01:11:54.559944Z",
     "start_time": "2021-05-28T01:11:54.548684Z"
    }
   },
   "outputs": [
    {
     "data": {
      "text/plain": [
       "['russian',\n",
       " 'dutch',\n",
       " 'README',\n",
       " 'french',\n",
       " 'english',\n",
       " 'norwegian',\n",
       " 'greek',\n",
       " 'italian',\n",
       " 'finnish',\n",
       " 'azerbaijani',\n",
       " 'indonesian',\n",
       " 'romanian',\n",
       " 'turkish',\n",
       " 'danish',\n",
       " 'german',\n",
       " 'nepali',\n",
       " 'portuguese',\n",
       " 'kazakh',\n",
       " 'hungarian',\n",
       " 'arabic',\n",
       " 'spanish',\n",
       " 'swedish']"
      ]
     },
     "execution_count": 61,
     "metadata": {},
     "output_type": "execute_result"
    }
   ],
   "source": [
    "os.listdir('/home/jorge/nltk_data/corpora/stopwords/')"
   ]
  },
  {
   "cell_type": "code",
   "execution_count": null,
   "metadata": {},
   "outputs": [],
   "source": []
  }
 ],
 "metadata": {
  "kernelspec": {
   "display_name": "diplo_env",
   "language": "python",
   "name": "diplo_env"
  },
  "language_info": {
   "codemirror_mode": {
    "name": "ipython",
    "version": 3
   },
   "file_extension": ".py",
   "mimetype": "text/x-python",
   "name": "python",
   "nbconvert_exporter": "python",
   "pygments_lexer": "ipython3",
   "version": "3.6.13"
  },
  "varInspector": {
   "cols": {
    "lenName": 16,
    "lenType": 16,
    "lenVar": 40
   },
   "kernels_config": {
    "python": {
     "delete_cmd_postfix": "",
     "delete_cmd_prefix": "del ",
     "library": "var_list.py",
     "varRefreshCmd": "print(var_dic_list())"
    },
    "r": {
     "delete_cmd_postfix": ") ",
     "delete_cmd_prefix": "rm(",
     "library": "var_list.r",
     "varRefreshCmd": "cat(var_dic_list()) "
    }
   },
   "types_to_exclude": [
    "module",
    "function",
    "builtin_function_or_method",
    "instance",
    "_Feature"
   ],
   "window_display": false
  }
 },
 "nbformat": 4,
 "nbformat_minor": 4
}

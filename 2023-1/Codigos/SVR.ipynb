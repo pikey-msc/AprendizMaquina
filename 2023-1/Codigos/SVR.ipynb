{
 "cells": [
  {
   "cell_type": "code",
   "execution_count": 1,
   "metadata": {
    "ExecuteTime": {
     "end_time": "2022-03-05T16:37:37.757524Z",
     "start_time": "2022-03-05T16:37:37.512539Z"
    }
   },
   "outputs": [],
   "source": [
    "import pandas as pd\n",
    "import numpy as np\n",
    "pd.set_option('display.max_columns',200)"
   ]
  },
  {
   "cell_type": "code",
   "execution_count": 2,
   "metadata": {
    "ExecuteTime": {
     "end_time": "2022-03-05T16:37:39.101183Z",
     "start_time": "2022-03-05T16:37:38.473042Z"
    }
   },
   "outputs": [],
   "source": [
    "import missingno as msno"
   ]
  },
  {
   "cell_type": "code",
   "execution_count": 3,
   "metadata": {
    "ExecuteTime": {
     "end_time": "2022-03-05T16:37:40.415926Z",
     "start_time": "2022-03-05T16:37:40.218841Z"
    }
   },
   "outputs": [],
   "source": [
    "from sklearn.model_selection import train_test_split"
   ]
  },
  {
   "cell_type": "code",
   "execution_count": 4,
   "metadata": {
    "ExecuteTime": {
     "end_time": "2022-03-05T16:37:46.016876Z",
     "start_time": "2022-03-05T16:37:45.995443Z"
    }
   },
   "outputs": [],
   "source": [
    "insurance=pd.read_csv('../data/insurance.csv')"
   ]
  },
  {
   "cell_type": "code",
   "execution_count": 5,
   "metadata": {
    "ExecuteTime": {
     "end_time": "2022-03-05T16:37:57.948714Z",
     "start_time": "2022-03-05T16:37:57.576143Z"
    }
   },
   "outputs": [
    {
     "data": {
      "text/plain": [
       "<AxesSubplot:>"
      ]
     },
     "execution_count": 5,
     "metadata": {},
     "output_type": "execute_result"
    },
    {
     "data": {
      "image/png": "[encoded data removed]",
      "text/plain": [
       "<Figure size 1800x720 with 2 Axes>"
      ]
     },
     "metadata": {
      "needs_background": "light"
     },
     "output_type": "display_data"
    }
   ],
   "source": [
    "msno.matrix(insurance)"
   ]
  },
  {
   "cell_type": "code",
   "execution_count": 6,
   "metadata": {
    "ExecuteTime": {
     "end_time": "2022-03-05T16:38:04.843689Z",
     "start_time": "2022-03-05T16:38:04.825747Z"
    }
   },
   "outputs": [
    {
     "data": {
      "text/html": [
       "<div>\n",
       "<style scoped>\n",
       "    .dataframe tbody tr th:only-of-type {\n",
       "        vertical-align: middle;\n",
       "    }\n",
       "\n",
       "    .dataframe tbody tr th {\n",
       "        vertical-align: top;\n",
       "    }\n",
       "\n",
       "    .dataframe thead th {\n",
       "        text-align: right;\n",
       "    }\n",
       "</style>\n",
       "<table border=\"1\" class=\"dataframe\">\n",
       "  <thead>\n",
       "    <tr style=\"text-align: right;\">\n",
       "      <th></th>\n",
       "      <th>age</th>\n",
       "      <th>sex</th>\n",
       "      <th>bmi</th>\n",
       "      <th>children</th>\n",
       "      <th>smoker</th>\n",
       "      <th>region</th>\n",
       "      <th>charges</th>\n",
       "    </tr>\n",
       "  </thead>\n",
       "  <tbody>\n",
       "    <tr>\n",
       "      <th>0</th>\n",
       "      <td>19</td>\n",
       "      <td>female</td>\n",
       "      <td>27.900</td>\n",
       "      <td>0</td>\n",
       "      <td>yes</td>\n",
       "      <td>southwest</td>\n",
       "      <td>16884.92400</td>\n",
       "    </tr>\n",
       "    <tr>\n",
       "      <th>1</th>\n",
       "      <td>18</td>\n",
       "      <td>male</td>\n",
       "      <td>33.770</td>\n",
       "      <td>1</td>\n",
       "      <td>no</td>\n",
       "      <td>southeast</td>\n",
       "      <td>1725.55230</td>\n",
       "    </tr>\n",
       "    <tr>\n",
       "      <th>2</th>\n",
       "      <td>28</td>\n",
       "      <td>male</td>\n",
       "      <td>33.000</td>\n",
       "      <td>3</td>\n",
       "      <td>no</td>\n",
       "      <td>southeast</td>\n",
       "      <td>4449.46200</td>\n",
       "    </tr>\n",
       "    <tr>\n",
       "      <th>3</th>\n",
       "      <td>33</td>\n",
       "      <td>male</td>\n",
       "      <td>22.705</td>\n",
       "      <td>0</td>\n",
       "      <td>no</td>\n",
       "      <td>northwest</td>\n",
       "      <td>21984.47061</td>\n",
       "    </tr>\n",
       "    <tr>\n",
       "      <th>4</th>\n",
       "      <td>32</td>\n",
       "      <td>male</td>\n",
       "      <td>28.880</td>\n",
       "      <td>0</td>\n",
       "      <td>no</td>\n",
       "      <td>northwest</td>\n",
       "      <td>3866.85520</td>\n",
       "    </tr>\n",
       "  </tbody>\n",
       "</table>\n",
       "</div>"
      ],
      "text/plain": [
       "   age     sex     bmi  children smoker     region      charges\n",
       "0   19  female  27.900         0    yes  southwest  16884.92400\n",
       "1   18    male  33.770         1     no  southeast   1725.55230\n",
       "2   28    male  33.000         3     no  southeast   4449.46200\n",
       "3   33    male  22.705         0     no  northwest  21984.47061\n",
       "4   32    male  28.880         0     no  northwest   3866.85520"
      ]
     },
     "execution_count": 6,
     "metadata": {},
     "output_type": "execute_result"
    }
   ],
   "source": [
    "insurance.head()"
   ]
  },
  {
   "cell_type": "code",
   "execution_count": 7,
   "metadata": {
    "ExecuteTime": {
     "end_time": "2022-03-05T16:38:16.888732Z",
     "start_time": "2022-03-05T16:38:16.815442Z"
    }
   },
   "outputs": [],
   "source": [
    "dumm_insurance=pd.get_dummies(insurance['region'])\n",
    "\n",
    "insurance['sex']=insurance['sex'].map(lambda x: 1 if x=='female' else 0)\n",
    "\n",
    "insurance['smoker']=insurance['smoker'].map(lambda x: 1 if x=='yes' else 0)\n",
    "\n",
    "\n",
    "df_insurance= pd.concat([insurance,dumm_insurance],axis=1)"
   ]
  },
  {
   "cell_type": "code",
   "execution_count": 8,
   "metadata": {
    "ExecuteTime": {
     "end_time": "2022-03-05T16:38:18.435561Z",
     "start_time": "2022-03-05T16:38:18.410586Z"
    }
   },
   "outputs": [
    {
     "data": {
      "text/html": [
       "<div>\n",
       "<style scoped>\n",
       "    .dataframe tbody tr th:only-of-type {\n",
       "        vertical-align: middle;\n",
       "    }\n",
       "\n",
       "    .dataframe tbody tr th {\n",
       "        vertical-align: top;\n",
       "    }\n",
       "\n",
       "    .dataframe thead th {\n",
       "        text-align: right;\n",
       "    }\n",
       "</style>\n",
       "<table border=\"1\" class=\"dataframe\">\n",
       "  <thead>\n",
       "    <tr style=\"text-align: right;\">\n",
       "      <th></th>\n",
       "      <th>age</th>\n",
       "      <th>sex</th>\n",
       "      <th>bmi</th>\n",
       "      <th>children</th>\n",
       "      <th>smoker</th>\n",
       "      <th>region</th>\n",
       "      <th>charges</th>\n",
       "      <th>northeast</th>\n",
       "      <th>northwest</th>\n",
       "      <th>southeast</th>\n",
       "      <th>southwest</th>\n",
       "    </tr>\n",
       "  </thead>\n",
       "  <tbody>\n",
       "    <tr>\n",
       "      <th>0</th>\n",
       "      <td>19</td>\n",
       "      <td>1</td>\n",
       "      <td>27.900</td>\n",
       "      <td>0</td>\n",
       "      <td>1</td>\n",
       "      <td>southwest</td>\n",
       "      <td>16884.92400</td>\n",
       "      <td>0</td>\n",
       "      <td>0</td>\n",
       "      <td>0</td>\n",
       "      <td>1</td>\n",
       "    </tr>\n",
       "    <tr>\n",
       "      <th>1</th>\n",
       "      <td>18</td>\n",
       "      <td>0</td>\n",
       "      <td>33.770</td>\n",
       "      <td>1</td>\n",
       "      <td>0</td>\n",
       "      <td>southeast</td>\n",
       "      <td>1725.55230</td>\n",
       "      <td>0</td>\n",
       "      <td>0</td>\n",
       "      <td>1</td>\n",
       "      <td>0</td>\n",
       "    </tr>\n",
       "    <tr>\n",
       "      <th>2</th>\n",
       "      <td>28</td>\n",
       "      <td>0</td>\n",
       "      <td>33.000</td>\n",
       "      <td>3</td>\n",
       "      <td>0</td>\n",
       "      <td>southeast</td>\n",
       "      <td>4449.46200</td>\n",
       "      <td>0</td>\n",
       "      <td>0</td>\n",
       "      <td>1</td>\n",
       "      <td>0</td>\n",
       "    </tr>\n",
       "    <tr>\n",
       "      <th>3</th>\n",
       "      <td>33</td>\n",
       "      <td>0</td>\n",
       "      <td>22.705</td>\n",
       "      <td>0</td>\n",
       "      <td>0</td>\n",
       "      <td>northwest</td>\n",
       "      <td>21984.47061</td>\n",
       "      <td>0</td>\n",
       "      <td>1</td>\n",
       "      <td>0</td>\n",
       "      <td>0</td>\n",
       "    </tr>\n",
       "    <tr>\n",
       "      <th>4</th>\n",
       "      <td>32</td>\n",
       "      <td>0</td>\n",
       "      <td>28.880</td>\n",
       "      <td>0</td>\n",
       "      <td>0</td>\n",
       "      <td>northwest</td>\n",
       "      <td>3866.85520</td>\n",
       "      <td>0</td>\n",
       "      <td>1</td>\n",
       "      <td>0</td>\n",
       "      <td>0</td>\n",
       "    </tr>\n",
       "  </tbody>\n",
       "</table>\n",
       "</div>"
      ],
      "text/plain": [
       "   age  sex     bmi  children  smoker     region      charges  northeast  \\\n",
       "0   19    1  27.900         0       1  southwest  16884.92400          0   \n",
       "1   18    0  33.770         1       0  southeast   1725.55230          0   \n",
       "2   28    0  33.000         3       0  southeast   4449.46200          0   \n",
       "3   33    0  22.705         0       0  northwest  21984.47061          0   \n",
       "4   32    0  28.880         0       0  northwest   3866.85520          0   \n",
       "\n",
       "   northwest  southeast  southwest  \n",
       "0          0          0          1  \n",
       "1          0          1          0  \n",
       "2          0          1          0  \n",
       "3          1          0          0  \n",
       "4          1          0          0  "
      ]
     },
     "execution_count": 8,
     "metadata": {},
     "output_type": "execute_result"
    }
   ],
   "source": [
    "df_insurance.head()"
   ]
  },
  {
   "cell_type": "code",
   "execution_count": 9,
   "metadata": {
    "ExecuteTime": {
     "end_time": "2022-03-05T16:38:31.721620Z",
     "start_time": "2022-03-05T16:38:31.712928Z"
    }
   },
   "outputs": [],
   "source": [
    "target='charges'\n",
    "\n",
    "cont=[col for col in df_insurance.columns if col not in [target,'region','southwest']]"
   ]
  },
  {
   "cell_type": "code",
   "execution_count": 10,
   "metadata": {
    "ExecuteTime": {
     "end_time": "2022-03-05T16:38:34.838800Z",
     "start_time": "2022-03-05T16:38:34.826886Z"
    }
   },
   "outputs": [],
   "source": [
    "df_insurance=df_insurance[cont+[target]].copy()"
   ]
  },
  {
   "cell_type": "code",
   "execution_count": 11,
   "metadata": {
    "ExecuteTime": {
     "end_time": "2022-03-05T16:38:41.461234Z",
     "start_time": "2022-03-05T16:38:41.443624Z"
    }
   },
   "outputs": [],
   "source": [
    "X_insurance=df_insurance[cont]\n",
    "y_insurance=df_insurance[[target]]"
   ]
  },
  {
   "cell_type": "code",
   "execution_count": 12,
   "metadata": {
    "ExecuteTime": {
     "end_time": "2022-03-05T16:38:48.897312Z",
     "start_time": "2022-03-05T16:38:48.880875Z"
    }
   },
   "outputs": [],
   "source": [
    "X_train_insurance, X_test_insurance, y_train_insurance, y_test_insurance = train_test_split(X_insurance, y_insurance, test_size = 0.1, random_state = 0)"
   ]
  },
  {
   "cell_type": "code",
   "execution_count": 13,
   "metadata": {
    "ExecuteTime": {
     "end_time": "2022-03-05T16:38:49.894688Z",
     "start_time": "2022-03-05T16:38:49.886409Z"
    }
   },
   "outputs": [],
   "source": [
    "from sklearn.preprocessing import StandardScaler,MinMaxScaler"
   ]
  },
  {
   "cell_type": "code",
   "execution_count": 14,
   "metadata": {
    "ExecuteTime": {
     "end_time": "2022-03-05T16:38:55.288263Z",
     "start_time": "2022-03-05T16:38:55.269681Z"
    }
   },
   "outputs": [],
   "source": [
    "sc_X=StandardScaler()\n",
    "\n",
    "X_train_std=sc_X.fit_transform(X_train_insurance)\n",
    "\n",
    "X_test_std=sc_X.transform(X_test_insurance)"
   ]
  },
  {
   "cell_type": "code",
   "execution_count": 16,
   "metadata": {
    "ExecuteTime": {
     "end_time": "2022-03-05T16:39:09.212004Z",
     "start_time": "2022-03-05T16:39:09.112368Z"
    }
   },
   "outputs": [],
   "source": [
    "from sklearn.svm import SVR"
   ]
  },
  {
   "cell_type": "code",
   "execution_count": 17,
   "metadata": {
    "ExecuteTime": {
     "end_time": "2022-03-05T16:39:09.669506Z",
     "start_time": "2022-03-05T16:39:09.569473Z"
    }
   },
   "outputs": [],
   "source": [
    "SVR?"
   ]
  },
  {
   "cell_type": "code",
   "execution_count": 18,
   "metadata": {
    "ExecuteTime": {
     "end_time": "2022-03-05T16:39:52.242800Z",
     "start_time": "2022-03-05T16:39:52.234451Z"
    }
   },
   "outputs": [],
   "source": [
    "svm=SVR(kernel='poly',degree=4)"
   ]
  },
  {
   "cell_type": "code",
   "execution_count": 19,
   "metadata": {
    "ExecuteTime": {
     "end_time": "2022-03-05T16:40:02.055670Z",
     "start_time": "2022-03-05T16:40:01.958597Z"
    }
   },
   "outputs": [
    {
     "name": "stderr",
     "output_type": "stream",
     "text": [
      "/home/jorge/Documents/Diplomado/ambientes/diplo_env/lib/python3.6/site-packages/sklearn/utils/validation.py:72: DataConversionWarning: A column-vector y was passed when a 1d array was expected. Please change the shape of y to (n_samples, ), for example using ravel().\n",
      "  return f(**kwargs)\n"
     ]
    },
    {
     "data": {
      "text/plain": [
       "SVR(degree=4, kernel='poly')"
      ]
     },
     "execution_count": 19,
     "metadata": {},
     "output_type": "execute_result"
    }
   ],
   "source": [
    "svm.fit(X_train_std,y_train_insurance)"
   ]
  },
  {
   "cell_type": "code",
   "execution_count": 20,
   "metadata": {
    "ExecuteTime": {
     "end_time": "2022-03-05T16:40:11.669736Z",
     "start_time": "2022-03-05T16:40:11.654077Z"
    },
    "scrolled": true
   },
   "outputs": [
    {
     "data": {
      "text/plain": [
       "array([9268.53274326, 9270.15638052, 9319.87785086, 9299.26427669,\n",
       "       9285.35383377, 9263.47969433, 9255.88335018, 9288.86161964,\n",
       "       9271.09002762, 9264.71761967, 9262.84203131, 9278.53589479,\n",
       "       9267.44462107, 9265.39971839, 9337.57050778, 9277.15213021,\n",
       "       9290.12442098, 9263.54157719, 9263.49035058, 9368.61678152,\n",
       "       9324.96383104, 9286.92687249, 9288.71254723, 9329.21730669,\n",
       "       9256.65575848, 9269.99421991, 9262.3273502 , 9271.57106928,\n",
       "       9263.91979139, 9269.3896057 , 9272.01067815, 9384.23203411,\n",
       "       9282.95838204, 9275.92699778, 9390.68836874, 9262.5681442 ,\n",
       "       9271.0447105 , 9306.88928225, 9321.44946429, 9266.62765159,\n",
       "       9268.20587084, 9262.76158724, 9347.45729372, 9318.80752126,\n",
       "       9370.89934145, 9261.96411654, 9276.98331434, 9263.03578018,\n",
       "       9263.23930573, 9279.26293873, 9261.12921195, 9266.86908384,\n",
       "       9289.37981945, 9326.81780925, 9295.62693121, 9266.77252742,\n",
       "       9256.5939842 , 9273.62990212, 9260.76059267, 9284.27472248,\n",
       "       9267.29383513, 9334.96213725, 9286.9549498 , 9268.40482375,\n",
       "       9272.80156166, 9272.53480562, 9377.80172956, 9352.73699939,\n",
       "       9268.98226215, 9272.5739103 , 9276.16412241, 9276.6927367 ,\n",
       "       9324.15609925, 9297.89212215, 9302.75647067, 9305.16225365,\n",
       "       9269.72511881, 9268.7471416 , 9337.36262543, 9297.07853923,\n",
       "       9296.00322839, 9377.74878212, 9254.30556291, 9267.40356318,\n",
       "       9328.1448892 , 9344.75368155, 9266.29023947, 9255.18689378,\n",
       "       9270.39053032, 9304.84547632, 9275.10178211, 9270.90311146,\n",
       "       9267.03490002, 9269.83049763, 9269.39231212, 9266.00259556,\n",
       "       9339.69308903, 9293.37256746, 9264.10025726, 9281.35125517,\n",
       "       9258.18360393, 9263.57623219, 9263.38804965, 9356.88404832,\n",
       "       9342.64479513, 9253.47104613, 9273.35327512, 9256.29630504,\n",
       "       9300.13106817, 9296.26253009, 9285.08572497, 9250.69243807,\n",
       "       9275.42938319, 9372.64132143, 9388.20533796, 9262.75388345,\n",
       "       9267.33473616, 9269.2665372 , 9275.50616709, 9269.11580015,\n",
       "       9366.54090551, 9287.49027476, 9287.40433961, 9270.06118818,\n",
       "       9267.67599838, 9260.9160838 , 9331.25101734, 9329.46651969,\n",
       "       9304.24322132, 9258.04778213, 9269.52955289, 9259.3559189 ,\n",
       "       9264.8719396 , 9284.89110523])"
      ]
     },
     "execution_count": 20,
     "metadata": {},
     "output_type": "execute_result"
    }
   ],
   "source": [
    "svm.predict(X_test_std)\n"
   ]
  },
  {
   "cell_type": "code",
   "execution_count": 34,
   "metadata": {
    "ExecuteTime": {
     "end_time": "2021-08-12T20:45:26.050042Z",
     "start_time": "2021-08-12T20:45:25.926960Z"
    }
   },
   "outputs": [],
   "source": [
    "SVR?"
   ]
  },
  {
   "cell_type": "code",
   "execution_count": 21,
   "metadata": {
    "ExecuteTime": {
     "end_time": "2022-03-05T16:40:37.784475Z",
     "start_time": "2022-03-05T16:40:37.778434Z"
    }
   },
   "outputs": [],
   "source": [
    "param_grid = {\"C\": [x for x in range(10)],\n",
    "              \"kernel\": ['linear', 'poly', 'rbf', 'sigmoid']}"
   ]
  },
  {
   "cell_type": "code",
   "execution_count": 22,
   "metadata": {
    "ExecuteTime": {
     "end_time": "2022-03-05T16:40:51.954684Z",
     "start_time": "2022-03-05T16:40:51.945711Z"
    }
   },
   "outputs": [],
   "source": [
    "from sklearn.model_selection import RandomizedSearchCV"
   ]
  },
  {
   "cell_type": "code",
   "execution_count": 23,
   "metadata": {
    "ExecuteTime": {
     "end_time": "2022-03-05T16:41:12.601141Z",
     "start_time": "2022-03-05T16:41:12.593599Z"
    }
   },
   "outputs": [],
   "source": [
    "gs = RandomizedSearchCV(svm, param_grid, cv=4, error_score=-1000, n_jobs=-1, scoring=\"r2\", verbose=5)"
   ]
  },
  {
   "cell_type": "code",
   "execution_count": 24,
   "metadata": {
    "ExecuteTime": {
     "end_time": "2022-03-05T16:41:25.231641Z",
     "start_time": "2022-03-05T16:41:21.495574Z"
    }
   },
   "outputs": [
    {
     "name": "stdout",
     "output_type": "stream",
     "text": [
      "Fitting 4 folds for each of 10 candidates, totalling 40 fits\n"
     ]
    },
    {
     "name": "stderr",
     "output_type": "stream",
     "text": [
      "[Parallel(n_jobs=-1)]: Using backend LokyBackend with 8 concurrent workers.\n",
      "[Parallel(n_jobs=-1)]: Done   2 tasks      | elapsed:    2.5s\n",
      "[Parallel(n_jobs=-1)]: Done  34 out of  40 | elapsed:    3.4s remaining:    0.6s\n",
      "[Parallel(n_jobs=-1)]: Done  40 out of  40 | elapsed:    3.5s finished\n",
      "/home/jorge/Documents/Diplomado/ambientes/diplo_env/lib/python3.6/site-packages/sklearn/utils/validation.py:72: DataConversionWarning: A column-vector y was passed when a 1d array was expected. Please change the shape of y to (n_samples, ), for example using ravel().\n",
      "  return f(**kwargs)\n"
     ]
    },
    {
     "data": {
      "text/plain": [
       "RandomizedSearchCV(cv=4, error_score=-1000,\n",
       "                   estimator=SVR(degree=4, kernel='poly'), n_jobs=-1,\n",
       "                   param_distributions={'C': [0, 1, 2, 3, 4, 5, 6, 7, 8, 9],\n",
       "                                        'kernel': ['linear', 'poly', 'rbf',\n",
       "                                                   'sigmoid']},\n",
       "                   scoring='r2', verbose=5)"
      ]
     },
     "execution_count": 24,
     "metadata": {},
     "output_type": "execute_result"
    }
   ],
   "source": [
    "gs.fit(X_train_insurance, y_train_insurance)"
   ]
  },
  {
   "cell_type": "code",
   "execution_count": 25,
   "metadata": {
    "ExecuteTime": {
     "end_time": "2022-03-05T16:42:45.735992Z",
     "start_time": "2022-03-05T16:42:45.716526Z"
    }
   },
   "outputs": [],
   "source": [
    "svr_gs=gs.best_estimator_"
   ]
  },
  {
   "cell_type": "code",
   "execution_count": 26,
   "metadata": {
    "ExecuteTime": {
     "end_time": "2022-03-05T16:42:47.643484Z",
     "start_time": "2022-03-05T16:42:47.625562Z"
    }
   },
   "outputs": [
    {
     "data": {
      "text/plain": [
       "SVR(C=9, degree=4, kernel='linear')"
      ]
     },
     "execution_count": 26,
     "metadata": {},
     "output_type": "execute_result"
    }
   ],
   "source": [
    "svr_gs"
   ]
  },
  {
   "cell_type": "code",
   "execution_count": 27,
   "metadata": {
    "ExecuteTime": {
     "end_time": "2022-03-05T16:42:55.556174Z",
     "start_time": "2022-03-05T16:42:55.550207Z"
    }
   },
   "outputs": [
    {
     "data": {
      "text/plain": [
       "-0.04207520788352348"
      ]
     },
     "execution_count": 27,
     "metadata": {},
     "output_type": "execute_result"
    }
   ],
   "source": [
    "gs.best_score_"
   ]
  },
  {
   "cell_type": "code",
   "execution_count": 28,
   "metadata": {
    "ExecuteTime": {
     "end_time": "2022-03-05T16:43:20.186291Z",
     "start_time": "2022-03-05T16:43:20.179570Z"
    }
   },
   "outputs": [],
   "source": [
    "from sklearn.metrics import r2_score,mean_absolute_error,mean_squared_error"
   ]
  },
  {
   "cell_type": "code",
   "execution_count": 29,
   "metadata": {
    "ExecuteTime": {
     "end_time": "2022-03-05T16:43:25.153184Z",
     "start_time": "2022-03-05T16:43:25.142072Z"
    }
   },
   "outputs": [],
   "source": [
    "def metricas_regresion(y_true,y_pred):\n",
    "    r2=r2_score(y_true,y_pred)\n",
    "    mae=mean_absolute_error(y_true,y_pred)\n",
    "    mse=mean_squared_error(y_true,y_pred)\n",
    "    print(f'El r2 score es {r2}')\n",
    "    print(f'El error cuadrático medio es {mse}')\n",
    "    print(f'El error medio absoluto es {mae}')"
   ]
  },
  {
   "cell_type": "code",
   "execution_count": 30,
   "metadata": {
    "ExecuteTime": {
     "end_time": "2022-03-05T16:43:37.876825Z",
     "start_time": "2022-03-05T16:43:37.865077Z"
    }
   },
   "outputs": [
    {
     "name": "stdout",
     "output_type": "stream",
     "text": [
      "El r2 score es -0.20214245605565395\n",
      "El error cuadrático medio es 233099564.67059076\n",
      "El error medio absoluto es 9925.755074106157\n"
     ]
    }
   ],
   "source": [
    "metricas_regresion(y_test_insurance,svm.predict(X_test_std))"
   ]
  },
  {
   "cell_type": "code",
   "execution_count": 31,
   "metadata": {
    "ExecuteTime": {
     "end_time": "2022-03-05T16:44:53.059952Z",
     "start_time": "2022-03-05T16:44:52.995092Z"
    }
   },
   "outputs": [
    {
     "name": "stdout",
     "output_type": "stream",
     "text": [
      "El r2 score es -1.5765226639501013\n",
      "El error cuadrático medio es 499596622.9337423\n",
      "El error medio absoluto es 18880.846951507545\n"
     ]
    }
   ],
   "source": [
    "metricas_regresion(y_test_insurance,svr_gs.predict(X_test_std))"
   ]
  },
  {
   "cell_type": "code",
   "execution_count": 32,
   "metadata": {
    "ExecuteTime": {
     "end_time": "2022-03-05T16:45:16.325578Z",
     "start_time": "2022-03-05T16:45:16.313075Z"
    }
   },
   "outputs": [],
   "source": [
    "from sklearn.kernel_ridge import KernelRidge"
   ]
  },
  {
   "cell_type": "code",
   "execution_count": 33,
   "metadata": {
    "ExecuteTime": {
     "end_time": "2022-03-05T16:45:18.159036Z",
     "start_time": "2022-03-05T16:45:18.156191Z"
    }
   },
   "outputs": [],
   "source": [
    "Krr=KernelRidge()"
   ]
  },
  {
   "cell_type": "code",
   "execution_count": 34,
   "metadata": {
    "ExecuteTime": {
     "end_time": "2022-03-05T16:45:19.329992Z",
     "start_time": "2022-03-05T16:45:19.151383Z"
    }
   },
   "outputs": [
    {
     "data": {
      "text/plain": [
       "KernelRidge()"
      ]
     },
     "execution_count": 34,
     "metadata": {},
     "output_type": "execute_result"
    }
   ],
   "source": [
    "Krr.fit(X_train_std,y_train_insurance)"
   ]
  },
  {
   "cell_type": "code",
   "execution_count": 35,
   "metadata": {
    "ExecuteTime": {
     "end_time": "2022-03-05T16:45:20.631203Z",
     "start_time": "2022-03-05T16:45:20.591482Z"
    }
   },
   "outputs": [
    {
     "data": {
      "text/plain": [
       "array([[ -1992.44440642],\n",
       "       [ -3505.4188538 ],\n",
       "       [ 24924.57043648],\n",
       "       [  3094.8076142 ],\n",
       "       [ -5981.35364576],\n",
       "       [ -8784.85522794],\n",
       "       [-11173.9416308 ],\n",
       "       [  1351.2483404 ],\n",
       "       [ -3946.29457519],\n",
       "       [ -5499.88997521],\n",
       "       [ -8119.37173255],\n",
       "       [ -2662.53523666],\n",
       "       [ -4310.52942206],\n",
       "       [ -9153.51533888],\n",
       "       [ 14769.44471125],\n",
       "       [ -2219.81724749],\n",
       "       [ -1724.48466334],\n",
       "       [ -6741.7594477 ],\n",
       "       [ -4772.76692685],\n",
       "       [ 14186.71835175],\n",
       "       [ 20562.92785955],\n",
       "       [  1325.06812869],\n",
       "       [ -1082.73327191],\n",
       "       [ 19028.58854278],\n",
       "       [ -8925.57862192],\n",
       "       [ -3648.85454608],\n",
       "       [-11572.40093746],\n",
       "       [ -3180.45524418],\n",
       "       [ -9195.60639003],\n",
       "       [ -2598.98058404],\n",
       "       [ -3933.43142304],\n",
       "       [ 26790.87338898],\n",
       "       [  2418.82714993],\n",
       "       [   613.63708891],\n",
       "       [ 11957.11514163],\n",
       "       [ -7610.52387642],\n",
       "       [  -499.96079176],\n",
       "       [ 17436.69343188],\n",
       "       [ 20427.31966083],\n",
       "       [ -9490.40790991],\n",
       "       [ -8713.44625298],\n",
       "       [ -9046.18235035],\n",
       "       [ 17610.0471117 ],\n",
       "       [ 26284.65638612],\n",
       "       [ 14613.77011498],\n",
       "       [ -7908.7250137 ],\n",
       "       [ -2326.98621048],\n",
       "       [ -5175.5987686 ],\n",
       "       [ -9094.76934247],\n",
       "       [ -2723.39579543],\n",
       "       [ -7131.06649919],\n",
       "       [ -9498.3886454 ],\n",
       "       [ 19773.65509987],\n",
       "       [ 25541.14890105],\n",
       "       [  2893.28632174],\n",
       "       [ -5738.2775681 ],\n",
       "       [ -7376.75402544],\n",
       "       [ -3578.19735159],\n",
       "       [ -3989.60975744],\n",
       "       [ -1265.07484611],\n",
       "       [-11296.06907126],\n",
       "       [ 25782.53903044],\n",
       "       [  1861.62082836],\n",
       "       [ -1357.54017004],\n",
       "       [  1225.9639508 ],\n",
       "       [   833.07270065],\n",
       "       [ 12665.0899778 ],\n",
       "       [ 19073.45755657],\n",
       "       [-12059.54077762],\n",
       "       [ -2822.97899186],\n",
       "       [  -763.61275898],\n",
       "       [ -1495.91406238],\n",
       "       [ 11996.05870859],\n",
       "       [  2516.25361618],\n",
       "       [ -1758.49385402],\n",
       "       [  -136.58219955],\n",
       "       [ -6536.88391899],\n",
       "       [ -3435.61384358],\n",
       "       [ 17343.84782049],\n",
       "       [ 25761.30118622],\n",
       "       [  -748.49025597],\n",
       "       [ 23981.3477009 ],\n",
       "       [ -8817.95555254],\n",
       "       [ -3765.15902411],\n",
       "       [ 21859.08711515],\n",
       "       [ 15775.04934819],\n",
       "       [ -4556.26307738],\n",
       "       [ -8144.34415381],\n",
       "       [ -1096.56675863],\n",
       "       [ 17126.5436288 ],\n",
       "       [ -2733.19243115],\n",
       "       [ -1789.54571748],\n",
       "       [ -4526.66296933],\n",
       "       [ -4052.62075462],\n",
       "       [ -4465.6212651 ],\n",
       "       [ -5472.26066423],\n",
       "       [ 23050.29144019],\n",
       "       [ 19934.54488881],\n",
       "       [ -5345.4238887 ],\n",
       "       [  1841.14533419],\n",
       "       [ -9065.28654083],\n",
       "       [ -4257.78641901],\n",
       "       [ -6678.80440601],\n",
       "       [ 18327.72758051],\n",
       "       [ 19884.64500135],\n",
       "       [-10948.5721731 ],\n",
       "       [ -4069.38535181],\n",
       "       [ -6376.09326487],\n",
       "       [  1673.96076644],\n",
       "       [ 23912.00590707],\n",
       "       [ -2732.72919606],\n",
       "       [ -2587.11559645],\n",
       "       [ -2764.58815209],\n",
       "       [ 14019.59684378],\n",
       "       [ 26605.89038718],\n",
       "       [ -4297.49247227],\n",
       "       [-12759.26901174],\n",
       "       [ -4127.46007428],\n",
       "       [  2021.07580101],\n",
       "       [ -3428.90937959],\n",
       "       [ 21978.79347714],\n",
       "       [ -5635.55368688],\n",
       "       [  3730.79806008],\n",
       "       [ -3205.67313123],\n",
       "       [ -4836.69511659],\n",
       "       [ -9924.334373  ],\n",
       "       [ 20061.40730131],\n",
       "       [ 18426.42476398],\n",
       "       [ 26217.76238348],\n",
       "       [ -7528.61693977],\n",
       "       [ -3662.85192208],\n",
       "       [ -9479.14858623],\n",
       "       [ -5355.94751031],\n",
       "       [ -4140.32277362]])"
      ]
     },
     "execution_count": 35,
     "metadata": {},
     "output_type": "execute_result"
    }
   ],
   "source": [
    "Krr.predict(X_test_std)"
   ]
  },
  {
   "cell_type": "code",
   "execution_count": 36,
   "metadata": {
    "ExecuteTime": {
     "end_time": "2022-03-05T16:45:35.474033Z",
     "start_time": "2022-03-05T16:45:35.434867Z"
    }
   },
   "outputs": [
    {
     "name": "stdout",
     "output_type": "stream",
     "text": [
      "El r2 score es -0.12535410930994417\n",
      "El error cuadrático medio es 218210039.63299346\n",
      "El error medio absoluto es 13561.310368175004\n"
     ]
    }
   ],
   "source": [
    "metricas_regresion(y_test_insurance,Krr.predict(X_test_std))"
   ]
  },
  {
   "cell_type": "code",
   "execution_count": null,
   "metadata": {},
   "outputs": [],
   "source": []
  }
 ],
 "metadata": {
  "kernelspec": {
   "display_name": "diplo_env",
   "language": "python",
   "name": "diplo_env"
  },
  "language_info": {
   "codemirror_mode": {
    "name": "ipython",
    "version": 3
   },
   "file_extension": ".py",
   "mimetype": "text/x-python",
   "name": "python",
   "nbconvert_exporter": "python",
   "pygments_lexer": "ipython3",
   "version": "3.6.13"
  },
  "varInspector": {
   "cols": {
    "lenName": 16,
    "lenType": 16,
    "lenVar": 40
   },
   "kernels_config": {
    "python": {
     "delete_cmd_postfix": "",
     "delete_cmd_prefix": "del ",
     "library": "var_list.py",
     "varRefreshCmd": "print(var_dic_list())"
    },
    "r": {
     "delete_cmd_postfix": ") ",
     "delete_cmd_prefix": "rm(",
     "library": "var_list.r",
     "varRefreshCmd": "cat(var_dic_list()) "
    }
   },
   "types_to_exclude": [
    "module",
    "function",
    "builtin_function_or_method",
    "instance",
    "_Feature"
   ],
   "window_display": false
  }
 },
 "nbformat": 4,
 "nbformat_minor": 4
}
